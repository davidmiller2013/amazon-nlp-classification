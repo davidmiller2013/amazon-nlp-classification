{
 "cells": [
  {
   "cell_type": "markdown",
   "id": "0e88e573",
   "metadata": {},
   "source": [
    "## Data investigation II"
   ]
  },
  {
   "cell_type": "markdown",
   "id": "d5024090",
   "metadata": {},
   "source": [
    "Data description: https://s3.amazonaws.com/amazon-reviews-pds/readme.html  \n",
    "Data dictionary and download: https://s3.amazonaws.com/amazon-reviews-pds/tsv/index.txt"
   ]
  },
  {
   "cell_type": "code",
   "execution_count": null,
   "id": "103ad6b6",
   "metadata": {},
   "outputs": [],
   "source": [
    "import json\n",
    "import numpy as np\n",
    "import pandas as pd\n",
    "from scipy.stats import chi2_contingency, norm, skew, kurtosis\n",
    "\n",
    "%matplotlib inline\n",
    "import matplotlib.pyplot as plt\n",
    "import seaborn as sns\n",
    "\n",
    "import warnings\n",
    "\n",
    "warnings.simplefilter(\"ignore\", UserWarning)\n",
    "warnings.simplefilter(\"ignore\", FutureWarning)\n",
    "warnings.simplefilter(\"ignore\", DeprecationWarning)"
   ]
  },
  {
   "cell_type": "code",
   "execution_count": null,
   "id": "81621552",
   "metadata": {},
   "outputs": [],
   "source": [
    "sample = pd.read_csv(\"data/sample_us.tsv\", sep='\\t')\n",
    "sample.info()"
   ]
  },
  {
   "cell_type": "markdown",
   "id": "d7312639",
   "metadata": {},
   "source": [
    "__DATA COLUMNS:__  \n",
    "__marketplace__       - 2 letter country code of the marketplace where the review was written.  \n",
    "__customer_id__       - Random identifier that can be used to aggregate reviews written by a single author.  \n",
    "__review_id__         - The unique ID of the review.  \n",
    "__product_id__        - The unique Product ID the review pertains to. In the multilingual dataset the reviews for the same product in different countries can be grouped by the same product_id.  \n",
    "__product_parent__    - Random identifier that can be used to aggregate reviews for the same product.  \n",
    "__product_title__     - Title of the product.  \n",
    "__product_category__  - Broad product category that can be used to group reviews (also used to group the dataset into coherent parts).  \n",
    "__star_rating__       - The 1-5 star rating of the review.  \n",
    "__helpful_votes__     - Number of helpful votes.  \n",
    "__total_votes__       - Number of total votes the review received.  \n",
    "__vine__              - Review was written as part of the Vine program.  \n",
    "__verified_purchase__ - The review is on a verified purchase.  \n",
    "__review_headline__   - The title of the review.  \n",
    "__review_body__       - The review text.  \n",
    "__review_date__       - The date the review was written.  "
   ]
  },
  {
   "cell_type": "code",
   "execution_count": null,
   "id": "b718988a",
   "metadata": {},
   "outputs": [],
   "source": [
    "sample['useful'] = sample['helpful_votes'] / sample['total_votes']\n",
    "sample['useful'] = sample['useful'].fillna(0)"
   ]
  },
  {
   "cell_type": "code",
   "execution_count": null,
   "id": "cc5bd315",
   "metadata": {},
   "outputs": [],
   "source": [
    "sns.lmplot(x='total_votes', y='useful', data=sample, hue='product_category', fit_reg=False)\\\n",
    "   .set(title='')\n",
    "\n",
    "plt.show()"
   ]
  },
  {
   "cell_type": "code",
   "execution_count": null,
   "id": "a1d52624",
   "metadata": {},
   "outputs": [],
   "source": [
    "sample"
   ]
  },
  {
   "cell_type": "code",
   "execution_count": null,
   "id": "59c91874",
   "metadata": {},
   "outputs": [],
   "source": []
  }
 ],
 "metadata": {
  "kernelspec": {
   "display_name": "Python 3 (ipykernel)",
   "language": "python",
   "name": "python3"
  },
  "language_info": {
   "codemirror_mode": {
    "name": "ipython",
    "version": 3
   },
   "file_extension": ".py",
   "mimetype": "text/x-python",
   "name": "python",
   "nbconvert_exporter": "python",
   "pygments_lexer": "ipython3",
   "version": "3.8.8"
  }
 },
 "nbformat": 4,
 "nbformat_minor": 5
}
