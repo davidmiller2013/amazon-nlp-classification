{
 "cells": [
  {
   "cell_type": "markdown",
   "id": "d6561851",
   "metadata": {
    "id": "c4693fae"
   },
   "source": [
    "### X.X Bi-directional LSTM"
   ]
  },
  {
   "cell_type": "code",
   "execution_count": 136,
   "id": "3a332016",
   "metadata": {
    "colab": {
     "base_uri": "https://localhost:8080/"
    },
    "id": "3a332016",
    "outputId": "273cc6e7-cbad-48f8-cbe6-35f64300b46d"
   },
   "outputs": [
    {
     "data": {
      "text/plain": [
       "(248, 2)"
      ]
     },
     "execution_count": 136,
     "metadata": {},
     "output_type": "execute_result"
    }
   ],
   "source": [
    "y_test.shape"
   ]
  },
  {
   "cell_type": "code",
   "execution_count": 137,
   "id": "e6556cac",
   "metadata": {
    "colab": {
     "base_uri": "https://localhost:8080/"
    },
    "id": "e6556cac",
    "outputId": "ac00fb26-260f-4130-e1c7-cf5a6df9bee9"
   },
   "outputs": [
    {
     "name": "stdout",
     "output_type": "stream",
     "text": [
      "Model: \"sequential_15\"\n",
      "_________________________________________________________________\n",
      " Layer (type)                Output Shape              Param #   \n",
      "=================================================================\n",
      " embedding_15 (Embedding)    (None, 512, 256)          1024000   \n",
      "                                                                 \n",
      " bidirectional_2 (Bidirectio  (None, 128)              164352    \n",
      " nal)                                                            \n",
      "                                                                 \n",
      " dense_28 (Dense)            (None, 2)                 258       \n",
      "                                                                 \n",
      "=================================================================\n",
      "Total params: 1,188,610\n",
      "Trainable params: 1,188,610\n",
      "Non-trainable params: 0\n",
      "_________________________________________________________________\n"
     ]
    }
   ],
   "source": [
    "# Build model\n",
    "lstm_model = Sequential()\n",
    "lstm_model.add(Embedding(input_dim=num_words, output_dim=output_dim, input_length=num_len))\n",
    "lstm_model.add(Bidirectional(LSTM(64, dropout=dropout_rate)))\n",
    "lstm_model.add(Dense(2, activation='softmax'))\n",
    "lstm_model.compile(optimizer=opt, loss=loss_func, metrics=metrics)\n",
    "lstm_model.summary()"
   ]
  },
  {
   "cell_type": "code",
   "execution_count": 138,
   "id": "_LMuy-3QVWqh",
   "metadata": {
    "colab": {
     "base_uri": "https://localhost:8080/"
    },
    "id": "_LMuy-3QVWqh",
    "outputId": "c903575e-ef56-42e1-aa07-809170a216cd"
   },
   "outputs": [
    {
     "name": "stdout",
     "output_type": "stream",
     "text": [
      "Epoch 1/10\n",
      "2/2 - 14s - loss: 0.6939 - accuracy: 0.4299 - val_loss: 0.6870 - val_accuracy: 0.5685 - 14s/epoch - 7s/step\n",
      "Epoch 2/10\n",
      "2/2 - 9s - loss: 0.6795 - accuracy: 0.5930 - val_loss: 0.6821 - val_accuracy: 0.5685 - 9s/epoch - 4s/step\n",
      "Epoch 3/10\n",
      "2/2 - 9s - loss: 0.6701 - accuracy: 0.5930 - val_loss: 0.6807 - val_accuracy: 0.5685 - 9s/epoch - 4s/step\n",
      "Epoch 4/10\n",
      "2/2 - 9s - loss: 0.6613 - accuracy: 0.5930 - val_loss: 0.6796 - val_accuracy: 0.5685 - 9s/epoch - 5s/step\n",
      "Epoch 5/10\n",
      "2/2 - 9s - loss: 0.6531 - accuracy: 0.5930 - val_loss: 0.6745 - val_accuracy: 0.5685 - 9s/epoch - 5s/step\n",
      "Epoch 6/10\n",
      "2/2 - 9s - loss: 0.6393 - accuracy: 0.6173 - val_loss: 0.6663 - val_accuracy: 0.6250 - 9s/epoch - 5s/step\n",
      "Epoch 7/10\n",
      "2/2 - 9s - loss: 0.6255 - accuracy: 0.6712 - val_loss: 0.6684 - val_accuracy: 0.5927 - 9s/epoch - 5s/step\n",
      "Epoch 8/10\n",
      "2/2 - 10s - loss: 0.6179 - accuracy: 0.6469 - val_loss: 0.6684 - val_accuracy: 0.6008 - 10s/epoch - 5s/step\n",
      "Epoch 9/10\n",
      "2/2 - 9s - loss: 0.6006 - accuracy: 0.6604 - val_loss: 0.6686 - val_accuracy: 0.6129 - 9s/epoch - 5s/step\n",
      "Epoch 10/10\n",
      "2/2 - 10s - loss: 0.5829 - accuracy: 0.6887 - val_loss: 0.6737 - val_accuracy: 0.6048 - 10s/epoch - 5s/step\n"
     ]
    },
    {
     "data": {
      "text/plain": [
       "<keras.callbacks.History at 0x7f9ee1592c70>"
      ]
     },
     "execution_count": 138,
     "metadata": {},
     "output_type": "execute_result"
    }
   ],
   "source": [
    "# Fit model\n",
    "lstm_model.fit(X_train,\n",
    "               y_train,\n",
    "               validation_data=(X_dev, y_dev),\n",
    "               epochs=epochs,\n",
    "               batch_size=batch_size,\n",
    "               verbose=2\n",
    "              )"
   ]
  },
  {
   "cell_type": "code",
   "execution_count": 139,
   "id": "e7d45011",
   "metadata": {
    "colab": {
     "base_uri": "https://localhost:8080/",
     "height": 295
    },
    "id": "e7d45011",
    "outputId": "0be5ec75-2777-4aa6-b7db-5060153201e9"
   },
   "outputs": [
    {
     "data": {
      "image/png": "[encoded data removed]",
      "text/plain": [
       "<Figure size 432x288 with 2 Axes>"
      ]
     },
     "metadata": {
      "needs_background": "light"
     },
     "output_type": "display_data"
    }
   ],
   "source": [
    "# Plot confusion matrix of training data\n",
    "y_true = y_train.argmax(axis=1)\n",
    "y_pred = np.argmax(lstm_model.predict(X_train), axis=1)\n",
    "\n",
    "ConfusionMatrixDisplay.from_predictions(y_true,\n",
    "                                        y_pred,\n",
    "                                        normalize='all',\n",
    "                                        display_labels=sentiment\n",
    "                                       )\n",
    "\n",
    "plt.title(\"Confusion Matrix of Review Usefulness\")\n",
    "plt.show()"
   ]
  },
  {
   "cell_type": "code",
   "execution_count": 140,
   "id": "900972ac",
   "metadata": {
    "colab": {
     "base_uri": "https://localhost:8080/",
     "height": 295
    },
    "id": "e7d45011",
    "outputId": "0be5ec75-2777-4aa6-b7db-5060153201e9"
   },
   "outputs": [
    {
     "data": {
      "image/png": "[encoded data removed]",
      "text/plain": [
       "<Figure size 432x288 with 2 Axes>"
      ]
     },
     "metadata": {
      "needs_background": "light"
     },
     "output_type": "display_data"
    }
   ],
   "source": [
    "# Plot confusion matrix of test data\n",
    "y_true = y_test.argmax(axis=1)\n",
    "y_pred = np.argmax(lstm_model.predict(X_test), axis=1)\n",
    "\n",
    "ConfusionMatrixDisplay.from_predictions(y_true,\n",
    "                                        y_pred,\n",
    "                                        normalize='all',\n",
    "                                        display_labels=sentiment\n",
    "                                       )\n",
    "\n",
    "plt.title(\"Confusion Matrix of Review Usefulness\")\n",
    "plt.show()"
   ]
  },
  {
   "cell_type": "code",
   "execution_count": 141,
   "id": "8d2af57c",
   "metadata": {
    "colab": {
     "base_uri": "https://localhost:8080/"
    },
    "id": "8d2af57c",
    "outputId": "36dda4ac-49fd-40c3-c9dd-6204028b4118"
   },
   "outputs": [
    {
     "name": "stdout",
     "output_type": "stream",
     "text": [
      "              precision    recall  f1-score   support\n",
      "\n",
      "           0       0.58      0.40      0.48        97\n",
      "           1       0.68      0.81      0.74       151\n",
      "\n",
      "    accuracy                           0.65       248\n",
      "   macro avg       0.63      0.61      0.61       248\n",
      "weighted avg       0.64      0.65      0.64       248\n",
      "\n"
     ]
    }
   ],
   "source": [
    "print(classification_report(y_true, y_pred))"
   ]
  },
  {
   "cell_type": "code",
   "execution_count": 142,
   "id": "SdXwudLqCtyE",
   "metadata": {
    "colab": {
     "base_uri": "https://localhost:8080/",
     "height": 798
    },
    "id": "SdXwudLqCtyE",
    "outputId": "245ee9a7-968f-457c-f482-7b6d4743976b"
   },
   "outputs": [
    {
     "name": "stdout",
     "output_type": "stream",
     "text": [
      "8/8 [==============================] - 1s 110ms/step - loss: 0.6631 - accuracy: 0.6532\n",
      "Model performance metrics on test data\n",
      "Accuracy: 0.6532\n",
      "Loss: 0.6631\n",
      "Precision: 0.6414\n",
      "Recall: 0.6532\n",
      "F1-score: 0.6372\n"
     ]
    }
   ],
   "source": [
    "# Evaluate model\n",
    "loss, acc = lstm_model.evaluate(X_test, y_test, verbose=1)\n",
    "precision, recall, f1, support = precision_recall_fscore_support(y_true, y_pred, average='weighted')\n",
    "print(\"Model performance metrics on test data\")\n",
    "print(\"Accuracy: {:.4f}\\nLoss: {:.4f}\\nPrecision: {:.4f}\\nRecall: {:.4f}\\nF1-score: {:.4f}\".format(acc, loss, precision, recall, f1))"
   ]
  },
  {
   "cell_type": "code",
   "execution_count": null,
   "id": "b359c7e2",
   "metadata": {},
   "outputs": [],
   "source": [
    "## X.X Explanation transfer learning\n",
    "\n",
    "# from transformers.models.t5 import T5Model\n",
    "from transformers import TFT5Model\n",
    "\n",
    "model_args = {\n",
    "    \"reprocess_input_data\": True,\n",
    "    \"overwrite_output_dir\": True,\n",
    "    \"max_seq_length\": 128,\n",
    "    \"train_batch_size\": 8,\n",
    "    \"num_train_epochs\": 1,\n",
    "    \"save_eval_checkpoints\": True,\n",
    "    \"save_steps\": -1,\n",
    "    \"use_multiprocessing\": False,\n",
    "    \"evaluate_during_training\": True,\n",
    "    \"evaluate_during_training_steps\": 15000,\n",
    "    \"evaluate_during_training_verbose\": True,\n",
    "    \"fp16\": False,\n",
    "\n",
    "    \"wandb_project\": \"Question Generation with T5\",\n",
    "}\n",
    "\n",
    "model = TFT5Model.from_pretrained(\"t5-small\")\n",
    "\n",
    "### X.X Pre-trained sentiment span extraction model\n",
    "\n",
    "https://huggingface.co/mrm8488/t5-base-finetuned-span-sentiment-extraction\n",
    "\n",
    "example = review_samples.iloc[2]['reviewText']\n",
    "\n",
    "from transformers import AutoModelWithLMHead, AutoTokenizer\n",
    "\n",
    "tokenizer = AutoTokenizer.from_pretrained(\"mrm8488/t5-base-finetuned-span-sentiment-extraction\")\n",
    "model = AutoModelWithLMHead.from_pretrained(\"mrm8488/t5-base-finetuned-span-sentiment-extraction\")\n",
    "\n",
    "def get_sentiment_span(text):\n",
    "    input_ids = tokenizer.encode(text, return_tensors=\"pt\", add_special_tokens=True)  # Batch size 1\n",
    "\n",
    "    generated_ids = model.generate(input_ids=input_ids, num_beams=1, max_length=80).squeeze()\n",
    "\n",
    "    predicted_span = tokenizer.decode(generated_ids, skip_special_tokens=True, clean_up_tokenization_spaces=True)\n",
    "\n",
    "    return predicted_span\n",
    "  \n",
    "get_sentiment_span(\"question: negative context: My bike was put on hold...should have known that.... argh total bummer\")\n",
    "\n",
    "# output: 'argh total bummer'\n",
    "\n",
    "get_sentiment_span(\"question: positive context: On the monday, so i wont be able to be with you! i love you\")\n",
    "\n",
    "# output: 'i love you'\n",
    "\n",
    "get_sentiment_span(\"question: negative context: {}\".format(example))\n",
    "\n",
    "review_samples.iloc[2]['reviewText']\n",
    "\n"
   ]
  }
 ],
 "metadata": {
  "kernelspec": {
   "display_name": "Python 3 (ipykernel)",
   "language": "python",
   "name": "python3"
  },
  "language_info": {
   "codemirror_mode": {
    "name": "ipython",
    "version": 3
   },
   "file_extension": ".py",
   "mimetype": "text/x-python",
   "name": "python",
   "nbconvert_exporter": "python",
   "pygments_lexer": "ipython3",
   "version": "3.8.8"
  }
 },
 "nbformat": 4,
 "nbformat_minor": 5
}
