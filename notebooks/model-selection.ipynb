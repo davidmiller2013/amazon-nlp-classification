{
  "cells": [
    {
      "cell_type": "markdown",
      "id": "20bb2820",
      "metadata": {
        "id": "20bb2820"
      },
      "source": [
        "# Model selection and evaluation"
      ]
    },
    {
      "cell_type": "markdown",
      "id": "18ca5f9b",
      "metadata": {
        "id": "18ca5f9b"
      },
      "source": [
        "__Notes__\n",
        "\n",
        "1. Create set of rules for what reviews to accept or throw out\n",
        "    1. Min or max number of words\n",
        "    1. Include URLs or not\n",
        "    1. Emojis\n",
        "    1. Eliminate stop words\n",
        "    \n",
        "1. Model selection\n",
        "    1. CNN for usefulness\n",
        "    1. Sample from useful reviews only\n",
        "    1. Setup T5 transfering learning model to generate \"justification\" text\n",
        "\n",
        "- LSTM is good\n",
        "    - You can add in an attention layer because it can look backwards and learn what words were more important than others\n",
        "- CNN is good for sentence classification \n",
        "    - With a fully connected Dense layer it is not good at generalizing\n",
        "- BERT is good because of its self-attention mechanism where every word looks at every other layer\n",
        "    - Use the CLS token as the only thing you feed into the output layer that is going to make the prediction on the classification"
      ]
    },
    {
      "cell_type": "markdown",
      "id": "835c4870",
      "metadata": {
        "id": "835c4870"
      },
      "source": [
        "## 0.0 Notebook setup"
      ]
    },
    {
      "cell_type": "markdown",
      "id": "d6e531ea",
      "metadata": {
        "id": "d6e531ea"
      },
      "source": [
        "### X.X Colab Setup"
      ]
    },
    {
      "cell_type": "code",
      "execution_count": 10,
      "id": "aX0IHvqPrB9h",
      "metadata": {
        "colab": {
          "base_uri": "https://localhost:8080/"
        },
        "id": "aX0IHvqPrB9h",
        "outputId": "815f8cd0-e7c9-4edf-e2b6-8dd0bcf7bd21"
      },
      "outputs": [
        {
          "output_type": "stream",
          "name": "stdout",
          "text": [
            "Mounted at /content/gdrive/\n"
          ]
        }
      ],
      "source": [
        "from google.colab import drive\n",
        "drive.mount('/content/gdrive/', force_remount=True)"
      ]
    },
    {
      "cell_type": "code",
      "execution_count": 11,
      "id": "9vnzzqbdraH_",
      "metadata": {
        "id": "9vnzzqbdraH_"
      },
      "outputs": [],
      "source": [
        "! mkdir data"
      ]
    },
    {
      "cell_type": "code",
      "execution_count": 12,
      "id": "0A4JchtFtgsT",
      "metadata": {
        "id": "0A4JchtFtgsT"
      },
      "outputs": [],
      "source": [
        "! cp \"/content/gdrive/My Drive/nlp-book-reviews/data/review_samples.csv\" ./data/"
      ]
    },
    {
      "cell_type": "code",
      "execution_count": 13,
      "id": "ncWfMYNDwGnj",
      "metadata": {
        "colab": {
          "base_uri": "https://localhost:8080/",
          "height": 35
        },
        "id": "ncWfMYNDwGnj",
        "outputId": "36f24854-9450-489d-c6ae-1b3c4a98e421"
      },
      "outputs": [
        {
          "output_type": "execute_result",
          "data": {
            "text/plain": [
              "'/device:GPU:0'"
            ],
            "application/vnd.google.colaboratory.intrinsic+json": {
              "type": "string"
            }
          },
          "metadata": {},
          "execution_count": 13
        }
      ],
      "source": [
        "import tensorflow as tf\n",
        "tf.test.gpu_device_name()"
      ]
    },
    {
      "cell_type": "code",
      "execution_count": 14,
      "id": "VIpdJLpswGLc",
      "metadata": {
        "colab": {
          "base_uri": "https://localhost:8080/"
        },
        "id": "VIpdJLpswGLc",
        "outputId": "2589fe61-94df-4117-bcb6-abb8cbd8ae1b"
      },
      "outputs": [
        {
          "output_type": "execute_result",
          "data": {
            "text/plain": [
              "[name: \"/device:CPU:0\"\n",
              " device_type: \"CPU\"\n",
              " memory_limit: 268435456\n",
              " locality {\n",
              " }\n",
              " incarnation: 5316611001579368942\n",
              " xla_global_id: -1, name: \"/device:GPU:0\"\n",
              " device_type: \"GPU\"\n",
              " memory_limit: 14465892352\n",
              " locality {\n",
              "   bus_id: 1\n",
              "   links {\n",
              "   }\n",
              " }\n",
              " incarnation: 5369620873526818470\n",
              " physical_device_desc: \"device: 0, name: Tesla T4, pci bus id: 0000:00:04.0, compute capability: 7.5\"\n",
              " xla_global_id: 416903419]"
            ]
          },
          "metadata": {},
          "execution_count": 14
        }
      ],
      "source": [
        "from tensorflow.python.client import device_lib\n",
        "device_lib.list_local_devices()"
      ]
    },
    {
      "cell_type": "code",
      "source": [
        "!pip install transformers"
      ],
      "metadata": {
        "id": "IcYfIaElNZwb",
        "outputId": "c30d79b9-a2e6-4fc0-cda2-d5a865fb7eff",
        "colab": {
          "base_uri": "https://localhost:8080/"
        }
      },
      "id": "IcYfIaElNZwb",
      "execution_count": 5,
      "outputs": [
        {
          "output_type": "stream",
          "name": "stdout",
          "text": [
            "Collecting transformers\n",
            "  Downloading transformers-4.17.0-py3-none-any.whl (3.8 MB)\n",
            "\u001b[K     |████████████████████████████████| 3.8 MB 8.4 MB/s \n",
            "\u001b[?25hCollecting pyyaml>=5.1\n",
            "  Downloading PyYAML-6.0-cp37-cp37m-manylinux_2_5_x86_64.manylinux1_x86_64.manylinux_2_12_x86_64.manylinux2010_x86_64.whl (596 kB)\n",
            "\u001b[K     |████████████████████████████████| 596 kB 46.4 MB/s \n",
            "\u001b[?25hRequirement already satisfied: tqdm>=4.27 in /usr/local/lib/python3.7/dist-packages (from transformers) (4.63.0)\n",
            "Collecting huggingface-hub<1.0,>=0.1.0\n",
            "  Downloading huggingface_hub-0.4.0-py3-none-any.whl (67 kB)\n",
            "\u001b[K     |████████████████████████████████| 67 kB 7.3 MB/s \n",
            "\u001b[?25hRequirement already satisfied: packaging>=20.0 in /usr/local/lib/python3.7/dist-packages (from transformers) (21.3)\n",
            "Requirement already satisfied: importlib-metadata in /usr/local/lib/python3.7/dist-packages (from transformers) (4.11.3)\n",
            "Requirement already satisfied: requests in /usr/local/lib/python3.7/dist-packages (from transformers) (2.23.0)\n",
            "Collecting sacremoses\n",
            "  Downloading sacremoses-0.0.49-py3-none-any.whl (895 kB)\n",
            "\u001b[K     |████████████████████████████████| 895 kB 17.1 MB/s \n",
            "\u001b[?25hRequirement already satisfied: filelock in /usr/local/lib/python3.7/dist-packages (from transformers) (3.6.0)\n",
            "Collecting tokenizers!=0.11.3,>=0.11.1\n",
            "  Downloading tokenizers-0.11.6-cp37-cp37m-manylinux_2_12_x86_64.manylinux2010_x86_64.whl (6.5 MB)\n",
            "\u001b[K     |████████████████████████████████| 6.5 MB 49.1 MB/s \n",
            "\u001b[?25hRequirement already satisfied: numpy>=1.17 in /usr/local/lib/python3.7/dist-packages (from transformers) (1.21.5)\n",
            "Requirement already satisfied: regex!=2019.12.17 in /usr/local/lib/python3.7/dist-packages (from transformers) (2019.12.20)\n",
            "Requirement already satisfied: typing-extensions>=3.7.4.3 in /usr/local/lib/python3.7/dist-packages (from huggingface-hub<1.0,>=0.1.0->transformers) (3.10.0.2)\n",
            "Requirement already satisfied: pyparsing!=3.0.5,>=2.0.2 in /usr/local/lib/python3.7/dist-packages (from packaging>=20.0->transformers) (3.0.7)\n",
            "Requirement already satisfied: zipp>=0.5 in /usr/local/lib/python3.7/dist-packages (from importlib-metadata->transformers) (3.7.0)\n",
            "Requirement already satisfied: urllib3!=1.25.0,!=1.25.1,<1.26,>=1.21.1 in /usr/local/lib/python3.7/dist-packages (from requests->transformers) (1.24.3)\n",
            "Requirement already satisfied: chardet<4,>=3.0.2 in /usr/local/lib/python3.7/dist-packages (from requests->transformers) (3.0.4)\n",
            "Requirement already satisfied: certifi>=2017.4.17 in /usr/local/lib/python3.7/dist-packages (from requests->transformers) (2021.10.8)\n",
            "Requirement already satisfied: idna<3,>=2.5 in /usr/local/lib/python3.7/dist-packages (from requests->transformers) (2.10)\n",
            "Requirement already satisfied: six in /usr/local/lib/python3.7/dist-packages (from sacremoses->transformers) (1.15.0)\n",
            "Requirement already satisfied: click in /usr/local/lib/python3.7/dist-packages (from sacremoses->transformers) (7.1.2)\n",
            "Requirement already satisfied: joblib in /usr/local/lib/python3.7/dist-packages (from sacremoses->transformers) (1.1.0)\n",
            "Installing collected packages: pyyaml, tokenizers, sacremoses, huggingface-hub, transformers\n",
            "  Attempting uninstall: pyyaml\n",
            "    Found existing installation: PyYAML 3.13\n",
            "    Uninstalling PyYAML-3.13:\n",
            "      Successfully uninstalled PyYAML-3.13\n",
            "Successfully installed huggingface-hub-0.4.0 pyyaml-6.0 sacremoses-0.0.49 tokenizers-0.11.6 transformers-4.17.0\n"
          ]
        }
      ]
    },
    {
      "cell_type": "markdown",
      "id": "7631b809",
      "metadata": {
        "id": "7631b809"
      },
      "source": [
        "### X.X Local setup"
      ]
    },
    {
      "cell_type": "code",
      "execution_count": 15,
      "id": "3f0320af",
      "metadata": {
        "id": "3f0320af"
      },
      "outputs": [],
      "source": [
        "import warnings\n",
        "\n",
        "warnings.simplefilter(\"ignore\", UserWarning)\n",
        "warnings.simplefilter(\"ignore\", FutureWarning)\n",
        "warnings.simplefilter(\"ignore\", DeprecationWarning)"
      ]
    },
    {
      "cell_type": "code",
      "execution_count": 193,
      "id": "3abac3ad",
      "metadata": {
        "id": "3abac3ad"
      },
      "outputs": [],
      "source": [
        "# Statistics\n",
        "import numpy as np\n",
        "import pandas as pd\n",
        "from scipy.stats import chi2_contingency, norm, skew, kurtosis\n",
        "\n",
        "# Visualization\n",
        "%matplotlib inline\n",
        "import matplotlib.pyplot as plt\n",
        "import seaborn as sns\n",
        "\n",
        "# Model selection and evaluation\n",
        "from sklearn.model_selection import train_test_split\n",
        "from sklearn.metrics import confusion_matrix, ConfusionMatrixDisplay\n",
        "from sklearn.metrics import classification_report, precision_recall_fscore_support\n",
        "\n",
        "# Model building\n",
        "import tensorflow as tf\n",
        "import keras\n",
        "from keras.preprocessing.text import Tokenizer\n",
        "from keras.preprocessing.sequence import pad_sequences\n",
        "from keras.models import Sequential\n",
        "from keras.layers import Embedding, Bidirectional, Dense, Flatten, LSTM\n",
        "from keras.layers.convolutional import Conv1D\n",
        "from keras.layers.convolutional import MaxPooling1D\n",
        "\n",
        "# BERT-specific\n",
        "from transformers import BertTokenizer, BertForSequenceClassification\n",
        "from transformers import InputExample, InputFeatures"
      ]
    },
    {
      "cell_type": "code",
      "execution_count": 17,
      "id": "768f4b5c",
      "metadata": {
        "id": "768f4b5c"
      },
      "outputs": [],
      "source": [
        "# Local\n",
        "# dir = '../data/review_samples.csv'\n",
        "\n",
        "# Colab\n",
        "dir = './data/review_samples.csv'\n",
        "\n",
        "review_samples = pd.read_csv(dir)"
      ]
    },
    {
      "cell_type": "markdown",
      "id": "72ffdf0f",
      "metadata": {
        "id": "72ffdf0f"
      },
      "source": [
        "## X.X Usefulness language modeling"
      ]
    },
    {
      "cell_type": "markdown",
      "id": "cb8ac3c5",
      "metadata": {
        "id": "cb8ac3c5"
      },
      "source": [
        "### X.X Bi-directional LSTM"
      ]
    },
    {
      "cell_type": "code",
      "source": [
        "# Set tokenization parameters\n",
        "num_words = None\n",
        "oov_token = '<UNK>'\n",
        "pad_type = 'post'\n",
        "trunc_type = 'post'\n",
        "\n",
        "# Tokenize review text\n",
        "reviews = review_samples['reviewProcessed']\n",
        "tokenizer = Tokenizer(num_words=num_words, oov_token=oov_token)\n",
        "tokenizer.fit_on_texts(reviews)\n",
        "sequences = tokenizer.texts_to_sequences(reviews)\n",
        "\n",
        "# Additional tokenization parameters\n",
        "# max_words = len(tokenizer.word_index)\n",
        "# max_len = max([len(x) for x in sequences])\n",
        "max_words = 5000\n",
        "max_len = 125\n",
        "\n",
        "# Pad review text tokens\n",
        "reviews = pad_sequences(sequences, padding=pad_type, truncating=trunc_type, maxlen=max_len)\n",
        "\n",
        "# Create usefulness target variable\n",
        "labels = review_samples['useful']\n",
        "labels = tf.keras.utils.to_categorical(labels, num_classes=2, dtype=\"float32\")"
      ],
      "metadata": {
        "id": "SiXJEWkhODj7"
      },
      "id": "SiXJEWkhODj7",
      "execution_count": 157,
      "outputs": []
    },
    {
      "cell_type": "code",
      "source": [
        "(max_words, max_len)"
      ],
      "metadata": {
        "id": "MsPQ6yEIDoWw",
        "outputId": "852c2ec6-51c1-49ef-dcd9-a12175683500",
        "colab": {
          "base_uri": "https://localhost:8080/"
        }
      },
      "id": "MsPQ6yEIDoWw",
      "execution_count": 158,
      "outputs": [
        {
          "output_type": "execute_result",
          "data": {
            "text/plain": [
              "(5000, 125)"
            ]
          },
          "metadata": {},
          "execution_count": 158
        }
      ]
    },
    {
      "cell_type": "code",
      "execution_count": 159,
      "id": "9a255b76",
      "metadata": {
        "id": "9a255b76"
      },
      "outputs": [],
      "source": [
        "# Split data into train, dev, and test sets\n",
        "X_train, X_test, y_train, y_test = train_test_split(reviews, labels, test_size=0.2, random_state=0)\n",
        "X_train, X_dev, y_train, y_dev = train_test_split(X_train, y_train, test_size=0.25, random_state=0)"
      ]
    },
    {
      "cell_type": "code",
      "source": [
        "y_test.shape"
      ],
      "metadata": {
        "id": "5VKwt5nocihD",
        "outputId": "3bf716ff-138c-4339-c123-bffaa36f29dc",
        "colab": {
          "base_uri": "https://localhost:8080/"
        }
      },
      "id": "5VKwt5nocihD",
      "execution_count": 160,
      "outputs": [
        {
          "output_type": "execute_result",
          "data": {
            "text/plain": [
              "(1072, 2)"
            ]
          },
          "metadata": {},
          "execution_count": 160
        }
      ]
    },
    {
      "cell_type": "code",
      "source": [
        "# Set model hyperparamters\n",
        "epochs = 10\n",
        "batch_size = 128\n",
        "dropout_rate = 0.7\n",
        "num_classes = len(np.unique(labels, axis=0))\n",
        "opt = 'adam'\n",
        "loss = 'binary_crossentropy'\n",
        "metrics = ['accuracy']\n",
        "sentiment = ['Not Useful', 'Useful']"
      ],
      "metadata": {
        "id": "ZpzqiyryO-lC"
      },
      "id": "ZpzqiyryO-lC",
      "execution_count": 161,
      "outputs": []
    },
    {
      "cell_type": "code",
      "execution_count": 162,
      "id": "e6556cac",
      "metadata": {
        "colab": {
          "base_uri": "https://localhost:8080/"
        },
        "id": "e6556cac",
        "outputId": "71bb938f-0002-4019-8ddd-a73dc7bfd53d"
      },
      "outputs": [
        {
          "output_type": "stream",
          "name": "stdout",
          "text": [
            "Model: \"sequential_7\"\n",
            "_________________________________________________________________\n",
            " Layer (type)                Output Shape              Param #   \n",
            "=================================================================\n",
            " embedding_7 (Embedding)     (None, 125, 40)           200000    \n",
            "                                                                 \n",
            " bidirectional_4 (Bidirectio  (None, 40)               9760      \n",
            " nal)                                                            \n",
            "                                                                 \n",
            " dense_10 (Dense)            (None, 2)                 82        \n",
            "                                                                 \n",
            "=================================================================\n",
            "Total params: 209,842\n",
            "Trainable params: 209,842\n",
            "Non-trainable params: 0\n",
            "_________________________________________________________________\n"
          ]
        }
      ],
      "source": [
        "# Build model\n",
        "lstm_model = Sequential()\n",
        "lstm_model.add(Embedding(max_words, 40, input_length=max_len))\n",
        "lstm_model.add(Bidirectional(LSTM(20, dropout=dropout_rate)))\n",
        "lstm_model.add(Dense(2, activation='softmax'))\n",
        "lstm_model.compile(optimizer=opt, loss=loss, metrics=metrics)\n",
        "lstm_model.summary()"
      ]
    },
    {
      "cell_type": "code",
      "source": [
        "# Fit model\n",
        "lstm_model.fit(X_train, y_train, validation_data=(X_dev, y_dev), epochs=epochs, batch_size=batch_size, verbose=2)"
      ],
      "metadata": {
        "id": "_LMuy-3QVWqh",
        "outputId": "61923dad-2d97-4ffd-f581-aa3f25a3b8b9",
        "colab": {
          "base_uri": "https://localhost:8080/"
        }
      },
      "id": "_LMuy-3QVWqh",
      "execution_count": 163,
      "outputs": [
        {
          "output_type": "stream",
          "name": "stdout",
          "text": [
            "Epoch 1/10\n",
            "26/26 - 4s - loss: 0.6874 - accuracy: 0.5387 - val_loss: 0.6933 - val_accuracy: 0.5019 - 4s/epoch - 142ms/step\n",
            "Epoch 2/10\n",
            "26/26 - 0s - loss: 0.6806 - accuracy: 0.5549 - val_loss: 0.6903 - val_accuracy: 0.5625 - 372ms/epoch - 14ms/step\n",
            "Epoch 3/10\n",
            "26/26 - 0s - loss: 0.6763 - accuracy: 0.5829 - val_loss: 0.6884 - val_accuracy: 0.5578 - 374ms/epoch - 14ms/step\n",
            "Epoch 4/10\n",
            "26/26 - 0s - loss: 0.6707 - accuracy: 0.5792 - val_loss: 0.6887 - val_accuracy: 0.5578 - 369ms/epoch - 14ms/step\n",
            "Epoch 5/10\n",
            "26/26 - 0s - loss: 0.6482 - accuracy: 0.6318 - val_loss: 0.6848 - val_accuracy: 0.5560 - 385ms/epoch - 15ms/step\n",
            "Epoch 6/10\n",
            "26/26 - 0s - loss: 0.5929 - accuracy: 0.7062 - val_loss: 0.7050 - val_accuracy: 0.5550 - 366ms/epoch - 14ms/step\n",
            "Epoch 7/10\n",
            "26/26 - 0s - loss: 0.5252 - accuracy: 0.7575 - val_loss: 0.7251 - val_accuracy: 0.5504 - 369ms/epoch - 14ms/step\n",
            "Epoch 8/10\n",
            "26/26 - 0s - loss: 0.4684 - accuracy: 0.7877 - val_loss: 0.7619 - val_accuracy: 0.5541 - 378ms/epoch - 15ms/step\n",
            "Epoch 9/10\n",
            "26/26 - 0s - loss: 0.4066 - accuracy: 0.8425 - val_loss: 0.7926 - val_accuracy: 0.5448 - 367ms/epoch - 14ms/step\n",
            "Epoch 10/10\n",
            "26/26 - 0s - loss: 0.3678 - accuracy: 0.8453 - val_loss: 0.8570 - val_accuracy: 0.5448 - 384ms/epoch - 15ms/step\n"
          ]
        },
        {
          "output_type": "execute_result",
          "data": {
            "text/plain": [
              "<keras.callbacks.History at 0x7f92bb026510>"
            ]
          },
          "metadata": {},
          "execution_count": 163
        }
      ]
    },
    {
      "cell_type": "code",
      "execution_count": 164,
      "id": "fb4bcaea",
      "metadata": {
        "colab": {
          "base_uri": "https://localhost:8080/"
        },
        "id": "fb4bcaea",
        "outputId": "750f7838-2f5d-4252-91a6-f1e56e3df7a2"
      },
      "outputs": [
        {
          "output_type": "stream",
          "name": "stdout",
          "text": [
            "34/34 [==============================] - 0s 8ms/step - loss: 0.7605 - accuracy: 0.5886\n"
          ]
        },
        {
          "output_type": "execute_result",
          "data": {
            "text/plain": [
              "[0.7604793310165405, 0.5886194109916687]"
            ]
          },
          "metadata": {},
          "execution_count": 164
        }
      ],
      "source": [
        "# Evalulate model\n",
        "lstm_model.evaluate(X_test, y_test, verbose=1)"
      ]
    },
    {
      "cell_type": "code",
      "execution_count": 165,
      "id": "e7d45011",
      "metadata": {
        "colab": {
          "base_uri": "https://localhost:8080/",
          "height": 295
        },
        "id": "e7d45011",
        "outputId": "c1cfbb8c-c338-4219-b6c0-1efdb556dc41"
      },
      "outputs": [
        {
          "output_type": "display_data",
          "data": {
            "text/plain": [
              "<Figure size 432x288 with 2 Axes>"
            ],
            "image/png": "[encoded data removed]"
          },
          "metadata": {
            "needs_background": "light"
          }
        }
      ],
      "source": [
        "# Plot confusion matrix\n",
        "y_true = y_test.argmax(axis=1)\n",
        "y_pred = np.argmax(lstm_model.predict(X_test), axis=1)\n",
        "\n",
        "ConfusionMatrixDisplay.from_predictions(y_true,\n",
        "                                        y_pred,\n",
        "                                        normalize='all',\n",
        "                                        display_labels=sentiment\n",
        "                                       )\n",
        "\n",
        "plt.title(\"Confusion Matrix of Review Usefulness\")\n",
        "plt.show()"
      ]
    },
    {
      "cell_type": "code",
      "execution_count": 166,
      "id": "8d2af57c",
      "metadata": {
        "id": "8d2af57c",
        "outputId": "0810377f-0b95-4740-b97a-1ab654309375",
        "colab": {
          "base_uri": "https://localhost:8080/"
        }
      },
      "outputs": [
        {
          "output_type": "stream",
          "name": "stdout",
          "text": [
            "              precision    recall  f1-score   support\n",
            "\n",
            "           0       0.58      0.72      0.65       555\n",
            "           1       0.60      0.44      0.51       517\n",
            "\n",
            "    accuracy                           0.59      1072\n",
            "   macro avg       0.59      0.58      0.58      1072\n",
            "weighted avg       0.59      0.59      0.58      1072\n",
            "\n"
          ]
        }
      ],
      "source": [
        "print(classification_report(y_true, y_pred))"
      ]
    },
    {
      "cell_type": "code",
      "execution_count": 167,
      "id": "59598ada",
      "metadata": {
        "colab": {
          "base_uri": "https://localhost:8080/",
          "height": 35
        },
        "id": "59598ada",
        "outputId": "d08d7916-24f7-4c1a-b1d2-9e383906e432"
      },
      "outputs": [
        {
          "output_type": "execute_result",
          "data": {
            "text/plain": [
              "'Not Useful'"
            ],
            "application/vnd.google.colaboratory.intrinsic+json": {
              "type": "string"
            }
          },
          "metadata": {},
          "execution_count": 167
        }
      ],
      "source": [
        "sequence = tokenizer.texts_to_sequences(['this data science article is the best ever'])\n",
        "test = pad_sequences(sequence, maxlen=max_len)\n",
        "sentiment[np.around(lstm_model.predict(test), decimals=0).argmax(axis=1)[0]]"
      ]
    },
    {
      "cell_type": "code",
      "execution_count": 168,
      "id": "f4b299f7",
      "metadata": {
        "colab": {
          "base_uri": "https://localhost:8080/",
          "height": 35
        },
        "id": "f4b299f7",
        "outputId": "d8bc565e-c2d6-43e5-d844-0174465f2e05"
      },
      "outputs": [
        {
          "output_type": "execute_result",
          "data": {
            "text/plain": [
              "'Not Useful'"
            ],
            "application/vnd.google.colaboratory.intrinsic+json": {
              "type": "string"
            }
          },
          "metadata": {},
          "execution_count": 168
        }
      ],
      "source": [
        "sequence = tokenizer.texts_to_sequences(['i really loved how the technician helped me with the issue that i had'])\n",
        "test = pad_sequences(sequence, maxlen=max_len)\n",
        "sentiment[np.around(lstm_model.predict(test), decimals=0).argmax(axis=1)[0]]"
      ]
    },
    {
      "cell_type": "code",
      "source": [
        "sequence = tokenizer.texts_to_sequences(['useless comment'])\n",
        "test = pad_sequences(sequence, maxlen=max_len)\n",
        "sentiment[np.around(lstm_model.predict(test), decimals=0).argmax(axis=1)[0]]"
      ],
      "metadata": {
        "colab": {
          "base_uri": "https://localhost:8080/",
          "height": 35
        },
        "id": "jgzWpxYcIx0G",
        "outputId": "f83ad41e-7c31-4620-fd5a-8054a378f6e5"
      },
      "id": "jgzWpxYcIx0G",
      "execution_count": 169,
      "outputs": [
        {
          "output_type": "execute_result",
          "data": {
            "text/plain": [
              "'Not Useful'"
            ],
            "application/vnd.google.colaboratory.intrinsic+json": {
              "type": "string"
            }
          },
          "metadata": {},
          "execution_count": 169
        }
      ]
    },
    {
      "cell_type": "markdown",
      "id": "ae73365d",
      "metadata": {
        "id": "ae73365d"
      },
      "source": [
        "### X.X BERT"
      ]
    },
    {
      "cell_type": "code",
      "source": [
        "# Download pre-trained BERT model\n",
        "bert_tokenizer = BertTokenizer.from_pretrained(\"bert-base-uncased\")\n",
        "bert_model = BertForSequenceClassification.from_pretrained(\"bert-base-uncased\")"
      ],
      "metadata": {
        "id": "1lEMxrLgLeFq",
        "outputId": "c792aa09-2d35-4506-dbb4-3ada6b717ed4",
        "colab": {
          "base_uri": "https://localhost:8080/",
          "height": 156,
          "referenced_widgets": [
            "52ccefb32b5b4168a194cd732c5d52eb",
            "6b54210436364f84994fa9943cc8e16f",
            "85ebd7bf2254450ea89f14f85de7b153",
            "54570b6eb9964aeba9d0cc94575e975f",
            "0de7237af7d54a0981e53d3362344857",
            "fccaad68be8d42d8a4d74dfb194de11a",
            "2e02ef5c0b534e3d990d5b6dfb0aedef",
            "3168a283c6a8498592f3b67059b6a418",
            "bec03f332202428e8127202465fd6dfa",
            "f617e3a6fed54d0d89a5aa3a089458eb",
            "12e7d2d4809d45ba8a3e0ad834d1ffc7"
          ]
        }
      },
      "id": "1lEMxrLgLeFq",
      "execution_count": 194,
      "outputs": [
        {
          "output_type": "display_data",
          "data": {
            "text/plain": [
              "Downloading:   0%|          | 0.00/420M [00:00<?, ?B/s]"
            ],
            "application/vnd.jupyter.widget-view+json": {
              "version_major": 2,
              "version_minor": 0,
              "model_id": "52ccefb32b5b4168a194cd732c5d52eb"
            }
          },
          "metadata": {}
        },
        {
          "output_type": "stream",
          "name": "stderr",
          "text": [
            "Some weights of the model checkpoint at bert-base-uncased were not used when initializing BertForSequenceClassification: ['cls.predictions.transform.dense.bias', 'cls.predictions.bias', 'cls.predictions.transform.LayerNorm.bias', 'cls.seq_relationship.weight', 'cls.predictions.transform.LayerNorm.weight', 'cls.predictions.decoder.weight', 'cls.seq_relationship.bias', 'cls.predictions.transform.dense.weight']\n",
            "- This IS expected if you are initializing BertForSequenceClassification from the checkpoint of a model trained on another task or with another architecture (e.g. initializing a BertForSequenceClassification model from a BertForPreTraining model).\n",
            "- This IS NOT expected if you are initializing BertForSequenceClassification from the checkpoint of a model that you expect to be exactly identical (initializing a BertForSequenceClassification model from a BertForSequenceClassification model).\n",
            "Some weights of BertForSequenceClassification were not initialized from the model checkpoint at bert-base-uncased and are newly initialized: ['classifier.weight', 'classifier.bias']\n",
            "You should probably TRAIN this model on a down-stream task to be able to use it for predictions and inference.\n"
          ]
        }
      ]
    },
    {
      "cell_type": "code",
      "execution_count": 188,
      "id": "1a4e8d32",
      "metadata": {
        "id": "1a4e8d32"
      },
      "outputs": [],
      "source": [
        "X, y = review_samples['reviewText'], review_samples['useful']\n",
        "X_train, X_test, y_train, y_test = train_test_split(X, y, test_size=0.2, random_state=0)\n",
        "X_train, X_dev, y_train, y_dev = train_test_split(X_train, y_train, test_size=0.25, random_state=0)\n",
        "\n",
        "train = pd.DataFrame([X_train, y_train]).T\n",
        "dev = pd.DataFrame([X_dev, y_dev]).T\n",
        "test = pd.DataFrame([X_test, y_test]).T"
      ]
    },
    {
      "cell_type": "code",
      "execution_count": 65,
      "id": "f0ae84fa",
      "metadata": {
        "id": "f0ae84fa"
      },
      "outputs": [],
      "source": [
        "def convert_data_to_examples(data, DATA_COLUMN, LABEL_COLUMN): \n",
        "    examples = data.apply(lambda x: InputExample(guid=None, # Globally unique ID for bookkeeping, unused in this case\n",
        "                                                 text_a = x[DATA_COLUMN], \n",
        "                                                 text_b = None,\n",
        "                                                 label = x[LABEL_COLUMN]\n",
        "                                                ),\n",
        "                          axis = 1\n",
        "                         )\n",
        "  \n",
        "    return examples\n",
        "\n",
        "\n",
        "  \n",
        "def convert_examples_to_tf_dataset(examples, tokenizer, max_length=128):\n",
        "    features = [] # -> will hold InputFeatures to be converted later\n",
        "\n",
        "    for e in examples:\n",
        "        # Documentation is really strong for this method, so please take a look at it\n",
        "        input_dict = tokenizer.encode_plus(e.text_a,\n",
        "                                           add_special_tokens=True,\n",
        "                                           max_length=max_length, # truncates if len(s) > max_length\n",
        "                                           return_token_type_ids=True,\n",
        "                                           return_attention_mask=True,\n",
        "                                           pad_to_max_length=True, # pads to the right by default # CHECK THIS for pad_to_max_length\n",
        "                                           truncation=True\n",
        "                                          )\n",
        "\n",
        "        input_ids = input_dict[\"input_ids\"]\n",
        "        token_type_ids = input_dict[\"token_type_ids\"] \n",
        "        attention_mask = input_dict['attention_mask']\n",
        "\n",
        "        features.append(InputFeatures(input_ids=input_ids,\n",
        "                                      attention_mask=attention_mask,\n",
        "                                      token_type_ids=token_type_ids,\n",
        "                                      label=e.label\n",
        "                                     )\n",
        "                       )\n",
        "\n",
        "    def gen():\n",
        "        for f in features:\n",
        "            yield ({\"input_ids\": f.input_ids,\n",
        "                    \"attention_mask\": f.attention_mask,\n",
        "                    \"token_type_ids\": f.token_type_ids,\n",
        "                   },\n",
        "                   f.label,\n",
        "                  )\n",
        "\n",
        "    return tf.data.Dataset.from_generator(gen,\n",
        "                                          ({\"input_ids\": tf.int32,\n",
        "                                            \"attention_mask\": tf.int32,\n",
        "                                            \"token_type_ids\": tf.int32\n",
        "                                           },\n",
        "                                           tf.int64\n",
        "                                          ),\n",
        "                                          ({\"input_ids\": tf.TensorShape([None]),\n",
        "                                            \"attention_mask\": tf.TensorShape([None]),\n",
        "                                            \"token_type_ids\": tf.TensorShape([None]),\n",
        "                                           },\n",
        "                                           tf.TensorShape([]),\n",
        "                                          ),\n",
        "                                         )\n",
        "\n",
        "\n"
      ]
    },
    {
      "cell_type": "code",
      "execution_count": 189,
      "id": "dbcb02e2",
      "metadata": {
        "id": "dbcb02e2"
      },
      "outputs": [],
      "source": [
        "DATA_COLUMN = 'reviewText'\n",
        "LABEL_COLUMN = 'useful'\n",
        "\n",
        "\n",
        "train_InputExamples = convert_data_to_examples(train, DATA_COLUMN, LABEL_COLUMN)\n",
        "dev_InputExamples = convert_data_to_examples(dev, DATA_COLUMN, LABEL_COLUMN)\n",
        "test_InputExamples = convert_data_to_examples(test, DATA_COLUMN, LABEL_COLUMN)\n",
        "\n",
        "train_data = convert_examples_to_tf_dataset(list(train_InputExamples), bert_tokenizer)\n",
        "train_data = train_data.shuffle(100).batch(32).repeat(2)\n",
        "\n",
        "dev_data = convert_examples_to_tf_dataset(list(dev_InputExamples), bert_tokenizer)\n",
        "dev_data = dev_data.batch(32)\n",
        "\n",
        "test_data = convert_examples_to_tf_dataset(list(test_InputExamples), bert_tokenizer)\n",
        "test_data = test_data.batch(32)"
      ]
    },
    {
      "cell_type": "code",
      "execution_count": 190,
      "id": "3c6a678b",
      "metadata": {
        "colab": {
          "base_uri": "https://localhost:8080/"
        },
        "id": "3c6a678b",
        "outputId": "88ef992f-c47e-47cb-c121-92bc2bf41914"
      },
      "outputs": [
        {
          "output_type": "stream",
          "name": "stdout",
          "text": [
            "Epoch 1/2\n",
            "202/202 [==============================] - 193s 864ms/step - loss: 0.6598 - accuracy: 0.6082 - val_loss: 0.7439 - val_accuracy: 0.5756\n",
            "Epoch 2/2\n",
            "202/202 [==============================] - 172s 851ms/step - loss: 0.3066 - accuracy: 0.8660 - val_loss: 1.3434 - val_accuracy: 0.5821\n",
            "CPU times: user 3min 18s, sys: 1min 14s, total: 4min 32s\n",
            "Wall time: 6min 4s\n"
          ]
        }
      ],
      "source": [
        "%%time\n",
        "\n",
        "\n",
        "bert_model.compile(optimizer=tf.keras.optimizers.Adam(learning_rate=3e-5,\n",
        "                                                 epsilon=1e-08,\n",
        "                                                 clipnorm=1.0), \n",
        "              loss=tf.keras.losses.SparseCategoricalCrossentropy(from_logits=True), \n",
        "              metrics=[tf.keras.metrics.SparseCategoricalAccuracy('accuracy')]\n",
        "             )\n",
        "\n",
        "# bert_model.compile(optimizer=opt,loss=loss, metrics=metrics)\n",
        "\n",
        "bert_model.fit(train_data, epochs=2, validation_data=dev_data)\n",
        "# bert_model.fit(X_train, y_train, epochs=2)"
      ]
    },
    {
      "cell_type": "code",
      "execution_count": 191,
      "id": "NNv0TS7YzwRr",
      "metadata": {
        "colab": {
          "base_uri": "https://localhost:8080/"
        },
        "id": "NNv0TS7YzwRr",
        "outputId": "6f9a8a6d-a856-430f-8f52-7f77bd585045"
      },
      "outputs": [
        {
          "output_type": "stream",
          "name": "stdout",
          "text": [
            "Model: \"tf_bert_for_sequence_classification_2\"\n",
            "_________________________________________________________________\n",
            " Layer (type)                Output Shape              Param #   \n",
            "=================================================================\n",
            " bert (TFBertMainLayer)      multiple                  109482240 \n",
            "                                                                 \n",
            " dropout_113 (Dropout)       multiple                  0         \n",
            "                                                                 \n",
            " classifier (Dense)          multiple                  1538      \n",
            "                                                                 \n",
            "=================================================================\n",
            "Total params: 109,483,778\n",
            "Trainable params: 109,483,778\n",
            "Non-trainable params: 0\n",
            "_________________________________________________________________\n"
          ]
        }
      ],
      "source": [
        "bert_model.summary()"
      ]
    },
    {
      "cell_type": "code",
      "source": [
        "# Evaluate model\n",
        "bert_model.evaluate(test_data)"
      ],
      "metadata": {
        "id": "Ayf9rrWgiBMX",
        "outputId": "8cf7fa57-cdc7-4d6d-cd14-581767307da9",
        "colab": {
          "base_uri": "https://localhost:8080/"
        }
      },
      "id": "Ayf9rrWgiBMX",
      "execution_count": 192,
      "outputs": [
        {
          "output_type": "stream",
          "name": "stdout",
          "text": [
            "34/34 [==============================] - 9s 274ms/step - loss: 0.4696 - accuracy: 0.8302\n"
          ]
        },
        {
          "output_type": "execute_result",
          "data": {
            "text/plain": [
              "[0.4696483612060547, 0.8302238583564758]"
            ]
          },
          "metadata": {},
          "execution_count": 192
        }
      ]
    },
    {
      "cell_type": "code",
      "source": [
        ""
      ],
      "metadata": {
        "id": "JtQ2wgP0isrs",
        "outputId": "b54d6769-9f23-420e-8fc9-67692714381f",
        "colab": {
          "base_uri": "https://localhost:8080/",
          "height": 167
        }
      },
      "id": "JtQ2wgP0isrs",
      "execution_count": 186,
      "outputs": [
        {
          "output_type": "error",
          "ename": "AttributeError",
          "evalue": "ignored",
          "traceback": [
            "\u001b[0;31m---------------------------------------------------------------------------\u001b[0m",
            "\u001b[0;31mAttributeError\u001b[0m                            Traceback (most recent call last)",
            "\u001b[0;32m<ipython-input-186-f80f5f69a113>\u001b[0m in \u001b[0;36m<module>\u001b[0;34m()\u001b[0m\n\u001b[0;32m----> 1\u001b[0;31m \u001b[0mtest_data\u001b[0m\u001b[0;34m.\u001b[0m\u001b[0mhead\u001b[0m\u001b[0;34m(\u001b[0m\u001b[0;34m)\u001b[0m\u001b[0;34m\u001b[0m\u001b[0;34m\u001b[0m\u001b[0m\n\u001b[0m",
            "\u001b[0;31mAttributeError\u001b[0m: 'BatchDataset' object has no attribute 'head'"
          ]
        }
      ]
    },
    {
      "cell_type": "code",
      "source": [
        "# Plot confusion matrix\n",
        "y_true = test_data\n",
        "y_pred = (bert_model.predict(X_test) >= 0.5).astype(\"int32\")\n",
        "\n",
        "ConfusionMatrixDisplay.from_predictions(y_true,\n",
        "                                        y_pred,\n",
        "                                        normalize='all',\n",
        "                                        display_labels=sentiment\n",
        "                                       )\n",
        "\n",
        "plt.title(\"Confusion Matrix of Review Usefulness\")\n",
        "plt.show()"
      ],
      "metadata": {
        "id": "bXj_iR6Aibtl"
      },
      "id": "bXj_iR6Aibtl",
      "execution_count": null,
      "outputs": []
    },
    {
      "cell_type": "code",
      "source": [
        "print(classification_report(y_true, y_pred))"
      ],
      "metadata": {
        "id": "bfkqUe4VilvP"
      },
      "id": "bfkqUe4VilvP",
      "execution_count": null,
      "outputs": []
    },
    {
      "cell_type": "code",
      "execution_count": 183,
      "id": "x1E-9yN20BRY",
      "metadata": {
        "colab": {
          "base_uri": "https://localhost:8080/"
        },
        "id": "x1E-9yN20BRY",
        "outputId": "e96e63bc-c2df-47f0-fb4a-ff32c1db46a0"
      },
      "outputs": [
        {
          "output_type": "stream",
          "name": "stdout",
          "text": [
            "Useful\n"
          ]
        }
      ],
      "source": [
        "# test_sentence = \"Golf tips magazine is one of the most aptly titled magazines available today. \\\n",
        "#                  It is chock full of heavily-illustrated exercises and other tips for serious golfers to improve their games.\\\n",
        "#                  \\nThere are a number of golf magazines on the newstand today. Most of them rely on a lifestyle format relying \\\n",
        "#                  more heavily on lifestyle-type stories about today's hot golfers and the courses they play. Most of them include \\\n",
        "#                  a brief game tip or two but seem aimed at the casual duffer.\\nGolf Tips, on the other hand, features almost nothing \\\n",
        "#                  but heavily illustrated tips on improving one's swing, eliminating mistakes and putting better. It also is heavily \\\n",
        "#                  loaded with features on the latest equipment technology. Each issue also seems to feature an article on the technical \\\n",
        "#                  aspects of a selected major golf course. The articles are written with terminology that serious golfers will understand \\\n",
        "#                  but that may confuse the weekend player. Judging by the amount of advertising in its early issues, this magazine also \\\n",
        "#                  appears to be financially healthy.\\nIf a reader wants to read about the PGA Tour's superstars, this magazine is not for \\\n",
        "#                  him/her. But if s/he plans to be one of those superstars, Golf Tips is a good match.\"\n",
        "\n",
        "test_sentence = \"The information is interesting and fun, the writing is superb, and the writers and editors have a great sense of humor. \\\n",
        "                 I just wish it came out more often!\"\n",
        "\n",
        "predict_input = bert_tokenizer.encode(test_sentence,\n",
        "                                      truncation=True,\n",
        "                                      padding=True,\n",
        "                                      return_tensors=\"tf\"\n",
        "                                     )\n",
        "tf_output = bert_model.predict(predict_input)[0]\n",
        "tf_prediction = tf.nn.softmax(tf_output, axis=1)\n",
        "label = tf.argmax(tf_prediction, axis=1)\n",
        "label = label.numpy()\n",
        "print(sentiment[label[0]])"
      ]
    },
    {
      "cell_type": "markdown",
      "id": "e549dde8",
      "metadata": {
        "id": "e549dde8"
      },
      "source": [
        "### X.X Convolutional neural network"
      ]
    },
    {
      "cell_type": "code",
      "execution_count": 170,
      "id": "3837f6dc",
      "metadata": {
        "id": "3837f6dc"
      },
      "outputs": [],
      "source": [
        "# # Change data type from float to int\n",
        "y_train = np.array([list(i).index(max(i)) for i in y_train])\n",
        "y_dev = np.array([list(i).index(max(i)) for i in y_dev])\n",
        "y_test = np.array([list(i).index(max(i)) for i in y_test])\n",
        "\n",
        "# labels = review_samples['useful'].astype(int)\n",
        "# X_train, X_test, y_train, y_test = train_test_split(reviews, labels, test_size=0.2, random_state=0)\n",
        "# X_train, X_dev, y_train, y_dev = train_test_split(X_train, y_train, test_size=0.25, random_state=0)"
      ]
    },
    {
      "cell_type": "code",
      "source": [
        "y_test.shape"
      ],
      "metadata": {
        "id": "-vQksBx6cxvB",
        "outputId": "a719dd10-feb6-40c1-d8b3-e9549693c8b9",
        "colab": {
          "base_uri": "https://localhost:8080/"
        }
      },
      "id": "-vQksBx6cxvB",
      "execution_count": 171,
      "outputs": [
        {
          "output_type": "execute_result",
          "data": {
            "text/plain": [
              "(1072,)"
            ]
          },
          "metadata": {},
          "execution_count": 171
        }
      ]
    },
    {
      "cell_type": "code",
      "execution_count": 172,
      "id": "646ab5dd",
      "metadata": {
        "id": "646ab5dd",
        "outputId": "0d6912ad-cedb-413e-a066-24d181a2f7c0",
        "colab": {
          "base_uri": "https://localhost:8080/"
        }
      },
      "outputs": [
        {
          "output_type": "stream",
          "name": "stdout",
          "text": [
            "Model: \"sequential_8\"\n",
            "_________________________________________________________________\n",
            " Layer (type)                Output Shape              Param #   \n",
            "=================================================================\n",
            " embedding_8 (Embedding)     (None, 125, 32)           160000    \n",
            "                                                                 \n",
            " conv1d_3 (Conv1D)           (None, 125, 32)           3104      \n",
            "                                                                 \n",
            " max_pooling1d_3 (MaxPooling  (None, 62, 32)           0         \n",
            " 1D)                                                             \n",
            "                                                                 \n",
            " flatten_3 (Flatten)         (None, 1984)              0         \n",
            "                                                                 \n",
            " dense_11 (Dense)            (None, 250)               496250    \n",
            "                                                                 \n",
            " dense_12 (Dense)            (None, 1)                 251       \n",
            "                                                                 \n",
            "=================================================================\n",
            "Total params: 659,605\n",
            "Trainable params: 659,605\n",
            "Non-trainable params: 0\n",
            "_________________________________________________________________\n"
          ]
        }
      ],
      "source": [
        "# Build model\n",
        "cnn_model = Sequential()\n",
        "cnn_model.add(Embedding(max_words, 32, input_length=max_len))\n",
        "cnn_model.add(Conv1D(32, 3, padding='same', activation='relu'))\n",
        "cnn_model.add(MaxPooling1D())\n",
        "cnn_model.add(Flatten())\n",
        "cnn_model.add(Dense(250, activation='relu'))\n",
        "cnn_model.add(Dense(1, activation='sigmoid'))\n",
        "cnn_model.compile(optimizer=opt, loss=loss, metrics=metrics)\n",
        "cnn_model.summary()\n"
      ]
    },
    {
      "cell_type": "code",
      "execution_count": 173,
      "id": "0d1eee63",
      "metadata": {
        "id": "0d1eee63",
        "outputId": "9fc87aaa-b2b4-4d2c-f4ad-2587f4659dc4",
        "colab": {
          "base_uri": "https://localhost:8080/"
        }
      },
      "outputs": [
        {
          "output_type": "stream",
          "name": "stdout",
          "text": [
            "Epoch 1/10\n",
            "26/26 - 1s - loss: 0.6805 - accuracy: 0.5717 - val_loss: 0.6738 - val_accuracy: 0.5989 - 1s/epoch - 39ms/step\n",
            "Epoch 2/10\n",
            "26/26 - 0s - loss: 0.6469 - accuracy: 0.6396 - val_loss: 0.6781 - val_accuracy: 0.5672 - 126ms/epoch - 5ms/step\n",
            "Epoch 3/10\n",
            "26/26 - 0s - loss: 0.5574 - accuracy: 0.7672 - val_loss: 0.6989 - val_accuracy: 0.5672 - 120ms/epoch - 5ms/step\n",
            "Epoch 4/10\n",
            "26/26 - 0s - loss: 0.3519 - accuracy: 0.9073 - val_loss: 0.7550 - val_accuracy: 0.5690 - 129ms/epoch - 5ms/step\n",
            "Epoch 5/10\n",
            "26/26 - 0s - loss: 0.1653 - accuracy: 0.9655 - val_loss: 0.7703 - val_accuracy: 0.5793 - 124ms/epoch - 5ms/step\n",
            "Epoch 6/10\n",
            "26/26 - 0s - loss: 0.0650 - accuracy: 0.9925 - val_loss: 0.8694 - val_accuracy: 0.5700 - 135ms/epoch - 5ms/step\n",
            "Epoch 7/10\n",
            "26/26 - 0s - loss: 0.0296 - accuracy: 0.9975 - val_loss: 0.9414 - val_accuracy: 0.5718 - 129ms/epoch - 5ms/step\n",
            "Epoch 8/10\n",
            "26/26 - 0s - loss: 0.0187 - accuracy: 0.9988 - val_loss: 0.9792 - val_accuracy: 0.5709 - 164ms/epoch - 6ms/step\n",
            "Epoch 9/10\n",
            "26/26 - 0s - loss: 0.0118 - accuracy: 0.9991 - val_loss: 1.0466 - val_accuracy: 0.5812 - 123ms/epoch - 5ms/step\n",
            "Epoch 10/10\n",
            "26/26 - 0s - loss: 0.0100 - accuracy: 0.9994 - val_loss: 1.0822 - val_accuracy: 0.5690 - 121ms/epoch - 5ms/step\n"
          ]
        },
        {
          "output_type": "execute_result",
          "data": {
            "text/plain": [
              "<keras.callbacks.History at 0x7f9043d31fd0>"
            ]
          },
          "metadata": {},
          "execution_count": 173
        }
      ],
      "source": [
        "# Fit model\n",
        "cnn_model.fit(X_train, y_train, validation_data=(X_test, y_test), epochs=epochs, batch_size=batch_size, verbose=2)"
      ]
    },
    {
      "cell_type": "code",
      "source": [
        "# Evaluate model\n",
        "cnn_model.evaluate(X_test, y_test, verbose=1)"
      ],
      "metadata": {
        "id": "RfZm4gzuWqPo",
        "outputId": "b2edd0bd-a1eb-4640-8199-7902db6b36a6",
        "colab": {
          "base_uri": "https://localhost:8080/"
        }
      },
      "id": "RfZm4gzuWqPo",
      "execution_count": 174,
      "outputs": [
        {
          "output_type": "stream",
          "name": "stdout",
          "text": [
            "34/34 [==============================] - 0s 3ms/step - loss: 1.0822 - accuracy: 0.5690\n"
          ]
        },
        {
          "output_type": "execute_result",
          "data": {
            "text/plain": [
              "[1.082249402999878, 0.5690298676490784]"
            ]
          },
          "metadata": {},
          "execution_count": 174
        }
      ]
    },
    {
      "cell_type": "code",
      "source": [
        "# Plot confusion matrix\n",
        "y_true = y_test\n",
        "y_pred = (cnn_model.predict(X_test) >= 0.5).astype(\"int32\")\n",
        "\n",
        "ConfusionMatrixDisplay.from_predictions(y_true,\n",
        "                                        y_pred,\n",
        "                                        normalize='all',\n",
        "                                        display_labels=sentiment\n",
        "                                       )\n",
        "\n",
        "plt.title(\"Confusion Matrix of Review Usefulness\")\n",
        "plt.show()"
      ],
      "metadata": {
        "id": "7DS7mtaUXKvd",
        "outputId": "7a983716-b3ae-444b-f38a-8276e3a4f80a",
        "colab": {
          "base_uri": "https://localhost:8080/",
          "height": 295
        }
      },
      "id": "7DS7mtaUXKvd",
      "execution_count": 175,
      "outputs": [
        {
          "output_type": "display_data",
          "data": {
            "text/plain": [
              "<Figure size 432x288 with 2 Axes>"
            ],
            "image/png": "[encoded data removed]"
          },
          "metadata": {
            "needs_background": "light"
          }
        }
      ]
    },
    {
      "cell_type": "code",
      "source": [
        "print(classification_report(y_true, y_pred))"
      ],
      "metadata": {
        "id": "HeCo4-2afUsJ",
        "outputId": "bb09ecb0-57b9-4ae8-e5a0-da45db3c3329",
        "colab": {
          "base_uri": "https://localhost:8080/"
        }
      },
      "id": "HeCo4-2afUsJ",
      "execution_count": 179,
      "outputs": [
        {
          "output_type": "stream",
          "name": "stdout",
          "text": [
            "              precision    recall  f1-score   support\n",
            "\n",
            "           0       0.59      0.54      0.57       555\n",
            "           1       0.55      0.60      0.57       517\n",
            "\n",
            "    accuracy                           0.57      1072\n",
            "   macro avg       0.57      0.57      0.57      1072\n",
            "weighted avg       0.57      0.57      0.57      1072\n",
            "\n"
          ]
        }
      ]
    },
    {
      "cell_type": "code",
      "execution_count": 176,
      "metadata": {
        "colab": {
          "base_uri": "https://localhost:8080/",
          "height": 35
        },
        "outputId": "963b49b7-a3f5-40cf-be63-a11c038bbe28",
        "id": "ka6D9HMWeUbj"
      },
      "outputs": [
        {
          "output_type": "execute_result",
          "data": {
            "text/plain": [
              "'Not Useful'"
            ],
            "application/vnd.google.colaboratory.intrinsic+json": {
              "type": "string"
            }
          },
          "metadata": {},
          "execution_count": 176
        }
      ],
      "source": [
        "sequence = tokenizer.texts_to_sequences(['this data science article is the best ever'])\n",
        "test = pad_sequences(sequence, maxlen=max_len)\n",
        "sentiment[np.around(cnn_model.predict(test), decimals=0).argmax(axis=1)[0]]"
      ],
      "id": "ka6D9HMWeUbj"
    },
    {
      "cell_type": "code",
      "execution_count": 177,
      "metadata": {
        "colab": {
          "base_uri": "https://localhost:8080/",
          "height": 35
        },
        "outputId": "4204857f-ba58-4fa4-eb18-d07cea42ce03",
        "id": "h_svrH9geUby"
      },
      "outputs": [
        {
          "output_type": "execute_result",
          "data": {
            "text/plain": [
              "'Not Useful'"
            ],
            "application/vnd.google.colaboratory.intrinsic+json": {
              "type": "string"
            }
          },
          "metadata": {},
          "execution_count": 177
        }
      ],
      "source": [
        "sequence = tokenizer.texts_to_sequences(['i really loved how the technician helped me with the issue that i had'])\n",
        "test = pad_sequences(sequence, maxlen=max_len)\n",
        "sentiment[np.around(cnn_model.predict(test), decimals=0).argmax(axis=1)[0]]"
      ],
      "id": "h_svrH9geUby"
    },
    {
      "cell_type": "code",
      "source": [
        "sequence = tokenizer.texts_to_sequences(['useless comment'])\n",
        "test = pad_sequences(sequence, maxlen=max_len)\n",
        "sentiment[np.around(cnn_model.predict(test), decimals=0).argmax(axis=1)[0]]"
      ],
      "metadata": {
        "outputId": "156f5ce5-d55e-45e0-e8e4-e81101f44976",
        "colab": {
          "base_uri": "https://localhost:8080/",
          "height": 35
        },
        "id": "x11zswzreUbz"
      },
      "execution_count": 178,
      "outputs": [
        {
          "output_type": "execute_result",
          "data": {
            "text/plain": [
              "'Not Useful'"
            ],
            "application/vnd.google.colaboratory.intrinsic+json": {
              "type": "string"
            }
          },
          "metadata": {},
          "execution_count": 178
        }
      ],
      "id": "x11zswzreUbz"
    },
    {
      "cell_type": "markdown",
      "id": "23a65fd8",
      "metadata": {
        "id": "23a65fd8"
      },
      "source": [
        "### CNN setup from assignment 4"
      ]
    },
    {
      "cell_type": "code",
      "execution_count": null,
      "id": "1bcf288c",
      "metadata": {
        "id": "1bcf288c"
      },
      "outputs": [],
      "source": [
        "# Specify model hyperparameters\n",
        "epochs = 5\n",
        "embed_dim = 5\n",
        "num_filters = [2, 2, 2]\n",
        "kernel_sizes = [2, 3, 4]\n",
        "dense_layer_dims = [10, 4]\n",
        "dropout_rate = 0.7\n",
        "num_classes = len(np.unique(labels, axis=0))\n",
        "\n",
        "# Construct the convolutional neural network.\n",
        "# The form of each keras layer function is as follows:\n",
        "#    result = keras.layers.LayerType(arguments for the layer)(layer(s) it should use as input)\n",
        "# concretely,\n",
        "#    this_layer_output = keras.layers.Dense(100, activation='relu')(prev_layer_vector)\n",
        "# performs this_layer_output = relu(prev_layer_vector x W + b) where W has 100 columns.\n",
        "\n",
        "# Input is a special \"layer\".  It defines a placeholder that will be overwritten by the training data.\n",
        "# In our case, we are accepting a list of wordids (padded out to max_len).\n",
        "wordids = keras.layers.Input(shape=(max_len,))\n",
        "\n",
        "# Embed the wordids.\n",
        "# Recall, this is just a mathematically equivalent operation to a linear layer and a one-hot\n",
        "h = keras.layers.Embedding(max_words, embed_dim, input_length=max_len)(wordids)\n",
        "\n",
        "# Construct \"filters\" randomly initialized filters with dimension \"kernel_size\" for each size of filter we want.\n",
        "# With the default hyperparameters, we construct 2 filters each of size 2, 3, 4.  As in the image above, each filter\n",
        "# is wide enough to span the whole word embedding (this is why the convolution is \"1d\" as seen in the\n",
        "# function name below).\n",
        "conv_layers_for_all_kernel_sizes = []\n",
        "for kernel_size, filters in zip(kernel_sizes, num_filters):\n",
        "    conv_layer = Conv1D(filters=filters, kernel_size=kernel_size, activation='relu')(h)\n",
        "    conv_layer = GlobalMaxPooling1D()(conv_layer)\n",
        "    conv_layers_for_all_kernel_sizes.append(conv_layer)\n",
        "\n",
        "# Concat the feature maps from each different size.\n",
        "h = keras.layers.concatenate(conv_layers_for_all_kernel_sizes, axis=1)\n",
        "\n",
        "# Dropout can help with overfitting (improve generalization) by randomly 0-ing different subsets of values\n",
        "# in the vector.\n",
        "# See https://www.cs.toronto.edu/~hinton/absps/JMLRdropout.pdf for details.\n",
        "h = keras.layers.Dropout(rate=dropout_rate)(h)\n",
        "\n",
        "prediction = keras.layers.Dense(num_classes, activation='softmax')(h)\n",
        "\n",
        "model = keras.Model(inputs=wordids, outputs=prediction)\n",
        "model.compile(optimizer='adam',\n",
        "              loss='sparse_categorical_crossentropy',  # From information theory notebooks.\n",
        "              metrics=['accuracy'])        # What metric to output as we train."
      ]
    },
    {
      "cell_type": "code",
      "execution_count": null,
      "id": "6e0a135a",
      "metadata": {
        "id": "6e0a135a"
      },
      "outputs": [],
      "source": [
        "model.fit(X_train, y_train, epochs=epochs)"
      ]
    },
    {
      "cell_type": "markdown",
      "id": "6b9a5f5b",
      "metadata": {
        "id": "6b9a5f5b"
      },
      "source": [
        "## X.X Explanation transfer learning"
      ]
    },
    {
      "cell_type": "code",
      "execution_count": null,
      "id": "5b3cba98",
      "metadata": {
        "id": "5b3cba98"
      },
      "outputs": [],
      "source": [
        "# from transformers.models.t5 import T5Model\n",
        "from transformers import TFT5Model"
      ]
    },
    {
      "cell_type": "code",
      "execution_count": null,
      "id": "6f147ebe",
      "metadata": {
        "id": "6f147ebe",
        "outputId": "bae20fe7-ad7f-48b4-baf8-68c3dd13e310",
        "colab": {
          "referenced_widgets": [
            "56c1ba793281403c9812f254793e5b06",
            "b8dd04f66e7d44f7ad888e211f283331"
          ]
        }
      },
      "outputs": [
        {
          "name": "stderr",
          "output_type": "stream",
          "text": [
            "https://huggingface.co/t5-small/resolve/main/config.json not found in cache or force_download set to True, downloading to /Users/dmiller/.cache/huggingface/transformers/tmp_nunrfgi\n"
          ]
        },
        {
          "data": {
            "application/vnd.jupyter.widget-view+json": {
              "model_id": "56c1ba793281403c9812f254793e5b06",
              "version_major": 2,
              "version_minor": 0
            },
            "text/plain": [
              "Downloading:   0%|          | 0.00/1.17k [00:00<?, ?B/s]"
            ]
          },
          "metadata": {},
          "output_type": "display_data"
        },
        {
          "name": "stderr",
          "output_type": "stream",
          "text": [
            "storing https://huggingface.co/t5-small/resolve/main/config.json in cache at /Users/dmiller/.cache/huggingface/transformers/fe501e8fd6425b8ec93df37767fcce78ce626e34cc5edc859c662350cf712e41.406701565c0afd9899544c1cb8b93185a76f00b31e5ce7f6e18bbaef02241985\n",
            "creating metadata file for /Users/dmiller/.cache/huggingface/transformers/fe501e8fd6425b8ec93df37767fcce78ce626e34cc5edc859c662350cf712e41.406701565c0afd9899544c1cb8b93185a76f00b31e5ce7f6e18bbaef02241985\n",
            "loading configuration file https://huggingface.co/t5-small/resolve/main/config.json from cache at /Users/dmiller/.cache/huggingface/transformers/fe501e8fd6425b8ec93df37767fcce78ce626e34cc5edc859c662350cf712e41.406701565c0afd9899544c1cb8b93185a76f00b31e5ce7f6e18bbaef02241985\n",
            "Model config T5Config {\n",
            "  \"architectures\": [\n",
            "    \"T5WithLMHeadModel\"\n",
            "  ],\n",
            "  \"d_ff\": 2048,\n",
            "  \"d_kv\": 64,\n",
            "  \"d_model\": 512,\n",
            "  \"decoder_start_token_id\": 0,\n",
            "  \"dropout_rate\": 0.1,\n",
            "  \"eos_token_id\": 1,\n",
            "  \"feed_forward_proj\": \"relu\",\n",
            "  \"initializer_factor\": 1.0,\n",
            "  \"is_encoder_decoder\": true,\n",
            "  \"layer_norm_epsilon\": 1e-06,\n",
            "  \"model_type\": \"t5\",\n",
            "  \"n_positions\": 512,\n",
            "  \"num_decoder_layers\": 6,\n",
            "  \"num_heads\": 8,\n",
            "  \"num_layers\": 6,\n",
            "  \"output_past\": true,\n",
            "  \"pad_token_id\": 0,\n",
            "  \"relative_attention_num_buckets\": 32,\n",
            "  \"task_specific_params\": {\n",
            "    \"summarization\": {\n",
            "      \"early_stopping\": true,\n",
            "      \"length_penalty\": 2.0,\n",
            "      \"max_length\": 200,\n",
            "      \"min_length\": 30,\n",
            "      \"no_repeat_ngram_size\": 3,\n",
            "      \"num_beams\": 4,\n",
            "      \"prefix\": \"summarize: \"\n",
            "    },\n",
            "    \"translation_en_to_de\": {\n",
            "      \"early_stopping\": true,\n",
            "      \"max_length\": 300,\n",
            "      \"num_beams\": 4,\n",
            "      \"prefix\": \"translate English to German: \"\n",
            "    },\n",
            "    \"translation_en_to_fr\": {\n",
            "      \"early_stopping\": true,\n",
            "      \"max_length\": 300,\n",
            "      \"num_beams\": 4,\n",
            "      \"prefix\": \"translate English to French: \"\n",
            "    },\n",
            "    \"translation_en_to_ro\": {\n",
            "      \"early_stopping\": true,\n",
            "      \"max_length\": 300,\n",
            "      \"num_beams\": 4,\n",
            "      \"prefix\": \"translate English to Romanian: \"\n",
            "    }\n",
            "  },\n",
            "  \"transformers_version\": \"4.16.2\",\n",
            "  \"use_cache\": true,\n",
            "  \"vocab_size\": 32128\n",
            "}\n",
            "\n",
            "https://huggingface.co/t5-small/resolve/main/tf_model.h5 not found in cache or force_download set to True, downloading to /Users/dmiller/.cache/huggingface/transformers/tmppq556s3w\n"
          ]
        },
        {
          "data": {
            "application/vnd.jupyter.widget-view+json": {
              "model_id": "b8dd04f66e7d44f7ad888e211f283331",
              "version_major": 2,
              "version_minor": 0
            },
            "text/plain": [
              "Downloading:   0%|          | 0.00/231M [00:00<?, ?B/s]"
            ]
          },
          "metadata": {},
          "output_type": "display_data"
        },
        {
          "name": "stderr",
          "output_type": "stream",
          "text": [
            "storing https://huggingface.co/t5-small/resolve/main/tf_model.h5 in cache at /Users/dmiller/.cache/huggingface/transformers/51663d3eebce1656ebbf9cb26c16e243c19f861394299c088496b86b32ef4831.a6c374775a2dd6a6843e2ada3202ba6acae7cf400a3b1bfdca2ec2341e669716.h5\n",
            "creating metadata file for /Users/dmiller/.cache/huggingface/transformers/51663d3eebce1656ebbf9cb26c16e243c19f861394299c088496b86b32ef4831.a6c374775a2dd6a6843e2ada3202ba6acae7cf400a3b1bfdca2ec2341e669716.h5\n",
            "loading weights file https://huggingface.co/t5-small/resolve/main/tf_model.h5 from cache at /Users/dmiller/.cache/huggingface/transformers/51663d3eebce1656ebbf9cb26c16e243c19f861394299c088496b86b32ef4831.a6c374775a2dd6a6843e2ada3202ba6acae7cf400a3b1bfdca2ec2341e669716.h5\n",
            "2022-03-19 16:05:33.679479: W tensorflow/python/util/util.cc:368] Sets are not currently considered sequences, but this may change in the future, so consider avoiding using them.\n",
            "All model checkpoint layers were used when initializing TFT5Model.\n",
            "\n",
            "All the layers of TFT5Model were initialized from the model checkpoint at t5-small.\n",
            "If your task is similar to the task the model of the checkpoint was trained on, you can already use TFT5Model for predictions without further training.\n"
          ]
        }
      ],
      "source": [
        "model_args = {\n",
        "    \"reprocess_input_data\": True,\n",
        "    \"overwrite_output_dir\": True,\n",
        "    \"max_seq_length\": 128,\n",
        "    \"train_batch_size\": 8,\n",
        "    \"num_train_epochs\": 1,\n",
        "    \"save_eval_checkpoints\": True,\n",
        "    \"save_steps\": -1,\n",
        "    \"use_multiprocessing\": False,\n",
        "    \"evaluate_during_training\": True,\n",
        "    \"evaluate_during_training_steps\": 15000,\n",
        "    \"evaluate_during_training_verbose\": True,\n",
        "    \"fp16\": False,\n",
        "\n",
        "    \"wandb_project\": \"Question Generation with T5\",\n",
        "}\n",
        "\n",
        "model = TFT5Model.from_pretrained(\"t5-small\")"
      ]
    },
    {
      "cell_type": "markdown",
      "id": "b5b66424",
      "metadata": {
        "id": "b5b66424"
      },
      "source": [
        "### X.X Pre-trained sentiment span extraction model\n",
        "\n",
        "https://huggingface.co/mrm8488/t5-base-finetuned-span-sentiment-extraction"
      ]
    },
    {
      "cell_type": "code",
      "execution_count": null,
      "id": "4a18c4d1",
      "metadata": {
        "id": "4a18c4d1"
      },
      "outputs": [],
      "source": [
        "example = review_samples.iloc[2]['reviewText']"
      ]
    },
    {
      "cell_type": "code",
      "execution_count": null,
      "id": "084b4b25",
      "metadata": {
        "id": "084b4b25",
        "outputId": "b2f7c717-bfa3-4528-d578-1d68de3e324f",
        "colab": {
          "referenced_widgets": [
            "c13b26247a28476582960ccf6baf8b61",
            "0dc75d03e9054f618f8c482bd447a6e2",
            "e3e34a1b4819489696e3d2d03186214a",
            "65d46c375d564acfbfadf76305001d0b",
            "817f9f0fc6294e2194a96e78ee161819"
          ]
        }
      },
      "outputs": [
        {
          "data": {
            "application/vnd.jupyter.widget-view+json": {
              "model_id": "c13b26247a28476582960ccf6baf8b61",
              "version_major": 2,
              "version_minor": 0
            },
            "text/plain": [
              "Downloading:   0%|          | 0.00/25.0 [00:00<?, ?B/s]"
            ]
          },
          "metadata": {},
          "output_type": "display_data"
        },
        {
          "data": {
            "application/vnd.jupyter.widget-view+json": {
              "model_id": "0dc75d03e9054f618f8c482bd447a6e2",
              "version_major": 2,
              "version_minor": 0
            },
            "text/plain": [
              "Downloading:   0%|          | 0.00/1.18k [00:00<?, ?B/s]"
            ]
          },
          "metadata": {},
          "output_type": "display_data"
        },
        {
          "data": {
            "application/vnd.jupyter.widget-view+json": {
              "model_id": "e3e34a1b4819489696e3d2d03186214a",
              "version_major": 2,
              "version_minor": 0
            },
            "text/plain": [
              "Downloading:   0%|          | 0.00/773k [00:00<?, ?B/s]"
            ]
          },
          "metadata": {},
          "output_type": "display_data"
        },
        {
          "data": {
            "application/vnd.jupyter.widget-view+json": {
              "model_id": "65d46c375d564acfbfadf76305001d0b",
              "version_major": 2,
              "version_minor": 0
            },
            "text/plain": [
              "Downloading:   0%|          | 0.00/65.0 [00:00<?, ?B/s]"
            ]
          },
          "metadata": {},
          "output_type": "display_data"
        },
        {
          "data": {
            "application/vnd.jupyter.widget-view+json": {
              "model_id": "817f9f0fc6294e2194a96e78ee161819",
              "version_major": 2,
              "version_minor": 0
            },
            "text/plain": [
              "Downloading:   0%|          | 0.00/850M [00:00<?, ?B/s]"
            ]
          },
          "metadata": {},
          "output_type": "display_data"
        },
        {
          "data": {
            "text/plain": [
              "'i love you!'"
            ]
          },
          "execution_count": 4,
          "metadata": {},
          "output_type": "execute_result"
        }
      ],
      "source": [
        "from transformers import AutoModelWithLMHead, AutoTokenizer\n",
        "\n",
        "tokenizer = AutoTokenizer.from_pretrained(\"mrm8488/t5-base-finetuned-span-sentiment-extraction\")\n",
        "model = AutoModelWithLMHead.from_pretrained(\"mrm8488/t5-base-finetuned-span-sentiment-extraction\")\n",
        "\n",
        "def get_sentiment_span(text):\n",
        "    input_ids = tokenizer.encode(text, return_tensors=\"pt\", add_special_tokens=True)  # Batch size 1\n",
        "\n",
        "    generated_ids = model.generate(input_ids=input_ids, num_beams=1, max_length=80).squeeze()\n",
        "\n",
        "    predicted_span = tokenizer.decode(generated_ids, skip_special_tokens=True, clean_up_tokenization_spaces=True)\n",
        "\n",
        "    return predicted_span\n",
        "  \n",
        "get_sentiment_span(\"question: negative context: My bike was put on hold...should have known that.... argh total bummer\")\n",
        "\n",
        "# output: 'argh total bummer'\n",
        "\n",
        "get_sentiment_span(\"question: positive context: On the monday, so i wont be able to be with you! i love you\")\n",
        "\n",
        "# output: 'i love you'"
      ]
    },
    {
      "cell_type": "code",
      "execution_count": null,
      "id": "9386f8ca",
      "metadata": {
        "id": "9386f8ca",
        "outputId": "426b3102-73f3-4cee-a157-c9c54a0d90c7"
      },
      "outputs": [
        {
          "data": {
            "text/plain": [
              "'biggest kick in the rear end, is that I could only get 10 of the CDs now, because I had the first issue and the second issue was too close to shipping.'"
            ]
          },
          "execution_count": 14,
          "metadata": {},
          "output_type": "execute_result"
        }
      ],
      "source": [
        "get_sentiment_span(\"question: negative context: {}\".format(example))"
      ]
    },
    {
      "cell_type": "code",
      "execution_count": null,
      "id": "19797147",
      "metadata": {
        "id": "19797147",
        "outputId": "e759bc81-c589-49c2-9f47-6f355b121fb1"
      },
      "outputs": [
        {
          "data": {
            "text/plain": [
              "\"Please understand that I have been a subscriber to Maximum PC Magazine for YEARS. I think it is probably one of the most entertaining Tech Magazines available, and the Disks that come with this little gem are absolutely packed full of the best freeware/shareware available anywhere! So imagine my excitement when I saw this offer. 12 issues of Maximum PC with what I assumed had to be the CDs because of the cover price listed and the savings. That was incredible. NO it wasn't. I ordered this and found out that this is the PRINT ONLY edition. NO CD's. Upon calling Maximum PC they said it would be another [...] per month for the CDs but the biggest kick in the rear end, is that I could only get 10 of the CDs now, because I had the first issue and the second issue was too close to shipping. IF I JUST WANTED THE MAGAZINE I COULD HAVE JUST DOWNLOADED THE FREE PDF'S THAT MAXIMUM PC MAKES AVAILABLE ON THERE WEBSITE. I WANTED BOTH. BTW AMAZON CUSTOMER SERVICE REFUSES TO DO ANYTHING ABOUT THIS OTHER THAN CANCEL THE SUBSCRIPTION OUTRIGHT. DO NOT DO IT. YOU ARE BETTER OFF JUST ORDERING IT DIRECT FROM MAXIMUM PC.\""
            ]
          },
          "execution_count": 12,
          "metadata": {},
          "output_type": "execute_result"
        }
      ],
      "source": [
        "review_samples.iloc[2]['reviewText']"
      ]
    },
    {
      "cell_type": "code",
      "execution_count": null,
      "id": "c8c98f0d",
      "metadata": {
        "id": "c8c98f0d"
      },
      "outputs": [],
      "source": [
        ""
      ]
    }
  ],
  "metadata": {
    "kernelspec": {
      "display_name": "Python 3 (ipykernel)",
      "language": "python",
      "name": "python3"
    },
    "language_info": {
      "codemirror_mode": {
        "name": "ipython",
        "version": 3
      },
      "file_extension": ".py",
      "mimetype": "text/x-python",
      "name": "python",
      "nbconvert_exporter": "python",
      "pygments_lexer": "ipython3",
      "version": "3.8.8"
    },
    "colab": {
      "name": "model-selection.ipynb",
      "provenance": []
    },
    "accelerator": "GPU",
    "widgets": {
      "application/vnd.jupyter.widget-state+json": {
        "52ccefb32b5b4168a194cd732c5d52eb": {
          "model_module": "@jupyter-widgets/controls",
          "model_name": "HBoxModel",
          "model_module_version": "1.5.0",
          "state": {
            "_dom_classes": [],
            "_model_module": "@jupyter-widgets/controls",
            "_model_module_version": "1.5.0",
            "_model_name": "HBoxModel",
            "_view_count": null,
            "_view_module": "@jupyter-widgets/controls",
            "_view_module_version": "1.5.0",
            "_view_name": "HBoxView",
            "box_style": "",
            "children": [
              "IPY_MODEL_6b54210436364f84994fa9943cc8e16f",
              "IPY_MODEL_85ebd7bf2254450ea89f14f85de7b153",
              "IPY_MODEL_54570b6eb9964aeba9d0cc94575e975f"
            ],
            "layout": "IPY_MODEL_0de7237af7d54a0981e53d3362344857"
          }
        },
        "6b54210436364f84994fa9943cc8e16f": {
          "model_module": "@jupyter-widgets/controls",
          "model_name": "HTMLModel",
          "model_module_version": "1.5.0",
          "state": {
            "_dom_classes": [],
            "_model_module": "@jupyter-widgets/controls",
            "_model_module_version": "1.5.0",
            "_model_name": "HTMLModel",
            "_view_count": null,
            "_view_module": "@jupyter-widgets/controls",
            "_view_module_version": "1.5.0",
            "_view_name": "HTMLView",
            "description": "",
            "description_tooltip": null,
            "layout": "IPY_MODEL_fccaad68be8d42d8a4d74dfb194de11a",
            "placeholder": "​",
            "style": "IPY_MODEL_2e02ef5c0b534e3d990d5b6dfb0aedef",
            "value": "Downloading: 100%"
          }
        },
        "85ebd7bf2254450ea89f14f85de7b153": {
          "model_module": "@jupyter-widgets/controls",
          "model_name": "FloatProgressModel",
          "model_module_version": "1.5.0",
          "state": {
            "_dom_classes": [],
            "_model_module": "@jupyter-widgets/controls",
            "_model_module_version": "1.5.0",
            "_model_name": "FloatProgressModel",
            "_view_count": null,
            "_view_module": "@jupyter-widgets/controls",
            "_view_module_version": "1.5.0",
            "_view_name": "ProgressView",
            "bar_style": "success",
            "description": "",
            "description_tooltip": null,
            "layout": "IPY_MODEL_3168a283c6a8498592f3b67059b6a418",
            "max": 440473133,
            "min": 0,
            "orientation": "horizontal",
            "style": "IPY_MODEL_bec03f332202428e8127202465fd6dfa",
            "value": 440473133
          }
        },
        "54570b6eb9964aeba9d0cc94575e975f": {
          "model_module": "@jupyter-widgets/controls",
          "model_name": "HTMLModel",
          "model_module_version": "1.5.0",
          "state": {
            "_dom_classes": [],
            "_model_module": "@jupyter-widgets/controls",
            "_model_module_version": "1.5.0",
            "_model_name": "HTMLModel",
            "_view_count": null,
            "_view_module": "@jupyter-widgets/controls",
            "_view_module_version": "1.5.0",
            "_view_name": "HTMLView",
            "description": "",
            "description_tooltip": null,
            "layout": "IPY_MODEL_f617e3a6fed54d0d89a5aa3a089458eb",
            "placeholder": "​",
            "style": "IPY_MODEL_12e7d2d4809d45ba8a3e0ad834d1ffc7",
            "value": " 420M/420M [00:20&lt;00:00, 15.3MB/s]"
          }
        },
        "0de7237af7d54a0981e53d3362344857": {
          "model_module": "@jupyter-widgets/base",
          "model_name": "LayoutModel",
          "model_module_version": "1.2.0",
          "state": {
            "_model_module": "@jupyter-widgets/base",
            "_model_module_version": "1.2.0",
            "_model_name": "LayoutModel",
            "_view_count": null,
            "_view_module": "@jupyter-widgets/base",
            "_view_module_version": "1.2.0",
            "_view_name": "LayoutView",
            "align_content": null,
            "align_items": null,
            "align_self": null,
            "border": null,
            "bottom": null,
            "display": null,
            "flex": null,
            "flex_flow": null,
            "grid_area": null,
            "grid_auto_columns": null,
            "grid_auto_flow": null,
            "grid_auto_rows": null,
            "grid_column": null,
            "grid_gap": null,
            "grid_row": null,
            "grid_template_areas": null,
            "grid_template_columns": null,
            "grid_template_rows": null,
            "height": null,
            "justify_content": null,
            "justify_items": null,
            "left": null,
            "margin": null,
            "max_height": null,
            "max_width": null,
            "min_height": null,
            "min_width": null,
            "object_fit": null,
            "object_position": null,
            "order": null,
            "overflow": null,
            "overflow_x": null,
            "overflow_y": null,
            "padding": null,
            "right": null,
            "top": null,
            "visibility": null,
            "width": null
          }
        },
        "fccaad68be8d42d8a4d74dfb194de11a": {
          "model_module": "@jupyter-widgets/base",
          "model_name": "LayoutModel",
          "model_module_version": "1.2.0",
          "state": {
            "_model_module": "@jupyter-widgets/base",
            "_model_module_version": "1.2.0",
            "_model_name": "LayoutModel",
            "_view_count": null,
            "_view_module": "@jupyter-widgets/base",
            "_view_module_version": "1.2.0",
            "_view_name": "LayoutView",
            "align_content": null,
            "align_items": null,
            "align_self": null,
            "border": null,
            "bottom": null,
            "display": null,
            "flex": null,
            "flex_flow": null,
            "grid_area": null,
            "grid_auto_columns": null,
            "grid_auto_flow": null,
            "grid_auto_rows": null,
            "grid_column": null,
            "grid_gap": null,
            "grid_row": null,
            "grid_template_areas": null,
            "grid_template_columns": null,
            "grid_template_rows": null,
            "height": null,
            "justify_content": null,
            "justify_items": null,
            "left": null,
            "margin": null,
            "max_height": null,
            "max_width": null,
            "min_height": null,
            "min_width": null,
            "object_fit": null,
            "object_position": null,
            "order": null,
            "overflow": null,
            "overflow_x": null,
            "overflow_y": null,
            "padding": null,
            "right": null,
            "top": null,
            "visibility": null,
            "width": null
          }
        },
        "2e02ef5c0b534e3d990d5b6dfb0aedef": {
          "model_module": "@jupyter-widgets/controls",
          "model_name": "DescriptionStyleModel",
          "model_module_version": "1.5.0",
          "state": {
            "_model_module": "@jupyter-widgets/controls",
            "_model_module_version": "1.5.0",
            "_model_name": "DescriptionStyleModel",
            "_view_count": null,
            "_view_module": "@jupyter-widgets/base",
            "_view_module_version": "1.2.0",
            "_view_name": "StyleView",
            "description_width": ""
          }
        },
        "3168a283c6a8498592f3b67059b6a418": {
          "model_module": "@jupyter-widgets/base",
          "model_name": "LayoutModel",
          "model_module_version": "1.2.0",
          "state": {
            "_model_module": "@jupyter-widgets/base",
            "_model_module_version": "1.2.0",
            "_model_name": "LayoutModel",
            "_view_count": null,
            "_view_module": "@jupyter-widgets/base",
            "_view_module_version": "1.2.0",
            "_view_name": "LayoutView",
            "align_content": null,
            "align_items": null,
            "align_self": null,
            "border": null,
            "bottom": null,
            "display": null,
            "flex": null,
            "flex_flow": null,
            "grid_area": null,
            "grid_auto_columns": null,
            "grid_auto_flow": null,
            "grid_auto_rows": null,
            "grid_column": null,
            "grid_gap": null,
            "grid_row": null,
            "grid_template_areas": null,
            "grid_template_columns": null,
            "grid_template_rows": null,
            "height": null,
            "justify_content": null,
            "justify_items": null,
            "left": null,
            "margin": null,
            "max_height": null,
            "max_width": null,
            "min_height": null,
            "min_width": null,
            "object_fit": null,
            "object_position": null,
            "order": null,
            "overflow": null,
            "overflow_x": null,
            "overflow_y": null,
            "padding": null,
            "right": null,
            "top": null,
            "visibility": null,
            "width": null
          }
        },
        "bec03f332202428e8127202465fd6dfa": {
          "model_module": "@jupyter-widgets/controls",
          "model_name": "ProgressStyleModel",
          "model_module_version": "1.5.0",
          "state": {
            "_model_module": "@jupyter-widgets/controls",
            "_model_module_version": "1.5.0",
            "_model_name": "ProgressStyleModel",
            "_view_count": null,
            "_view_module": "@jupyter-widgets/base",
            "_view_module_version": "1.2.0",
            "_view_name": "StyleView",
            "bar_color": null,
            "description_width": ""
          }
        },
        "f617e3a6fed54d0d89a5aa3a089458eb": {
          "model_module": "@jupyter-widgets/base",
          "model_name": "LayoutModel",
          "model_module_version": "1.2.0",
          "state": {
            "_model_module": "@jupyter-widgets/base",
            "_model_module_version": "1.2.0",
            "_model_name": "LayoutModel",
            "_view_count": null,
            "_view_module": "@jupyter-widgets/base",
            "_view_module_version": "1.2.0",
            "_view_name": "LayoutView",
            "align_content": null,
            "align_items": null,
            "align_self": null,
            "border": null,
            "bottom": null,
            "display": null,
            "flex": null,
            "flex_flow": null,
            "grid_area": null,
            "grid_auto_columns": null,
            "grid_auto_flow": null,
            "grid_auto_rows": null,
            "grid_column": null,
            "grid_gap": null,
            "grid_row": null,
            "grid_template_areas": null,
            "grid_template_columns": null,
            "grid_template_rows": null,
            "height": null,
            "justify_content": null,
            "justify_items": null,
            "left": null,
            "margin": null,
            "max_height": null,
            "max_width": null,
            "min_height": null,
            "min_width": null,
            "object_fit": null,
            "object_position": null,
            "order": null,
            "overflow": null,
            "overflow_x": null,
            "overflow_y": null,
            "padding": null,
            "right": null,
            "top": null,
            "visibility": null,
            "width": null
          }
        },
        "12e7d2d4809d45ba8a3e0ad834d1ffc7": {
          "model_module": "@jupyter-widgets/controls",
          "model_name": "DescriptionStyleModel",
          "model_module_version": "1.5.0",
          "state": {
            "_model_module": "@jupyter-widgets/controls",
            "_model_module_version": "1.5.0",
            "_model_name": "DescriptionStyleModel",
            "_view_count": null,
            "_view_module": "@jupyter-widgets/base",
            "_view_module_version": "1.2.0",
            "_view_name": "StyleView",
            "description_width": ""
          }
        }
      }
    }
  },
  "nbformat": 4,
  "nbformat_minor": 5
}