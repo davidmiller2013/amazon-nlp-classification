{
  "cells": [
    {
      "cell_type": "markdown",
      "id": "20bb2820",
      "metadata": {
        "id": "20bb2820"
      },
      "source": [
        "# Model selection and evaluation"
      ]
    },
    {
      "cell_type": "markdown",
      "id": "835c4870",
      "metadata": {
        "id": "835c4870"
      },
      "source": [
        "## 0.0 Notebook setup"
      ]
    },
    {
      "cell_type": "markdown",
      "id": "d6e531ea",
      "metadata": {
        "id": "d6e531ea"
      },
      "source": [
        "### X.X Colab Setup"
      ]
    },
    {
      "cell_type": "code",
      "execution_count": 1,
      "id": "aX0IHvqPrB9h",
      "metadata": {
        "colab": {
          "base_uri": "https://localhost:8080/"
        },
        "id": "aX0IHvqPrB9h",
        "outputId": "daaa6220-9494-44e3-e978-899ff2429400"
      },
      "outputs": [
        {
          "output_type": "stream",
          "name": "stdout",
          "text": [
            "Mounted at /content/gdrive/\n"
          ]
        }
      ],
      "source": [
        "from google.colab import drive\n",
        "drive.mount('/content/gdrive/', force_remount=True)"
      ]
    },
    {
      "cell_type": "code",
      "execution_count": 2,
      "id": "9vnzzqbdraH_",
      "metadata": {
        "id": "9vnzzqbdraH_"
      },
      "outputs": [],
      "source": [
        "! mkdir data"
      ]
    },
    {
      "cell_type": "code",
      "execution_count": 3,
      "id": "0A4JchtFtgsT",
      "metadata": {
        "id": "0A4JchtFtgsT"
      },
      "outputs": [],
      "source": [
        "! cp \"/content/gdrive/My Drive/colab-data/combined.csv\" ./data/"
      ]
    },
    {
      "cell_type": "code",
      "execution_count": 4,
      "id": "ncWfMYNDwGnj",
      "metadata": {
        "colab": {
          "base_uri": "https://localhost:8080/",
          "height": 35
        },
        "id": "ncWfMYNDwGnj",
        "outputId": "586d2fb6-f0a1-40e9-c5c3-60a3e1c7118c"
      },
      "outputs": [
        {
          "output_type": "execute_result",
          "data": {
            "text/plain": [
              "'/device:GPU:0'"
            ],
            "application/vnd.google.colaboratory.intrinsic+json": {
              "type": "string"
            }
          },
          "metadata": {},
          "execution_count": 4
        }
      ],
      "source": [
        "import tensorflow as tf\n",
        "tf.test.gpu_device_name()"
      ]
    },
    {
      "cell_type": "code",
      "execution_count": 5,
      "id": "VIpdJLpswGLc",
      "metadata": {
        "colab": {
          "base_uri": "https://localhost:8080/"
        },
        "id": "VIpdJLpswGLc",
        "outputId": "01fab4eb-1b65-4b32-9414-713364839664"
      },
      "outputs": [
        {
          "output_type": "execute_result",
          "data": {
            "text/plain": [
              "[name: \"/device:CPU:0\"\n",
              " device_type: \"CPU\"\n",
              " memory_limit: 268435456\n",
              " locality {\n",
              " }\n",
              " incarnation: 4463191038221845003\n",
              " xla_global_id: -1, name: \"/device:GPU:0\"\n",
              " device_type: \"GPU\"\n",
              " memory_limit: 14465892352\n",
              " locality {\n",
              "   bus_id: 1\n",
              "   links {\n",
              "   }\n",
              " }\n",
              " incarnation: 8491217056128692569\n",
              " physical_device_desc: \"device: 0, name: Tesla T4, pci bus id: 0000:00:04.0, compute capability: 7.5\"\n",
              " xla_global_id: 416903419]"
            ]
          },
          "metadata": {},
          "execution_count": 5
        }
      ],
      "source": [
        "from tensorflow.python.client import device_lib\n",
        "device_lib.list_local_devices()"
      ]
    },
    {
      "cell_type": "code",
      "execution_count": 6,
      "id": "IcYfIaElNZwb",
      "metadata": {
        "colab": {
          "base_uri": "https://localhost:8080/"
        },
        "id": "IcYfIaElNZwb",
        "outputId": "b39564bf-39c5-4c7d-bba3-1ebe03f954b1"
      },
      "outputs": [
        {
          "output_type": "stream",
          "name": "stdout",
          "text": [
            "\u001b[K     |████████████████████████████████| 4.2 MB 32.2 MB/s \n",
            "\u001b[K     |████████████████████████████████| 596 kB 65.9 MB/s \n",
            "\u001b[K     |████████████████████████████████| 6.6 MB 69.9 MB/s \n",
            "\u001b[K     |████████████████████████████████| 84 kB 4.0 MB/s \n",
            "\u001b[?25h"
          ]
        }
      ],
      "source": [
        "!pip install --quiet transformers"
      ]
    },
    {
      "cell_type": "markdown",
      "id": "7631b809",
      "metadata": {
        "id": "7631b809"
      },
      "source": [
        "### X.X General setup"
      ]
    },
    {
      "cell_type": "code",
      "execution_count": 7,
      "id": "3f0320af",
      "metadata": {
        "id": "3f0320af"
      },
      "outputs": [],
      "source": [
        "import warnings\n",
        "\n",
        "warnings.simplefilter(\"ignore\", UserWarning)\n",
        "warnings.simplefilter(\"ignore\", FutureWarning)\n",
        "warnings.simplefilter(\"ignore\", DeprecationWarning)"
      ]
    },
    {
      "cell_type": "code",
      "execution_count": 8,
      "id": "3abac3ad",
      "metadata": {
        "id": "3abac3ad"
      },
      "outputs": [],
      "source": [
        "# Statistics\n",
        "import numpy as np\n",
        "import pandas as pd\n",
        "from scipy.stats import chi2_contingency, norm, skew, kurtosis\n",
        "\n",
        "# Visualization\n",
        "%matplotlib inline\n",
        "import matplotlib.pyplot as plt\n",
        "import seaborn as sns\n",
        "\n",
        "# Model selection and evaluation\n",
        "from sklearn.model_selection import train_test_split\n",
        "from imblearn.over_sampling import SMOTE\n",
        "from sklearn.metrics import confusion_matrix, ConfusionMatrixDisplay\n",
        "from sklearn.metrics import classification_report, precision_recall_fscore_support, roc_curve, auc, accuracy_score\n",
        "\n",
        "# Model building\n",
        "from sklearn.naive_bayes import MultinomialNB\n",
        "from sklearn.feature_extraction.text import TfidfVectorizer\n",
        "\n",
        "import tensorflow as tf\n",
        "import keras\n",
        "from keras.preprocessing.text import Tokenizer\n",
        "from keras.preprocessing.sequence import pad_sequences\n",
        "from keras.models import Sequential\n",
        "from keras.layers import Embedding, Bidirectional, Dense, Flatten, LSTM, Dropout\n",
        "from keras.layers.convolutional import Conv1D\n",
        "from keras.layers.convolutional import MaxPooling1D\n",
        "\n",
        "# BERT-specific\n",
        "from transformers import BertTokenizer, TFBertForSequenceClassification\n",
        "from transformers import InputExample, InputFeatures"
      ]
    },
    {
      "cell_type": "code",
      "execution_count": 9,
      "id": "768f4b5c",
      "metadata": {
        "id": "768f4b5c"
      },
      "outputs": [],
      "source": [
        "# Local\n",
        "# data = '../data/combined.csv'\n",
        "\n",
        "# Colab\n",
        "data = './data/combined.csv'\n",
        "\n",
        "review_samples = pd.read_csv(data)"
      ]
    },
    {
      "cell_type": "code",
      "execution_count": 10,
      "id": "b2e1ec74",
      "metadata": {
        "colab": {
          "base_uri": "https://localhost:8080/"
        },
        "id": "b2e1ec74",
        "outputId": "2283fcef-efd6-465d-f9ba-cb985cf34ef7"
      },
      "outputs": [
        {
          "output_type": "execute_result",
          "data": {
            "text/plain": [
              "0    24294\n",
              "1     5697\n",
              "Name: helpful, dtype: int64"
            ]
          },
          "metadata": {},
          "execution_count": 10
        }
      ],
      "source": [
        "# Create sentiment axis label for plots\n",
        "sentiment = ['Not Useful', 'Useful']\n",
        "\n",
        "# Check split of useful / not useful\n",
        "review_samples['helpful'].value_counts()"
      ]
    },
    {
      "cell_type": "markdown",
      "metadata": {
        "id": "bpMQV1A3QlTW"
      },
      "source": [
        "## X.X Combined data"
      ],
      "id": "bpMQV1A3QlTW"
    },
    {
      "cell_type": "code",
      "execution_count": 11,
      "metadata": {
        "id": "g3TsbDPuQlTW"
      },
      "outputs": [],
      "source": [
        "labels = review_samples['helpful'].astype(int)"
      ],
      "id": "g3TsbDPuQlTW"
    },
    {
      "cell_type": "markdown",
      "metadata": {
        "id": "BeUfXUjiQlTX"
      },
      "source": [
        "### X.X Naive Bayes - Combined"
      ],
      "id": "BeUfXUjiQlTX"
    },
    {
      "cell_type": "code",
      "execution_count": 12,
      "metadata": {
        "id": "-0tbDXUgQlTY"
      },
      "outputs": [],
      "source": [
        "reviews = review_samples['review_processed'].fillna('no review')"
      ],
      "id": "-0tbDXUgQlTY"
    },
    {
      "cell_type": "code",
      "execution_count": 13,
      "metadata": {
        "id": "kFYS3s_TQlTZ"
      },
      "outputs": [],
      "source": [
        "X_train, X_test, y_train, y_test = train_test_split(reviews, labels, test_size=0.2, random_state=0)\n",
        "X_train, X_dev, y_train, y_dev = train_test_split(X_train, y_train, test_size=0.25, random_state=0)\n",
        "\n",
        "tf_idf = TfidfVectorizer(ngram_range=(1, 3),\n",
        "                         binary=True,\n",
        "                         smooth_idf=False)\n",
        "\n",
        "X_train_tfidf = tf_idf.fit_transform(X_train)\n",
        "X_dev_tfidf = tf_idf.transform(X_dev)\n",
        "X_test_tfidf = tf_idf.transform(X_test)\n",
        "\n",
        "# Use SMOTE to resolve class imbalance\n",
        "sm = SMOTE(random_state=0)\n",
        "X_train_tfidf, y_train = sm.fit_resample(X_train_tfidf, y_train)"
      ],
      "id": "kFYS3s_TQlTZ"
    },
    {
      "cell_type": "code",
      "execution_count": 14,
      "metadata": {
        "colab": {
          "base_uri": "https://localhost:8080/"
        },
        "outputId": "323f2612-8912-40d4-9b4c-0362f7ab64ce",
        "id": "MDMnZIplQlTZ"
      },
      "outputs": [
        {
          "output_type": "execute_result",
          "data": {
            "text/plain": [
              "MultinomialNB(alpha=1.8)"
            ]
          },
          "metadata": {},
          "execution_count": 14
        }
      ],
      "source": [
        "# Build model\n",
        "nb_model = MultinomialNB(alpha=1.8)\n",
        "\n",
        "# Fit model\n",
        "nb_model.fit(X_train_tfidf, y_train)"
      ],
      "id": "MDMnZIplQlTZ"
    },
    {
      "cell_type": "code",
      "execution_count": 15,
      "metadata": {
        "colab": {
          "base_uri": "https://localhost:8080/"
        },
        "outputId": "85d2429e-2e59-490d-fb4a-c2b02e3a910d",
        "id": "xWUyivsiQlTa"
      },
      "outputs": [
        {
          "output_type": "stream",
          "name": "stdout",
          "text": [
            "0.9394500445724474 0.5013337779259753 0.5160860143357227\n"
          ]
        }
      ],
      "source": [
        "# Evaluate model accuracy\n",
        "train_acc = nb_model.score(X_train_tfidf, y_train)\n",
        "dev_acc = nb_model.score(X_dev_tfidf, y_dev)\n",
        "test_acc = nb_model.score(X_test_tfidf, y_test)\n",
        "\n",
        "print(train_acc, dev_acc, test_acc)"
      ],
      "id": "xWUyivsiQlTa"
    },
    {
      "cell_type": "code",
      "execution_count": 16,
      "metadata": {
        "colab": {
          "base_uri": "https://localhost:8080/",
          "height": 295
        },
        "outputId": "826a8939-1124-4073-d4f7-e90aa4390cbc",
        "id": "Xc60DLW6QlTa"
      },
      "outputs": [
        {
          "output_type": "display_data",
          "data": {
            "text/plain": [
              "<Figure size 432x288 with 2 Axes>"
            ],
            "image/png": "[encoded data removed]"
          },
          "metadata": {
            "needs_background": "light"
          }
        }
      ],
      "source": [
        "# Plot confusion matrix on training data\n",
        "y_true = y_train\n",
        "y_pred = nb_model.predict(X_train_tfidf)\n",
        "\n",
        "ConfusionMatrixDisplay.from_predictions(y_true,\n",
        "                                        y_pred,\n",
        "                                        normalize='all',\n",
        "                                        display_labels=sentiment\n",
        "                                       )\n",
        "\n",
        "plt.title(\"Confusion Matrix of Review Usefulness\")\n",
        "plt.show()"
      ],
      "id": "Xc60DLW6QlTa"
    },
    {
      "cell_type": "code",
      "execution_count": 17,
      "metadata": {
        "colab": {
          "base_uri": "https://localhost:8080/",
          "height": 295
        },
        "outputId": "8a610fea-3d5d-4adb-9e29-0384dbedd6c2",
        "id": "3Rvc8mmsQlTb"
      },
      "outputs": [
        {
          "output_type": "display_data",
          "data": {
            "text/plain": [
              "<Figure size 432x288 with 2 Axes>"
            ],
            "image/png": "[encoded data removed]"
          },
          "metadata": {
            "needs_background": "light"
          }
        }
      ],
      "source": [
        "# Evaluate model on test data and plot confusion matrix\n",
        "y_true = y_test\n",
        "y_pred = nb_model.predict(X_test_tfidf)\n",
        "\n",
        "ConfusionMatrixDisplay.from_predictions(y_true,\n",
        "                                        y_pred,\n",
        "                                        normalize='all',\n",
        "                                        display_labels=sentiment\n",
        "                                       )\n",
        "\n",
        "plt.title(\"Confusion Matrix of Review Usefulness\")\n",
        "plt.show()"
      ],
      "id": "3Rvc8mmsQlTb"
    },
    {
      "cell_type": "code",
      "execution_count": 18,
      "metadata": {
        "colab": {
          "base_uri": "https://localhost:8080/",
          "height": 312
        },
        "outputId": "21c5432d-9a1d-429d-801c-4cbda7fca858",
        "id": "xjJm734RQlTc"
      },
      "outputs": [
        {
          "output_type": "stream",
          "name": "stdout",
          "text": [
            "AUC: 0.5925\n"
          ]
        },
        {
          "output_type": "display_data",
          "data": {
            "text/plain": [
              "<Figure size 432x288 with 1 Axes>"
            ],
            "image/png": "[encoded data removed]"
          },
          "metadata": {
            "needs_background": "light"
          }
        }
      ],
      "source": [
        "fpr, tpr, threshold = roc_curve(y_true, y_pred)\n",
        "roc_auc = auc(fpr, tpr)\n",
        "print(f'AUC: {roc_auc:.4f}')\n",
        "\n",
        "# Plot ROC AUC\n",
        "plt.title('Receiver Operating Characteristic')\n",
        "plt.plot(fpr, tpr, 'b', label = 'AUC = %0.2f' % roc_auc)\n",
        "plt.legend(loc = 'lower right')\n",
        "plt.plot([0, 1], [0, 1],'r--')\n",
        "plt.xlim([0, 1])\n",
        "plt.ylim([0, 1])\n",
        "plt.ylabel('True Positive Rate')\n",
        "plt.xlabel('False Positive Rate')\n",
        "plt.show()"
      ],
      "id": "xjJm734RQlTc"
    },
    {
      "cell_type": "code",
      "source": [
        "# Evaluate model\n",
        "precision, recall, f1, support = precision_recall_fscore_support(y_true, y_pred, average='weighted')\n",
        "print(\"Model performance metrics on test data\")\n",
        "print(\"Accuracy: {:.4f}\\nPrecision: {:.4f}\\nRecall: {:.4f}\\nF1-score: {:.4f}\".format(test_acc, precision, recall, f1))"
      ],
      "metadata": {
        "outputId": "5f1fc6dc-99b0-4564-dc30-d2e5eeb1795d",
        "colab": {
          "base_uri": "https://localhost:8080/"
        },
        "id": "taZBUHe9QlTc"
      },
      "execution_count": 19,
      "outputs": [
        {
          "output_type": "stream",
          "name": "stdout",
          "text": [
            "Model performance metrics on test data\n",
            "Accuracy: 0.5161\n",
            "Precision: 0.7527\n",
            "Recall: 0.5161\n",
            "F1-score: 0.5624\n"
          ]
        }
      ],
      "id": "taZBUHe9QlTc"
    },
    {
      "cell_type": "markdown",
      "metadata": {
        "id": "VQ56pjddQlTd"
      },
      "source": [
        "### X.X Tokenization and analytics - Combined"
      ],
      "id": "VQ56pjddQlTd"
    },
    {
      "cell_type": "code",
      "execution_count": 20,
      "metadata": {
        "id": "YrWyq0QYQlTd"
      },
      "outputs": [],
      "source": [
        "# Set tokenization parameters\n",
        "num_words = 4000\n",
        "num_len = 512\n",
        "oov_token = '<UNK>'\n",
        "pad_type = 'post'\n",
        "trunc_type = 'post'\n",
        "\n",
        "# Tokenize review text\n",
        "tokenizer = Tokenizer(num_words=num_words, oov_token=oov_token)\n",
        "tokenizer.fit_on_texts(reviews)\n",
        "sequences = tokenizer.texts_to_sequences(reviews)\n",
        "\n",
        "# Additional tokenization parameters\n",
        "max_words = len(tokenizer.word_index)\n",
        "max_len = max([len(x) for x in sequences])\n",
        "\n",
        "# Pad review text tokens\n",
        "review_tokens = pad_sequences(sequences, padding=pad_type, truncating=trunc_type, maxlen=num_len)"
      ],
      "id": "YrWyq0QYQlTd"
    },
    {
      "cell_type": "code",
      "execution_count": 21,
      "metadata": {
        "outputId": "95239413-ed71-4166-a51a-c3981fdee7c5",
        "colab": {
          "base_uri": "https://localhost:8080/"
        },
        "id": "5GLPREEzQlTe"
      },
      "outputs": [
        {
          "output_type": "execute_result",
          "data": {
            "text/plain": [
              "19777"
            ]
          },
          "metadata": {},
          "execution_count": 21
        }
      ],
      "source": [
        "len(tokenizer.word_counts)"
      ],
      "id": "5GLPREEzQlTe"
    },
    {
      "cell_type": "code",
      "execution_count": 22,
      "metadata": {
        "outputId": "bc2f2a3c-a4f4-496e-90e1-fb8f9eefcd14",
        "colab": {
          "base_uri": "https://localhost:8080/",
          "height": 363
        },
        "id": "7NZCsOSFQlTe"
      },
      "outputs": [
        {
          "output_type": "execute_result",
          "data": {
            "text/plain": [
              "        word  frequency\n",
              "28     great       8516\n",
              "16      good       6451\n",
              "128      use       5996\n",
              "1       work       5295\n",
              "167      one       5018\n",
              "93       get       4860\n",
              "5       well       4385\n",
              "191     like       4169\n",
              "34      love       4128\n",
              "24   product       3926"
            ],
            "text/html": [
              "\n",
              "  <div id=\"df-18e5545d-e329-44da-b1cd-226afec0f78e\">\n",
              "    <div class=\"colab-df-container\">\n",
              "      <div>\n",
              "<style scoped>\n",
              "    .dataframe tbody tr th:only-of-type {\n",
              "        vertical-align: middle;\n",
              "    }\n",
              "\n",
              "    .dataframe tbody tr th {\n",
              "        vertical-align: top;\n",
              "    }\n",
              "\n",
              "    .dataframe thead th {\n",
              "        text-align: right;\n",
              "    }\n",
              "</style>\n",
              "<table border=\"1\" class=\"dataframe\">\n",
              "  <thead>\n",
              "    <tr style=\"text-align: right;\">\n",
              "      <th></th>\n",
              "      <th>word</th>\n",
              "      <th>frequency</th>\n",
              "    </tr>\n",
              "  </thead>\n",
              "  <tbody>\n",
              "    <tr>\n",
              "      <th>28</th>\n",
              "      <td>great</td>\n",
              "      <td>8516</td>\n",
              "    </tr>\n",
              "    <tr>\n",
              "      <th>16</th>\n",
              "      <td>good</td>\n",
              "      <td>6451</td>\n",
              "    </tr>\n",
              "    <tr>\n",
              "      <th>128</th>\n",
              "      <td>use</td>\n",
              "      <td>5996</td>\n",
              "    </tr>\n",
              "    <tr>\n",
              "      <th>1</th>\n",
              "      <td>work</td>\n",
              "      <td>5295</td>\n",
              "    </tr>\n",
              "    <tr>\n",
              "      <th>167</th>\n",
              "      <td>one</td>\n",
              "      <td>5018</td>\n",
              "    </tr>\n",
              "    <tr>\n",
              "      <th>93</th>\n",
              "      <td>get</td>\n",
              "      <td>4860</td>\n",
              "    </tr>\n",
              "    <tr>\n",
              "      <th>5</th>\n",
              "      <td>well</td>\n",
              "      <td>4385</td>\n",
              "    </tr>\n",
              "    <tr>\n",
              "      <th>191</th>\n",
              "      <td>like</td>\n",
              "      <td>4169</td>\n",
              "    </tr>\n",
              "    <tr>\n",
              "      <th>34</th>\n",
              "      <td>love</td>\n",
              "      <td>4128</td>\n",
              "    </tr>\n",
              "    <tr>\n",
              "      <th>24</th>\n",
              "      <td>product</td>\n",
              "      <td>3926</td>\n",
              "    </tr>\n",
              "  </tbody>\n",
              "</table>\n",
              "</div>\n",
              "      <button class=\"colab-df-convert\" onclick=\"convertToInteractive('df-18e5545d-e329-44da-b1cd-226afec0f78e')\"\n",
              "              title=\"Convert this dataframe to an interactive table.\"\n",
              "              style=\"display:none;\">\n",
              "        \n",
              "  <svg xmlns=\"http://www.w3.org/2000/svg\" height=\"24px\"viewBox=\"0 0 24 24\"\n",
              "       width=\"24px\">\n",
              "    <path d=\"M0 0h24v24H0V0z\" fill=\"none\"/>\n",
              "    <path d=\"M18.56 5.44l.94 2.06.94-2.06 2.06-.94-2.06-.94-.94-2.06-.94 2.06-2.06.94zm-11 1L8.5 8.5l.94-2.06 2.06-.94-2.06-.94L8.5 2.5l-.94 2.06-2.06.94zm10 10l.94 2.06.94-2.06 2.06-.94-2.06-.94-.94-2.06-.94 2.06-2.06.94z\"/><path d=\"M17.41 7.96l-1.37-1.37c-.4-.4-.92-.59-1.43-.59-.52 0-1.04.2-1.43.59L10.3 9.45l-7.72 7.72c-.78.78-.78 2.05 0 2.83L4 21.41c.39.39.9.59 1.41.59.51 0 1.02-.2 1.41-.59l7.78-7.78 2.81-2.81c.8-.78.8-2.07 0-2.86zM5.41 20L4 18.59l7.72-7.72 1.47 1.35L5.41 20z\"/>\n",
              "  </svg>\n",
              "      </button>\n",
              "      \n",
              "  <style>\n",
              "    .colab-df-container {\n",
              "      display:flex;\n",
              "      flex-wrap:wrap;\n",
              "      gap: 12px;\n",
              "    }\n",
              "\n",
              "    .colab-df-convert {\n",
              "      background-color: #E8F0FE;\n",
              "      border: none;\n",
              "      border-radius: 50%;\n",
              "      cursor: pointer;\n",
              "      display: none;\n",
              "      fill: #1967D2;\n",
              "      height: 32px;\n",
              "      padding: 0 0 0 0;\n",
              "      width: 32px;\n",
              "    }\n",
              "\n",
              "    .colab-df-convert:hover {\n",
              "      background-color: #E2EBFA;\n",
              "      box-shadow: 0px 1px 2px rgba(60, 64, 67, 0.3), 0px 1px 3px 1px rgba(60, 64, 67, 0.15);\n",
              "      fill: #174EA6;\n",
              "    }\n",
              "\n",
              "    [theme=dark] .colab-df-convert {\n",
              "      background-color: #3B4455;\n",
              "      fill: #D2E3FC;\n",
              "    }\n",
              "\n",
              "    [theme=dark] .colab-df-convert:hover {\n",
              "      background-color: #434B5C;\n",
              "      box-shadow: 0px 1px 3px 1px rgba(0, 0, 0, 0.15);\n",
              "      filter: drop-shadow(0px 1px 2px rgba(0, 0, 0, 0.3));\n",
              "      fill: #FFFFFF;\n",
              "    }\n",
              "  </style>\n",
              "\n",
              "      <script>\n",
              "        const buttonEl =\n",
              "          document.querySelector('#df-18e5545d-e329-44da-b1cd-226afec0f78e button.colab-df-convert');\n",
              "        buttonEl.style.display =\n",
              "          google.colab.kernel.accessAllowed ? 'block' : 'none';\n",
              "\n",
              "        async function convertToInteractive(key) {\n",
              "          const element = document.querySelector('#df-18e5545d-e329-44da-b1cd-226afec0f78e');\n",
              "          const dataTable =\n",
              "            await google.colab.kernel.invokeFunction('convertToInteractive',\n",
              "                                                     [key], {});\n",
              "          if (!dataTable) return;\n",
              "\n",
              "          const docLinkHtml = 'Like what you see? Visit the ' +\n",
              "            '<a target=\"_blank\" href=https://colab.research.google.com/notebooks/data_table.ipynb>data table notebook</a>'\n",
              "            + ' to learn more about interactive tables.';\n",
              "          element.innerHTML = '';\n",
              "          dataTable['output_type'] = 'display_data';\n",
              "          await google.colab.output.renderOutput(dataTable, element);\n",
              "          const docLink = document.createElement('div');\n",
              "          docLink.innerHTML = docLinkHtml;\n",
              "          element.appendChild(docLink);\n",
              "        }\n",
              "      </script>\n",
              "    </div>\n",
              "  </div>\n",
              "  "
            ]
          },
          "metadata": {},
          "execution_count": 22
        }
      ],
      "source": [
        "vocab = pd.DataFrame(tokenizer.word_counts.items(), columns=['word', 'frequency'])\n",
        "vocab.sort_values('frequency', ascending=False).head(10)"
      ],
      "id": "7NZCsOSFQlTe"
    },
    {
      "cell_type": "code",
      "execution_count": 23,
      "metadata": {
        "outputId": "49e8abe0-9dd6-48b3-97e0-603be583a7b5",
        "colab": {
          "base_uri": "https://localhost:8080/",
          "height": 265
        },
        "id": "6SnmxNoKQlTe"
      },
      "outputs": [
        {
          "output_type": "display_data",
          "data": {
            "text/plain": [
              "<Figure size 432x288 with 1 Axes>"
            ],
            "image/png": "[encoded data removed]"
          },
          "metadata": {
            "needs_background": "light"
          }
        }
      ],
      "source": [
        "filtered_vocab = vocab[vocab['frequency'] > 1]\n",
        "plt.hist(filtered_vocab['frequency'], bins=20)\n",
        "plt.show()"
      ],
      "id": "6SnmxNoKQlTe"
    },
    {
      "cell_type": "code",
      "execution_count": 25,
      "metadata": {
        "outputId": "d8fc6f06-d19d-451c-c9b4-f06e81c4b8d8",
        "colab": {
          "base_uri": "https://localhost:8080/"
        },
        "id": "AjtXjEtNQlTf"
      },
      "outputs": [
        {
          "output_type": "stream",
          "name": "stdout",
          "text": [
            "Max words in vocabulary: 19778\n",
            "Max sequence length: 977\n",
            "\n",
            "\n",
            "Words allowed in vocabulary: 4000\n",
            "Allowed sequence length: 512\n",
            "\n",
            "\n",
            "Example processed review:\n",
            "headline item say stainless steel read description say zinc confirm zinc cast nearly nice show image false advertising return refund\n",
            "\n",
            "\n",
            "Example tokenized review:\n",
            "[   1  105   47 1943  814  223  547   47    1 2479    1 1754  878   21\n",
            "  235 1149 2909 2891  121  694    0    0    0    0    0    0    0    0\n",
            "    0    0    0    0    0    0    0    0    0    0    0    0    0    0\n",
            "    0    0    0    0    0    0    0    0    0    0    0    0    0    0\n",
            "    0    0    0    0    0    0    0    0    0    0    0    0    0    0\n",
            "    0    0    0    0    0    0    0    0    0    0    0    0    0    0\n",
            "    0    0    0    0    0    0    0    0    0    0    0    0    0    0\n",
            "    0    0    0    0    0    0    0    0    0    0    0    0    0    0\n",
            "    0    0    0    0    0    0    0    0    0    0    0    0    0    0\n",
            "    0    0    0    0    0    0    0    0    0    0    0    0    0    0\n",
            "    0    0    0    0    0    0    0    0    0    0    0    0    0    0\n",
            "    0    0    0    0    0    0    0    0    0    0    0    0    0    0\n",
            "    0    0    0    0    0    0    0    0    0    0    0    0    0    0\n",
            "    0    0    0    0    0    0    0    0    0    0    0    0    0    0\n",
            "    0    0    0    0    0    0    0    0    0    0    0    0    0    0\n",
            "    0    0    0    0    0    0    0    0    0    0    0    0    0    0\n",
            "    0    0    0    0    0    0    0    0    0    0    0    0    0    0\n",
            "    0    0    0    0    0    0    0    0    0    0    0    0    0    0\n",
            "    0    0    0    0    0    0    0    0    0    0    0    0    0    0\n",
            "    0    0    0    0    0    0    0    0    0    0    0    0    0    0\n",
            "    0    0    0    0    0    0    0    0    0    0    0    0    0    0\n",
            "    0    0    0    0    0    0    0    0    0    0    0    0    0    0\n",
            "    0    0    0    0    0    0    0    0    0    0    0    0    0    0\n",
            "    0    0    0    0    0    0    0    0    0    0    0    0    0    0\n",
            "    0    0    0    0    0    0    0    0    0    0    0    0    0    0\n",
            "    0    0    0    0    0    0    0    0    0    0    0    0    0    0\n",
            "    0    0    0    0    0    0    0    0    0    0    0    0    0    0\n",
            "    0    0    0    0    0    0    0    0    0    0    0    0    0    0\n",
            "    0    0    0    0    0    0    0    0    0    0    0    0    0    0\n",
            "    0    0    0    0    0    0    0    0    0    0    0    0    0    0\n",
            "    0    0    0    0    0    0    0    0    0    0    0    0    0    0\n",
            "    0    0    0    0    0    0    0    0    0    0    0    0    0    0\n",
            "    0    0    0    0    0    0    0    0    0    0    0    0    0    0\n",
            "    0    0    0    0    0    0    0    0    0    0    0    0    0    0\n",
            "    0    0    0    0    0    0    0    0    0    0    0    0    0    0\n",
            "    0    0    0    0    0    0    0    0    0    0    0    0    0    0\n",
            "    0    0    0    0    0    0    0    0]\n"
          ]
        }
      ],
      "source": [
        "print('Max words in vocabulary: {}'.format(max_words))\n",
        "print('Max sequence length: {}'.format(max_len))\n",
        "print('\\n')\n",
        "\n",
        "print('Words allowed in vocabulary: {}'.format(num_words))\n",
        "print('Allowed sequence length: {}'.format(num_len))\n",
        "print('\\n')\n",
        "\n",
        "print('Example processed review:')\n",
        "print(review_samples['review_processed'].iloc[500])\n",
        "print('\\n')\n",
        "\n",
        "print('Example tokenized review:')\n",
        "print(review_tokens[500])"
      ],
      "id": "AjtXjEtNQlTf"
    },
    {
      "cell_type": "code",
      "execution_count": 26,
      "metadata": {
        "outputId": "723ed041-2cbb-4682-dae9-c7c6716aaa35",
        "colab": {
          "base_uri": "https://localhost:8080/",
          "height": 265
        },
        "id": "SMTaf3c2QlTf"
      },
      "outputs": [
        {
          "output_type": "display_data",
          "data": {
            "text/plain": [
              "<Figure size 432x288 with 1 Axes>"
            ],
            "image/png": "[encoded data removed]"
          },
          "metadata": {
            "needs_background": "light"
          }
        }
      ],
      "source": [
        "seq_len = [len(x) for x in sequences]\n",
        "d = {'sequence': sequences, 'length': seq_len}\n",
        "seqs = pd.DataFrame(data = d)\n",
        "\n",
        "plt.hist(seqs['length'])\n",
        "plt.show()"
      ],
      "id": "SMTaf3c2QlTf"
    },
    {
      "cell_type": "code",
      "execution_count": 27,
      "metadata": {
        "outputId": "15e8d62a-a82d-4a85-a074-6386c872d1c7",
        "colab": {
          "base_uri": "https://localhost:8080/",
          "height": 614
        },
        "id": "9t4mk6MOQlTf"
      },
      "outputs": [
        {
          "output_type": "execute_result",
          "data": {
            "text/plain": [
              "                                                sequence  length\n",
              "84     [2247, 1, 369, 277, 129, 329, 6, 1, 2007, 63, ...     838\n",
              "304    [1, 110, 334, 2107, 332, 235, 2537, 75, 43, 10...     616\n",
              "634    [1124, 1, 1421, 1, 104, 59, 1478, 4, 3155, 51,...     977\n",
              "1643   [1, 1, 67, 1720, 1, 1, 1720, 1531, 420, 393, 5...     951\n",
              "2179   [85, 3686, 50, 2865, 70, 102, 117, 16, 336, 2,...     543\n",
              "2527   [62, 338, 13, 33, 11, 14, 241, 1272, 107, 1579...     749\n",
              "2697   [372, 950, 953, 2493, 50, 241, 51, 101, 52, 12...     701\n",
              "2751   [1, 1, 67, 1720, 1, 1, 1720, 1531, 420, 393, 5...     951\n",
              "3232   [344, 1, 392, 235, 1, 33, 47, 138, 235, 75, 39...     585\n",
              "3807   [344, 1, 1, 875, 11, 50, 47, 1594, 1230, 875, ...     897\n",
              "4387   [418, 85, 1230, 62, 20, 809, 50, 1, 59, 360, 1...     652\n",
              "4531   [1, 1, 1478, 3527, 1515, 1, 953, 578, 2355, 18...     646\n",
              "4605   [932, 18, 33, 92, 2313, 760, 789, 222, 58, 118...     606\n",
              "5445   [19, 1090, 274, 1275, 34, 38, 420, 45, 31, 259...     514\n",
              "6687   [320, 180, 131, 944, 192, 34, 33, 35, 33, 2378...     657\n",
              "7157   [50, 423, 1434, 66, 192, 34, 33, 142, 7, 113, ...     528\n",
              "9267   [375, 50, 162, 70, 57, 19, 15, 70, 57, 57, 19,...     630\n",
              "10834  [3196, 1, 756, 2493, 1153, 50, 276, 117, 448, ...     724"
            ],
            "text/html": [
              "\n",
              "  <div id=\"df-e1cba19a-5e33-4fb5-ace9-66402f0f4ffd\">\n",
              "    <div class=\"colab-df-container\">\n",
              "      <div>\n",
              "<style scoped>\n",
              "    .dataframe tbody tr th:only-of-type {\n",
              "        vertical-align: middle;\n",
              "    }\n",
              "\n",
              "    .dataframe tbody tr th {\n",
              "        vertical-align: top;\n",
              "    }\n",
              "\n",
              "    .dataframe thead th {\n",
              "        text-align: right;\n",
              "    }\n",
              "</style>\n",
              "<table border=\"1\" class=\"dataframe\">\n",
              "  <thead>\n",
              "    <tr style=\"text-align: right;\">\n",
              "      <th></th>\n",
              "      <th>sequence</th>\n",
              "      <th>length</th>\n",
              "    </tr>\n",
              "  </thead>\n",
              "  <tbody>\n",
              "    <tr>\n",
              "      <th>84</th>\n",
              "      <td>[2247, 1, 369, 277, 129, 329, 6, 1, 2007, 63, ...</td>\n",
              "      <td>838</td>\n",
              "    </tr>\n",
              "    <tr>\n",
              "      <th>304</th>\n",
              "      <td>[1, 110, 334, 2107, 332, 235, 2537, 75, 43, 10...</td>\n",
              "      <td>616</td>\n",
              "    </tr>\n",
              "    <tr>\n",
              "      <th>634</th>\n",
              "      <td>[1124, 1, 1421, 1, 104, 59, 1478, 4, 3155, 51,...</td>\n",
              "      <td>977</td>\n",
              "    </tr>\n",
              "    <tr>\n",
              "      <th>1643</th>\n",
              "      <td>[1, 1, 67, 1720, 1, 1, 1720, 1531, 420, 393, 5...</td>\n",
              "      <td>951</td>\n",
              "    </tr>\n",
              "    <tr>\n",
              "      <th>2179</th>\n",
              "      <td>[85, 3686, 50, 2865, 70, 102, 117, 16, 336, 2,...</td>\n",
              "      <td>543</td>\n",
              "    </tr>\n",
              "    <tr>\n",
              "      <th>2527</th>\n",
              "      <td>[62, 338, 13, 33, 11, 14, 241, 1272, 107, 1579...</td>\n",
              "      <td>749</td>\n",
              "    </tr>\n",
              "    <tr>\n",
              "      <th>2697</th>\n",
              "      <td>[372, 950, 953, 2493, 50, 241, 51, 101, 52, 12...</td>\n",
              "      <td>701</td>\n",
              "    </tr>\n",
              "    <tr>\n",
              "      <th>2751</th>\n",
              "      <td>[1, 1, 67, 1720, 1, 1, 1720, 1531, 420, 393, 5...</td>\n",
              "      <td>951</td>\n",
              "    </tr>\n",
              "    <tr>\n",
              "      <th>3232</th>\n",
              "      <td>[344, 1, 392, 235, 1, 33, 47, 138, 235, 75, 39...</td>\n",
              "      <td>585</td>\n",
              "    </tr>\n",
              "    <tr>\n",
              "      <th>3807</th>\n",
              "      <td>[344, 1, 1, 875, 11, 50, 47, 1594, 1230, 875, ...</td>\n",
              "      <td>897</td>\n",
              "    </tr>\n",
              "    <tr>\n",
              "      <th>4387</th>\n",
              "      <td>[418, 85, 1230, 62, 20, 809, 50, 1, 59, 360, 1...</td>\n",
              "      <td>652</td>\n",
              "    </tr>\n",
              "    <tr>\n",
              "      <th>4531</th>\n",
              "      <td>[1, 1, 1478, 3527, 1515, 1, 953, 578, 2355, 18...</td>\n",
              "      <td>646</td>\n",
              "    </tr>\n",
              "    <tr>\n",
              "      <th>4605</th>\n",
              "      <td>[932, 18, 33, 92, 2313, 760, 789, 222, 58, 118...</td>\n",
              "      <td>606</td>\n",
              "    </tr>\n",
              "    <tr>\n",
              "      <th>5445</th>\n",
              "      <td>[19, 1090, 274, 1275, 34, 38, 420, 45, 31, 259...</td>\n",
              "      <td>514</td>\n",
              "    </tr>\n",
              "    <tr>\n",
              "      <th>6687</th>\n",
              "      <td>[320, 180, 131, 944, 192, 34, 33, 35, 33, 2378...</td>\n",
              "      <td>657</td>\n",
              "    </tr>\n",
              "    <tr>\n",
              "      <th>7157</th>\n",
              "      <td>[50, 423, 1434, 66, 192, 34, 33, 142, 7, 113, ...</td>\n",
              "      <td>528</td>\n",
              "    </tr>\n",
              "    <tr>\n",
              "      <th>9267</th>\n",
              "      <td>[375, 50, 162, 70, 57, 19, 15, 70, 57, 57, 19,...</td>\n",
              "      <td>630</td>\n",
              "    </tr>\n",
              "    <tr>\n",
              "      <th>10834</th>\n",
              "      <td>[3196, 1, 756, 2493, 1153, 50, 276, 117, 448, ...</td>\n",
              "      <td>724</td>\n",
              "    </tr>\n",
              "  </tbody>\n",
              "</table>\n",
              "</div>\n",
              "      <button class=\"colab-df-convert\" onclick=\"convertToInteractive('df-e1cba19a-5e33-4fb5-ace9-66402f0f4ffd')\"\n",
              "              title=\"Convert this dataframe to an interactive table.\"\n",
              "              style=\"display:none;\">\n",
              "        \n",
              "  <svg xmlns=\"http://www.w3.org/2000/svg\" height=\"24px\"viewBox=\"0 0 24 24\"\n",
              "       width=\"24px\">\n",
              "    <path d=\"M0 0h24v24H0V0z\" fill=\"none\"/>\n",
              "    <path d=\"M18.56 5.44l.94 2.06.94-2.06 2.06-.94-2.06-.94-.94-2.06-.94 2.06-2.06.94zm-11 1L8.5 8.5l.94-2.06 2.06-.94-2.06-.94L8.5 2.5l-.94 2.06-2.06.94zm10 10l.94 2.06.94-2.06 2.06-.94-2.06-.94-.94-2.06-.94 2.06-2.06.94z\"/><path d=\"M17.41 7.96l-1.37-1.37c-.4-.4-.92-.59-1.43-.59-.52 0-1.04.2-1.43.59L10.3 9.45l-7.72 7.72c-.78.78-.78 2.05 0 2.83L4 21.41c.39.39.9.59 1.41.59.51 0 1.02-.2 1.41-.59l7.78-7.78 2.81-2.81c.8-.78.8-2.07 0-2.86zM5.41 20L4 18.59l7.72-7.72 1.47 1.35L5.41 20z\"/>\n",
              "  </svg>\n",
              "      </button>\n",
              "      \n",
              "  <style>\n",
              "    .colab-df-container {\n",
              "      display:flex;\n",
              "      flex-wrap:wrap;\n",
              "      gap: 12px;\n",
              "    }\n",
              "\n",
              "    .colab-df-convert {\n",
              "      background-color: #E8F0FE;\n",
              "      border: none;\n",
              "      border-radius: 50%;\n",
              "      cursor: pointer;\n",
              "      display: none;\n",
              "      fill: #1967D2;\n",
              "      height: 32px;\n",
              "      padding: 0 0 0 0;\n",
              "      width: 32px;\n",
              "    }\n",
              "\n",
              "    .colab-df-convert:hover {\n",
              "      background-color: #E2EBFA;\n",
              "      box-shadow: 0px 1px 2px rgba(60, 64, 67, 0.3), 0px 1px 3px 1px rgba(60, 64, 67, 0.15);\n",
              "      fill: #174EA6;\n",
              "    }\n",
              "\n",
              "    [theme=dark] .colab-df-convert {\n",
              "      background-color: #3B4455;\n",
              "      fill: #D2E3FC;\n",
              "    }\n",
              "\n",
              "    [theme=dark] .colab-df-convert:hover {\n",
              "      background-color: #434B5C;\n",
              "      box-shadow: 0px 1px 3px 1px rgba(0, 0, 0, 0.15);\n",
              "      filter: drop-shadow(0px 1px 2px rgba(0, 0, 0, 0.3));\n",
              "      fill: #FFFFFF;\n",
              "    }\n",
              "  </style>\n",
              "\n",
              "      <script>\n",
              "        const buttonEl =\n",
              "          document.querySelector('#df-e1cba19a-5e33-4fb5-ace9-66402f0f4ffd button.colab-df-convert');\n",
              "        buttonEl.style.display =\n",
              "          google.colab.kernel.accessAllowed ? 'block' : 'none';\n",
              "\n",
              "        async function convertToInteractive(key) {\n",
              "          const element = document.querySelector('#df-e1cba19a-5e33-4fb5-ace9-66402f0f4ffd');\n",
              "          const dataTable =\n",
              "            await google.colab.kernel.invokeFunction('convertToInteractive',\n",
              "                                                     [key], {});\n",
              "          if (!dataTable) return;\n",
              "\n",
              "          const docLinkHtml = 'Like what you see? Visit the ' +\n",
              "            '<a target=\"_blank\" href=https://colab.research.google.com/notebooks/data_table.ipynb>data table notebook</a>'\n",
              "            + ' to learn more about interactive tables.';\n",
              "          element.innerHTML = '';\n",
              "          dataTable['output_type'] = 'display_data';\n",
              "          await google.colab.output.renderOutput(dataTable, element);\n",
              "          const docLink = document.createElement('div');\n",
              "          docLink.innerHTML = docLinkHtml;\n",
              "          element.appendChild(docLink);\n",
              "        }\n",
              "      </script>\n",
              "    </div>\n",
              "  </div>\n",
              "  "
            ]
          },
          "metadata": {},
          "execution_count": 27
        }
      ],
      "source": [
        "seqs[seqs['length'] > 512]"
      ],
      "id": "9t4mk6MOQlTf"
    },
    {
      "cell_type": "markdown",
      "metadata": {
        "id": "UDmhKe8oQlTg"
      },
      "source": [
        "### X.X CNN - Combined"
      ],
      "id": "UDmhKe8oQlTg"
    },
    {
      "cell_type": "code",
      "execution_count": 28,
      "metadata": {
        "id": "T4f-ozwpQlTg"
      },
      "outputs": [],
      "source": [
        "# Set model hyperparamters\n",
        "output_dim = 256\n",
        "epochs = 10\n",
        "batch_size = 512\n",
        "dropout_rate = 0.0\n",
        "num_classes = len(np.unique(labels, axis=0))\n",
        "opt = tf.keras.optimizers.Adam(learning_rate=0.001,\n",
        "                               epsilon=0.00000001,\n",
        "                               clipnorm=1.0\n",
        "                              )\n",
        "loss_func = 'binary_crossentropy'\n",
        "metrics = ['accuracy']"
      ],
      "id": "T4f-ozwpQlTg"
    },
    {
      "cell_type": "code",
      "execution_count": 29,
      "metadata": {
        "id": "afv7MHXEQlTg"
      },
      "outputs": [],
      "source": [
        "# # Split data into train, dev, and test sets\n",
        "X_train, X_test, y_train, y_test = train_test_split(review_tokens, labels, test_size=0.2, random_state=0)\n",
        "X_train, X_dev, y_train, y_dev = train_test_split(X_train, y_train, test_size=0.25, random_state=0)\n",
        "\n",
        "# Use SMOTE to balance the training set\n",
        "sm = SMOTE(random_state=0)\n",
        "X_train, y_train = sm.fit_resample(X_train, y_train)"
      ],
      "id": "afv7MHXEQlTg"
    },
    {
      "cell_type": "code",
      "execution_count": 30,
      "metadata": {
        "colab": {
          "base_uri": "https://localhost:8080/"
        },
        "outputId": "9360085b-9533-48cc-926a-6a28df6dd982",
        "id": "f4_iMHLJQlTh"
      },
      "outputs": [
        {
          "output_type": "execute_result",
          "data": {
            "text/plain": [
              "(5999,)"
            ]
          },
          "metadata": {},
          "execution_count": 30
        }
      ],
      "source": [
        "y_test.shape"
      ],
      "id": "f4_iMHLJQlTh"
    },
    {
      "cell_type": "code",
      "execution_count": 31,
      "metadata": {
        "colab": {
          "base_uri": "https://localhost:8080/"
        },
        "outputId": "26663ca9-70af-48de-dded-b80f6eea4052",
        "id": "4stTCVpSQlTh"
      },
      "outputs": [
        {
          "output_type": "stream",
          "name": "stdout",
          "text": [
            "Model: \"sequential\"\n",
            "_________________________________________________________________\n",
            " Layer (type)                Output Shape              Param #   \n",
            "=================================================================\n",
            " embedding (Embedding)       (None, 512, 256)          1024000   \n",
            "                                                                 \n",
            " conv1d (Conv1D)             (None, 512, 16)           12304     \n",
            "                                                                 \n",
            " flatten (Flatten)           (None, 8192)              0         \n",
            "                                                                 \n",
            " dense (Dense)               (None, 256)               2097408   \n",
            "                                                                 \n",
            " dense_1 (Dense)             (None, 1)                 257       \n",
            "                                                                 \n",
            "=================================================================\n",
            "Total params: 3,133,969\n",
            "Trainable params: 3,133,969\n",
            "Non-trainable params: 0\n",
            "_________________________________________________________________\n"
          ]
        }
      ],
      "source": [
        "# Build model\n",
        "cnn_model = Sequential()\n",
        "cnn_model.add(Embedding(input_dim=num_words, output_dim=output_dim, input_length=num_len))\n",
        "cnn_model.add(Conv1D(16, 3, padding='same', activation='relu'))\n",
        "# cnn_model.add(MaxPooling1D())\n",
        "cnn_model.add(Flatten())\n",
        "cnn_model.add(Dense(256, activation='relu'))\n",
        "cnn_model.add(Dense(1, activation='sigmoid'))\n",
        "cnn_model.compile(optimizer=opt, loss=loss_func, metrics=metrics)\n",
        "cnn_model.summary()\n"
      ],
      "id": "4stTCVpSQlTh"
    },
    {
      "cell_type": "code",
      "execution_count": 32,
      "metadata": {
        "colab": {
          "base_uri": "https://localhost:8080/"
        },
        "outputId": "53d83480-a370-4b50-9b22-4814e778c108",
        "id": "nw55Rd3KQlTi"
      },
      "outputs": [
        {
          "output_type": "stream",
          "name": "stdout",
          "text": [
            "Epoch 1/10\n",
            "57/57 - 15s - loss: 0.6113 - accuracy: 0.6614 - val_loss: 0.5812 - val_accuracy: 0.6997 - 15s/epoch - 258ms/step\n",
            "Epoch 2/10\n",
            "57/57 - 2s - loss: 0.5044 - accuracy: 0.7523 - val_loss: 0.5796 - val_accuracy: 0.7216 - 2s/epoch - 38ms/step\n",
            "Epoch 3/10\n",
            "57/57 - 2s - loss: 0.4086 - accuracy: 0.8173 - val_loss: 0.6244 - val_accuracy: 0.7126 - 2s/epoch - 38ms/step\n",
            "Epoch 4/10\n",
            "57/57 - 2s - loss: 0.3084 - accuracy: 0.8775 - val_loss: 0.7287 - val_accuracy: 0.6867 - 2s/epoch - 38ms/step\n",
            "Epoch 5/10\n",
            "57/57 - 2s - loss: 0.2139 - accuracy: 0.9206 - val_loss: 0.9503 - val_accuracy: 0.6626 - 2s/epoch - 38ms/step\n",
            "Epoch 6/10\n",
            "57/57 - 2s - loss: 0.1496 - accuracy: 0.9486 - val_loss: 1.2396 - val_accuracy: 0.6399 - 2s/epoch - 38ms/step\n",
            "Epoch 7/10\n",
            "57/57 - 2s - loss: 0.1113 - accuracy: 0.9621 - val_loss: 1.2184 - val_accuracy: 0.6764 - 2s/epoch - 38ms/step\n",
            "Epoch 8/10\n",
            "57/57 - 2s - loss: 0.0843 - accuracy: 0.9732 - val_loss: 1.4207 - val_accuracy: 0.6519 - 2s/epoch - 38ms/step\n",
            "Epoch 9/10\n",
            "57/57 - 2s - loss: 0.0689 - accuracy: 0.9776 - val_loss: 1.5211 - val_accuracy: 0.6574 - 2s/epoch - 38ms/step\n",
            "Epoch 10/10\n",
            "57/57 - 2s - loss: 0.0597 - accuracy: 0.9800 - val_loss: 1.6508 - val_accuracy: 0.6532 - 2s/epoch - 38ms/step\n"
          ]
        },
        {
          "output_type": "execute_result",
          "data": {
            "text/plain": [
              "<keras.callbacks.History at 0x7f3a7ca10b50>"
            ]
          },
          "metadata": {},
          "execution_count": 32
        }
      ],
      "source": [
        "# Fit model\n",
        "cnn_model.fit(X_train,\n",
        "              y_train,\n",
        "              validation_data=(X_dev, y_dev),\n",
        "              epochs=epochs,\n",
        "              batch_size=batch_size,\n",
        "              verbose=2\n",
        "             )"
      ],
      "id": "nw55Rd3KQlTi"
    },
    {
      "cell_type": "code",
      "execution_count": 33,
      "metadata": {
        "colab": {
          "base_uri": "https://localhost:8080/",
          "height": 295
        },
        "outputId": "1df8b53b-3df3-4ddb-b0a3-b69747a37b79",
        "id": "KTzuicKkQlTi"
      },
      "outputs": [
        {
          "output_type": "display_data",
          "data": {
            "text/plain": [
              "<Figure size 432x288 with 2 Axes>"
            ],
            "image/png": "[encoded data removed]"
          },
          "metadata": {
            "needs_background": "light"
          }
        }
      ],
      "source": [
        "# Plot confusion matrix on training data\n",
        "y_true = y_train\n",
        "y_pred = (cnn_model.predict(X_train) >= 0.5).astype(\"int32\")\n",
        "\n",
        "ConfusionMatrixDisplay.from_predictions(y_true,\n",
        "                                        y_pred,\n",
        "                                        normalize='all',\n",
        "                                        display_labels=sentiment\n",
        "                                       )\n",
        "\n",
        "plt.title(\"Confusion Matrix of Review Usefulness\")\n",
        "plt.show()"
      ],
      "id": "KTzuicKkQlTi"
    },
    {
      "cell_type": "code",
      "execution_count": 34,
      "metadata": {
        "colab": {
          "base_uri": "https://localhost:8080/",
          "height": 295
        },
        "outputId": "c4052c31-3741-437c-a2a6-579c0a0dc3b3",
        "id": "OHe7sz7LQlTj"
      },
      "outputs": [
        {
          "output_type": "display_data",
          "data": {
            "text/plain": [
              "<Figure size 432x288 with 2 Axes>"
            ],
            "image/png": "[encoded data removed]"
          },
          "metadata": {
            "needs_background": "light"
          }
        }
      ],
      "source": [
        "# Plot confusion matrix on test data\n",
        "y_true = y_test\n",
        "y_pred = (cnn_model.predict(X_test) >= 0.5).astype(\"int32\")\n",
        "\n",
        "ConfusionMatrixDisplay.from_predictions(y_true,\n",
        "                                        y_pred,\n",
        "                                        normalize='all',\n",
        "                                        display_labels=sentiment\n",
        "                                       )\n",
        "\n",
        "plt.title(\"Confusion Matrix of Review Usefulness\")\n",
        "plt.show()"
      ],
      "id": "OHe7sz7LQlTj"
    },
    {
      "cell_type": "code",
      "execution_count": 35,
      "metadata": {
        "colab": {
          "base_uri": "https://localhost:8080/"
        },
        "outputId": "9690076d-056a-4cd7-d9af-91385c8fb33b",
        "id": "lmpLsAUxQlTj"
      },
      "outputs": [
        {
          "output_type": "stream",
          "name": "stdout",
          "text": [
            "              precision    recall  f1-score   support\n",
            "\n",
            "           0       0.84      0.72      0.77      4845\n",
            "           1       0.26      0.41      0.32      1154\n",
            "\n",
            "    accuracy                           0.66      5999\n",
            "   macro avg       0.55      0.56      0.54      5999\n",
            "weighted avg       0.72      0.66      0.68      5999\n",
            "\n"
          ]
        }
      ],
      "source": [
        "print(classification_report(y_true, y_pred))"
      ],
      "id": "lmpLsAUxQlTj"
    },
    {
      "cell_type": "code",
      "execution_count": 36,
      "metadata": {
        "colab": {
          "base_uri": "https://localhost:8080/"
        },
        "outputId": "e89ae039-f938-4b17-e05c-33cc53be817c",
        "id": "n5TU4TgAQlTj"
      },
      "outputs": [
        {
          "output_type": "stream",
          "name": "stdout",
          "text": [
            "188/188 [==============================] - 1s 3ms/step - loss: 1.6769 - accuracy: 0.6586\n",
            "Model performance metrics on test data\n",
            "Accuracy: 0.6586\n",
            "Loss: 1.6769\n",
            "Precision: 0.7248\n",
            "Recall: 0.6586\n",
            "F1-score: 0.6847\n"
          ]
        }
      ],
      "source": [
        "# Evaluate model\n",
        "loss, acc = cnn_model.evaluate(X_test, y_test, verbose=1)\n",
        "precision, recall, f1, support = precision_recall_fscore_support(y_true, y_pred, average='weighted')\n",
        "print(\"Model performance metrics on test data\")\n",
        "print(\"Accuracy: {:.4f}\\nLoss: {:.4f}\\nPrecision: {:.4f}\\nRecall: {:.4f}\\nF1-score: {:.4f}\".format(acc, loss, precision, recall, f1))"
      ],
      "id": "n5TU4TgAQlTj"
    },
    {
      "cell_type": "code",
      "execution_count": 37,
      "metadata": {
        "id": "qX2N0pHfQlTk"
      },
      "outputs": [],
      "source": [
        "example0 = \"Golf tips magazine is one of the most aptly titled magazines available today. \\\n",
        "            It is chock full of heavily-illustrated exercises and other tips for serious golfers to improve their games.\\\n",
        "            \\nThere are a number of golf magazines on the newstand today. Most of them rely on a lifestyle format relying \\\n",
        "            more heavily on lifestyle-type stories about today's hot golfers and the courses they play. Most of them include \\\n",
        "            a brief game tip or two but seem aimed at the casual duffer.\\nGolf Tips, on the other hand, features almost nothing \\\n",
        "            but heavily illustrated tips on improving one's swing, eliminating mistakes and putting better. It also is heavily \\\n",
        "            loaded with features on the latest equipment technology. Each issue also seems to feature an article on the technical \\\n",
        "            aspects of a selected major golf course. The articles are written with terminology that serious golfers will understand \\\n",
        "            but that may confuse the weekend player. Judging by the amount of advertising in its early issues, this magazine also \\\n",
        "            appears to be financially healthy.\\nIf a reader wants to read about the PGA Tour's superstars, this magazine is not for \\\n",
        "            him/her. But if s/he plans to be one of those superstars, Golf Tips is a good match.\"\n",
        "\n",
        "example1 = \"The information is interesting and fun, the writing is superb, and the writers and editors have a great sense of humor. \\\n",
        "            I just wish it came out more often!\"\n",
        "\n",
        "example2 = \"this data science article is the best ever\"\n",
        "\n",
        "example3 = \"i really loved how the technician helped me with the issue that i had\"\n",
        "\n",
        "example4 = \"useless comment\"\n",
        "\n",
        "examples = [example0, example1, example2, example3, example4]"
      ],
      "id": "qX2N0pHfQlTk"
    },
    {
      "cell_type": "code",
      "execution_count": 38,
      "metadata": {
        "id": "oSzNpPw9QlTk"
      },
      "outputs": [],
      "source": [
        "def test_examples(model, examples, num_len=512):\n",
        "    for idx, example in enumerate(examples):\n",
        "        sequence = tokenizer.texts_to_sequences([example])\n",
        "        test = pad_sequences(sequence, maxlen=num_len)\n",
        "        prediction = sentiment[np.around(model.predict(test), decimals=0).argmax(axis=1)[0]]\n",
        "        print(idx, \":\", prediction)"
      ],
      "id": "oSzNpPw9QlTk"
    },
    {
      "cell_type": "code",
      "execution_count": 39,
      "metadata": {
        "colab": {
          "base_uri": "https://localhost:8080/"
        },
        "outputId": "4be6044e-f54d-46ca-d5c3-bf3ba0f9012c",
        "id": "2cl_GeSgQlTk"
      },
      "outputs": [
        {
          "output_type": "stream",
          "name": "stdout",
          "text": [
            "0 : Not Useful\n",
            "1 : Not Useful\n",
            "2 : Not Useful\n",
            "3 : Not Useful\n",
            "4 : Not Useful\n"
          ]
        }
      ],
      "source": [
        "test_examples(cnn_model, examples)"
      ],
      "id": "2cl_GeSgQlTk"
    },
    {
      "cell_type": "markdown",
      "metadata": {
        "id": "PDmS4DH9QlTn"
      },
      "source": [
        "### X.X BERT - Combined\n",
        "\n",
        "[TF BERT Tutorial](https://www.tensorflow.org/text/tutorials/classify_text_with_bert)"
      ],
      "id": "PDmS4DH9QlTn"
    },
    {
      "cell_type": "code",
      "execution_count": 40,
      "metadata": {
        "colab": {
          "base_uri": "https://localhost:8080/"
        },
        "outputId": "05365406-5327-4168-a78b-fec3d54055fe",
        "id": "hmMSQCtmQlTn"
      },
      "outputs": [
        {
          "output_type": "stream",
          "name": "stdout",
          "text": [
            "\u001b[K     |████████████████████████████████| 4.9 MB 18.5 MB/s \n",
            "\u001b[K     |████████████████████████████████| 462 kB 56.1 MB/s \n",
            "\u001b[?25h"
          ]
        }
      ],
      "source": [
        "# A dependency of the preprocessing for BERT inputs\n",
        "!pip install -q -U \"tensorflow-text==2.8.*\""
      ],
      "id": "hmMSQCtmQlTn"
    },
    {
      "cell_type": "code",
      "execution_count": 41,
      "metadata": {
        "colab": {
          "base_uri": "https://localhost:8080/"
        },
        "outputId": "fab77453-03bc-4aa2-f2cc-874dd5d8fb84",
        "id": "hABxerLkQlTn"
      },
      "outputs": [
        {
          "output_type": "stream",
          "name": "stdout",
          "text": [
            "\u001b[?25l\r\u001b[K     |▏                               | 10 kB 32.3 MB/s eta 0:00:01\r\u001b[K     |▍                               | 20 kB 37.1 MB/s eta 0:00:01\r\u001b[K     |▌                               | 30 kB 23.2 MB/s eta 0:00:01\r\u001b[K     |▊                               | 40 kB 13.5 MB/s eta 0:00:01\r\u001b[K     |█                               | 51 kB 12.0 MB/s eta 0:00:01\r\u001b[K     |█                               | 61 kB 14.0 MB/s eta 0:00:01\r\u001b[K     |█▎                              | 71 kB 14.3 MB/s eta 0:00:01\r\u001b[K     |█▍                              | 81 kB 14.5 MB/s eta 0:00:01\r\u001b[K     |█▋                              | 92 kB 15.9 MB/s eta 0:00:01\r\u001b[K     |█▉                              | 102 kB 16.6 MB/s eta 0:00:01\r\u001b[K     |██                              | 112 kB 16.6 MB/s eta 0:00:01\r\u001b[K     |██▏                             | 122 kB 16.6 MB/s eta 0:00:01\r\u001b[K     |██▍                             | 133 kB 16.6 MB/s eta 0:00:01\r\u001b[K     |██▌                             | 143 kB 16.6 MB/s eta 0:00:01\r\u001b[K     |██▊                             | 153 kB 16.6 MB/s eta 0:00:01\r\u001b[K     |██▉                             | 163 kB 16.6 MB/s eta 0:00:01\r\u001b[K     |███                             | 174 kB 16.6 MB/s eta 0:00:01\r\u001b[K     |███▎                            | 184 kB 16.6 MB/s eta 0:00:01\r\u001b[K     |███▍                            | 194 kB 16.6 MB/s eta 0:00:01\r\u001b[K     |███▋                            | 204 kB 16.6 MB/s eta 0:00:01\r\u001b[K     |███▉                            | 215 kB 16.6 MB/s eta 0:00:01\r\u001b[K     |████                            | 225 kB 16.6 MB/s eta 0:00:01\r\u001b[K     |████▏                           | 235 kB 16.6 MB/s eta 0:00:01\r\u001b[K     |████▎                           | 245 kB 16.6 MB/s eta 0:00:01\r\u001b[K     |████▌                           | 256 kB 16.6 MB/s eta 0:00:01\r\u001b[K     |████▊                           | 266 kB 16.6 MB/s eta 0:00:01\r\u001b[K     |████▉                           | 276 kB 16.6 MB/s eta 0:00:01\r\u001b[K     |█████                           | 286 kB 16.6 MB/s eta 0:00:01\r\u001b[K     |█████▎                          | 296 kB 16.6 MB/s eta 0:00:01\r\u001b[K     |█████▍                          | 307 kB 16.6 MB/s eta 0:00:01\r\u001b[K     |█████▋                          | 317 kB 16.6 MB/s eta 0:00:01\r\u001b[K     |█████▊                          | 327 kB 16.6 MB/s eta 0:00:01\r\u001b[K     |██████                          | 337 kB 16.6 MB/s eta 0:00:01\r\u001b[K     |██████▏                         | 348 kB 16.6 MB/s eta 0:00:01\r\u001b[K     |██████▎                         | 358 kB 16.6 MB/s eta 0:00:01\r\u001b[K     |██████▌                         | 368 kB 16.6 MB/s eta 0:00:01\r\u001b[K     |██████▊                         | 378 kB 16.6 MB/s eta 0:00:01\r\u001b[K     |██████▉                         | 389 kB 16.6 MB/s eta 0:00:01\r\u001b[K     |███████                         | 399 kB 16.6 MB/s eta 0:00:01\r\u001b[K     |███████▏                        | 409 kB 16.6 MB/s eta 0:00:01\r\u001b[K     |███████▍                        | 419 kB 16.6 MB/s eta 0:00:01\r\u001b[K     |███████▋                        | 430 kB 16.6 MB/s eta 0:00:01\r\u001b[K     |███████▊                        | 440 kB 16.6 MB/s eta 0:00:01\r\u001b[K     |████████                        | 450 kB 16.6 MB/s eta 0:00:01\r\u001b[K     |████████                        | 460 kB 16.6 MB/s eta 0:00:01\r\u001b[K     |████████▎                       | 471 kB 16.6 MB/s eta 0:00:01\r\u001b[K     |████████▌                       | 481 kB 16.6 MB/s eta 0:00:01\r\u001b[K     |████████▋                       | 491 kB 16.6 MB/s eta 0:00:01\r\u001b[K     |████████▉                       | 501 kB 16.6 MB/s eta 0:00:01\r\u001b[K     |█████████                       | 512 kB 16.6 MB/s eta 0:00:01\r\u001b[K     |█████████▏                      | 522 kB 16.6 MB/s eta 0:00:01\r\u001b[K     |█████████▍                      | 532 kB 16.6 MB/s eta 0:00:01\r\u001b[K     |█████████▌                      | 542 kB 16.6 MB/s eta 0:00:01\r\u001b[K     |█████████▊                      | 552 kB 16.6 MB/s eta 0:00:01\r\u001b[K     |██████████                      | 563 kB 16.6 MB/s eta 0:00:01\r\u001b[K     |██████████                      | 573 kB 16.6 MB/s eta 0:00:01\r\u001b[K     |██████████▎                     | 583 kB 16.6 MB/s eta 0:00:01\r\u001b[K     |██████████▌                     | 593 kB 16.6 MB/s eta 0:00:01\r\u001b[K     |██████████▋                     | 604 kB 16.6 MB/s eta 0:00:01\r\u001b[K     |██████████▉                     | 614 kB 16.6 MB/s eta 0:00:01\r\u001b[K     |███████████                     | 624 kB 16.6 MB/s eta 0:00:01\r\u001b[K     |███████████▏                    | 634 kB 16.6 MB/s eta 0:00:01\r\u001b[K     |███████████▍                    | 645 kB 16.6 MB/s eta 0:00:01\r\u001b[K     |███████████▌                    | 655 kB 16.6 MB/s eta 0:00:01\r\u001b[K     |███████████▊                    | 665 kB 16.6 MB/s eta 0:00:01\r\u001b[K     |████████████                    | 675 kB 16.6 MB/s eta 0:00:01\r\u001b[K     |████████████                    | 686 kB 16.6 MB/s eta 0:00:01\r\u001b[K     |████████████▎                   | 696 kB 16.6 MB/s eta 0:00:01\r\u001b[K     |████████████▍                   | 706 kB 16.6 MB/s eta 0:00:01\r\u001b[K     |████████████▋                   | 716 kB 16.6 MB/s eta 0:00:01\r\u001b[K     |████████████▉                   | 727 kB 16.6 MB/s eta 0:00:01\r\u001b[K     |█████████████                   | 737 kB 16.6 MB/s eta 0:00:01\r\u001b[K     |█████████████▏                  | 747 kB 16.6 MB/s eta 0:00:01\r\u001b[K     |█████████████▍                  | 757 kB 16.6 MB/s eta 0:00:01\r\u001b[K     |█████████████▌                  | 768 kB 16.6 MB/s eta 0:00:01\r\u001b[K     |█████████████▊                  | 778 kB 16.6 MB/s eta 0:00:01\r\u001b[K     |█████████████▉                  | 788 kB 16.6 MB/s eta 0:00:01\r\u001b[K     |██████████████                  | 798 kB 16.6 MB/s eta 0:00:01\r\u001b[K     |██████████████▎                 | 808 kB 16.6 MB/s eta 0:00:01\r\u001b[K     |██████████████▍                 | 819 kB 16.6 MB/s eta 0:00:01\r\u001b[K     |██████████████▋                 | 829 kB 16.6 MB/s eta 0:00:01\r\u001b[K     |██████████████▊                 | 839 kB 16.6 MB/s eta 0:00:01\r\u001b[K     |███████████████                 | 849 kB 16.6 MB/s eta 0:00:01\r\u001b[K     |███████████████▏                | 860 kB 16.6 MB/s eta 0:00:01\r\u001b[K     |███████████████▎                | 870 kB 16.6 MB/s eta 0:00:01\r\u001b[K     |███████████████▌                | 880 kB 16.6 MB/s eta 0:00:01\r\u001b[K     |███████████████▊                | 890 kB 16.6 MB/s eta 0:00:01\r\u001b[K     |███████████████▉                | 901 kB 16.6 MB/s eta 0:00:01\r\u001b[K     |████████████████                | 911 kB 16.6 MB/s eta 0:00:01\r\u001b[K     |████████████████▏               | 921 kB 16.6 MB/s eta 0:00:01\r\u001b[K     |████████████████▍               | 931 kB 16.6 MB/s eta 0:00:01\r\u001b[K     |████████████████▋               | 942 kB 16.6 MB/s eta 0:00:01\r\u001b[K     |████████████████▊               | 952 kB 16.6 MB/s eta 0:00:01\r\u001b[K     |█████████████████               | 962 kB 16.6 MB/s eta 0:00:01\r\u001b[K     |█████████████████▏              | 972 kB 16.6 MB/s eta 0:00:01\r\u001b[K     |█████████████████▎              | 983 kB 16.6 MB/s eta 0:00:01\r\u001b[K     |█████████████████▌              | 993 kB 16.6 MB/s eta 0:00:01\r\u001b[K     |█████████████████▋              | 1.0 MB 16.6 MB/s eta 0:00:01\r\u001b[K     |█████████████████▉              | 1.0 MB 16.6 MB/s eta 0:00:01\r\u001b[K     |██████████████████              | 1.0 MB 16.6 MB/s eta 0:00:01\r\u001b[K     |██████████████████▏             | 1.0 MB 16.6 MB/s eta 0:00:01\r\u001b[K     |██████████████████▍             | 1.0 MB 16.6 MB/s eta 0:00:01\r\u001b[K     |██████████████████▋             | 1.1 MB 16.6 MB/s eta 0:00:01\r\u001b[K     |██████████████████▊             | 1.1 MB 16.6 MB/s eta 0:00:01\r\u001b[K     |███████████████████             | 1.1 MB 16.6 MB/s eta 0:00:01\r\u001b[K     |███████████████████             | 1.1 MB 16.6 MB/s eta 0:00:01\r\u001b[K     |███████████████████▎            | 1.1 MB 16.6 MB/s eta 0:00:01\r\u001b[K     |███████████████████▌            | 1.1 MB 16.6 MB/s eta 0:00:01\r\u001b[K     |███████████████████▋            | 1.1 MB 16.6 MB/s eta 0:00:01\r\u001b[K     |███████████████████▉            | 1.1 MB 16.6 MB/s eta 0:00:01\r\u001b[K     |████████████████████            | 1.1 MB 16.6 MB/s eta 0:00:01\r\u001b[K     |████████████████████▏           | 1.1 MB 16.6 MB/s eta 0:00:01\r\u001b[K     |████████████████████▍           | 1.2 MB 16.6 MB/s eta 0:00:01\r\u001b[K     |████████████████████▌           | 1.2 MB 16.6 MB/s eta 0:00:01\r\u001b[K     |████████████████████▊           | 1.2 MB 16.6 MB/s eta 0:00:01\r\u001b[K     |█████████████████████           | 1.2 MB 16.6 MB/s eta 0:00:01\r\u001b[K     |█████████████████████           | 1.2 MB 16.6 MB/s eta 0:00:01\r\u001b[K     |█████████████████████▎          | 1.2 MB 16.6 MB/s eta 0:00:01\r\u001b[K     |█████████████████████▍          | 1.2 MB 16.6 MB/s eta 0:00:01\r\u001b[K     |█████████████████████▋          | 1.2 MB 16.6 MB/s eta 0:00:01\r\u001b[K     |█████████████████████▉          | 1.2 MB 16.6 MB/s eta 0:00:01\r\u001b[K     |██████████████████████          | 1.2 MB 16.6 MB/s eta 0:00:01\r\u001b[K     |██████████████████████▏         | 1.3 MB 16.6 MB/s eta 0:00:01\r\u001b[K     |██████████████████████▍         | 1.3 MB 16.6 MB/s eta 0:00:01\r\u001b[K     |██████████████████████▌         | 1.3 MB 16.6 MB/s eta 0:00:01\r\u001b[K     |██████████████████████▊         | 1.3 MB 16.6 MB/s eta 0:00:01\r\u001b[K     |██████████████████████▉         | 1.3 MB 16.6 MB/s eta 0:00:01\r\u001b[K     |███████████████████████         | 1.3 MB 16.6 MB/s eta 0:00:01\r\u001b[K     |███████████████████████▎        | 1.3 MB 16.6 MB/s eta 0:00:01\r\u001b[K     |███████████████████████▍        | 1.3 MB 16.6 MB/s eta 0:00:01\r\u001b[K     |███████████████████████▋        | 1.3 MB 16.6 MB/s eta 0:00:01\r\u001b[K     |███████████████████████▉        | 1.4 MB 16.6 MB/s eta 0:00:01\r\u001b[K     |████████████████████████        | 1.4 MB 16.6 MB/s eta 0:00:01\r\u001b[K     |████████████████████████▏       | 1.4 MB 16.6 MB/s eta 0:00:01\r\u001b[K     |████████████████████████▎       | 1.4 MB 16.6 MB/s eta 0:00:01\r\u001b[K     |████████████████████████▌       | 1.4 MB 16.6 MB/s eta 0:00:01\r\u001b[K     |████████████████████████▊       | 1.4 MB 16.6 MB/s eta 0:00:01\r\u001b[K     |████████████████████████▉       | 1.4 MB 16.6 MB/s eta 0:00:01\r\u001b[K     |█████████████████████████       | 1.4 MB 16.6 MB/s eta 0:00:01\r\u001b[K     |█████████████████████████▎      | 1.4 MB 16.6 MB/s eta 0:00:01\r\u001b[K     |█████████████████████████▍      | 1.4 MB 16.6 MB/s eta 0:00:01\r\u001b[K     |█████████████████████████▋      | 1.5 MB 16.6 MB/s eta 0:00:01\r\u001b[K     |█████████████████████████▊      | 1.5 MB 16.6 MB/s eta 0:00:01\r\u001b[K     |██████████████████████████      | 1.5 MB 16.6 MB/s eta 0:00:01\r\u001b[K     |██████████████████████████▏     | 1.5 MB 16.6 MB/s eta 0:00:01\r\u001b[K     |██████████████████████████▎     | 1.5 MB 16.6 MB/s eta 0:00:01\r\u001b[K     |██████████████████████████▌     | 1.5 MB 16.6 MB/s eta 0:00:01\r\u001b[K     |██████████████████████████▊     | 1.5 MB 16.6 MB/s eta 0:00:01\r\u001b[K     |██████████████████████████▉     | 1.5 MB 16.6 MB/s eta 0:00:01\r\u001b[K     |███████████████████████████     | 1.5 MB 16.6 MB/s eta 0:00:01\r\u001b[K     |███████████████████████████▏    | 1.5 MB 16.6 MB/s eta 0:00:01\r\u001b[K     |███████████████████████████▍    | 1.6 MB 16.6 MB/s eta 0:00:01\r\u001b[K     |███████████████████████████▋    | 1.6 MB 16.6 MB/s eta 0:00:01\r\u001b[K     |███████████████████████████▊    | 1.6 MB 16.6 MB/s eta 0:00:01\r\u001b[K     |████████████████████████████    | 1.6 MB 16.6 MB/s eta 0:00:01\r\u001b[K     |████████████████████████████▏   | 1.6 MB 16.6 MB/s eta 0:00:01\r\u001b[K     |████████████████████████████▎   | 1.6 MB 16.6 MB/s eta 0:00:01\r\u001b[K     |████████████████████████████▌   | 1.6 MB 16.6 MB/s eta 0:00:01\r\u001b[K     |████████████████████████████▋   | 1.6 MB 16.6 MB/s eta 0:00:01\r\u001b[K     |████████████████████████████▉   | 1.6 MB 16.6 MB/s eta 0:00:01\r\u001b[K     |█████████████████████████████   | 1.6 MB 16.6 MB/s eta 0:00:01\r\u001b[K     |█████████████████████████████▏  | 1.7 MB 16.6 MB/s eta 0:00:01\r\u001b[K     |█████████████████████████████▍  | 1.7 MB 16.6 MB/s eta 0:00:01\r\u001b[K     |█████████████████████████████▌  | 1.7 MB 16.6 MB/s eta 0:00:01\r\u001b[K     |█████████████████████████████▊  | 1.7 MB 16.6 MB/s eta 0:00:01\r\u001b[K     |██████████████████████████████  | 1.7 MB 16.6 MB/s eta 0:00:01\r\u001b[K     |██████████████████████████████  | 1.7 MB 16.6 MB/s eta 0:00:01\r\u001b[K     |██████████████████████████████▎ | 1.7 MB 16.6 MB/s eta 0:00:01\r\u001b[K     |██████████████████████████████▌ | 1.7 MB 16.6 MB/s eta 0:00:01\r\u001b[K     |██████████████████████████████▋ | 1.7 MB 16.6 MB/s eta 0:00:01\r\u001b[K     |██████████████████████████████▉ | 1.8 MB 16.6 MB/s eta 0:00:01\r\u001b[K     |███████████████████████████████ | 1.8 MB 16.6 MB/s eta 0:00:01\r\u001b[K     |███████████████████████████████▏| 1.8 MB 16.6 MB/s eta 0:00:01\r\u001b[K     |███████████████████████████████▍| 1.8 MB 16.6 MB/s eta 0:00:01\r\u001b[K     |███████████████████████████████▌| 1.8 MB 16.6 MB/s eta 0:00:01\r\u001b[K     |███████████████████████████████▊| 1.8 MB 16.6 MB/s eta 0:00:01\r\u001b[K     |████████████████████████████████| 1.8 MB 16.6 MB/s eta 0:00:01\r\u001b[K     |████████████████████████████████| 1.8 MB 16.6 MB/s \n",
            "\u001b[K     |████████████████████████████████| 99 kB 11.6 MB/s \n",
            "\u001b[K     |████████████████████████████████| 1.1 MB 49.8 MB/s \n",
            "\u001b[K     |████████████████████████████████| 1.2 MB 65.0 MB/s \n",
            "\u001b[K     |████████████████████████████████| 43 kB 2.3 MB/s \n",
            "\u001b[K     |████████████████████████████████| 92 kB 6.7 MB/s \n",
            "\u001b[K     |████████████████████████████████| 352 kB 56.9 MB/s \n",
            "\u001b[K     |████████████████████████████████| 47.8 MB 46 kB/s \n",
            "\u001b[K     |████████████████████████████████| 237 kB 51.3 MB/s \n",
            "\u001b[?25h  Building wheel for py-cpuinfo (setup.py) ... \u001b[?25l\u001b[?25hdone\n",
            "  Building wheel for seqeval (setup.py) ... \u001b[?25l\u001b[?25hdone\n"
          ]
        }
      ],
      "source": [
        "!pip install -q tf-models-official==2.7.0"
      ],
      "id": "hABxerLkQlTn"
    },
    {
      "cell_type": "code",
      "execution_count": 42,
      "metadata": {
        "id": "UcpOInY-QlTo"
      },
      "outputs": [],
      "source": [
        "import os\n",
        "import shutil\n",
        "\n",
        "import tensorflow as tf\n",
        "import tensorflow_hub as hub\n",
        "import tensorflow_text as text\n",
        "from official.nlp import optimization  # to create AdamW optimizer\n",
        "\n",
        "tf.get_logger().setLevel('ERROR')"
      ],
      "id": "UcpOInY-QlTo"
    },
    {
      "cell_type": "code",
      "execution_count": 43,
      "metadata": {
        "colab": {
          "base_uri": "https://localhost:8080/"
        },
        "outputId": "fcecf263-1468-4f08-ceac-dd6438cedacb",
        "id": "Qm3rjY8HQlTo"
      },
      "outputs": [
        {
          "output_type": "stream",
          "name": "stdout",
          "text": [
            "BERT model selected           : https://tfhub.dev/tensorflow/small_bert/bert_en_uncased_L-4_H-512_A-8/1\n",
            "Preprocess model auto-selected: https://tfhub.dev/tensorflow/bert_en_uncased_preprocess/3\n"
          ]
        }
      ],
      "source": [
        "bert_model_name = 'small_bert/bert_en_uncased_L-4_H-512_A-8' \n",
        "\n",
        "map_name_to_handle = {\n",
        "    'bert_en_uncased_L-12_H-768_A-12':\n",
        "        'https://tfhub.dev/tensorflow/bert_en_uncased_L-12_H-768_A-12/3',\n",
        "    'bert_en_cased_L-12_H-768_A-12':\n",
        "        'https://tfhub.dev/tensorflow/bert_en_cased_L-12_H-768_A-12/3',\n",
        "    'bert_multi_cased_L-12_H-768_A-12':\n",
        "        'https://tfhub.dev/tensorflow/bert_multi_cased_L-12_H-768_A-12/3',\n",
        "    'small_bert/bert_en_uncased_L-2_H-128_A-2':\n",
        "        'https://tfhub.dev/tensorflow/small_bert/bert_en_uncased_L-2_H-128_A-2/1',\n",
        "    'small_bert/bert_en_uncased_L-2_H-256_A-4':\n",
        "        'https://tfhub.dev/tensorflow/small_bert/bert_en_uncased_L-2_H-256_A-4/1',\n",
        "    'small_bert/bert_en_uncased_L-2_H-512_A-8':\n",
        "        'https://tfhub.dev/tensorflow/small_bert/bert_en_uncased_L-2_H-512_A-8/1',\n",
        "    'small_bert/bert_en_uncased_L-2_H-768_A-12':\n",
        "        'https://tfhub.dev/tensorflow/small_bert/bert_en_uncased_L-2_H-768_A-12/1',\n",
        "    'small_bert/bert_en_uncased_L-4_H-128_A-2':\n",
        "        'https://tfhub.dev/tensorflow/small_bert/bert_en_uncased_L-4_H-128_A-2/1',\n",
        "    'small_bert/bert_en_uncased_L-4_H-256_A-4':\n",
        "        'https://tfhub.dev/tensorflow/small_bert/bert_en_uncased_L-4_H-256_A-4/1',\n",
        "    'small_bert/bert_en_uncased_L-4_H-512_A-8':\n",
        "        'https://tfhub.dev/tensorflow/small_bert/bert_en_uncased_L-4_H-512_A-8/1',\n",
        "    'small_bert/bert_en_uncased_L-4_H-768_A-12':\n",
        "        'https://tfhub.dev/tensorflow/small_bert/bert_en_uncased_L-4_H-768_A-12/1',\n",
        "    'small_bert/bert_en_uncased_L-6_H-128_A-2':\n",
        "        'https://tfhub.dev/tensorflow/small_bert/bert_en_uncased_L-6_H-128_A-2/1',\n",
        "    'small_bert/bert_en_uncased_L-6_H-256_A-4':\n",
        "        'https://tfhub.dev/tensorflow/small_bert/bert_en_uncased_L-6_H-256_A-4/1',\n",
        "    'small_bert/bert_en_uncased_L-6_H-512_A-8':\n",
        "        'https://tfhub.dev/tensorflow/small_bert/bert_en_uncased_L-6_H-512_A-8/1',\n",
        "    'small_bert/bert_en_uncased_L-6_H-768_A-12':\n",
        "        'https://tfhub.dev/tensorflow/small_bert/bert_en_uncased_L-6_H-768_A-12/1',\n",
        "    'small_bert/bert_en_uncased_L-8_H-128_A-2':\n",
        "        'https://tfhub.dev/tensorflow/small_bert/bert_en_uncased_L-8_H-128_A-2/1',\n",
        "    'small_bert/bert_en_uncased_L-8_H-256_A-4':\n",
        "        'https://tfhub.dev/tensorflow/small_bert/bert_en_uncased_L-8_H-256_A-4/1',\n",
        "    'small_bert/bert_en_uncased_L-8_H-512_A-8':\n",
        "        'https://tfhub.dev/tensorflow/small_bert/bert_en_uncased_L-8_H-512_A-8/1',\n",
        "    'small_bert/bert_en_uncased_L-8_H-768_A-12':\n",
        "        'https://tfhub.dev/tensorflow/small_bert/bert_en_uncased_L-8_H-768_A-12/1',\n",
        "    'small_bert/bert_en_uncased_L-10_H-128_A-2':\n",
        "        'https://tfhub.dev/tensorflow/small_bert/bert_en_uncased_L-10_H-128_A-2/1',\n",
        "    'small_bert/bert_en_uncased_L-10_H-256_A-4':\n",
        "        'https://tfhub.dev/tensorflow/small_bert/bert_en_uncased_L-10_H-256_A-4/1',\n",
        "    'small_bert/bert_en_uncased_L-10_H-512_A-8':\n",
        "        'https://tfhub.dev/tensorflow/small_bert/bert_en_uncased_L-10_H-512_A-8/1',\n",
        "    'small_bert/bert_en_uncased_L-10_H-768_A-12':\n",
        "        'https://tfhub.dev/tensorflow/small_bert/bert_en_uncased_L-10_H-768_A-12/1',\n",
        "    'small_bert/bert_en_uncased_L-12_H-128_A-2':\n",
        "        'https://tfhub.dev/tensorflow/small_bert/bert_en_uncased_L-12_H-128_A-2/1',\n",
        "    'small_bert/bert_en_uncased_L-12_H-256_A-4':\n",
        "        'https://tfhub.dev/tensorflow/small_bert/bert_en_uncased_L-12_H-256_A-4/1',\n",
        "    'small_bert/bert_en_uncased_L-12_H-512_A-8':\n",
        "        'https://tfhub.dev/tensorflow/small_bert/bert_en_uncased_L-12_H-512_A-8/1',\n",
        "    'small_bert/bert_en_uncased_L-12_H-768_A-12':\n",
        "        'https://tfhub.dev/tensorflow/small_bert/bert_en_uncased_L-12_H-768_A-12/1',\n",
        "    'albert_en_base':\n",
        "        'https://tfhub.dev/tensorflow/albert_en_base/2',\n",
        "    'electra_small':\n",
        "        'https://tfhub.dev/google/electra_small/2',\n",
        "    'electra_base':\n",
        "        'https://tfhub.dev/google/electra_base/2',\n",
        "    'experts_pubmed':\n",
        "        'https://tfhub.dev/google/experts/bert/pubmed/2',\n",
        "    'experts_wiki_books':\n",
        "        'https://tfhub.dev/google/experts/bert/wiki_books/2',\n",
        "    'talking-heads_base':\n",
        "        'https://tfhub.dev/tensorflow/talkheads_ggelu_bert_en_base/1',\n",
        "}\n",
        "\n",
        "map_model_to_preprocess = {\n",
        "    'bert_en_uncased_L-12_H-768_A-12':\n",
        "        'https://tfhub.dev/tensorflow/bert_en_uncased_preprocess/3',\n",
        "    'bert_en_cased_L-12_H-768_A-12':\n",
        "        'https://tfhub.dev/tensorflow/bert_en_cased_preprocess/3',\n",
        "    'small_bert/bert_en_uncased_L-2_H-128_A-2':\n",
        "        'https://tfhub.dev/tensorflow/bert_en_uncased_preprocess/3',\n",
        "    'small_bert/bert_en_uncased_L-2_H-256_A-4':\n",
        "        'https://tfhub.dev/tensorflow/bert_en_uncased_preprocess/3',\n",
        "    'small_bert/bert_en_uncased_L-2_H-512_A-8':\n",
        "        'https://tfhub.dev/tensorflow/bert_en_uncased_preprocess/3',\n",
        "    'small_bert/bert_en_uncased_L-2_H-768_A-12':\n",
        "        'https://tfhub.dev/tensorflow/bert_en_uncased_preprocess/3',\n",
        "    'small_bert/bert_en_uncased_L-4_H-128_A-2':\n",
        "        'https://tfhub.dev/tensorflow/bert_en_uncased_preprocess/3',\n",
        "    'small_bert/bert_en_uncased_L-4_H-256_A-4':\n",
        "        'https://tfhub.dev/tensorflow/bert_en_uncased_preprocess/3',\n",
        "    'small_bert/bert_en_uncased_L-4_H-512_A-8':\n",
        "        'https://tfhub.dev/tensorflow/bert_en_uncased_preprocess/3',\n",
        "    'small_bert/bert_en_uncased_L-4_H-768_A-12':\n",
        "        'https://tfhub.dev/tensorflow/bert_en_uncased_preprocess/3',\n",
        "    'small_bert/bert_en_uncased_L-6_H-128_A-2':\n",
        "        'https://tfhub.dev/tensorflow/bert_en_uncased_preprocess/3',\n",
        "    'small_bert/bert_en_uncased_L-6_H-256_A-4':\n",
        "        'https://tfhub.dev/tensorflow/bert_en_uncased_preprocess/3',\n",
        "    'small_bert/bert_en_uncased_L-6_H-512_A-8':\n",
        "        'https://tfhub.dev/tensorflow/bert_en_uncased_preprocess/3',\n",
        "    'small_bert/bert_en_uncased_L-6_H-768_A-12':\n",
        "        'https://tfhub.dev/tensorflow/bert_en_uncased_preprocess/3',\n",
        "    'small_bert/bert_en_uncased_L-8_H-128_A-2':\n",
        "        'https://tfhub.dev/tensorflow/bert_en_uncased_preprocess/3',\n",
        "    'small_bert/bert_en_uncased_L-8_H-256_A-4':\n",
        "        'https://tfhub.dev/tensorflow/bert_en_uncased_preprocess/3',\n",
        "    'small_bert/bert_en_uncased_L-8_H-512_A-8':\n",
        "        'https://tfhub.dev/tensorflow/bert_en_uncased_preprocess/3',\n",
        "    'small_bert/bert_en_uncased_L-8_H-768_A-12':\n",
        "        'https://tfhub.dev/tensorflow/bert_en_uncased_preprocess/3',\n",
        "    'small_bert/bert_en_uncased_L-10_H-128_A-2':\n",
        "        'https://tfhub.dev/tensorflow/bert_en_uncased_preprocess/3',\n",
        "    'small_bert/bert_en_uncased_L-10_H-256_A-4':\n",
        "        'https://tfhub.dev/tensorflow/bert_en_uncased_preprocess/3',\n",
        "    'small_bert/bert_en_uncased_L-10_H-512_A-8':\n",
        "        'https://tfhub.dev/tensorflow/bert_en_uncased_preprocess/3',\n",
        "    'small_bert/bert_en_uncased_L-10_H-768_A-12':\n",
        "        'https://tfhub.dev/tensorflow/bert_en_uncased_preprocess/3',\n",
        "    'small_bert/bert_en_uncased_L-12_H-128_A-2':\n",
        "        'https://tfhub.dev/tensorflow/bert_en_uncased_preprocess/3',\n",
        "    'small_bert/bert_en_uncased_L-12_H-256_A-4':\n",
        "        'https://tfhub.dev/tensorflow/bert_en_uncased_preprocess/3',\n",
        "    'small_bert/bert_en_uncased_L-12_H-512_A-8':\n",
        "        'https://tfhub.dev/tensorflow/bert_en_uncased_preprocess/3',\n",
        "    'small_bert/bert_en_uncased_L-12_H-768_A-12':\n",
        "        'https://tfhub.dev/tensorflow/bert_en_uncased_preprocess/3',\n",
        "    'bert_multi_cased_L-12_H-768_A-12':\n",
        "        'https://tfhub.dev/tensorflow/bert_multi_cased_preprocess/3',\n",
        "    'albert_en_base':\n",
        "        'https://tfhub.dev/tensorflow/albert_en_preprocess/3',\n",
        "    'electra_small':\n",
        "        'https://tfhub.dev/tensorflow/bert_en_uncased_preprocess/3',\n",
        "    'electra_base':\n",
        "        'https://tfhub.dev/tensorflow/bert_en_uncased_preprocess/3',\n",
        "    'experts_pubmed':\n",
        "        'https://tfhub.dev/tensorflow/bert_en_uncased_preprocess/3',\n",
        "    'experts_wiki_books':\n",
        "        'https://tfhub.dev/tensorflow/bert_en_uncased_preprocess/3',\n",
        "    'talking-heads_base':\n",
        "        'https://tfhub.dev/tensorflow/bert_en_uncased_preprocess/3',\n",
        "}\n",
        "\n",
        "tfhub_handle_encoder = map_name_to_handle[bert_model_name]\n",
        "tfhub_handle_preprocess = map_model_to_preprocess[bert_model_name]\n",
        "\n",
        "print(f'BERT model selected           : {tfhub_handle_encoder}')\n",
        "print(f'Preprocess model auto-selected: {tfhub_handle_preprocess}')"
      ],
      "id": "Qm3rjY8HQlTo"
    },
    {
      "cell_type": "code",
      "execution_count": 44,
      "metadata": {
        "id": "h6McLtkrQlTp"
      },
      "outputs": [],
      "source": [
        "reviews = review_samples['review_body'].fillna('no review')\n",
        "\n",
        "X, y = reviews, labels\n",
        "X_train, X_test, y_train, y_test = train_test_split(X, y, test_size=0.2, random_state=0)\n",
        "X_train, X_dev, y_train, y_dev = train_test_split(X_train, y_train, test_size=0.25, random_state=0)"
      ],
      "id": "h6McLtkrQlTp"
    },
    {
      "cell_type": "code",
      "execution_count": 45,
      "metadata": {
        "id": "JjeBQFQIQlTp"
      },
      "outputs": [],
      "source": [
        "def build_classifier_model():\n",
        "    text_input = tf.keras.layers.Input(shape=(), dtype=tf.string, name='text')\n",
        "    preprocessing_layer = hub.KerasLayer(tfhub_handle_preprocess, name='preprocessing')\n",
        "    encoder_inputs = preprocessing_layer(text_input)\n",
        "    encoder = hub.KerasLayer(tfhub_handle_encoder, trainable=True, name='BERT_encoder')\n",
        "    outputs = encoder(encoder_inputs)\n",
        "    net = outputs['pooled_output']\n",
        "    net = tf.keras.layers.Dropout(0.1)(net)\n",
        "    net = tf.keras.layers.Dense(1, activation=None, name='classifier')(net)\n",
        "    return tf.keras.Model(text_input, net)"
      ],
      "id": "JjeBQFQIQlTp"
    },
    {
      "cell_type": "code",
      "execution_count": 46,
      "metadata": {
        "colab": {
          "base_uri": "https://localhost:8080/"
        },
        "outputId": "e181b80d-9941-4b7b-b991-06e1a518e7bb",
        "id": "OwgArROrQlTq"
      },
      "outputs": [
        {
          "output_type": "stream",
          "name": "stdout",
          "text": [
            "tf.Tensor([[0.41171503]], shape=(1, 1), dtype=float32)\n"
          ]
        }
      ],
      "source": [
        "text_test = ['this is such an amazing movie!']\n",
        "classifier_model = build_classifier_model()\n",
        "bert_raw_result = classifier_model(tf.constant(text_test))\n",
        "print(tf.sigmoid(bert_raw_result))"
      ],
      "id": "OwgArROrQlTq"
    },
    {
      "cell_type": "code",
      "execution_count": 47,
      "metadata": {
        "colab": {
          "base_uri": "https://localhost:8080/",
          "height": 466
        },
        "outputId": "4ab79b43-2dbe-4f53-87ed-5bcf059f7c5f",
        "id": "TdvvP6ZGQlTq"
      },
      "outputs": [
        {
          "output_type": "execute_result",
          "data": {
            "text/plain": [
              "<IPython.core.display.Image object>"
            ],
            "image/png": "[encoded data removed]"
          },
          "metadata": {},
          "execution_count": 47
        }
      ],
      "source": [
        "tf.keras.utils.plot_model(classifier_model)"
      ],
      "id": "TdvvP6ZGQlTq"
    },
    {
      "cell_type": "code",
      "execution_count": 48,
      "metadata": {
        "id": "YbfbxcpPQlTr"
      },
      "outputs": [],
      "source": [
        "loss_func = tf.keras.losses.BinaryCrossentropy(from_logits=True)\n",
        "metrics = tf.metrics.BinaryAccuracy()"
      ],
      "id": "YbfbxcpPQlTr"
    },
    {
      "cell_type": "code",
      "execution_count": 49,
      "metadata": {
        "id": "LesuTdSDQlTr"
      },
      "outputs": [],
      "source": [
        "epochs = 10\n",
        "steps_per_epoch = len(X_train)\n",
        "num_train_steps = steps_per_epoch * epochs\n",
        "num_warmup_steps = int(0.1*num_train_steps)\n",
        "\n",
        "init_lr = 3e-5\n",
        "optimizer = optimization.create_optimizer(init_lr=init_lr,\n",
        "                                          num_train_steps=num_train_steps,\n",
        "                                          num_warmup_steps=num_warmup_steps,\n",
        "                                          optimizer_type='adamw')"
      ],
      "id": "LesuTdSDQlTr"
    },
    {
      "cell_type": "code",
      "execution_count": 50,
      "metadata": {
        "id": "7_XFhodKQlTr"
      },
      "outputs": [],
      "source": [
        "classifier_model.compile(optimizer=optimizer,\n",
        "                         loss=loss_func,\n",
        "                         metrics=metrics)"
      ],
      "id": "7_XFhodKQlTr"
    },
    {
      "cell_type": "code",
      "execution_count": 51,
      "metadata": {
        "colab": {
          "base_uri": "https://localhost:8080/"
        },
        "outputId": "3910069f-8028-4562-f7d9-f97b9e3342b3",
        "id": "gWUBa-RpQlTr"
      },
      "outputs": [
        {
          "output_type": "stream",
          "name": "stdout",
          "text": [
            "Training model with https://tfhub.dev/tensorflow/small_bert/bert_en_uncased_L-4_H-512_A-8/1\n",
            "Epoch 1/10\n",
            "563/563 [==============================] - 141s 241ms/step - loss: 0.5139 - binary_accuracy: 0.8045 - val_loss: 0.4535 - val_binary_accuracy: 0.8113\n",
            "Epoch 2/10\n",
            "563/563 [==============================] - 137s 243ms/step - loss: 0.4583 - binary_accuracy: 0.8095 - val_loss: 0.4479 - val_binary_accuracy: 0.8113\n",
            "Epoch 3/10\n",
            "563/563 [==============================] - 138s 244ms/step - loss: 0.4505 - binary_accuracy: 0.8109 - val_loss: 0.4476 - val_binary_accuracy: 0.8106\n",
            "Epoch 4/10\n",
            "563/563 [==============================] - 137s 244ms/step - loss: 0.4484 - binary_accuracy: 0.8125 - val_loss: 0.4470 - val_binary_accuracy: 0.8106\n",
            "Epoch 5/10\n",
            "563/563 [==============================] - 137s 243ms/step - loss: 0.4422 - binary_accuracy: 0.8125 - val_loss: 0.4509 - val_binary_accuracy: 0.8114\n",
            "Epoch 6/10\n",
            "563/563 [==============================] - 137s 243ms/step - loss: 0.4380 - binary_accuracy: 0.8129 - val_loss: 0.4477 - val_binary_accuracy: 0.8131\n",
            "Epoch 7/10\n",
            "563/563 [==============================] - 136s 242ms/step - loss: 0.4317 - binary_accuracy: 0.8158 - val_loss: 0.4523 - val_binary_accuracy: 0.8129\n",
            "Epoch 8/10\n",
            "563/563 [==============================] - 137s 243ms/step - loss: 0.4232 - binary_accuracy: 0.8171 - val_loss: 0.4598 - val_binary_accuracy: 0.8111\n",
            "Epoch 9/10\n",
            "563/563 [==============================] - 138s 244ms/step - loss: 0.4093 - binary_accuracy: 0.8215 - val_loss: 0.4671 - val_binary_accuracy: 0.8106\n",
            "Epoch 10/10\n",
            "563/563 [==============================] - 137s 244ms/step - loss: 0.3921 - binary_accuracy: 0.8279 - val_loss: 0.4956 - val_binary_accuracy: 0.8109\n"
          ]
        }
      ],
      "source": [
        "print(f'Training model with {tfhub_handle_encoder}')\n",
        "history = classifier_model.fit(x=X_train,\n",
        "                               y=y_train,\n",
        "                               validation_data=(X_dev, y_dev),\n",
        "                               epochs=epochs)"
      ],
      "id": "gWUBa-RpQlTr"
    },
    {
      "cell_type": "code",
      "execution_count": 52,
      "metadata": {
        "colab": {
          "base_uri": "https://localhost:8080/",
          "height": 295
        },
        "outputId": "bc1483a2-73f5-4968-dee9-7f315e3469de",
        "id": "h9ueHr_KQlTs"
      },
      "outputs": [
        {
          "output_type": "display_data",
          "data": {
            "text/plain": [
              "<Figure size 432x288 with 2 Axes>"
            ],
            "image/png": "[encoded data removed]"
          },
          "metadata": {
            "needs_background": "light"
          }
        }
      ],
      "source": [
        "# Plot confusion matrix\n",
        "y_true = y_test\n",
        "y_pred = (classifier_model.predict(X_test) >= 0.5).astype(\"int32\")\n",
        "\n",
        "ConfusionMatrixDisplay.from_predictions(y_true,\n",
        "                                        y_pred,\n",
        "                                        normalize='all',\n",
        "                                        display_labels=sentiment\n",
        "                                       )\n",
        "\n",
        "plt.title(\"Confusion Matrix of Review Usefulness\")\n",
        "plt.show()"
      ],
      "id": "h9ueHr_KQlTs"
    },
    {
      "cell_type": "code",
      "execution_count": 53,
      "metadata": {
        "colab": {
          "base_uri": "https://localhost:8080/"
        },
        "outputId": "6444c4d3-48c3-46b3-9bc0-5d1df81e9e3c",
        "id": "FKlgaYWQQlTs"
      },
      "outputs": [
        {
          "output_type": "stream",
          "name": "stdout",
          "text": [
            "188/188 [==============================] - 18s 98ms/step - loss: 0.4990 - binary_accuracy: 0.8050\n",
            "Model performance metrics on test data\n",
            "Accuracy: 0.8050\n",
            "Loss: 0.4990\n",
            "Precision: 0.7211\n",
            "Recall: 0.8050\n",
            "F1-score: 0.7261\n"
          ]
        }
      ],
      "source": [
        "# Evaluate model\n",
        "loss, acc = classifier_model.evaluate(X_test, y_test)\n",
        "precision, recall, f1, support = precision_recall_fscore_support(y_true, y_pred, average='weighted')\n",
        "print(\"Model performance metrics on test data\")\n",
        "print(\"Accuracy: {:.4f}\\nLoss: {:.4f}\\nPrecision: {:.4f}\\nRecall: {:.4f}\\nF1-score: {:.4f}\".format(acc, loss, precision, recall, f1))"
      ],
      "id": "FKlgaYWQQlTs"
    }
  ],
  "metadata": {
    "accelerator": "GPU",
    "colab": {
      "name": "model-selection.ipynb",
      "provenance": []
    },
    "kernelspec": {
      "display_name": "Python 3 (ipykernel)",
      "language": "python",
      "name": "python3"
    },
    "language_info": {
      "codemirror_mode": {
        "name": "ipython",
        "version": 3
      },
      "file_extension": ".py",
      "mimetype": "text/x-python",
      "name": "python",
      "nbconvert_exporter": "python",
      "pygments_lexer": "ipython3",
      "version": "3.8.8"
    }
  },
  "nbformat": 4,
  "nbformat_minor": 5
}