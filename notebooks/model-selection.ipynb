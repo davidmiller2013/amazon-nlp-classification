{
  "cells": [
    {
      "cell_type": "markdown",
      "id": "20bb2820",
      "metadata": {
        "id": "20bb2820"
      },
      "source": [
        "# Model selection and evaluation"
      ]
    },
    {
      "cell_type": "markdown",
      "id": "835c4870",
      "metadata": {
        "id": "835c4870"
      },
      "source": [
        "## 0.0 Notebook setup"
      ]
    },
    {
      "cell_type": "markdown",
      "id": "d6e531ea",
      "metadata": {
        "id": "d6e531ea"
      },
      "source": [
        "### X.X Colab Setup"
      ]
    },
    {
      "cell_type": "code",
      "execution_count": 1,
      "id": "aX0IHvqPrB9h",
      "metadata": {
        "colab": {
          "base_uri": "https://localhost:8080/"
        },
        "id": "aX0IHvqPrB9h",
        "outputId": "c1b78519-fe4f-4d14-fa6f-24eb9360af65"
      },
      "outputs": [
        {
          "output_type": "stream",
          "name": "stdout",
          "text": [
            "Mounted at /content/gdrive/\n"
          ]
        }
      ],
      "source": [
        "from google.colab import drive\n",
        "drive.mount('/content/gdrive/', force_remount=True)"
      ]
    },
    {
      "cell_type": "code",
      "execution_count": 2,
      "id": "9vnzzqbdraH_",
      "metadata": {
        "id": "9vnzzqbdraH_"
      },
      "outputs": [],
      "source": [
        "! mkdir data"
      ]
    },
    {
      "cell_type": "code",
      "execution_count": 5,
      "id": "0A4JchtFtgsT",
      "metadata": {
        "id": "0A4JchtFtgsT"
      },
      "outputs": [],
      "source": [
        "! cp \"/content/gdrive/My Drive/colab-data/combined.csv\" ./data/"
      ]
    },
    {
      "cell_type": "code",
      "execution_count": 6,
      "id": "ncWfMYNDwGnj",
      "metadata": {
        "colab": {
          "base_uri": "https://localhost:8080/",
          "height": 35
        },
        "id": "ncWfMYNDwGnj",
        "outputId": "fb45bb2e-5277-4548-93a9-7bfcd63caf55"
      },
      "outputs": [
        {
          "output_type": "execute_result",
          "data": {
            "text/plain": [
              "'/device:GPU:0'"
            ],
            "application/vnd.google.colaboratory.intrinsic+json": {
              "type": "string"
            }
          },
          "metadata": {},
          "execution_count": 6
        }
      ],
      "source": [
        "import tensorflow as tf\n",
        "tf.test.gpu_device_name()"
      ]
    },
    {
      "cell_type": "code",
      "execution_count": 7,
      "id": "VIpdJLpswGLc",
      "metadata": {
        "colab": {
          "base_uri": "https://localhost:8080/"
        },
        "id": "VIpdJLpswGLc",
        "outputId": "289f2434-528b-4d38-e0c9-806b27894559"
      },
      "outputs": [
        {
          "output_type": "execute_result",
          "data": {
            "text/plain": [
              "[name: \"/device:CPU:0\"\n",
              " device_type: \"CPU\"\n",
              " memory_limit: 268435456\n",
              " locality {\n",
              " }\n",
              " incarnation: 10764011404326698806\n",
              " xla_global_id: -1, name: \"/device:GPU:0\"\n",
              " device_type: \"GPU\"\n",
              " memory_limit: 16154099712\n",
              " locality {\n",
              "   bus_id: 1\n",
              "   links {\n",
              "   }\n",
              " }\n",
              " incarnation: 13949457746813369940\n",
              " physical_device_desc: \"device: 0, name: Tesla P100-PCIE-16GB, pci bus id: 0000:00:04.0, compute capability: 6.0\"\n",
              " xla_global_id: 416903419]"
            ]
          },
          "metadata": {},
          "execution_count": 7
        }
      ],
      "source": [
        "from tensorflow.python.client import device_lib\n",
        "device_lib.list_local_devices()"
      ]
    },
    {
      "cell_type": "code",
      "execution_count": 8,
      "id": "IcYfIaElNZwb",
      "metadata": {
        "colab": {
          "base_uri": "https://localhost:8080/"
        },
        "id": "IcYfIaElNZwb",
        "outputId": "8bc49755-823b-4204-ce0a-916d7c58ba99"
      },
      "outputs": [
        {
          "output_type": "stream",
          "name": "stdout",
          "text": [
            "\u001b[K     |████████████████████████████████| 4.0 MB 7.8 MB/s \n",
            "\u001b[K     |████████████████████████████████| 77 kB 6.1 MB/s \n",
            "\u001b[K     |████████████████████████████████| 596 kB 48.4 MB/s \n",
            "\u001b[K     |████████████████████████████████| 895 kB 42.5 MB/s \n",
            "\u001b[K     |████████████████████████████████| 6.5 MB 38.2 MB/s \n",
            "\u001b[?25h"
          ]
        }
      ],
      "source": [
        "!pip install --quiet transformers"
      ]
    },
    {
      "cell_type": "markdown",
      "id": "7631b809",
      "metadata": {
        "id": "7631b809"
      },
      "source": [
        "### X.X General setup"
      ]
    },
    {
      "cell_type": "code",
      "execution_count": 9,
      "id": "3f0320af",
      "metadata": {
        "id": "3f0320af"
      },
      "outputs": [],
      "source": [
        "import warnings\n",
        "\n",
        "warnings.simplefilter(\"ignore\", UserWarning)\n",
        "warnings.simplefilter(\"ignore\", FutureWarning)\n",
        "warnings.simplefilter(\"ignore\", DeprecationWarning)"
      ]
    },
    {
      "cell_type": "code",
      "execution_count": 11,
      "id": "3abac3ad",
      "metadata": {
        "id": "3abac3ad"
      },
      "outputs": [],
      "source": [
        "# Statistics\n",
        "import numpy as np\n",
        "import pandas as pd\n",
        "from scipy.stats import chi2_contingency, norm, skew, kurtosis\n",
        "\n",
        "# Visualization\n",
        "%matplotlib inline\n",
        "import matplotlib.pyplot as plt\n",
        "import seaborn as sns\n",
        "\n",
        "# Model selection and evaluation\n",
        "from sklearn.model_selection import train_test_split\n",
        "from imblearn.over_sampling import SMOTE\n",
        "from sklearn.metrics import confusion_matrix, ConfusionMatrixDisplay\n",
        "from sklearn.metrics import classification_report, precision_recall_fscore_support, roc_curve, auc, accuracy_score\n",
        "\n",
        "# Model building\n",
        "from sklearn.naive_bayes import MultinomialNB\n",
        "from sklearn.feature_extraction.text import TfidfVectorizer\n",
        "\n",
        "import tensorflow as tf\n",
        "import keras\n",
        "from keras.preprocessing.text import Tokenizer\n",
        "from keras.preprocessing.sequence import pad_sequences\n",
        "from keras.models import Sequential\n",
        "from keras.layers import Embedding, Bidirectional, Dense, Flatten, LSTM, Dropout\n",
        "from keras.layers.convolutional import Conv1D\n",
        "from keras.layers.convolutional import MaxPooling1D\n",
        "\n",
        "# BERT-specific\n",
        "from transformers import BertTokenizer, TFBertForSequenceClassification\n",
        "from transformers import InputExample, InputFeatures"
      ]
    },
    {
      "cell_type": "code",
      "execution_count": 13,
      "id": "768f4b5c",
      "metadata": {
        "id": "768f4b5c"
      },
      "outputs": [],
      "source": [
        "# Local\n",
        "# data = '../data/combined.csv'\n",
        "\n",
        "# Colab\n",
        "data = './data/combined.csv'\n",
        "\n",
        "review_samples = pd.read_csv(data)"
      ]
    },
    {
      "cell_type": "code",
      "execution_count": 14,
      "id": "b2e1ec74",
      "metadata": {
        "colab": {
          "base_uri": "https://localhost:8080/"
        },
        "id": "b2e1ec74",
        "outputId": "dda5cebe-e345-42c3-a230-4686fff0678e"
      },
      "outputs": [
        {
          "output_type": "execute_result",
          "data": {
            "text/plain": [
              "1    2839\n",
              "0    1616\n",
              "Name: useful, dtype: int64"
            ]
          },
          "metadata": {},
          "execution_count": 14
        }
      ],
      "source": [
        "# Create sentiment axis label for plots\n",
        "sentiment = ['Not Useful', 'Useful']\n",
        "\n",
        "# Check split of useful / not useful\n",
        "review_samples['useful'].value_counts()"
      ]
    },
    {
      "cell_type": "markdown",
      "id": "72ffdf0f",
      "metadata": {
        "id": "72ffdf0f"
      },
      "source": [
        "## X.X Electronics"
      ]
    },
    {
      "cell_type": "code",
      "execution_count": 87,
      "id": "5349c536",
      "metadata": {
        "id": "5349c536"
      },
      "outputs": [],
      "source": [
        "electronics = review_samples[review_samples['category'] == 'electronics']\n",
        "labels = electronics['useful'].astype(int)"
      ]
    },
    {
      "cell_type": "markdown",
      "id": "1cc10c6c",
      "metadata": {
        "id": "1cc10c6c"
      },
      "source": [
        "### X.X Naive Bayes - Electronics"
      ]
    },
    {
      "cell_type": "code",
      "execution_count": 88,
      "id": "04eef1b8",
      "metadata": {
        "id": "04eef1b8"
      },
      "outputs": [],
      "source": [
        "reviews = electronics['review_processed'].fillna('no review')"
      ]
    },
    {
      "cell_type": "code",
      "execution_count": 89,
      "id": "e6197a23",
      "metadata": {
        "id": "e6197a23"
      },
      "outputs": [],
      "source": [
        "X_train, X_test, y_train, y_test = train_test_split(reviews, labels, test_size=0.2, random_state=0)\n",
        "X_train, X_dev, y_train, y_dev = train_test_split(X_train, y_train, test_size=0.25, random_state=0)\n",
        "\n",
        "tf_idf = TfidfVectorizer(ngram_range=(1, 3),\n",
        "                         binary=True,\n",
        "                         smooth_idf=False)\n",
        "\n",
        "X_train_tfidf = tf_idf.fit_transform(X_train)\n",
        "X_dev_tfidf = tf_idf.transform(X_dev)\n",
        "X_test_tfidf = tf_idf.transform(X_test)\n",
        "\n",
        "# Use SMOTE to resolve class imbalance\n",
        "sm = SMOTE(random_state=0)\n",
        "X_train_tfidf, y_train = sm.fit_resample(X_train_tfidf, y_train)"
      ]
    },
    {
      "cell_type": "code",
      "execution_count": 90,
      "id": "360bf0a0",
      "metadata": {
        "colab": {
          "base_uri": "https://localhost:8080/"
        },
        "id": "360bf0a0",
        "outputId": "517ff041-37ef-406c-a825-2a3449f9e47b"
      },
      "outputs": [
        {
          "output_type": "execute_result",
          "data": {
            "text/plain": [
              "MultinomialNB(alpha=1.8)"
            ]
          },
          "metadata": {},
          "execution_count": 90
        }
      ],
      "source": [
        "# Build model\n",
        "nb_model = MultinomialNB(alpha=1.8)\n",
        "\n",
        "# Fit model\n",
        "nb_model.fit(X_train_tfidf, y_train)"
      ]
    },
    {
      "cell_type": "code",
      "execution_count": 91,
      "id": "3fe5c18b",
      "metadata": {
        "colab": {
          "base_uri": "https://localhost:8080/"
        },
        "id": "3fe5c18b",
        "outputId": "eaa3e626-ba0b-4102-aa65-e981694e4822"
      },
      "outputs": [
        {
          "output_type": "stream",
          "name": "stdout",
          "text": [
            "0.9952718676122931 0.5483870967741935 0.592741935483871\n"
          ]
        }
      ],
      "source": [
        "# Evaluate model accuracy\n",
        "train_acc = nb_model.score(X_train_tfidf, y_train)\n",
        "dev_acc = nb_model.score(X_dev_tfidf, y_dev)\n",
        "test_acc = nb_model.score(X_test_tfidf, y_test)\n",
        "\n",
        "print(train_acc, dev_acc, test_acc)"
      ]
    },
    {
      "cell_type": "code",
      "execution_count": 92,
      "id": "7add20ab",
      "metadata": {
        "colab": {
          "base_uri": "https://localhost:8080/",
          "height": 295
        },
        "id": "7add20ab",
        "outputId": "673717f3-74c2-4bb1-d9d6-b3c3406b11ff"
      },
      "outputs": [
        {
          "output_type": "display_data",
          "data": {
            "text/plain": [
              "<Figure size 432x288 with 2 Axes>"
            ],
            "image/png": "[encoded data removed]"
          },
          "metadata": {
            "needs_background": "light"
          }
        }
      ],
      "source": [
        "# Plot confusion matrix on training data\n",
        "y_true = y_train\n",
        "y_pred = nb_model.predict(X_train_tfidf)\n",
        "\n",
        "ConfusionMatrixDisplay.from_predictions(y_true,\n",
        "                                        y_pred,\n",
        "                                        normalize='all',\n",
        "                                        display_labels=sentiment\n",
        "                                       )\n",
        "\n",
        "plt.title(\"Confusion Matrix of Review Usefulness\")\n",
        "plt.show()"
      ]
    },
    {
      "cell_type": "code",
      "execution_count": 93,
      "id": "f3f708ff",
      "metadata": {
        "colab": {
          "base_uri": "https://localhost:8080/",
          "height": 295
        },
        "id": "f3f708ff",
        "outputId": "6c3e5e8e-1fb4-4538-f645-0739dd6eb182"
      },
      "outputs": [
        {
          "output_type": "display_data",
          "data": {
            "text/plain": [
              "<Figure size 432x288 with 2 Axes>"
            ],
            "image/png": "[encoded data removed]"
          },
          "metadata": {
            "needs_background": "light"
          }
        }
      ],
      "source": [
        "# Evaluate model on test data and plot confusion matrix\n",
        "y_true = y_test\n",
        "y_pred = nb_model.predict(X_test_tfidf)\n",
        "\n",
        "ConfusionMatrixDisplay.from_predictions(y_true,\n",
        "                                        y_pred,\n",
        "                                        normalize='all',\n",
        "                                        display_labels=sentiment\n",
        "                                       )\n",
        "\n",
        "plt.title(\"Confusion Matrix of Review Usefulness\")\n",
        "plt.show()"
      ]
    },
    {
      "cell_type": "code",
      "execution_count": 94,
      "id": "d9b80b15",
      "metadata": {
        "colab": {
          "base_uri": "https://localhost:8080/",
          "height": 313
        },
        "id": "d9b80b15",
        "outputId": "8139ac68-f0d0-419a-e852-98611156e72c"
      },
      "outputs": [
        {
          "output_type": "stream",
          "name": "stdout",
          "text": [
            "AUC: 0.5630\n"
          ]
        },
        {
          "output_type": "display_data",
          "data": {
            "text/plain": [
              "<Figure size 432x288 with 1 Axes>"
            ],
            "image/png": "[encoded data removed]"
          },
          "metadata": {
            "needs_background": "light"
          }
        }
      ],
      "source": [
        "fpr, tpr, threshold = roc_curve(y_true, y_pred)\n",
        "roc_auc = auc(fpr, tpr)\n",
        "print(f'AUC: {roc_auc:.4f}')\n",
        "\n",
        "# Plot ROC AUC\n",
        "plt.title('Receiver Operating Characteristic')\n",
        "plt.plot(fpr, tpr, 'b', label = 'AUC = %0.2f' % roc_auc)\n",
        "plt.legend(loc = 'lower right')\n",
        "plt.plot([0, 1], [0, 1],'r--')\n",
        "plt.xlim([0, 1])\n",
        "plt.ylim([0, 1])\n",
        "plt.ylabel('True Positive Rate')\n",
        "plt.xlabel('False Positive Rate')\n",
        "plt.show()"
      ]
    },
    {
      "cell_type": "code",
      "source": [
        "# Evaluate model\n",
        "precision, recall, f1, support = precision_recall_fscore_support(y_true, y_pred, average='weighted')\n",
        "print(\"Model performance metrics on test data\")\n",
        "print(\"Accuracy: {:.4f}\\nPrecision: {:.4f}\\nRecall: {:.4f}\\nF1-score: {:.4f}\".format(test_acc, precision, recall, f1))"
      ],
      "metadata": {
        "id": "mspoBF5aUlFP",
        "outputId": "51b4e02e-8928-4236-bb80-19425054bc14",
        "colab": {
          "base_uri": "https://localhost:8080/"
        }
      },
      "id": "mspoBF5aUlFP",
      "execution_count": 97,
      "outputs": [
        {
          "output_type": "stream",
          "name": "stdout",
          "text": [
            "Model performance metrics on test data\n",
            "Accuracy: 0.5927\n",
            "Precision: 0.5814\n",
            "Recall: 0.5927\n",
            "F1-score: 0.5748\n"
          ]
        }
      ]
    },
    {
      "cell_type": "markdown",
      "id": "3f093368",
      "metadata": {
        "id": "3f093368"
      },
      "source": [
        "### X.X Tokenization and analytics - Electronics"
      ]
    },
    {
      "cell_type": "code",
      "execution_count": 66,
      "id": "f42c4e7e",
      "metadata": {
        "id": "f42c4e7e"
      },
      "outputs": [],
      "source": [
        "# Set tokenization parameters\n",
        "num_words = 4000\n",
        "num_len = 512\n",
        "oov_token = '<UNK>'\n",
        "pad_type = 'post'\n",
        "trunc_type = 'post'\n",
        "\n",
        "# Tokenize review text\n",
        "tokenizer = Tokenizer(num_words=num_words, oov_token=oov_token)\n",
        "tokenizer.fit_on_texts(reviews)\n",
        "sequences = tokenizer.texts_to_sequences(reviews)\n",
        "\n",
        "# Additional tokenization parameters\n",
        "max_words = len(tokenizer.word_index)\n",
        "max_len = max([len(x) for x in sequences])\n",
        "\n",
        "# Pad review text tokens\n",
        "review_tokens = pad_sequences(sequences, padding=pad_type, truncating=trunc_type, maxlen=num_len)"
      ]
    },
    {
      "cell_type": "code",
      "execution_count": 67,
      "id": "70e55cd5",
      "metadata": {
        "id": "70e55cd5",
        "outputId": "64a72f55-5171-4a6e-b924-dac7d2356795",
        "colab": {
          "base_uri": "https://localhost:8080/"
        }
      },
      "outputs": [
        {
          "output_type": "execute_result",
          "data": {
            "text/plain": [
              "6052"
            ]
          },
          "metadata": {},
          "execution_count": 67
        }
      ],
      "source": [
        "len(tokenizer.word_counts)"
      ]
    },
    {
      "cell_type": "code",
      "execution_count": 68,
      "id": "de30f29c",
      "metadata": {
        "id": "de30f29c",
        "outputId": "5477be8f-5f21-4745-ec51-ffe5fd310289",
        "colab": {
          "base_uri": "https://localhost:8080/",
          "height": 363
        }
      },
      "outputs": [
        {
          "output_type": "execute_result",
          "data": {
            "text/plain": [
              "          word  frequency\n",
              "14       sound        656\n",
              "82         use        629\n",
              "63        work        561\n",
              "13        good        513\n",
              "179        one        455\n",
              "49       great        438\n",
              "96         get        411\n",
              "74   headphone        391\n",
              "11     speaker        388\n",
              "2         well        332"
            ],
            "text/html": [
              "\n",
              "  <div id=\"df-705c577f-0e53-459b-bc33-d3489837016e\">\n",
              "    <div class=\"colab-df-container\">\n",
              "      <div>\n",
              "<style scoped>\n",
              "    .dataframe tbody tr th:only-of-type {\n",
              "        vertical-align: middle;\n",
              "    }\n",
              "\n",
              "    .dataframe tbody tr th {\n",
              "        vertical-align: top;\n",
              "    }\n",
              "\n",
              "    .dataframe thead th {\n",
              "        text-align: right;\n",
              "    }\n",
              "</style>\n",
              "<table border=\"1\" class=\"dataframe\">\n",
              "  <thead>\n",
              "    <tr style=\"text-align: right;\">\n",
              "      <th></th>\n",
              "      <th>word</th>\n",
              "      <th>frequency</th>\n",
              "    </tr>\n",
              "  </thead>\n",
              "  <tbody>\n",
              "    <tr>\n",
              "      <th>14</th>\n",
              "      <td>sound</td>\n",
              "      <td>656</td>\n",
              "    </tr>\n",
              "    <tr>\n",
              "      <th>82</th>\n",
              "      <td>use</td>\n",
              "      <td>629</td>\n",
              "    </tr>\n",
              "    <tr>\n",
              "      <th>63</th>\n",
              "      <td>work</td>\n",
              "      <td>561</td>\n",
              "    </tr>\n",
              "    <tr>\n",
              "      <th>13</th>\n",
              "      <td>good</td>\n",
              "      <td>513</td>\n",
              "    </tr>\n",
              "    <tr>\n",
              "      <th>179</th>\n",
              "      <td>one</td>\n",
              "      <td>455</td>\n",
              "    </tr>\n",
              "    <tr>\n",
              "      <th>49</th>\n",
              "      <td>great</td>\n",
              "      <td>438</td>\n",
              "    </tr>\n",
              "    <tr>\n",
              "      <th>96</th>\n",
              "      <td>get</td>\n",
              "      <td>411</td>\n",
              "    </tr>\n",
              "    <tr>\n",
              "      <th>74</th>\n",
              "      <td>headphone</td>\n",
              "      <td>391</td>\n",
              "    </tr>\n",
              "    <tr>\n",
              "      <th>11</th>\n",
              "      <td>speaker</td>\n",
              "      <td>388</td>\n",
              "    </tr>\n",
              "    <tr>\n",
              "      <th>2</th>\n",
              "      <td>well</td>\n",
              "      <td>332</td>\n",
              "    </tr>\n",
              "  </tbody>\n",
              "</table>\n",
              "</div>\n",
              "      <button class=\"colab-df-convert\" onclick=\"convertToInteractive('df-705c577f-0e53-459b-bc33-d3489837016e')\"\n",
              "              title=\"Convert this dataframe to an interactive table.\"\n",
              "              style=\"display:none;\">\n",
              "        \n",
              "  <svg xmlns=\"http://www.w3.org/2000/svg\" height=\"24px\"viewBox=\"0 0 24 24\"\n",
              "       width=\"24px\">\n",
              "    <path d=\"M0 0h24v24H0V0z\" fill=\"none\"/>\n",
              "    <path d=\"M18.56 5.44l.94 2.06.94-2.06 2.06-.94-2.06-.94-.94-2.06-.94 2.06-2.06.94zm-11 1L8.5 8.5l.94-2.06 2.06-.94-2.06-.94L8.5 2.5l-.94 2.06-2.06.94zm10 10l.94 2.06.94-2.06 2.06-.94-2.06-.94-.94-2.06-.94 2.06-2.06.94z\"/><path d=\"M17.41 7.96l-1.37-1.37c-.4-.4-.92-.59-1.43-.59-.52 0-1.04.2-1.43.59L10.3 9.45l-7.72 7.72c-.78.78-.78 2.05 0 2.83L4 21.41c.39.39.9.59 1.41.59.51 0 1.02-.2 1.41-.59l7.78-7.78 2.81-2.81c.8-.78.8-2.07 0-2.86zM5.41 20L4 18.59l7.72-7.72 1.47 1.35L5.41 20z\"/>\n",
              "  </svg>\n",
              "      </button>\n",
              "      \n",
              "  <style>\n",
              "    .colab-df-container {\n",
              "      display:flex;\n",
              "      flex-wrap:wrap;\n",
              "      gap: 12px;\n",
              "    }\n",
              "\n",
              "    .colab-df-convert {\n",
              "      background-color: #E8F0FE;\n",
              "      border: none;\n",
              "      border-radius: 50%;\n",
              "      cursor: pointer;\n",
              "      display: none;\n",
              "      fill: #1967D2;\n",
              "      height: 32px;\n",
              "      padding: 0 0 0 0;\n",
              "      width: 32px;\n",
              "    }\n",
              "\n",
              "    .colab-df-convert:hover {\n",
              "      background-color: #E2EBFA;\n",
              "      box-shadow: 0px 1px 2px rgba(60, 64, 67, 0.3), 0px 1px 3px 1px rgba(60, 64, 67, 0.15);\n",
              "      fill: #174EA6;\n",
              "    }\n",
              "\n",
              "    [theme=dark] .colab-df-convert {\n",
              "      background-color: #3B4455;\n",
              "      fill: #D2E3FC;\n",
              "    }\n",
              "\n",
              "    [theme=dark] .colab-df-convert:hover {\n",
              "      background-color: #434B5C;\n",
              "      box-shadow: 0px 1px 3px 1px rgba(0, 0, 0, 0.15);\n",
              "      filter: drop-shadow(0px 1px 2px rgba(0, 0, 0, 0.3));\n",
              "      fill: #FFFFFF;\n",
              "    }\n",
              "  </style>\n",
              "\n",
              "      <script>\n",
              "        const buttonEl =\n",
              "          document.querySelector('#df-705c577f-0e53-459b-bc33-d3489837016e button.colab-df-convert');\n",
              "        buttonEl.style.display =\n",
              "          google.colab.kernel.accessAllowed ? 'block' : 'none';\n",
              "\n",
              "        async function convertToInteractive(key) {\n",
              "          const element = document.querySelector('#df-705c577f-0e53-459b-bc33-d3489837016e');\n",
              "          const dataTable =\n",
              "            await google.colab.kernel.invokeFunction('convertToInteractive',\n",
              "                                                     [key], {});\n",
              "          if (!dataTable) return;\n",
              "\n",
              "          const docLinkHtml = 'Like what you see? Visit the ' +\n",
              "            '<a target=\"_blank\" href=https://colab.research.google.com/notebooks/data_table.ipynb>data table notebook</a>'\n",
              "            + ' to learn more about interactive tables.';\n",
              "          element.innerHTML = '';\n",
              "          dataTable['output_type'] = 'display_data';\n",
              "          await google.colab.output.renderOutput(dataTable, element);\n",
              "          const docLink = document.createElement('div');\n",
              "          docLink.innerHTML = docLinkHtml;\n",
              "          element.appendChild(docLink);\n",
              "        }\n",
              "      </script>\n",
              "    </div>\n",
              "  </div>\n",
              "  "
            ]
          },
          "metadata": {},
          "execution_count": 68
        }
      ],
      "source": [
        "vocab = pd.DataFrame(tokenizer.word_counts.items(), columns=['word', 'frequency'])\n",
        "vocab.sort_values('frequency', ascending=False).head(10)"
      ]
    },
    {
      "cell_type": "code",
      "execution_count": 69,
      "id": "edabb9ac",
      "metadata": {
        "id": "edabb9ac",
        "outputId": "29ab65ce-b988-4e9d-d637-6b334fd1ee8f",
        "colab": {
          "base_uri": "https://localhost:8080/",
          "height": 265
        }
      },
      "outputs": [
        {
          "output_type": "display_data",
          "data": {
            "text/plain": [
              "<Figure size 432x288 with 1 Axes>"
            ],
            "image/png": "[encoded data removed]"
          },
          "metadata": {
            "needs_background": "light"
          }
        }
      ],
      "source": [
        "filtered_vocab = vocab[vocab['frequency'] > 1]\n",
        "plt.hist(filtered_vocab['frequency'], bins=20)\n",
        "plt.show()"
      ]
    },
    {
      "cell_type": "code",
      "execution_count": 70,
      "id": "1b171425",
      "metadata": {
        "id": "1b171425",
        "outputId": "ba36cb1d-e0e4-49a3-9fc3-e1dd3e601580",
        "colab": {
          "base_uri": "https://localhost:8080/"
        }
      },
      "outputs": [
        {
          "output_type": "stream",
          "name": "stdout",
          "text": [
            "Max words in vocabulary: 6053\n",
            "Max sequence length: 977\n",
            "\n",
            "\n",
            "Words allowed in vocabulary: 4000\n",
            "Allowed sequence length: 512\n",
            "\n",
            "\n",
            "Example processed review:\n",
            "works pissa\n",
            "\n",
            "\n",
            "Example tokenized review:\n",
            "[ 222 3343    0    0    0    0    0    0    0    0    0    0    0    0\n",
            "    0    0    0    0    0    0    0    0    0    0    0    0    0    0\n",
            "    0    0    0    0    0    0    0    0    0    0    0    0    0    0\n",
            "    0    0    0    0    0    0    0    0    0    0    0    0    0    0\n",
            "    0    0    0    0    0    0    0    0    0    0    0    0    0    0\n",
            "    0    0    0    0    0    0    0    0    0    0    0    0    0    0\n",
            "    0    0    0    0    0    0    0    0    0    0    0    0    0    0\n",
            "    0    0    0    0    0    0    0    0    0    0    0    0    0    0\n",
            "    0    0    0    0    0    0    0    0    0    0    0    0    0    0\n",
            "    0    0    0    0    0    0    0    0    0    0    0    0    0    0\n",
            "    0    0    0    0    0    0    0    0    0    0    0    0    0    0\n",
            "    0    0    0    0    0    0    0    0    0    0    0    0    0    0\n",
            "    0    0    0    0    0    0    0    0    0    0    0    0    0    0\n",
            "    0    0    0    0    0    0    0    0    0    0    0    0    0    0\n",
            "    0    0    0    0    0    0    0    0    0    0    0    0    0    0\n",
            "    0    0    0    0    0    0    0    0    0    0    0    0    0    0\n",
            "    0    0    0    0    0    0    0    0    0    0    0    0    0    0\n",
            "    0    0    0    0    0    0    0    0    0    0    0    0    0    0\n",
            "    0    0    0    0    0    0    0    0    0    0    0    0    0    0\n",
            "    0    0    0    0    0    0    0    0    0    0    0    0    0    0\n",
            "    0    0    0    0    0    0    0    0    0    0    0    0    0    0\n",
            "    0    0    0    0    0    0    0    0    0    0    0    0    0    0\n",
            "    0    0    0    0    0    0    0    0    0    0    0    0    0    0\n",
            "    0    0    0    0    0    0    0    0    0    0    0    0    0    0\n",
            "    0    0    0    0    0    0    0    0    0    0    0    0    0    0\n",
            "    0    0    0    0    0    0    0    0    0    0    0    0    0    0\n",
            "    0    0    0    0    0    0    0    0    0    0    0    0    0    0\n",
            "    0    0    0    0    0    0    0    0    0    0    0    0    0    0\n",
            "    0    0    0    0    0    0    0    0    0    0    0    0    0    0\n",
            "    0    0    0    0    0    0    0    0    0    0    0    0    0    0\n",
            "    0    0    0    0    0    0    0    0    0    0    0    0    0    0\n",
            "    0    0    0    0    0    0    0    0    0    0    0    0    0    0\n",
            "    0    0    0    0    0    0    0    0    0    0    0    0    0    0\n",
            "    0    0    0    0    0    0    0    0    0    0    0    0    0    0\n",
            "    0    0    0    0    0    0    0    0    0    0    0    0    0    0\n",
            "    0    0    0    0    0    0    0    0    0    0    0    0    0    0\n",
            "    0    0    0    0    0    0    0    0]\n"
          ]
        }
      ],
      "source": [
        "print('Max words in vocabulary: {}'.format(max_words))\n",
        "print('Max sequence length: {}'.format(max_len))\n",
        "print('\\n')\n",
        "\n",
        "print('Words allowed in vocabulary: {}'.format(num_words))\n",
        "print('Allowed sequence length: {}'.format(num_len))\n",
        "print('\\n')\n",
        "\n",
        "print('Example processed review:')\n",
        "print(review_samples['review_processed'].iloc[0])\n",
        "print('\\n')\n",
        "\n",
        "print('Example tokenized review:')\n",
        "print(review_tokens[0])"
      ]
    },
    {
      "cell_type": "code",
      "execution_count": 71,
      "id": "3ca225a6",
      "metadata": {
        "id": "3ca225a6",
        "outputId": "28aa6ac1-52e4-4bb1-a8a9-cd15d2e7ab44",
        "colab": {
          "base_uri": "https://localhost:8080/",
          "height": 265
        }
      },
      "outputs": [
        {
          "output_type": "display_data",
          "data": {
            "text/plain": [
              "<Figure size 432x288 with 1 Axes>"
            ],
            "image/png": "[encoded data removed]"
          },
          "metadata": {
            "needs_background": "light"
          }
        }
      ],
      "source": [
        "seq_len = [len(x) for x in sequences]\n",
        "d = {'sequence': sequences, 'length': seq_len}\n",
        "seqs = pd.DataFrame(data = d)\n",
        "\n",
        "plt.hist(seqs['length'])\n",
        "plt.show()"
      ]
    },
    {
      "cell_type": "code",
      "execution_count": 72,
      "id": "afb0f590",
      "metadata": {
        "id": "afb0f590",
        "outputId": "ddf85225-4374-4081-e74f-cc0234417a63",
        "colab": {
          "base_uri": "https://localhost:8080/",
          "height": 425
        }
      },
      "outputs": [
        {
          "output_type": "execute_result",
          "data": {
            "text/plain": [
              "                                               sequence  length\n",
              "21    [1462, 3361, 162, 207, 104, 451, 6, 3362, 974,...     838\n",
              "69    [3461, 79, 291, 1187, 91, 181, 1500, 15, 41, 7...     616\n",
              "157   [663, 3662, 602, 3663, 25, 9, 1365, 3, 941, 53...     977\n",
              "395   [2835, 1891, 135, 582, 2836, 2837, 582, 217, 2...     951\n",
              "618   [55, 335, 23, 47, 16, 18, 279, 393, 21, 937, 5...     749\n",
              "666   [257, 1224, 577, 2313, 40, 279, 53, 130, 52, 1...     701\n",
              "682   [2835, 1891, 135, 582, 2836, 2837, 582, 217, 2...     951\n",
              "793   [280, 3097, 274, 181, 1, 47, 36, 221, 181, 15,...     585\n",
              "930   [280, 3097, 1, 1024, 16, 40, 36, 805, 868, 102...     897\n",
              "1086  [352, 103, 868, 55, 17, 642, 40, 1454, 9, 168,...     652\n",
              "1122  [1, 1, 1365, 1, 1824, 1, 577, 342, 1111, 191, ...     646\n",
              "1140  [1215, 19, 47, 89, 2934, 1127, 278, 378, 56, 3...     606"
            ],
            "text/html": [
              "\n",
              "  <div id=\"df-f42976ca-e4d4-4337-bbf0-ff0e1f2e4b30\">\n",
              "    <div class=\"colab-df-container\">\n",
              "      <div>\n",
              "<style scoped>\n",
              "    .dataframe tbody tr th:only-of-type {\n",
              "        vertical-align: middle;\n",
              "    }\n",
              "\n",
              "    .dataframe tbody tr th {\n",
              "        vertical-align: top;\n",
              "    }\n",
              "\n",
              "    .dataframe thead th {\n",
              "        text-align: right;\n",
              "    }\n",
              "</style>\n",
              "<table border=\"1\" class=\"dataframe\">\n",
              "  <thead>\n",
              "    <tr style=\"text-align: right;\">\n",
              "      <th></th>\n",
              "      <th>sequence</th>\n",
              "      <th>length</th>\n",
              "    </tr>\n",
              "  </thead>\n",
              "  <tbody>\n",
              "    <tr>\n",
              "      <th>21</th>\n",
              "      <td>[1462, 3361, 162, 207, 104, 451, 6, 3362, 974,...</td>\n",
              "      <td>838</td>\n",
              "    </tr>\n",
              "    <tr>\n",
              "      <th>69</th>\n",
              "      <td>[3461, 79, 291, 1187, 91, 181, 1500, 15, 41, 7...</td>\n",
              "      <td>616</td>\n",
              "    </tr>\n",
              "    <tr>\n",
              "      <th>157</th>\n",
              "      <td>[663, 3662, 602, 3663, 25, 9, 1365, 3, 941, 53...</td>\n",
              "      <td>977</td>\n",
              "    </tr>\n",
              "    <tr>\n",
              "      <th>395</th>\n",
              "      <td>[2835, 1891, 135, 582, 2836, 2837, 582, 217, 2...</td>\n",
              "      <td>951</td>\n",
              "    </tr>\n",
              "    <tr>\n",
              "      <th>618</th>\n",
              "      <td>[55, 335, 23, 47, 16, 18, 279, 393, 21, 937, 5...</td>\n",
              "      <td>749</td>\n",
              "    </tr>\n",
              "    <tr>\n",
              "      <th>666</th>\n",
              "      <td>[257, 1224, 577, 2313, 40, 279, 53, 130, 52, 1...</td>\n",
              "      <td>701</td>\n",
              "    </tr>\n",
              "    <tr>\n",
              "      <th>682</th>\n",
              "      <td>[2835, 1891, 135, 582, 2836, 2837, 582, 217, 2...</td>\n",
              "      <td>951</td>\n",
              "    </tr>\n",
              "    <tr>\n",
              "      <th>793</th>\n",
              "      <td>[280, 3097, 274, 181, 1, 47, 36, 221, 181, 15,...</td>\n",
              "      <td>585</td>\n",
              "    </tr>\n",
              "    <tr>\n",
              "      <th>930</th>\n",
              "      <td>[280, 3097, 1, 1024, 16, 40, 36, 805, 868, 102...</td>\n",
              "      <td>897</td>\n",
              "    </tr>\n",
              "    <tr>\n",
              "      <th>1086</th>\n",
              "      <td>[352, 103, 868, 55, 17, 642, 40, 1454, 9, 168,...</td>\n",
              "      <td>652</td>\n",
              "    </tr>\n",
              "    <tr>\n",
              "      <th>1122</th>\n",
              "      <td>[1, 1, 1365, 1, 1824, 1, 577, 342, 1111, 191, ...</td>\n",
              "      <td>646</td>\n",
              "    </tr>\n",
              "    <tr>\n",
              "      <th>1140</th>\n",
              "      <td>[1215, 19, 47, 89, 2934, 1127, 278, 378, 56, 3...</td>\n",
              "      <td>606</td>\n",
              "    </tr>\n",
              "  </tbody>\n",
              "</table>\n",
              "</div>\n",
              "      <button class=\"colab-df-convert\" onclick=\"convertToInteractive('df-f42976ca-e4d4-4337-bbf0-ff0e1f2e4b30')\"\n",
              "              title=\"Convert this dataframe to an interactive table.\"\n",
              "              style=\"display:none;\">\n",
              "        \n",
              "  <svg xmlns=\"http://www.w3.org/2000/svg\" height=\"24px\"viewBox=\"0 0 24 24\"\n",
              "       width=\"24px\">\n",
              "    <path d=\"M0 0h24v24H0V0z\" fill=\"none\"/>\n",
              "    <path d=\"M18.56 5.44l.94 2.06.94-2.06 2.06-.94-2.06-.94-.94-2.06-.94 2.06-2.06.94zm-11 1L8.5 8.5l.94-2.06 2.06-.94-2.06-.94L8.5 2.5l-.94 2.06-2.06.94zm10 10l.94 2.06.94-2.06 2.06-.94-2.06-.94-.94-2.06-.94 2.06-2.06.94z\"/><path d=\"M17.41 7.96l-1.37-1.37c-.4-.4-.92-.59-1.43-.59-.52 0-1.04.2-1.43.59L10.3 9.45l-7.72 7.72c-.78.78-.78 2.05 0 2.83L4 21.41c.39.39.9.59 1.41.59.51 0 1.02-.2 1.41-.59l7.78-7.78 2.81-2.81c.8-.78.8-2.07 0-2.86zM5.41 20L4 18.59l7.72-7.72 1.47 1.35L5.41 20z\"/>\n",
              "  </svg>\n",
              "      </button>\n",
              "      \n",
              "  <style>\n",
              "    .colab-df-container {\n",
              "      display:flex;\n",
              "      flex-wrap:wrap;\n",
              "      gap: 12px;\n",
              "    }\n",
              "\n",
              "    .colab-df-convert {\n",
              "      background-color: #E8F0FE;\n",
              "      border: none;\n",
              "      border-radius: 50%;\n",
              "      cursor: pointer;\n",
              "      display: none;\n",
              "      fill: #1967D2;\n",
              "      height: 32px;\n",
              "      padding: 0 0 0 0;\n",
              "      width: 32px;\n",
              "    }\n",
              "\n",
              "    .colab-df-convert:hover {\n",
              "      background-color: #E2EBFA;\n",
              "      box-shadow: 0px 1px 2px rgba(60, 64, 67, 0.3), 0px 1px 3px 1px rgba(60, 64, 67, 0.15);\n",
              "      fill: #174EA6;\n",
              "    }\n",
              "\n",
              "    [theme=dark] .colab-df-convert {\n",
              "      background-color: #3B4455;\n",
              "      fill: #D2E3FC;\n",
              "    }\n",
              "\n",
              "    [theme=dark] .colab-df-convert:hover {\n",
              "      background-color: #434B5C;\n",
              "      box-shadow: 0px 1px 3px 1px rgba(0, 0, 0, 0.15);\n",
              "      filter: drop-shadow(0px 1px 2px rgba(0, 0, 0, 0.3));\n",
              "      fill: #FFFFFF;\n",
              "    }\n",
              "  </style>\n",
              "\n",
              "      <script>\n",
              "        const buttonEl =\n",
              "          document.querySelector('#df-f42976ca-e4d4-4337-bbf0-ff0e1f2e4b30 button.colab-df-convert');\n",
              "        buttonEl.style.display =\n",
              "          google.colab.kernel.accessAllowed ? 'block' : 'none';\n",
              "\n",
              "        async function convertToInteractive(key) {\n",
              "          const element = document.querySelector('#df-f42976ca-e4d4-4337-bbf0-ff0e1f2e4b30');\n",
              "          const dataTable =\n",
              "            await google.colab.kernel.invokeFunction('convertToInteractive',\n",
              "                                                     [key], {});\n",
              "          if (!dataTable) return;\n",
              "\n",
              "          const docLinkHtml = 'Like what you see? Visit the ' +\n",
              "            '<a target=\"_blank\" href=https://colab.research.google.com/notebooks/data_table.ipynb>data table notebook</a>'\n",
              "            + ' to learn more about interactive tables.';\n",
              "          element.innerHTML = '';\n",
              "          dataTable['output_type'] = 'display_data';\n",
              "          await google.colab.output.renderOutput(dataTable, element);\n",
              "          const docLink = document.createElement('div');\n",
              "          docLink.innerHTML = docLinkHtml;\n",
              "          element.appendChild(docLink);\n",
              "        }\n",
              "      </script>\n",
              "    </div>\n",
              "  </div>\n",
              "  "
            ]
          },
          "metadata": {},
          "execution_count": 72
        }
      ],
      "source": [
        "seqs[seqs['length'] > 512]"
      ]
    },
    {
      "cell_type": "markdown",
      "id": "8d132915",
      "metadata": {
        "id": "8d132915"
      },
      "source": [
        "### X.X CNN - Electronics"
      ]
    },
    {
      "cell_type": "code",
      "execution_count": 73,
      "id": "970fcb3f",
      "metadata": {
        "id": "970fcb3f"
      },
      "outputs": [],
      "source": [
        "# Set model hyperparamters\n",
        "output_dim = 256\n",
        "epochs = 10\n",
        "batch_size = 512\n",
        "dropout_rate = 0.0\n",
        "num_classes = len(np.unique(labels, axis=0))\n",
        "opt = tf.keras.optimizers.Adam(learning_rate=0.001,\n",
        "                               epsilon=0.00000001,\n",
        "                               clipnorm=1.0\n",
        "                              )\n",
        "loss_func = 'binary_crossentropy'\n",
        "metrics = ['accuracy']"
      ]
    },
    {
      "cell_type": "code",
      "execution_count": 74,
      "id": "e27cbdca",
      "metadata": {
        "id": "e27cbdca"
      },
      "outputs": [],
      "source": [
        "# # Split data into train, dev, and test sets\n",
        "X_train, X_test, y_train, y_test = train_test_split(review_tokens, labels, test_size=0.2, random_state=0)\n",
        "X_train, X_dev, y_train, y_dev = train_test_split(X_train, y_train, test_size=0.25, random_state=0)\n",
        "\n",
        "# Use SMOTE to balance the training set\n",
        "sm = SMOTE(random_state=0)\n",
        "X_train, y_train = sm.fit_resample(X_train, y_train)"
      ]
    },
    {
      "cell_type": "code",
      "execution_count": 75,
      "id": "ba5c3da7",
      "metadata": {
        "colab": {
          "base_uri": "https://localhost:8080/"
        },
        "id": "ba5c3da7",
        "outputId": "279142d8-42e2-4458-d702-fd4f757472d1"
      },
      "outputs": [
        {
          "output_type": "execute_result",
          "data": {
            "text/plain": [
              "(248,)"
            ]
          },
          "metadata": {},
          "execution_count": 75
        }
      ],
      "source": [
        "y_test.shape"
      ]
    },
    {
      "cell_type": "code",
      "execution_count": 76,
      "id": "25ec148a",
      "metadata": {
        "colab": {
          "base_uri": "https://localhost:8080/"
        },
        "id": "25ec148a",
        "outputId": "6c2aee00-1335-4c41-c9b9-af6c75347f95"
      },
      "outputs": [
        {
          "output_type": "stream",
          "name": "stdout",
          "text": [
            "Model: \"sequential\"\n",
            "_________________________________________________________________\n",
            " Layer (type)                Output Shape              Param #   \n",
            "=================================================================\n",
            " embedding (Embedding)       (None, 512, 256)          1024000   \n",
            "                                                                 \n",
            " conv1d (Conv1D)             (None, 512, 16)           12304     \n",
            "                                                                 \n",
            " flatten (Flatten)           (None, 8192)              0         \n",
            "                                                                 \n",
            " dense (Dense)               (None, 256)               2097408   \n",
            "                                                                 \n",
            " dense_1 (Dense)             (None, 1)                 257       \n",
            "                                                                 \n",
            "=================================================================\n",
            "Total params: 3,133,969\n",
            "Trainable params: 3,133,969\n",
            "Non-trainable params: 0\n",
            "_________________________________________________________________\n"
          ]
        }
      ],
      "source": [
        "# Build model\n",
        "cnn_model = Sequential()\n",
        "cnn_model.add(Embedding(input_dim=num_words, output_dim=output_dim, input_length=num_len))\n",
        "cnn_model.add(Conv1D(16, 3, padding='same', activation='relu'))\n",
        "# cnn_model.add(MaxPooling1D())\n",
        "cnn_model.add(Flatten())\n",
        "cnn_model.add(Dense(256, activation='relu'))\n",
        "cnn_model.add(Dense(1, activation='sigmoid'))\n",
        "cnn_model.compile(optimizer=opt, loss=loss_func, metrics=metrics)\n",
        "cnn_model.summary()\n"
      ]
    },
    {
      "cell_type": "code",
      "execution_count": 77,
      "id": "540787cc",
      "metadata": {
        "colab": {
          "base_uri": "https://localhost:8080/"
        },
        "id": "540787cc",
        "outputId": "9e6ae2b5-e3b9-4622-c377-4ac81a0df7ef"
      },
      "outputs": [
        {
          "output_type": "stream",
          "name": "stdout",
          "text": [
            "Epoch 1/10\n",
            "2/2 - 8s - loss: 0.7009 - accuracy: 0.4634 - val_loss: 0.7399 - val_accuracy: 0.5484 - 8s/epoch - 4s/step\n",
            "Epoch 2/10\n",
            "2/2 - 0s - loss: 0.7422 - accuracy: 0.5000 - val_loss: 0.6914 - val_accuracy: 0.5444 - 112ms/epoch - 56ms/step\n",
            "Epoch 3/10\n",
            "2/2 - 0s - loss: 0.6784 - accuracy: 0.6950 - val_loss: 0.6913 - val_accuracy: 0.5282 - 105ms/epoch - 53ms/step\n",
            "Epoch 4/10\n",
            "2/2 - 0s - loss: 0.6684 - accuracy: 0.7849 - val_loss: 0.6882 - val_accuracy: 0.5766 - 107ms/epoch - 53ms/step\n",
            "Epoch 5/10\n",
            "2/2 - 0s - loss: 0.6510 - accuracy: 0.7671 - val_loss: 0.6856 - val_accuracy: 0.5766 - 106ms/epoch - 53ms/step\n",
            "Epoch 6/10\n",
            "2/2 - 0s - loss: 0.6274 - accuracy: 0.7447 - val_loss: 0.6843 - val_accuracy: 0.5766 - 110ms/epoch - 55ms/step\n",
            "Epoch 7/10\n",
            "2/2 - 0s - loss: 0.5992 - accuracy: 0.7600 - val_loss: 0.6816 - val_accuracy: 0.5887 - 108ms/epoch - 54ms/step\n",
            "Epoch 8/10\n",
            "2/2 - 0s - loss: 0.5650 - accuracy: 0.8251 - val_loss: 0.6786 - val_accuracy: 0.6048 - 108ms/epoch - 54ms/step\n",
            "Epoch 9/10\n",
            "2/2 - 0s - loss: 0.5248 - accuracy: 0.8877 - val_loss: 0.6758 - val_accuracy: 0.6290 - 106ms/epoch - 53ms/step\n",
            "Epoch 10/10\n",
            "2/2 - 0s - loss: 0.4783 - accuracy: 0.9267 - val_loss: 0.6752 - val_accuracy: 0.5927 - 108ms/epoch - 54ms/step\n"
          ]
        },
        {
          "output_type": "execute_result",
          "data": {
            "text/plain": [
              "<keras.callbacks.History at 0x7fc3f0d40650>"
            ]
          },
          "metadata": {},
          "execution_count": 77
        }
      ],
      "source": [
        "# Fit model\n",
        "cnn_model.fit(X_train,\n",
        "              y_train,\n",
        "              validation_data=(X_dev, y_dev),\n",
        "              epochs=epochs,\n",
        "              batch_size=batch_size,\n",
        "              verbose=2\n",
        "             )"
      ]
    },
    {
      "cell_type": "code",
      "execution_count": null,
      "id": "dbc0b465",
      "metadata": {
        "colab": {
          "base_uri": "https://localhost:8080/",
          "height": 295
        },
        "id": "dbc0b465",
        "outputId": "015b19ff-cf70-430c-90ec-5b3222d32539"
      },
      "outputs": [
        {
          "data": {
            "image/png": "[encoded data removed]",
            "text/plain": [
              "<Figure size 432x288 with 2 Axes>"
            ]
          },
          "metadata": {
            "needs_background": "light"
          },
          "output_type": "display_data"
        }
      ],
      "source": [
        "# Plot confusion matrix on training data\n",
        "y_true = y_train\n",
        "y_pred = (cnn_model.predict(X_train) >= 0.5).astype(\"int32\")\n",
        "\n",
        "ConfusionMatrixDisplay.from_predictions(y_true,\n",
        "                                        y_pred,\n",
        "                                        normalize='all',\n",
        "                                        display_labels=sentiment\n",
        "                                       )\n",
        "\n",
        "plt.title(\"Confusion Matrix of Review Usefulness\")\n",
        "plt.show()"
      ]
    },
    {
      "cell_type": "code",
      "execution_count": null,
      "id": "962c6a50",
      "metadata": {
        "colab": {
          "base_uri": "https://localhost:8080/",
          "height": 295
        },
        "id": "962c6a50",
        "outputId": "015b19ff-cf70-430c-90ec-5b3222d32539"
      },
      "outputs": [
        {
          "data": {
            "image/png": "[encoded data removed]",
            "text/plain": [
              "<Figure size 432x288 with 2 Axes>"
            ]
          },
          "metadata": {
            "needs_background": "light"
          },
          "output_type": "display_data"
        }
      ],
      "source": [
        "# Plot confusion matrix\n",
        "y_true = y_test\n",
        "y_pred = (cnn_model.predict(X_test) >= 0.5).astype(\"int32\")\n",
        "\n",
        "ConfusionMatrixDisplay.from_predictions(y_true,\n",
        "                                        y_pred,\n",
        "                                        normalize='all',\n",
        "                                        display_labels=sentiment\n",
        "                                       )\n",
        "\n",
        "plt.title(\"Confusion Matrix of Review Usefulness\")\n",
        "plt.show()"
      ]
    },
    {
      "cell_type": "code",
      "execution_count": null,
      "id": "68fb7767",
      "metadata": {
        "colab": {
          "base_uri": "https://localhost:8080/"
        },
        "id": "68fb7767",
        "outputId": "eb683707-0c07-4232-9f88-014aba6a469a"
      },
      "outputs": [
        {
          "name": "stdout",
          "output_type": "stream",
          "text": [
            "              precision    recall  f1-score   support\n",
            "\n",
            "           0       0.55      0.20      0.29       106\n",
            "           1       0.60      0.88      0.71       142\n",
            "\n",
            "    accuracy                           0.59       248\n",
            "   macro avg       0.57      0.54      0.50       248\n",
            "weighted avg       0.58      0.59      0.53       248\n",
            "\n"
          ]
        }
      ],
      "source": [
        "print(classification_report(y_true, y_pred))"
      ]
    },
    {
      "cell_type": "code",
      "execution_count": null,
      "id": "M07hJdegEhMo",
      "metadata": {
        "colab": {
          "base_uri": "https://localhost:8080/"
        },
        "id": "M07hJdegEhMo",
        "outputId": "1d91a98c-1cba-464a-be81-a4268c9e792c"
      },
      "outputs": [
        {
          "name": "stdout",
          "output_type": "stream",
          "text": [
            "8/8 [==============================] - 0s 12ms/step - loss: 0.6939 - accuracy: 0.5887\n",
            "Model performance metrics on test data\n",
            "Accuracy: 0.5887\n",
            "Loss: 0.6939\n",
            "Precision: 0.5770\n",
            "Recall: 0.5887\n",
            "F1-score: 0.5313\n"
          ]
        }
      ],
      "source": [
        "# Evaluate model\n",
        "loss, acc = cnn_model.evaluate(X_test, y_test, verbose=1)\n",
        "precision, recall, f1, support = precision_recall_fscore_support(y_true, y_pred, average='weighted')\n",
        "print(\"Model performance metrics on test data\")\n",
        "print(\"Accuracy: {:.4f}\\nLoss: {:.4f}\\nPrecision: {:.4f}\\nRecall: {:.4f}\\nF1-score: {:.4f}\".format(acc, loss, precision, recall, f1))"
      ]
    },
    {
      "cell_type": "code",
      "execution_count": null,
      "id": "a3099adf",
      "metadata": {
        "id": "a3099adf"
      },
      "outputs": [],
      "source": [
        "example0 = \"Golf tips magazine is one of the most aptly titled magazines available today. \\\n",
        "            It is chock full of heavily-illustrated exercises and other tips for serious golfers to improve their games.\\\n",
        "            \\nThere are a number of golf magazines on the newstand today. Most of them rely on a lifestyle format relying \\\n",
        "            more heavily on lifestyle-type stories about today's hot golfers and the courses they play. Most of them include \\\n",
        "            a brief game tip or two but seem aimed at the casual duffer.\\nGolf Tips, on the other hand, features almost nothing \\\n",
        "            but heavily illustrated tips on improving one's swing, eliminating mistakes and putting better. It also is heavily \\\n",
        "            loaded with features on the latest equipment technology. Each issue also seems to feature an article on the technical \\\n",
        "            aspects of a selected major golf course. The articles are written with terminology that serious golfers will understand \\\n",
        "            but that may confuse the weekend player. Judging by the amount of advertising in its early issues, this magazine also \\\n",
        "            appears to be financially healthy.\\nIf a reader wants to read about the PGA Tour's superstars, this magazine is not for \\\n",
        "            him/her. But if s/he plans to be one of those superstars, Golf Tips is a good match.\"\n",
        "\n",
        "example1 = \"The information is interesting and fun, the writing is superb, and the writers and editors have a great sense of humor. \\\n",
        "            I just wish it came out more often!\"\n",
        "\n",
        "example2 = \"this data science article is the best ever\"\n",
        "\n",
        "example3 = \"i really loved how the technician helped me with the issue that i had\"\n",
        "\n",
        "example4 = \"useless comment\"\n",
        "\n",
        "examples = [example0, example1, example2, example3, example4]"
      ]
    },
    {
      "cell_type": "code",
      "execution_count": null,
      "id": "00172c2d",
      "metadata": {
        "id": "00172c2d"
      },
      "outputs": [],
      "source": [
        "def test_examples(model, examples, num_len=512):\n",
        "    for idx, example in enumerate(examples):\n",
        "        sequence = tokenizer.texts_to_sequences([example])\n",
        "        test = pad_sequences(sequence, maxlen=num_len)\n",
        "        prediction = sentiment[np.around(model.predict(test), decimals=0).argmax(axis=1)[0]]\n",
        "        print(idx, \":\", prediction)"
      ]
    },
    {
      "cell_type": "code",
      "execution_count": null,
      "id": "fb25d4bb",
      "metadata": {
        "colab": {
          "base_uri": "https://localhost:8080/"
        },
        "id": "fb25d4bb",
        "outputId": "efc46f4e-2752-47e8-db31-171fa16f244a"
      },
      "outputs": [
        {
          "name": "stdout",
          "output_type": "stream",
          "text": [
            "0 : Not Useful\n",
            "1 : Not Useful\n",
            "2 : Not Useful\n",
            "3 : Not Useful\n",
            "4 : Not Useful\n"
          ]
        }
      ],
      "source": [
        "test_examples(cnn_model, examples)"
      ]
    },
    {
      "cell_type": "markdown",
      "id": "SDpfcjw9WM0o",
      "metadata": {
        "id": "SDpfcjw9WM0o"
      },
      "source": [
        "### X.X BERT - Electronics\n",
        "\n",
        "[TF BERT Tutorial](https://www.tensorflow.org/text/tutorials/classify_text_with_bert)"
      ]
    },
    {
      "cell_type": "code",
      "execution_count": 17,
      "id": "S8MuwEYFWcLm",
      "metadata": {
        "colab": {
          "base_uri": "https://localhost:8080/"
        },
        "id": "S8MuwEYFWcLm",
        "outputId": "8c54e6a5-5f5c-42a1-b040-1de511a4a44b"
      },
      "outputs": [
        {
          "output_type": "stream",
          "name": "stdout",
          "text": [
            "\u001b[K     |████████████████████████████████| 4.9 MB 7.5 MB/s \n",
            "\u001b[K     |████████████████████████████████| 462 kB 48.7 MB/s \n",
            "\u001b[?25h"
          ]
        }
      ],
      "source": [
        "# A dependency of the preprocessing for BERT inputs\n",
        "!pip install -q -U \"tensorflow-text==2.8.*\""
      ]
    },
    {
      "cell_type": "code",
      "execution_count": 18,
      "id": "ft7RxvllWpHl",
      "metadata": {
        "colab": {
          "base_uri": "https://localhost:8080/"
        },
        "id": "ft7RxvllWpHl",
        "outputId": "2c444f3b-8a9c-4cd6-ac6e-59f3c846d8f5"
      },
      "outputs": [
        {
          "output_type": "stream",
          "name": "stdout",
          "text": [
            "\u001b[K     |████████████████████████████████| 1.8 MB 7.7 MB/s \n",
            "\u001b[K     |████████████████████████████████| 99 kB 8.7 MB/s \n",
            "\u001b[K     |████████████████████████████████| 1.1 MB 45.1 MB/s \n",
            "\u001b[K     |████████████████████████████████| 352 kB 49.1 MB/s \n",
            "\u001b[K     |████████████████████████████████| 237 kB 49.9 MB/s \n",
            "\u001b[K     |████████████████████████████████| 1.2 MB 34.7 MB/s \n",
            "\u001b[K     |████████████████████████████████| 47.8 MB 45 kB/s \n",
            "\u001b[K     |████████████████████████████████| 43 kB 995 kB/s \n",
            "\u001b[K     |████████████████████████████████| 90 kB 6.6 MB/s \n",
            "\u001b[?25h  Building wheel for py-cpuinfo (setup.py) ... \u001b[?25l\u001b[?25hdone\n",
            "  Building wheel for seqeval (setup.py) ... \u001b[?25l\u001b[?25hdone\n"
          ]
        }
      ],
      "source": [
        "!pip install -q tf-models-official==2.7.0"
      ]
    },
    {
      "cell_type": "code",
      "execution_count": 19,
      "id": "RhdsKdekWpx0",
      "metadata": {
        "id": "RhdsKdekWpx0"
      },
      "outputs": [],
      "source": [
        "import os\n",
        "import shutil\n",
        "\n",
        "import tensorflow as tf\n",
        "import tensorflow_hub as hub\n",
        "import tensorflow_text as text\n",
        "from official.nlp import optimization  # to create AdamW optimizer\n",
        "\n",
        "tf.get_logger().setLevel('ERROR')"
      ]
    },
    {
      "cell_type": "code",
      "execution_count": 20,
      "id": "a0cZlq4jXwL1",
      "metadata": {
        "colab": {
          "base_uri": "https://localhost:8080/"
        },
        "id": "a0cZlq4jXwL1",
        "outputId": "c4a1d43d-cee7-4f96-e116-44ffceed820b"
      },
      "outputs": [
        {
          "output_type": "stream",
          "name": "stdout",
          "text": [
            "BERT model selected           : https://tfhub.dev/tensorflow/small_bert/bert_en_uncased_L-4_H-512_A-8/1\n",
            "Preprocess model auto-selected: https://tfhub.dev/tensorflow/bert_en_uncased_preprocess/3\n"
          ]
        }
      ],
      "source": [
        "bert_model_name = 'small_bert/bert_en_uncased_L-4_H-512_A-8' \n",
        "\n",
        "map_name_to_handle = {\n",
        "    'bert_en_uncased_L-12_H-768_A-12':\n",
        "        'https://tfhub.dev/tensorflow/bert_en_uncased_L-12_H-768_A-12/3',\n",
        "    'bert_en_cased_L-12_H-768_A-12':\n",
        "        'https://tfhub.dev/tensorflow/bert_en_cased_L-12_H-768_A-12/3',\n",
        "    'bert_multi_cased_L-12_H-768_A-12':\n",
        "        'https://tfhub.dev/tensorflow/bert_multi_cased_L-12_H-768_A-12/3',\n",
        "    'small_bert/bert_en_uncased_L-2_H-128_A-2':\n",
        "        'https://tfhub.dev/tensorflow/small_bert/bert_en_uncased_L-2_H-128_A-2/1',\n",
        "    'small_bert/bert_en_uncased_L-2_H-256_A-4':\n",
        "        'https://tfhub.dev/tensorflow/small_bert/bert_en_uncased_L-2_H-256_A-4/1',\n",
        "    'small_bert/bert_en_uncased_L-2_H-512_A-8':\n",
        "        'https://tfhub.dev/tensorflow/small_bert/bert_en_uncased_L-2_H-512_A-8/1',\n",
        "    'small_bert/bert_en_uncased_L-2_H-768_A-12':\n",
        "        'https://tfhub.dev/tensorflow/small_bert/bert_en_uncased_L-2_H-768_A-12/1',\n",
        "    'small_bert/bert_en_uncased_L-4_H-128_A-2':\n",
        "        'https://tfhub.dev/tensorflow/small_bert/bert_en_uncased_L-4_H-128_A-2/1',\n",
        "    'small_bert/bert_en_uncased_L-4_H-256_A-4':\n",
        "        'https://tfhub.dev/tensorflow/small_bert/bert_en_uncased_L-4_H-256_A-4/1',\n",
        "    'small_bert/bert_en_uncased_L-4_H-512_A-8':\n",
        "        'https://tfhub.dev/tensorflow/small_bert/bert_en_uncased_L-4_H-512_A-8/1',\n",
        "    'small_bert/bert_en_uncased_L-4_H-768_A-12':\n",
        "        'https://tfhub.dev/tensorflow/small_bert/bert_en_uncased_L-4_H-768_A-12/1',\n",
        "    'small_bert/bert_en_uncased_L-6_H-128_A-2':\n",
        "        'https://tfhub.dev/tensorflow/small_bert/bert_en_uncased_L-6_H-128_A-2/1',\n",
        "    'small_bert/bert_en_uncased_L-6_H-256_A-4':\n",
        "        'https://tfhub.dev/tensorflow/small_bert/bert_en_uncased_L-6_H-256_A-4/1',\n",
        "    'small_bert/bert_en_uncased_L-6_H-512_A-8':\n",
        "        'https://tfhub.dev/tensorflow/small_bert/bert_en_uncased_L-6_H-512_A-8/1',\n",
        "    'small_bert/bert_en_uncased_L-6_H-768_A-12':\n",
        "        'https://tfhub.dev/tensorflow/small_bert/bert_en_uncased_L-6_H-768_A-12/1',\n",
        "    'small_bert/bert_en_uncased_L-8_H-128_A-2':\n",
        "        'https://tfhub.dev/tensorflow/small_bert/bert_en_uncased_L-8_H-128_A-2/1',\n",
        "    'small_bert/bert_en_uncased_L-8_H-256_A-4':\n",
        "        'https://tfhub.dev/tensorflow/small_bert/bert_en_uncased_L-8_H-256_A-4/1',\n",
        "    'small_bert/bert_en_uncased_L-8_H-512_A-8':\n",
        "        'https://tfhub.dev/tensorflow/small_bert/bert_en_uncased_L-8_H-512_A-8/1',\n",
        "    'small_bert/bert_en_uncased_L-8_H-768_A-12':\n",
        "        'https://tfhub.dev/tensorflow/small_bert/bert_en_uncased_L-8_H-768_A-12/1',\n",
        "    'small_bert/bert_en_uncased_L-10_H-128_A-2':\n",
        "        'https://tfhub.dev/tensorflow/small_bert/bert_en_uncased_L-10_H-128_A-2/1',\n",
        "    'small_bert/bert_en_uncased_L-10_H-256_A-4':\n",
        "        'https://tfhub.dev/tensorflow/small_bert/bert_en_uncased_L-10_H-256_A-4/1',\n",
        "    'small_bert/bert_en_uncased_L-10_H-512_A-8':\n",
        "        'https://tfhub.dev/tensorflow/small_bert/bert_en_uncased_L-10_H-512_A-8/1',\n",
        "    'small_bert/bert_en_uncased_L-10_H-768_A-12':\n",
        "        'https://tfhub.dev/tensorflow/small_bert/bert_en_uncased_L-10_H-768_A-12/1',\n",
        "    'small_bert/bert_en_uncased_L-12_H-128_A-2':\n",
        "        'https://tfhub.dev/tensorflow/small_bert/bert_en_uncased_L-12_H-128_A-2/1',\n",
        "    'small_bert/bert_en_uncased_L-12_H-256_A-4':\n",
        "        'https://tfhub.dev/tensorflow/small_bert/bert_en_uncased_L-12_H-256_A-4/1',\n",
        "    'small_bert/bert_en_uncased_L-12_H-512_A-8':\n",
        "        'https://tfhub.dev/tensorflow/small_bert/bert_en_uncased_L-12_H-512_A-8/1',\n",
        "    'small_bert/bert_en_uncased_L-12_H-768_A-12':\n",
        "        'https://tfhub.dev/tensorflow/small_bert/bert_en_uncased_L-12_H-768_A-12/1',\n",
        "    'albert_en_base':\n",
        "        'https://tfhub.dev/tensorflow/albert_en_base/2',\n",
        "    'electra_small':\n",
        "        'https://tfhub.dev/google/electra_small/2',\n",
        "    'electra_base':\n",
        "        'https://tfhub.dev/google/electra_base/2',\n",
        "    'experts_pubmed':\n",
        "        'https://tfhub.dev/google/experts/bert/pubmed/2',\n",
        "    'experts_wiki_books':\n",
        "        'https://tfhub.dev/google/experts/bert/wiki_books/2',\n",
        "    'talking-heads_base':\n",
        "        'https://tfhub.dev/tensorflow/talkheads_ggelu_bert_en_base/1',\n",
        "}\n",
        "\n",
        "map_model_to_preprocess = {\n",
        "    'bert_en_uncased_L-12_H-768_A-12':\n",
        "        'https://tfhub.dev/tensorflow/bert_en_uncased_preprocess/3',\n",
        "    'bert_en_cased_L-12_H-768_A-12':\n",
        "        'https://tfhub.dev/tensorflow/bert_en_cased_preprocess/3',\n",
        "    'small_bert/bert_en_uncased_L-2_H-128_A-2':\n",
        "        'https://tfhub.dev/tensorflow/bert_en_uncased_preprocess/3',\n",
        "    'small_bert/bert_en_uncased_L-2_H-256_A-4':\n",
        "        'https://tfhub.dev/tensorflow/bert_en_uncased_preprocess/3',\n",
        "    'small_bert/bert_en_uncased_L-2_H-512_A-8':\n",
        "        'https://tfhub.dev/tensorflow/bert_en_uncased_preprocess/3',\n",
        "    'small_bert/bert_en_uncased_L-2_H-768_A-12':\n",
        "        'https://tfhub.dev/tensorflow/bert_en_uncased_preprocess/3',\n",
        "    'small_bert/bert_en_uncased_L-4_H-128_A-2':\n",
        "        'https://tfhub.dev/tensorflow/bert_en_uncased_preprocess/3',\n",
        "    'small_bert/bert_en_uncased_L-4_H-256_A-4':\n",
        "        'https://tfhub.dev/tensorflow/bert_en_uncased_preprocess/3',\n",
        "    'small_bert/bert_en_uncased_L-4_H-512_A-8':\n",
        "        'https://tfhub.dev/tensorflow/bert_en_uncased_preprocess/3',\n",
        "    'small_bert/bert_en_uncased_L-4_H-768_A-12':\n",
        "        'https://tfhub.dev/tensorflow/bert_en_uncased_preprocess/3',\n",
        "    'small_bert/bert_en_uncased_L-6_H-128_A-2':\n",
        "        'https://tfhub.dev/tensorflow/bert_en_uncased_preprocess/3',\n",
        "    'small_bert/bert_en_uncased_L-6_H-256_A-4':\n",
        "        'https://tfhub.dev/tensorflow/bert_en_uncased_preprocess/3',\n",
        "    'small_bert/bert_en_uncased_L-6_H-512_A-8':\n",
        "        'https://tfhub.dev/tensorflow/bert_en_uncased_preprocess/3',\n",
        "    'small_bert/bert_en_uncased_L-6_H-768_A-12':\n",
        "        'https://tfhub.dev/tensorflow/bert_en_uncased_preprocess/3',\n",
        "    'small_bert/bert_en_uncased_L-8_H-128_A-2':\n",
        "        'https://tfhub.dev/tensorflow/bert_en_uncased_preprocess/3',\n",
        "    'small_bert/bert_en_uncased_L-8_H-256_A-4':\n",
        "        'https://tfhub.dev/tensorflow/bert_en_uncased_preprocess/3',\n",
        "    'small_bert/bert_en_uncased_L-8_H-512_A-8':\n",
        "        'https://tfhub.dev/tensorflow/bert_en_uncased_preprocess/3',\n",
        "    'small_bert/bert_en_uncased_L-8_H-768_A-12':\n",
        "        'https://tfhub.dev/tensorflow/bert_en_uncased_preprocess/3',\n",
        "    'small_bert/bert_en_uncased_L-10_H-128_A-2':\n",
        "        'https://tfhub.dev/tensorflow/bert_en_uncased_preprocess/3',\n",
        "    'small_bert/bert_en_uncased_L-10_H-256_A-4':\n",
        "        'https://tfhub.dev/tensorflow/bert_en_uncased_preprocess/3',\n",
        "    'small_bert/bert_en_uncased_L-10_H-512_A-8':\n",
        "        'https://tfhub.dev/tensorflow/bert_en_uncased_preprocess/3',\n",
        "    'small_bert/bert_en_uncased_L-10_H-768_A-12':\n",
        "        'https://tfhub.dev/tensorflow/bert_en_uncased_preprocess/3',\n",
        "    'small_bert/bert_en_uncased_L-12_H-128_A-2':\n",
        "        'https://tfhub.dev/tensorflow/bert_en_uncased_preprocess/3',\n",
        "    'small_bert/bert_en_uncased_L-12_H-256_A-4':\n",
        "        'https://tfhub.dev/tensorflow/bert_en_uncased_preprocess/3',\n",
        "    'small_bert/bert_en_uncased_L-12_H-512_A-8':\n",
        "        'https://tfhub.dev/tensorflow/bert_en_uncased_preprocess/3',\n",
        "    'small_bert/bert_en_uncased_L-12_H-768_A-12':\n",
        "        'https://tfhub.dev/tensorflow/bert_en_uncased_preprocess/3',\n",
        "    'bert_multi_cased_L-12_H-768_A-12':\n",
        "        'https://tfhub.dev/tensorflow/bert_multi_cased_preprocess/3',\n",
        "    'albert_en_base':\n",
        "        'https://tfhub.dev/tensorflow/albert_en_preprocess/3',\n",
        "    'electra_small':\n",
        "        'https://tfhub.dev/tensorflow/bert_en_uncased_preprocess/3',\n",
        "    'electra_base':\n",
        "        'https://tfhub.dev/tensorflow/bert_en_uncased_preprocess/3',\n",
        "    'experts_pubmed':\n",
        "        'https://tfhub.dev/tensorflow/bert_en_uncased_preprocess/3',\n",
        "    'experts_wiki_books':\n",
        "        'https://tfhub.dev/tensorflow/bert_en_uncased_preprocess/3',\n",
        "    'talking-heads_base':\n",
        "        'https://tfhub.dev/tensorflow/bert_en_uncased_preprocess/3',\n",
        "}\n",
        "\n",
        "tfhub_handle_encoder = map_name_to_handle[bert_model_name]\n",
        "tfhub_handle_preprocess = map_model_to_preprocess[bert_model_name]\n",
        "\n",
        "print(f'BERT model selected           : {tfhub_handle_encoder}')\n",
        "print(f'Preprocess model auto-selected: {tfhub_handle_preprocess}')"
      ]
    },
    {
      "cell_type": "code",
      "execution_count": 21,
      "id": "Dlv2ktK882aJ",
      "metadata": {
        "id": "Dlv2ktK882aJ"
      },
      "outputs": [],
      "source": [
        "reviews = electronics['review_text'].fillna('no review')\n",
        "\n",
        "X, y = reviews, labels\n",
        "X_train, X_test, y_train, y_test = train_test_split(X, y, test_size=0.2, random_state=0)\n",
        "X_train, X_dev, y_train, y_dev = train_test_split(X_train, y_train, test_size=0.25, random_state=0)"
      ]
    },
    {
      "cell_type": "code",
      "execution_count": 22,
      "id": "h25h0E9kYQr9",
      "metadata": {
        "id": "h25h0E9kYQr9"
      },
      "outputs": [],
      "source": [
        "def build_classifier_model():\n",
        "    text_input = tf.keras.layers.Input(shape=(), dtype=tf.string, name='text')\n",
        "    preprocessing_layer = hub.KerasLayer(tfhub_handle_preprocess, name='preprocessing')\n",
        "    encoder_inputs = preprocessing_layer(text_input)\n",
        "    encoder = hub.KerasLayer(tfhub_handle_encoder, trainable=True, name='BERT_encoder')\n",
        "    outputs = encoder(encoder_inputs)\n",
        "    net = outputs['pooled_output']\n",
        "    net = tf.keras.layers.Dropout(0.1)(net)\n",
        "    net = tf.keras.layers.Dense(1, activation=None, name='classifier')(net)\n",
        "    return tf.keras.Model(text_input, net)"
      ]
    },
    {
      "cell_type": "code",
      "execution_count": 23,
      "id": "s3k_FS8kYQ3A",
      "metadata": {
        "colab": {
          "base_uri": "https://localhost:8080/"
        },
        "id": "s3k_FS8kYQ3A",
        "outputId": "6b82df66-1ac9-4b5d-b0e0-d614dd7a39c5"
      },
      "outputs": [
        {
          "output_type": "stream",
          "name": "stdout",
          "text": [
            "tf.Tensor([[0.36462566]], shape=(1, 1), dtype=float32)\n"
          ]
        }
      ],
      "source": [
        "text_test = ['this is such an amazing movie!']\n",
        "classifier_model = build_classifier_model()\n",
        "bert_raw_result = classifier_model(tf.constant(text_test))\n",
        "print(tf.sigmoid(bert_raw_result))"
      ]
    },
    {
      "cell_type": "code",
      "execution_count": 24,
      "id": "d-bTYyERYQ9c",
      "metadata": {
        "colab": {
          "base_uri": "https://localhost:8080/",
          "height": 466
        },
        "id": "d-bTYyERYQ9c",
        "outputId": "ff944398-a029-44e4-913c-013392c47804"
      },
      "outputs": [
        {
          "output_type": "execute_result",
          "data": {
            "text/plain": [
              "<IPython.core.display.Image object>"
            ],
            "image/png": "[encoded data removed]"
          },
          "metadata": {},
          "execution_count": 24
        }
      ],
      "source": [
        "tf.keras.utils.plot_model(classifier_model)"
      ]
    },
    {
      "cell_type": "code",
      "execution_count": 25,
      "id": "rhP5HN9BYRCZ",
      "metadata": {
        "id": "rhP5HN9BYRCZ"
      },
      "outputs": [],
      "source": [
        "loss_func = tf.keras.losses.BinaryCrossentropy(from_logits=True)\n",
        "metrics = tf.metrics.BinaryAccuracy()"
      ]
    },
    {
      "cell_type": "code",
      "execution_count": 33,
      "id": "OK7WdVPEZKqC",
      "metadata": {
        "id": "OK7WdVPEZKqC"
      },
      "outputs": [],
      "source": [
        "epochs = 10\n",
        "steps_per_epoch = len(X_train)\n",
        "num_train_steps = steps_per_epoch * epochs\n",
        "num_warmup_steps = int(0.1*num_train_steps)\n",
        "\n",
        "init_lr = 3e-5\n",
        "optimizer = optimization.create_optimizer(init_lr=init_lr,\n",
        "                                          num_train_steps=num_train_steps,\n",
        "                                          num_warmup_steps=num_warmup_steps,\n",
        "                                          optimizer_type='adamw')"
      ]
    },
    {
      "cell_type": "code",
      "execution_count": 34,
      "id": "Q0C9YxpeZK2d",
      "metadata": {
        "id": "Q0C9YxpeZK2d"
      },
      "outputs": [],
      "source": [
        "classifier_model.compile(optimizer=optimizer,\n",
        "                         loss=loss_func,\n",
        "                         metrics=metrics)"
      ]
    },
    {
      "cell_type": "code",
      "execution_count": 35,
      "id": "x95zEKIIZK6i",
      "metadata": {
        "colab": {
          "base_uri": "https://localhost:8080/"
        },
        "id": "x95zEKIIZK6i",
        "outputId": "6b2c9ddb-cdfd-421b-f3b5-fe1132a75df6"
      },
      "outputs": [
        {
          "output_type": "stream",
          "name": "stdout",
          "text": [
            "Training model with https://tfhub.dev/tensorflow/small_bert/bert_en_uncased_L-4_H-512_A-8/1\n",
            "Epoch 1/10\n",
            "24/24 [==============================] - 14s 252ms/step - loss: 0.6337 - binary_accuracy: 0.5758 - val_loss: 0.6628 - val_binary_accuracy: 0.5403\n",
            "Epoch 2/10\n",
            "24/24 [==============================] - 5s 222ms/step - loss: 0.6221 - binary_accuracy: 0.6280 - val_loss: 0.6628 - val_binary_accuracy: 0.5323\n",
            "Epoch 3/10\n",
            "24/24 [==============================] - 5s 224ms/step - loss: 0.6091 - binary_accuracy: 0.6361 - val_loss: 0.6621 - val_binary_accuracy: 0.5363\n",
            "Epoch 4/10\n",
            "24/24 [==============================] - 5s 226ms/step - loss: 0.6077 - binary_accuracy: 0.6523 - val_loss: 0.6659 - val_binary_accuracy: 0.5685\n",
            "Epoch 5/10\n",
            "24/24 [==============================] - 5s 225ms/step - loss: 0.6097 - binary_accuracy: 0.6226 - val_loss: 0.6644 - val_binary_accuracy: 0.5726\n",
            "Epoch 6/10\n",
            "24/24 [==============================] - 5s 223ms/step - loss: 0.5884 - binary_accuracy: 0.6685 - val_loss: 0.6713 - val_binary_accuracy: 0.5766\n",
            "Epoch 7/10\n",
            "24/24 [==============================] - 5s 225ms/step - loss: 0.5840 - binary_accuracy: 0.6806 - val_loss: 0.6564 - val_binary_accuracy: 0.5847\n",
            "Epoch 8/10\n",
            "24/24 [==============================] - 5s 224ms/step - loss: 0.5461 - binary_accuracy: 0.7008 - val_loss: 0.6630 - val_binary_accuracy: 0.5806\n",
            "Epoch 9/10\n",
            "24/24 [==============================] - 5s 226ms/step - loss: 0.5265 - binary_accuracy: 0.7264 - val_loss: 0.6807 - val_binary_accuracy: 0.6250\n",
            "Epoch 10/10\n",
            "24/24 [==============================] - 5s 225ms/step - loss: 0.5159 - binary_accuracy: 0.7426 - val_loss: 0.6936 - val_binary_accuracy: 0.6532\n"
          ]
        }
      ],
      "source": [
        "print(f'Training model with {tfhub_handle_encoder}')\n",
        "history = classifier_model.fit(x=X_train,\n",
        "                               y=y_train,\n",
        "                               validation_data=(X_dev, y_dev),\n",
        "                               epochs=epochs)"
      ]
    },
    {
      "cell_type": "code",
      "execution_count": 36,
      "id": "1WPisSo99xn_",
      "metadata": {
        "colab": {
          "base_uri": "https://localhost:8080/",
          "height": 295
        },
        "id": "1WPisSo99xn_",
        "outputId": "9a9fc2cb-6831-4e5d-fe34-763a41a07293"
      },
      "outputs": [
        {
          "output_type": "display_data",
          "data": {
            "text/plain": [
              "<Figure size 432x288 with 2 Axes>"
            ],
            "image/png": "[encoded data removed]"
          },
          "metadata": {
            "needs_background": "light"
          }
        }
      ],
      "source": [
        "# Plot confusion matrix\n",
        "y_true = y_test\n",
        "y_pred = (classifier_model.predict(X_test) >= 0.5).astype(\"int32\")\n",
        "\n",
        "ConfusionMatrixDisplay.from_predictions(y_true,\n",
        "                                        y_pred,\n",
        "                                        normalize='all',\n",
        "                                        display_labels=sentiment\n",
        "                                       )\n",
        "\n",
        "plt.title(\"Confusion Matrix of Review Usefulness\")\n",
        "plt.show()"
      ]
    },
    {
      "cell_type": "code",
      "execution_count": 37,
      "id": "VGdrC5yvZK9-",
      "metadata": {
        "colab": {
          "base_uri": "https://localhost:8080/"
        },
        "id": "VGdrC5yvZK9-",
        "outputId": "c8cdaed6-a9fb-42a6-accc-f458ad4eef64"
      },
      "outputs": [
        {
          "output_type": "stream",
          "name": "stdout",
          "text": [
            "8/8 [==============================] - 1s 119ms/step - loss: 0.7296 - binary_accuracy: 0.6008\n",
            "Model performance metrics on test data\n",
            "Accuracy: 0.6008\n",
            "Loss: 0.7296\n",
            "Precision: 0.5937\n",
            "Recall: 0.6008\n",
            "F1-score: 0.5937\n"
          ]
        }
      ],
      "source": [
        "# Evaluate model\n",
        "loss, acc = classifier_model.evaluate(X_test, y_test)\n",
        "precision, recall, f1, support = precision_recall_fscore_support(y_true, y_pred, average='weighted')\n",
        "print(\"Model performance metrics on test data\")\n",
        "print(\"Accuracy: {:.4f}\\nLoss: {:.4f}\\nPrecision: {:.4f}\\nRecall: {:.4f}\\nF1-score: {:.4f}\".format(acc, loss, precision, recall, f1))"
      ]
    },
    {
      "cell_type": "markdown",
      "id": "57bd9a23",
      "metadata": {
        "id": "57bd9a23"
      },
      "source": [
        "## X.X Furniture"
      ]
    },
    {
      "cell_type": "code",
      "execution_count": 98,
      "id": "e76ed068",
      "metadata": {
        "id": "e76ed068"
      },
      "outputs": [],
      "source": [
        "furniture = review_samples[review_samples['category'] == 'furniture']\n",
        "labels = furniture['useful'].astype(int)"
      ]
    },
    {
      "cell_type": "markdown",
      "id": "8775e329",
      "metadata": {
        "id": "8775e329"
      },
      "source": [
        "### X.X Naive Bayes - Furniture"
      ]
    },
    {
      "cell_type": "code",
      "execution_count": 99,
      "id": "40166467",
      "metadata": {
        "id": "40166467"
      },
      "outputs": [],
      "source": [
        "reviews = furniture['review_processed'].fillna('no review')"
      ]
    },
    {
      "cell_type": "code",
      "execution_count": 100,
      "id": "6eea82cc",
      "metadata": {
        "id": "6eea82cc"
      },
      "outputs": [],
      "source": [
        "X_train, X_test, y_train, y_test = train_test_split(reviews, labels, test_size=0.2, random_state=0)\n",
        "X_train, X_dev, y_train, y_dev = train_test_split(X_train, y_train, test_size=0.25, random_state=0)\n",
        "\n",
        "tf_idf = TfidfVectorizer(ngram_range=(1, 3),\n",
        "                         binary=True,\n",
        "                         smooth_idf=False)\n",
        "\n",
        "X_train_tfidf = tf_idf.fit_transform(X_train)\n",
        "X_dev_tfidf = tf_idf.transform(X_dev)\n",
        "X_test_tfidf = tf_idf.transform(X_test)\n",
        "\n",
        "# Use SMOTE to resolve class imbalance\n",
        "sm = SMOTE(random_state=0)\n",
        "X_train_tfidf, y_train = sm.fit_resample(X_train_tfidf, y_train)"
      ]
    },
    {
      "cell_type": "code",
      "execution_count": 101,
      "id": "7169232c",
      "metadata": {
        "colab": {
          "base_uri": "https://localhost:8080/"
        },
        "id": "7169232c",
        "outputId": "009c7b80-00b9-49fb-9e7d-d9e37a230559"
      },
      "outputs": [
        {
          "output_type": "execute_result",
          "data": {
            "text/plain": [
              "MultinomialNB(alpha=1.8)"
            ]
          },
          "metadata": {},
          "execution_count": 101
        }
      ],
      "source": [
        "# Build model\n",
        "nb_model = MultinomialNB(alpha=1.8)\n",
        "\n",
        "# Fit model\n",
        "nb_model.fit(X_train_tfidf, y_train)"
      ]
    },
    {
      "cell_type": "code",
      "execution_count": 102,
      "id": "b73a41e1",
      "metadata": {
        "colab": {
          "base_uri": "https://localhost:8080/"
        },
        "id": "b73a41e1",
        "outputId": "b8e851f0-e0d8-4e63-b9c9-e06b6add18b4"
      },
      "outputs": [
        {
          "output_type": "stream",
          "name": "stdout",
          "text": [
            "0.9912280701754386 0.6307277628032345 0.6199460916442049\n"
          ]
        }
      ],
      "source": [
        "# Evaluate model accuracy\n",
        "train_acc = nb_model.score(X_train_tfidf, y_train)\n",
        "dev_acc = nb_model.score(X_dev_tfidf, y_dev)\n",
        "test_acc = nb_model.score(X_test_tfidf, y_test)\n",
        "\n",
        "print(train_acc, dev_acc, test_acc)"
      ]
    },
    {
      "cell_type": "code",
      "execution_count": 103,
      "id": "e4b85f0f",
      "metadata": {
        "colab": {
          "base_uri": "https://localhost:8080/",
          "height": 295
        },
        "id": "e4b85f0f",
        "outputId": "2b75fc61-fe42-425e-b00d-5d941e7131d0"
      },
      "outputs": [
        {
          "output_type": "display_data",
          "data": {
            "text/plain": [
              "<Figure size 432x288 with 2 Axes>"
            ],
            "image/png": "[encoded data removed]"
          },
          "metadata": {
            "needs_background": "light"
          }
        }
      ],
      "source": [
        "# Plot confusion matrix\n",
        "y_true = y_train\n",
        "y_pred = nb_model.predict(X_train_tfidf)\n",
        "\n",
        "ConfusionMatrixDisplay.from_predictions(y_true,\n",
        "                                        y_pred,\n",
        "                                        normalize='all',\n",
        "                                        display_labels=sentiment\n",
        "                                       )\n",
        "\n",
        "plt.title(\"Confusion Matrix of Review Usefulness\")\n",
        "plt.show()"
      ]
    },
    {
      "cell_type": "code",
      "execution_count": 105,
      "id": "c59116cc",
      "metadata": {
        "colab": {
          "base_uri": "https://localhost:8080/",
          "height": 295
        },
        "id": "c59116cc",
        "outputId": "5f715c38-13a0-49cc-890e-5775fb883087"
      },
      "outputs": [
        {
          "output_type": "display_data",
          "data": {
            "text/plain": [
              "<Figure size 432x288 with 2 Axes>"
            ],
            "image/png": "[encoded data removed]"
          },
          "metadata": {
            "needs_background": "light"
          }
        }
      ],
      "source": [
        "# Evaluate model on test data and plot confusion matrix\n",
        "y_true = y_test\n",
        "y_pred = nb_model.predict(X_test_tfidf)\n",
        "\n",
        "ConfusionMatrixDisplay.from_predictions(y_true,\n",
        "                                        y_pred,\n",
        "                                        normalize='all',\n",
        "                                        display_labels=sentiment\n",
        "                                       )\n",
        "\n",
        "plt.title(\"Confusion Matrix of Review Usefulness\")\n",
        "plt.show()"
      ]
    },
    {
      "cell_type": "code",
      "execution_count": 106,
      "id": "0a16ab77",
      "metadata": {
        "colab": {
          "base_uri": "https://localhost:8080/",
          "height": 313
        },
        "id": "0a16ab77",
        "outputId": "a395d378-3f21-44b4-9880-057aabd3b16f"
      },
      "outputs": [
        {
          "output_type": "stream",
          "name": "stdout",
          "text": [
            "AUC: 0.5251\n"
          ]
        },
        {
          "output_type": "display_data",
          "data": {
            "text/plain": [
              "<Figure size 432x288 with 1 Axes>"
            ],
            "image/png": "[encoded data removed]"
          },
          "metadata": {
            "needs_background": "light"
          }
        }
      ],
      "source": [
        "fpr, tpr, threshold = roc_curve(y_true, y_pred)\n",
        "roc_auc = auc(fpr, tpr)\n",
        "print(f'AUC: {roc_auc:.4f}')\n",
        "\n",
        "# Plot ROC AUC\n",
        "plt.title('Receiver Operating Characteristic')\n",
        "plt.plot(fpr, tpr, 'b', label = 'AUC = %0.2f' % roc_auc)\n",
        "plt.legend(loc = 'lower right')\n",
        "plt.plot([0, 1], [0, 1],'r--')\n",
        "plt.xlim([0, 1])\n",
        "plt.ylim([0, 1])\n",
        "plt.ylabel('True Positive Rate')\n",
        "plt.xlabel('False Positive Rate')\n",
        "plt.show()"
      ]
    },
    {
      "cell_type": "code",
      "source": [
        "# Evaluate model\n",
        "precision, recall, f1, support = precision_recall_fscore_support(y_true, y_pred, average='weighted')\n",
        "print(\"Model performance metrics on test data\")\n",
        "print(\"Accuracy: {:.4f}\\nPrecision: {:.4f}\\nRecall: {:.4f}\\nF1-score: {:.4f}\".format(test_acc, precision, recall, f1))"
      ],
      "metadata": {
        "id": "UojZfG_WVJ5N",
        "outputId": "f590f1df-9213-4e82-a366-1540432ce14b",
        "colab": {
          "base_uri": "https://localhost:8080/"
        }
      },
      "id": "UojZfG_WVJ5N",
      "execution_count": 107,
      "outputs": [
        {
          "output_type": "stream",
          "name": "stdout",
          "text": [
            "Model performance metrics on test data\n",
            "Accuracy: 0.6199\n",
            "Precision: 0.6011\n",
            "Recall: 0.6199\n",
            "F1-score: 0.6091\n"
          ]
        }
      ]
    },
    {
      "cell_type": "markdown",
      "id": "3fde8fe9",
      "metadata": {
        "id": "3fde8fe9"
      },
      "source": [
        "### X.X Tokenization and analytics - Furniture"
      ]
    },
    {
      "cell_type": "code",
      "execution_count": null,
      "id": "d0976f37",
      "metadata": {
        "id": "d0976f37"
      },
      "outputs": [],
      "source": [
        "# Set tokenization parameters\n",
        "num_words = 4000\n",
        "num_len = 512\n",
        "oov_token = '<UNK>'\n",
        "pad_type = 'post'\n",
        "trunc_type = 'post'\n",
        "\n",
        "# Tokenize review text\n",
        "tokenizer = Tokenizer(num_words=num_words, oov_token=oov_token)\n",
        "tokenizer.fit_on_texts(reviews)\n",
        "sequences = tokenizer.texts_to_sequences(reviews)\n",
        "\n",
        "# Additional tokenization parameters\n",
        "max_words = len(tokenizer.word_index)\n",
        "max_len = max([len(x) for x in sequences])\n",
        "\n",
        "# Pad review text tokens\n",
        "review_tokens = pad_sequences(sequences, padding=pad_type, truncating=trunc_type, maxlen=num_len)"
      ]
    },
    {
      "cell_type": "code",
      "execution_count": null,
      "id": "28cbe459",
      "metadata": {
        "id": "28cbe459",
        "outputId": "6886e358-8f66-4703-ecc5-0def0f3bf3e9"
      },
      "outputs": [
        {
          "data": {
            "text/plain": [
              "5234"
            ]
          },
          "execution_count": 346,
          "metadata": {},
          "output_type": "execute_result"
        }
      ],
      "source": [
        "len(tokenizer.word_counts)"
      ]
    },
    {
      "cell_type": "code",
      "execution_count": null,
      "id": "52f182ab",
      "metadata": {
        "id": "52f182ab",
        "outputId": "feb4fbd8-ee91-4c35-e597-de4547b493fe"
      },
      "outputs": [
        {
          "data": {
            "text/html": [
              "<div>\n",
              "<style scoped>\n",
              "    .dataframe tbody tr th:only-of-type {\n",
              "        vertical-align: middle;\n",
              "    }\n",
              "\n",
              "    .dataframe tbody tr th {\n",
              "        vertical-align: top;\n",
              "    }\n",
              "\n",
              "    .dataframe thead th {\n",
              "        text-align: right;\n",
              "    }\n",
              "</style>\n",
              "<table border=\"1\" class=\"dataframe\">\n",
              "  <thead>\n",
              "    <tr style=\"text-align: right;\">\n",
              "      <th></th>\n",
              "      <th>word</th>\n",
              "      <th>frequency</th>\n",
              "    </tr>\n",
              "  </thead>\n",
              "  <tbody>\n",
              "    <tr>\n",
              "      <th>68</th>\n",
              "      <td>look</td>\n",
              "      <td>521</td>\n",
              "    </tr>\n",
              "    <tr>\n",
              "      <th>4</th>\n",
              "      <td>one</td>\n",
              "      <td>517</td>\n",
              "    </tr>\n",
              "    <tr>\n",
              "      <th>87</th>\n",
              "      <td>mattress</td>\n",
              "      <td>515</td>\n",
              "    </tr>\n",
              "    <tr>\n",
              "      <th>669</th>\n",
              "      <td>chair</td>\n",
              "      <td>488</td>\n",
              "    </tr>\n",
              "    <tr>\n",
              "      <th>93</th>\n",
              "      <td>get</td>\n",
              "      <td>480</td>\n",
              "    </tr>\n",
              "    <tr>\n",
              "      <th>94</th>\n",
              "      <td>bed</td>\n",
              "      <td>466</td>\n",
              "    </tr>\n",
              "    <tr>\n",
              "      <th>381</th>\n",
              "      <td>great</td>\n",
              "      <td>445</td>\n",
              "    </tr>\n",
              "    <tr>\n",
              "      <th>69</th>\n",
              "      <td>like</td>\n",
              "      <td>443</td>\n",
              "    </tr>\n",
              "    <tr>\n",
              "      <th>76</th>\n",
              "      <td>would</td>\n",
              "      <td>439</td>\n",
              "    </tr>\n",
              "    <tr>\n",
              "      <th>56</th>\n",
              "      <td>good</td>\n",
              "      <td>394</td>\n",
              "    </tr>\n",
              "  </tbody>\n",
              "</table>\n",
              "</div>"
            ],
            "text/plain": [
              "         word  frequency\n",
              "68       look        521\n",
              "4         one        517\n",
              "87   mattress        515\n",
              "669     chair        488\n",
              "93        get        480\n",
              "94        bed        466\n",
              "381     great        445\n",
              "69       like        443\n",
              "76      would        439\n",
              "56       good        394"
            ]
          },
          "execution_count": 347,
          "metadata": {},
          "output_type": "execute_result"
        }
      ],
      "source": [
        "vocab = pd.DataFrame(tokenizer.word_counts.items(), columns=['word', 'frequency'])\n",
        "vocab.sort_values('frequency', ascending=False).head(10)"
      ]
    },
    {
      "cell_type": "code",
      "execution_count": null,
      "id": "47da368a",
      "metadata": {
        "id": "47da368a",
        "outputId": "2297ae66-2fde-4c6f-adcd-a058e26a1ee2"
      },
      "outputs": [
        {
          "data": {
            "image/png": "[encoded data removed]",
            "text/plain": [
              "<Figure size 432x288 with 1 Axes>"
            ]
          },
          "metadata": {
            "needs_background": "light"
          },
          "output_type": "display_data"
        }
      ],
      "source": [
        "filtered_vocab = vocab[vocab['frequency'] > 1]\n",
        "plt.hist(filtered_vocab['frequency'], bins=20)\n",
        "plt.show()"
      ]
    },
    {
      "cell_type": "code",
      "execution_count": null,
      "id": "3a2bd636",
      "metadata": {
        "id": "3a2bd636",
        "outputId": "2f0a4b88-588f-42cf-cced-84220ba64c85"
      },
      "outputs": [
        {
          "name": "stdout",
          "output_type": "stream",
          "text": [
            "Max words in vocabulary: 5235\n",
            "Max sequence length: 724\n",
            "\n",
            "\n",
            "Words allowed in vocabulary: 4000\n",
            "Allowed sequence length: 512\n",
            "\n",
            "\n",
            "Example processed review:\n",
            "works pissa\n",
            "\n",
            "\n",
            "Example tokenized review:\n",
            "[ 57  46 246  55   3 142  41 850   0   0   0   0   0   0   0   0   0   0\n",
            "   0   0   0   0   0   0   0   0   0   0   0   0   0   0   0   0   0   0\n",
            "   0   0   0   0   0   0   0   0   0   0   0   0   0   0   0   0   0   0\n",
            "   0   0   0   0   0   0   0   0   0   0   0   0   0   0   0   0   0   0\n",
            "   0   0   0   0   0   0   0   0   0   0   0   0   0   0   0   0   0   0\n",
            "   0   0   0   0   0   0   0   0   0   0   0   0   0   0   0   0   0   0\n",
            "   0   0   0   0   0   0   0   0   0   0   0   0   0   0   0   0   0   0\n",
            "   0   0   0   0   0   0   0   0   0   0   0   0   0   0   0   0   0   0\n",
            "   0   0   0   0   0   0   0   0   0   0   0   0   0   0   0   0   0   0\n",
            "   0   0   0   0   0   0   0   0   0   0   0   0   0   0   0   0   0   0\n",
            "   0   0   0   0   0   0   0   0   0   0   0   0   0   0   0   0   0   0\n",
            "   0   0   0   0   0   0   0   0   0   0   0   0   0   0   0   0   0   0\n",
            "   0   0   0   0   0   0   0   0   0   0   0   0   0   0   0   0   0   0\n",
            "   0   0   0   0   0   0   0   0   0   0   0   0   0   0   0   0   0   0\n",
            "   0   0   0   0   0   0   0   0   0   0   0   0   0   0   0   0   0   0\n",
            "   0   0   0   0   0   0   0   0   0   0   0   0   0   0   0   0   0   0\n",
            "   0   0   0   0   0   0   0   0   0   0   0   0   0   0   0   0   0   0\n",
            "   0   0   0   0   0   0   0   0   0   0   0   0   0   0   0   0   0   0\n",
            "   0   0   0   0   0   0   0   0   0   0   0   0   0   0   0   0   0   0\n",
            "   0   0   0   0   0   0   0   0   0   0   0   0   0   0   0   0   0   0\n",
            "   0   0   0   0   0   0   0   0   0   0   0   0   0   0   0   0   0   0\n",
            "   0   0   0   0   0   0   0   0   0   0   0   0   0   0   0   0   0   0\n",
            "   0   0   0   0   0   0   0   0   0   0   0   0   0   0   0   0   0   0\n",
            "   0   0   0   0   0   0   0   0   0   0   0   0   0   0   0   0   0   0\n",
            "   0   0   0   0   0   0   0   0   0   0   0   0   0   0   0   0   0   0\n",
            "   0   0   0   0   0   0   0   0   0   0   0   0   0   0   0   0   0   0\n",
            "   0   0   0   0   0   0   0   0   0   0   0   0   0   0   0   0   0   0\n",
            "   0   0   0   0   0   0   0   0   0   0   0   0   0   0   0   0   0   0\n",
            "   0   0   0   0   0   0   0   0]\n"
          ]
        }
      ],
      "source": [
        "print('Max words in vocabulary: {}'.format(max_words))\n",
        "print('Max sequence length: {}'.format(max_len))\n",
        "print('\\n')\n",
        "\n",
        "print('Words allowed in vocabulary: {}'.format(num_words))\n",
        "print('Allowed sequence length: {}'.format(num_len))\n",
        "print('\\n')\n",
        "\n",
        "print('Example processed review:')\n",
        "print(review_samples['review_processed'].iloc[0])\n",
        "print('\\n')\n",
        "\n",
        "print('Example tokenized review:')\n",
        "print(review_tokens[0])"
      ]
    },
    {
      "cell_type": "code",
      "execution_count": null,
      "id": "e29fcd0e",
      "metadata": {
        "id": "e29fcd0e",
        "outputId": "d1729d0a-1dfb-4a8c-dc98-99128b44cb4e"
      },
      "outputs": [
        {
          "data": {
            "image/png": "[encoded data removed]",
            "text/plain": [
              "<Figure size 432x288 with 1 Axes>"
            ]
          },
          "metadata": {
            "needs_background": "light"
          },
          "output_type": "display_data"
        }
      ],
      "source": [
        "seq_len = [len(x) for x in sequences]\n",
        "d = {'sequence': sequences, 'length': seq_len}\n",
        "seqs = pd.DataFrame(data = d)\n",
        "\n",
        "plt.hist(seqs['length'])\n",
        "plt.show()"
      ]
    },
    {
      "cell_type": "code",
      "execution_count": null,
      "id": "8d3a5db7",
      "metadata": {
        "id": "8d3a5db7",
        "outputId": "1c199bba-2f90-4ca5-b065-24a50cc4cac1"
      },
      "outputs": [
        {
          "data": {
            "text/html": [
              "<div>\n",
              "<style scoped>\n",
              "    .dataframe tbody tr th:only-of-type {\n",
              "        vertical-align: middle;\n",
              "    }\n",
              "\n",
              "    .dataframe tbody tr th {\n",
              "        vertical-align: top;\n",
              "    }\n",
              "\n",
              "    .dataframe thead th {\n",
              "        text-align: right;\n",
              "    }\n",
              "</style>\n",
              "<table border=\"1\" class=\"dataframe\">\n",
              "  <thead>\n",
              "    <tr style=\"text-align: right;\">\n",
              "      <th></th>\n",
              "      <th>sequence</th>\n",
              "      <th>length</th>\n",
              "    </tr>\n",
              "  </thead>\n",
              "  <tbody>\n",
              "    <tr>\n",
              "      <th>282</th>\n",
              "      <td>[3301, 2406, 910, 1387, 545, 58, 278, 99, 323,...</td>\n",
              "      <td>724</td>\n",
              "    </tr>\n",
              "  </tbody>\n",
              "</table>\n",
              "</div>"
            ],
            "text/plain": [
              "                                              sequence  length\n",
              "282  [3301, 2406, 910, 1387, 545, 58, 278, 99, 323,...     724"
            ]
          },
          "execution_count": 351,
          "metadata": {},
          "output_type": "execute_result"
        }
      ],
      "source": [
        "seqs[seqs['length'] > 512]"
      ]
    },
    {
      "cell_type": "markdown",
      "id": "5ca99b4e",
      "metadata": {
        "id": "5ca99b4e"
      },
      "source": [
        "### X.X CNN - Furniture"
      ]
    },
    {
      "cell_type": "code",
      "execution_count": null,
      "id": "6186d759",
      "metadata": {
        "id": "6186d759"
      },
      "outputs": [],
      "source": [
        "# Set model hyperparamters\n",
        "output_dim = 256\n",
        "epochs = 10\n",
        "batch_size = 512\n",
        "dropout_rate = 0.0\n",
        "num_classes = len(np.unique(labels, axis=0))\n",
        "opt = tf.keras.optimizers.Adam(learning_rate=0.001,\n",
        "                               epsilon=0.00000001,\n",
        "                               clipnorm=1.0\n",
        "                              )\n",
        "loss_func = 'binary_crossentropy'\n",
        "metrics = ['accuracy']"
      ]
    },
    {
      "cell_type": "code",
      "execution_count": null,
      "id": "ad728e17",
      "metadata": {
        "id": "ad728e17"
      },
      "outputs": [],
      "source": [
        "# # Split data into train, dev, and test sets\n",
        "X_train, X_test, y_train, y_test = train_test_split(review_tokens, labels, test_size=0.2, random_state=0)\n",
        "X_train, X_dev, y_train, y_dev = train_test_split(X_train, y_train, test_size=0.25, random_state=0)\n",
        "\n",
        "# Use SMOTE to balance the training set\n",
        "sm = SMOTE(random_state=0)\n",
        "X_train, y_train = sm.fit_resample(X_train, y_train)"
      ]
    },
    {
      "cell_type": "code",
      "execution_count": null,
      "id": "f6676a50",
      "metadata": {
        "colab": {
          "base_uri": "https://localhost:8080/"
        },
        "id": "f6676a50",
        "outputId": "e8c64acb-ef2d-4f96-e4ac-e2a21c6ab30d"
      },
      "outputs": [
        {
          "data": {
            "text/plain": [
              "(371,)"
            ]
          },
          "execution_count": 354,
          "metadata": {},
          "output_type": "execute_result"
        }
      ],
      "source": [
        "y_test.shape"
      ]
    },
    {
      "cell_type": "code",
      "execution_count": null,
      "id": "6e3f6ca2",
      "metadata": {
        "colab": {
          "base_uri": "https://localhost:8080/"
        },
        "id": "6e3f6ca2",
        "outputId": "8505dbed-6651-479b-f67d-90e562c62e5a"
      },
      "outputs": [
        {
          "name": "stdout",
          "output_type": "stream",
          "text": [
            "Model: \"sequential_23\"\n",
            "_________________________________________________________________\n",
            " Layer (type)                Output Shape              Param #   \n",
            "=================================================================\n",
            " embedding_23 (Embedding)    (None, 512, 256)          1024000   \n",
            "                                                                 \n",
            " conv1d_20 (Conv1D)          (None, 512, 16)           12304     \n",
            "                                                                 \n",
            " flatten_19 (Flatten)        (None, 8192)              0         \n",
            "                                                                 \n",
            " dense_43 (Dense)            (None, 256)               2097408   \n",
            "                                                                 \n",
            " dense_44 (Dense)            (None, 1)                 257       \n",
            "                                                                 \n",
            "=================================================================\n",
            "Total params: 3,133,969\n",
            "Trainable params: 3,133,969\n",
            "Non-trainable params: 0\n",
            "_________________________________________________________________\n"
          ]
        }
      ],
      "source": [
        "# Build model\n",
        "cnn_model = Sequential()\n",
        "cnn_model.add(Embedding(input_dim=num_words, output_dim=output_dim, input_length=num_len))\n",
        "cnn_model.add(Conv1D(16, 3, padding='same', activation='relu'))\n",
        "# cnn_model.add(MaxPooling1D())\n",
        "cnn_model.add(Flatten())\n",
        "cnn_model.add(Dense(256, activation='relu'))\n",
        "cnn_model.add(Dense(1, activation='sigmoid'))\n",
        "cnn_model.compile(optimizer=opt, loss=loss_func, metrics=metrics)\n",
        "cnn_model.summary()\n"
      ]
    },
    {
      "cell_type": "code",
      "execution_count": null,
      "id": "6f425656",
      "metadata": {
        "colab": {
          "base_uri": "https://localhost:8080/"
        },
        "id": "6f425656",
        "outputId": "319918ec-8dee-4caf-c87d-730e1ada5b47"
      },
      "outputs": [
        {
          "name": "stdout",
          "output_type": "stream",
          "text": [
            "Epoch 1/10\n",
            "4/4 - 3s - loss: 0.7242 - accuracy: 0.4887 - val_loss: 0.6992 - val_accuracy: 0.3127 - 3s/epoch - 848ms/step\n",
            "Epoch 2/10\n",
            "4/4 - 2s - loss: 0.6879 - accuracy: 0.6071 - val_loss: 0.6791 - val_accuracy: 0.6253 - 2s/epoch - 597ms/step\n",
            "Epoch 3/10\n",
            "4/4 - 2s - loss: 0.6766 - accuracy: 0.6241 - val_loss: 0.6555 - val_accuracy: 0.6819 - 2s/epoch - 588ms/step\n",
            "Epoch 4/10\n",
            "4/4 - 2s - loss: 0.6612 - accuracy: 0.6203 - val_loss: 0.6429 - val_accuracy: 0.6523 - 2s/epoch - 605ms/step\n",
            "Epoch 5/10\n",
            "4/4 - 2s - loss: 0.6323 - accuracy: 0.6579 - val_loss: 0.6458 - val_accuracy: 0.5930 - 2s/epoch - 555ms/step\n",
            "Epoch 6/10\n",
            "4/4 - 2s - loss: 0.5878 - accuracy: 0.7325 - val_loss: 0.6521 - val_accuracy: 0.5687 - 2s/epoch - 552ms/step\n",
            "Epoch 7/10\n",
            "4/4 - 2s - loss: 0.5264 - accuracy: 0.8145 - val_loss: 0.6713 - val_accuracy: 0.5391 - 2s/epoch - 562ms/step\n",
            "Epoch 8/10\n",
            "4/4 - 2s - loss: 0.4499 - accuracy: 0.8484 - val_loss: 0.6775 - val_accuracy: 0.5553 - 2s/epoch - 592ms/step\n",
            "Epoch 9/10\n",
            "4/4 - 2s - loss: 0.3655 - accuracy: 0.8678 - val_loss: 0.6747 - val_accuracy: 0.5795 - 2s/epoch - 563ms/step\n",
            "Epoch 10/10\n",
            "4/4 - 3s - loss: 0.2895 - accuracy: 0.8916 - val_loss: 0.7097 - val_accuracy: 0.5633 - 3s/epoch - 643ms/step\n"
          ]
        },
        {
          "data": {
            "text/plain": [
              "<keras.callbacks.History at 0x7f9ebaf8c040>"
            ]
          },
          "execution_count": 356,
          "metadata": {},
          "output_type": "execute_result"
        }
      ],
      "source": [
        "# Fit model\n",
        "cnn_model.fit(X_train,\n",
        "              y_train,\n",
        "              validation_data=(X_dev, y_dev),\n",
        "              epochs=epochs,\n",
        "              batch_size=batch_size,\n",
        "              verbose=2\n",
        "             )"
      ]
    },
    {
      "cell_type": "code",
      "execution_count": null,
      "id": "1149f161",
      "metadata": {
        "colab": {
          "base_uri": "https://localhost:8080/",
          "height": 295
        },
        "id": "1149f161",
        "outputId": "015b19ff-cf70-430c-90ec-5b3222d32539"
      },
      "outputs": [
        {
          "data": {
            "image/png": "[encoded data removed]",
            "text/plain": [
              "<Figure size 432x288 with 2 Axes>"
            ]
          },
          "metadata": {
            "needs_background": "light"
          },
          "output_type": "display_data"
        }
      ],
      "source": [
        "# Plot confusion matrix on training data\n",
        "y_true = y_train\n",
        "y_pred = (cnn_model.predict(X_train) >= 0.5).astype(\"int32\")\n",
        "\n",
        "ConfusionMatrixDisplay.from_predictions(y_true,\n",
        "                                        y_pred,\n",
        "                                        normalize='all',\n",
        "                                        display_labels=sentiment\n",
        "                                       )\n",
        "\n",
        "plt.title(\"Confusion Matrix of Review Usefulness\")\n",
        "plt.show()"
      ]
    },
    {
      "cell_type": "code",
      "execution_count": null,
      "id": "8d9b83cb",
      "metadata": {
        "colab": {
          "base_uri": "https://localhost:8080/",
          "height": 295
        },
        "id": "8d9b83cb",
        "outputId": "015b19ff-cf70-430c-90ec-5b3222d32539"
      },
      "outputs": [
        {
          "data": {
            "image/png": "[encoded data removed]",
            "text/plain": [
              "<Figure size 432x288 with 2 Axes>"
            ]
          },
          "metadata": {
            "needs_background": "light"
          },
          "output_type": "display_data"
        }
      ],
      "source": [
        "# Plot confusion matrix\n",
        "y_true = y_test\n",
        "y_pred = (cnn_model.predict(X_test) >= 0.5).astype(\"int32\")\n",
        "\n",
        "ConfusionMatrixDisplay.from_predictions(y_true,\n",
        "                                        y_pred,\n",
        "                                        normalize='all',\n",
        "                                        display_labels=sentiment\n",
        "                                       )\n",
        "\n",
        "plt.title(\"Confusion Matrix of Review Usefulness\")\n",
        "plt.show()"
      ]
    },
    {
      "cell_type": "code",
      "execution_count": null,
      "id": "c4fe2517",
      "metadata": {
        "colab": {
          "base_uri": "https://localhost:8080/"
        },
        "id": "c4fe2517",
        "outputId": "eb683707-0c07-4232-9f88-014aba6a469a"
      },
      "outputs": [
        {
          "name": "stdout",
          "output_type": "stream",
          "text": [
            "              precision    recall  f1-score   support\n",
            "\n",
            "           0       0.31      0.45      0.37       112\n",
            "           1       0.70      0.57      0.63       259\n",
            "\n",
            "    accuracy                           0.53       371\n",
            "   macro avg       0.51      0.51      0.50       371\n",
            "weighted avg       0.59      0.53      0.55       371\n",
            "\n"
          ]
        }
      ],
      "source": [
        "print(classification_report(y_true, y_pred))"
      ]
    },
    {
      "cell_type": "code",
      "execution_count": null,
      "id": "3f7113b8",
      "metadata": {
        "colab": {
          "base_uri": "https://localhost:8080/"
        },
        "id": "3f7113b8",
        "outputId": "1d91a98c-1cba-464a-be81-a4268c9e792c"
      },
      "outputs": [
        {
          "name": "stdout",
          "output_type": "stream",
          "text": [
            "12/12 [==============================] - 0s 11ms/step - loss: 0.7437 - accuracy: 0.5337\n",
            "Model performance metrics on test data\n",
            "Accuracy: 0.5337\n",
            "Loss: 0.7437\n",
            "Precision: 0.5858\n",
            "Recall: 0.5337\n",
            "F1-score: 0.5512\n"
          ]
        }
      ],
      "source": [
        "# Evaluate model\n",
        "loss, acc = cnn_model.evaluate(X_test, y_test, verbose=1)\n",
        "precision, recall, f1, support = precision_recall_fscore_support(y_true, y_pred, average='weighted')\n",
        "print(\"Model performance metrics on test data\")\n",
        "print(\"Accuracy: {:.4f}\\nLoss: {:.4f}\\nPrecision: {:.4f}\\nRecall: {:.4f}\\nF1-score: {:.4f}\".format(acc, loss, precision, recall, f1))"
      ]
    },
    {
      "cell_type": "code",
      "execution_count": null,
      "id": "d3b27f90",
      "metadata": {
        "id": "d3b27f90"
      },
      "outputs": [],
      "source": [
        "def test_examples(model, examples, num_len=512):\n",
        "    for idx, example in enumerate(examples):\n",
        "        sequence = tokenizer.texts_to_sequences([example])\n",
        "        test = pad_sequences(sequence, maxlen=num_len)\n",
        "        prediction = sentiment[np.around(model.predict(test), decimals=0).argmax(axis=1)[0]]\n",
        "        print(idx, \":\", prediction)"
      ]
    },
    {
      "cell_type": "code",
      "execution_count": null,
      "id": "0df7409f",
      "metadata": {
        "colab": {
          "base_uri": "https://localhost:8080/"
        },
        "id": "0df7409f",
        "outputId": "efc46f4e-2752-47e8-db31-171fa16f244a"
      },
      "outputs": [
        {
          "name": "stdout",
          "output_type": "stream",
          "text": [
            "0 : Not Useful\n",
            "1 : Not Useful\n",
            "2 : Not Useful\n",
            "3 : Not Useful\n",
            "4 : Not Useful\n"
          ]
        }
      ],
      "source": [
        "test_examples(cnn_model, examples)"
      ]
    },
    {
      "cell_type": "markdown",
      "id": "2c2c57b6",
      "metadata": {
        "id": "2c2c57b6"
      },
      "source": [
        "### X.X BERT - Furniture"
      ]
    },
    {
      "cell_type": "code",
      "execution_count": 41,
      "id": "31627ef4",
      "metadata": {
        "id": "31627ef4"
      },
      "outputs": [],
      "source": [
        "reviews = furniture['review_text'].fillna('no review')\n",
        "\n",
        "X, y = reviews, labels\n",
        "X_train, X_test, y_train, y_test = train_test_split(X, y, test_size=0.2, random_state=0)\n",
        "X_train, X_dev, y_train, y_dev = train_test_split(X_train, y_train, test_size=0.25, random_state=0)"
      ]
    },
    {
      "cell_type": "code",
      "execution_count": 42,
      "id": "3413b114",
      "metadata": {
        "colab": {
          "base_uri": "https://localhost:8080/"
        },
        "id": "3413b114",
        "outputId": "f28b4e92-9981-4073-b23f-74758e88a51f"
      },
      "outputs": [
        {
          "output_type": "stream",
          "name": "stdout",
          "text": [
            "tf.Tensor([[0.47878563]], shape=(1, 1), dtype=float32)\n"
          ]
        }
      ],
      "source": [
        "text_test = ['this is such an amazing movie!']\n",
        "classifier_model = build_classifier_model()\n",
        "bert_raw_result = classifier_model(tf.constant(text_test))\n",
        "print(tf.sigmoid(bert_raw_result))"
      ]
    },
    {
      "cell_type": "code",
      "execution_count": 43,
      "id": "01cf1e82",
      "metadata": {
        "id": "01cf1e82"
      },
      "outputs": [],
      "source": [
        "epochs = 10\n",
        "steps_per_epoch = len(X_train)\n",
        "num_train_steps = steps_per_epoch * epochs\n",
        "num_warmup_steps = int(0.1*num_train_steps)\n",
        "\n",
        "init_lr = 3e-5\n",
        "optimizer = optimization.create_optimizer(init_lr=init_lr,\n",
        "                                          num_train_steps=num_train_steps,\n",
        "                                          num_warmup_steps=num_warmup_steps,\n",
        "                                          optimizer_type='adamw')"
      ]
    },
    {
      "cell_type": "code",
      "execution_count": 44,
      "id": "626bafde",
      "metadata": {
        "id": "626bafde"
      },
      "outputs": [],
      "source": [
        "classifier_model.compile(optimizer=optimizer,\n",
        "                         loss=loss_func,\n",
        "                         metrics=metrics)"
      ]
    },
    {
      "cell_type": "code",
      "execution_count": 45,
      "id": "3e3bc459",
      "metadata": {
        "colab": {
          "base_uri": "https://localhost:8080/"
        },
        "id": "3e3bc459",
        "outputId": "c9d21030-c812-47f6-a7ed-9515839fce36"
      },
      "outputs": [
        {
          "output_type": "stream",
          "name": "stdout",
          "text": [
            "Training model with https://tfhub.dev/tensorflow/small_bert/bert_en_uncased_L-4_H-512_A-8/1\n",
            "Epoch 1/10\n",
            "35/35 [==============================] - 21s 248ms/step - loss: 0.6565 - binary_accuracy: 0.5364 - val_loss: 0.6179 - val_binary_accuracy: 0.6388\n",
            "Epoch 2/10\n",
            "35/35 [==============================] - 8s 228ms/step - loss: 0.6327 - binary_accuracy: 0.6289 - val_loss: 0.6021 - val_binary_accuracy: 0.7089\n",
            "Epoch 3/10\n",
            "35/35 [==============================] - 8s 228ms/step - loss: 0.6095 - binary_accuracy: 0.6559 - val_loss: 0.5933 - val_binary_accuracy: 0.7062\n",
            "Epoch 4/10\n",
            "35/35 [==============================] - 8s 227ms/step - loss: 0.5850 - binary_accuracy: 0.6837 - val_loss: 0.5883 - val_binary_accuracy: 0.7116\n",
            "Epoch 5/10\n",
            "35/35 [==============================] - 8s 228ms/step - loss: 0.5781 - binary_accuracy: 0.6873 - val_loss: 0.5902 - val_binary_accuracy: 0.7224\n",
            "Epoch 6/10\n",
            "35/35 [==============================] - 8s 226ms/step - loss: 0.5771 - binary_accuracy: 0.6882 - val_loss: 0.5818 - val_binary_accuracy: 0.6981\n",
            "Epoch 7/10\n",
            "35/35 [==============================] - 8s 228ms/step - loss: 0.5779 - binary_accuracy: 0.6909 - val_loss: 0.5785 - val_binary_accuracy: 0.6846\n",
            "Epoch 8/10\n",
            "35/35 [==============================] - 8s 227ms/step - loss: 0.5397 - binary_accuracy: 0.7296 - val_loss: 0.5861 - val_binary_accuracy: 0.7224\n",
            "Epoch 9/10\n",
            "35/35 [==============================] - 8s 227ms/step - loss: 0.5367 - binary_accuracy: 0.7242 - val_loss: 0.5731 - val_binary_accuracy: 0.6873\n",
            "Epoch 10/10\n",
            "35/35 [==============================] - 8s 228ms/step - loss: 0.5225 - binary_accuracy: 0.7394 - val_loss: 0.5695 - val_binary_accuracy: 0.6981\n"
          ]
        }
      ],
      "source": [
        "print(f'Training model with {tfhub_handle_encoder}')\n",
        "history = classifier_model.fit(x=X_train,\n",
        "                               y=y_train,\n",
        "                               validation_data=(X_dev, y_dev),\n",
        "                               epochs=epochs)"
      ]
    },
    {
      "cell_type": "code",
      "execution_count": 46,
      "id": "59bef064",
      "metadata": {
        "colab": {
          "base_uri": "https://localhost:8080/",
          "height": 295
        },
        "id": "59bef064",
        "outputId": "e91e5e91-7516-497b-ddf5-bf065accd87c"
      },
      "outputs": [
        {
          "output_type": "display_data",
          "data": {
            "text/plain": [
              "<Figure size 432x288 with 2 Axes>"
            ],
            "image/png": "[encoded data removed]"
          },
          "metadata": {
            "needs_background": "light"
          }
        }
      ],
      "source": [
        "# Plot confusion matrix\n",
        "y_true = y_test\n",
        "y_pred = (classifier_model.predict(X_test) >= 0.5).astype(\"int32\")\n",
        "\n",
        "ConfusionMatrixDisplay.from_predictions(y_true,\n",
        "                                        y_pred,\n",
        "                                        normalize='all',\n",
        "                                        display_labels=sentiment\n",
        "                                       )\n",
        "\n",
        "plt.title(\"Confusion Matrix of Review Usefulness\")\n",
        "plt.show()"
      ]
    },
    {
      "cell_type": "code",
      "execution_count": 48,
      "id": "4e7d366d",
      "metadata": {
        "colab": {
          "base_uri": "https://localhost:8080/"
        },
        "id": "4e7d366d",
        "outputId": "bf6aa4e4-26cc-4427-8f1d-42a2a94fa832"
      },
      "outputs": [
        {
          "output_type": "stream",
          "name": "stdout",
          "text": [
            "12/12 [==============================] - 2s 198ms/step - loss: 0.6359 - binary_accuracy: 0.6550\n",
            "Model performance metrics on test data\n",
            "Accuracy: 0.6550\n",
            "Loss: 0.6359\n",
            "Precision: 0.6154\n",
            "Recall: 0.6550\n",
            "F1-score: 0.6263\n"
          ]
        }
      ],
      "source": [
        "# Evaluate model\n",
        "loss, acc = classifier_model.evaluate(X_test, y_test)\n",
        "precision, recall, f1, support = precision_recall_fscore_support(y_true, y_pred, average='weighted')\n",
        "print(\"Model performance metrics on test data\")\n",
        "print(\"Accuracy: {:.4f}\\nLoss: {:.4f}\\nPrecision: {:.4f}\\nRecall: {:.4f}\\nF1-score: {:.4f}\".format(acc, loss, precision, recall, f1))"
      ]
    },
    {
      "cell_type": "markdown",
      "id": "5ab3fba1",
      "metadata": {
        "id": "5ab3fba1"
      },
      "source": [
        "## X.X Sports"
      ]
    },
    {
      "cell_type": "code",
      "execution_count": 108,
      "id": "f5b88680",
      "metadata": {
        "id": "f5b88680"
      },
      "outputs": [],
      "source": [
        "sports = review_samples[review_samples['category'] == 'sports']\n",
        "labels = sports['useful'].astype(int)"
      ]
    },
    {
      "cell_type": "markdown",
      "id": "f6b2c867",
      "metadata": {
        "id": "f6b2c867"
      },
      "source": [
        "### X.X Naive Bayes - Sports"
      ]
    },
    {
      "cell_type": "code",
      "execution_count": 109,
      "id": "7be4b2e8",
      "metadata": {
        "id": "7be4b2e8"
      },
      "outputs": [],
      "source": [
        "reviews = sports['review_processed'].fillna('no review')"
      ]
    },
    {
      "cell_type": "code",
      "execution_count": 110,
      "id": "708d418c",
      "metadata": {
        "id": "708d418c"
      },
      "outputs": [],
      "source": [
        "X_train, X_test, y_train, y_test = train_test_split(reviews, labels, test_size=0.2, random_state=0)\n",
        "X_train, X_dev, y_train, y_dev = train_test_split(X_train, y_train, test_size=0.25, random_state=0)\n",
        "\n",
        "tf_idf = TfidfVectorizer(ngram_range=(1, 3),\n",
        "                         binary=True,\n",
        "                         smooth_idf=False)\n",
        "\n",
        "X_train_tfidf = tf_idf.fit_transform(X_train)\n",
        "X_dev_tfidf = tf_idf.transform(X_dev)\n",
        "X_test_tfidf = tf_idf.transform(X_test)\n",
        "\n",
        "# Use SMOTE to resolve class imbalance\n",
        "sm = SMOTE(random_state=0)\n",
        "X_train_tfidf, y_train = sm.fit_resample(X_train_tfidf, y_train)"
      ]
    },
    {
      "cell_type": "code",
      "execution_count": 111,
      "id": "6acf4eb1",
      "metadata": {
        "colab": {
          "base_uri": "https://localhost:8080/"
        },
        "id": "6acf4eb1",
        "outputId": "0e073eb6-1c6c-4901-e811-52813c74640e"
      },
      "outputs": [
        {
          "output_type": "execute_result",
          "data": {
            "text/plain": [
              "MultinomialNB(alpha=1.8)"
            ]
          },
          "metadata": {},
          "execution_count": 111
        }
      ],
      "source": [
        "# Build model\n",
        "nb_model = MultinomialNB(alpha=1.8)\n",
        "\n",
        "# Fit model\n",
        "nb_model.fit(X_train_tfidf, y_train)"
      ]
    },
    {
      "cell_type": "code",
      "execution_count": 112,
      "id": "9f52ea24",
      "metadata": {
        "colab": {
          "base_uri": "https://localhost:8080/"
        },
        "id": "9f52ea24",
        "outputId": "8e169c35-4014-4cd4-a938-5bc74d9bec6b"
      },
      "outputs": [
        {
          "output_type": "stream",
          "name": "stdout",
          "text": [
            "0.989648033126294 0.5384615384615384 0.47985347985347987\n"
          ]
        }
      ],
      "source": [
        "# Evaluate model accuracy\n",
        "train_acc = nb_model.score(X_train_tfidf, y_train)\n",
        "dev_acc = nb_model.score(X_dev_tfidf, y_dev)\n",
        "test_acc = nb_model.score(X_test_tfidf, y_test)\n",
        "\n",
        "print(train_acc, dev_acc, test_acc)"
      ]
    },
    {
      "cell_type": "code",
      "execution_count": 113,
      "id": "7e0d1760",
      "metadata": {
        "colab": {
          "base_uri": "https://localhost:8080/",
          "height": 295
        },
        "id": "7e0d1760",
        "outputId": "3e310fd1-29e0-40f4-d562-2ed05a16a610"
      },
      "outputs": [
        {
          "output_type": "display_data",
          "data": {
            "text/plain": [
              "<Figure size 432x288 with 2 Axes>"
            ],
            "image/png": "[encoded data removed]"
          },
          "metadata": {
            "needs_background": "light"
          }
        }
      ],
      "source": [
        "# Evaluate model on test data and plot confusion matrix\n",
        "y_true = y_train\n",
        "y_pred = nb_model.predict(X_train_tfidf)\n",
        "\n",
        "ConfusionMatrixDisplay.from_predictions(y_true,\n",
        "                                        y_pred,\n",
        "                                        normalize='all',\n",
        "                                        display_labels=sentiment\n",
        "                                       )\n",
        "\n",
        "plt.title(\"Confusion Matrix of Review Usefulness\")\n",
        "plt.show()"
      ]
    },
    {
      "cell_type": "code",
      "execution_count": 114,
      "id": "c4f91c29",
      "metadata": {
        "colab": {
          "base_uri": "https://localhost:8080/",
          "height": 295
        },
        "id": "c4f91c29",
        "outputId": "695eac60-8cf1-4367-a4c1-2551d5af5588"
      },
      "outputs": [
        {
          "output_type": "display_data",
          "data": {
            "text/plain": [
              "<Figure size 432x288 with 2 Axes>"
            ],
            "image/png": "[encoded data removed]"
          },
          "metadata": {
            "needs_background": "light"
          }
        }
      ],
      "source": [
        "# Evaluate model on test data and plot confusion matrix\n",
        "y_true = y_test\n",
        "y_pred = nb_model.predict(X_test_tfidf)\n",
        "\n",
        "ConfusionMatrixDisplay.from_predictions(y_true,\n",
        "                                        y_pred,\n",
        "                                        normalize='all',\n",
        "                                        display_labels=sentiment\n",
        "                                       )\n",
        "\n",
        "plt.title(\"Confusion Matrix of Review Usefulness\")\n",
        "plt.show()"
      ]
    },
    {
      "cell_type": "code",
      "execution_count": 115,
      "id": "329f3729",
      "metadata": {
        "colab": {
          "base_uri": "https://localhost:8080/",
          "height": 313
        },
        "id": "329f3729",
        "outputId": "97e52604-41a9-454a-9c39-8c19d02d9ddf"
      },
      "outputs": [
        {
          "output_type": "stream",
          "name": "stdout",
          "text": [
            "AUC: 0.4492\n"
          ]
        },
        {
          "output_type": "display_data",
          "data": {
            "text/plain": [
              "<Figure size 432x288 with 1 Axes>"
            ],
            "image/png": "[encoded data removed]"
          },
          "metadata": {
            "needs_background": "light"
          }
        }
      ],
      "source": [
        "fpr, tpr, threshold = roc_curve(y_true, y_pred)\n",
        "roc_auc = auc(fpr, tpr)\n",
        "print(f'AUC: {roc_auc:.4f}')\n",
        "\n",
        "# Plot ROC AUC\n",
        "plt.title('Receiver Operating Characteristic')\n",
        "plt.plot(fpr, tpr, 'b', label = 'AUC = %0.2f' % roc_auc)\n",
        "plt.legend(loc = 'lower right')\n",
        "plt.plot([0, 1], [0, 1],'r--')\n",
        "plt.xlim([0, 1])\n",
        "plt.ylim([0, 1])\n",
        "plt.ylabel('True Positive Rate')\n",
        "plt.xlabel('False Positive Rate')\n",
        "plt.show()"
      ]
    },
    {
      "cell_type": "code",
      "source": [
        "# Evaluate model\n",
        "precision, recall, f1, support = precision_recall_fscore_support(y_true, y_pred, average='weighted')\n",
        "print(\"Model performance metrics on test data\")\n",
        "print(\"Accuracy: {:.4f}\\nPrecision: {:.4f}\\nRecall: {:.4f}\\nF1-score: {:.4f}\".format(test_acc, precision, recall, f1))"
      ],
      "metadata": {
        "id": "_ySfY_WxWngC",
        "outputId": "465a8d1c-25b8-4814-f9f2-1f8ed1e04c9b",
        "colab": {
          "base_uri": "https://localhost:8080/"
        }
      },
      "id": "_ySfY_WxWngC",
      "execution_count": 116,
      "outputs": [
        {
          "output_type": "stream",
          "name": "stdout",
          "text": [
            "Model performance metrics on test data\n",
            "Accuracy: 0.4799\n",
            "Precision: 0.4603\n",
            "Recall: 0.4799\n",
            "F1-score: 0.4660\n"
          ]
        }
      ]
    },
    {
      "cell_type": "markdown",
      "id": "fbc8a637",
      "metadata": {
        "id": "fbc8a637"
      },
      "source": [
        "### X.X Tokenization and analytics - Sports"
      ]
    },
    {
      "cell_type": "code",
      "execution_count": null,
      "id": "f73a3123",
      "metadata": {
        "id": "f73a3123"
      },
      "outputs": [],
      "source": [
        "# Set tokenization parameters\n",
        "num_words = 4000\n",
        "num_len = 512\n",
        "oov_token = '<UNK>'\n",
        "pad_type = 'post'\n",
        "trunc_type = 'post'\n",
        "\n",
        "# Tokenize review text\n",
        "tokenizer = Tokenizer(num_words=num_words, oov_token=oov_token)\n",
        "tokenizer.fit_on_texts(reviews)\n",
        "sequences = tokenizer.texts_to_sequences(reviews)\n",
        "\n",
        "# Additional tokenization parameters\n",
        "max_words = len(tokenizer.word_index)\n",
        "max_len = max([len(x) for x in sequences])\n",
        "\n",
        "# Pad review text tokens\n",
        "review_tokens = pad_sequences(sequences, padding=pad_type, truncating=trunc_type, maxlen=num_len)"
      ]
    },
    {
      "cell_type": "code",
      "execution_count": null,
      "id": "e4b9e5a0",
      "metadata": {
        "id": "e4b9e5a0",
        "outputId": "52ba27d6-af9a-402d-9b50-2086d2f46f7c"
      },
      "outputs": [
        {
          "data": {
            "text/plain": [
              "5583"
            ]
          },
          "execution_count": 373,
          "metadata": {},
          "output_type": "execute_result"
        }
      ],
      "source": [
        "len(tokenizer.word_counts)"
      ]
    },
    {
      "cell_type": "code",
      "execution_count": null,
      "id": "9f7017ce",
      "metadata": {
        "id": "9f7017ce",
        "outputId": "5952ea14-71cd-43e9-a1dc-b769ae0f28e2"
      },
      "outputs": [
        {
          "data": {
            "text/html": [
              "<div>\n",
              "<style scoped>\n",
              "    .dataframe tbody tr th:only-of-type {\n",
              "        vertical-align: middle;\n",
              "    }\n",
              "\n",
              "    .dataframe tbody tr th {\n",
              "        vertical-align: top;\n",
              "    }\n",
              "\n",
              "    .dataframe thead th {\n",
              "        text-align: right;\n",
              "    }\n",
              "</style>\n",
              "<table border=\"1\" class=\"dataframe\">\n",
              "  <thead>\n",
              "    <tr style=\"text-align: right;\">\n",
              "      <th></th>\n",
              "      <th>word</th>\n",
              "      <th>frequency</th>\n",
              "    </tr>\n",
              "  </thead>\n",
              "  <tbody>\n",
              "    <tr>\n",
              "      <th>73</th>\n",
              "      <td>use</td>\n",
              "      <td>491</td>\n",
              "    </tr>\n",
              "    <tr>\n",
              "      <th>160</th>\n",
              "      <td>great</td>\n",
              "      <td>350</td>\n",
              "    </tr>\n",
              "    <tr>\n",
              "      <th>20</th>\n",
              "      <td>get</td>\n",
              "      <td>344</td>\n",
              "    </tr>\n",
              "    <tr>\n",
              "      <th>68</th>\n",
              "      <td>good</td>\n",
              "      <td>322</td>\n",
              "    </tr>\n",
              "    <tr>\n",
              "      <th>139</th>\n",
              "      <td>one</td>\n",
              "      <td>312</td>\n",
              "    </tr>\n",
              "    <tr>\n",
              "      <th>177</th>\n",
              "      <td>like</td>\n",
              "      <td>297</td>\n",
              "    </tr>\n",
              "    <tr>\n",
              "      <th>349</th>\n",
              "      <td>work</td>\n",
              "      <td>271</td>\n",
              "    </tr>\n",
              "    <tr>\n",
              "      <th>34</th>\n",
              "      <td>well</td>\n",
              "      <td>268</td>\n",
              "    </tr>\n",
              "    <tr>\n",
              "      <th>153</th>\n",
              "      <td>would</td>\n",
              "      <td>267</td>\n",
              "    </tr>\n",
              "    <tr>\n",
              "      <th>123</th>\n",
              "      <td>make</td>\n",
              "      <td>260</td>\n",
              "    </tr>\n",
              "  </tbody>\n",
              "</table>\n",
              "</div>"
            ],
            "text/plain": [
              "      word  frequency\n",
              "73     use        491\n",
              "160  great        350\n",
              "20     get        344\n",
              "68    good        322\n",
              "139    one        312\n",
              "177   like        297\n",
              "349   work        271\n",
              "34    well        268\n",
              "153  would        267\n",
              "123   make        260"
            ]
          },
          "execution_count": 374,
          "metadata": {},
          "output_type": "execute_result"
        }
      ],
      "source": [
        "vocab = pd.DataFrame(tokenizer.word_counts.items(), columns=['word', 'frequency'])\n",
        "vocab.sort_values('frequency', ascending=False).head(10)"
      ]
    },
    {
      "cell_type": "code",
      "execution_count": null,
      "id": "e4e55420",
      "metadata": {
        "id": "e4e55420",
        "outputId": "0f29b28e-43b5-49ed-de7f-178dbc0baec0"
      },
      "outputs": [
        {
          "data": {
            "image/png": "[encoded data removed]",
            "text/plain": [
              "<Figure size 432x288 with 1 Axes>"
            ]
          },
          "metadata": {
            "needs_background": "light"
          },
          "output_type": "display_data"
        }
      ],
      "source": [
        "filtered_vocab = vocab[vocab['frequency'] > 1]\n",
        "plt.hist(filtered_vocab['frequency'], bins=20)\n",
        "plt.show()"
      ]
    },
    {
      "cell_type": "code",
      "execution_count": null,
      "id": "adc28326",
      "metadata": {
        "id": "adc28326",
        "outputId": "5ef09540-c75b-43a3-b3e5-bf45d10897d0"
      },
      "outputs": [
        {
          "name": "stdout",
          "output_type": "stream",
          "text": [
            "Max words in vocabulary: 5584\n",
            "Max sequence length: 375\n",
            "\n",
            "\n",
            "Words allowed in vocabulary: 4000\n",
            "Allowed sequence length: 512\n",
            "\n",
            "\n",
            "Example processed review:\n",
            "works pissa\n",
            "\n",
            "\n",
            "Example tokenized review:\n",
            "[  73  163 1172  421  172   36  104  163   74  485 2046 2941 2942   33\n",
            " 1173    0    0    0    0    0    0    0    0    0    0    0    0    0\n",
            "    0    0    0    0    0    0    0    0    0    0    0    0    0    0\n",
            "    0    0    0    0    0    0    0    0    0    0    0    0    0    0\n",
            "    0    0    0    0    0    0    0    0    0    0    0    0    0    0\n",
            "    0    0    0    0    0    0    0    0    0    0    0    0    0    0\n",
            "    0    0    0    0    0    0    0    0    0    0    0    0    0    0\n",
            "    0    0    0    0    0    0    0    0    0    0    0    0    0    0\n",
            "    0    0    0    0    0    0    0    0    0    0    0    0    0    0\n",
            "    0    0    0    0    0    0    0    0    0    0    0    0    0    0\n",
            "    0    0    0    0    0    0    0    0    0    0    0    0    0    0\n",
            "    0    0    0    0    0    0    0    0    0    0    0    0    0    0\n",
            "    0    0    0    0    0    0    0    0    0    0    0    0    0    0\n",
            "    0    0    0    0    0    0    0    0    0    0    0    0    0    0\n",
            "    0    0    0    0    0    0    0    0    0    0    0    0    0    0\n",
            "    0    0    0    0    0    0    0    0    0    0    0    0    0    0\n",
            "    0    0    0    0    0    0    0    0    0    0    0    0    0    0\n",
            "    0    0    0    0    0    0    0    0    0    0    0    0    0    0\n",
            "    0    0    0    0    0    0    0    0    0    0    0    0    0    0\n",
            "    0    0    0    0    0    0    0    0    0    0    0    0    0    0\n",
            "    0    0    0    0    0    0    0    0    0    0    0    0    0    0\n",
            "    0    0    0    0    0    0    0    0    0    0    0    0    0    0\n",
            "    0    0    0    0    0    0    0    0    0    0    0    0    0    0\n",
            "    0    0    0    0    0    0    0    0    0    0    0    0    0    0\n",
            "    0    0    0    0    0    0    0    0    0    0    0    0    0    0\n",
            "    0    0    0    0    0    0    0    0    0    0    0    0    0    0\n",
            "    0    0    0    0    0    0    0    0    0    0    0    0    0    0\n",
            "    0    0    0    0    0    0    0    0    0    0    0    0    0    0\n",
            "    0    0    0    0    0    0    0    0    0    0    0    0    0    0\n",
            "    0    0    0    0    0    0    0    0    0    0    0    0    0    0\n",
            "    0    0    0    0    0    0    0    0    0    0    0    0    0    0\n",
            "    0    0    0    0    0    0    0    0    0    0    0    0    0    0\n",
            "    0    0    0    0    0    0    0    0    0    0    0    0    0    0\n",
            "    0    0    0    0    0    0    0    0    0    0    0    0    0    0\n",
            "    0    0    0    0    0    0    0    0    0    0    0    0    0    0\n",
            "    0    0    0    0    0    0    0    0    0    0    0    0    0    0\n",
            "    0    0    0    0    0    0    0    0]\n"
          ]
        }
      ],
      "source": [
        "print('Max words in vocabulary: {}'.format(max_words))\n",
        "print('Max sequence length: {}'.format(max_len))\n",
        "print('\\n')\n",
        "\n",
        "print('Words allowed in vocabulary: {}'.format(num_words))\n",
        "print('Allowed sequence length: {}'.format(num_len))\n",
        "print('\\n')\n",
        "\n",
        "print('Example processed review:')\n",
        "print(review_samples['review_processed'].iloc[0])\n",
        "print('\\n')\n",
        "\n",
        "print('Example tokenized review:')\n",
        "print(review_tokens[0])"
      ]
    },
    {
      "cell_type": "code",
      "execution_count": null,
      "id": "d242d304",
      "metadata": {
        "id": "d242d304",
        "outputId": "f29a9f08-2b7f-4587-81d6-49b4d5ea91f6"
      },
      "outputs": [
        {
          "data": {
            "image/png": "[encoded data removed]",
            "text/plain": [
              "<Figure size 432x288 with 1 Axes>"
            ]
          },
          "metadata": {
            "needs_background": "light"
          },
          "output_type": "display_data"
        }
      ],
      "source": [
        "seq_len = [len(x) for x in sequences]\n",
        "d = {'sequence': sequences, 'length': seq_len}\n",
        "seqs = pd.DataFrame(data = d)\n",
        "\n",
        "plt.hist(seqs['length'])\n",
        "plt.show()"
      ]
    },
    {
      "cell_type": "code",
      "execution_count": null,
      "id": "47776255",
      "metadata": {
        "id": "47776255",
        "outputId": "82573803-801e-4e30-85cc-c8cba145472e"
      },
      "outputs": [
        {
          "data": {
            "text/html": [
              "<div>\n",
              "<style scoped>\n",
              "    .dataframe tbody tr th:only-of-type {\n",
              "        vertical-align: middle;\n",
              "    }\n",
              "\n",
              "    .dataframe tbody tr th {\n",
              "        vertical-align: top;\n",
              "    }\n",
              "\n",
              "    .dataframe thead th {\n",
              "        text-align: right;\n",
              "    }\n",
              "</style>\n",
              "<table border=\"1\" class=\"dataframe\">\n",
              "  <thead>\n",
              "    <tr style=\"text-align: right;\">\n",
              "      <th></th>\n",
              "      <th>sequence</th>\n",
              "      <th>length</th>\n",
              "    </tr>\n",
              "  </thead>\n",
              "  <tbody>\n",
              "  </tbody>\n",
              "</table>\n",
              "</div>"
            ],
            "text/plain": [
              "Empty DataFrame\n",
              "Columns: [sequence, length]\n",
              "Index: []"
            ]
          },
          "execution_count": 378,
          "metadata": {},
          "output_type": "execute_result"
        }
      ],
      "source": [
        "seqs[seqs['length'] > 512]"
      ]
    },
    {
      "cell_type": "markdown",
      "id": "a4c918c2",
      "metadata": {
        "id": "a4c918c2"
      },
      "source": [
        "### X.X CNN - Sports"
      ]
    },
    {
      "cell_type": "code",
      "execution_count": null,
      "id": "4d8af39c",
      "metadata": {
        "id": "4d8af39c"
      },
      "outputs": [],
      "source": [
        "# Set model hyperparamters\n",
        "output_dim = 256\n",
        "epochs = 10\n",
        "batch_size = 512\n",
        "dropout_rate = 0.0\n",
        "num_classes = len(np.unique(labels, axis=0))\n",
        "opt = tf.keras.optimizers.Adam(learning_rate=0.001,\n",
        "                               epsilon=0.00000001,\n",
        "                               clipnorm=1.0\n",
        "                              )\n",
        "loss_func = 'binary_crossentropy'\n",
        "metrics = ['accuracy']"
      ]
    },
    {
      "cell_type": "code",
      "execution_count": null,
      "id": "48500cda",
      "metadata": {
        "id": "48500cda"
      },
      "outputs": [],
      "source": [
        "# # Split data into train, dev, and test sets\n",
        "X_train, X_test, y_train, y_test = train_test_split(review_tokens, labels, test_size=0.2, random_state=0)\n",
        "X_train, X_dev, y_train, y_dev = train_test_split(X_train, y_train, test_size=0.25, random_state=0)\n",
        "\n",
        "# Use SMOTE to balance the training set\n",
        "sm = SMOTE(random_state=0)\n",
        "X_train, y_train = sm.fit_resample(X_train, y_train)"
      ]
    },
    {
      "cell_type": "code",
      "execution_count": null,
      "id": "30d5934b",
      "metadata": {
        "colab": {
          "base_uri": "https://localhost:8080/"
        },
        "id": "30d5934b",
        "outputId": "e8c64acb-ef2d-4f96-e4ac-e2a21c6ab30d"
      },
      "outputs": [
        {
          "data": {
            "text/plain": [
              "(273,)"
            ]
          },
          "execution_count": 381,
          "metadata": {},
          "output_type": "execute_result"
        }
      ],
      "source": [
        "y_test.shape"
      ]
    },
    {
      "cell_type": "code",
      "execution_count": null,
      "id": "83bf2ed9",
      "metadata": {
        "colab": {
          "base_uri": "https://localhost:8080/"
        },
        "id": "83bf2ed9",
        "outputId": "8505dbed-6651-479b-f67d-90e562c62e5a"
      },
      "outputs": [
        {
          "name": "stdout",
          "output_type": "stream",
          "text": [
            "Model: \"sequential_24\"\n",
            "_________________________________________________________________\n",
            " Layer (type)                Output Shape              Param #   \n",
            "=================================================================\n",
            " embedding_24 (Embedding)    (None, 512, 256)          1024000   \n",
            "                                                                 \n",
            " conv1d_21 (Conv1D)          (None, 512, 16)           12304     \n",
            "                                                                 \n",
            " flatten_20 (Flatten)        (None, 8192)              0         \n",
            "                                                                 \n",
            " dense_45 (Dense)            (None, 256)               2097408   \n",
            "                                                                 \n",
            " dense_46 (Dense)            (None, 1)                 257       \n",
            "                                                                 \n",
            "=================================================================\n",
            "Total params: 3,133,969\n",
            "Trainable params: 3,133,969\n",
            "Non-trainable params: 0\n",
            "_________________________________________________________________\n"
          ]
        }
      ],
      "source": [
        "# Build model\n",
        "cnn_model = Sequential()\n",
        "cnn_model.add(Embedding(input_dim=num_words, output_dim=output_dim, input_length=num_len))\n",
        "cnn_model.add(Conv1D(16, 3, padding='same', activation='relu'))\n",
        "# cnn_model.add(MaxPooling1D())\n",
        "cnn_model.add(Flatten())\n",
        "cnn_model.add(Dense(256, activation='relu'))\n",
        "cnn_model.add(Dense(1, activation='sigmoid'))\n",
        "cnn_model.compile(optimizer=opt, loss=loss_func, metrics=metrics)\n",
        "cnn_model.summary()\n"
      ]
    },
    {
      "cell_type": "code",
      "execution_count": null,
      "id": "da262b84",
      "metadata": {
        "colab": {
          "base_uri": "https://localhost:8080/"
        },
        "id": "da262b84",
        "outputId": "319918ec-8dee-4caf-c87d-730e1ada5b47"
      },
      "outputs": [
        {
          "name": "stdout",
          "output_type": "stream",
          "text": [
            "Epoch 1/10\n",
            "2/2 - 3s - loss: 0.7108 - accuracy: 0.4896 - val_loss: 0.6570 - val_accuracy: 0.6374 - 3s/epoch - 1s/step\n",
            "Epoch 2/10\n",
            "2/2 - 1s - loss: 0.7002 - accuracy: 0.5000 - val_loss: 0.6746 - val_accuracy: 0.6374 - 1s/epoch - 670ms/step\n",
            "Epoch 3/10\n",
            "2/2 - 1s - loss: 0.6837 - accuracy: 0.5021 - val_loss: 0.6767 - val_accuracy: 0.6740 - 1s/epoch - 671ms/step\n",
            "Epoch 4/10\n",
            "2/2 - 1s - loss: 0.6719 - accuracy: 0.6325 - val_loss: 0.6690 - val_accuracy: 0.6850 - 1s/epoch - 658ms/step\n",
            "Epoch 5/10\n",
            "2/2 - 1s - loss: 0.6552 - accuracy: 0.6429 - val_loss: 0.6627 - val_accuracy: 0.6813 - 1s/epoch - 670ms/step\n",
            "Epoch 6/10\n",
            "2/2 - 1s - loss: 0.6316 - accuracy: 0.6760 - val_loss: 0.6608 - val_accuracy: 0.6886 - 1s/epoch - 667ms/step\n",
            "Epoch 7/10\n",
            "2/2 - 1s - loss: 0.6002 - accuracy: 0.7505 - val_loss: 0.6605 - val_accuracy: 0.6923 - 1s/epoch - 674ms/step\n",
            "Epoch 8/10\n",
            "2/2 - 1s - loss: 0.5633 - accuracy: 0.8416 - val_loss: 0.6604 - val_accuracy: 0.6996 - 1s/epoch - 660ms/step\n",
            "Epoch 9/10\n",
            "2/2 - 1s - loss: 0.5199 - accuracy: 0.8861 - val_loss: 0.6598 - val_accuracy: 0.6886 - 1s/epoch - 701ms/step\n",
            "Epoch 10/10\n",
            "2/2 - 1s - loss: 0.4697 - accuracy: 0.9151 - val_loss: 0.6611 - val_accuracy: 0.6777 - 1s/epoch - 676ms/step\n"
          ]
        },
        {
          "data": {
            "text/plain": [
              "<keras.callbacks.History at 0x7f9ec41c9670>"
            ]
          },
          "execution_count": 383,
          "metadata": {},
          "output_type": "execute_result"
        }
      ],
      "source": [
        "# Fit model\n",
        "cnn_model.fit(X_train,\n",
        "              y_train,\n",
        "              validation_data=(X_dev, y_dev),\n",
        "              epochs=epochs,\n",
        "              batch_size=batch_size,\n",
        "              verbose=2\n",
        "             )"
      ]
    },
    {
      "cell_type": "code",
      "execution_count": null,
      "id": "31c58b34",
      "metadata": {
        "colab": {
          "base_uri": "https://localhost:8080/",
          "height": 295
        },
        "id": "31c58b34",
        "outputId": "015b19ff-cf70-430c-90ec-5b3222d32539"
      },
      "outputs": [
        {
          "data": {
            "image/png": "[encoded data removed]",
            "text/plain": [
              "<Figure size 432x288 with 2 Axes>"
            ]
          },
          "metadata": {
            "needs_background": "light"
          },
          "output_type": "display_data"
        }
      ],
      "source": [
        "# Plot confusion matrix on training data\n",
        "y_true = y_train\n",
        "y_pred = (cnn_model.predict(X_train) >= 0.5).astype(\"int32\")\n",
        "\n",
        "ConfusionMatrixDisplay.from_predictions(y_true,\n",
        "                                        y_pred,\n",
        "                                        normalize='all',\n",
        "                                        display_labels=sentiment\n",
        "                                       )\n",
        "\n",
        "plt.title(\"Confusion Matrix of Review Usefulness\")\n",
        "plt.show()"
      ]
    },
    {
      "cell_type": "code",
      "execution_count": null,
      "id": "20fe0e1e",
      "metadata": {
        "colab": {
          "base_uri": "https://localhost:8080/",
          "height": 295
        },
        "id": "20fe0e1e",
        "outputId": "015b19ff-cf70-430c-90ec-5b3222d32539"
      },
      "outputs": [
        {
          "data": {
            "image/png": "[encoded data removed]",
            "text/plain": [
              "<Figure size 432x288 with 2 Axes>"
            ]
          },
          "metadata": {
            "needs_background": "light"
          },
          "output_type": "display_data"
        }
      ],
      "source": [
        "# Plot confusion matrix\n",
        "y_true = y_test\n",
        "y_pred = (cnn_model.predict(X_test) >= 0.5).astype(\"int32\")\n",
        "\n",
        "ConfusionMatrixDisplay.from_predictions(y_true,\n",
        "                                        y_pred,\n",
        "                                        normalize='all',\n",
        "                                        display_labels=sentiment\n",
        "                                       )\n",
        "\n",
        "plt.title(\"Confusion Matrix of Review Usefulness\")\n",
        "plt.show()"
      ]
    },
    {
      "cell_type": "code",
      "execution_count": null,
      "id": "1be92b70",
      "metadata": {
        "colab": {
          "base_uri": "https://localhost:8080/"
        },
        "id": "1be92b70",
        "outputId": "eb683707-0c07-4232-9f88-014aba6a469a"
      },
      "outputs": [
        {
          "name": "stdout",
          "output_type": "stream",
          "text": [
            "              precision    recall  f1-score   support\n",
            "\n",
            "           0       0.51      0.31      0.38       114\n",
            "           1       0.61      0.79      0.69       159\n",
            "\n",
            "    accuracy                           0.59       273\n",
            "   macro avg       0.56      0.55      0.54       273\n",
            "weighted avg       0.57      0.59      0.56       273\n",
            "\n"
          ]
        }
      ],
      "source": [
        "print(classification_report(y_true, y_pred))"
      ]
    },
    {
      "cell_type": "code",
      "execution_count": null,
      "id": "5e56d9b9",
      "metadata": {
        "colab": {
          "base_uri": "https://localhost:8080/"
        },
        "id": "5e56d9b9",
        "outputId": "1d91a98c-1cba-464a-be81-a4268c9e792c"
      },
      "outputs": [
        {
          "name": "stdout",
          "output_type": "stream",
          "text": [
            "9/9 [==============================] - 0s 11ms/step - loss: 0.7124 - accuracy: 0.5861\n",
            "Model performance metrics on test data\n",
            "Accuracy: 0.5861\n",
            "Loss: 0.7124\n",
            "Precision: 0.5687\n",
            "Recall: 0.5861\n",
            "F1-score: 0.5608\n"
          ]
        }
      ],
      "source": [
        "# Evaluate model\n",
        "loss, acc = cnn_model.evaluate(X_test, y_test, verbose=1)\n",
        "precision, recall, f1, support = precision_recall_fscore_support(y_true, y_pred, average='weighted')\n",
        "print(\"Model performance metrics on test data\")\n",
        "print(\"Accuracy: {:.4f}\\nLoss: {:.4f}\\nPrecision: {:.4f}\\nRecall: {:.4f}\\nF1-score: {:.4f}\".format(acc, loss, precision, recall, f1))"
      ]
    },
    {
      "cell_type": "code",
      "execution_count": null,
      "id": "379bd05c",
      "metadata": {
        "id": "379bd05c"
      },
      "outputs": [],
      "source": [
        "def test_examples(model, examples, num_len=512):\n",
        "    for idx, example in enumerate(examples):\n",
        "        sequence = tokenizer.texts_to_sequences([example])\n",
        "        test = pad_sequences(sequence, maxlen=num_len)\n",
        "        prediction = sentiment[np.around(model.predict(test), decimals=0).argmax(axis=1)[0]]\n",
        "        print(idx, \":\", prediction)"
      ]
    },
    {
      "cell_type": "code",
      "execution_count": null,
      "id": "43dbb0f8",
      "metadata": {
        "colab": {
          "base_uri": "https://localhost:8080/"
        },
        "id": "43dbb0f8",
        "outputId": "efc46f4e-2752-47e8-db31-171fa16f244a"
      },
      "outputs": [
        {
          "name": "stdout",
          "output_type": "stream",
          "text": [
            "0 : Not Useful\n",
            "1 : Not Useful\n",
            "2 : Not Useful\n",
            "3 : Not Useful\n",
            "4 : Not Useful\n"
          ]
        }
      ],
      "source": [
        "test_examples(cnn_model, examples)"
      ]
    },
    {
      "cell_type": "markdown",
      "id": "f308b99f",
      "metadata": {
        "id": "f308b99f"
      },
      "source": [
        "### X.X BERT - Sports"
      ]
    },
    {
      "cell_type": "code",
      "execution_count": 50,
      "id": "49e017bc",
      "metadata": {
        "id": "49e017bc"
      },
      "outputs": [],
      "source": [
        "reviews = sports['review_text'].fillna('no review')\n",
        "\n",
        "X, y = reviews, labels\n",
        "X_train, X_test, y_train, y_test = train_test_split(X, y, test_size=0.2, random_state=0)\n",
        "X_train, X_dev, y_train, y_dev = train_test_split(X_train, y_train, test_size=0.25, random_state=0)"
      ]
    },
    {
      "cell_type": "code",
      "execution_count": 51,
      "id": "847cf5d1",
      "metadata": {
        "colab": {
          "base_uri": "https://localhost:8080/"
        },
        "id": "847cf5d1",
        "outputId": "751101d4-6f8f-429b-ea0e-02e7c21a8b8d"
      },
      "outputs": [
        {
          "output_type": "stream",
          "name": "stdout",
          "text": [
            "tf.Tensor([[0.5245193]], shape=(1, 1), dtype=float32)\n"
          ]
        }
      ],
      "source": [
        "text_test = ['this is such an amazing movie!']\n",
        "classifier_model = build_classifier_model()\n",
        "bert_raw_result = classifier_model(tf.constant(text_test))\n",
        "print(tf.sigmoid(bert_raw_result))"
      ]
    },
    {
      "cell_type": "code",
      "execution_count": 52,
      "id": "0e181565",
      "metadata": {
        "id": "0e181565"
      },
      "outputs": [],
      "source": [
        "epochs = 10\n",
        "steps_per_epoch = len(X_train)\n",
        "num_train_steps = steps_per_epoch * epochs\n",
        "num_warmup_steps = int(0.1*num_train_steps)\n",
        "\n",
        "init_lr = 3e-5\n",
        "optimizer = optimization.create_optimizer(init_lr=init_lr,\n",
        "                                          num_train_steps=num_train_steps,\n",
        "                                          num_warmup_steps=num_warmup_steps,\n",
        "                                          optimizer_type='adamw')"
      ]
    },
    {
      "cell_type": "code",
      "execution_count": 53,
      "id": "c858bac3",
      "metadata": {
        "id": "c858bac3"
      },
      "outputs": [],
      "source": [
        "classifier_model.compile(optimizer=optimizer,\n",
        "                         loss=loss_func,\n",
        "                         metrics=metrics)"
      ]
    },
    {
      "cell_type": "code",
      "execution_count": 54,
      "id": "c69186f5",
      "metadata": {
        "colab": {
          "base_uri": "https://localhost:8080/"
        },
        "id": "c69186f5",
        "outputId": "404b0526-c181-4ea7-8bb2-e13f8028f9fe"
      },
      "outputs": [
        {
          "output_type": "stream",
          "name": "stdout",
          "text": [
            "Training model with https://tfhub.dev/tensorflow/small_bert/bert_en_uncased_L-4_H-512_A-8/1\n",
            "Epoch 1/10\n",
            "26/26 [==============================] - 14s 251ms/step - loss: 0.8119 - binary_accuracy: 0.4878 - val_loss: 0.7553 - val_binary_accuracy: 0.3700\n",
            "Epoch 2/10\n",
            "26/26 [==============================] - 6s 225ms/step - loss: 0.7200 - binary_accuracy: 0.4534 - val_loss: 0.6647 - val_binary_accuracy: 0.5348\n",
            "Epoch 3/10\n",
            "26/26 [==============================] - 6s 228ms/step - loss: 0.6973 - binary_accuracy: 0.5331 - val_loss: 0.6446 - val_binary_accuracy: 0.5861\n",
            "Epoch 4/10\n",
            "26/26 [==============================] - 6s 228ms/step - loss: 0.6684 - binary_accuracy: 0.5674 - val_loss: 0.6370 - val_binary_accuracy: 0.6007\n",
            "Epoch 5/10\n",
            "26/26 [==============================] - 6s 229ms/step - loss: 0.6539 - binary_accuracy: 0.5784 - val_loss: 0.6297 - val_binary_accuracy: 0.6117\n",
            "Epoch 6/10\n",
            "26/26 [==============================] - 6s 226ms/step - loss: 0.6351 - binary_accuracy: 0.5735 - val_loss: 0.6294 - val_binary_accuracy: 0.6117\n",
            "Epoch 7/10\n",
            "26/26 [==============================] - 6s 229ms/step - loss: 0.6252 - binary_accuracy: 0.5944 - val_loss: 0.6323 - val_binary_accuracy: 0.6190\n",
            "Epoch 8/10\n",
            "26/26 [==============================] - 6s 228ms/step - loss: 0.6044 - binary_accuracy: 0.6471 - val_loss: 0.6432 - val_binary_accuracy: 0.6190\n",
            "Epoch 9/10\n",
            "26/26 [==============================] - 6s 229ms/step - loss: 0.5779 - binary_accuracy: 0.6630 - val_loss: 0.6496 - val_binary_accuracy: 0.6190\n",
            "Epoch 10/10\n",
            "26/26 [==============================] - 6s 225ms/step - loss: 0.5527 - binary_accuracy: 0.7145 - val_loss: 0.6624 - val_binary_accuracy: 0.6190\n"
          ]
        }
      ],
      "source": [
        "print(f'Training model with {tfhub_handle_encoder}')\n",
        "history = classifier_model.fit(x=X_train,\n",
        "                               y=y_train,\n",
        "                               validation_data=(X_dev, y_dev),\n",
        "                               epochs=epochs)"
      ]
    },
    {
      "cell_type": "code",
      "execution_count": 55,
      "id": "126e3c68",
      "metadata": {
        "colab": {
          "base_uri": "https://localhost:8080/",
          "height": 295
        },
        "id": "126e3c68",
        "outputId": "2c00f0f0-0ec8-49bf-87b2-eca64c254c63"
      },
      "outputs": [
        {
          "output_type": "display_data",
          "data": {
            "text/plain": [
              "<Figure size 432x288 with 2 Axes>"
            ],
            "image/png": "[encoded data removed]"
          },
          "metadata": {
            "needs_background": "light"
          }
        }
      ],
      "source": [
        "# Plot confusion matrix\n",
        "y_true = y_test\n",
        "y_pred = (classifier_model.predict(X_test) >= 0.5).astype(\"int32\")\n",
        "\n",
        "ConfusionMatrixDisplay.from_predictions(y_true,\n",
        "                                        y_pred,\n",
        "                                        normalize='all',\n",
        "                                        display_labels=sentiment\n",
        "                                       )\n",
        "\n",
        "plt.title(\"Confusion Matrix of Review Usefulness\")\n",
        "plt.show()"
      ]
    },
    {
      "cell_type": "code",
      "execution_count": 56,
      "id": "de82b00e",
      "metadata": {
        "colab": {
          "base_uri": "https://localhost:8080/"
        },
        "id": "de82b00e",
        "outputId": "41495da5-70b8-490d-be3d-3808b4b71978"
      },
      "outputs": [
        {
          "output_type": "stream",
          "name": "stdout",
          "text": [
            "9/9 [==============================] - 2s 215ms/step - loss: 0.7170 - binary_accuracy: 0.5897\n",
            "Model performance metrics on test data\n",
            "Accuracy: 0.5897\n",
            "Loss: 0.7170\n",
            "Precision: 0.5802\n",
            "Recall: 0.5897\n",
            "F1-score: 0.5811\n"
          ]
        }
      ],
      "source": [
        "# Evaluate model\n",
        "loss, acc = classifier_model.evaluate(X_test, y_test)\n",
        "precision, recall, f1, support = precision_recall_fscore_support(y_true, y_pred, average='weighted')\n",
        "print(\"Model performance metrics on test data\")\n",
        "print(\"Accuracy: {:.4f}\\nLoss: {:.4f}\\nPrecision: {:.4f}\\nRecall: {:.4f}\\nF1-score: {:.4f}\".format(acc, loss, precision, recall, f1))"
      ]
    },
    {
      "cell_type": "code",
      "source": [
        ""
      ],
      "metadata": {
        "id": "C35OY2VbTl4k"
      },
      "id": "C35OY2VbTl4k",
      "execution_count": null,
      "outputs": []
    }
  ],
  "metadata": {
    "accelerator": "GPU",
    "colab": {
      "name": "model-selection.ipynb",
      "provenance": []
    },
    "kernelspec": {
      "display_name": "Python 3 (ipykernel)",
      "language": "python",
      "name": "python3"
    },
    "language_info": {
      "codemirror_mode": {
        "name": "ipython",
        "version": 3
      },
      "file_extension": ".py",
      "mimetype": "text/x-python",
      "name": "python",
      "nbconvert_exporter": "python",
      "pygments_lexer": "ipython3",
      "version": "3.8.8"
    }
  },
  "nbformat": 4,
  "nbformat_minor": 5
}