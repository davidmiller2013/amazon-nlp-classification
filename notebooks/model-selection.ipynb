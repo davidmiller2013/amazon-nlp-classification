{
 "cells": [
  {
   "cell_type": "markdown",
   "id": "20bb2820",
   "metadata": {
    "id": "20bb2820"
   },
   "source": [
    "# Model selection and evaluation"
   ]
  },
  {
   "cell_type": "markdown",
   "id": "18ca5f9b",
   "metadata": {
    "id": "18ca5f9b"
   },
   "source": [
    "__Notes__\n",
    "\n",
    "1. Create set of rules for what reviews to accept or throw out\n",
    "    1. Min or max number of words\n",
    "    1. Include URLs or not\n",
    "    1. Emojis\n",
    "    1. Eliminate stop words\n",
    "    \n",
    "1. Model selection\n",
    "    1. CNN for usefulness\n",
    "    1. Sample from useful reviews only\n",
    "    1. Setup T5 transfering learning model to generate \"justification\" text\n",
    "\n",
    "- LSTM is good\n",
    "    - You can add in an attention layer because it can look backwards and learn what words were more important than others\n",
    "- CNN is good for sentence classification \n",
    "    - With a fully connected Dense layer it is not good at generalizing\n",
    "- BERT is good because of its self-attention mechanism where every word looks at every other layer\n",
    "    - Use the CLS token as the only thing you feed into the output layer that is going to make the prediction on the classification"
   ]
  },
  {
   "cell_type": "markdown",
   "id": "835c4870",
   "metadata": {
    "id": "835c4870"
   },
   "source": [
    "## 0.0 Notebook setup"
   ]
  },
  {
   "cell_type": "markdown",
   "id": "d6e531ea",
   "metadata": {
    "id": "d6e531ea"
   },
   "source": [
    "### X.X Colab Setup"
   ]
  },
  {
   "cell_type": "code",
   "execution_count": null,
   "id": "aX0IHvqPrB9h",
   "metadata": {
    "colab": {
     "base_uri": "https://localhost:8080/"
    },
    "id": "aX0IHvqPrB9h",
    "outputId": "7444dd75-b31b-4464-db29-9e221d5c07b4"
   },
   "outputs": [],
   "source": [
    "from google.colab import drive\n",
    "drive.mount('/content/gdrive/', force_remount=True)"
   ]
  },
  {
   "cell_type": "code",
   "execution_count": null,
   "id": "9vnzzqbdraH_",
   "metadata": {
    "id": "9vnzzqbdraH_"
   },
   "outputs": [],
   "source": [
    "! mkdir data"
   ]
  },
  {
   "cell_type": "code",
   "execution_count": null,
   "id": "0A4JchtFtgsT",
   "metadata": {
    "id": "0A4JchtFtgsT"
   },
   "outputs": [],
   "source": [
    "! cp \"/content/gdrive/My Drive/nlp-book-reviews/data/electronics.csv\" ./data/"
   ]
  },
  {
   "cell_type": "code",
   "execution_count": null,
   "id": "ncWfMYNDwGnj",
   "metadata": {
    "colab": {
     "base_uri": "https://localhost:8080/",
     "height": 35
    },
    "id": "ncWfMYNDwGnj",
    "outputId": "18923503-a3c2-4e4a-ee38-55df949b93cd"
   },
   "outputs": [],
   "source": [
    "import tensorflow as tf\n",
    "tf.test.gpu_device_name()"
   ]
  },
  {
   "cell_type": "code",
   "execution_count": null,
   "id": "VIpdJLpswGLc",
   "metadata": {
    "colab": {
     "base_uri": "https://localhost:8080/"
    },
    "id": "VIpdJLpswGLc",
    "outputId": "0eceac12-0bf8-4cf5-c282-a322d001fcde"
   },
   "outputs": [],
   "source": [
    "from tensorflow.python.client import device_lib\n",
    "device_lib.list_local_devices()"
   ]
  },
  {
   "cell_type": "code",
   "execution_count": null,
   "id": "IcYfIaElNZwb",
   "metadata": {
    "colab": {
     "base_uri": "https://localhost:8080/"
    },
    "id": "IcYfIaElNZwb",
    "outputId": "a1c4f3b9-0151-41fc-cc29-7e294bd11a01"
   },
   "outputs": [],
   "source": [
    "!pip install --quiet transformers"
   ]
  },
  {
   "cell_type": "markdown",
   "id": "7631b809",
   "metadata": {
    "id": "7631b809"
   },
   "source": [
    "### X.X Local setup"
   ]
  },
  {
   "cell_type": "code",
   "execution_count": 1,
   "id": "3f0320af",
   "metadata": {
    "id": "3f0320af"
   },
   "outputs": [],
   "source": [
    "import warnings\n",
    "\n",
    "warnings.simplefilter(\"ignore\", UserWarning)\n",
    "warnings.simplefilter(\"ignore\", FutureWarning)\n",
    "warnings.simplefilter(\"ignore\", DeprecationWarning)"
   ]
  },
  {
   "cell_type": "code",
   "execution_count": 74,
   "id": "3abac3ad",
   "metadata": {
    "id": "3abac3ad"
   },
   "outputs": [],
   "source": [
    "# Statistics\n",
    "import numpy as np\n",
    "import pandas as pd\n",
    "from scipy.stats import chi2_contingency, norm, skew, kurtosis\n",
    "\n",
    "# Visualization\n",
    "%matplotlib inline\n",
    "import matplotlib.pyplot as plt\n",
    "import seaborn as sns\n",
    "\n",
    "# Model selection and evaluation\n",
    "from sklearn.model_selection import train_test_split\n",
    "from sklearn.metrics import confusion_matrix, ConfusionMatrixDisplay\n",
    "from sklearn.metrics import classification_report, precision_recall_fscore_support, roc_curve, auc, accuracy_score\n",
    "\n",
    "# Model building\n",
    "from sklearn.naive_bayes import MultinomialNB\n",
    "from sklearn.feature_extraction.text import TfidfVectorizer\n",
    "\n",
    "import tensorflow as tf\n",
    "import keras\n",
    "from keras.preprocessing.text import Tokenizer\n",
    "from keras.preprocessing.sequence import pad_sequences\n",
    "from keras.models import Sequential\n",
    "from keras.layers import Embedding, Bidirectional, Dense, Flatten, LSTM, Dropout\n",
    "from keras.layers.convolutional import Conv1D\n",
    "from keras.layers.convolutional import MaxPooling1D\n",
    "\n",
    "# BERT-specific\n",
    "from transformers import BertTokenizer, TFBertForSequenceClassification\n",
    "from transformers import InputExample, InputFeatures"
   ]
  },
  {
   "cell_type": "code",
   "execution_count": 240,
   "id": "768f4b5c",
   "metadata": {
    "id": "768f4b5c"
   },
   "outputs": [],
   "source": [
    "# Local\n",
    "data = '../data/electronics.csv'\n",
    "\n",
    "# Colab\n",
    "# data = './data/electronics.csv'\n",
    "\n",
    "review_samples = pd.read_csv(data)"
   ]
  },
  {
   "cell_type": "code",
   "execution_count": 241,
   "id": "b2e1ec74",
   "metadata": {
    "colab": {
     "base_uri": "https://localhost:8080/"
    },
    "id": "8FObWP5p2qGn",
    "outputId": "5c4e1b5f-a4d6-4660-b23c-9221fae51229"
   },
   "outputs": [
    {
     "data": {
      "text/plain": [
       "1    732\n",
       "0    506\n",
       "Name: useful, dtype: int64"
      ]
     },
     "execution_count": 241,
     "metadata": {},
     "output_type": "execute_result"
    }
   ],
   "source": [
    "# Create sentiment axis label for plots\n",
    "sentiment = ['Not Useful', 'Useful']\n",
    "\n",
    "# Check split of useful / not useful\n",
    "review_samples['useful'].value_counts()"
   ]
  },
  {
   "cell_type": "markdown",
   "id": "72ffdf0f",
   "metadata": {
    "id": "72ffdf0f"
   },
   "source": [
    "## X.X Usefulness language modeling"
   ]
  },
  {
   "cell_type": "markdown",
   "id": "1cc10c6c",
   "metadata": {
    "id": "1cc10c6c"
   },
   "source": [
    "### X.X Baseline - Naive Bayes"
   ]
  },
  {
   "cell_type": "code",
   "execution_count": 242,
   "id": "04eef1b8",
   "metadata": {
    "id": "40kfYLJRty7a"
   },
   "outputs": [],
   "source": [
    "reviews = review_samples['review_processed'].fillna('no review')\n",
    "labels = review_samples['useful'].astype(int)"
   ]
  },
  {
   "cell_type": "code",
   "execution_count": 243,
   "id": "e6197a23",
   "metadata": {
    "id": "e6197a23"
   },
   "outputs": [],
   "source": [
    "X_train, X_test, y_train, y_test = train_test_split(reviews, labels, test_size=0.2, random_state=0)\n",
    "X_train, X_dev, y_train, y_dev = train_test_split(X_train, y_train, test_size=0.25, random_state=0)\n",
    "\n",
    "tf_idf = TfidfVectorizer(ngram_range=(1, 3),\n",
    "                         binary=True,\n",
    "                         smooth_idf=False)\n",
    "\n",
    "X_train_tfidf = tf_idf.fit_transform(X_train)\n",
    "X_dev_tfidf = tf_idf.transform(X_dev)\n",
    "X_test_tfidf = tf_idf.transform(X_test)"
   ]
  },
  {
   "cell_type": "code",
   "execution_count": 244,
   "id": "360bf0a0",
   "metadata": {
    "colab": {
     "base_uri": "https://localhost:8080/"
    },
    "id": "360bf0a0",
    "outputId": "813f8eda-e69f-4450-d13b-8b343480688d"
   },
   "outputs": [
    {
     "data": {
      "text/plain": [
       "MultinomialNB(alpha=1.8)"
      ]
     },
     "execution_count": 244,
     "metadata": {},
     "output_type": "execute_result"
    }
   ],
   "source": [
    "# Build model\n",
    "nb_model = MultinomialNB(alpha=1.8)\n",
    "\n",
    "# Fit model\n",
    "nb_model.fit(X_train_tfidf, y_train)"
   ]
  },
  {
   "cell_type": "code",
   "execution_count": 245,
   "id": "3fe5c18b",
   "metadata": {
    "colab": {
     "base_uri": "https://localhost:8080/"
    },
    "id": "3fe5c18b",
    "outputId": "b6cff4dc-9a24-47b8-c4a4-f76016159a3b"
   },
   "outputs": [
    {
     "name": "stdout",
     "output_type": "stream",
     "text": [
      "0.862533692722372 0.5725806451612904 0.6048387096774194\n"
     ]
    }
   ],
   "source": [
    "# Evaluate model on dev data\n",
    "train_acc = nb_model.score(X_train_tfidf, y_train)\n",
    "dev_acc = nb_model.score(X_dev_tfidf, y_dev)\n",
    "test_acc = nb_model.score(X_test_tfidf, y_test)\n",
    "\n",
    "print(train_acc, dev_acc, test_acc)"
   ]
  },
  {
   "cell_type": "code",
   "execution_count": 246,
   "id": "7add20ab",
   "metadata": {
    "colab": {
     "base_uri": "https://localhost:8080/",
     "height": 295
    },
    "id": "7add20ab",
    "outputId": "e78c477e-7f82-4261-bc3a-fa5994a0153d"
   },
   "outputs": [
    {
     "data": {
      "image/png": "[encoded data removed]",
      "text/plain": [
       "<Figure size 432x288 with 2 Axes>"
      ]
     },
     "metadata": {
      "needs_background": "light"
     },
     "output_type": "display_data"
    }
   ],
   "source": [
    "# Evaluate model on test data and plot confusion matrix\n",
    "y_true = y_train\n",
    "y_pred = nb_model.predict(X_train_tfidf)\n",
    "\n",
    "ConfusionMatrixDisplay.from_predictions(y_true,\n",
    "                                        y_pred,\n",
    "                                        normalize='all',\n",
    "                                        display_labels=sentiment\n",
    "                                       )\n",
    "\n",
    "plt.title(\"Confusion Matrix of Review Usefulness\")\n",
    "plt.show()"
   ]
  },
  {
   "cell_type": "code",
   "execution_count": 247,
   "id": "f3f708ff",
   "metadata": {
    "colab": {
     "base_uri": "https://localhost:8080/",
     "height": 295
    },
    "id": "7add20ab",
    "outputId": "e78c477e-7f82-4261-bc3a-fa5994a0153d"
   },
   "outputs": [
    {
     "data": {
      "image/png": "[encoded data removed]",
      "text/plain": [
       "<Figure size 432x288 with 2 Axes>"
      ]
     },
     "metadata": {
      "needs_background": "light"
     },
     "output_type": "display_data"
    }
   ],
   "source": [
    "# Evaluate model on test data and plot confusion matrix\n",
    "y_true = y_test\n",
    "y_pred = nb_model.predict(X_test_tfidf)\n",
    "\n",
    "ConfusionMatrixDisplay.from_predictions(y_true,\n",
    "                                        y_pred,\n",
    "                                        normalize='all',\n",
    "                                        display_labels=sentiment\n",
    "                                       )\n",
    "\n",
    "plt.title(\"Confusion Matrix of Review Usefulness\")\n",
    "plt.show()"
   ]
  },
  {
   "cell_type": "code",
   "execution_count": 248,
   "id": "d9b80b15",
   "metadata": {
    "colab": {
     "base_uri": "https://localhost:8080/",
     "height": 313
    },
    "id": "d9b80b15",
    "outputId": "545bdf63-90f4-4b3f-c395-14a5f18fde02"
   },
   "outputs": [
    {
     "name": "stdout",
     "output_type": "stream",
     "text": [
      "AUC: 0.4985\n"
     ]
    },
    {
     "data": {
      "image/png": "[encoded data removed]",
      "text/plain": [
       "<Figure size 432x288 with 1 Axes>"
      ]
     },
     "metadata": {
      "needs_background": "light"
     },
     "output_type": "display_data"
    }
   ],
   "source": [
    "fpr, tpr, threshold = roc_curve(y_true, y_pred)\n",
    "roc_auc = auc(fpr, tpr)\n",
    "print(f'AUC: {roc_auc:.4f}')\n",
    "\n",
    "# Plot ROC AUC\n",
    "plt.title('Receiver Operating Characteristic')\n",
    "plt.plot(fpr, tpr, 'b', label = 'AUC = %0.2f' % roc_auc)\n",
    "plt.legend(loc = 'lower right')\n",
    "plt.plot([0, 1], [0, 1],'r--')\n",
    "plt.xlim([0, 1])\n",
    "plt.ylim([0, 1])\n",
    "plt.ylabel('True Positive Rate')\n",
    "plt.xlabel('False Positive Rate')\n",
    "plt.show()"
   ]
  },
  {
   "cell_type": "markdown",
   "id": "3f093368",
   "metadata": {},
   "source": [
    "## X.X Tokenization and analytics"
   ]
  },
  {
   "cell_type": "code",
   "execution_count": 249,
   "id": "7d817209",
   "metadata": {
    "id": "40kfYLJRty7a"
   },
   "outputs": [],
   "source": [
    "reviews = review_samples['review_processed'].fillna('no review')"
   ]
  },
  {
   "cell_type": "code",
   "execution_count": 250,
   "id": "f42c4e7e",
   "metadata": {
    "id": "10c5748e"
   },
   "outputs": [],
   "source": [
    "# Set tokenization parameters\n",
    "num_words = 4000\n",
    "num_len = 512\n",
    "oov_token = '<UNK>'\n",
    "pad_type = 'post'\n",
    "trunc_type = 'post'\n",
    "\n",
    "# Tokenize review text\n",
    "tokenizer = Tokenizer(num_words=num_words, oov_token=oov_token)\n",
    "tokenizer.fit_on_texts(reviews)\n",
    "sequences = tokenizer.texts_to_sequences(reviews)\n",
    "\n",
    "# Additional tokenization parameters\n",
    "max_words = len(tokenizer.word_index)\n",
    "max_len = max([len(x) for x in sequences])\n",
    "\n",
    "# Pad review text tokens\n",
    "review_tokens = pad_sequences(sequences, padding=pad_type, truncating=trunc_type, maxlen=num_len)"
   ]
  },
  {
   "cell_type": "code",
   "execution_count": 251,
   "id": "70e55cd5",
   "metadata": {},
   "outputs": [
    {
     "data": {
      "text/plain": [
       "6052"
      ]
     },
     "execution_count": 251,
     "metadata": {},
     "output_type": "execute_result"
    }
   ],
   "source": [
    "len(tokenizer.word_counts)"
   ]
  },
  {
   "cell_type": "code",
   "execution_count": 252,
   "id": "de30f29c",
   "metadata": {},
   "outputs": [
    {
     "data": {
      "text/html": [
       "<div>\n",
       "<style scoped>\n",
       "    .dataframe tbody tr th:only-of-type {\n",
       "        vertical-align: middle;\n",
       "    }\n",
       "\n",
       "    .dataframe tbody tr th {\n",
       "        vertical-align: top;\n",
       "    }\n",
       "\n",
       "    .dataframe thead th {\n",
       "        text-align: right;\n",
       "    }\n",
       "</style>\n",
       "<table border=\"1\" class=\"dataframe\">\n",
       "  <thead>\n",
       "    <tr style=\"text-align: right;\">\n",
       "      <th></th>\n",
       "      <th>word</th>\n",
       "      <th>frequency</th>\n",
       "    </tr>\n",
       "  </thead>\n",
       "  <tbody>\n",
       "    <tr>\n",
       "      <th>14</th>\n",
       "      <td>sound</td>\n",
       "      <td>656</td>\n",
       "    </tr>\n",
       "    <tr>\n",
       "      <th>82</th>\n",
       "      <td>use</td>\n",
       "      <td>629</td>\n",
       "    </tr>\n",
       "    <tr>\n",
       "      <th>63</th>\n",
       "      <td>work</td>\n",
       "      <td>561</td>\n",
       "    </tr>\n",
       "    <tr>\n",
       "      <th>13</th>\n",
       "      <td>good</td>\n",
       "      <td>513</td>\n",
       "    </tr>\n",
       "    <tr>\n",
       "      <th>179</th>\n",
       "      <td>one</td>\n",
       "      <td>455</td>\n",
       "    </tr>\n",
       "    <tr>\n",
       "      <th>49</th>\n",
       "      <td>great</td>\n",
       "      <td>438</td>\n",
       "    </tr>\n",
       "    <tr>\n",
       "      <th>96</th>\n",
       "      <td>get</td>\n",
       "      <td>411</td>\n",
       "    </tr>\n",
       "    <tr>\n",
       "      <th>74</th>\n",
       "      <td>headphone</td>\n",
       "      <td>391</td>\n",
       "    </tr>\n",
       "    <tr>\n",
       "      <th>11</th>\n",
       "      <td>speaker</td>\n",
       "      <td>388</td>\n",
       "    </tr>\n",
       "    <tr>\n",
       "      <th>2</th>\n",
       "      <td>well</td>\n",
       "      <td>332</td>\n",
       "    </tr>\n",
       "  </tbody>\n",
       "</table>\n",
       "</div>"
      ],
      "text/plain": [
       "          word  frequency\n",
       "14       sound        656\n",
       "82         use        629\n",
       "63        work        561\n",
       "13        good        513\n",
       "179        one        455\n",
       "49       great        438\n",
       "96         get        411\n",
       "74   headphone        391\n",
       "11     speaker        388\n",
       "2         well        332"
      ]
     },
     "execution_count": 252,
     "metadata": {},
     "output_type": "execute_result"
    }
   ],
   "source": [
    "vocab = pd.DataFrame(tokenizer.word_counts.items(), columns=['word', 'frequency'])\n",
    "vocab.sort_values('frequency', ascending=False).head(10)"
   ]
  },
  {
   "cell_type": "code",
   "execution_count": 253,
   "id": "edabb9ac",
   "metadata": {},
   "outputs": [
    {
     "data": {
      "image/png": "[encoded data removed]",
      "text/plain": [
       "<Figure size 432x288 with 1 Axes>"
      ]
     },
     "metadata": {
      "needs_background": "light"
     },
     "output_type": "display_data"
    }
   ],
   "source": [
    "filtered_vocab = vocab[vocab['frequency'] > 1]\n",
    "plt.hist(filtered_vocab['frequency'], bins=20)\n",
    "plt.show()"
   ]
  },
  {
   "cell_type": "code",
   "execution_count": 254,
   "id": "1b171425",
   "metadata": {},
   "outputs": [
    {
     "name": "stdout",
     "output_type": "stream",
     "text": [
      "Max words in vocabulary: 6053\n",
      "Max sequence length: 977\n",
      "\n",
      "\n",
      "Words allowed in vocabulary: 4000\n",
      "Allowed sequence length: 512\n",
      "\n",
      "\n",
      "Example processed review:\n",
      "works pissa\n",
      "\n",
      "\n",
      "Example tokenized review:\n",
      "[ 222 3343    0    0    0    0    0    0    0    0    0    0    0    0\n",
      "    0    0    0    0    0    0    0    0    0    0    0    0    0    0\n",
      "    0    0    0    0    0    0    0    0    0    0    0    0    0    0\n",
      "    0    0    0    0    0    0    0    0    0    0    0    0    0    0\n",
      "    0    0    0    0    0    0    0    0    0    0    0    0    0    0\n",
      "    0    0    0    0    0    0    0    0    0    0    0    0    0    0\n",
      "    0    0    0    0    0    0    0    0    0    0    0    0    0    0\n",
      "    0    0    0    0    0    0    0    0    0    0    0    0    0    0\n",
      "    0    0    0    0    0    0    0    0    0    0    0    0    0    0\n",
      "    0    0    0    0    0    0    0    0    0    0    0    0    0    0\n",
      "    0    0    0    0    0    0    0    0    0    0    0    0    0    0\n",
      "    0    0    0    0    0    0    0    0    0    0    0    0    0    0\n",
      "    0    0    0    0    0    0    0    0    0    0    0    0    0    0\n",
      "    0    0    0    0    0    0    0    0    0    0    0    0    0    0\n",
      "    0    0    0    0    0    0    0    0    0    0    0    0    0    0\n",
      "    0    0    0    0    0    0    0    0    0    0    0    0    0    0\n",
      "    0    0    0    0    0    0    0    0    0    0    0    0    0    0\n",
      "    0    0    0    0    0    0    0    0    0    0    0    0    0    0\n",
      "    0    0    0    0    0    0    0    0    0    0    0    0    0    0\n",
      "    0    0    0    0    0    0    0    0    0    0    0    0    0    0\n",
      "    0    0    0    0    0    0    0    0    0    0    0    0    0    0\n",
      "    0    0    0    0    0    0    0    0    0    0    0    0    0    0\n",
      "    0    0    0    0    0    0    0    0    0    0    0    0    0    0\n",
      "    0    0    0    0    0    0    0    0    0    0    0    0    0    0\n",
      "    0    0    0    0    0    0    0    0    0    0    0    0    0    0\n",
      "    0    0    0    0    0    0    0    0    0    0    0    0    0    0\n",
      "    0    0    0    0    0    0    0    0    0    0    0    0    0    0\n",
      "    0    0    0    0    0    0    0    0    0    0    0    0    0    0\n",
      "    0    0    0    0    0    0    0    0    0    0    0    0    0    0\n",
      "    0    0    0    0    0    0    0    0    0    0    0    0    0    0\n",
      "    0    0    0    0    0    0    0    0    0    0    0    0    0    0\n",
      "    0    0    0    0    0    0    0    0    0    0    0    0    0    0\n",
      "    0    0    0    0    0    0    0    0    0    0    0    0    0    0\n",
      "    0    0    0    0    0    0    0    0    0    0    0    0    0    0\n",
      "    0    0    0    0    0    0    0    0    0    0    0    0    0    0\n",
      "    0    0    0    0    0    0    0    0    0    0    0    0    0    0\n",
      "    0    0    0    0    0    0    0    0]\n"
     ]
    }
   ],
   "source": [
    "print('Max words in vocabulary: {}'.format(max_words))\n",
    "print('Max sequence length: {}'.format(max_len))\n",
    "print('\\n')\n",
    "\n",
    "print('Words allowed in vocabulary: {}'.format(num_words))\n",
    "print('Allowed sequence length: {}'.format(num_len))\n",
    "print('\\n')\n",
    "\n",
    "print('Example processed review:')\n",
    "print(review_samples['review_processed'].iloc[0])\n",
    "print('\\n')\n",
    "\n",
    "print('Example tokenized review:')\n",
    "print(review_tokens[0])"
   ]
  },
  {
   "cell_type": "code",
   "execution_count": 255,
   "id": "3ca225a6",
   "metadata": {},
   "outputs": [
    {
     "data": {
      "image/png": "[encoded data removed]",
      "text/plain": [
       "<Figure size 432x288 with 1 Axes>"
      ]
     },
     "metadata": {
      "needs_background": "light"
     },
     "output_type": "display_data"
    }
   ],
   "source": [
    "seq_len = [len(x) for x in sequences]\n",
    "d = {'sequence': sequences, 'length': seq_len}\n",
    "seqs = pd.DataFrame(data = d)\n",
    "\n",
    "plt.hist(seqs['length'])\n",
    "plt.show()"
   ]
  },
  {
   "cell_type": "code",
   "execution_count": 256,
   "id": "afb0f590",
   "metadata": {},
   "outputs": [
    {
     "data": {
      "text/html": [
       "<div>\n",
       "<style scoped>\n",
       "    .dataframe tbody tr th:only-of-type {\n",
       "        vertical-align: middle;\n",
       "    }\n",
       "\n",
       "    .dataframe tbody tr th {\n",
       "        vertical-align: top;\n",
       "    }\n",
       "\n",
       "    .dataframe thead th {\n",
       "        text-align: right;\n",
       "    }\n",
       "</style>\n",
       "<table border=\"1\" class=\"dataframe\">\n",
       "  <thead>\n",
       "    <tr style=\"text-align: right;\">\n",
       "      <th></th>\n",
       "      <th>sequence</th>\n",
       "      <th>length</th>\n",
       "    </tr>\n",
       "  </thead>\n",
       "  <tbody>\n",
       "    <tr>\n",
       "      <th>21</th>\n",
       "      <td>[1462, 3361, 162, 207, 104, 451, 6, 3362, 974,...</td>\n",
       "      <td>838</td>\n",
       "    </tr>\n",
       "    <tr>\n",
       "      <th>69</th>\n",
       "      <td>[3461, 79, 291, 1187, 91, 181, 1500, 15, 41, 7...</td>\n",
       "      <td>616</td>\n",
       "    </tr>\n",
       "    <tr>\n",
       "      <th>157</th>\n",
       "      <td>[663, 3662, 602, 3663, 25, 9, 1365, 3, 941, 53...</td>\n",
       "      <td>977</td>\n",
       "    </tr>\n",
       "    <tr>\n",
       "      <th>395</th>\n",
       "      <td>[2835, 1891, 135, 582, 2836, 2837, 582, 217, 2...</td>\n",
       "      <td>951</td>\n",
       "    </tr>\n",
       "    <tr>\n",
       "      <th>618</th>\n",
       "      <td>[55, 335, 23, 47, 16, 18, 279, 393, 21, 937, 5...</td>\n",
       "      <td>749</td>\n",
       "    </tr>\n",
       "    <tr>\n",
       "      <th>666</th>\n",
       "      <td>[257, 1224, 577, 2313, 40, 279, 53, 130, 52, 1...</td>\n",
       "      <td>701</td>\n",
       "    </tr>\n",
       "    <tr>\n",
       "      <th>682</th>\n",
       "      <td>[2835, 1891, 135, 582, 2836, 2837, 582, 217, 2...</td>\n",
       "      <td>951</td>\n",
       "    </tr>\n",
       "    <tr>\n",
       "      <th>793</th>\n",
       "      <td>[280, 3097, 274, 181, 1, 47, 36, 221, 181, 15,...</td>\n",
       "      <td>585</td>\n",
       "    </tr>\n",
       "    <tr>\n",
       "      <th>930</th>\n",
       "      <td>[280, 3097, 1, 1024, 16, 40, 36, 805, 868, 102...</td>\n",
       "      <td>897</td>\n",
       "    </tr>\n",
       "    <tr>\n",
       "      <th>1086</th>\n",
       "      <td>[352, 103, 868, 55, 17, 642, 40, 1454, 9, 168,...</td>\n",
       "      <td>652</td>\n",
       "    </tr>\n",
       "    <tr>\n",
       "      <th>1122</th>\n",
       "      <td>[1, 1, 1365, 1, 1824, 1, 577, 342, 1111, 191, ...</td>\n",
       "      <td>646</td>\n",
       "    </tr>\n",
       "    <tr>\n",
       "      <th>1140</th>\n",
       "      <td>[1215, 19, 47, 89, 2934, 1127, 278, 378, 56, 3...</td>\n",
       "      <td>606</td>\n",
       "    </tr>\n",
       "  </tbody>\n",
       "</table>\n",
       "</div>"
      ],
      "text/plain": [
       "                                               sequence  length\n",
       "21    [1462, 3361, 162, 207, 104, 451, 6, 3362, 974,...     838\n",
       "69    [3461, 79, 291, 1187, 91, 181, 1500, 15, 41, 7...     616\n",
       "157   [663, 3662, 602, 3663, 25, 9, 1365, 3, 941, 53...     977\n",
       "395   [2835, 1891, 135, 582, 2836, 2837, 582, 217, 2...     951\n",
       "618   [55, 335, 23, 47, 16, 18, 279, 393, 21, 937, 5...     749\n",
       "666   [257, 1224, 577, 2313, 40, 279, 53, 130, 52, 1...     701\n",
       "682   [2835, 1891, 135, 582, 2836, 2837, 582, 217, 2...     951\n",
       "793   [280, 3097, 274, 181, 1, 47, 36, 221, 181, 15,...     585\n",
       "930   [280, 3097, 1, 1024, 16, 40, 36, 805, 868, 102...     897\n",
       "1086  [352, 103, 868, 55, 17, 642, 40, 1454, 9, 168,...     652\n",
       "1122  [1, 1, 1365, 1, 1824, 1, 577, 342, 1111, 191, ...     646\n",
       "1140  [1215, 19, 47, 89, 2934, 1127, 278, 378, 56, 3...     606"
      ]
     },
     "execution_count": 256,
     "metadata": {},
     "output_type": "execute_result"
    }
   ],
   "source": [
    "seqs[seqs['length'] > 512]"
   ]
  },
  {
   "cell_type": "code",
   "execution_count": null,
   "id": "49d4de55",
   "metadata": {},
   "outputs": [],
   "source": []
  },
  {
   "cell_type": "code",
   "execution_count": null,
   "id": "0d0b83e4",
   "metadata": {},
   "outputs": [],
   "source": []
  },
  {
   "cell_type": "code",
   "execution_count": null,
   "id": "9ce35fec",
   "metadata": {},
   "outputs": [],
   "source": []
  },
  {
   "cell_type": "code",
   "execution_count": null,
   "id": "1c53792f",
   "metadata": {},
   "outputs": [],
   "source": []
  },
  {
   "cell_type": "markdown",
   "id": "3ce7a45e",
   "metadata": {
    "id": "c4693fae"
   },
   "source": [
    "### X.X Bi-directional LSTM"
   ]
  },
  {
   "cell_type": "code",
   "execution_count": 257,
   "id": "388769b8",
   "metadata": {
    "id": "388769b8"
   },
   "outputs": [],
   "source": [
    "# Set model hyperparamters\n",
    "output_dim = 256\n",
    "epochs = 10\n",
    "batch_size = 512\n",
    "dropout_rate = 0.0\n",
    "num_classes = len(np.unique(labels, axis=0))\n",
    "opt = tf.keras.optimizers.Adam(learning_rate=0.001,\n",
    "                               epsilon=0.00000001,\n",
    "                               clipnorm=1.0\n",
    "                              )\n",
    "loss_func = 'binary_crossentropy'\n",
    "metrics = ['accuracy']"
   ]
  },
  {
   "cell_type": "code",
   "execution_count": 285,
   "id": "2e0faa93",
   "metadata": {},
   "outputs": [],
   "source": [
    "# Create usefulness target variable as categorical\n",
    "labels = review_samples['useful']\n",
    "labels = tf.keras.utils.to_categorical(labels, num_classes=2, dtype=\"float32\")"
   ]
  },
  {
   "cell_type": "code",
   "execution_count": 286,
   "id": "a1bb450b",
   "metadata": {
    "id": "a1bb450b"
   },
   "outputs": [],
   "source": [
    "# Split data into train, dev, and test sets\n",
    "X_train, X_test, y_train, y_test = train_test_split(review_tokens, labels, test_size=0.2, random_state=0)\n",
    "X_train, X_dev, y_train, y_dev = train_test_split(X_train, y_train, test_size=0.25, random_state=0)"
   ]
  },
  {
   "cell_type": "code",
   "execution_count": 259,
   "id": "3a332016",
   "metadata": {
    "colab": {
     "base_uri": "https://localhost:8080/"
    },
    "id": "3a332016",
    "outputId": "273cc6e7-cbad-48f8-cbe6-35f64300b46d"
   },
   "outputs": [
    {
     "data": {
      "text/plain": [
       "(248, 2)"
      ]
     },
     "execution_count": 259,
     "metadata": {},
     "output_type": "execute_result"
    }
   ],
   "source": [
    "y_test.shape"
   ]
  },
  {
   "cell_type": "code",
   "execution_count": 260,
   "id": "e6556cac",
   "metadata": {
    "colab": {
     "base_uri": "https://localhost:8080/"
    },
    "id": "e6556cac",
    "outputId": "ac00fb26-260f-4130-e1c7-cf5a6df9bee9"
   },
   "outputs": [
    {
     "name": "stdout",
     "output_type": "stream",
     "text": [
      "Model: \"sequential_29\"\n",
      "_________________________________________________________________\n",
      " Layer (type)                Output Shape              Param #   \n",
      "=================================================================\n",
      " embedding_29 (Embedding)    (None, 512, 256)          1024000   \n",
      "                                                                 \n",
      " bidirectional_15 (Bidirecti  (None, 128)              164352    \n",
      " onal)                                                           \n",
      "                                                                 \n",
      " dense_37 (Dense)            (None, 2)                 258       \n",
      "                                                                 \n",
      "=================================================================\n",
      "Total params: 1,188,610\n",
      "Trainable params: 1,188,610\n",
      "Non-trainable params: 0\n",
      "_________________________________________________________________\n"
     ]
    }
   ],
   "source": [
    "# Build model\n",
    "lstm_model = Sequential()\n",
    "lstm_model.add(Embedding(input_dim=num_words, output_dim=output_dim, input_length=num_len))\n",
    "lstm_model.add(Bidirectional(LSTM(64, dropout=dropout_rate)))\n",
    "lstm_model.add(Dense(2, activation='softmax'))\n",
    "lstm_model.compile(optimizer=opt, loss=loss_func, metrics=metrics)\n",
    "lstm_model.summary()"
   ]
  },
  {
   "cell_type": "code",
   "execution_count": 288,
   "id": "_LMuy-3QVWqh",
   "metadata": {
    "colab": {
     "base_uri": "https://localhost:8080/"
    },
    "id": "_LMuy-3QVWqh",
    "outputId": "c903575e-ef56-42e1-aa07-809170a216cd"
   },
   "outputs": [
    {
     "name": "stdout",
     "output_type": "stream",
     "text": [
      "Epoch 1/10\n",
      "2/2 - 14s - loss: 0.1322 - accuracy: 0.9542 - val_loss: 1.0691 - val_accuracy: 0.6008 - 14s/epoch - 7s/step\n",
      "Epoch 2/10\n",
      "2/2 - 13s - loss: 0.1231 - accuracy: 0.9650 - val_loss: 1.0679 - val_accuracy: 0.6008 - 13s/epoch - 7s/step\n",
      "Epoch 3/10\n",
      "2/2 - 13s - loss: 0.1182 - accuracy: 0.9730 - val_loss: 1.0975 - val_accuracy: 0.6008 - 13s/epoch - 7s/step\n",
      "Epoch 4/10\n",
      "2/2 - 13s - loss: 0.1082 - accuracy: 0.9717 - val_loss: 1.1554 - val_accuracy: 0.5968 - 13s/epoch - 7s/step\n",
      "Epoch 5/10\n",
      "2/2 - 14s - loss: 0.0987 - accuracy: 0.9677 - val_loss: 1.2143 - val_accuracy: 0.6008 - 14s/epoch - 7s/step\n",
      "Epoch 6/10\n",
      "2/2 - 15s - loss: 0.0907 - accuracy: 0.9717 - val_loss: 1.2924 - val_accuracy: 0.5968 - 15s/epoch - 7s/step\n",
      "Epoch 7/10\n",
      "2/2 - 14s - loss: 0.0913 - accuracy: 0.9690 - val_loss: 1.3298 - val_accuracy: 0.6008 - 14s/epoch - 7s/step\n",
      "Epoch 8/10\n",
      "2/2 - 13s - loss: 0.0810 - accuracy: 0.9730 - val_loss: 1.3368 - val_accuracy: 0.6089 - 13s/epoch - 7s/step\n",
      "Epoch 9/10\n",
      "2/2 - 13s - loss: 0.0826 - accuracy: 0.9704 - val_loss: 1.3418 - val_accuracy: 0.6129 - 13s/epoch - 6s/step\n",
      "Epoch 10/10\n",
      "2/2 - 22s - loss: 0.0789 - accuracy: 0.9744 - val_loss: 1.3494 - val_accuracy: 0.6250 - 22s/epoch - 11s/step\n"
     ]
    },
    {
     "data": {
      "text/plain": [
       "<keras.callbacks.History at 0x7fe8c0473850>"
      ]
     },
     "execution_count": 288,
     "metadata": {},
     "output_type": "execute_result"
    }
   ],
   "source": [
    "# Fit model\n",
    "lstm_model.fit(X_train,\n",
    "               y_train,\n",
    "               validation_data=(X_dev, y_dev),\n",
    "               epochs=epochs,\n",
    "               batch_size=batch_size,\n",
    "               verbose=2\n",
    "              )"
   ]
  },
  {
   "cell_type": "code",
   "execution_count": 262,
   "id": "e7d45011",
   "metadata": {
    "colab": {
     "base_uri": "https://localhost:8080/",
     "height": 295
    },
    "id": "e7d45011",
    "outputId": "0be5ec75-2777-4aa6-b7db-5060153201e9"
   },
   "outputs": [
    {
     "data": {
      "image/png": "[encoded data removed]",
      "text/plain": [
       "<Figure size 432x288 with 2 Axes>"
      ]
     },
     "metadata": {
      "needs_background": "light"
     },
     "output_type": "display_data"
    }
   ],
   "source": [
    "# Plot confusion matrix of training data\n",
    "y_true = y_train.argmax(axis=1)\n",
    "y_pred = np.argmax(lstm_model.predict(X_train), axis=1)\n",
    "\n",
    "ConfusionMatrixDisplay.from_predictions(y_true,\n",
    "                                        y_pred,\n",
    "                                        normalize='all',\n",
    "                                        display_labels=sentiment\n",
    "                                       )\n",
    "\n",
    "plt.title(\"Confusion Matrix of Review Usefulness\")\n",
    "plt.show()"
   ]
  },
  {
   "cell_type": "code",
   "execution_count": 263,
   "id": "900972ac",
   "metadata": {
    "colab": {
     "base_uri": "https://localhost:8080/",
     "height": 295
    },
    "id": "e7d45011",
    "outputId": "0be5ec75-2777-4aa6-b7db-5060153201e9"
   },
   "outputs": [
    {
     "data": {
      "image/png": "[encoded data removed]",
      "text/plain": [
       "<Figure size 432x288 with 2 Axes>"
      ]
     },
     "metadata": {
      "needs_background": "light"
     },
     "output_type": "display_data"
    }
   ],
   "source": [
    "# Plot confusion matrix of test data\n",
    "y_true = y_test.argmax(axis=1)\n",
    "y_pred = np.argmax(lstm_model.predict(X_test), axis=1)\n",
    "\n",
    "ConfusionMatrixDisplay.from_predictions(y_true,\n",
    "                                        y_pred,\n",
    "                                        normalize='all',\n",
    "                                        display_labels=sentiment\n",
    "                                       )\n",
    "\n",
    "plt.title(\"Confusion Matrix of Review Usefulness\")\n",
    "plt.show()"
   ]
  },
  {
   "cell_type": "code",
   "execution_count": 264,
   "id": "8d2af57c",
   "metadata": {
    "colab": {
     "base_uri": "https://localhost:8080/"
    },
    "id": "8d2af57c",
    "outputId": "36dda4ac-49fd-40c3-c9dd-6204028b4118"
   },
   "outputs": [
    {
     "name": "stdout",
     "output_type": "stream",
     "text": [
      "              precision    recall  f1-score   support\n",
      "\n",
      "           0       0.55      0.44      0.49        97\n",
      "           1       0.68      0.77      0.72       151\n",
      "\n",
      "    accuracy                           0.64       248\n",
      "   macro avg       0.62      0.61      0.61       248\n",
      "weighted avg       0.63      0.64      0.63       248\n",
      "\n"
     ]
    }
   ],
   "source": [
    "print(classification_report(y_true, y_pred))"
   ]
  },
  {
   "cell_type": "code",
   "execution_count": 265,
   "id": "SdXwudLqCtyE",
   "metadata": {
    "colab": {
     "base_uri": "https://localhost:8080/",
     "height": 798
    },
    "id": "SdXwudLqCtyE",
    "outputId": "245ee9a7-968f-457c-f482-7b6d4743976b"
   },
   "outputs": [
    {
     "name": "stdout",
     "output_type": "stream",
     "text": [
      "8/8 [==============================] - 1s 157ms/step - loss: 0.6685 - accuracy: 0.6411\n",
      "Model performance metrics on test data\n",
      "Accuracy: 0.6411\n",
      "Loss: 0.6685\n",
      "Precision: 0.6311\n",
      "Recall: 0.6411\n",
      "F1-score: 0.6323\n"
     ]
    }
   ],
   "source": [
    "# Evaluate model\n",
    "loss, acc = lstm_model.evaluate(X_test, y_test, verbose=1)\n",
    "precision, recall, f1, support = precision_recall_fscore_support(y_true, y_pred, average='weighted')\n",
    "print(\"Model performance metrics on test data\")\n",
    "print(\"Accuracy: {:.4f}\\nLoss: {:.4f}\\nPrecision: {:.4f}\\nRecall: {:.4f}\\nF1-score: {:.4f}\".format(acc, loss, precision, recall, f1))"
   ]
  },
  {
   "cell_type": "code",
   "execution_count": 266,
   "id": "c1vo5zLjjIFI",
   "metadata": {
    "id": "c1vo5zLjjIFI"
   },
   "outputs": [],
   "source": [
    "example0 = \"Golf tips magazine is one of the most aptly titled magazines available today. \\\n",
    "            It is chock full of heavily-illustrated exercises and other tips for serious golfers to improve their games.\\\n",
    "            \\nThere are a number of golf magazines on the newstand today. Most of them rely on a lifestyle format relying \\\n",
    "            more heavily on lifestyle-type stories about today's hot golfers and the courses they play. Most of them include \\\n",
    "            a brief game tip or two but seem aimed at the casual duffer.\\nGolf Tips, on the other hand, features almost nothing \\\n",
    "            but heavily illustrated tips on improving one's swing, eliminating mistakes and putting better. It also is heavily \\\n",
    "            loaded with features on the latest equipment technology. Each issue also seems to feature an article on the technical \\\n",
    "            aspects of a selected major golf course. The articles are written with terminology that serious golfers will understand \\\n",
    "            but that may confuse the weekend player. Judging by the amount of advertising in its early issues, this magazine also \\\n",
    "            appears to be financially healthy.\\nIf a reader wants to read about the PGA Tour's superstars, this magazine is not for \\\n",
    "            him/her. But if s/he plans to be one of those superstars, Golf Tips is a good match.\"\n",
    "\n",
    "example1 = \"The information is interesting and fun, the writing is superb, and the writers and editors have a great sense of humor. \\\n",
    "            I just wish it came out more often!\"\n",
    "\n",
    "example2 = \"this data science article is the best ever\"\n",
    "\n",
    "example3 = \"i really loved how the technician helped me with the issue that i had\"\n",
    "\n",
    "example4 = \"useless comment\"\n",
    "\n",
    "examples = [example0, example1, example2, example3, example4]"
   ]
  },
  {
   "cell_type": "code",
   "execution_count": 267,
   "id": "jgzWpxYcIx0G",
   "metadata": {
    "colab": {
     "base_uri": "https://localhost:8080/"
    },
    "id": "jgzWpxYcIx0G",
    "outputId": "03b84656-188e-4750-97be-f21c35c5ad8e"
   },
   "outputs": [
    {
     "name": "stdout",
     "output_type": "stream",
     "text": [
      "0 : Not Useful\n",
      "1 : Not Useful\n",
      "2 : Not Useful\n",
      "3 : Not Useful\n",
      "4 : Not Useful\n"
     ]
    }
   ],
   "source": [
    "def test_examples(model, examples, num_len=512):\n",
    "    for idx, example in enumerate(examples):\n",
    "        sequence = tokenizer.texts_to_sequences([example])\n",
    "        test = pad_sequences(sequence, maxlen=num_len)\n",
    "        prediction = sentiment[np.around(model.predict(test), decimals=0).argmax(axis=1)[0]]\n",
    "        print(idx, \":\", prediction)\n",
    "    \n",
    "test_examples(lstm_model, examples)"
   ]
  },
  {
   "cell_type": "markdown",
   "id": "8d132915",
   "metadata": {
    "id": "8d132915"
   },
   "source": [
    "### X.X Convolutional neural network"
   ]
  },
  {
   "cell_type": "code",
   "execution_count": 268,
   "id": "ce97448e",
   "metadata": {
    "id": "ce97448e"
   },
   "outputs": [],
   "source": [
    "# # Change data type for usefulness target variable from float to int\n",
    "y_train = np.array([list(i).index(max(i)) for i in y_train])\n",
    "y_dev = np.array([list(i).index(max(i)) for i in y_dev])\n",
    "y_test = np.array([list(i).index(max(i)) for i in y_test])\n",
    "\n",
    "# labels = review_samples['useful'].astype(int)\n",
    "# X_train, X_test, y_train, y_test = train_test_split(reviews, labels, test_size=0.2, random_state=0)\n",
    "# X_train, X_dev, y_train, y_dev = train_test_split(X_train, y_train, test_size=0.25, random_state=0)"
   ]
  },
  {
   "cell_type": "code",
   "execution_count": 269,
   "id": "ba5c3da7",
   "metadata": {
    "colab": {
     "base_uri": "https://localhost:8080/"
    },
    "id": "ba5c3da7",
    "outputId": "e8c64acb-ef2d-4f96-e4ac-e2a21c6ab30d"
   },
   "outputs": [
    {
     "data": {
      "text/plain": [
       "(248,)"
      ]
     },
     "execution_count": 269,
     "metadata": {},
     "output_type": "execute_result"
    }
   ],
   "source": [
    "y_test.shape"
   ]
  },
  {
   "cell_type": "code",
   "execution_count": 270,
   "id": "25ec148a",
   "metadata": {
    "colab": {
     "base_uri": "https://localhost:8080/"
    },
    "id": "25ec148a",
    "outputId": "8505dbed-6651-479b-f67d-90e562c62e5a"
   },
   "outputs": [
    {
     "name": "stdout",
     "output_type": "stream",
     "text": [
      "Model: \"sequential_30\"\n",
      "_________________________________________________________________\n",
      " Layer (type)                Output Shape              Param #   \n",
      "=================================================================\n",
      " embedding_30 (Embedding)    (None, 512, 256)          1024000   \n",
      "                                                                 \n",
      " conv1d_9 (Conv1D)           (None, 512, 32)           24608     \n",
      "                                                                 \n",
      " max_pooling1d_9 (MaxPooling  (None, 256, 32)          0         \n",
      " 1D)                                                             \n",
      "                                                                 \n",
      " flatten_9 (Flatten)         (None, 8192)              0         \n",
      "                                                                 \n",
      " dense_38 (Dense)            (None, 250)               2048250   \n",
      "                                                                 \n",
      " dense_39 (Dense)            (None, 1)                 251       \n",
      "                                                                 \n",
      "=================================================================\n",
      "Total params: 3,097,109\n",
      "Trainable params: 3,097,109\n",
      "Non-trainable params: 0\n",
      "_________________________________________________________________\n"
     ]
    }
   ],
   "source": [
    "# Build model\n",
    "cnn_model = Sequential()\n",
    "cnn_model.add(Embedding(input_dim=num_words, output_dim=output_dim, input_length=num_len))\n",
    "cnn_model.add(Conv1D(32, 3, padding='same', activation='relu'))\n",
    "cnn_model.add(MaxPooling1D())\n",
    "cnn_model.add(Flatten())\n",
    "cnn_model.add(Dense(250, activation='relu'))\n",
    "cnn_model.add(Dense(1, activation='sigmoid'))\n",
    "cnn_model.compile(optimizer=opt, loss=loss_func, metrics=metrics)\n",
    "cnn_model.summary()\n"
   ]
  },
  {
   "cell_type": "code",
   "execution_count": 283,
   "id": "540787cc",
   "metadata": {
    "colab": {
     "base_uri": "https://localhost:8080/"
    },
    "id": "540787cc",
    "outputId": "319918ec-8dee-4caf-c87d-730e1ada5b47"
   },
   "outputs": [
    {
     "name": "stdout",
     "output_type": "stream",
     "text": [
      "Epoch 1/10\n",
      "2/2 - 2s - loss: 0.0769 - accuracy: 0.9744 - val_loss: 1.0996 - val_accuracy: 0.6532 - 2s/epoch - 778ms/step\n",
      "Epoch 2/10\n",
      "2/2 - 2s - loss: 0.0587 - accuracy: 0.9879 - val_loss: 1.0946 - val_accuracy: 0.6492 - 2s/epoch - 879ms/step\n",
      "Epoch 3/10\n",
      "2/2 - 2s - loss: 0.0541 - accuracy: 0.9825 - val_loss: 1.3227 - val_accuracy: 0.6089 - 2s/epoch - 895ms/step\n",
      "Epoch 4/10\n",
      "2/2 - 2s - loss: 0.0517 - accuracy: 0.9852 - val_loss: 1.2668 - val_accuracy: 0.6573 - 2s/epoch - 868ms/step\n",
      "Epoch 5/10\n",
      "2/2 - 2s - loss: 0.0489 - accuracy: 0.9892 - val_loss: 1.2832 - val_accuracy: 0.6452 - 2s/epoch - 921ms/step\n",
      "Epoch 6/10\n",
      "2/2 - 2s - loss: 0.0380 - accuracy: 0.9879 - val_loss: 1.5562 - val_accuracy: 0.5927 - 2s/epoch - 972ms/step\n",
      "Epoch 7/10\n",
      "2/2 - 2s - loss: 0.0449 - accuracy: 0.9838 - val_loss: 1.4280 - val_accuracy: 0.6411 - 2s/epoch - 956ms/step\n",
      "Epoch 8/10\n",
      "2/2 - 2s - loss: 0.0350 - accuracy: 0.9892 - val_loss: 1.3877 - val_accuracy: 0.6371 - 2s/epoch - 946ms/step\n",
      "Epoch 9/10\n",
      "2/2 - 2s - loss: 0.0346 - accuracy: 0.9892 - val_loss: 1.4704 - val_accuracy: 0.6411 - 2s/epoch - 974ms/step\n",
      "Epoch 10/10\n",
      "2/2 - 2s - loss: 0.0312 - accuracy: 0.9892 - val_loss: 1.5421 - val_accuracy: 0.6371 - 2s/epoch - 1s/step\n"
     ]
    },
    {
     "data": {
      "text/plain": [
       "<keras.callbacks.History at 0x7fe956cb8b50>"
      ]
     },
     "execution_count": 283,
     "metadata": {},
     "output_type": "execute_result"
    }
   ],
   "source": [
    "# Fit model\n",
    "cnn_model.fit(X_train,\n",
    "              y_train,\n",
    "              validation_data=(X_dev, y_dev),\n",
    "              epochs=epochs,\n",
    "              batch_size=batch_size,\n",
    "              verbose=2\n",
    "             )"
   ]
  },
  {
   "cell_type": "code",
   "execution_count": 280,
   "id": "dbc0b465",
   "metadata": {
    "colab": {
     "base_uri": "https://localhost:8080/",
     "height": 295
    },
    "id": "dbc0b465",
    "outputId": "015b19ff-cf70-430c-90ec-5b3222d32539"
   },
   "outputs": [
    {
     "data": {
      "image/png": "[encoded data removed]",
      "text/plain": [
       "<Figure size 432x288 with 2 Axes>"
      ]
     },
     "metadata": {
      "needs_background": "light"
     },
     "output_type": "display_data"
    }
   ],
   "source": [
    "# Plot confusion matrix on training data\n",
    "y_true = y_train\n",
    "y_pred = (cnn_model.predict(X_train) >= 0.5).astype(\"int32\")\n",
    "\n",
    "ConfusionMatrixDisplay.from_predictions(y_true,\n",
    "                                        y_pred,\n",
    "                                        normalize='all',\n",
    "                                        display_labels=sentiment\n",
    "                                       )\n",
    "\n",
    "plt.title(\"Confusion Matrix of Review Usefulness\")\n",
    "plt.show()"
   ]
  },
  {
   "cell_type": "code",
   "execution_count": 281,
   "id": "962c6a50",
   "metadata": {
    "colab": {
     "base_uri": "https://localhost:8080/",
     "height": 295
    },
    "id": "dbc0b465",
    "outputId": "015b19ff-cf70-430c-90ec-5b3222d32539"
   },
   "outputs": [
    {
     "data": {
      "image/png": "[encoded data removed]",
      "text/plain": [
       "<Figure size 432x288 with 2 Axes>"
      ]
     },
     "metadata": {
      "needs_background": "light"
     },
     "output_type": "display_data"
    }
   ],
   "source": [
    "# Plot confusion matrix\n",
    "y_true = y_test\n",
    "y_pred = (cnn_model.predict(X_test) >= 0.5).astype(\"int32\")\n",
    "\n",
    "ConfusionMatrixDisplay.from_predictions(y_true,\n",
    "                                        y_pred,\n",
    "                                        normalize='all',\n",
    "                                        display_labels=sentiment\n",
    "                                       )\n",
    "\n",
    "plt.title(\"Confusion Matrix of Review Usefulness\")\n",
    "plt.show()"
   ]
  },
  {
   "cell_type": "code",
   "execution_count": 282,
   "id": "68fb7767",
   "metadata": {
    "colab": {
     "base_uri": "https://localhost:8080/"
    },
    "id": "68fb7767",
    "outputId": "eb683707-0c07-4232-9f88-014aba6a469a"
   },
   "outputs": [
    {
     "name": "stdout",
     "output_type": "stream",
     "text": [
      "              precision    recall  f1-score   support\n",
      "\n",
      "           0       0.55      0.47      0.51        97\n",
      "           1       0.69      0.75      0.72       151\n",
      "\n",
      "    accuracy                           0.64       248\n",
      "   macro avg       0.62      0.61      0.61       248\n",
      "weighted avg       0.63      0.64      0.64       248\n",
      "\n"
     ]
    }
   ],
   "source": [
    "print(classification_report(y_true, y_pred))"
   ]
  },
  {
   "cell_type": "code",
   "execution_count": 278,
   "id": "M07hJdegEhMo",
   "metadata": {
    "colab": {
     "base_uri": "https://localhost:8080/"
    },
    "id": "M07hJdegEhMo",
    "outputId": "1d91a98c-1cba-464a-be81-a4268c9e792c"
   },
   "outputs": [
    {
     "name": "stdout",
     "output_type": "stream",
     "text": [
      "8/8 [==============================] - 0s 14ms/step - loss: 0.6975 - accuracy: 0.6210\n",
      "Model performance metrics on test data\n",
      "Accuracy: 0.6210\n",
      "Loss: 0.6975\n",
      "Precision: 0.8447\n",
      "Recall: 0.8140\n",
      "F1-score: 0.8018\n"
     ]
    }
   ],
   "source": [
    "# Evaluate model\n",
    "loss, acc = cnn_model.evaluate(X_test, y_test, verbose=1)\n",
    "precision, recall, f1, support = precision_recall_fscore_support(y_true, y_pred, average='weighted')\n",
    "print(\"Model performance metrics on test data\")\n",
    "print(\"Accuracy: {:.4f}\\nLoss: {:.4f}\\nPrecision: {:.4f}\\nRecall: {:.4f}\\nF1-score: {:.4f}\".format(acc, loss, precision, recall, f1))"
   ]
  },
  {
   "cell_type": "code",
   "execution_count": 222,
   "id": "fb25d4bb",
   "metadata": {
    "colab": {
     "base_uri": "https://localhost:8080/"
    },
    "id": "fb25d4bb",
    "outputId": "efc46f4e-2752-47e8-db31-171fa16f244a"
   },
   "outputs": [
    {
     "name": "stdout",
     "output_type": "stream",
     "text": [
      "0 : Not Useful\n",
      "1 : Not Useful\n",
      "2 : Not Useful\n",
      "3 : Not Useful\n",
      "4 : Not Useful\n"
     ]
    }
   ],
   "source": [
    "test_examples(cnn_model, examples)"
   ]
  },
  {
   "cell_type": "markdown",
   "id": "SDpfcjw9WM0o",
   "metadata": {
    "id": "SDpfcjw9WM0o"
   },
   "source": [
    "### X.X BERT\n",
    "\n",
    "[TF BERT Tutorial](https://www.tensorflow.org/text/tutorials/classify_text_with_bert)"
   ]
  },
  {
   "cell_type": "code",
   "execution_count": null,
   "id": "S8MuwEYFWcLm",
   "metadata": {
    "colab": {
     "base_uri": "https://localhost:8080/"
    },
    "id": "S8MuwEYFWcLm",
    "outputId": "1cd40bd4-7197-4dca-95f7-9385ee1c3938"
   },
   "outputs": [],
   "source": [
    "# A dependency of the preprocessing for BERT inputs\n",
    "!pip install -q -U \"tensorflow-text==2.8.*\""
   ]
  },
  {
   "cell_type": "code",
   "execution_count": null,
   "id": "ft7RxvllWpHl",
   "metadata": {
    "colab": {
     "base_uri": "https://localhost:8080/"
    },
    "id": "ft7RxvllWpHl",
    "outputId": "d1a88963-66cc-45d0-a658-4b8ad5074455"
   },
   "outputs": [],
   "source": [
    "!pip install -q tf-models-official==2.7.0"
   ]
  },
  {
   "cell_type": "code",
   "execution_count": null,
   "id": "RhdsKdekWpx0",
   "metadata": {
    "id": "RhdsKdekWpx0"
   },
   "outputs": [],
   "source": [
    "import os\n",
    "import shutil\n",
    "\n",
    "import tensorflow as tf\n",
    "import tensorflow_hub as hub\n",
    "import tensorflow_text as text\n",
    "from official.nlp import optimization  # to create AdamW optimizer\n",
    "\n",
    "tf.get_logger().setLevel('ERROR')"
   ]
  },
  {
   "cell_type": "code",
   "execution_count": null,
   "id": "a0cZlq4jXwL1",
   "metadata": {
    "colab": {
     "base_uri": "https://localhost:8080/"
    },
    "id": "a0cZlq4jXwL1",
    "outputId": "efe81902-5143-4da2-c3d8-6d8e5eab23d8"
   },
   "outputs": [],
   "source": [
    "bert_model_name = 'small_bert/bert_en_uncased_L-4_H-512_A-8' \n",
    "\n",
    "map_name_to_handle = {\n",
    "    'bert_en_uncased_L-12_H-768_A-12':\n",
    "        'https://tfhub.dev/tensorflow/bert_en_uncased_L-12_H-768_A-12/3',\n",
    "    'bert_en_cased_L-12_H-768_A-12':\n",
    "        'https://tfhub.dev/tensorflow/bert_en_cased_L-12_H-768_A-12/3',\n",
    "    'bert_multi_cased_L-12_H-768_A-12':\n",
    "        'https://tfhub.dev/tensorflow/bert_multi_cased_L-12_H-768_A-12/3',\n",
    "    'small_bert/bert_en_uncased_L-2_H-128_A-2':\n",
    "        'https://tfhub.dev/tensorflow/small_bert/bert_en_uncased_L-2_H-128_A-2/1',\n",
    "    'small_bert/bert_en_uncased_L-2_H-256_A-4':\n",
    "        'https://tfhub.dev/tensorflow/small_bert/bert_en_uncased_L-2_H-256_A-4/1',\n",
    "    'small_bert/bert_en_uncased_L-2_H-512_A-8':\n",
    "        'https://tfhub.dev/tensorflow/small_bert/bert_en_uncased_L-2_H-512_A-8/1',\n",
    "    'small_bert/bert_en_uncased_L-2_H-768_A-12':\n",
    "        'https://tfhub.dev/tensorflow/small_bert/bert_en_uncased_L-2_H-768_A-12/1',\n",
    "    'small_bert/bert_en_uncased_L-4_H-128_A-2':\n",
    "        'https://tfhub.dev/tensorflow/small_bert/bert_en_uncased_L-4_H-128_A-2/1',\n",
    "    'small_bert/bert_en_uncased_L-4_H-256_A-4':\n",
    "        'https://tfhub.dev/tensorflow/small_bert/bert_en_uncased_L-4_H-256_A-4/1',\n",
    "    'small_bert/bert_en_uncased_L-4_H-512_A-8':\n",
    "        'https://tfhub.dev/tensorflow/small_bert/bert_en_uncased_L-4_H-512_A-8/1',\n",
    "    'small_bert/bert_en_uncased_L-4_H-768_A-12':\n",
    "        'https://tfhub.dev/tensorflow/small_bert/bert_en_uncased_L-4_H-768_A-12/1',\n",
    "    'small_bert/bert_en_uncased_L-6_H-128_A-2':\n",
    "        'https://tfhub.dev/tensorflow/small_bert/bert_en_uncased_L-6_H-128_A-2/1',\n",
    "    'small_bert/bert_en_uncased_L-6_H-256_A-4':\n",
    "        'https://tfhub.dev/tensorflow/small_bert/bert_en_uncased_L-6_H-256_A-4/1',\n",
    "    'small_bert/bert_en_uncased_L-6_H-512_A-8':\n",
    "        'https://tfhub.dev/tensorflow/small_bert/bert_en_uncased_L-6_H-512_A-8/1',\n",
    "    'small_bert/bert_en_uncased_L-6_H-768_A-12':\n",
    "        'https://tfhub.dev/tensorflow/small_bert/bert_en_uncased_L-6_H-768_A-12/1',\n",
    "    'small_bert/bert_en_uncased_L-8_H-128_A-2':\n",
    "        'https://tfhub.dev/tensorflow/small_bert/bert_en_uncased_L-8_H-128_A-2/1',\n",
    "    'small_bert/bert_en_uncased_L-8_H-256_A-4':\n",
    "        'https://tfhub.dev/tensorflow/small_bert/bert_en_uncased_L-8_H-256_A-4/1',\n",
    "    'small_bert/bert_en_uncased_L-8_H-512_A-8':\n",
    "        'https://tfhub.dev/tensorflow/small_bert/bert_en_uncased_L-8_H-512_A-8/1',\n",
    "    'small_bert/bert_en_uncased_L-8_H-768_A-12':\n",
    "        'https://tfhub.dev/tensorflow/small_bert/bert_en_uncased_L-8_H-768_A-12/1',\n",
    "    'small_bert/bert_en_uncased_L-10_H-128_A-2':\n",
    "        'https://tfhub.dev/tensorflow/small_bert/bert_en_uncased_L-10_H-128_A-2/1',\n",
    "    'small_bert/bert_en_uncased_L-10_H-256_A-4':\n",
    "        'https://tfhub.dev/tensorflow/small_bert/bert_en_uncased_L-10_H-256_A-4/1',\n",
    "    'small_bert/bert_en_uncased_L-10_H-512_A-8':\n",
    "        'https://tfhub.dev/tensorflow/small_bert/bert_en_uncased_L-10_H-512_A-8/1',\n",
    "    'small_bert/bert_en_uncased_L-10_H-768_A-12':\n",
    "        'https://tfhub.dev/tensorflow/small_bert/bert_en_uncased_L-10_H-768_A-12/1',\n",
    "    'small_bert/bert_en_uncased_L-12_H-128_A-2':\n",
    "        'https://tfhub.dev/tensorflow/small_bert/bert_en_uncased_L-12_H-128_A-2/1',\n",
    "    'small_bert/bert_en_uncased_L-12_H-256_A-4':\n",
    "        'https://tfhub.dev/tensorflow/small_bert/bert_en_uncased_L-12_H-256_A-4/1',\n",
    "    'small_bert/bert_en_uncased_L-12_H-512_A-8':\n",
    "        'https://tfhub.dev/tensorflow/small_bert/bert_en_uncased_L-12_H-512_A-8/1',\n",
    "    'small_bert/bert_en_uncased_L-12_H-768_A-12':\n",
    "        'https://tfhub.dev/tensorflow/small_bert/bert_en_uncased_L-12_H-768_A-12/1',\n",
    "    'albert_en_base':\n",
    "        'https://tfhub.dev/tensorflow/albert_en_base/2',\n",
    "    'electra_small':\n",
    "        'https://tfhub.dev/google/electra_small/2',\n",
    "    'electra_base':\n",
    "        'https://tfhub.dev/google/electra_base/2',\n",
    "    'experts_pubmed':\n",
    "        'https://tfhub.dev/google/experts/bert/pubmed/2',\n",
    "    'experts_wiki_books':\n",
    "        'https://tfhub.dev/google/experts/bert/wiki_books/2',\n",
    "    'talking-heads_base':\n",
    "        'https://tfhub.dev/tensorflow/talkheads_ggelu_bert_en_base/1',\n",
    "}\n",
    "\n",
    "map_model_to_preprocess = {\n",
    "    'bert_en_uncased_L-12_H-768_A-12':\n",
    "        'https://tfhub.dev/tensorflow/bert_en_uncased_preprocess/3',\n",
    "    'bert_en_cased_L-12_H-768_A-12':\n",
    "        'https://tfhub.dev/tensorflow/bert_en_cased_preprocess/3',\n",
    "    'small_bert/bert_en_uncased_L-2_H-128_A-2':\n",
    "        'https://tfhub.dev/tensorflow/bert_en_uncased_preprocess/3',\n",
    "    'small_bert/bert_en_uncased_L-2_H-256_A-4':\n",
    "        'https://tfhub.dev/tensorflow/bert_en_uncased_preprocess/3',\n",
    "    'small_bert/bert_en_uncased_L-2_H-512_A-8':\n",
    "        'https://tfhub.dev/tensorflow/bert_en_uncased_preprocess/3',\n",
    "    'small_bert/bert_en_uncased_L-2_H-768_A-12':\n",
    "        'https://tfhub.dev/tensorflow/bert_en_uncased_preprocess/3',\n",
    "    'small_bert/bert_en_uncased_L-4_H-128_A-2':\n",
    "        'https://tfhub.dev/tensorflow/bert_en_uncased_preprocess/3',\n",
    "    'small_bert/bert_en_uncased_L-4_H-256_A-4':\n",
    "        'https://tfhub.dev/tensorflow/bert_en_uncased_preprocess/3',\n",
    "    'small_bert/bert_en_uncased_L-4_H-512_A-8':\n",
    "        'https://tfhub.dev/tensorflow/bert_en_uncased_preprocess/3',\n",
    "    'small_bert/bert_en_uncased_L-4_H-768_A-12':\n",
    "        'https://tfhub.dev/tensorflow/bert_en_uncased_preprocess/3',\n",
    "    'small_bert/bert_en_uncased_L-6_H-128_A-2':\n",
    "        'https://tfhub.dev/tensorflow/bert_en_uncased_preprocess/3',\n",
    "    'small_bert/bert_en_uncased_L-6_H-256_A-4':\n",
    "        'https://tfhub.dev/tensorflow/bert_en_uncased_preprocess/3',\n",
    "    'small_bert/bert_en_uncased_L-6_H-512_A-8':\n",
    "        'https://tfhub.dev/tensorflow/bert_en_uncased_preprocess/3',\n",
    "    'small_bert/bert_en_uncased_L-6_H-768_A-12':\n",
    "        'https://tfhub.dev/tensorflow/bert_en_uncased_preprocess/3',\n",
    "    'small_bert/bert_en_uncased_L-8_H-128_A-2':\n",
    "        'https://tfhub.dev/tensorflow/bert_en_uncased_preprocess/3',\n",
    "    'small_bert/bert_en_uncased_L-8_H-256_A-4':\n",
    "        'https://tfhub.dev/tensorflow/bert_en_uncased_preprocess/3',\n",
    "    'small_bert/bert_en_uncased_L-8_H-512_A-8':\n",
    "        'https://tfhub.dev/tensorflow/bert_en_uncased_preprocess/3',\n",
    "    'small_bert/bert_en_uncased_L-8_H-768_A-12':\n",
    "        'https://tfhub.dev/tensorflow/bert_en_uncased_preprocess/3',\n",
    "    'small_bert/bert_en_uncased_L-10_H-128_A-2':\n",
    "        'https://tfhub.dev/tensorflow/bert_en_uncased_preprocess/3',\n",
    "    'small_bert/bert_en_uncased_L-10_H-256_A-4':\n",
    "        'https://tfhub.dev/tensorflow/bert_en_uncased_preprocess/3',\n",
    "    'small_bert/bert_en_uncased_L-10_H-512_A-8':\n",
    "        'https://tfhub.dev/tensorflow/bert_en_uncased_preprocess/3',\n",
    "    'small_bert/bert_en_uncased_L-10_H-768_A-12':\n",
    "        'https://tfhub.dev/tensorflow/bert_en_uncased_preprocess/3',\n",
    "    'small_bert/bert_en_uncased_L-12_H-128_A-2':\n",
    "        'https://tfhub.dev/tensorflow/bert_en_uncased_preprocess/3',\n",
    "    'small_bert/bert_en_uncased_L-12_H-256_A-4':\n",
    "        'https://tfhub.dev/tensorflow/bert_en_uncased_preprocess/3',\n",
    "    'small_bert/bert_en_uncased_L-12_H-512_A-8':\n",
    "        'https://tfhub.dev/tensorflow/bert_en_uncased_preprocess/3',\n",
    "    'small_bert/bert_en_uncased_L-12_H-768_A-12':\n",
    "        'https://tfhub.dev/tensorflow/bert_en_uncased_preprocess/3',\n",
    "    'bert_multi_cased_L-12_H-768_A-12':\n",
    "        'https://tfhub.dev/tensorflow/bert_multi_cased_preprocess/3',\n",
    "    'albert_en_base':\n",
    "        'https://tfhub.dev/tensorflow/albert_en_preprocess/3',\n",
    "    'electra_small':\n",
    "        'https://tfhub.dev/tensorflow/bert_en_uncased_preprocess/3',\n",
    "    'electra_base':\n",
    "        'https://tfhub.dev/tensorflow/bert_en_uncased_preprocess/3',\n",
    "    'experts_pubmed':\n",
    "        'https://tfhub.dev/tensorflow/bert_en_uncased_preprocess/3',\n",
    "    'experts_wiki_books':\n",
    "        'https://tfhub.dev/tensorflow/bert_en_uncased_preprocess/3',\n",
    "    'talking-heads_base':\n",
    "        'https://tfhub.dev/tensorflow/bert_en_uncased_preprocess/3',\n",
    "}\n",
    "\n",
    "tfhub_handle_encoder = map_name_to_handle[bert_model_name]\n",
    "tfhub_handle_preprocess = map_model_to_preprocess[bert_model_name]\n",
    "\n",
    "print(f'BERT model selected           : {tfhub_handle_encoder}')\n",
    "print(f'Preprocess model auto-selected: {tfhub_handle_preprocess}')"
   ]
  },
  {
   "cell_type": "code",
   "execution_count": null,
   "id": "Dlv2ktK882aJ",
   "metadata": {
    "id": "Dlv2ktK882aJ"
   },
   "outputs": [],
   "source": [
    "reviews = review_samples['review_processed'].fillna('no review')\n",
    "labels = review_samples['useful'].astype(int)\n",
    "\n",
    "X, y = reviews, labels\n",
    "X_train, X_test, y_train, y_test = train_test_split(X, y, test_size=0.2, random_state=0)\n",
    "X_train, X_dev, y_train, y_dev = train_test_split(X_train, y_train, test_size=0.25, random_state=0)"
   ]
  },
  {
   "cell_type": "code",
   "execution_count": null,
   "id": "h25h0E9kYQr9",
   "metadata": {
    "id": "h25h0E9kYQr9"
   },
   "outputs": [],
   "source": [
    "def build_classifier_model():\n",
    "    text_input = tf.keras.layers.Input(shape=(), dtype=tf.string, name='text')\n",
    "    preprocessing_layer = hub.KerasLayer(tfhub_handle_preprocess, name='preprocessing')\n",
    "    encoder_inputs = preprocessing_layer(text_input)\n",
    "    encoder = hub.KerasLayer(tfhub_handle_encoder, trainable=True, name='BERT_encoder')\n",
    "    outputs = encoder(encoder_inputs)\n",
    "    net = outputs['pooled_output']\n",
    "    net = tf.keras.layers.Dropout(0.1)(net)\n",
    "    net = tf.keras.layers.Dense(1, activation=None, name='classifier')(net)\n",
    "    return tf.keras.Model(text_input, net)"
   ]
  },
  {
   "cell_type": "code",
   "execution_count": null,
   "id": "s3k_FS8kYQ3A",
   "metadata": {
    "colab": {
     "base_uri": "https://localhost:8080/"
    },
    "id": "s3k_FS8kYQ3A",
    "outputId": "210770c9-70df-4cb0-8a5e-39959becae32"
   },
   "outputs": [],
   "source": [
    "text_test = ['this is such an amazing movie!']\n",
    "classifier_model = build_classifier_model()\n",
    "bert_raw_result = classifier_model(tf.constant(text_test))\n",
    "print(tf.sigmoid(bert_raw_result))"
   ]
  },
  {
   "cell_type": "code",
   "execution_count": null,
   "id": "d-bTYyERYQ9c",
   "metadata": {
    "colab": {
     "base_uri": "https://localhost:8080/",
     "height": 466
    },
    "id": "d-bTYyERYQ9c",
    "outputId": "599546f3-4cb6-4534-995f-91f2d263b7a4"
   },
   "outputs": [],
   "source": [
    "tf.keras.utils.plot_model(classifier_model)"
   ]
  },
  {
   "cell_type": "code",
   "execution_count": null,
   "id": "rhP5HN9BYRCZ",
   "metadata": {
    "id": "rhP5HN9BYRCZ"
   },
   "outputs": [],
   "source": [
    "loss_func = tf.keras.losses.BinaryCrossentropy(from_logits=True)\n",
    "metrics = tf.metrics.BinaryAccuracy()"
   ]
  },
  {
   "cell_type": "code",
   "execution_count": null,
   "id": "OK7WdVPEZKqC",
   "metadata": {
    "id": "OK7WdVPEZKqC"
   },
   "outputs": [],
   "source": [
    "epochs = 5\n",
    "steps_per_epoch = len(X_train)\n",
    "num_train_steps = steps_per_epoch * epochs\n",
    "num_warmup_steps = int(0.1*num_train_steps)\n",
    "\n",
    "init_lr = 3e-5\n",
    "optimizer = optimization.create_optimizer(init_lr=init_lr,\n",
    "                                          num_train_steps=num_train_steps,\n",
    "                                          num_warmup_steps=num_warmup_steps,\n",
    "                                          optimizer_type='adamw')"
   ]
  },
  {
   "cell_type": "code",
   "execution_count": null,
   "id": "Q0C9YxpeZK2d",
   "metadata": {
    "id": "Q0C9YxpeZK2d"
   },
   "outputs": [],
   "source": [
    "classifier_model.compile(optimizer=optimizer,\n",
    "                         loss=loss_func,\n",
    "                         metrics=metrics)"
   ]
  },
  {
   "cell_type": "code",
   "execution_count": null,
   "id": "x95zEKIIZK6i",
   "metadata": {
    "colab": {
     "base_uri": "https://localhost:8080/"
    },
    "id": "x95zEKIIZK6i",
    "outputId": "9ab5d0d7-05b5-42e5-f88a-8bcf108922e2"
   },
   "outputs": [],
   "source": [
    "print(f'Training model with {tfhub_handle_encoder}')\n",
    "history = classifier_model.fit(x=X_train,\n",
    "                               y=y_train,\n",
    "                               validation_data=(X_dev, y_dev),\n",
    "                               epochs=epochs)"
   ]
  },
  {
   "cell_type": "code",
   "execution_count": null,
   "id": "1WPisSo99xn_",
   "metadata": {
    "colab": {
     "base_uri": "https://localhost:8080/",
     "height": 295
    },
    "id": "1WPisSo99xn_",
    "outputId": "1afd8241-ceb6-4d31-da04-0d6429f7d32e"
   },
   "outputs": [],
   "source": [
    "# Plot confusion matrix\n",
    "y_true = y_test\n",
    "y_pred = (classifier_model.predict(X_test) >= 0.5).astype(\"int32\")\n",
    "\n",
    "ConfusionMatrixDisplay.from_predictions(y_true,\n",
    "                                        y_pred,\n",
    "                                        normalize='all',\n",
    "                                        display_labels=sentiment\n",
    "                                       )\n",
    "\n",
    "plt.title(\"Confusion Matrix of Review Usefulness\")\n",
    "plt.show()"
   ]
  },
  {
   "cell_type": "code",
   "execution_count": null,
   "id": "VGdrC5yvZK9-",
   "metadata": {
    "colab": {
     "base_uri": "https://localhost:8080/"
    },
    "id": "VGdrC5yvZK9-",
    "outputId": "e12baff3-a110-4e35-a153-e15c92a55656"
   },
   "outputs": [],
   "source": [
    "# Evaluate model\n",
    "loss, accuracy = classifier_model.evaluate(X_test, y_test)\n",
    "precision, recall, f1, support = precision_recall_fscore_support(y_true, y_pred, average='weighted')\n",
    "print(\"Model performance metrics on test data\")\n",
    "print(\"Accuracy: {:.4f}\\nLoss: {:.4f}\\nPrecision: {:.4f}\\nRecall: {:.4f}\\nF1-score: {:.4f}\".format(acc, loss, precision, recall, f1))"
   ]
  },
  {
   "cell_type": "code",
   "execution_count": null,
   "id": "w-hck23fZLBU",
   "metadata": {
    "colab": {
     "base_uri": "https://localhost:8080/",
     "height": 439
    },
    "id": "w-hck23fZLBU",
    "outputId": "c8983f34-299e-4e14-ca11-5b3bc9e4859f"
   },
   "outputs": [],
   "source": [
    "history_dict = history.history\n",
    "print(history_dict.keys())\n",
    "\n",
    "acc = history_dict['binary_accuracy']\n",
    "val_acc = history_dict['val_binary_accuracy']\n",
    "loss = history_dict['loss']\n",
    "val_loss = history_dict['val_loss']\n",
    "\n",
    "epochs = range(1, len(acc) + 1)\n",
    "fig = plt.figure(figsize=(10, 6))\n",
    "fig.tight_layout()\n",
    "\n",
    "plt.subplot(2, 1, 1)\n",
    "# r is for \"solid red line\"\n",
    "plt.plot(epochs, loss, 'r', label='Training loss')\n",
    "# b is for \"solid blue line\"\n",
    "plt.plot(epochs, val_loss, 'b', label='Validation loss')\n",
    "plt.title('Training and validation loss')\n",
    "# plt.xlabel('Epochs')\n",
    "plt.ylabel('Loss')\n",
    "plt.legend()\n",
    "\n",
    "plt.subplot(2, 1, 2)\n",
    "plt.plot(epochs, acc, 'r', label='Training acc')\n",
    "plt.plot(epochs, val_acc, 'b', label='Validation acc')\n",
    "plt.title('Training and validation accuracy')\n",
    "plt.xlabel('Epochs')\n",
    "plt.ylabel('Accuracy')\n",
    "plt.legend(loc='lower right')"
   ]
  },
  {
   "cell_type": "markdown",
   "id": "6b9a5f5b",
   "metadata": {
    "id": "6b9a5f5b"
   },
   "source": [
    "## X.X Explanation transfer learning"
   ]
  },
  {
   "cell_type": "code",
   "execution_count": null,
   "id": "5b3cba98",
   "metadata": {
    "id": "5b3cba98"
   },
   "outputs": [],
   "source": [
    "# from transformers.models.t5 import T5Model\n",
    "from transformers import TFT5Model"
   ]
  },
  {
   "cell_type": "code",
   "execution_count": null,
   "id": "6f147ebe",
   "metadata": {
    "id": "6f147ebe"
   },
   "outputs": [],
   "source": [
    "model_args = {\n",
    "    \"reprocess_input_data\": True,\n",
    "    \"overwrite_output_dir\": True,\n",
    "    \"max_seq_length\": 128,\n",
    "    \"train_batch_size\": 8,\n",
    "    \"num_train_epochs\": 1,\n",
    "    \"save_eval_checkpoints\": True,\n",
    "    \"save_steps\": -1,\n",
    "    \"use_multiprocessing\": False,\n",
    "    \"evaluate_during_training\": True,\n",
    "    \"evaluate_during_training_steps\": 15000,\n",
    "    \"evaluate_during_training_verbose\": True,\n",
    "    \"fp16\": False,\n",
    "\n",
    "    \"wandb_project\": \"Question Generation with T5\",\n",
    "}\n",
    "\n",
    "model = TFT5Model.from_pretrained(\"t5-small\")"
   ]
  },
  {
   "cell_type": "markdown",
   "id": "b5b66424",
   "metadata": {
    "id": "b5b66424"
   },
   "source": [
    "### X.X Pre-trained sentiment span extraction model\n",
    "\n",
    "https://huggingface.co/mrm8488/t5-base-finetuned-span-sentiment-extraction"
   ]
  },
  {
   "cell_type": "code",
   "execution_count": null,
   "id": "4a18c4d1",
   "metadata": {
    "id": "4a18c4d1"
   },
   "outputs": [],
   "source": [
    "example = review_samples.iloc[2]['reviewText']"
   ]
  },
  {
   "cell_type": "code",
   "execution_count": null,
   "id": "084b4b25",
   "metadata": {
    "id": "084b4b25"
   },
   "outputs": [],
   "source": [
    "from transformers import AutoModelWithLMHead, AutoTokenizer\n",
    "\n",
    "tokenizer = AutoTokenizer.from_pretrained(\"mrm8488/t5-base-finetuned-span-sentiment-extraction\")\n",
    "model = AutoModelWithLMHead.from_pretrained(\"mrm8488/t5-base-finetuned-span-sentiment-extraction\")\n",
    "\n",
    "def get_sentiment_span(text):\n",
    "    input_ids = tokenizer.encode(text, return_tensors=\"pt\", add_special_tokens=True)  # Batch size 1\n",
    "\n",
    "    generated_ids = model.generate(input_ids=input_ids, num_beams=1, max_length=80).squeeze()\n",
    "\n",
    "    predicted_span = tokenizer.decode(generated_ids, skip_special_tokens=True, clean_up_tokenization_spaces=True)\n",
    "\n",
    "    return predicted_span\n",
    "  \n",
    "get_sentiment_span(\"question: negative context: My bike was put on hold...should have known that.... argh total bummer\")\n",
    "\n",
    "# output: 'argh total bummer'\n",
    "\n",
    "get_sentiment_span(\"question: positive context: On the monday, so i wont be able to be with you! i love you\")\n",
    "\n",
    "# output: 'i love you'"
   ]
  },
  {
   "cell_type": "code",
   "execution_count": null,
   "id": "9386f8ca",
   "metadata": {
    "id": "9386f8ca"
   },
   "outputs": [],
   "source": [
    "get_sentiment_span(\"question: negative context: {}\".format(example))"
   ]
  },
  {
   "cell_type": "code",
   "execution_count": null,
   "id": "19797147",
   "metadata": {
    "id": "19797147"
   },
   "outputs": [],
   "source": [
    "review_samples.iloc[2]['reviewText']"
   ]
  },
  {
   "cell_type": "code",
   "execution_count": null,
   "id": "c8c98f0d",
   "metadata": {
    "id": "c8c98f0d"
   },
   "outputs": [],
   "source": []
  }
 ],
 "metadata": {
  "accelerator": "GPU",
  "colab": {
   "name": "model-selection.ipynb",
   "provenance": []
  },
  "kernelspec": {
   "display_name": "Python 3 (ipykernel)",
   "language": "python",
   "name": "python3"
  },
  "language_info": {
   "codemirror_mode": {
    "name": "ipython",
    "version": 3
   },
   "file_extension": ".py",
   "mimetype": "text/x-python",
   "name": "python",
   "nbconvert_exporter": "python",
   "pygments_lexer": "ipython3",
   "version": "3.8.8"
  }
 },
 "nbformat": 4,
 "nbformat_minor": 5
}
