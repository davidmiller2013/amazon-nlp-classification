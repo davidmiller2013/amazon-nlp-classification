{
  "cells": [
    {
      "cell_type": "markdown",
      "id": "20bb2820",
      "metadata": {
        "id": "20bb2820"
      },
      "source": [
        "# Model selection and evaluation"
      ]
    },
    {
      "cell_type": "markdown",
      "id": "18ca5f9b",
      "metadata": {
        "id": "18ca5f9b"
      },
      "source": [
        "__Notes__\n",
        "\n",
        "1. Create set of rules for what reviews to accept or throw out\n",
        "    1. Min or max number of words\n",
        "    1. Include URLs or not\n",
        "    1. Emojis\n",
        "    1. Eliminate stop words\n",
        "    \n",
        "1. Model selection\n",
        "    1. CNN for usefulness\n",
        "    1. Sample from useful reviews only\n",
        "    1. Setup T5 transfering learning model to generate \"justification\" text\n",
        "\n",
        "- LSTM is good\n",
        "    - You can add in an attention layer because it can look backwards and learn what words were more important than others\n",
        "- CNN is good for sentence classification \n",
        "    - With a fully connected Dense layer it is not good at generalizing\n",
        "- BERT is good because of its self-attention mechanism where every word looks at every other layer\n",
        "    - Use the CLS token as the only thing you feed into the output layer that is going to make the prediction on the classification"
      ]
    },
    {
      "cell_type": "markdown",
      "id": "835c4870",
      "metadata": {
        "id": "835c4870"
      },
      "source": [
        "## 0.0 Notebook setup"
      ]
    },
    {
      "cell_type": "markdown",
      "id": "d6e531ea",
      "metadata": {
        "id": "d6e531ea"
      },
      "source": [
        "### X.X Colab Setup"
      ]
    },
    {
      "cell_type": "code",
      "execution_count": 1,
      "id": "aX0IHvqPrB9h",
      "metadata": {
        "colab": {
          "base_uri": "https://localhost:8080/"
        },
        "id": "aX0IHvqPrB9h",
        "outputId": "52ace549-e514-400f-d294-49b68fdbaa56"
      },
      "outputs": [
        {
          "output_type": "stream",
          "name": "stdout",
          "text": [
            "Mounted at /content/gdrive/\n"
          ]
        }
      ],
      "source": [
        "from google.colab import drive\n",
        "drive.mount('/content/gdrive/', force_remount=True)"
      ]
    },
    {
      "cell_type": "code",
      "execution_count": 2,
      "id": "9vnzzqbdraH_",
      "metadata": {
        "id": "9vnzzqbdraH_"
      },
      "outputs": [],
      "source": [
        "! mkdir data"
      ]
    },
    {
      "cell_type": "code",
      "execution_count": 49,
      "id": "0A4JchtFtgsT",
      "metadata": {
        "id": "0A4JchtFtgsT"
      },
      "outputs": [],
      "source": [
        "! rm ./data/electronics.csv\n",
        "! cp \"/content/gdrive/My Drive/nlp-book-reviews/data/electronics.csv\" ./data/"
      ]
    },
    {
      "cell_type": "code",
      "execution_count": 4,
      "id": "ncWfMYNDwGnj",
      "metadata": {
        "colab": {
          "base_uri": "https://localhost:8080/",
          "height": 35
        },
        "id": "ncWfMYNDwGnj",
        "outputId": "4a730ef1-dc1e-4b6d-d418-bb801c466418"
      },
      "outputs": [
        {
          "output_type": "execute_result",
          "data": {
            "text/plain": [
              "'/device:GPU:0'"
            ],
            "application/vnd.google.colaboratory.intrinsic+json": {
              "type": "string"
            }
          },
          "metadata": {},
          "execution_count": 4
        }
      ],
      "source": [
        "import tensorflow as tf\n",
        "tf.test.gpu_device_name()"
      ]
    },
    {
      "cell_type": "code",
      "execution_count": 5,
      "id": "VIpdJLpswGLc",
      "metadata": {
        "colab": {
          "base_uri": "https://localhost:8080/"
        },
        "id": "VIpdJLpswGLc",
        "outputId": "e604eae3-efc3-490b-d433-fddb99168696"
      },
      "outputs": [
        {
          "output_type": "execute_result",
          "data": {
            "text/plain": [
              "[name: \"/device:CPU:0\"\n",
              " device_type: \"CPU\"\n",
              " memory_limit: 268435456\n",
              " locality {\n",
              " }\n",
              " incarnation: 8755117144392573221\n",
              " xla_global_id: -1, name: \"/device:GPU:0\"\n",
              " device_type: \"GPU\"\n",
              " memory_limit: 11320098816\n",
              " locality {\n",
              "   bus_id: 1\n",
              "   links {\n",
              "   }\n",
              " }\n",
              " incarnation: 3981869905917497439\n",
              " physical_device_desc: \"device: 0, name: Tesla K80, pci bus id: 0000:00:04.0, compute capability: 3.7\"\n",
              " xla_global_id: 416903419]"
            ]
          },
          "metadata": {},
          "execution_count": 5
        }
      ],
      "source": [
        "from tensorflow.python.client import device_lib\n",
        "device_lib.list_local_devices()"
      ]
    },
    {
      "cell_type": "code",
      "execution_count": 6,
      "id": "IcYfIaElNZwb",
      "metadata": {
        "colab": {
          "base_uri": "https://localhost:8080/"
        },
        "id": "IcYfIaElNZwb",
        "outputId": "9812d193-ca49-4b8e-8262-d14571aff740"
      },
      "outputs": [
        {
          "output_type": "stream",
          "name": "stdout",
          "text": [
            "\u001b[K     |████████████████████████████████| 3.8 MB 5.3 MB/s \n",
            "\u001b[K     |████████████████████████████████| 6.5 MB 35.3 MB/s \n",
            "\u001b[K     |████████████████████████████████| 596 kB 44.0 MB/s \n",
            "\u001b[K     |████████████████████████████████| 67 kB 4.5 MB/s \n",
            "\u001b[K     |████████████████████████████████| 895 kB 35.4 MB/s \n",
            "\u001b[?25h"
          ]
        }
      ],
      "source": [
        "!pip install --quiet transformers"
      ]
    },
    {
      "cell_type": "markdown",
      "id": "7631b809",
      "metadata": {
        "id": "7631b809"
      },
      "source": [
        "### X.X Local setup"
      ]
    },
    {
      "cell_type": "code",
      "execution_count": 7,
      "id": "3f0320af",
      "metadata": {
        "id": "3f0320af"
      },
      "outputs": [],
      "source": [
        "import warnings\n",
        "\n",
        "warnings.simplefilter(\"ignore\", UserWarning)\n",
        "warnings.simplefilter(\"ignore\", FutureWarning)\n",
        "warnings.simplefilter(\"ignore\", DeprecationWarning)"
      ]
    },
    {
      "cell_type": "code",
      "execution_count": 8,
      "id": "3abac3ad",
      "metadata": {
        "id": "3abac3ad"
      },
      "outputs": [],
      "source": [
        "# Statistics\n",
        "import numpy as np\n",
        "import pandas as pd\n",
        "from scipy.stats import chi2_contingency, norm, skew, kurtosis\n",
        "\n",
        "# Visualization\n",
        "%matplotlib inline\n",
        "import matplotlib.pyplot as plt\n",
        "import seaborn as sns\n",
        "\n",
        "# Model selection and evaluation\n",
        "from sklearn.model_selection import train_test_split\n",
        "from sklearn.metrics import confusion_matrix, ConfusionMatrixDisplay\n",
        "from sklearn.metrics import classification_report, precision_recall_fscore_support, roc_curve, auc, accuracy_score\n",
        "\n",
        "# Model building\n",
        "from sklearn.naive_bayes import MultinomialNB\n",
        "from sklearn.feature_extraction.text import TfidfVectorizer\n",
        "\n",
        "import tensorflow as tf\n",
        "import keras\n",
        "from keras.preprocessing.text import Tokenizer\n",
        "from keras.preprocessing.sequence import pad_sequences\n",
        "from keras.models import Sequential\n",
        "from keras.layers import Embedding, Bidirectional, Dense, Flatten, LSTM\n",
        "from keras.layers.convolutional import Conv1D\n",
        "from keras.layers.convolutional import MaxPooling1D\n",
        "\n",
        "# BERT-specific\n",
        "from transformers import BertTokenizer, TFBertForSequenceClassification\n",
        "from transformers import InputExample, InputFeatures"
      ]
    },
    {
      "cell_type": "code",
      "execution_count": 50,
      "id": "768f4b5c",
      "metadata": {
        "id": "768f4b5c"
      },
      "outputs": [],
      "source": [
        "# Local\n",
        "# data = '../data/review_samples.csv'\n",
        "\n",
        "# Colab\n",
        "data = './data/electronics.csv'\n",
        "\n",
        "review_samples = pd.read_csv(data)"
      ]
    },
    {
      "cell_type": "markdown",
      "id": "72ffdf0f",
      "metadata": {
        "id": "72ffdf0f"
      },
      "source": [
        "## X.X Usefulness language modeling"
      ]
    },
    {
      "cell_type": "code",
      "source": [
        "review_samples['useful'].value_counts()"
      ],
      "metadata": {
        "id": "8FObWP5p2qGn",
        "outputId": "ce6a10b3-87a5-4f35-cbda-bd1321a12914",
        "colab": {
          "base_uri": "https://localhost:8080/"
        }
      },
      "id": "8FObWP5p2qGn",
      "execution_count": 52,
      "outputs": [
        {
          "output_type": "execute_result",
          "data": {
            "text/plain": [
              "1    732\n",
              "0    506\n",
              "Name: useful, dtype: int64"
            ]
          },
          "metadata": {},
          "execution_count": 52
        }
      ]
    },
    {
      "cell_type": "code",
      "execution_count": 53,
      "id": "40kfYLJRty7a",
      "metadata": {
        "id": "40kfYLJRty7a"
      },
      "outputs": [],
      "source": [
        "reviews = review_samples['review_processed'].fillna('no review')\n",
        "labels = review_samples['useful'].astype(int)\n",
        "sentiment = ['Not Useful', 'Useful']"
      ]
    },
    {
      "cell_type": "markdown",
      "id": "1cc10c6c",
      "metadata": {
        "id": "1cc10c6c"
      },
      "source": [
        "### X.X Baseline - Naive Bayes"
      ]
    },
    {
      "cell_type": "code",
      "execution_count": 54,
      "id": "e6197a23",
      "metadata": {
        "id": "e6197a23"
      },
      "outputs": [],
      "source": [
        "X_train, X_test, y_train, y_test = train_test_split(reviews, labels, test_size=0.2, random_state=0)\n",
        "X_train, X_dev, y_train, y_dev = train_test_split(X_train, y_train, test_size=0.25, random_state=0)\n",
        "\n",
        "tf_idf = TfidfVectorizer(ngram_range=(1, 3),\n",
        "                         binary=True,\n",
        "                         smooth_idf=False)\n",
        "\n",
        "X_train_tfidf = tf_idf.fit_transform(X_train)\n",
        "X_dev_tfidf = tf_idf.transform(X_dev)\n",
        "X_test_tfidf = tf_idf.transform(X_test)"
      ]
    },
    {
      "cell_type": "code",
      "execution_count": 55,
      "id": "360bf0a0",
      "metadata": {
        "colab": {
          "base_uri": "https://localhost:8080/"
        },
        "id": "360bf0a0",
        "outputId": "3f404975-66b6-4bdd-9c8a-054ab6b80cd0"
      },
      "outputs": [
        {
          "output_type": "execute_result",
          "data": {
            "text/plain": [
              "MultinomialNB(alpha=1.8)"
            ]
          },
          "metadata": {},
          "execution_count": 55
        }
      ],
      "source": [
        "# Build model\n",
        "nb_model = MultinomialNB(alpha=1.8)\n",
        "\n",
        "# Fit model\n",
        "nb_model.fit(X_train_tfidf, y_train)"
      ]
    },
    {
      "cell_type": "code",
      "execution_count": 56,
      "id": "3fe5c18b",
      "metadata": {
        "colab": {
          "base_uri": "https://localhost:8080/"
        },
        "id": "3fe5c18b",
        "outputId": "b454dbd2-b7bc-4f69-dada-6a23124cd086"
      },
      "outputs": [
        {
          "output_type": "stream",
          "name": "stdout",
          "text": [
            "0.8638814016172507 0.5725806451612904 0.6048387096774194\n"
          ]
        }
      ],
      "source": [
        "# Evaluate model on dev data\n",
        "train_acc = nb_model.score(X_train_tfidf, y_train)\n",
        "dev_acc = nb_model.score(X_dev_tfidf, y_dev)\n",
        "test_acc = nb_model.score(X_test_tfidf, y_test)\n",
        "\n",
        "print(train_acc, dev_acc, test_acc)"
      ]
    },
    {
      "cell_type": "code",
      "execution_count": 57,
      "id": "7add20ab",
      "metadata": {
        "colab": {
          "base_uri": "https://localhost:8080/",
          "height": 295
        },
        "id": "7add20ab",
        "outputId": "357f2fbc-e49b-4c81-e2c9-500166a9ff8e"
      },
      "outputs": [
        {
          "output_type": "display_data",
          "data": {
            "text/plain": [
              "<Figure size 432x288 with 2 Axes>"
            ],
            "image/png": "[encoded data removed]"
          },
          "metadata": {
            "needs_background": "light"
          }
        }
      ],
      "source": [
        "# Evaluate model on test data and plot confusion matrix\n",
        "y_true = y_test\n",
        "y_pred = nb_model.predict(X_test_tfidf)\n",
        "\n",
        "ConfusionMatrixDisplay.from_predictions(y_true,\n",
        "                                        y_pred,\n",
        "                                        normalize='all',\n",
        "                                        display_labels=sentiment\n",
        "                                       )\n",
        "\n",
        "plt.title(\"Confusion Matrix of Review Usefulness\")\n",
        "plt.show()"
      ]
    },
    {
      "cell_type": "code",
      "execution_count": 58,
      "id": "d9b80b15",
      "metadata": {
        "id": "d9b80b15",
        "outputId": "5650d3ed-22cf-4cf3-9d11-17337155edf7",
        "colab": {
          "base_uri": "https://localhost:8080/",
          "height": 312
        }
      },
      "outputs": [
        {
          "output_type": "stream",
          "name": "stdout",
          "text": [
            "AUC: 0.4985\n"
          ]
        },
        {
          "output_type": "display_data",
          "data": {
            "text/plain": [
              "<Figure size 432x288 with 1 Axes>"
            ],
            "image/png": "[encoded data removed]"
          },
          "metadata": {
            "needs_background": "light"
          }
        }
      ],
      "source": [
        "fpr, tpr, threshold = roc_curve(y_true, y_pred)\n",
        "roc_auc = auc(fpr, tpr)\n",
        "print(f'AUC: {roc_auc:.4f}')\n",
        "\n",
        "# Plot ROC AUC\n",
        "plt.title('Receiver Operating Characteristic')\n",
        "plt.plot(fpr, tpr, 'b', label = 'AUC = %0.2f' % roc_auc)\n",
        "plt.legend(loc = 'lower right')\n",
        "plt.plot([0, 1], [0, 1],'r--')\n",
        "plt.xlim([0, 1])\n",
        "plt.ylim([0, 1])\n",
        "plt.ylabel('True Positive Rate')\n",
        "plt.xlabel('False Positive Rate')\n",
        "plt.show()"
      ]
    },
    {
      "cell_type": "markdown",
      "id": "c4693fae",
      "metadata": {
        "id": "c4693fae"
      },
      "source": [
        "### X.X Bi-directional LSTM"
      ]
    },
    {
      "cell_type": "code",
      "execution_count": 59,
      "id": "10c5748e",
      "metadata": {
        "id": "10c5748e"
      },
      "outputs": [],
      "source": [
        "# Set tokenization parameters\n",
        "num_words = None\n",
        "oov_token = '<UNK>'\n",
        "pad_type = 'post'\n",
        "trunc_type = 'post'\n",
        "\n",
        "# Tokenize review text\n",
        "tokenizer = Tokenizer(num_words=num_words, oov_token=oov_token)\n",
        "tokenizer.fit_on_texts(reviews)\n",
        "sequences = tokenizer.texts_to_sequences(reviews)\n",
        "\n",
        "# Additional tokenization parameters\n",
        "# max_words = len(tokenizer.word_index)\n",
        "# max_len = max([len(x) for x in sequences])\n",
        "max_words = 5000\n",
        "max_len = 125\n",
        "\n",
        "# Pad review text tokens\n",
        "reviews_tokens = pad_sequences(sequences, padding=pad_type, truncating=trunc_type, maxlen=max_len)\n",
        "\n",
        "# Create usefulness target variable\n",
        "labels = review_samples['useful']\n",
        "labels = tf.keras.utils.to_categorical(labels, num_classes=2, dtype=\"float32\")\n"
      ]
    },
    {
      "cell_type": "code",
      "execution_count": 60,
      "id": "80397fe8",
      "metadata": {
        "colab": {
          "base_uri": "https://localhost:8080/"
        },
        "id": "80397fe8",
        "outputId": "b908b27b-f2a8-43bc-8a7f-db510782cd91"
      },
      "outputs": [
        {
          "output_type": "execute_result",
          "data": {
            "text/plain": [
              "(5000, 125)"
            ]
          },
          "metadata": {},
          "execution_count": 60
        }
      ],
      "source": [
        "(max_words, max_len)"
      ]
    },
    {
      "cell_type": "code",
      "execution_count": 61,
      "id": "388769b8",
      "metadata": {
        "id": "388769b8"
      },
      "outputs": [],
      "source": [
        "# Set model hyperparamters\n",
        "epochs = 10\n",
        "batch_size = 32\n",
        "dropout_rate = 0.7\n",
        "num_classes = len(np.unique(labels, axis=0))\n",
        "opt = tf.keras.optimizers.Adam(learning_rate=0.001,\n",
        "                               epsilon=0.00000001,\n",
        "                               clipnorm=1.0\n",
        "                              )\n",
        "loss = 'binary_crossentropy'\n",
        "metrics = ['accuracy']"
      ]
    },
    {
      "cell_type": "code",
      "execution_count": 62,
      "id": "a1bb450b",
      "metadata": {
        "id": "a1bb450b"
      },
      "outputs": [],
      "source": [
        "# Split data into train, dev, and test sets\n",
        "X_train, X_test, y_train, y_test = train_test_split(reviews_tokens, labels, test_size=0.2, random_state=0)\n",
        "X_train, X_dev, y_train, y_dev = train_test_split(X_train, y_train, test_size=0.25, random_state=0)"
      ]
    },
    {
      "cell_type": "code",
      "execution_count": 63,
      "id": "3a332016",
      "metadata": {
        "colab": {
          "base_uri": "https://localhost:8080/"
        },
        "id": "3a332016",
        "outputId": "37477f40-90de-475a-d3cc-94736c2f2e66"
      },
      "outputs": [
        {
          "output_type": "execute_result",
          "data": {
            "text/plain": [
              "(248, 2)"
            ]
          },
          "metadata": {},
          "execution_count": 63
        }
      ],
      "source": [
        "y_test.shape"
      ]
    },
    {
      "cell_type": "code",
      "execution_count": 64,
      "id": "e6556cac",
      "metadata": {
        "colab": {
          "base_uri": "https://localhost:8080/"
        },
        "id": "e6556cac",
        "outputId": "d9247f52-8b62-43a6-dc17-a8d4628308a8"
      },
      "outputs": [
        {
          "output_type": "stream",
          "name": "stdout",
          "text": [
            "Model: \"sequential_1\"\n",
            "_________________________________________________________________\n",
            " Layer (type)                Output Shape              Param #   \n",
            "=================================================================\n",
            " embedding_1 (Embedding)     (None, 125, 40)           200000    \n",
            "                                                                 \n",
            " bidirectional_1 (Bidirectio  (None, 40)               9760      \n",
            " nal)                                                            \n",
            "                                                                 \n",
            " dense_1 (Dense)             (None, 2)                 82        \n",
            "                                                                 \n",
            "=================================================================\n",
            "Total params: 209,842\n",
            "Trainable params: 209,842\n",
            "Non-trainable params: 0\n",
            "_________________________________________________________________\n"
          ]
        }
      ],
      "source": [
        "# Build model\n",
        "lstm_model = Sequential()\n",
        "lstm_model.add(Embedding(max_words, 40, input_length=max_len))\n",
        "lstm_model.add(Bidirectional(LSTM(20, dropout=dropout_rate)))\n",
        "lstm_model.add(Dense(2, activation='softmax'))\n",
        "lstm_model.compile(optimizer=opt, loss=loss, metrics=metrics)\n",
        "lstm_model.summary()"
      ]
    },
    {
      "cell_type": "code",
      "execution_count": 65,
      "id": "_LMuy-3QVWqh",
      "metadata": {
        "colab": {
          "base_uri": "https://localhost:8080/"
        },
        "id": "_LMuy-3QVWqh",
        "outputId": "0b87bfad-e56c-4380-dc6b-dab58041d2aa"
      },
      "outputs": [
        {
          "output_type": "stream",
          "name": "stdout",
          "text": [
            "Epoch 1/10\n",
            "24/24 - 6s - loss: 0.6858 - accuracy: 0.5889 - val_loss: 0.6823 - val_accuracy: 0.5685 - 6s/epoch - 255ms/step\n",
            "Epoch 2/10\n",
            "24/24 - 1s - loss: 0.6750 - accuracy: 0.5930 - val_loss: 0.6788 - val_accuracy: 0.5685 - 1s/epoch - 49ms/step\n",
            "Epoch 3/10\n",
            "24/24 - 1s - loss: 0.6595 - accuracy: 0.6051 - val_loss: 0.6734 - val_accuracy: 0.6129 - 1s/epoch - 49ms/step\n",
            "Epoch 4/10\n",
            "24/24 - 1s - loss: 0.6363 - accuracy: 0.6415 - val_loss: 0.6709 - val_accuracy: 0.6048 - 1s/epoch - 49ms/step\n",
            "Epoch 5/10\n",
            "24/24 - 1s - loss: 0.5874 - accuracy: 0.6644 - val_loss: 0.6920 - val_accuracy: 0.6129 - 1s/epoch - 49ms/step\n",
            "Epoch 6/10\n",
            "24/24 - 1s - loss: 0.5087 - accuracy: 0.7493 - val_loss: 0.7966 - val_accuracy: 0.6210 - 1s/epoch - 49ms/step\n",
            "Epoch 7/10\n",
            "24/24 - 1s - loss: 0.4531 - accuracy: 0.8046 - val_loss: 0.7721 - val_accuracy: 0.5605 - 1s/epoch - 49ms/step\n",
            "Epoch 8/10\n",
            "24/24 - 1s - loss: 0.3968 - accuracy: 0.8544 - val_loss: 0.8010 - val_accuracy: 0.5524 - 1s/epoch - 49ms/step\n",
            "Epoch 9/10\n",
            "24/24 - 1s - loss: 0.3461 - accuracy: 0.8706 - val_loss: 0.9177 - val_accuracy: 0.6048 - 1s/epoch - 49ms/step\n",
            "Epoch 10/10\n",
            "24/24 - 1s - loss: 0.3207 - accuracy: 0.8720 - val_loss: 0.8852 - val_accuracy: 0.5524 - 1s/epoch - 49ms/step\n"
          ]
        },
        {
          "output_type": "execute_result",
          "data": {
            "text/plain": [
              "<keras.callbacks.History at 0x7f7f95d8ab10>"
            ]
          },
          "metadata": {},
          "execution_count": 65
        }
      ],
      "source": [
        "# Fit model\n",
        "lstm_model.fit(X_train, y_train, validation_data=(X_dev, y_dev), epochs=epochs, batch_size=batch_size, verbose=2)"
      ]
    },
    {
      "cell_type": "code",
      "execution_count": 66,
      "id": "fb4bcaea",
      "metadata": {
        "colab": {
          "base_uri": "https://localhost:8080/"
        },
        "id": "fb4bcaea",
        "outputId": "ebb420d2-fee5-444c-f971-d79c4396cd21"
      },
      "outputs": [
        {
          "output_type": "stream",
          "name": "stdout",
          "text": [
            "8/8 [==============================] - 0s 19ms/step - loss: 0.8553 - accuracy: 0.5766\n"
          ]
        },
        {
          "output_type": "execute_result",
          "data": {
            "text/plain": [
              "[0.8552992939949036, 0.5766128897666931]"
            ]
          },
          "metadata": {},
          "execution_count": 66
        }
      ],
      "source": [
        "# Evaluate model\n",
        "lstm_model.evaluate(X_test, y_test, verbose=1)"
      ]
    },
    {
      "cell_type": "code",
      "execution_count": 67,
      "id": "e7d45011",
      "metadata": {
        "colab": {
          "base_uri": "https://localhost:8080/",
          "height": 295
        },
        "id": "e7d45011",
        "outputId": "653dac15-3ac0-4cd8-914c-29d76e27b632"
      },
      "outputs": [
        {
          "output_type": "display_data",
          "data": {
            "text/plain": [
              "<Figure size 432x288 with 2 Axes>"
            ],
            "image/png": "[encoded data removed]"
          },
          "metadata": {
            "needs_background": "light"
          }
        }
      ],
      "source": [
        "# Plot confusion matrix\n",
        "y_true = y_test.argmax(axis=1)\n",
        "y_pred = np.argmax(lstm_model.predict(X_test), axis=1)\n",
        "\n",
        "ConfusionMatrixDisplay.from_predictions(y_true,\n",
        "                                        y_pred,\n",
        "                                        normalize='all',\n",
        "                                        display_labels=sentiment\n",
        "                                       )\n",
        "\n",
        "plt.title(\"Confusion Matrix of Review Usefulness\")\n",
        "plt.show()"
      ]
    },
    {
      "cell_type": "code",
      "execution_count": 68,
      "id": "8d2af57c",
      "metadata": {
        "colab": {
          "base_uri": "https://localhost:8080/"
        },
        "id": "8d2af57c",
        "outputId": "7d0b145f-d65f-4172-de5e-32def5b5407b"
      },
      "outputs": [
        {
          "output_type": "stream",
          "name": "stdout",
          "text": [
            "              precision    recall  f1-score   support\n",
            "\n",
            "           0       0.47      0.63      0.54        97\n",
            "           1       0.69      0.54      0.61       151\n",
            "\n",
            "    accuracy                           0.58       248\n",
            "   macro avg       0.58      0.59      0.57       248\n",
            "weighted avg       0.61      0.58      0.58       248\n",
            "\n"
          ]
        }
      ],
      "source": [
        "print(classification_report(y_true, y_pred))"
      ]
    },
    {
      "cell_type": "code",
      "execution_count": 69,
      "id": "c1vo5zLjjIFI",
      "metadata": {
        "id": "c1vo5zLjjIFI"
      },
      "outputs": [],
      "source": [
        "example0 = \"Golf tips magazine is one of the most aptly titled magazines available today. \\\n",
        "            It is chock full of heavily-illustrated exercises and other tips for serious golfers to improve their games.\\\n",
        "            \\nThere are a number of golf magazines on the newstand today. Most of them rely on a lifestyle format relying \\\n",
        "            more heavily on lifestyle-type stories about today's hot golfers and the courses they play. Most of them include \\\n",
        "            a brief game tip or two but seem aimed at the casual duffer.\\nGolf Tips, on the other hand, features almost nothing \\\n",
        "            but heavily illustrated tips on improving one's swing, eliminating mistakes and putting better. It also is heavily \\\n",
        "            loaded with features on the latest equipment technology. Each issue also seems to feature an article on the technical \\\n",
        "            aspects of a selected major golf course. The articles are written with terminology that serious golfers will understand \\\n",
        "            but that may confuse the weekend player. Judging by the amount of advertising in its early issues, this magazine also \\\n",
        "            appears to be financially healthy.\\nIf a reader wants to read about the PGA Tour's superstars, this magazine is not for \\\n",
        "            him/her. But if s/he plans to be one of those superstars, Golf Tips is a good match.\"\n",
        "\n",
        "example1 = \"The information is interesting and fun, the writing is superb, and the writers and editors have a great sense of humor. \\\n",
        "            I just wish it came out more often!\"\n",
        "\n",
        "example2 = \"this data science article is the best ever\"\n",
        "\n",
        "example3 = \"i really loved how the technician helped me with the issue that i had\"\n",
        "\n",
        "example4 = \"useless comment\"\n",
        "\n",
        "examples = [example0, example1, example2, example3, example4]"
      ]
    },
    {
      "cell_type": "code",
      "execution_count": 70,
      "id": "jgzWpxYcIx0G",
      "metadata": {
        "colab": {
          "base_uri": "https://localhost:8080/"
        },
        "id": "jgzWpxYcIx0G",
        "outputId": "42ca99b9-9ff3-4f43-cebc-cbed38226837"
      },
      "outputs": [
        {
          "output_type": "stream",
          "name": "stdout",
          "text": [
            "0 : Useful\n",
            "1 : Not Useful\n",
            "2 : Not Useful\n",
            "3 : Not Useful\n",
            "4 : Not Useful\n"
          ]
        }
      ],
      "source": [
        "def test_examples(model, examples):\n",
        "    for idx, example in enumerate(examples):\n",
        "        sequence = tokenizer.texts_to_sequences([example])\n",
        "        test = pad_sequences(sequence, maxlen=max_len)\n",
        "        prediction = sentiment[np.around(model.predict(test), decimals=0).argmax(axis=1)[0]]\n",
        "        print(idx, \":\", prediction)\n",
        "    \n",
        "test_examples(lstm_model, examples)"
      ]
    },
    {
      "cell_type": "markdown",
      "id": "8d132915",
      "metadata": {
        "id": "8d132915"
      },
      "source": [
        "### X.X Convolutional neural network"
      ]
    },
    {
      "cell_type": "code",
      "execution_count": 73,
      "id": "ce97448e",
      "metadata": {
        "id": "ce97448e"
      },
      "outputs": [],
      "source": [
        "# # Change data type from float to int\n",
        "y_train = np.array([list(i).index(max(i)) for i in y_train])\n",
        "y_dev = np.array([list(i).index(max(i)) for i in y_dev])\n",
        "y_test = np.array([list(i).index(max(i)) for i in y_test])\n",
        "\n",
        "# labels = review_samples['useful'].astype(int)\n",
        "# X_train, X_test, y_train, y_test = train_test_split(reviews, labels, test_size=0.2, random_state=0)\n",
        "# X_train, X_dev, y_train, y_dev = train_test_split(X_train, y_train, test_size=0.25, random_state=0)"
      ]
    },
    {
      "cell_type": "code",
      "execution_count": 74,
      "id": "ba5c3da7",
      "metadata": {
        "colab": {
          "base_uri": "https://localhost:8080/"
        },
        "id": "ba5c3da7",
        "outputId": "18d8b478-4a9f-44b8-90e4-000469832e34"
      },
      "outputs": [
        {
          "output_type": "execute_result",
          "data": {
            "text/plain": [
              "(248,)"
            ]
          },
          "metadata": {},
          "execution_count": 74
        }
      ],
      "source": [
        "y_test.shape"
      ]
    },
    {
      "cell_type": "code",
      "execution_count": 75,
      "id": "25ec148a",
      "metadata": {
        "colab": {
          "base_uri": "https://localhost:8080/"
        },
        "id": "25ec148a",
        "outputId": "7523447b-d780-4964-87ca-c744704cea00"
      },
      "outputs": [
        {
          "output_type": "stream",
          "name": "stdout",
          "text": [
            "Model: \"sequential_3\"\n",
            "_________________________________________________________________\n",
            " Layer (type)                Output Shape              Param #   \n",
            "=================================================================\n",
            " embedding_3 (Embedding)     (None, 125, 32)           160000    \n",
            "                                                                 \n",
            " conv1d_1 (Conv1D)           (None, 125, 32)           3104      \n",
            "                                                                 \n",
            " max_pooling1d_1 (MaxPooling  (None, 62, 32)           0         \n",
            " 1D)                                                             \n",
            "                                                                 \n",
            " flatten_1 (Flatten)         (None, 1984)              0         \n",
            "                                                                 \n",
            " dense_4 (Dense)             (None, 250)               496250    \n",
            "                                                                 \n",
            " dense_5 (Dense)             (None, 1)                 251       \n",
            "                                                                 \n",
            "=================================================================\n",
            "Total params: 659,605\n",
            "Trainable params: 659,605\n",
            "Non-trainable params: 0\n",
            "_________________________________________________________________\n"
          ]
        }
      ],
      "source": [
        "# Build model\n",
        "cnn_model = Sequential()\n",
        "cnn_model.add(Embedding(max_words, 32, input_length=max_len))\n",
        "cnn_model.add(Conv1D(32, 3, padding='same', activation='relu'))\n",
        "cnn_model.add(MaxPooling1D())\n",
        "cnn_model.add(Flatten())\n",
        "cnn_model.add(Dense(250, activation='relu'))\n",
        "cnn_model.add(Dense(1, activation='sigmoid'))\n",
        "cnn_model.compile(optimizer=opt, loss=loss, metrics=metrics)\n",
        "cnn_model.summary()\n"
      ]
    },
    {
      "cell_type": "code",
      "execution_count": 76,
      "id": "540787cc",
      "metadata": {
        "colab": {
          "base_uri": "https://localhost:8080/"
        },
        "id": "540787cc",
        "outputId": "daffeea7-1866-4558-eb2f-960864e32086"
      },
      "outputs": [
        {
          "output_type": "stream",
          "name": "stdout",
          "text": [
            "Epoch 1/10\n",
            "24/24 - 8s - loss: 0.6689 - accuracy: 0.6051 - val_loss: 0.6927 - val_accuracy: 0.5685 - 8s/epoch - 314ms/step\n",
            "Epoch 2/10\n",
            "24/24 - 0s - loss: 0.5326 - accuracy: 0.6725 - val_loss: 0.6932 - val_accuracy: 0.5565 - 185ms/epoch - 8ms/step\n",
            "Epoch 3/10\n",
            "24/24 - 0s - loss: 0.2709 - accuracy: 0.8949 - val_loss: 0.9215 - val_accuracy: 0.5806 - 233ms/epoch - 10ms/step\n",
            "Epoch 4/10\n",
            "24/24 - 0s - loss: 0.1299 - accuracy: 0.9434 - val_loss: 1.0831 - val_accuracy: 0.5645 - 182ms/epoch - 8ms/step\n",
            "Epoch 5/10\n",
            "24/24 - 0s - loss: 0.0759 - accuracy: 0.9730 - val_loss: 1.2695 - val_accuracy: 0.5806 - 189ms/epoch - 8ms/step\n",
            "Epoch 6/10\n",
            "24/24 - 0s - loss: 0.0598 - accuracy: 0.9744 - val_loss: 1.3936 - val_accuracy: 0.5887 - 187ms/epoch - 8ms/step\n",
            "Epoch 7/10\n",
            "24/24 - 0s - loss: 0.0419 - accuracy: 0.9838 - val_loss: 1.3362 - val_accuracy: 0.5645 - 192ms/epoch - 8ms/step\n",
            "Epoch 8/10\n",
            "24/24 - 0s - loss: 0.0348 - accuracy: 0.9879 - val_loss: 1.4251 - val_accuracy: 0.5645 - 234ms/epoch - 10ms/step\n",
            "Epoch 9/10\n",
            "24/24 - 0s - loss: 0.0308 - accuracy: 0.9906 - val_loss: 1.5704 - val_accuracy: 0.5726 - 201ms/epoch - 8ms/step\n",
            "Epoch 10/10\n",
            "24/24 - 0s - loss: 0.0281 - accuracy: 0.9879 - val_loss: 1.6560 - val_accuracy: 0.5685 - 191ms/epoch - 8ms/step\n"
          ]
        },
        {
          "output_type": "execute_result",
          "data": {
            "text/plain": [
              "<keras.callbacks.History at 0x7f7fc31c0390>"
            ]
          },
          "metadata": {},
          "execution_count": 76
        }
      ],
      "source": [
        "# Fit model\n",
        "cnn_model.fit(X_train, y_train, validation_data=(X_dev, y_dev), epochs=epochs, batch_size=batch_size, verbose=2)"
      ]
    },
    {
      "cell_type": "code",
      "execution_count": 77,
      "id": "2e651338",
      "metadata": {
        "colab": {
          "base_uri": "https://localhost:8080/"
        },
        "id": "2e651338",
        "outputId": "b18c680d-bab2-4d61-c25f-deb0f2b18a35"
      },
      "outputs": [
        {
          "output_type": "stream",
          "name": "stdout",
          "text": [
            "8/8 [==============================] - 0s 4ms/step - loss: 1.7055 - accuracy: 0.6210\n"
          ]
        },
        {
          "output_type": "execute_result",
          "data": {
            "text/plain": [
              "[1.7055420875549316, 0.6209677457809448]"
            ]
          },
          "metadata": {},
          "execution_count": 77
        }
      ],
      "source": [
        "# Evaluate model\n",
        "cnn_model.evaluate(X_test, y_test, verbose=1)"
      ]
    },
    {
      "cell_type": "code",
      "execution_count": 78,
      "id": "dbc0b465",
      "metadata": {
        "colab": {
          "base_uri": "https://localhost:8080/",
          "height": 295
        },
        "id": "dbc0b465",
        "outputId": "6289b0b9-116a-4072-91e2-8ae1033b5bb9"
      },
      "outputs": [
        {
          "output_type": "display_data",
          "data": {
            "text/plain": [
              "<Figure size 432x288 with 2 Axes>"
            ],
            "image/png": "[encoded data removed]"
          },
          "metadata": {
            "needs_background": "light"
          }
        }
      ],
      "source": [
        "# Plot confusion matrix\n",
        "y_true = y_test\n",
        "y_pred = (cnn_model.predict(X_test) >= 0.5).astype(\"int32\")\n",
        "\n",
        "ConfusionMatrixDisplay.from_predictions(y_true,\n",
        "                                        y_pred,\n",
        "                                        normalize='all',\n",
        "                                        display_labels=sentiment\n",
        "                                       )\n",
        "\n",
        "plt.title(\"Confusion Matrix of Review Usefulness\")\n",
        "plt.show()"
      ]
    },
    {
      "cell_type": "code",
      "execution_count": 79,
      "id": "68fb7767",
      "metadata": {
        "colab": {
          "base_uri": "https://localhost:8080/"
        },
        "id": "68fb7767",
        "outputId": "2bb4b4d5-4670-4cfc-b9a6-974fd7d0a5cc"
      },
      "outputs": [
        {
          "output_type": "stream",
          "name": "stdout",
          "text": [
            "              precision    recall  f1-score   support\n",
            "\n",
            "           0       0.52      0.37      0.43        97\n",
            "           1       0.66      0.78      0.72       151\n",
            "\n",
            "    accuracy                           0.62       248\n",
            "   macro avg       0.59      0.58      0.57       248\n",
            "weighted avg       0.61      0.62      0.61       248\n",
            "\n"
          ]
        }
      ],
      "source": [
        "print(classification_report(y_true, y_pred))"
      ]
    },
    {
      "cell_type": "code",
      "execution_count": 80,
      "id": "fb25d4bb",
      "metadata": {
        "colab": {
          "base_uri": "https://localhost:8080/"
        },
        "id": "fb25d4bb",
        "outputId": "c8adeee2-7179-4e2c-cec5-974f8bfc21a9"
      },
      "outputs": [
        {
          "output_type": "stream",
          "name": "stdout",
          "text": [
            "0 : Not Useful\n",
            "1 : Not Useful\n",
            "2 : Not Useful\n",
            "3 : Not Useful\n",
            "4 : Not Useful\n"
          ]
        }
      ],
      "source": [
        "test_examples(cnn_model, examples)"
      ]
    },
    {
      "cell_type": "markdown",
      "id": "SDpfcjw9WM0o",
      "metadata": {
        "id": "SDpfcjw9WM0o"
      },
      "source": [
        "### X.X BERT\n",
        "\n",
        "[TF BERT Tutorial](https://www.tensorflow.org/text/tutorials/classify_text_with_bert)"
      ]
    },
    {
      "cell_type": "code",
      "execution_count": 81,
      "id": "S8MuwEYFWcLm",
      "metadata": {
        "colab": {
          "base_uri": "https://localhost:8080/"
        },
        "id": "S8MuwEYFWcLm",
        "outputId": "fd94138b-6947-4f2a-fb2a-ec395b73527f"
      },
      "outputs": [
        {
          "output_type": "stream",
          "name": "stdout",
          "text": [
            "\u001b[K     |████████████████████████████████| 4.9 MB 5.5 MB/s \n",
            "\u001b[K     |████████████████████████████████| 462 kB 45.7 MB/s \n",
            "\u001b[?25h"
          ]
        }
      ],
      "source": [
        "# A dependency of the preprocessing for BERT inputs\n",
        "!pip install -q -U \"tensorflow-text==2.8.*\""
      ]
    },
    {
      "cell_type": "code",
      "execution_count": 82,
      "id": "ft7RxvllWpHl",
      "metadata": {
        "colab": {
          "base_uri": "https://localhost:8080/"
        },
        "id": "ft7RxvllWpHl",
        "outputId": "08ca5269-b983-46d1-cbbc-b06cc52fc800"
      },
      "outputs": [
        {
          "output_type": "stream",
          "name": "stdout",
          "text": [
            "\u001b[K     |████████████████████████████████| 1.8 MB 5.1 MB/s \n",
            "\u001b[K     |████████████████████████████████| 1.1 MB 38.2 MB/s \n",
            "\u001b[K     |████████████████████████████████| 90 kB 8.2 MB/s \n",
            "\u001b[K     |████████████████████████████████| 47.8 MB 66 kB/s \n",
            "\u001b[K     |████████████████████████████████| 352 kB 35.6 MB/s \n",
            "\u001b[K     |████████████████████████████████| 99 kB 7.4 MB/s \n",
            "\u001b[K     |████████████████████████████████| 43 kB 1.6 MB/s \n",
            "\u001b[K     |████████████████████████████████| 237 kB 12.6 MB/s \n",
            "\u001b[K     |████████████████████████████████| 1.2 MB 33.6 MB/s \n",
            "\u001b[?25h  Building wheel for py-cpuinfo (setup.py) ... \u001b[?25l\u001b[?25hdone\n",
            "  Building wheel for seqeval (setup.py) ... \u001b[?25l\u001b[?25hdone\n"
          ]
        }
      ],
      "source": [
        "!pip install -q tf-models-official==2.7.0"
      ]
    },
    {
      "cell_type": "code",
      "execution_count": 83,
      "id": "RhdsKdekWpx0",
      "metadata": {
        "id": "RhdsKdekWpx0"
      },
      "outputs": [],
      "source": [
        "import os\n",
        "import shutil\n",
        "\n",
        "import tensorflow as tf\n",
        "import tensorflow_hub as hub\n",
        "import tensorflow_text as text\n",
        "from official.nlp import optimization  # to create AdamW optimizer\n",
        "\n",
        "tf.get_logger().setLevel('ERROR')"
      ]
    },
    {
      "cell_type": "code",
      "execution_count": 84,
      "id": "a0cZlq4jXwL1",
      "metadata": {
        "colab": {
          "base_uri": "https://localhost:8080/"
        },
        "id": "a0cZlq4jXwL1",
        "outputId": "c5e390db-2b59-4f19-b4c5-0c3d53c74dbd"
      },
      "outputs": [
        {
          "output_type": "stream",
          "name": "stdout",
          "text": [
            "BERT model selected           : https://tfhub.dev/tensorflow/small_bert/bert_en_uncased_L-4_H-512_A-8/1\n",
            "Preprocess model auto-selected: https://tfhub.dev/tensorflow/bert_en_uncased_preprocess/3\n"
          ]
        }
      ],
      "source": [
        "bert_model_name = 'small_bert/bert_en_uncased_L-4_H-512_A-8' \n",
        "\n",
        "map_name_to_handle = {\n",
        "    'bert_en_uncased_L-12_H-768_A-12':\n",
        "        'https://tfhub.dev/tensorflow/bert_en_uncased_L-12_H-768_A-12/3',\n",
        "    'bert_en_cased_L-12_H-768_A-12':\n",
        "        'https://tfhub.dev/tensorflow/bert_en_cased_L-12_H-768_A-12/3',\n",
        "    'bert_multi_cased_L-12_H-768_A-12':\n",
        "        'https://tfhub.dev/tensorflow/bert_multi_cased_L-12_H-768_A-12/3',\n",
        "    'small_bert/bert_en_uncased_L-2_H-128_A-2':\n",
        "        'https://tfhub.dev/tensorflow/small_bert/bert_en_uncased_L-2_H-128_A-2/1',\n",
        "    'small_bert/bert_en_uncased_L-2_H-256_A-4':\n",
        "        'https://tfhub.dev/tensorflow/small_bert/bert_en_uncased_L-2_H-256_A-4/1',\n",
        "    'small_bert/bert_en_uncased_L-2_H-512_A-8':\n",
        "        'https://tfhub.dev/tensorflow/small_bert/bert_en_uncased_L-2_H-512_A-8/1',\n",
        "    'small_bert/bert_en_uncased_L-2_H-768_A-12':\n",
        "        'https://tfhub.dev/tensorflow/small_bert/bert_en_uncased_L-2_H-768_A-12/1',\n",
        "    'small_bert/bert_en_uncased_L-4_H-128_A-2':\n",
        "        'https://tfhub.dev/tensorflow/small_bert/bert_en_uncased_L-4_H-128_A-2/1',\n",
        "    'small_bert/bert_en_uncased_L-4_H-256_A-4':\n",
        "        'https://tfhub.dev/tensorflow/small_bert/bert_en_uncased_L-4_H-256_A-4/1',\n",
        "    'small_bert/bert_en_uncased_L-4_H-512_A-8':\n",
        "        'https://tfhub.dev/tensorflow/small_bert/bert_en_uncased_L-4_H-512_A-8/1',\n",
        "    'small_bert/bert_en_uncased_L-4_H-768_A-12':\n",
        "        'https://tfhub.dev/tensorflow/small_bert/bert_en_uncased_L-4_H-768_A-12/1',\n",
        "    'small_bert/bert_en_uncased_L-6_H-128_A-2':\n",
        "        'https://tfhub.dev/tensorflow/small_bert/bert_en_uncased_L-6_H-128_A-2/1',\n",
        "    'small_bert/bert_en_uncased_L-6_H-256_A-4':\n",
        "        'https://tfhub.dev/tensorflow/small_bert/bert_en_uncased_L-6_H-256_A-4/1',\n",
        "    'small_bert/bert_en_uncased_L-6_H-512_A-8':\n",
        "        'https://tfhub.dev/tensorflow/small_bert/bert_en_uncased_L-6_H-512_A-8/1',\n",
        "    'small_bert/bert_en_uncased_L-6_H-768_A-12':\n",
        "        'https://tfhub.dev/tensorflow/small_bert/bert_en_uncased_L-6_H-768_A-12/1',\n",
        "    'small_bert/bert_en_uncased_L-8_H-128_A-2':\n",
        "        'https://tfhub.dev/tensorflow/small_bert/bert_en_uncased_L-8_H-128_A-2/1',\n",
        "    'small_bert/bert_en_uncased_L-8_H-256_A-4':\n",
        "        'https://tfhub.dev/tensorflow/small_bert/bert_en_uncased_L-8_H-256_A-4/1',\n",
        "    'small_bert/bert_en_uncased_L-8_H-512_A-8':\n",
        "        'https://tfhub.dev/tensorflow/small_bert/bert_en_uncased_L-8_H-512_A-8/1',\n",
        "    'small_bert/bert_en_uncased_L-8_H-768_A-12':\n",
        "        'https://tfhub.dev/tensorflow/small_bert/bert_en_uncased_L-8_H-768_A-12/1',\n",
        "    'small_bert/bert_en_uncased_L-10_H-128_A-2':\n",
        "        'https://tfhub.dev/tensorflow/small_bert/bert_en_uncased_L-10_H-128_A-2/1',\n",
        "    'small_bert/bert_en_uncased_L-10_H-256_A-4':\n",
        "        'https://tfhub.dev/tensorflow/small_bert/bert_en_uncased_L-10_H-256_A-4/1',\n",
        "    'small_bert/bert_en_uncased_L-10_H-512_A-8':\n",
        "        'https://tfhub.dev/tensorflow/small_bert/bert_en_uncased_L-10_H-512_A-8/1',\n",
        "    'small_bert/bert_en_uncased_L-10_H-768_A-12':\n",
        "        'https://tfhub.dev/tensorflow/small_bert/bert_en_uncased_L-10_H-768_A-12/1',\n",
        "    'small_bert/bert_en_uncased_L-12_H-128_A-2':\n",
        "        'https://tfhub.dev/tensorflow/small_bert/bert_en_uncased_L-12_H-128_A-2/1',\n",
        "    'small_bert/bert_en_uncased_L-12_H-256_A-4':\n",
        "        'https://tfhub.dev/tensorflow/small_bert/bert_en_uncased_L-12_H-256_A-4/1',\n",
        "    'small_bert/bert_en_uncased_L-12_H-512_A-8':\n",
        "        'https://tfhub.dev/tensorflow/small_bert/bert_en_uncased_L-12_H-512_A-8/1',\n",
        "    'small_bert/bert_en_uncased_L-12_H-768_A-12':\n",
        "        'https://tfhub.dev/tensorflow/small_bert/bert_en_uncased_L-12_H-768_A-12/1',\n",
        "    'albert_en_base':\n",
        "        'https://tfhub.dev/tensorflow/albert_en_base/2',\n",
        "    'electra_small':\n",
        "        'https://tfhub.dev/google/electra_small/2',\n",
        "    'electra_base':\n",
        "        'https://tfhub.dev/google/electra_base/2',\n",
        "    'experts_pubmed':\n",
        "        'https://tfhub.dev/google/experts/bert/pubmed/2',\n",
        "    'experts_wiki_books':\n",
        "        'https://tfhub.dev/google/experts/bert/wiki_books/2',\n",
        "    'talking-heads_base':\n",
        "        'https://tfhub.dev/tensorflow/talkheads_ggelu_bert_en_base/1',\n",
        "}\n",
        "\n",
        "map_model_to_preprocess = {\n",
        "    'bert_en_uncased_L-12_H-768_A-12':\n",
        "        'https://tfhub.dev/tensorflow/bert_en_uncased_preprocess/3',\n",
        "    'bert_en_cased_L-12_H-768_A-12':\n",
        "        'https://tfhub.dev/tensorflow/bert_en_cased_preprocess/3',\n",
        "    'small_bert/bert_en_uncased_L-2_H-128_A-2':\n",
        "        'https://tfhub.dev/tensorflow/bert_en_uncased_preprocess/3',\n",
        "    'small_bert/bert_en_uncased_L-2_H-256_A-4':\n",
        "        'https://tfhub.dev/tensorflow/bert_en_uncased_preprocess/3',\n",
        "    'small_bert/bert_en_uncased_L-2_H-512_A-8':\n",
        "        'https://tfhub.dev/tensorflow/bert_en_uncased_preprocess/3',\n",
        "    'small_bert/bert_en_uncased_L-2_H-768_A-12':\n",
        "        'https://tfhub.dev/tensorflow/bert_en_uncased_preprocess/3',\n",
        "    'small_bert/bert_en_uncased_L-4_H-128_A-2':\n",
        "        'https://tfhub.dev/tensorflow/bert_en_uncased_preprocess/3',\n",
        "    'small_bert/bert_en_uncased_L-4_H-256_A-4':\n",
        "        'https://tfhub.dev/tensorflow/bert_en_uncased_preprocess/3',\n",
        "    'small_bert/bert_en_uncased_L-4_H-512_A-8':\n",
        "        'https://tfhub.dev/tensorflow/bert_en_uncased_preprocess/3',\n",
        "    'small_bert/bert_en_uncased_L-4_H-768_A-12':\n",
        "        'https://tfhub.dev/tensorflow/bert_en_uncased_preprocess/3',\n",
        "    'small_bert/bert_en_uncased_L-6_H-128_A-2':\n",
        "        'https://tfhub.dev/tensorflow/bert_en_uncased_preprocess/3',\n",
        "    'small_bert/bert_en_uncased_L-6_H-256_A-4':\n",
        "        'https://tfhub.dev/tensorflow/bert_en_uncased_preprocess/3',\n",
        "    'small_bert/bert_en_uncased_L-6_H-512_A-8':\n",
        "        'https://tfhub.dev/tensorflow/bert_en_uncased_preprocess/3',\n",
        "    'small_bert/bert_en_uncased_L-6_H-768_A-12':\n",
        "        'https://tfhub.dev/tensorflow/bert_en_uncased_preprocess/3',\n",
        "    'small_bert/bert_en_uncased_L-8_H-128_A-2':\n",
        "        'https://tfhub.dev/tensorflow/bert_en_uncased_preprocess/3',\n",
        "    'small_bert/bert_en_uncased_L-8_H-256_A-4':\n",
        "        'https://tfhub.dev/tensorflow/bert_en_uncased_preprocess/3',\n",
        "    'small_bert/bert_en_uncased_L-8_H-512_A-8':\n",
        "        'https://tfhub.dev/tensorflow/bert_en_uncased_preprocess/3',\n",
        "    'small_bert/bert_en_uncased_L-8_H-768_A-12':\n",
        "        'https://tfhub.dev/tensorflow/bert_en_uncased_preprocess/3',\n",
        "    'small_bert/bert_en_uncased_L-10_H-128_A-2':\n",
        "        'https://tfhub.dev/tensorflow/bert_en_uncased_preprocess/3',\n",
        "    'small_bert/bert_en_uncased_L-10_H-256_A-4':\n",
        "        'https://tfhub.dev/tensorflow/bert_en_uncased_preprocess/3',\n",
        "    'small_bert/bert_en_uncased_L-10_H-512_A-8':\n",
        "        'https://tfhub.dev/tensorflow/bert_en_uncased_preprocess/3',\n",
        "    'small_bert/bert_en_uncased_L-10_H-768_A-12':\n",
        "        'https://tfhub.dev/tensorflow/bert_en_uncased_preprocess/3',\n",
        "    'small_bert/bert_en_uncased_L-12_H-128_A-2':\n",
        "        'https://tfhub.dev/tensorflow/bert_en_uncased_preprocess/3',\n",
        "    'small_bert/bert_en_uncased_L-12_H-256_A-4':\n",
        "        'https://tfhub.dev/tensorflow/bert_en_uncased_preprocess/3',\n",
        "    'small_bert/bert_en_uncased_L-12_H-512_A-8':\n",
        "        'https://tfhub.dev/tensorflow/bert_en_uncased_preprocess/3',\n",
        "    'small_bert/bert_en_uncased_L-12_H-768_A-12':\n",
        "        'https://tfhub.dev/tensorflow/bert_en_uncased_preprocess/3',\n",
        "    'bert_multi_cased_L-12_H-768_A-12':\n",
        "        'https://tfhub.dev/tensorflow/bert_multi_cased_preprocess/3',\n",
        "    'albert_en_base':\n",
        "        'https://tfhub.dev/tensorflow/albert_en_preprocess/3',\n",
        "    'electra_small':\n",
        "        'https://tfhub.dev/tensorflow/bert_en_uncased_preprocess/3',\n",
        "    'electra_base':\n",
        "        'https://tfhub.dev/tensorflow/bert_en_uncased_preprocess/3',\n",
        "    'experts_pubmed':\n",
        "        'https://tfhub.dev/tensorflow/bert_en_uncased_preprocess/3',\n",
        "    'experts_wiki_books':\n",
        "        'https://tfhub.dev/tensorflow/bert_en_uncased_preprocess/3',\n",
        "    'talking-heads_base':\n",
        "        'https://tfhub.dev/tensorflow/bert_en_uncased_preprocess/3',\n",
        "}\n",
        "\n",
        "tfhub_handle_encoder = map_name_to_handle[bert_model_name]\n",
        "tfhub_handle_preprocess = map_model_to_preprocess[bert_model_name]\n",
        "\n",
        "print(f'BERT model selected           : {tfhub_handle_encoder}')\n",
        "print(f'Preprocess model auto-selected: {tfhub_handle_preprocess}')"
      ]
    },
    {
      "cell_type": "code",
      "source": [
        "reviews = review_samples['review_text'].fillna('no review')\n",
        "labels = review_samples['useful'].astype(int)\n",
        "\n",
        "X, y = reviews, labels\n",
        "X_train, X_test, y_train, y_test = train_test_split(X, y, test_size=0.2, random_state=0)\n",
        "X_train, X_dev, y_train, y_dev = train_test_split(X_train, y_train, test_size=0.25, random_state=0)"
      ],
      "metadata": {
        "id": "Dlv2ktK882aJ"
      },
      "id": "Dlv2ktK882aJ",
      "execution_count": 104,
      "outputs": []
    },
    {
      "cell_type": "code",
      "execution_count": 94,
      "id": "h25h0E9kYQr9",
      "metadata": {
        "id": "h25h0E9kYQr9"
      },
      "outputs": [],
      "source": [
        "def build_classifier_model():\n",
        "    text_input = tf.keras.layers.Input(shape=(), dtype=tf.string, name='text')\n",
        "    preprocessing_layer = hub.KerasLayer(tfhub_handle_preprocess, name='preprocessing')\n",
        "    encoder_inputs = preprocessing_layer(text_input)\n",
        "    encoder = hub.KerasLayer(tfhub_handle_encoder, trainable=True, name='BERT_encoder')\n",
        "    outputs = encoder(encoder_inputs)\n",
        "    net = outputs['pooled_output']\n",
        "    net = tf.keras.layers.Dropout(0.1)(net)\n",
        "    net = tf.keras.layers.Dense(1, activation=None, name='classifier')(net)\n",
        "    return tf.keras.Model(text_input, net)"
      ]
    },
    {
      "cell_type": "code",
      "execution_count": 95,
      "id": "s3k_FS8kYQ3A",
      "metadata": {
        "colab": {
          "base_uri": "https://localhost:8080/"
        },
        "id": "s3k_FS8kYQ3A",
        "outputId": "4ea6a86c-f3c5-48f2-a04f-e4bb0019493c"
      },
      "outputs": [
        {
          "output_type": "stream",
          "name": "stdout",
          "text": [
            "tf.Tensor([[0.56404954]], shape=(1, 1), dtype=float32)\n"
          ]
        }
      ],
      "source": [
        "text_test = ['this is such an amazing movie!']\n",
        "classifier_model = build_classifier_model()\n",
        "bert_raw_result = classifier_model(tf.constant(text_test))\n",
        "print(tf.sigmoid(bert_raw_result))"
      ]
    },
    {
      "cell_type": "code",
      "execution_count": 96,
      "id": "d-bTYyERYQ9c",
      "metadata": {
        "colab": {
          "base_uri": "https://localhost:8080/",
          "height": 466
        },
        "id": "d-bTYyERYQ9c",
        "outputId": "3e9461d7-d5b6-4965-f541-4233b0109290"
      },
      "outputs": [
        {
          "output_type": "execute_result",
          "data": {
            "text/plain": [
              "<IPython.core.display.Image object>"
            ],
            "image/png": "[encoded data removed]"
          },
          "metadata": {},
          "execution_count": 96
        }
      ],
      "source": [
        "tf.keras.utils.plot_model(classifier_model)"
      ]
    },
    {
      "cell_type": "code",
      "execution_count": 108,
      "id": "rhP5HN9BYRCZ",
      "metadata": {
        "id": "rhP5HN9BYRCZ"
      },
      "outputs": [],
      "source": [
        "loss = tf.keras.losses.BinaryCrossentropy(from_logits=True)\n",
        "metrics = tf.metrics.BinaryAccuracy()"
      ]
    },
    {
      "cell_type": "code",
      "execution_count": 109,
      "id": "OK7WdVPEZKqC",
      "metadata": {
        "id": "OK7WdVPEZKqC"
      },
      "outputs": [],
      "source": [
        "epochs = 5\n",
        "steps_per_epoch = len(X_train)\n",
        "num_train_steps = steps_per_epoch * epochs\n",
        "num_warmup_steps = int(0.1*num_train_steps)\n",
        "\n",
        "init_lr = 3e-5\n",
        "optimizer = optimization.create_optimizer(init_lr=init_lr,\n",
        "                                          num_train_steps=num_train_steps,\n",
        "                                          num_warmup_steps=num_warmup_steps,\n",
        "                                          optimizer_type='adamw')"
      ]
    },
    {
      "cell_type": "code",
      "execution_count": 110,
      "id": "Q0C9YxpeZK2d",
      "metadata": {
        "id": "Q0C9YxpeZK2d"
      },
      "outputs": [],
      "source": [
        "classifier_model.compile(optimizer=optimizer,\n",
        "                         loss=loss,\n",
        "                         metrics=metrics)"
      ]
    },
    {
      "cell_type": "code",
      "execution_count": 111,
      "id": "x95zEKIIZK6i",
      "metadata": {
        "colab": {
          "base_uri": "https://localhost:8080/"
        },
        "id": "x95zEKIIZK6i",
        "outputId": "1f007372-17f6-443f-8935-588087a58413"
      },
      "outputs": [
        {
          "output_type": "stream",
          "name": "stdout",
          "text": [
            "Training model with https://tfhub.dev/tensorflow/small_bert/bert_en_uncased_L-4_H-512_A-8/1\n",
            "Epoch 1/5\n",
            "24/24 [==============================] - 16s 516ms/step - loss: 0.6781 - binary_accuracy: 0.4825 - val_loss: 0.6849 - val_binary_accuracy: 0.4435\n",
            "Epoch 2/5\n",
            "24/24 [==============================] - 13s 527ms/step - loss: 0.6565 - binary_accuracy: 0.5633 - val_loss: 0.6821 - val_binary_accuracy: 0.5806\n",
            "Epoch 3/5\n",
            "24/24 [==============================] - 12s 517ms/step - loss: 0.6386 - binary_accuracy: 0.6240 - val_loss: 0.6744 - val_binary_accuracy: 0.5887\n",
            "Epoch 4/5\n",
            "24/24 [==============================] - 12s 488ms/step - loss: 0.6212 - binary_accuracy: 0.6280 - val_loss: 0.6684 - val_binary_accuracy: 0.5806\n",
            "Epoch 5/5\n",
            "24/24 [==============================] - 12s 485ms/step - loss: 0.6137 - binary_accuracy: 0.6361 - val_loss: 0.6750 - val_binary_accuracy: 0.5968\n"
          ]
        }
      ],
      "source": [
        "print(f'Training model with {tfhub_handle_encoder}')\n",
        "history = classifier_model.fit(x=X_train,\n",
        "                               y=y_train,\n",
        "                               validation_data=(X_dev, y_dev),\n",
        "                               epochs=epochs)"
      ]
    },
    {
      "cell_type": "code",
      "execution_count": 112,
      "id": "VGdrC5yvZK9-",
      "metadata": {
        "colab": {
          "base_uri": "https://localhost:8080/"
        },
        "id": "VGdrC5yvZK9-",
        "outputId": "5dd1a9a8-da50-4d7c-c9f6-936fcd390481"
      },
      "outputs": [
        {
          "output_type": "stream",
          "name": "stdout",
          "text": [
            "8/8 [==============================] - 2s 218ms/step - loss: 0.6567 - binary_accuracy: 0.5726\n",
            "Loss: 0.6566750407218933\n",
            "Accuracy: 0.5725806355476379\n"
          ]
        }
      ],
      "source": [
        "loss, accuracy = classifier_model.evaluate(X_test, y_test)\n",
        "\n",
        "print(f'Loss: {loss}')\n",
        "print(f'Accuracy: {accuracy}')"
      ]
    },
    {
      "cell_type": "code",
      "source": [
        "# Plot confusion matrix\n",
        "y_true = y_test\n",
        "y_pred = (classifier_model.predict(X_test) >= 0.5).astype(\"int32\")\n",
        "\n",
        "ConfusionMatrixDisplay.from_predictions(y_true,\n",
        "                                        y_pred,\n",
        "                                        normalize='all',\n",
        "                                        display_labels=sentiment\n",
        "                                       )\n",
        "\n",
        "plt.title(\"Confusion Matrix of Review Usefulness\")\n",
        "plt.show()"
      ],
      "metadata": {
        "id": "1WPisSo99xn_",
        "outputId": "77914183-5c79-4ae6-9a0e-53d7b714c292",
        "colab": {
          "base_uri": "https://localhost:8080/",
          "height": 295
        }
      },
      "id": "1WPisSo99xn_",
      "execution_count": 113,
      "outputs": [
        {
          "output_type": "display_data",
          "data": {
            "text/plain": [
              "<Figure size 432x288 with 2 Axes>"
            ],
            "image/png": "[encoded data removed]"
          },
          "metadata": {
            "needs_background": "light"
          }
        }
      ]
    },
    {
      "cell_type": "code",
      "execution_count": 114,
      "id": "w-hck23fZLBU",
      "metadata": {
        "colab": {
          "base_uri": "https://localhost:8080/",
          "height": 439
        },
        "id": "w-hck23fZLBU",
        "outputId": "c8983f34-299e-4e14-ca11-5b3bc9e4859f"
      },
      "outputs": [
        {
          "output_type": "stream",
          "name": "stdout",
          "text": [
            "dict_keys(['loss', 'binary_accuracy', 'val_loss', 'val_binary_accuracy'])\n"
          ]
        },
        {
          "output_type": "execute_result",
          "data": {
            "text/plain": [
              "<matplotlib.legend.Legend at 0x7f7f2adc5110>"
            ]
          },
          "metadata": {},
          "execution_count": 114
        },
        {
          "output_type": "display_data",
          "data": {
            "text/plain": [
              "<Figure size 720x432 with 2 Axes>"
            ],
            "image/png": "[encoded data removed]"
          },
          "metadata": {
            "needs_background": "light"
          }
        }
      ],
      "source": [
        "history_dict = history.history\n",
        "print(history_dict.keys())\n",
        "\n",
        "acc = history_dict['binary_accuracy']\n",
        "val_acc = history_dict['val_binary_accuracy']\n",
        "loss = history_dict['loss']\n",
        "val_loss = history_dict['val_loss']\n",
        "\n",
        "epochs = range(1, len(acc) + 1)\n",
        "fig = plt.figure(figsize=(10, 6))\n",
        "fig.tight_layout()\n",
        "\n",
        "plt.subplot(2, 1, 1)\n",
        "# r is for \"solid red line\"\n",
        "plt.plot(epochs, loss, 'r', label='Training loss')\n",
        "# b is for \"solid blue line\"\n",
        "plt.plot(epochs, val_loss, 'b', label='Validation loss')\n",
        "plt.title('Training and validation loss')\n",
        "# plt.xlabel('Epochs')\n",
        "plt.ylabel('Loss')\n",
        "plt.legend()\n",
        "\n",
        "plt.subplot(2, 1, 2)\n",
        "plt.plot(epochs, acc, 'r', label='Training acc')\n",
        "plt.plot(epochs, val_acc, 'b', label='Validation acc')\n",
        "plt.title('Training and validation accuracy')\n",
        "plt.xlabel('Epochs')\n",
        "plt.ylabel('Accuracy')\n",
        "plt.legend(loc='lower right')"
      ]
    },
    {
      "cell_type": "markdown",
      "id": "6b9a5f5b",
      "metadata": {
        "id": "6b9a5f5b"
      },
      "source": [
        "## X.X Explanation transfer learning"
      ]
    },
    {
      "cell_type": "code",
      "execution_count": null,
      "id": "5b3cba98",
      "metadata": {
        "id": "5b3cba98"
      },
      "outputs": [],
      "source": [
        "# from transformers.models.t5 import T5Model\n",
        "from transformers import TFT5Model"
      ]
    },
    {
      "cell_type": "code",
      "execution_count": null,
      "id": "6f147ebe",
      "metadata": {
        "id": "6f147ebe"
      },
      "outputs": [],
      "source": [
        "model_args = {\n",
        "    \"reprocess_input_data\": True,\n",
        "    \"overwrite_output_dir\": True,\n",
        "    \"max_seq_length\": 128,\n",
        "    \"train_batch_size\": 8,\n",
        "    \"num_train_epochs\": 1,\n",
        "    \"save_eval_checkpoints\": True,\n",
        "    \"save_steps\": -1,\n",
        "    \"use_multiprocessing\": False,\n",
        "    \"evaluate_during_training\": True,\n",
        "    \"evaluate_during_training_steps\": 15000,\n",
        "    \"evaluate_during_training_verbose\": True,\n",
        "    \"fp16\": False,\n",
        "\n",
        "    \"wandb_project\": \"Question Generation with T5\",\n",
        "}\n",
        "\n",
        "model = TFT5Model.from_pretrained(\"t5-small\")"
      ]
    },
    {
      "cell_type": "markdown",
      "id": "b5b66424",
      "metadata": {
        "id": "b5b66424"
      },
      "source": [
        "### X.X Pre-trained sentiment span extraction model\n",
        "\n",
        "https://huggingface.co/mrm8488/t5-base-finetuned-span-sentiment-extraction"
      ]
    },
    {
      "cell_type": "code",
      "execution_count": null,
      "id": "4a18c4d1",
      "metadata": {
        "id": "4a18c4d1"
      },
      "outputs": [],
      "source": [
        "example = review_samples.iloc[2]['reviewText']"
      ]
    },
    {
      "cell_type": "code",
      "execution_count": null,
      "id": "084b4b25",
      "metadata": {
        "id": "084b4b25"
      },
      "outputs": [],
      "source": [
        "from transformers import AutoModelWithLMHead, AutoTokenizer\n",
        "\n",
        "tokenizer = AutoTokenizer.from_pretrained(\"mrm8488/t5-base-finetuned-span-sentiment-extraction\")\n",
        "model = AutoModelWithLMHead.from_pretrained(\"mrm8488/t5-base-finetuned-span-sentiment-extraction\")\n",
        "\n",
        "def get_sentiment_span(text):\n",
        "    input_ids = tokenizer.encode(text, return_tensors=\"pt\", add_special_tokens=True)  # Batch size 1\n",
        "\n",
        "    generated_ids = model.generate(input_ids=input_ids, num_beams=1, max_length=80).squeeze()\n",
        "\n",
        "    predicted_span = tokenizer.decode(generated_ids, skip_special_tokens=True, clean_up_tokenization_spaces=True)\n",
        "\n",
        "    return predicted_span\n",
        "  \n",
        "get_sentiment_span(\"question: negative context: My bike was put on hold...should have known that.... argh total bummer\")\n",
        "\n",
        "# output: 'argh total bummer'\n",
        "\n",
        "get_sentiment_span(\"question: positive context: On the monday, so i wont be able to be with you! i love you\")\n",
        "\n",
        "# output: 'i love you'"
      ]
    },
    {
      "cell_type": "code",
      "execution_count": null,
      "id": "9386f8ca",
      "metadata": {
        "id": "9386f8ca"
      },
      "outputs": [],
      "source": [
        "get_sentiment_span(\"question: negative context: {}\".format(example))"
      ]
    },
    {
      "cell_type": "code",
      "execution_count": null,
      "id": "19797147",
      "metadata": {
        "id": "19797147"
      },
      "outputs": [],
      "source": [
        "review_samples.iloc[2]['reviewText']"
      ]
    },
    {
      "cell_type": "code",
      "execution_count": null,
      "id": "c8c98f0d",
      "metadata": {
        "id": "c8c98f0d"
      },
      "outputs": [],
      "source": [
        ""
      ]
    }
  ],
  "metadata": {
    "accelerator": "GPU",
    "colab": {
      "name": "model-selection.ipynb",
      "provenance": []
    },
    "kernelspec": {
      "display_name": "Python 3 (ipykernel)",
      "language": "python",
      "name": "python3"
    },
    "language_info": {
      "codemirror_mode": {
        "name": "ipython",
        "version": 3
      },
      "file_extension": ".py",
      "mimetype": "text/x-python",
      "name": "python",
      "nbconvert_exporter": "python",
      "pygments_lexer": "ipython3",
      "version": "3.8.8"
    }
  },
  "nbformat": 4,
  "nbformat_minor": 5
}