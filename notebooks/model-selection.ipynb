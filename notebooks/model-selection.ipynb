{
  "cells": [
    {
      "cell_type": "markdown",
      "id": "20bb2820",
      "metadata": {
        "id": "20bb2820"
      },
      "source": [
        "# Model selection and evaluation"
      ]
    },
    {
      "cell_type": "markdown",
      "id": "18ca5f9b",
      "metadata": {
        "id": "18ca5f9b"
      },
      "source": [
        "__Notes__\n",
        "\n",
        "1. Create set of rules for what reviews to accept or throw out\n",
        "    1. Min or max number of words\n",
        "    1. Include URLs or not\n",
        "    1. Emojis\n",
        "    1. Eliminate stop words\n",
        "    \n",
        "1. Model selection\n",
        "    1. CNN for usefulness\n",
        "    1. Sample from useful reviews only\n",
        "    1. Setup T5 transfering learning model to generate \"justification\" text\n",
        "\n",
        "- LSTM is good\n",
        "    - You can add in an attention layer because it can look backwards and learn what words were more important than others\n",
        "- CNN is good for sentence classification \n",
        "    - With a fully connected Dense layer it is not good at generalizing\n",
        "- BERT is good because of its self-attention mechanism where every word looks at every other layer\n",
        "    - Use the CLS token as the only thing you feed into the output layer that is going to make the prediction on the classification"
      ]
    },
    {
      "cell_type": "markdown",
      "id": "835c4870",
      "metadata": {
        "id": "835c4870"
      },
      "source": [
        "## 0.0 Notebook setup"
      ]
    },
    {
      "cell_type": "markdown",
      "id": "d6e531ea",
      "metadata": {
        "id": "d6e531ea"
      },
      "source": [
        "### X.X Colab Setup"
      ]
    },
    {
      "cell_type": "code",
      "execution_count": 1,
      "id": "aX0IHvqPrB9h",
      "metadata": {
        "colab": {
          "base_uri": "https://localhost:8080/"
        },
        "id": "aX0IHvqPrB9h",
        "outputId": "7444dd75-b31b-4464-db29-9e221d5c07b4"
      },
      "outputs": [
        {
          "output_type": "stream",
          "name": "stdout",
          "text": [
            "Mounted at /content/gdrive/\n"
          ]
        }
      ],
      "source": [
        "from google.colab import drive\n",
        "drive.mount('/content/gdrive/', force_remount=True)"
      ]
    },
    {
      "cell_type": "code",
      "execution_count": 2,
      "id": "9vnzzqbdraH_",
      "metadata": {
        "id": "9vnzzqbdraH_"
      },
      "outputs": [],
      "source": [
        "! mkdir data"
      ]
    },
    {
      "cell_type": "code",
      "execution_count": 48,
      "id": "0A4JchtFtgsT",
      "metadata": {
        "id": "0A4JchtFtgsT"
      },
      "outputs": [],
      "source": [
        "! cp \"/content/gdrive/My Drive/nlp-book-reviews/data/electronics.csv\" ./data/"
      ]
    },
    {
      "cell_type": "code",
      "execution_count": 4,
      "id": "ncWfMYNDwGnj",
      "metadata": {
        "colab": {
          "base_uri": "https://localhost:8080/",
          "height": 35
        },
        "id": "ncWfMYNDwGnj",
        "outputId": "18923503-a3c2-4e4a-ee38-55df949b93cd"
      },
      "outputs": [
        {
          "output_type": "execute_result",
          "data": {
            "text/plain": [
              "'/device:GPU:0'"
            ],
            "application/vnd.google.colaboratory.intrinsic+json": {
              "type": "string"
            }
          },
          "metadata": {},
          "execution_count": 4
        }
      ],
      "source": [
        "import tensorflow as tf\n",
        "tf.test.gpu_device_name()"
      ]
    },
    {
      "cell_type": "code",
      "execution_count": 5,
      "id": "VIpdJLpswGLc",
      "metadata": {
        "colab": {
          "base_uri": "https://localhost:8080/"
        },
        "id": "VIpdJLpswGLc",
        "outputId": "0eceac12-0bf8-4cf5-c282-a322d001fcde"
      },
      "outputs": [
        {
          "output_type": "execute_result",
          "data": {
            "text/plain": [
              "[name: \"/device:CPU:0\"\n",
              " device_type: \"CPU\"\n",
              " memory_limit: 268435456\n",
              " locality {\n",
              " }\n",
              " incarnation: 12627603964853574905\n",
              " xla_global_id: -1, name: \"/device:GPU:0\"\n",
              " device_type: \"GPU\"\n",
              " memory_limit: 11320098816\n",
              " locality {\n",
              "   bus_id: 1\n",
              "   links {\n",
              "   }\n",
              " }\n",
              " incarnation: 11566186152829940842\n",
              " physical_device_desc: \"device: 0, name: Tesla K80, pci bus id: 0000:00:04.0, compute capability: 3.7\"\n",
              " xla_global_id: 416903419]"
            ]
          },
          "metadata": {},
          "execution_count": 5
        }
      ],
      "source": [
        "from tensorflow.python.client import device_lib\n",
        "device_lib.list_local_devices()"
      ]
    },
    {
      "cell_type": "code",
      "execution_count": 6,
      "id": "IcYfIaElNZwb",
      "metadata": {
        "colab": {
          "base_uri": "https://localhost:8080/"
        },
        "id": "IcYfIaElNZwb",
        "outputId": "a1c4f3b9-0151-41fc-cc29-7e294bd11a01"
      },
      "outputs": [
        {
          "output_type": "stream",
          "name": "stdout",
          "text": [
            "\u001b[K     |████████████████████████████████| 3.8 MB 5.4 MB/s \n",
            "\u001b[K     |████████████████████████████████| 596 kB 39.6 MB/s \n",
            "\u001b[K     |████████████████████████████████| 6.5 MB 35.9 MB/s \n",
            "\u001b[K     |████████████████████████████████| 67 kB 5.5 MB/s \n",
            "\u001b[K     |████████████████████████████████| 895 kB 41.8 MB/s \n",
            "\u001b[?25h"
          ]
        }
      ],
      "source": [
        "!pip install --quiet transformers"
      ]
    },
    {
      "cell_type": "markdown",
      "id": "7631b809",
      "metadata": {
        "id": "7631b809"
      },
      "source": [
        "### X.X Local setup"
      ]
    },
    {
      "cell_type": "code",
      "execution_count": 7,
      "id": "3f0320af",
      "metadata": {
        "id": "3f0320af"
      },
      "outputs": [],
      "source": [
        "import warnings\n",
        "\n",
        "warnings.simplefilter(\"ignore\", UserWarning)\n",
        "warnings.simplefilter(\"ignore\", FutureWarning)\n",
        "warnings.simplefilter(\"ignore\", DeprecationWarning)"
      ]
    },
    {
      "cell_type": "code",
      "execution_count": 8,
      "id": "3abac3ad",
      "metadata": {
        "id": "3abac3ad"
      },
      "outputs": [],
      "source": [
        "# Statistics\n",
        "import numpy as np\n",
        "import pandas as pd\n",
        "from scipy.stats import chi2_contingency, norm, skew, kurtosis\n",
        "\n",
        "# Visualization\n",
        "%matplotlib inline\n",
        "import matplotlib.pyplot as plt\n",
        "import seaborn as sns\n",
        "\n",
        "# Model selection and evaluation\n",
        "from sklearn.model_selection import train_test_split\n",
        "from sklearn.metrics import confusion_matrix, ConfusionMatrixDisplay\n",
        "from sklearn.metrics import classification_report, precision_recall_fscore_support, roc_curve, auc, accuracy_score\n",
        "\n",
        "# Model building\n",
        "from sklearn.naive_bayes import MultinomialNB\n",
        "from sklearn.feature_extraction.text import TfidfVectorizer\n",
        "\n",
        "import tensorflow as tf\n",
        "import keras\n",
        "from keras.preprocessing.text import Tokenizer\n",
        "from keras.preprocessing.sequence import pad_sequences\n",
        "from keras.models import Sequential\n",
        "from keras.layers import Embedding, Bidirectional, Dense, Flatten, LSTM\n",
        "from keras.layers.convolutional import Conv1D\n",
        "from keras.layers.convolutional import MaxPooling1D\n",
        "\n",
        "# BERT-specific\n",
        "from transformers import BertTokenizer, TFBertForSequenceClassification\n",
        "from transformers import InputExample, InputFeatures"
      ]
    },
    {
      "cell_type": "code",
      "execution_count": 49,
      "id": "768f4b5c",
      "metadata": {
        "id": "768f4b5c"
      },
      "outputs": [],
      "source": [
        "# Local\n",
        "# data = '../data/electronics.csv'\n",
        "\n",
        "# Colab\n",
        "data = './data/electronics.csv'\n",
        "\n",
        "review_samples = pd.read_csv(data)"
      ]
    },
    {
      "cell_type": "markdown",
      "id": "72ffdf0f",
      "metadata": {
        "id": "72ffdf0f"
      },
      "source": [
        "## X.X Usefulness language modeling"
      ]
    },
    {
      "cell_type": "code",
      "execution_count": 10,
      "id": "8FObWP5p2qGn",
      "metadata": {
        "colab": {
          "base_uri": "https://localhost:8080/"
        },
        "id": "8FObWP5p2qGn",
        "outputId": "5c4e1b5f-a4d6-4660-b23c-9221fae51229"
      },
      "outputs": [
        {
          "output_type": "execute_result",
          "data": {
            "text/plain": [
              "1    5994\n",
              "0    5182\n",
              "Name: useful, dtype: int64"
            ]
          },
          "metadata": {},
          "execution_count": 10
        }
      ],
      "source": [
        "review_samples['useful'].value_counts()"
      ]
    },
    {
      "cell_type": "code",
      "execution_count": 11,
      "id": "40kfYLJRty7a",
      "metadata": {
        "id": "40kfYLJRty7a"
      },
      "outputs": [],
      "source": [
        "reviews = review_samples['review_processed'].fillna('no review')\n",
        "labels = review_samples['useful'].astype(int)\n",
        "sentiment = ['Not Useful', 'Useful']"
      ]
    },
    {
      "cell_type": "markdown",
      "id": "1cc10c6c",
      "metadata": {
        "id": "1cc10c6c"
      },
      "source": [
        "### X.X Baseline - Naive Bayes"
      ]
    },
    {
      "cell_type": "code",
      "execution_count": 12,
      "id": "e6197a23",
      "metadata": {
        "id": "e6197a23"
      },
      "outputs": [],
      "source": [
        "X_train, X_test, y_train, y_test = train_test_split(reviews, labels, test_size=0.2, random_state=0)\n",
        "X_train, X_dev, y_train, y_dev = train_test_split(X_train, y_train, test_size=0.25, random_state=0)\n",
        "\n",
        "tf_idf = TfidfVectorizer(ngram_range=(1, 3),\n",
        "                         binary=True,\n",
        "                         smooth_idf=False)\n",
        "\n",
        "X_train_tfidf = tf_idf.fit_transform(X_train)\n",
        "X_dev_tfidf = tf_idf.transform(X_dev)\n",
        "X_test_tfidf = tf_idf.transform(X_test)"
      ]
    },
    {
      "cell_type": "code",
      "execution_count": 13,
      "id": "360bf0a0",
      "metadata": {
        "colab": {
          "base_uri": "https://localhost:8080/"
        },
        "id": "360bf0a0",
        "outputId": "813f8eda-e69f-4450-d13b-8b343480688d"
      },
      "outputs": [
        {
          "output_type": "execute_result",
          "data": {
            "text/plain": [
              "MultinomialNB(alpha=1.8)"
            ]
          },
          "metadata": {},
          "execution_count": 13
        }
      ],
      "source": [
        "# Build model\n",
        "nb_model = MultinomialNB(alpha=1.8)\n",
        "\n",
        "# Fit model\n",
        "nb_model.fit(X_train_tfidf, y_train)"
      ]
    },
    {
      "cell_type": "code",
      "execution_count": 14,
      "id": "3fe5c18b",
      "metadata": {
        "colab": {
          "base_uri": "https://localhost:8080/"
        },
        "id": "3fe5c18b",
        "outputId": "b6cff4dc-9a24-47b8-c4a4-f76016159a3b"
      },
      "outputs": [
        {
          "output_type": "stream",
          "name": "stdout",
          "text": [
            "0.874869500372856 0.5458612975391499 0.554561717352415\n"
          ]
        }
      ],
      "source": [
        "# Evaluate model on dev data\n",
        "train_acc = nb_model.score(X_train_tfidf, y_train)\n",
        "dev_acc = nb_model.score(X_dev_tfidf, y_dev)\n",
        "test_acc = nb_model.score(X_test_tfidf, y_test)\n",
        "\n",
        "print(train_acc, dev_acc, test_acc)"
      ]
    },
    {
      "cell_type": "code",
      "execution_count": 15,
      "id": "7add20ab",
      "metadata": {
        "colab": {
          "base_uri": "https://localhost:8080/",
          "height": 295
        },
        "id": "7add20ab",
        "outputId": "e78c477e-7f82-4261-bc3a-fa5994a0153d"
      },
      "outputs": [
        {
          "output_type": "display_data",
          "data": {
            "text/plain": [
              "<Figure size 432x288 with 2 Axes>"
            ],
            "image/png": "[encoded data removed]"
          },
          "metadata": {
            "needs_background": "light"
          }
        }
      ],
      "source": [
        "# Evaluate model on test data and plot confusion matrix\n",
        "y_true = y_test\n",
        "y_pred = nb_model.predict(X_test_tfidf)\n",
        "\n",
        "ConfusionMatrixDisplay.from_predictions(y_true,\n",
        "                                        y_pred,\n",
        "                                        normalize='all',\n",
        "                                        display_labels=sentiment\n",
        "                                       )\n",
        "\n",
        "plt.title(\"Confusion Matrix of Review Usefulness\")\n",
        "plt.show()"
      ]
    },
    {
      "cell_type": "code",
      "execution_count": 16,
      "id": "d9b80b15",
      "metadata": {
        "colab": {
          "base_uri": "https://localhost:8080/",
          "height": 313
        },
        "id": "d9b80b15",
        "outputId": "545bdf63-90f4-4b3f-c395-14a5f18fde02"
      },
      "outputs": [
        {
          "output_type": "stream",
          "name": "stdout",
          "text": [
            "AUC: 0.5273\n"
          ]
        },
        {
          "output_type": "display_data",
          "data": {
            "text/plain": [
              "<Figure size 432x288 with 1 Axes>"
            ],
            "image/png": "[encoded data removed]"
          },
          "metadata": {
            "needs_background": "light"
          }
        }
      ],
      "source": [
        "fpr, tpr, threshold = roc_curve(y_true, y_pred)\n",
        "roc_auc = auc(fpr, tpr)\n",
        "print(f'AUC: {roc_auc:.4f}')\n",
        "\n",
        "# Plot ROC AUC\n",
        "plt.title('Receiver Operating Characteristic')\n",
        "plt.plot(fpr, tpr, 'b', label = 'AUC = %0.2f' % roc_auc)\n",
        "plt.legend(loc = 'lower right')\n",
        "plt.plot([0, 1], [0, 1],'r--')\n",
        "plt.xlim([0, 1])\n",
        "plt.ylim([0, 1])\n",
        "plt.ylabel('True Positive Rate')\n",
        "plt.xlabel('False Positive Rate')\n",
        "plt.show()"
      ]
    },
    {
      "cell_type": "markdown",
      "source": [
        "### X.X O'Reilly Deep Learning Example"
      ],
      "metadata": {
        "id": "TWzJF__f2k3n"
      },
      "id": "TWzJF__f2k3n"
    },
    {
      "cell_type": "code",
      "execution_count": 60,
      "id": "10c5748e",
      "metadata": {
        "id": "10c5748e"
      },
      "outputs": [],
      "source": [
        "# Set tokenization parameters\n",
        "num_words = None\n",
        "oov_token = '<UNK>'\n",
        "pad_type = 'post'\n",
        "trunc_type = 'post'\n",
        "\n",
        "# Tokenize review text\n",
        "tokenizer = Tokenizer(num_words=num_words, oov_token=oov_token)\n",
        "tokenizer.fit_on_texts(reviews)\n",
        "sequences = tokenizer.texts_to_sequences(reviews)\n",
        "\n",
        "# Additional tokenization parameters\n",
        "max_words = len(tokenizer.word_index)\n",
        "max_len = max([len(x) for x in sequences])\n",
        "# max_words = 5000\n",
        "# max_len = 125\n",
        "\n",
        "# Pad review text tokens\n",
        "reviews_tokens = pad_sequences(sequences, padding=pad_type, truncating=trunc_type, maxlen=max_len)\n",
        "\n",
        "# Create usefulness target variable\n",
        "labels = review_samples['useful']\n",
        "# labels = tf.keras.utils.to_categorical(labels, num_classes=2, dtype=\"float32\")\n",
        "labels = np.asarray(labels).astype(\"float32\")\n"
      ]
    },
    {
      "cell_type": "code",
      "source": [
        "review_samples['review_processed'].iloc[0]"
      ],
      "metadata": {
        "id": "8h0QzWag9dMU",
        "outputId": "940fb978-462a-4e03-b425-c114a224d7ef",
        "colab": {
          "base_uri": "https://localhost:8080/",
          "height": 70
        }
      },
      "id": "8h0QzWag9dMU",
      "execution_count": 61,
      "outputs": [
        {
          "output_type": "execute_result",
          "data": {
            "text/plain": [
              "\"it does not copy cd-r s to usb as advertised. my cd's were recorded on a sony machine and properly finalized. they copy on other machines. it repeatedly shows copy protected wait. none of my cd-r s are copy protected. i do want a machine that will copy my cd-r collection to usb.\""
            ],
            "application/vnd.google.colaboratory.intrinsic+json": {
              "type": "string"
            }
          },
          "metadata": {},
          "execution_count": 61
        }
      ]
    },
    {
      "cell_type": "code",
      "execution_count": 62,
      "id": "80397fe8",
      "metadata": {
        "colab": {
          "base_uri": "https://localhost:8080/"
        },
        "id": "80397fe8",
        "outputId": "3e0d0e48-0407-4861-98c2-f4e22cffacbc"
      },
      "outputs": [
        {
          "output_type": "execute_result",
          "data": {
            "text/plain": [
              "(24063, 4074)"
            ]
          },
          "metadata": {},
          "execution_count": 62
        }
      ],
      "source": [
        "(max_words, max_len)"
      ]
    },
    {
      "cell_type": "code",
      "execution_count": 94,
      "id": "388769b8",
      "metadata": {
        "id": "388769b8"
      },
      "outputs": [],
      "source": [
        "# Set model hyperparamters\n",
        "epochs = 10\n",
        "batch_size = 32\n",
        "dropout_rate = 0.7\n",
        "num_classes = len(np.unique(labels, axis=0))\n",
        "opt = tf.keras.optimizers.Adam(learning_rate=0.001,\n",
        "                               epsilon=0.00000001,\n",
        "                               clipnorm=1.0\n",
        "                              )\n",
        "loss_func = 'binary_crossentropy'\n",
        "metrics = ['accuracy']"
      ]
    },
    {
      "cell_type": "code",
      "execution_count": 64,
      "id": "a1bb450b",
      "metadata": {
        "id": "a1bb450b"
      },
      "outputs": [],
      "source": [
        "# Split data into train, dev, and test sets\n",
        "X_train, X_test, y_train, y_test = train_test_split(reviews_tokens, labels, test_size=0.2, random_state=0)\n",
        "X_train, X_dev, y_train, y_dev = train_test_split(X_train, y_train, test_size=0.25, random_state=0)"
      ]
    },
    {
      "cell_type": "code",
      "execution_count": 65,
      "id": "3a332016",
      "metadata": {
        "colab": {
          "base_uri": "https://localhost:8080/"
        },
        "id": "3a332016",
        "outputId": "273cc6e7-cbad-48f8-cbe6-35f64300b46d"
      },
      "outputs": [
        {
          "output_type": "execute_result",
          "data": {
            "text/plain": [
              "(2236,)"
            ]
          },
          "metadata": {},
          "execution_count": 65
        }
      ],
      "source": [
        "y_test.shape"
      ]
    },
    {
      "cell_type": "code",
      "execution_count": 68,
      "id": "95e276c9",
      "metadata": {
        "id": "95e276c9",
        "outputId": "d54d8c6f-e5de-44e9-f074-455d9170f9d1",
        "colab": {
          "base_uri": "https://localhost:8080/"
        }
      },
      "outputs": [
        {
          "output_type": "stream",
          "name": "stdout",
          "text": [
            "Model: \"sequential_6\"\n",
            "_________________________________________________________________\n",
            " Layer (type)                Output Shape              Param #   \n",
            "=================================================================\n",
            " dense_14 (Dense)            (None, 16)                65200     \n",
            "                                                                 \n",
            " dense_15 (Dense)            (None, 16)                272       \n",
            "                                                                 \n",
            " dense_16 (Dense)            (None, 1)                 17        \n",
            "                                                                 \n",
            "=================================================================\n",
            "Total params: 65,489\n",
            "Trainable params: 65,489\n",
            "Non-trainable params: 0\n",
            "_________________________________________________________________\n"
          ]
        }
      ],
      "source": [
        "model = Sequential()\n",
        "model.add(Dense(16, activation='relu', input_shape=(max_len,)))\n",
        "model.add(Dense(16, activation='relu'))\n",
        "model.add(Dense(1, activation='sigmoid'))\n",
        "model.compile(optimizer='rmsprop',\n",
        "              loss=loss,\n",
        "              metrics=metrics)\n",
        "model.summary()\n"
      ]
    },
    {
      "cell_type": "code",
      "execution_count": 69,
      "id": "aec374a0",
      "metadata": {
        "id": "aec374a0",
        "outputId": "f815020c-056d-4494-f97e-bf8d5f84981a",
        "colab": {
          "base_uri": "https://localhost:8080/"
        }
      },
      "outputs": [
        {
          "output_type": "stream",
          "name": "stdout",
          "text": [
            "Epoch 1/4\n",
            "14/14 [==============================] - 2s 43ms/step - loss: 30.3917 - accuracy: 0.5445 - val_loss: 22.1155 - val_accuracy: 0.4971\n",
            "Epoch 2/4\n",
            "14/14 [==============================] - 0s 21ms/step - loss: 10.2396 - accuracy: 0.5670 - val_loss: 10.1866 - val_accuracy: 0.5025\n",
            "Epoch 3/4\n",
            "14/14 [==============================] - 0s 18ms/step - loss: 4.8399 - accuracy: 0.5460 - val_loss: 5.8043 - val_accuracy: 0.4743\n",
            "Epoch 4/4\n",
            "14/14 [==============================] - 0s 21ms/step - loss: 2.7638 - accuracy: 0.5254 - val_loss: 3.5167 - val_accuracy: 0.4725\n",
            "70/70 [==============================] - 0s 6ms/step - loss: 3.1015 - accuracy: 0.5237\n"
          ]
        },
        {
          "output_type": "execute_result",
          "data": {
            "text/plain": [
              "[3.1015477180480957, 0.5237030386924744]"
            ]
          },
          "metadata": {},
          "execution_count": 69
        }
      ],
      "source": [
        "model.fit(X_train, y_train, validation_data=(X_dev, y_dev), epochs=4, batch_size=512)\n",
        "model.evaluate(X_test, y_test)"
      ]
    },
    {
      "cell_type": "markdown",
      "id": "c4693fae",
      "metadata": {
        "id": "c4693fae"
      },
      "source": [
        "### X.X Bi-directional LSTM"
      ]
    },
    {
      "cell_type": "code",
      "source": [
        "labels = review_samples['useful']\n",
        "labels = tf.keras.utils.to_categorical(labels, num_classes=2, dtype=\"float32\")"
      ],
      "metadata": {
        "id": "ytJPCv4a3FQC"
      },
      "id": "ytJPCv4a3FQC",
      "execution_count": 70,
      "outputs": []
    },
    {
      "cell_type": "code",
      "source": [
        "# Split data into train, dev, and test sets\n",
        "X_train, X_test, y_train, y_test = train_test_split(reviews_tokens, labels, test_size=0.2, random_state=0)\n",
        "X_train, X_dev, y_train, y_dev = train_test_split(X_train, y_train, test_size=0.25, random_state=0)"
      ],
      "metadata": {
        "id": "eJXGKG1E3JpY"
      },
      "id": "eJXGKG1E3JpY",
      "execution_count": 71,
      "outputs": []
    },
    {
      "cell_type": "code",
      "execution_count": 72,
      "id": "e6556cac",
      "metadata": {
        "colab": {
          "base_uri": "https://localhost:8080/"
        },
        "id": "e6556cac",
        "outputId": "ac00fb26-260f-4130-e1c7-cf5a6df9bee9"
      },
      "outputs": [
        {
          "output_type": "stream",
          "name": "stdout",
          "text": [
            "Model: \"sequential_7\"\n",
            "_________________________________________________________________\n",
            " Layer (type)                Output Shape              Param #   \n",
            "=================================================================\n",
            " embedding_2 (Embedding)     (None, 4074, 40)          962520    \n",
            "                                                                 \n",
            " bidirectional_2 (Bidirectio  (None, 40)               9760      \n",
            " nal)                                                            \n",
            "                                                                 \n",
            " dense_17 (Dense)            (None, 2)                 82        \n",
            "                                                                 \n",
            "=================================================================\n",
            "Total params: 972,362\n",
            "Trainable params: 972,362\n",
            "Non-trainable params: 0\n",
            "_________________________________________________________________\n"
          ]
        }
      ],
      "source": [
        "# Build model\n",
        "lstm_model = Sequential()\n",
        "lstm_model.add(Embedding(max_words, 40, input_length=max_len))\n",
        "lstm_model.add(Bidirectional(LSTM(20, dropout=dropout_rate)))\n",
        "lstm_model.add(Dense(2, activation='sigmoid'))\n",
        "lstm_model.compile(optimizer=opt, loss=loss_func, metrics=metrics)\n",
        "lstm_model.summary()"
      ]
    },
    {
      "cell_type": "code",
      "execution_count": 73,
      "id": "_LMuy-3QVWqh",
      "metadata": {
        "colab": {
          "base_uri": "https://localhost:8080/"
        },
        "id": "_LMuy-3QVWqh",
        "outputId": "c903575e-ef56-42e1-aa07-809170a216cd"
      },
      "outputs": [
        {
          "output_type": "stream",
          "name": "stdout",
          "text": [
            "Epoch 1/10\n",
            "14/14 - 20s - loss: 0.6905 - accuracy: 0.5336 - val_loss: 0.6883 - val_accuracy: 0.5306 - 20s/epoch - 1s/step\n",
            "Epoch 2/10\n",
            "14/14 - 15s - loss: 0.6798 - accuracy: 0.5682 - val_loss: 0.6731 - val_accuracy: 0.6036 - 15s/epoch - 1s/step\n",
            "Epoch 3/10\n",
            "14/14 - 15s - loss: 0.6570 - accuracy: 0.6260 - val_loss: 0.6633 - val_accuracy: 0.6134 - 15s/epoch - 1s/step\n",
            "Epoch 4/10\n",
            "14/14 - 15s - loss: 0.6402 - accuracy: 0.6483 - val_loss: 0.6637 - val_accuracy: 0.6085 - 15s/epoch - 1s/step\n",
            "Epoch 5/10\n",
            "14/14 - 15s - loss: 0.6293 - accuracy: 0.6504 - val_loss: 0.6625 - val_accuracy: 0.6152 - 15s/epoch - 1s/step\n",
            "Epoch 6/10\n",
            "14/14 - 15s - loss: 0.6151 - accuracy: 0.6628 - val_loss: 0.6563 - val_accuracy: 0.6130 - 15s/epoch - 1s/step\n",
            "Epoch 7/10\n",
            "14/14 - 15s - loss: 0.5866 - accuracy: 0.7043 - val_loss: 0.6553 - val_accuracy: 0.6251 - 15s/epoch - 1s/step\n",
            "Epoch 8/10\n",
            "14/14 - 15s - loss: 0.5490 - accuracy: 0.7426 - val_loss: 0.6638 - val_accuracy: 0.6183 - 15s/epoch - 1s/step\n",
            "Epoch 9/10\n",
            "14/14 - 15s - loss: 0.5085 - accuracy: 0.7673 - val_loss: 0.6826 - val_accuracy: 0.6174 - 15s/epoch - 1s/step\n",
            "Epoch 10/10\n",
            "14/14 - 15s - loss: 0.4626 - accuracy: 0.7970 - val_loss: 0.7179 - val_accuracy: 0.5978 - 15s/epoch - 1s/step\n"
          ]
        },
        {
          "output_type": "execute_result",
          "data": {
            "text/plain": [
              "<keras.callbacks.History at 0x7f96a45afcd0>"
            ]
          },
          "metadata": {},
          "execution_count": 73
        }
      ],
      "source": [
        "# Fit model\n",
        "lstm_model.fit(X_train, y_train, validation_data=(X_dev, y_dev), epochs=epochs, batch_size=512, verbose=2)"
      ]
    },
    {
      "cell_type": "code",
      "execution_count": 85,
      "id": "e7d45011",
      "metadata": {
        "colab": {
          "base_uri": "https://localhost:8080/",
          "height": 295
        },
        "id": "e7d45011",
        "outputId": "0be5ec75-2777-4aa6-b7db-5060153201e9"
      },
      "outputs": [
        {
          "output_type": "display_data",
          "data": {
            "text/plain": [
              "<Figure size 432x288 with 2 Axes>"
            ],
            "image/png": "[encoded data removed]"
          },
          "metadata": {
            "needs_background": "light"
          }
        }
      ],
      "source": [
        "# Plot confusion matrix\n",
        "y_true = y_test.argmax(axis=1)\n",
        "y_pred = np.argmax(lstm_model.predict(X_test), axis=1)\n",
        "\n",
        "ConfusionMatrixDisplay.from_predictions(y_true,\n",
        "                                        y_pred,\n",
        "                                        normalize='all',\n",
        "                                        display_labels=sentiment\n",
        "                                       )\n",
        "\n",
        "plt.title(\"Confusion Matrix of Review Usefulness\")\n",
        "plt.show()"
      ]
    },
    {
      "cell_type": "code",
      "execution_count": 86,
      "id": "8d2af57c",
      "metadata": {
        "colab": {
          "base_uri": "https://localhost:8080/"
        },
        "id": "8d2af57c",
        "outputId": "36dda4ac-49fd-40c3-c9dd-6204028b4118"
      },
      "outputs": [
        {
          "output_type": "stream",
          "name": "stdout",
          "text": [
            "              precision    recall  f1-score   support\n",
            "\n",
            "           0       0.58      0.62      0.60      1053\n",
            "           1       0.64      0.60      0.62      1183\n",
            "\n",
            "    accuracy                           0.61      2236\n",
            "   macro avg       0.61      0.61      0.61      2236\n",
            "weighted avg       0.61      0.61      0.61      2236\n",
            "\n"
          ]
        }
      ],
      "source": [
        "print(classification_report(y_true, y_pred))"
      ]
    },
    {
      "cell_type": "code",
      "source": [
        "# Evaluate model\n",
        "loss, acc = lstm_model.evaluate(X_test, y_test, verbose=1)\n",
        "precision, recall, f1, support = precision_recall_fscore_support(y_true, y_pred, average='weighted')\n",
        "print(\"Model performance metrics on test data\")\n",
        "print(\"Accuracy: {:.4f}\\nLoss: {:.4f}\\nPrecision: {:.4f}\\nRecall: {:.4f}\\nF1-score: {:.4f}\".format(acc, loss, precision, recall, f1))"
      ],
      "metadata": {
        "id": "SdXwudLqCtyE",
        "outputId": "245ee9a7-968f-457c-f482-7b6d4743976b",
        "colab": {
          "base_uri": "https://localhost:8080/",
          "height": 798
        }
      },
      "id": "SdXwudLqCtyE",
      "execution_count": 107,
      "outputs": [
        {
          "output_type": "error",
          "ename": "ValueError",
          "evalue": "ignored",
          "traceback": [
            "\u001b[0;31m---------------------------------------------------------------------------\u001b[0m",
            "\u001b[0;31mValueError\u001b[0m                                Traceback (most recent call last)",
            "\u001b[0;32m<ipython-input-107-ed0e7cfcc9cd>\u001b[0m in \u001b[0;36m<module>\u001b[0;34m()\u001b[0m\n\u001b[1;32m      1\u001b[0m \u001b[0;31m# Evaluate model\u001b[0m\u001b[0;34m\u001b[0m\u001b[0;34m\u001b[0m\u001b[0;34m\u001b[0m\u001b[0m\n\u001b[0;32m----> 2\u001b[0;31m \u001b[0mloss\u001b[0m\u001b[0;34m,\u001b[0m \u001b[0macc\u001b[0m \u001b[0;34m=\u001b[0m \u001b[0mlstm_model\u001b[0m\u001b[0;34m.\u001b[0m\u001b[0mevaluate\u001b[0m\u001b[0;34m(\u001b[0m\u001b[0mX_test\u001b[0m\u001b[0;34m,\u001b[0m \u001b[0my_test\u001b[0m\u001b[0;34m,\u001b[0m \u001b[0mverbose\u001b[0m\u001b[0;34m=\u001b[0m\u001b[0;36m1\u001b[0m\u001b[0;34m)\u001b[0m\u001b[0;34m\u001b[0m\u001b[0;34m\u001b[0m\u001b[0m\n\u001b[0m\u001b[1;32m      3\u001b[0m \u001b[0mprecision\u001b[0m\u001b[0;34m,\u001b[0m \u001b[0mrecall\u001b[0m\u001b[0;34m,\u001b[0m \u001b[0mf1\u001b[0m\u001b[0;34m,\u001b[0m \u001b[0msupport\u001b[0m \u001b[0;34m=\u001b[0m \u001b[0mprecision_recall_fscore_support\u001b[0m\u001b[0;34m(\u001b[0m\u001b[0my_true\u001b[0m\u001b[0;34m,\u001b[0m \u001b[0my_pred\u001b[0m\u001b[0;34m,\u001b[0m \u001b[0maverage\u001b[0m\u001b[0;34m=\u001b[0m\u001b[0;34m'weighted'\u001b[0m\u001b[0;34m)\u001b[0m\u001b[0;34m\u001b[0m\u001b[0;34m\u001b[0m\u001b[0m\n\u001b[1;32m      4\u001b[0m \u001b[0mprint\u001b[0m\u001b[0;34m(\u001b[0m\u001b[0;34m\"Model performance metrics on test data\"\u001b[0m\u001b[0;34m)\u001b[0m\u001b[0;34m\u001b[0m\u001b[0;34m\u001b[0m\u001b[0m\n\u001b[1;32m      5\u001b[0m \u001b[0mprint\u001b[0m\u001b[0;34m(\u001b[0m\u001b[0;34m\"Accuracy: {:.4f}\\nLoss: {:.4f}\\nPrecision: {:.4f}\\nRecall: {:.4f}\\nF1-score: {:.4f}\"\u001b[0m\u001b[0;34m.\u001b[0m\u001b[0mformat\u001b[0m\u001b[0;34m(\u001b[0m\u001b[0macc\u001b[0m\u001b[0;34m,\u001b[0m \u001b[0mloss\u001b[0m\u001b[0;34m,\u001b[0m \u001b[0mprecision\u001b[0m\u001b[0;34m,\u001b[0m \u001b[0mrecall\u001b[0m\u001b[0;34m,\u001b[0m \u001b[0mf1\u001b[0m\u001b[0;34m)\u001b[0m\u001b[0;34m)\u001b[0m\u001b[0;34m\u001b[0m\u001b[0;34m\u001b[0m\u001b[0m\n",
            "\u001b[0;32m/usr/local/lib/python3.7/dist-packages/keras/utils/traceback_utils.py\u001b[0m in \u001b[0;36merror_handler\u001b[0;34m(*args, **kwargs)\u001b[0m\n\u001b[1;32m     65\u001b[0m     \u001b[0;32mexcept\u001b[0m \u001b[0mException\u001b[0m \u001b[0;32mas\u001b[0m \u001b[0me\u001b[0m\u001b[0;34m:\u001b[0m  \u001b[0;31m# pylint: disable=broad-except\u001b[0m\u001b[0;34m\u001b[0m\u001b[0;34m\u001b[0m\u001b[0m\n\u001b[1;32m     66\u001b[0m       \u001b[0mfiltered_tb\u001b[0m \u001b[0;34m=\u001b[0m \u001b[0m_process_traceback_frames\u001b[0m\u001b[0;34m(\u001b[0m\u001b[0me\u001b[0m\u001b[0;34m.\u001b[0m\u001b[0m__traceback__\u001b[0m\u001b[0;34m)\u001b[0m\u001b[0;34m\u001b[0m\u001b[0;34m\u001b[0m\u001b[0m\n\u001b[0;32m---> 67\u001b[0;31m       \u001b[0;32mraise\u001b[0m \u001b[0me\u001b[0m\u001b[0;34m.\u001b[0m\u001b[0mwith_traceback\u001b[0m\u001b[0;34m(\u001b[0m\u001b[0mfiltered_tb\u001b[0m\u001b[0;34m)\u001b[0m \u001b[0;32mfrom\u001b[0m \u001b[0;32mNone\u001b[0m\u001b[0;34m\u001b[0m\u001b[0;34m\u001b[0m\u001b[0m\n\u001b[0m\u001b[1;32m     68\u001b[0m     \u001b[0;32mfinally\u001b[0m\u001b[0;34m:\u001b[0m\u001b[0;34m\u001b[0m\u001b[0;34m\u001b[0m\u001b[0m\n\u001b[1;32m     69\u001b[0m       \u001b[0;32mdel\u001b[0m \u001b[0mfiltered_tb\u001b[0m\u001b[0;34m\u001b[0m\u001b[0;34m\u001b[0m\u001b[0m\n",
            "\u001b[0;32m/usr/local/lib/python3.7/dist-packages/tensorflow/python/framework/func_graph.py\u001b[0m in \u001b[0;36mautograph_handler\u001b[0;34m(*args, **kwargs)\u001b[0m\n\u001b[1;32m   1145\u001b[0m           \u001b[0;32mexcept\u001b[0m \u001b[0mException\u001b[0m \u001b[0;32mas\u001b[0m \u001b[0me\u001b[0m\u001b[0;34m:\u001b[0m  \u001b[0;31m# pylint:disable=broad-except\u001b[0m\u001b[0;34m\u001b[0m\u001b[0;34m\u001b[0m\u001b[0m\n\u001b[1;32m   1146\u001b[0m             \u001b[0;32mif\u001b[0m \u001b[0mhasattr\u001b[0m\u001b[0;34m(\u001b[0m\u001b[0me\u001b[0m\u001b[0;34m,\u001b[0m \u001b[0;34m\"ag_error_metadata\"\u001b[0m\u001b[0;34m)\u001b[0m\u001b[0;34m:\u001b[0m\u001b[0;34m\u001b[0m\u001b[0;34m\u001b[0m\u001b[0m\n\u001b[0;32m-> 1147\u001b[0;31m               \u001b[0;32mraise\u001b[0m \u001b[0me\u001b[0m\u001b[0;34m.\u001b[0m\u001b[0mag_error_metadata\u001b[0m\u001b[0;34m.\u001b[0m\u001b[0mto_exception\u001b[0m\u001b[0;34m(\u001b[0m\u001b[0me\u001b[0m\u001b[0;34m)\u001b[0m\u001b[0;34m\u001b[0m\u001b[0;34m\u001b[0m\u001b[0m\n\u001b[0m\u001b[1;32m   1148\u001b[0m             \u001b[0;32melse\u001b[0m\u001b[0;34m:\u001b[0m\u001b[0;34m\u001b[0m\u001b[0;34m\u001b[0m\u001b[0m\n\u001b[1;32m   1149\u001b[0m               \u001b[0;32mraise\u001b[0m\u001b[0;34m\u001b[0m\u001b[0;34m\u001b[0m\u001b[0m\n",
            "\u001b[0;31mValueError\u001b[0m: in user code:\n\n    File \"/usr/local/lib/python3.7/dist-packages/keras/engine/training.py\", line 1525, in test_function  *\n        return step_function(self, iterator)\n    File \"/usr/local/lib/python3.7/dist-packages/keras/engine/training.py\", line 1514, in step_function  **\n        outputs = model.distribute_strategy.run(run_step, args=(data,))\n    File \"/usr/local/lib/python3.7/dist-packages/keras/engine/training.py\", line 1507, in run_step  **\n        outputs = model.test_step(data)\n    File \"/usr/local/lib/python3.7/dist-packages/keras/engine/training.py\", line 1473, in test_step\n        self.compute_loss(x, y, y_pred, sample_weight)\n    File \"/usr/local/lib/python3.7/dist-packages/keras/engine/training.py\", line 919, in compute_loss\n        y, y_pred, sample_weight, regularization_losses=self.losses)\n    File \"/usr/local/lib/python3.7/dist-packages/keras/engine/compile_utils.py\", line 201, in __call__\n        loss_value = loss_obj(y_t, y_p, sample_weight=sw)\n    File \"/usr/local/lib/python3.7/dist-packages/keras/losses.py\", line 141, in __call__\n        losses = call_fn(y_true, y_pred)\n    File \"/usr/local/lib/python3.7/dist-packages/keras/losses.py\", line 245, in call  **\n        return ag_fn(y_true, y_pred, **self._fn_kwargs)\n    File \"/usr/local/lib/python3.7/dist-packages/keras/losses.py\", line 1932, in binary_crossentropy\n        backend.binary_crossentropy(y_true, y_pred, from_logits=from_logits),\n    File \"/usr/local/lib/python3.7/dist-packages/keras/backend.py\", line 5247, in binary_crossentropy\n        return tf.nn.sigmoid_cross_entropy_with_logits(labels=target, logits=output)\n\n    ValueError: `logits` and `labels` must have the same shape, received ((None, 2) vs (None, 1)).\n"
          ]
        }
      ]
    },
    {
      "cell_type": "code",
      "execution_count": 88,
      "id": "c1vo5zLjjIFI",
      "metadata": {
        "id": "c1vo5zLjjIFI"
      },
      "outputs": [],
      "source": [
        "example0 = \"Golf tips magazine is one of the most aptly titled magazines available today. \\\n",
        "            It is chock full of heavily-illustrated exercises and other tips for serious golfers to improve their games.\\\n",
        "            \\nThere are a number of golf magazines on the newstand today. Most of them rely on a lifestyle format relying \\\n",
        "            more heavily on lifestyle-type stories about today's hot golfers and the courses they play. Most of them include \\\n",
        "            a brief game tip or two but seem aimed at the casual duffer.\\nGolf Tips, on the other hand, features almost nothing \\\n",
        "            but heavily illustrated tips on improving one's swing, eliminating mistakes and putting better. It also is heavily \\\n",
        "            loaded with features on the latest equipment technology. Each issue also seems to feature an article on the technical \\\n",
        "            aspects of a selected major golf course. The articles are written with terminology that serious golfers will understand \\\n",
        "            but that may confuse the weekend player. Judging by the amount of advertising in its early issues, this magazine also \\\n",
        "            appears to be financially healthy.\\nIf a reader wants to read about the PGA Tour's superstars, this magazine is not for \\\n",
        "            him/her. But if s/he plans to be one of those superstars, Golf Tips is a good match.\"\n",
        "\n",
        "example1 = \"The information is interesting and fun, the writing is superb, and the writers and editors have a great sense of humor. \\\n",
        "            I just wish it came out more often!\"\n",
        "\n",
        "example2 = \"this data science article is the best ever\"\n",
        "\n",
        "example3 = \"i really loved how the technician helped me with the issue that i had\"\n",
        "\n",
        "example4 = \"useless comment\"\n",
        "\n",
        "examples = [example0, example1, example2, example3, example4]"
      ]
    },
    {
      "cell_type": "code",
      "execution_count": 89,
      "id": "jgzWpxYcIx0G",
      "metadata": {
        "colab": {
          "base_uri": "https://localhost:8080/"
        },
        "id": "jgzWpxYcIx0G",
        "outputId": "03b84656-188e-4750-97be-f21c35c5ad8e"
      },
      "outputs": [
        {
          "output_type": "stream",
          "name": "stdout",
          "text": [
            "0 : Not Useful\n",
            "1 : Not Useful\n",
            "2 : Not Useful\n",
            "3 : Not Useful\n",
            "4 : Not Useful\n"
          ]
        }
      ],
      "source": [
        "def test_examples(model, examples):\n",
        "    for idx, example in enumerate(examples):\n",
        "        sequence = tokenizer.texts_to_sequences([example])\n",
        "        test = pad_sequences(sequence, maxlen=max_len)\n",
        "        prediction = sentiment[np.around(model.predict(test), decimals=0).argmax(axis=1)[0]]\n",
        "        print(idx, \":\", prediction)\n",
        "    \n",
        "test_examples(lstm_model, examples)"
      ]
    },
    {
      "cell_type": "markdown",
      "id": "8d132915",
      "metadata": {
        "id": "8d132915"
      },
      "source": [
        "### X.X Convolutional neural network"
      ]
    },
    {
      "cell_type": "code",
      "execution_count": 90,
      "id": "ce97448e",
      "metadata": {
        "id": "ce97448e"
      },
      "outputs": [],
      "source": [
        "# # Change data type from float to int\n",
        "y_train = np.array([list(i).index(max(i)) for i in y_train])\n",
        "y_dev = np.array([list(i).index(max(i)) for i in y_dev])\n",
        "y_test = np.array([list(i).index(max(i)) for i in y_test])\n",
        "\n",
        "# labels = review_samples['useful'].astype(int)\n",
        "# X_train, X_test, y_train, y_test = train_test_split(reviews, labels, test_size=0.2, random_state=0)\n",
        "# X_train, X_dev, y_train, y_dev = train_test_split(X_train, y_train, test_size=0.25, random_state=0)"
      ]
    },
    {
      "cell_type": "code",
      "execution_count": 91,
      "id": "ba5c3da7",
      "metadata": {
        "colab": {
          "base_uri": "https://localhost:8080/"
        },
        "id": "ba5c3da7",
        "outputId": "e8c64acb-ef2d-4f96-e4ac-e2a21c6ab30d"
      },
      "outputs": [
        {
          "output_type": "execute_result",
          "data": {
            "text/plain": [
              "(2236,)"
            ]
          },
          "metadata": {},
          "execution_count": 91
        }
      ],
      "source": [
        "y_test.shape"
      ]
    },
    {
      "cell_type": "code",
      "execution_count": 95,
      "id": "25ec148a",
      "metadata": {
        "colab": {
          "base_uri": "https://localhost:8080/"
        },
        "id": "25ec148a",
        "outputId": "8505dbed-6651-479b-f67d-90e562c62e5a"
      },
      "outputs": [
        {
          "output_type": "stream",
          "name": "stdout",
          "text": [
            "Model: \"sequential_9\"\n",
            "_________________________________________________________________\n",
            " Layer (type)                Output Shape              Param #   \n",
            "=================================================================\n",
            " embedding_4 (Embedding)     (None, 4074, 32)          770016    \n",
            "                                                                 \n",
            " conv1d_1 (Conv1D)           (None, 4074, 32)          3104      \n",
            "                                                                 \n",
            " max_pooling1d_1 (MaxPooling  (None, 2037, 32)         0         \n",
            " 1D)                                                             \n",
            "                                                                 \n",
            " flatten_1 (Flatten)         (None, 65184)             0         \n",
            "                                                                 \n",
            " dense_20 (Dense)            (None, 250)               16296250  \n",
            "                                                                 \n",
            " dense_21 (Dense)            (None, 1)                 251       \n",
            "                                                                 \n",
            "=================================================================\n",
            "Total params: 17,069,621\n",
            "Trainable params: 17,069,621\n",
            "Non-trainable params: 0\n",
            "_________________________________________________________________\n"
          ]
        }
      ],
      "source": [
        "# Build model\n",
        "cnn_model = Sequential()\n",
        "cnn_model.add(Embedding(max_words, 32, input_length=max_len))\n",
        "cnn_model.add(Conv1D(32, 3, padding='same', activation='relu'))\n",
        "cnn_model.add(MaxPooling1D())\n",
        "cnn_model.add(Flatten())\n",
        "cnn_model.add(Dense(250, activation='relu'))\n",
        "cnn_model.add(Dense(1, activation='sigmoid'))\n",
        "cnn_model.compile(optimizer=opt, loss=loss_func, metrics=metrics)\n",
        "cnn_model.summary()\n"
      ]
    },
    {
      "cell_type": "code",
      "execution_count": 96,
      "id": "540787cc",
      "metadata": {
        "colab": {
          "base_uri": "https://localhost:8080/"
        },
        "id": "540787cc",
        "outputId": "319918ec-8dee-4caf-c87d-730e1ada5b47"
      },
      "outputs": [
        {
          "output_type": "stream",
          "name": "stdout",
          "text": [
            "Epoch 1/10\n",
            "14/14 - 13s - loss: 0.8157 - accuracy: 0.5069 - val_loss: 0.6851 - val_accuracy: 0.5306 - 13s/epoch - 903ms/step\n",
            "Epoch 2/10\n",
            "14/14 - 4s - loss: 0.6673 - accuracy: 0.5684 - val_loss: 0.6831 - val_accuracy: 0.5852 - 4s/epoch - 254ms/step\n",
            "Epoch 3/10\n",
            "14/14 - 4s - loss: 0.6522 - accuracy: 0.6179 - val_loss: 0.6799 - val_accuracy: 0.5911 - 4s/epoch - 255ms/step\n",
            "Epoch 4/10\n",
            "14/14 - 3s - loss: 0.6301 - accuracy: 0.6427 - val_loss: 0.6807 - val_accuracy: 0.5969 - 3s/epoch - 248ms/step\n",
            "Epoch 5/10\n",
            "14/14 - 4s - loss: 0.5949 - accuracy: 0.6628 - val_loss: 0.6936 - val_accuracy: 0.6063 - 4s/epoch - 251ms/step\n",
            "Epoch 6/10\n",
            "14/14 - 3s - loss: 0.5396 - accuracy: 0.7108 - val_loss: 0.7039 - val_accuracy: 0.6116 - 3s/epoch - 249ms/step\n",
            "Epoch 7/10\n",
            "14/14 - 3s - loss: 0.4599 - accuracy: 0.8073 - val_loss: 0.7762 - val_accuracy: 0.6085 - 3s/epoch - 249ms/step\n",
            "Epoch 8/10\n",
            "14/14 - 3s - loss: 0.3595 - accuracy: 0.8568 - val_loss: 0.8902 - val_accuracy: 0.6000 - 3s/epoch - 245ms/step\n",
            "Epoch 9/10\n",
            "14/14 - 3s - loss: 0.2855 - accuracy: 0.8840 - val_loss: 1.0453 - val_accuracy: 0.6000 - 3s/epoch - 243ms/step\n",
            "Epoch 10/10\n",
            "14/14 - 3s - loss: 0.2343 - accuracy: 0.9095 - val_loss: 1.1883 - val_accuracy: 0.6040 - 3s/epoch - 244ms/step\n"
          ]
        },
        {
          "output_type": "execute_result",
          "data": {
            "text/plain": [
              "<keras.callbacks.History at 0x7f96a9e921d0>"
            ]
          },
          "metadata": {},
          "execution_count": 96
        }
      ],
      "source": [
        "# Fit model\n",
        "cnn_model.fit(X_train, y_train, validation_data=(X_dev, y_dev), epochs=epochs, batch_size=512, verbose=2)"
      ]
    },
    {
      "cell_type": "code",
      "execution_count": 108,
      "id": "dbc0b465",
      "metadata": {
        "colab": {
          "base_uri": "https://localhost:8080/",
          "height": 295
        },
        "id": "dbc0b465",
        "outputId": "015b19ff-cf70-430c-90ec-5b3222d32539"
      },
      "outputs": [
        {
          "output_type": "display_data",
          "data": {
            "text/plain": [
              "<Figure size 432x288 with 2 Axes>"
            ],
            "image/png": "[encoded data removed]"
          },
          "metadata": {
            "needs_background": "light"
          }
        }
      ],
      "source": [
        "# Plot confusion matrix\n",
        "y_true = y_test\n",
        "y_pred = (cnn_model.predict(X_test) >= 0.5).astype(\"int32\")\n",
        "\n",
        "ConfusionMatrixDisplay.from_predictions(y_true,\n",
        "                                        y_pred,\n",
        "                                        normalize='all',\n",
        "                                        display_labels=sentiment\n",
        "                                       )\n",
        "\n",
        "plt.title(\"Confusion Matrix of Review Usefulness\")\n",
        "plt.show()"
      ]
    },
    {
      "cell_type": "code",
      "execution_count": 109,
      "id": "68fb7767",
      "metadata": {
        "colab": {
          "base_uri": "https://localhost:8080/"
        },
        "id": "68fb7767",
        "outputId": "eb683707-0c07-4232-9f88-014aba6a469a"
      },
      "outputs": [
        {
          "output_type": "stream",
          "name": "stdout",
          "text": [
            "              precision    recall  f1-score   support\n",
            "\n",
            "           0       0.58      0.57      0.58      1053\n",
            "           1       0.62      0.63      0.62      1183\n",
            "\n",
            "    accuracy                           0.60      2236\n",
            "   macro avg       0.60      0.60      0.60      2236\n",
            "weighted avg       0.60      0.60      0.60      2236\n",
            "\n"
          ]
        }
      ],
      "source": [
        "print(classification_report(y_true, y_pred))"
      ]
    },
    {
      "cell_type": "code",
      "source": [
        "# Evaluate model\n",
        "loss, acc = cnn_model.evaluate(X_test, y_test, verbose=1)\n",
        "precision, recall, f1, support = precision_recall_fscore_support(y_true, y_pred, average='weighted')\n",
        "print(\"Model performance metrics on test data\")\n",
        "print(\"Accuracy: {:.4f}\\nLoss: {:.4f}\\nPrecision: {:.4f}\\nRecall: {:.4f}\\nF1-score: {:.4f}\".format(acc, loss, precision, recall, f1))"
      ],
      "metadata": {
        "id": "M07hJdegEhMo",
        "outputId": "1d91a98c-1cba-464a-be81-a4268c9e792c",
        "colab": {
          "base_uri": "https://localhost:8080/"
        }
      },
      "id": "M07hJdegEhMo",
      "execution_count": 111,
      "outputs": [
        {
          "output_type": "stream",
          "name": "stdout",
          "text": [
            "70/70 [==============================] - 1s 11ms/step - loss: 1.1708 - accuracy: 0.6015\n",
            "Model performance metrics on test data\n",
            "Accuracy: 0.6015\n",
            "Loss: 1.1708\n",
            "Precision: 0.6014\n",
            "Recall: 0.6015\n",
            "F1-score: 0.6014\n"
          ]
        }
      ]
    },
    {
      "cell_type": "code",
      "execution_count": 112,
      "id": "fb25d4bb",
      "metadata": {
        "colab": {
          "base_uri": "https://localhost:8080/"
        },
        "id": "fb25d4bb",
        "outputId": "efc46f4e-2752-47e8-db31-171fa16f244a"
      },
      "outputs": [
        {
          "output_type": "stream",
          "name": "stdout",
          "text": [
            "0 : Not Useful\n",
            "1 : Not Useful\n",
            "2 : Not Useful\n",
            "3 : Not Useful\n",
            "4 : Not Useful\n"
          ]
        }
      ],
      "source": [
        "test_examples(cnn_model, examples)"
      ]
    },
    {
      "cell_type": "markdown",
      "id": "SDpfcjw9WM0o",
      "metadata": {
        "id": "SDpfcjw9WM0o"
      },
      "source": [
        "### X.X BERT\n",
        "\n",
        "[TF BERT Tutorial](https://www.tensorflow.org/text/tutorials/classify_text_with_bert)"
      ]
    },
    {
      "cell_type": "code",
      "execution_count": 113,
      "id": "S8MuwEYFWcLm",
      "metadata": {
        "colab": {
          "base_uri": "https://localhost:8080/"
        },
        "id": "S8MuwEYFWcLm",
        "outputId": "1cd40bd4-7197-4dca-95f7-9385ee1c3938"
      },
      "outputs": [
        {
          "output_type": "stream",
          "name": "stdout",
          "text": [
            "\u001b[K     |████████████████████████████████| 4.9 MB 5.2 MB/s \n",
            "\u001b[K     |████████████████████████████████| 462 kB 47.5 MB/s \n",
            "\u001b[?25h"
          ]
        }
      ],
      "source": [
        "# A dependency of the preprocessing for BERT inputs\n",
        "!pip install -q -U \"tensorflow-text==2.8.*\""
      ]
    },
    {
      "cell_type": "code",
      "execution_count": 114,
      "id": "ft7RxvllWpHl",
      "metadata": {
        "colab": {
          "base_uri": "https://localhost:8080/"
        },
        "id": "ft7RxvllWpHl",
        "outputId": "d1a88963-66cc-45d0-a658-4b8ad5074455"
      },
      "outputs": [
        {
          "output_type": "stream",
          "name": "stdout",
          "text": [
            "\u001b[K     |████████████████████████████████| 1.8 MB 5.5 MB/s \n",
            "\u001b[K     |████████████████████████████████| 43 kB 1.7 MB/s \n",
            "\u001b[K     |████████████████████████████████| 352 kB 30.6 MB/s \n",
            "\u001b[K     |████████████████████████████████| 90 kB 7.4 MB/s \n",
            "\u001b[K     |████████████████████████████████| 1.1 MB 9.8 MB/s \n",
            "\u001b[K     |████████████████████████████████| 237 kB 35.5 MB/s \n",
            "\u001b[K     |████████████████████████████████| 99 kB 6.9 MB/s \n",
            "\u001b[K     |████████████████████████████████| 47.8 MB 42 kB/s \n",
            "\u001b[K     |████████████████████████████████| 1.2 MB 33.5 MB/s \n",
            "\u001b[?25h  Building wheel for py-cpuinfo (setup.py) ... \u001b[?25l\u001b[?25hdone\n",
            "  Building wheel for seqeval (setup.py) ... \u001b[?25l\u001b[?25hdone\n"
          ]
        }
      ],
      "source": [
        "!pip install -q tf-models-official==2.7.0"
      ]
    },
    {
      "cell_type": "code",
      "execution_count": 115,
      "id": "RhdsKdekWpx0",
      "metadata": {
        "id": "RhdsKdekWpx0"
      },
      "outputs": [],
      "source": [
        "import os\n",
        "import shutil\n",
        "\n",
        "import tensorflow as tf\n",
        "import tensorflow_hub as hub\n",
        "import tensorflow_text as text\n",
        "from official.nlp import optimization  # to create AdamW optimizer\n",
        "\n",
        "tf.get_logger().setLevel('ERROR')"
      ]
    },
    {
      "cell_type": "code",
      "execution_count": 116,
      "id": "a0cZlq4jXwL1",
      "metadata": {
        "colab": {
          "base_uri": "https://localhost:8080/"
        },
        "id": "a0cZlq4jXwL1",
        "outputId": "efe81902-5143-4da2-c3d8-6d8e5eab23d8"
      },
      "outputs": [
        {
          "output_type": "stream",
          "name": "stdout",
          "text": [
            "BERT model selected           : https://tfhub.dev/tensorflow/small_bert/bert_en_uncased_L-4_H-512_A-8/1\n",
            "Preprocess model auto-selected: https://tfhub.dev/tensorflow/bert_en_uncased_preprocess/3\n"
          ]
        }
      ],
      "source": [
        "bert_model_name = 'small_bert/bert_en_uncased_L-4_H-512_A-8' \n",
        "\n",
        "map_name_to_handle = {\n",
        "    'bert_en_uncased_L-12_H-768_A-12':\n",
        "        'https://tfhub.dev/tensorflow/bert_en_uncased_L-12_H-768_A-12/3',\n",
        "    'bert_en_cased_L-12_H-768_A-12':\n",
        "        'https://tfhub.dev/tensorflow/bert_en_cased_L-12_H-768_A-12/3',\n",
        "    'bert_multi_cased_L-12_H-768_A-12':\n",
        "        'https://tfhub.dev/tensorflow/bert_multi_cased_L-12_H-768_A-12/3',\n",
        "    'small_bert/bert_en_uncased_L-2_H-128_A-2':\n",
        "        'https://tfhub.dev/tensorflow/small_bert/bert_en_uncased_L-2_H-128_A-2/1',\n",
        "    'small_bert/bert_en_uncased_L-2_H-256_A-4':\n",
        "        'https://tfhub.dev/tensorflow/small_bert/bert_en_uncased_L-2_H-256_A-4/1',\n",
        "    'small_bert/bert_en_uncased_L-2_H-512_A-8':\n",
        "        'https://tfhub.dev/tensorflow/small_bert/bert_en_uncased_L-2_H-512_A-8/1',\n",
        "    'small_bert/bert_en_uncased_L-2_H-768_A-12':\n",
        "        'https://tfhub.dev/tensorflow/small_bert/bert_en_uncased_L-2_H-768_A-12/1',\n",
        "    'small_bert/bert_en_uncased_L-4_H-128_A-2':\n",
        "        'https://tfhub.dev/tensorflow/small_bert/bert_en_uncased_L-4_H-128_A-2/1',\n",
        "    'small_bert/bert_en_uncased_L-4_H-256_A-4':\n",
        "        'https://tfhub.dev/tensorflow/small_bert/bert_en_uncased_L-4_H-256_A-4/1',\n",
        "    'small_bert/bert_en_uncased_L-4_H-512_A-8':\n",
        "        'https://tfhub.dev/tensorflow/small_bert/bert_en_uncased_L-4_H-512_A-8/1',\n",
        "    'small_bert/bert_en_uncased_L-4_H-768_A-12':\n",
        "        'https://tfhub.dev/tensorflow/small_bert/bert_en_uncased_L-4_H-768_A-12/1',\n",
        "    'small_bert/bert_en_uncased_L-6_H-128_A-2':\n",
        "        'https://tfhub.dev/tensorflow/small_bert/bert_en_uncased_L-6_H-128_A-2/1',\n",
        "    'small_bert/bert_en_uncased_L-6_H-256_A-4':\n",
        "        'https://tfhub.dev/tensorflow/small_bert/bert_en_uncased_L-6_H-256_A-4/1',\n",
        "    'small_bert/bert_en_uncased_L-6_H-512_A-8':\n",
        "        'https://tfhub.dev/tensorflow/small_bert/bert_en_uncased_L-6_H-512_A-8/1',\n",
        "    'small_bert/bert_en_uncased_L-6_H-768_A-12':\n",
        "        'https://tfhub.dev/tensorflow/small_bert/bert_en_uncased_L-6_H-768_A-12/1',\n",
        "    'small_bert/bert_en_uncased_L-8_H-128_A-2':\n",
        "        'https://tfhub.dev/tensorflow/small_bert/bert_en_uncased_L-8_H-128_A-2/1',\n",
        "    'small_bert/bert_en_uncased_L-8_H-256_A-4':\n",
        "        'https://tfhub.dev/tensorflow/small_bert/bert_en_uncased_L-8_H-256_A-4/1',\n",
        "    'small_bert/bert_en_uncased_L-8_H-512_A-8':\n",
        "        'https://tfhub.dev/tensorflow/small_bert/bert_en_uncased_L-8_H-512_A-8/1',\n",
        "    'small_bert/bert_en_uncased_L-8_H-768_A-12':\n",
        "        'https://tfhub.dev/tensorflow/small_bert/bert_en_uncased_L-8_H-768_A-12/1',\n",
        "    'small_bert/bert_en_uncased_L-10_H-128_A-2':\n",
        "        'https://tfhub.dev/tensorflow/small_bert/bert_en_uncased_L-10_H-128_A-2/1',\n",
        "    'small_bert/bert_en_uncased_L-10_H-256_A-4':\n",
        "        'https://tfhub.dev/tensorflow/small_bert/bert_en_uncased_L-10_H-256_A-4/1',\n",
        "    'small_bert/bert_en_uncased_L-10_H-512_A-8':\n",
        "        'https://tfhub.dev/tensorflow/small_bert/bert_en_uncased_L-10_H-512_A-8/1',\n",
        "    'small_bert/bert_en_uncased_L-10_H-768_A-12':\n",
        "        'https://tfhub.dev/tensorflow/small_bert/bert_en_uncased_L-10_H-768_A-12/1',\n",
        "    'small_bert/bert_en_uncased_L-12_H-128_A-2':\n",
        "        'https://tfhub.dev/tensorflow/small_bert/bert_en_uncased_L-12_H-128_A-2/1',\n",
        "    'small_bert/bert_en_uncased_L-12_H-256_A-4':\n",
        "        'https://tfhub.dev/tensorflow/small_bert/bert_en_uncased_L-12_H-256_A-4/1',\n",
        "    'small_bert/bert_en_uncased_L-12_H-512_A-8':\n",
        "        'https://tfhub.dev/tensorflow/small_bert/bert_en_uncased_L-12_H-512_A-8/1',\n",
        "    'small_bert/bert_en_uncased_L-12_H-768_A-12':\n",
        "        'https://tfhub.dev/tensorflow/small_bert/bert_en_uncased_L-12_H-768_A-12/1',\n",
        "    'albert_en_base':\n",
        "        'https://tfhub.dev/tensorflow/albert_en_base/2',\n",
        "    'electra_small':\n",
        "        'https://tfhub.dev/google/electra_small/2',\n",
        "    'electra_base':\n",
        "        'https://tfhub.dev/google/electra_base/2',\n",
        "    'experts_pubmed':\n",
        "        'https://tfhub.dev/google/experts/bert/pubmed/2',\n",
        "    'experts_wiki_books':\n",
        "        'https://tfhub.dev/google/experts/bert/wiki_books/2',\n",
        "    'talking-heads_base':\n",
        "        'https://tfhub.dev/tensorflow/talkheads_ggelu_bert_en_base/1',\n",
        "}\n",
        "\n",
        "map_model_to_preprocess = {\n",
        "    'bert_en_uncased_L-12_H-768_A-12':\n",
        "        'https://tfhub.dev/tensorflow/bert_en_uncased_preprocess/3',\n",
        "    'bert_en_cased_L-12_H-768_A-12':\n",
        "        'https://tfhub.dev/tensorflow/bert_en_cased_preprocess/3',\n",
        "    'small_bert/bert_en_uncased_L-2_H-128_A-2':\n",
        "        'https://tfhub.dev/tensorflow/bert_en_uncased_preprocess/3',\n",
        "    'small_bert/bert_en_uncased_L-2_H-256_A-4':\n",
        "        'https://tfhub.dev/tensorflow/bert_en_uncased_preprocess/3',\n",
        "    'small_bert/bert_en_uncased_L-2_H-512_A-8':\n",
        "        'https://tfhub.dev/tensorflow/bert_en_uncased_preprocess/3',\n",
        "    'small_bert/bert_en_uncased_L-2_H-768_A-12':\n",
        "        'https://tfhub.dev/tensorflow/bert_en_uncased_preprocess/3',\n",
        "    'small_bert/bert_en_uncased_L-4_H-128_A-2':\n",
        "        'https://tfhub.dev/tensorflow/bert_en_uncased_preprocess/3',\n",
        "    'small_bert/bert_en_uncased_L-4_H-256_A-4':\n",
        "        'https://tfhub.dev/tensorflow/bert_en_uncased_preprocess/3',\n",
        "    'small_bert/bert_en_uncased_L-4_H-512_A-8':\n",
        "        'https://tfhub.dev/tensorflow/bert_en_uncased_preprocess/3',\n",
        "    'small_bert/bert_en_uncased_L-4_H-768_A-12':\n",
        "        'https://tfhub.dev/tensorflow/bert_en_uncased_preprocess/3',\n",
        "    'small_bert/bert_en_uncased_L-6_H-128_A-2':\n",
        "        'https://tfhub.dev/tensorflow/bert_en_uncased_preprocess/3',\n",
        "    'small_bert/bert_en_uncased_L-6_H-256_A-4':\n",
        "        'https://tfhub.dev/tensorflow/bert_en_uncased_preprocess/3',\n",
        "    'small_bert/bert_en_uncased_L-6_H-512_A-8':\n",
        "        'https://tfhub.dev/tensorflow/bert_en_uncased_preprocess/3',\n",
        "    'small_bert/bert_en_uncased_L-6_H-768_A-12':\n",
        "        'https://tfhub.dev/tensorflow/bert_en_uncased_preprocess/3',\n",
        "    'small_bert/bert_en_uncased_L-8_H-128_A-2':\n",
        "        'https://tfhub.dev/tensorflow/bert_en_uncased_preprocess/3',\n",
        "    'small_bert/bert_en_uncased_L-8_H-256_A-4':\n",
        "        'https://tfhub.dev/tensorflow/bert_en_uncased_preprocess/3',\n",
        "    'small_bert/bert_en_uncased_L-8_H-512_A-8':\n",
        "        'https://tfhub.dev/tensorflow/bert_en_uncased_preprocess/3',\n",
        "    'small_bert/bert_en_uncased_L-8_H-768_A-12':\n",
        "        'https://tfhub.dev/tensorflow/bert_en_uncased_preprocess/3',\n",
        "    'small_bert/bert_en_uncased_L-10_H-128_A-2':\n",
        "        'https://tfhub.dev/tensorflow/bert_en_uncased_preprocess/3',\n",
        "    'small_bert/bert_en_uncased_L-10_H-256_A-4':\n",
        "        'https://tfhub.dev/tensorflow/bert_en_uncased_preprocess/3',\n",
        "    'small_bert/bert_en_uncased_L-10_H-512_A-8':\n",
        "        'https://tfhub.dev/tensorflow/bert_en_uncased_preprocess/3',\n",
        "    'small_bert/bert_en_uncased_L-10_H-768_A-12':\n",
        "        'https://tfhub.dev/tensorflow/bert_en_uncased_preprocess/3',\n",
        "    'small_bert/bert_en_uncased_L-12_H-128_A-2':\n",
        "        'https://tfhub.dev/tensorflow/bert_en_uncased_preprocess/3',\n",
        "    'small_bert/bert_en_uncased_L-12_H-256_A-4':\n",
        "        'https://tfhub.dev/tensorflow/bert_en_uncased_preprocess/3',\n",
        "    'small_bert/bert_en_uncased_L-12_H-512_A-8':\n",
        "        'https://tfhub.dev/tensorflow/bert_en_uncased_preprocess/3',\n",
        "    'small_bert/bert_en_uncased_L-12_H-768_A-12':\n",
        "        'https://tfhub.dev/tensorflow/bert_en_uncased_preprocess/3',\n",
        "    'bert_multi_cased_L-12_H-768_A-12':\n",
        "        'https://tfhub.dev/tensorflow/bert_multi_cased_preprocess/3',\n",
        "    'albert_en_base':\n",
        "        'https://tfhub.dev/tensorflow/albert_en_preprocess/3',\n",
        "    'electra_small':\n",
        "        'https://tfhub.dev/tensorflow/bert_en_uncased_preprocess/3',\n",
        "    'electra_base':\n",
        "        'https://tfhub.dev/tensorflow/bert_en_uncased_preprocess/3',\n",
        "    'experts_pubmed':\n",
        "        'https://tfhub.dev/tensorflow/bert_en_uncased_preprocess/3',\n",
        "    'experts_wiki_books':\n",
        "        'https://tfhub.dev/tensorflow/bert_en_uncased_preprocess/3',\n",
        "    'talking-heads_base':\n",
        "        'https://tfhub.dev/tensorflow/bert_en_uncased_preprocess/3',\n",
        "}\n",
        "\n",
        "tfhub_handle_encoder = map_name_to_handle[bert_model_name]\n",
        "tfhub_handle_preprocess = map_model_to_preprocess[bert_model_name]\n",
        "\n",
        "print(f'BERT model selected           : {tfhub_handle_encoder}')\n",
        "print(f'Preprocess model auto-selected: {tfhub_handle_preprocess}')"
      ]
    },
    {
      "cell_type": "code",
      "execution_count": 117,
      "id": "Dlv2ktK882aJ",
      "metadata": {
        "id": "Dlv2ktK882aJ"
      },
      "outputs": [],
      "source": [
        "reviews = review_samples['review_processed'].fillna('no review')\n",
        "labels = review_samples['useful'].astype(int)\n",
        "\n",
        "X, y = reviews, labels\n",
        "X_train, X_test, y_train, y_test = train_test_split(X, y, test_size=0.2, random_state=0)\n",
        "X_train, X_dev, y_train, y_dev = train_test_split(X_train, y_train, test_size=0.25, random_state=0)"
      ]
    },
    {
      "cell_type": "code",
      "execution_count": 118,
      "id": "h25h0E9kYQr9",
      "metadata": {
        "id": "h25h0E9kYQr9"
      },
      "outputs": [],
      "source": [
        "def build_classifier_model():\n",
        "    text_input = tf.keras.layers.Input(shape=(), dtype=tf.string, name='text')\n",
        "    preprocessing_layer = hub.KerasLayer(tfhub_handle_preprocess, name='preprocessing')\n",
        "    encoder_inputs = preprocessing_layer(text_input)\n",
        "    encoder = hub.KerasLayer(tfhub_handle_encoder, trainable=True, name='BERT_encoder')\n",
        "    outputs = encoder(encoder_inputs)\n",
        "    net = outputs['pooled_output']\n",
        "    net = tf.keras.layers.Dropout(0.1)(net)\n",
        "    net = tf.keras.layers.Dense(1, activation=None, name='classifier')(net)\n",
        "    return tf.keras.Model(text_input, net)"
      ]
    },
    {
      "cell_type": "code",
      "execution_count": 119,
      "id": "s3k_FS8kYQ3A",
      "metadata": {
        "colab": {
          "base_uri": "https://localhost:8080/"
        },
        "id": "s3k_FS8kYQ3A",
        "outputId": "210770c9-70df-4cb0-8a5e-39959becae32"
      },
      "outputs": [
        {
          "output_type": "stream",
          "name": "stdout",
          "text": [
            "tf.Tensor([[0.90388924]], shape=(1, 1), dtype=float32)\n"
          ]
        }
      ],
      "source": [
        "text_test = ['this is such an amazing movie!']\n",
        "classifier_model = build_classifier_model()\n",
        "bert_raw_result = classifier_model(tf.constant(text_test))\n",
        "print(tf.sigmoid(bert_raw_result))"
      ]
    },
    {
      "cell_type": "code",
      "execution_count": 120,
      "id": "d-bTYyERYQ9c",
      "metadata": {
        "colab": {
          "base_uri": "https://localhost:8080/",
          "height": 466
        },
        "id": "d-bTYyERYQ9c",
        "outputId": "599546f3-4cb6-4534-995f-91f2d263b7a4"
      },
      "outputs": [
        {
          "output_type": "execute_result",
          "data": {
            "text/plain": [
              "<IPython.core.display.Image object>"
            ],
            "image/png": "[encoded data removed]"
          },
          "metadata": {},
          "execution_count": 120
        }
      ],
      "source": [
        "tf.keras.utils.plot_model(classifier_model)"
      ]
    },
    {
      "cell_type": "code",
      "execution_count": 121,
      "id": "rhP5HN9BYRCZ",
      "metadata": {
        "id": "rhP5HN9BYRCZ"
      },
      "outputs": [],
      "source": [
        "loss_func = tf.keras.losses.BinaryCrossentropy(from_logits=True)\n",
        "metrics = tf.metrics.BinaryAccuracy()"
      ]
    },
    {
      "cell_type": "code",
      "execution_count": 122,
      "id": "OK7WdVPEZKqC",
      "metadata": {
        "id": "OK7WdVPEZKqC"
      },
      "outputs": [],
      "source": [
        "epochs = 5\n",
        "steps_per_epoch = len(X_train)\n",
        "num_train_steps = steps_per_epoch * epochs\n",
        "num_warmup_steps = int(0.1*num_train_steps)\n",
        "\n",
        "init_lr = 3e-5\n",
        "optimizer = optimization.create_optimizer(init_lr=init_lr,\n",
        "                                          num_train_steps=num_train_steps,\n",
        "                                          num_warmup_steps=num_warmup_steps,\n",
        "                                          optimizer_type='adamw')"
      ]
    },
    {
      "cell_type": "code",
      "execution_count": 123,
      "id": "Q0C9YxpeZK2d",
      "metadata": {
        "id": "Q0C9YxpeZK2d"
      },
      "outputs": [],
      "source": [
        "classifier_model.compile(optimizer=optimizer,\n",
        "                         loss=loss_func,\n",
        "                         metrics=metrics)"
      ]
    },
    {
      "cell_type": "code",
      "execution_count": 124,
      "id": "x95zEKIIZK6i",
      "metadata": {
        "colab": {
          "base_uri": "https://localhost:8080/"
        },
        "id": "x95zEKIIZK6i",
        "outputId": "9ab5d0d7-05b5-42e5-f88a-8bcf108922e2"
      },
      "outputs": [
        {
          "output_type": "stream",
          "name": "stdout",
          "text": [
            "Training model with https://tfhub.dev/tensorflow/small_bert/bert_en_uncased_L-4_H-512_A-8/1\n",
            "Epoch 1/5\n",
            "210/210 [==============================] - 114s 506ms/step - loss: 0.7767 - binary_accuracy: 0.5053 - val_loss: 0.6883 - val_binary_accuracy: 0.5414\n",
            "Epoch 2/5\n",
            "210/210 [==============================] - 105s 501ms/step - loss: 0.6743 - binary_accuracy: 0.5670 - val_loss: 0.6697 - val_binary_accuracy: 0.5848\n",
            "Epoch 3/5\n",
            "210/210 [==============================] - 104s 496ms/step - loss: 0.6548 - binary_accuracy: 0.5869 - val_loss: 0.6713 - val_binary_accuracy: 0.5320\n",
            "Epoch 4/5\n",
            "210/210 [==============================] - 104s 497ms/step - loss: 0.6443 - binary_accuracy: 0.5934 - val_loss: 0.6595 - val_binary_accuracy: 0.5512\n",
            "Epoch 5/5\n",
            "210/210 [==============================] - 104s 494ms/step - loss: 0.6251 - binary_accuracy: 0.6273 - val_loss: 0.6708 - val_binary_accuracy: 0.5463\n"
          ]
        }
      ],
      "source": [
        "print(f'Training model with {tfhub_handle_encoder}')\n",
        "history = classifier_model.fit(x=X_train,\n",
        "                               y=y_train,\n",
        "                               validation_data=(X_dev, y_dev),\n",
        "                               epochs=epochs)"
      ]
    },
    {
      "cell_type": "code",
      "execution_count": 125,
      "id": "1WPisSo99xn_",
      "metadata": {
        "colab": {
          "base_uri": "https://localhost:8080/",
          "height": 295
        },
        "id": "1WPisSo99xn_",
        "outputId": "1afd8241-ceb6-4d31-da04-0d6429f7d32e"
      },
      "outputs": [
        {
          "output_type": "display_data",
          "data": {
            "text/plain": [
              "<Figure size 432x288 with 2 Axes>"
            ],
            "image/png": "[encoded data removed]"
          },
          "metadata": {
            "needs_background": "light"
          }
        }
      ],
      "source": [
        "# Plot confusion matrix\n",
        "y_true = y_test\n",
        "y_pred = (classifier_model.predict(X_test) >= 0.5).astype(\"int32\")\n",
        "\n",
        "ConfusionMatrixDisplay.from_predictions(y_true,\n",
        "                                        y_pred,\n",
        "                                        normalize='all',\n",
        "                                        display_labels=sentiment\n",
        "                                       )\n",
        "\n",
        "plt.title(\"Confusion Matrix of Review Usefulness\")\n",
        "plt.show()"
      ]
    },
    {
      "cell_type": "code",
      "execution_count": 126,
      "id": "VGdrC5yvZK9-",
      "metadata": {
        "colab": {
          "base_uri": "https://localhost:8080/"
        },
        "id": "VGdrC5yvZK9-",
        "outputId": "e12baff3-a110-4e35-a153-e15c92a55656"
      },
      "outputs": [
        {
          "output_type": "stream",
          "name": "stdout",
          "text": [
            "70/70 [==============================] - 14s 203ms/step - loss: 0.6510 - binary_accuracy: 0.5505\n",
            "Model performance metrics on test data\n",
            "Accuracy: 0.6015\n",
            "Loss: 0.6510\n",
            "Precision: 0.5926\n",
            "Recall: 0.5505\n",
            "F1-score: 0.5202\n"
          ]
        }
      ],
      "source": [
        "# Evaluate model\n",
        "loss, accuracy = classifier_model.evaluate(X_test, y_test)\n",
        "precision, recall, f1, support = precision_recall_fscore_support(y_true, y_pred, average='weighted')\n",
        "print(\"Model performance metrics on test data\")\n",
        "print(\"Accuracy: {:.4f}\\nLoss: {:.4f}\\nPrecision: {:.4f}\\nRecall: {:.4f}\\nF1-score: {:.4f}\".format(acc, loss, precision, recall, f1))"
      ]
    },
    {
      "cell_type": "code",
      "execution_count": null,
      "id": "w-hck23fZLBU",
      "metadata": {
        "colab": {
          "base_uri": "https://localhost:8080/",
          "height": 439
        },
        "id": "w-hck23fZLBU",
        "outputId": "c8983f34-299e-4e14-ca11-5b3bc9e4859f"
      },
      "outputs": [
        {
          "name": "stdout",
          "output_type": "stream",
          "text": [
            "dict_keys(['loss', 'binary_accuracy', 'val_loss', 'val_binary_accuracy'])\n"
          ]
        },
        {
          "data": {
            "text/plain": [
              "<matplotlib.legend.Legend at 0x7f7f2adc5110>"
            ]
          },
          "execution_count": 114,
          "metadata": {},
          "output_type": "execute_result"
        },
        {
          "data": {
            "image/png": "[encoded data removed]",
            "text/plain": [
              "<Figure size 720x432 with 2 Axes>"
            ]
          },
          "metadata": {
            "needs_background": "light"
          },
          "output_type": "display_data"
        }
      ],
      "source": [
        "history_dict = history.history\n",
        "print(history_dict.keys())\n",
        "\n",
        "acc = history_dict['binary_accuracy']\n",
        "val_acc = history_dict['val_binary_accuracy']\n",
        "loss = history_dict['loss']\n",
        "val_loss = history_dict['val_loss']\n",
        "\n",
        "epochs = range(1, len(acc) + 1)\n",
        "fig = plt.figure(figsize=(10, 6))\n",
        "fig.tight_layout()\n",
        "\n",
        "plt.subplot(2, 1, 1)\n",
        "# r is for \"solid red line\"\n",
        "plt.plot(epochs, loss, 'r', label='Training loss')\n",
        "# b is for \"solid blue line\"\n",
        "plt.plot(epochs, val_loss, 'b', label='Validation loss')\n",
        "plt.title('Training and validation loss')\n",
        "# plt.xlabel('Epochs')\n",
        "plt.ylabel('Loss')\n",
        "plt.legend()\n",
        "\n",
        "plt.subplot(2, 1, 2)\n",
        "plt.plot(epochs, acc, 'r', label='Training acc')\n",
        "plt.plot(epochs, val_acc, 'b', label='Validation acc')\n",
        "plt.title('Training and validation accuracy')\n",
        "plt.xlabel('Epochs')\n",
        "plt.ylabel('Accuracy')\n",
        "plt.legend(loc='lower right')"
      ]
    },
    {
      "cell_type": "markdown",
      "id": "6b9a5f5b",
      "metadata": {
        "id": "6b9a5f5b"
      },
      "source": [
        "## X.X Explanation transfer learning"
      ]
    },
    {
      "cell_type": "code",
      "execution_count": null,
      "id": "5b3cba98",
      "metadata": {
        "id": "5b3cba98"
      },
      "outputs": [],
      "source": [
        "# from transformers.models.t5 import T5Model\n",
        "from transformers import TFT5Model"
      ]
    },
    {
      "cell_type": "code",
      "execution_count": null,
      "id": "6f147ebe",
      "metadata": {
        "id": "6f147ebe"
      },
      "outputs": [],
      "source": [
        "model_args = {\n",
        "    \"reprocess_input_data\": True,\n",
        "    \"overwrite_output_dir\": True,\n",
        "    \"max_seq_length\": 128,\n",
        "    \"train_batch_size\": 8,\n",
        "    \"num_train_epochs\": 1,\n",
        "    \"save_eval_checkpoints\": True,\n",
        "    \"save_steps\": -1,\n",
        "    \"use_multiprocessing\": False,\n",
        "    \"evaluate_during_training\": True,\n",
        "    \"evaluate_during_training_steps\": 15000,\n",
        "    \"evaluate_during_training_verbose\": True,\n",
        "    \"fp16\": False,\n",
        "\n",
        "    \"wandb_project\": \"Question Generation with T5\",\n",
        "}\n",
        "\n",
        "model = TFT5Model.from_pretrained(\"t5-small\")"
      ]
    },
    {
      "cell_type": "markdown",
      "id": "b5b66424",
      "metadata": {
        "id": "b5b66424"
      },
      "source": [
        "### X.X Pre-trained sentiment span extraction model\n",
        "\n",
        "https://huggingface.co/mrm8488/t5-base-finetuned-span-sentiment-extraction"
      ]
    },
    {
      "cell_type": "code",
      "execution_count": null,
      "id": "4a18c4d1",
      "metadata": {
        "id": "4a18c4d1"
      },
      "outputs": [],
      "source": [
        "example = review_samples.iloc[2]['reviewText']"
      ]
    },
    {
      "cell_type": "code",
      "execution_count": null,
      "id": "084b4b25",
      "metadata": {
        "id": "084b4b25"
      },
      "outputs": [],
      "source": [
        "from transformers import AutoModelWithLMHead, AutoTokenizer\n",
        "\n",
        "tokenizer = AutoTokenizer.from_pretrained(\"mrm8488/t5-base-finetuned-span-sentiment-extraction\")\n",
        "model = AutoModelWithLMHead.from_pretrained(\"mrm8488/t5-base-finetuned-span-sentiment-extraction\")\n",
        "\n",
        "def get_sentiment_span(text):\n",
        "    input_ids = tokenizer.encode(text, return_tensors=\"pt\", add_special_tokens=True)  # Batch size 1\n",
        "\n",
        "    generated_ids = model.generate(input_ids=input_ids, num_beams=1, max_length=80).squeeze()\n",
        "\n",
        "    predicted_span = tokenizer.decode(generated_ids, skip_special_tokens=True, clean_up_tokenization_spaces=True)\n",
        "\n",
        "    return predicted_span\n",
        "  \n",
        "get_sentiment_span(\"question: negative context: My bike was put on hold...should have known that.... argh total bummer\")\n",
        "\n",
        "# output: 'argh total bummer'\n",
        "\n",
        "get_sentiment_span(\"question: positive context: On the monday, so i wont be able to be with you! i love you\")\n",
        "\n",
        "# output: 'i love you'"
      ]
    },
    {
      "cell_type": "code",
      "execution_count": null,
      "id": "9386f8ca",
      "metadata": {
        "id": "9386f8ca"
      },
      "outputs": [],
      "source": [
        "get_sentiment_span(\"question: negative context: {}\".format(example))"
      ]
    },
    {
      "cell_type": "code",
      "execution_count": null,
      "id": "19797147",
      "metadata": {
        "id": "19797147"
      },
      "outputs": [],
      "source": [
        "review_samples.iloc[2]['reviewText']"
      ]
    },
    {
      "cell_type": "code",
      "execution_count": null,
      "id": "c8c98f0d",
      "metadata": {
        "id": "c8c98f0d"
      },
      "outputs": [],
      "source": [
        ""
      ]
    }
  ],
  "metadata": {
    "accelerator": "GPU",
    "colab": {
      "name": "model-selection.ipynb",
      "provenance": []
    },
    "kernelspec": {
      "display_name": "Python 3 (ipykernel)",
      "language": "python",
      "name": "python3"
    },
    "language_info": {
      "codemirror_mode": {
        "name": "ipython",
        "version": 3
      },
      "file_extension": ".py",
      "mimetype": "text/x-python",
      "name": "python",
      "nbconvert_exporter": "python",
      "pygments_lexer": "ipython3",
      "version": "3.8.8"
    }
  },
  "nbformat": 4,
  "nbformat_minor": 5
}