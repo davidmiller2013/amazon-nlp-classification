{
 "cells": [
  {
   "cell_type": "markdown",
   "id": "20bb2820",
   "metadata": {
    "id": "20bb2820"
   },
   "source": [
    "# Model selection and evaluation"
   ]
  },
  {
   "cell_type": "markdown",
   "id": "18ca5f9b",
   "metadata": {
    "id": "18ca5f9b"
   },
   "source": [
    "__Notes__\n",
    "\n",
    "1. Create set of rules for what reviews to accept or throw out\n",
    "    1. Min or max number of words\n",
    "    1. Include URLs or not\n",
    "    1. Emojis\n",
    "    1. Eliminate stop words\n",
    "    \n",
    "1. Model selection\n",
    "    1. CNN for usefulness\n",
    "    1. Sample from useful reviews only\n",
    "    1. Setup T5 transfering learning model to generate \"justification\" text\n",
    "\n",
    "- LSTM is good\n",
    "    - You can add in an attention layer because it can look backwards and learn what words were more important than others\n",
    "- CNN is good for sentence classification \n",
    "    - With a fully connected Dense layer it is not good at generalizing\n",
    "- BERT is good because of its self-attention mechanism where every word looks at every other layer\n",
    "    - Use the CLS token as the only thing you feed into the output layer that is going to make the prediction on the classification"
   ]
  },
  {
   "cell_type": "markdown",
   "id": "835c4870",
   "metadata": {
    "id": "835c4870"
   },
   "source": [
    "## 0.0 Notebook setup"
   ]
  },
  {
   "cell_type": "markdown",
   "id": "d6e531ea",
   "metadata": {
    "id": "d6e531ea"
   },
   "source": [
    "### X.X Colab Setup"
   ]
  },
  {
   "cell_type": "code",
   "execution_count": null,
   "id": "aX0IHvqPrB9h",
   "metadata": {
    "colab": {
     "base_uri": "https://localhost:8080/"
    },
    "id": "aX0IHvqPrB9h",
    "outputId": "7444dd75-b31b-4464-db29-9e221d5c07b4"
   },
   "outputs": [],
   "source": [
    "from google.colab import drive\n",
    "drive.mount('/content/gdrive/', force_remount=True)"
   ]
  },
  {
   "cell_type": "code",
   "execution_count": null,
   "id": "9vnzzqbdraH_",
   "metadata": {
    "id": "9vnzzqbdraH_"
   },
   "outputs": [],
   "source": [
    "! mkdir data"
   ]
  },
  {
   "cell_type": "code",
   "execution_count": null,
   "id": "0A4JchtFtgsT",
   "metadata": {
    "id": "0A4JchtFtgsT"
   },
   "outputs": [],
   "source": [
    "! cp \"/content/gdrive/My Drive/nlp-book-reviews/data/electronics.csv\" ./data/"
   ]
  },
  {
   "cell_type": "code",
   "execution_count": null,
   "id": "ncWfMYNDwGnj",
   "metadata": {
    "colab": {
     "base_uri": "https://localhost:8080/",
     "height": 35
    },
    "id": "ncWfMYNDwGnj",
    "outputId": "18923503-a3c2-4e4a-ee38-55df949b93cd"
   },
   "outputs": [],
   "source": [
    "import tensorflow as tf\n",
    "tf.test.gpu_device_name()"
   ]
  },
  {
   "cell_type": "code",
   "execution_count": null,
   "id": "VIpdJLpswGLc",
   "metadata": {
    "colab": {
     "base_uri": "https://localhost:8080/"
    },
    "id": "VIpdJLpswGLc",
    "outputId": "0eceac12-0bf8-4cf5-c282-a322d001fcde"
   },
   "outputs": [],
   "source": [
    "from tensorflow.python.client import device_lib\n",
    "device_lib.list_local_devices()"
   ]
  },
  {
   "cell_type": "code",
   "execution_count": null,
   "id": "IcYfIaElNZwb",
   "metadata": {
    "colab": {
     "base_uri": "https://localhost:8080/"
    },
    "id": "IcYfIaElNZwb",
    "outputId": "a1c4f3b9-0151-41fc-cc29-7e294bd11a01"
   },
   "outputs": [],
   "source": [
    "!pip install --quiet transformers"
   ]
  },
  {
   "cell_type": "markdown",
   "id": "7631b809",
   "metadata": {
    "id": "7631b809"
   },
   "source": [
    "### X.X Local setup"
   ]
  },
  {
   "cell_type": "code",
   "execution_count": 300,
   "id": "3f0320af",
   "metadata": {
    "id": "3f0320af"
   },
   "outputs": [],
   "source": [
    "import warnings\n",
    "\n",
    "warnings.simplefilter(\"ignore\", UserWarning)\n",
    "warnings.simplefilter(\"ignore\", FutureWarning)\n",
    "warnings.simplefilter(\"ignore\", DeprecationWarning)"
   ]
  },
  {
   "cell_type": "code",
   "execution_count": 301,
   "id": "3abac3ad",
   "metadata": {
    "id": "3abac3ad"
   },
   "outputs": [],
   "source": [
    "# Statistics\n",
    "import numpy as np\n",
    "import pandas as pd\n",
    "from scipy.stats import chi2_contingency, norm, skew, kurtosis\n",
    "\n",
    "# Visualization\n",
    "%matplotlib inline\n",
    "import matplotlib.pyplot as plt\n",
    "import seaborn as sns\n",
    "\n",
    "# Model selection and evaluation\n",
    "from sklearn.model_selection import train_test_split\n",
    "from imblearn.over_sampling import SMOTE\n",
    "from sklearn.metrics import confusion_matrix, ConfusionMatrixDisplay\n",
    "from sklearn.metrics import classification_report, precision_recall_fscore_support, roc_curve, auc, accuracy_score\n",
    "\n",
    "# Model building\n",
    "from sklearn.naive_bayes import MultinomialNB\n",
    "from sklearn.feature_extraction.text import TfidfVectorizer\n",
    "\n",
    "import tensorflow as tf\n",
    "import keras\n",
    "from keras.preprocessing.text import Tokenizer\n",
    "from keras.preprocessing.sequence import pad_sequences\n",
    "from keras.models import Sequential\n",
    "from keras.layers import Embedding, Bidirectional, Dense, Flatten, LSTM, Dropout\n",
    "from keras.layers.convolutional import Conv1D\n",
    "from keras.layers.convolutional import MaxPooling1D\n",
    "\n",
    "# BERT-specific\n",
    "# from transformers import BertTokenizer, TFBertForSequenceClassification\n",
    "# from transformers import InputExample, InputFeatures"
   ]
  },
  {
   "cell_type": "code",
   "execution_count": 302,
   "id": "768f4b5c",
   "metadata": {
    "id": "768f4b5c"
   },
   "outputs": [],
   "source": [
    "# Local\n",
    "data = '../data/combined.csv'\n",
    "\n",
    "# Colab\n",
    "# data = './data/combined.csv'\n",
    "\n",
    "review_samples = pd.read_csv(data)"
   ]
  },
  {
   "cell_type": "code",
   "execution_count": 303,
   "id": "b2e1ec74",
   "metadata": {
    "colab": {
     "base_uri": "https://localhost:8080/"
    },
    "id": "8FObWP5p2qGn",
    "outputId": "5c4e1b5f-a4d6-4660-b23c-9221fae51229"
   },
   "outputs": [
    {
     "data": {
      "text/plain": [
       "1    2839\n",
       "0    1616\n",
       "Name: useful, dtype: int64"
      ]
     },
     "execution_count": 303,
     "metadata": {},
     "output_type": "execute_result"
    }
   ],
   "source": [
    "# Create sentiment axis label for plots\n",
    "sentiment = ['Not Useful', 'Useful']\n",
    "\n",
    "# Check split of useful / not useful\n",
    "review_samples['useful'].value_counts()"
   ]
  },
  {
   "cell_type": "markdown",
   "id": "72ffdf0f",
   "metadata": {
    "id": "72ffdf0f"
   },
   "source": [
    "## X.X Electronics"
   ]
  },
  {
   "cell_type": "code",
   "execution_count": 304,
   "id": "5349c536",
   "metadata": {},
   "outputs": [],
   "source": [
    "electronics = review_samples[review_samples['category'] == 'electronics']"
   ]
  },
  {
   "cell_type": "markdown",
   "id": "1cc10c6c",
   "metadata": {
    "id": "1cc10c6c"
   },
   "source": [
    "### X.X Naive Bayes - Electronics"
   ]
  },
  {
   "cell_type": "code",
   "execution_count": 308,
   "id": "04eef1b8",
   "metadata": {
    "id": "40kfYLJRty7a"
   },
   "outputs": [],
   "source": [
    "reviews = electronics['review_processed'].fillna('no review')\n",
    "labels = electronics['useful'].astype(int)"
   ]
  },
  {
   "cell_type": "code",
   "execution_count": 309,
   "id": "e6197a23",
   "metadata": {
    "id": "e6197a23"
   },
   "outputs": [],
   "source": [
    "X_train, X_test, y_train, y_test = train_test_split(reviews, labels, test_size=0.2, random_state=0)\n",
    "X_train, X_dev, y_train, y_dev = train_test_split(X_train, y_train, test_size=0.25, random_state=0)\n",
    "\n",
    "tf_idf = TfidfVectorizer(ngram_range=(1, 3),\n",
    "                         binary=True,\n",
    "                         smooth_idf=False)\n",
    "\n",
    "X_train_tfidf = tf_idf.fit_transform(X_train)\n",
    "X_dev_tfidf = tf_idf.transform(X_dev)\n",
    "X_test_tfidf = tf_idf.transform(X_test)\n",
    "\n",
    "# Use SMOTE to resolve class imbalance\n",
    "sm = SMOTE(random_state=0)\n",
    "X_train_tfidf, y_train = sm.fit_resample(X_train_tfidf, y_train)"
   ]
  },
  {
   "cell_type": "code",
   "execution_count": 311,
   "id": "360bf0a0",
   "metadata": {
    "colab": {
     "base_uri": "https://localhost:8080/"
    },
    "id": "360bf0a0",
    "outputId": "813f8eda-e69f-4450-d13b-8b343480688d"
   },
   "outputs": [
    {
     "data": {
      "text/plain": [
       "MultinomialNB(alpha=1.8)"
      ]
     },
     "execution_count": 311,
     "metadata": {},
     "output_type": "execute_result"
    }
   ],
   "source": [
    "# Build model\n",
    "nb_model = MultinomialNB(alpha=1.8)\n",
    "\n",
    "# Fit model\n",
    "nb_model.fit(X_train_tfidf, y_train)"
   ]
  },
  {
   "cell_type": "code",
   "execution_count": 312,
   "id": "3fe5c18b",
   "metadata": {
    "colab": {
     "base_uri": "https://localhost:8080/"
    },
    "id": "3fe5c18b",
    "outputId": "b6cff4dc-9a24-47b8-c4a4-f76016159a3b"
   },
   "outputs": [
    {
     "name": "stdout",
     "output_type": "stream",
     "text": [
      "0.9952718676122931 0.5483870967741935 0.592741935483871\n"
     ]
    }
   ],
   "source": [
    "# Evaluate model on dev data\n",
    "train_acc = nb_model.score(X_train_tfidf, y_train)\n",
    "dev_acc = nb_model.score(X_dev_tfidf, y_dev)\n",
    "test_acc = nb_model.score(X_test_tfidf, y_test)\n",
    "\n",
    "print(train_acc, dev_acc, test_acc)"
   ]
  },
  {
   "cell_type": "code",
   "execution_count": 313,
   "id": "7add20ab",
   "metadata": {
    "colab": {
     "base_uri": "https://localhost:8080/",
     "height": 295
    },
    "id": "7add20ab",
    "outputId": "e78c477e-7f82-4261-bc3a-fa5994a0153d"
   },
   "outputs": [
    {
     "data": {
      "image/png": "[encoded data removed]",
      "text/plain": [
       "<Figure size 432x288 with 2 Axes>"
      ]
     },
     "metadata": {
      "needs_background": "light"
     },
     "output_type": "display_data"
    }
   ],
   "source": [
    "# Evaluate model on test data and plot confusion matrix\n",
    "y_true = y_train\n",
    "y_pred = nb_model.predict(X_train_tfidf)\n",
    "\n",
    "ConfusionMatrixDisplay.from_predictions(y_true,\n",
    "                                        y_pred,\n",
    "                                        normalize='all',\n",
    "                                        display_labels=sentiment\n",
    "                                       )\n",
    "\n",
    "plt.title(\"Confusion Matrix of Review Usefulness\")\n",
    "plt.show()"
   ]
  },
  {
   "cell_type": "code",
   "execution_count": 314,
   "id": "f3f708ff",
   "metadata": {
    "colab": {
     "base_uri": "https://localhost:8080/",
     "height": 295
    },
    "id": "7add20ab",
    "outputId": "e78c477e-7f82-4261-bc3a-fa5994a0153d"
   },
   "outputs": [
    {
     "data": {
      "image/png": "[encoded data removed]",
      "text/plain": [
       "<Figure size 432x288 with 2 Axes>"
      ]
     },
     "metadata": {
      "needs_background": "light"
     },
     "output_type": "display_data"
    }
   ],
   "source": [
    "# Evaluate model on test data and plot confusion matrix\n",
    "y_true = y_test\n",
    "y_pred = nb_model.predict(X_test_tfidf)\n",
    "\n",
    "ConfusionMatrixDisplay.from_predictions(y_true,\n",
    "                                        y_pred,\n",
    "                                        normalize='all',\n",
    "                                        display_labels=sentiment\n",
    "                                       )\n",
    "\n",
    "plt.title(\"Confusion Matrix of Review Usefulness\")\n",
    "plt.show()"
   ]
  },
  {
   "cell_type": "code",
   "execution_count": 315,
   "id": "d9b80b15",
   "metadata": {
    "colab": {
     "base_uri": "https://localhost:8080/",
     "height": 313
    },
    "id": "d9b80b15",
    "outputId": "545bdf63-90f4-4b3f-c395-14a5f18fde02"
   },
   "outputs": [
    {
     "name": "stdout",
     "output_type": "stream",
     "text": [
      "AUC: 0.5630\n"
     ]
    },
    {
     "data": {
      "image/png": "[encoded data removed]",
      "text/plain": [
       "<Figure size 432x288 with 1 Axes>"
      ]
     },
     "metadata": {
      "needs_background": "light"
     },
     "output_type": "display_data"
    }
   ],
   "source": [
    "fpr, tpr, threshold = roc_curve(y_true, y_pred)\n",
    "roc_auc = auc(fpr, tpr)\n",
    "print(f'AUC: {roc_auc:.4f}')\n",
    "\n",
    "# Plot ROC AUC\n",
    "plt.title('Receiver Operating Characteristic')\n",
    "plt.plot(fpr, tpr, 'b', label = 'AUC = %0.2f' % roc_auc)\n",
    "plt.legend(loc = 'lower right')\n",
    "plt.plot([0, 1], [0, 1],'r--')\n",
    "plt.xlim([0, 1])\n",
    "plt.ylim([0, 1])\n",
    "plt.ylabel('True Positive Rate')\n",
    "plt.xlabel('False Positive Rate')\n",
    "plt.show()"
   ]
  },
  {
   "cell_type": "markdown",
   "id": "3f093368",
   "metadata": {},
   "source": [
    "## X.X Tokenization and analytics"
   ]
  },
  {
   "cell_type": "code",
   "execution_count": 316,
   "id": "f42c4e7e",
   "metadata": {
    "id": "10c5748e"
   },
   "outputs": [],
   "source": [
    "# Set tokenization parameters\n",
    "num_words = 4000\n",
    "num_len = 512\n",
    "oov_token = '<UNK>'\n",
    "pad_type = 'post'\n",
    "trunc_type = 'post'\n",
    "\n",
    "# Tokenize review text\n",
    "tokenizer = Tokenizer(num_words=num_words, oov_token=oov_token)\n",
    "tokenizer.fit_on_texts(reviews)\n",
    "sequences = tokenizer.texts_to_sequences(reviews)\n",
    "\n",
    "# Additional tokenization parameters\n",
    "max_words = len(tokenizer.word_index)\n",
    "max_len = max([len(x) for x in sequences])\n",
    "\n",
    "# Pad review text tokens\n",
    "review_tokens = pad_sequences(sequences, padding=pad_type, truncating=trunc_type, maxlen=num_len)"
   ]
  },
  {
   "cell_type": "code",
   "execution_count": 317,
   "id": "70e55cd5",
   "metadata": {},
   "outputs": [
    {
     "data": {
      "text/plain": [
       "6052"
      ]
     },
     "execution_count": 317,
     "metadata": {},
     "output_type": "execute_result"
    }
   ],
   "source": [
    "len(tokenizer.word_counts)"
   ]
  },
  {
   "cell_type": "code",
   "execution_count": 318,
   "id": "de30f29c",
   "metadata": {},
   "outputs": [
    {
     "data": {
      "text/html": [
       "<div>\n",
       "<style scoped>\n",
       "    .dataframe tbody tr th:only-of-type {\n",
       "        vertical-align: middle;\n",
       "    }\n",
       "\n",
       "    .dataframe tbody tr th {\n",
       "        vertical-align: top;\n",
       "    }\n",
       "\n",
       "    .dataframe thead th {\n",
       "        text-align: right;\n",
       "    }\n",
       "</style>\n",
       "<table border=\"1\" class=\"dataframe\">\n",
       "  <thead>\n",
       "    <tr style=\"text-align: right;\">\n",
       "      <th></th>\n",
       "      <th>word</th>\n",
       "      <th>frequency</th>\n",
       "    </tr>\n",
       "  </thead>\n",
       "  <tbody>\n",
       "    <tr>\n",
       "      <th>14</th>\n",
       "      <td>sound</td>\n",
       "      <td>656</td>\n",
       "    </tr>\n",
       "    <tr>\n",
       "      <th>82</th>\n",
       "      <td>use</td>\n",
       "      <td>629</td>\n",
       "    </tr>\n",
       "    <tr>\n",
       "      <th>63</th>\n",
       "      <td>work</td>\n",
       "      <td>561</td>\n",
       "    </tr>\n",
       "    <tr>\n",
       "      <th>13</th>\n",
       "      <td>good</td>\n",
       "      <td>513</td>\n",
       "    </tr>\n",
       "    <tr>\n",
       "      <th>179</th>\n",
       "      <td>one</td>\n",
       "      <td>455</td>\n",
       "    </tr>\n",
       "    <tr>\n",
       "      <th>49</th>\n",
       "      <td>great</td>\n",
       "      <td>438</td>\n",
       "    </tr>\n",
       "    <tr>\n",
       "      <th>96</th>\n",
       "      <td>get</td>\n",
       "      <td>411</td>\n",
       "    </tr>\n",
       "    <tr>\n",
       "      <th>74</th>\n",
       "      <td>headphone</td>\n",
       "      <td>391</td>\n",
       "    </tr>\n",
       "    <tr>\n",
       "      <th>11</th>\n",
       "      <td>speaker</td>\n",
       "      <td>388</td>\n",
       "    </tr>\n",
       "    <tr>\n",
       "      <th>2</th>\n",
       "      <td>well</td>\n",
       "      <td>332</td>\n",
       "    </tr>\n",
       "  </tbody>\n",
       "</table>\n",
       "</div>"
      ],
      "text/plain": [
       "          word  frequency\n",
       "14       sound        656\n",
       "82         use        629\n",
       "63        work        561\n",
       "13        good        513\n",
       "179        one        455\n",
       "49       great        438\n",
       "96         get        411\n",
       "74   headphone        391\n",
       "11     speaker        388\n",
       "2         well        332"
      ]
     },
     "execution_count": 318,
     "metadata": {},
     "output_type": "execute_result"
    }
   ],
   "source": [
    "vocab = pd.DataFrame(tokenizer.word_counts.items(), columns=['word', 'frequency'])\n",
    "vocab.sort_values('frequency', ascending=False).head(10)"
   ]
  },
  {
   "cell_type": "code",
   "execution_count": 319,
   "id": "edabb9ac",
   "metadata": {},
   "outputs": [
    {
     "data": {
      "image/png": "[encoded data removed]",
      "text/plain": [
       "<Figure size 432x288 with 1 Axes>"
      ]
     },
     "metadata": {
      "needs_background": "light"
     },
     "output_type": "display_data"
    }
   ],
   "source": [
    "filtered_vocab = vocab[vocab['frequency'] > 1]\n",
    "plt.hist(filtered_vocab['frequency'], bins=20)\n",
    "plt.show()"
   ]
  },
  {
   "cell_type": "code",
   "execution_count": 320,
   "id": "1b171425",
   "metadata": {},
   "outputs": [
    {
     "name": "stdout",
     "output_type": "stream",
     "text": [
      "Max words in vocabulary: 6053\n",
      "Max sequence length: 977\n",
      "\n",
      "\n",
      "Words allowed in vocabulary: 4000\n",
      "Allowed sequence length: 512\n",
      "\n",
      "\n",
      "Example processed review:\n",
      "works pissa\n",
      "\n",
      "\n",
      "Example tokenized review:\n",
      "[ 222 3343    0    0    0    0    0    0    0    0    0    0    0    0\n",
      "    0    0    0    0    0    0    0    0    0    0    0    0    0    0\n",
      "    0    0    0    0    0    0    0    0    0    0    0    0    0    0\n",
      "    0    0    0    0    0    0    0    0    0    0    0    0    0    0\n",
      "    0    0    0    0    0    0    0    0    0    0    0    0    0    0\n",
      "    0    0    0    0    0    0    0    0    0    0    0    0    0    0\n",
      "    0    0    0    0    0    0    0    0    0    0    0    0    0    0\n",
      "    0    0    0    0    0    0    0    0    0    0    0    0    0    0\n",
      "    0    0    0    0    0    0    0    0    0    0    0    0    0    0\n",
      "    0    0    0    0    0    0    0    0    0    0    0    0    0    0\n",
      "    0    0    0    0    0    0    0    0    0    0    0    0    0    0\n",
      "    0    0    0    0    0    0    0    0    0    0    0    0    0    0\n",
      "    0    0    0    0    0    0    0    0    0    0    0    0    0    0\n",
      "    0    0    0    0    0    0    0    0    0    0    0    0    0    0\n",
      "    0    0    0    0    0    0    0    0    0    0    0    0    0    0\n",
      "    0    0    0    0    0    0    0    0    0    0    0    0    0    0\n",
      "    0    0    0    0    0    0    0    0    0    0    0    0    0    0\n",
      "    0    0    0    0    0    0    0    0    0    0    0    0    0    0\n",
      "    0    0    0    0    0    0    0    0    0    0    0    0    0    0\n",
      "    0    0    0    0    0    0    0    0    0    0    0    0    0    0\n",
      "    0    0    0    0    0    0    0    0    0    0    0    0    0    0\n",
      "    0    0    0    0    0    0    0    0    0    0    0    0    0    0\n",
      "    0    0    0    0    0    0    0    0    0    0    0    0    0    0\n",
      "    0    0    0    0    0    0    0    0    0    0    0    0    0    0\n",
      "    0    0    0    0    0    0    0    0    0    0    0    0    0    0\n",
      "    0    0    0    0    0    0    0    0    0    0    0    0    0    0\n",
      "    0    0    0    0    0    0    0    0    0    0    0    0    0    0\n",
      "    0    0    0    0    0    0    0    0    0    0    0    0    0    0\n",
      "    0    0    0    0    0    0    0    0    0    0    0    0    0    0\n",
      "    0    0    0    0    0    0    0    0    0    0    0    0    0    0\n",
      "    0    0    0    0    0    0    0    0    0    0    0    0    0    0\n",
      "    0    0    0    0    0    0    0    0    0    0    0    0    0    0\n",
      "    0    0    0    0    0    0    0    0    0    0    0    0    0    0\n",
      "    0    0    0    0    0    0    0    0    0    0    0    0    0    0\n",
      "    0    0    0    0    0    0    0    0    0    0    0    0    0    0\n",
      "    0    0    0    0    0    0    0    0    0    0    0    0    0    0\n",
      "    0    0    0    0    0    0    0    0]\n"
     ]
    }
   ],
   "source": [
    "print('Max words in vocabulary: {}'.format(max_words))\n",
    "print('Max sequence length: {}'.format(max_len))\n",
    "print('\\n')\n",
    "\n",
    "print('Words allowed in vocabulary: {}'.format(num_words))\n",
    "print('Allowed sequence length: {}'.format(num_len))\n",
    "print('\\n')\n",
    "\n",
    "print('Example processed review:')\n",
    "print(review_samples['review_processed'].iloc[0])\n",
    "print('\\n')\n",
    "\n",
    "print('Example tokenized review:')\n",
    "print(review_tokens[0])"
   ]
  },
  {
   "cell_type": "code",
   "execution_count": 321,
   "id": "3ca225a6",
   "metadata": {},
   "outputs": [
    {
     "data": {
      "image/png": "[encoded data removed]",
      "text/plain": [
       "<Figure size 432x288 with 1 Axes>"
      ]
     },
     "metadata": {
      "needs_background": "light"
     },
     "output_type": "display_data"
    }
   ],
   "source": [
    "seq_len = [len(x) for x in sequences]\n",
    "d = {'sequence': sequences, 'length': seq_len}\n",
    "seqs = pd.DataFrame(data = d)\n",
    "\n",
    "plt.hist(seqs['length'])\n",
    "plt.show()"
   ]
  },
  {
   "cell_type": "code",
   "execution_count": 322,
   "id": "afb0f590",
   "metadata": {},
   "outputs": [
    {
     "data": {
      "text/html": [
       "<div>\n",
       "<style scoped>\n",
       "    .dataframe tbody tr th:only-of-type {\n",
       "        vertical-align: middle;\n",
       "    }\n",
       "\n",
       "    .dataframe tbody tr th {\n",
       "        vertical-align: top;\n",
       "    }\n",
       "\n",
       "    .dataframe thead th {\n",
       "        text-align: right;\n",
       "    }\n",
       "</style>\n",
       "<table border=\"1\" class=\"dataframe\">\n",
       "  <thead>\n",
       "    <tr style=\"text-align: right;\">\n",
       "      <th></th>\n",
       "      <th>sequence</th>\n",
       "      <th>length</th>\n",
       "    </tr>\n",
       "  </thead>\n",
       "  <tbody>\n",
       "    <tr>\n",
       "      <th>21</th>\n",
       "      <td>[1462, 3361, 162, 207, 104, 451, 6, 3362, 974,...</td>\n",
       "      <td>838</td>\n",
       "    </tr>\n",
       "    <tr>\n",
       "      <th>69</th>\n",
       "      <td>[3461, 79, 291, 1187, 91, 181, 1500, 15, 41, 7...</td>\n",
       "      <td>616</td>\n",
       "    </tr>\n",
       "    <tr>\n",
       "      <th>157</th>\n",
       "      <td>[663, 3662, 602, 3663, 25, 9, 1365, 3, 941, 53...</td>\n",
       "      <td>977</td>\n",
       "    </tr>\n",
       "    <tr>\n",
       "      <th>395</th>\n",
       "      <td>[2835, 1891, 135, 582, 2836, 2837, 582, 217, 2...</td>\n",
       "      <td>951</td>\n",
       "    </tr>\n",
       "    <tr>\n",
       "      <th>618</th>\n",
       "      <td>[55, 335, 23, 47, 16, 18, 279, 393, 21, 937, 5...</td>\n",
       "      <td>749</td>\n",
       "    </tr>\n",
       "    <tr>\n",
       "      <th>666</th>\n",
       "      <td>[257, 1224, 577, 2313, 40, 279, 53, 130, 52, 1...</td>\n",
       "      <td>701</td>\n",
       "    </tr>\n",
       "    <tr>\n",
       "      <th>682</th>\n",
       "      <td>[2835, 1891, 135, 582, 2836, 2837, 582, 217, 2...</td>\n",
       "      <td>951</td>\n",
       "    </tr>\n",
       "    <tr>\n",
       "      <th>793</th>\n",
       "      <td>[280, 3097, 274, 181, 1, 47, 36, 221, 181, 15,...</td>\n",
       "      <td>585</td>\n",
       "    </tr>\n",
       "    <tr>\n",
       "      <th>930</th>\n",
       "      <td>[280, 3097, 1, 1024, 16, 40, 36, 805, 868, 102...</td>\n",
       "      <td>897</td>\n",
       "    </tr>\n",
       "    <tr>\n",
       "      <th>1086</th>\n",
       "      <td>[352, 103, 868, 55, 17, 642, 40, 1454, 9, 168,...</td>\n",
       "      <td>652</td>\n",
       "    </tr>\n",
       "    <tr>\n",
       "      <th>1122</th>\n",
       "      <td>[1, 1, 1365, 1, 1824, 1, 577, 342, 1111, 191, ...</td>\n",
       "      <td>646</td>\n",
       "    </tr>\n",
       "    <tr>\n",
       "      <th>1140</th>\n",
       "      <td>[1215, 19, 47, 89, 2934, 1127, 278, 378, 56, 3...</td>\n",
       "      <td>606</td>\n",
       "    </tr>\n",
       "  </tbody>\n",
       "</table>\n",
       "</div>"
      ],
      "text/plain": [
       "                                               sequence  length\n",
       "21    [1462, 3361, 162, 207, 104, 451, 6, 3362, 974,...     838\n",
       "69    [3461, 79, 291, 1187, 91, 181, 1500, 15, 41, 7...     616\n",
       "157   [663, 3662, 602, 3663, 25, 9, 1365, 3, 941, 53...     977\n",
       "395   [2835, 1891, 135, 582, 2836, 2837, 582, 217, 2...     951\n",
       "618   [55, 335, 23, 47, 16, 18, 279, 393, 21, 937, 5...     749\n",
       "666   [257, 1224, 577, 2313, 40, 279, 53, 130, 52, 1...     701\n",
       "682   [2835, 1891, 135, 582, 2836, 2837, 582, 217, 2...     951\n",
       "793   [280, 3097, 274, 181, 1, 47, 36, 221, 181, 15,...     585\n",
       "930   [280, 3097, 1, 1024, 16, 40, 36, 805, 868, 102...     897\n",
       "1086  [352, 103, 868, 55, 17, 642, 40, 1454, 9, 168,...     652\n",
       "1122  [1, 1, 1365, 1, 1824, 1, 577, 342, 1111, 191, ...     646\n",
       "1140  [1215, 19, 47, 89, 2934, 1127, 278, 378, 56, 3...     606"
      ]
     },
     "execution_count": 322,
     "metadata": {},
     "output_type": "execute_result"
    }
   ],
   "source": [
    "seqs[seqs['length'] > 512]"
   ]
  },
  {
   "cell_type": "markdown",
   "id": "8d132915",
   "metadata": {
    "id": "8d132915"
   },
   "source": [
    "### X.X CNN - Electronics"
   ]
  },
  {
   "cell_type": "code",
   "execution_count": 323,
   "id": "970fcb3f",
   "metadata": {
    "id": "388769b8"
   },
   "outputs": [],
   "source": [
    "# Set model hyperparamters\n",
    "output_dim = 256\n",
    "epochs = 10\n",
    "batch_size = 512\n",
    "dropout_rate = 0.0\n",
    "num_classes = len(np.unique(labels, axis=0))\n",
    "opt = tf.keras.optimizers.Adam(learning_rate=0.001,\n",
    "                               epsilon=0.00000001,\n",
    "                               clipnorm=1.0\n",
    "                              )\n",
    "loss_func = 'binary_crossentropy'\n",
    "metrics = ['accuracy']"
   ]
  },
  {
   "cell_type": "code",
   "execution_count": 324,
   "id": "e27cbdca",
   "metadata": {
    "id": "a1bb450b"
   },
   "outputs": [],
   "source": [
    "# # Split data into train, dev, and test sets\n",
    "X_train, X_test, y_train, y_test = train_test_split(review_tokens, labels, test_size=0.2, random_state=0)\n",
    "X_train, X_dev, y_train, y_dev = train_test_split(X_train, y_train, test_size=0.25, random_state=0)\n",
    "\n",
    "# Use SMOTE to balance the training set\n",
    "sm = SMOTE(random_state=0)\n",
    "X_train, y_train = sm.fit_resample(X_train, y_train)"
   ]
  },
  {
   "cell_type": "code",
   "execution_count": 325,
   "id": "ba5c3da7",
   "metadata": {
    "colab": {
     "base_uri": "https://localhost:8080/"
    },
    "id": "ba5c3da7",
    "outputId": "e8c64acb-ef2d-4f96-e4ac-e2a21c6ab30d"
   },
   "outputs": [
    {
     "data": {
      "text/plain": [
       "(248,)"
      ]
     },
     "execution_count": 325,
     "metadata": {},
     "output_type": "execute_result"
    }
   ],
   "source": [
    "y_test.shape"
   ]
  },
  {
   "cell_type": "code",
   "execution_count": 326,
   "id": "25ec148a",
   "metadata": {
    "colab": {
     "base_uri": "https://localhost:8080/"
    },
    "id": "25ec148a",
    "outputId": "8505dbed-6651-479b-f67d-90e562c62e5a"
   },
   "outputs": [
    {
     "name": "stdout",
     "output_type": "stream",
     "text": [
      "Model: \"sequential_22\"\n",
      "_________________________________________________________________\n",
      " Layer (type)                Output Shape              Param #   \n",
      "=================================================================\n",
      " embedding_22 (Embedding)    (None, 512, 256)          1024000   \n",
      "                                                                 \n",
      " conv1d_19 (Conv1D)          (None, 512, 16)           12304     \n",
      "                                                                 \n",
      " flatten_18 (Flatten)        (None, 8192)              0         \n",
      "                                                                 \n",
      " dense_41 (Dense)            (None, 256)               2097408   \n",
      "                                                                 \n",
      " dense_42 (Dense)            (None, 1)                 257       \n",
      "                                                                 \n",
      "=================================================================\n",
      "Total params: 3,133,969\n",
      "Trainable params: 3,133,969\n",
      "Non-trainable params: 0\n",
      "_________________________________________________________________\n"
     ]
    }
   ],
   "source": [
    "# Build model\n",
    "cnn_model = Sequential()\n",
    "cnn_model.add(Embedding(input_dim=num_words, output_dim=output_dim, input_length=num_len))\n",
    "cnn_model.add(Conv1D(16, 3, padding='same', activation='relu'))\n",
    "# cnn_model.add(MaxPooling1D())\n",
    "cnn_model.add(Flatten())\n",
    "cnn_model.add(Dense(256, activation='relu'))\n",
    "cnn_model.add(Dense(1, activation='sigmoid'))\n",
    "cnn_model.compile(optimizer=opt, loss=loss_func, metrics=metrics)\n",
    "cnn_model.summary()\n"
   ]
  },
  {
   "cell_type": "code",
   "execution_count": 327,
   "id": "540787cc",
   "metadata": {
    "colab": {
     "base_uri": "https://localhost:8080/"
    },
    "id": "540787cc",
    "outputId": "319918ec-8dee-4caf-c87d-730e1ada5b47"
   },
   "outputs": [
    {
     "name": "stdout",
     "output_type": "stream",
     "text": [
      "Epoch 1/10\n",
      "2/2 - 2s - loss: 0.7174 - accuracy: 0.4941 - val_loss: 0.6928 - val_accuracy: 0.5000 - 2s/epoch - 1s/step\n",
      "Epoch 2/10\n",
      "2/2 - 1s - loss: 0.6889 - accuracy: 0.5473 - val_loss: 0.6865 - val_accuracy: 0.5484 - 1s/epoch - 617ms/step\n",
      "Epoch 3/10\n",
      "2/2 - 1s - loss: 0.6872 - accuracy: 0.5000 - val_loss: 0.6870 - val_accuracy: 0.5484 - 1s/epoch - 600ms/step\n",
      "Epoch 4/10\n",
      "2/2 - 1s - loss: 0.6794 - accuracy: 0.5000 - val_loss: 0.6872 - val_accuracy: 0.5484 - 1s/epoch - 621ms/step\n",
      "Epoch 5/10\n",
      "2/2 - 1s - loss: 0.6686 - accuracy: 0.5142 - val_loss: 0.6862 - val_accuracy: 0.5726 - 1s/epoch - 627ms/step\n",
      "Epoch 6/10\n",
      "2/2 - 1s - loss: 0.6534 - accuracy: 0.6584 - val_loss: 0.6835 - val_accuracy: 0.5847 - 1s/epoch - 607ms/step\n",
      "Epoch 7/10\n",
      "2/2 - 1s - loss: 0.6314 - accuracy: 0.7612 - val_loss: 0.6801 - val_accuracy: 0.5968 - 1s/epoch - 602ms/step\n",
      "Epoch 8/10\n",
      "2/2 - 1s - loss: 0.6017 - accuracy: 0.8310 - val_loss: 0.6760 - val_accuracy: 0.5968 - 1s/epoch - 605ms/step\n",
      "Epoch 9/10\n",
      "2/2 - 1s - loss: 0.5643 - accuracy: 0.8475 - val_loss: 0.6738 - val_accuracy: 0.5927 - 1s/epoch - 620ms/step\n",
      "Epoch 10/10\n",
      "2/2 - 1s - loss: 0.5216 - accuracy: 0.8617 - val_loss: 0.6737 - val_accuracy: 0.6089 - 1s/epoch - 659ms/step\n"
     ]
    },
    {
     "data": {
      "text/plain": [
       "<keras.callbacks.History at 0x7f9ec2388fa0>"
      ]
     },
     "execution_count": 327,
     "metadata": {},
     "output_type": "execute_result"
    }
   ],
   "source": [
    "# Fit model\n",
    "cnn_model.fit(X_train,\n",
    "              y_train,\n",
    "              validation_data=(X_dev, y_dev),\n",
    "              epochs=epochs,\n",
    "              batch_size=batch_size,\n",
    "              verbose=2\n",
    "             )"
   ]
  },
  {
   "cell_type": "code",
   "execution_count": 328,
   "id": "dbc0b465",
   "metadata": {
    "colab": {
     "base_uri": "https://localhost:8080/",
     "height": 295
    },
    "id": "dbc0b465",
    "outputId": "015b19ff-cf70-430c-90ec-5b3222d32539"
   },
   "outputs": [
    {
     "data": {
      "image/png": "[encoded data removed]",
      "text/plain": [
       "<Figure size 432x288 with 2 Axes>"
      ]
     },
     "metadata": {
      "needs_background": "light"
     },
     "output_type": "display_data"
    }
   ],
   "source": [
    "# Plot confusion matrix on training data\n",
    "y_true = y_train\n",
    "y_pred = (cnn_model.predict(X_train) >= 0.5).astype(\"int32\")\n",
    "\n",
    "ConfusionMatrixDisplay.from_predictions(y_true,\n",
    "                                        y_pred,\n",
    "                                        normalize='all',\n",
    "                                        display_labels=sentiment\n",
    "                                       )\n",
    "\n",
    "plt.title(\"Confusion Matrix of Review Usefulness\")\n",
    "plt.show()"
   ]
  },
  {
   "cell_type": "code",
   "execution_count": 329,
   "id": "962c6a50",
   "metadata": {
    "colab": {
     "base_uri": "https://localhost:8080/",
     "height": 295
    },
    "id": "dbc0b465",
    "outputId": "015b19ff-cf70-430c-90ec-5b3222d32539"
   },
   "outputs": [
    {
     "data": {
      "image/png": "[encoded data removed]",
      "text/plain": [
       "<Figure size 432x288 with 2 Axes>"
      ]
     },
     "metadata": {
      "needs_background": "light"
     },
     "output_type": "display_data"
    }
   ],
   "source": [
    "# Plot confusion matrix\n",
    "y_true = y_test\n",
    "y_pred = (cnn_model.predict(X_test) >= 0.5).astype(\"int32\")\n",
    "\n",
    "ConfusionMatrixDisplay.from_predictions(y_true,\n",
    "                                        y_pred,\n",
    "                                        normalize='all',\n",
    "                                        display_labels=sentiment\n",
    "                                       )\n",
    "\n",
    "plt.title(\"Confusion Matrix of Review Usefulness\")\n",
    "plt.show()"
   ]
  },
  {
   "cell_type": "code",
   "execution_count": 330,
   "id": "68fb7767",
   "metadata": {
    "colab": {
     "base_uri": "https://localhost:8080/"
    },
    "id": "68fb7767",
    "outputId": "eb683707-0c07-4232-9f88-014aba6a469a"
   },
   "outputs": [
    {
     "name": "stdout",
     "output_type": "stream",
     "text": [
      "              precision    recall  f1-score   support\n",
      "\n",
      "           0       0.55      0.20      0.29       106\n",
      "           1       0.60      0.88      0.71       142\n",
      "\n",
      "    accuracy                           0.59       248\n",
      "   macro avg       0.57      0.54      0.50       248\n",
      "weighted avg       0.58      0.59      0.53       248\n",
      "\n"
     ]
    }
   ],
   "source": [
    "print(classification_report(y_true, y_pred))"
   ]
  },
  {
   "cell_type": "code",
   "execution_count": 331,
   "id": "M07hJdegEhMo",
   "metadata": {
    "colab": {
     "base_uri": "https://localhost:8080/"
    },
    "id": "M07hJdegEhMo",
    "outputId": "1d91a98c-1cba-464a-be81-a4268c9e792c"
   },
   "outputs": [
    {
     "name": "stdout",
     "output_type": "stream",
     "text": [
      "8/8 [==============================] - 0s 12ms/step - loss: 0.6939 - accuracy: 0.5887\n",
      "Model performance metrics on test data\n",
      "Accuracy: 0.5887\n",
      "Loss: 0.6939\n",
      "Precision: 0.5770\n",
      "Recall: 0.5887\n",
      "F1-score: 0.5313\n"
     ]
    }
   ],
   "source": [
    "# Evaluate model\n",
    "loss, acc = cnn_model.evaluate(X_test, y_test, verbose=1)\n",
    "precision, recall, f1, support = precision_recall_fscore_support(y_true, y_pred, average='weighted')\n",
    "print(\"Model performance metrics on test data\")\n",
    "print(\"Accuracy: {:.4f}\\nLoss: {:.4f}\\nPrecision: {:.4f}\\nRecall: {:.4f}\\nF1-score: {:.4f}\".format(acc, loss, precision, recall, f1))"
   ]
  },
  {
   "cell_type": "code",
   "execution_count": 332,
   "id": "a3099adf",
   "metadata": {
    "id": "c1vo5zLjjIFI"
   },
   "outputs": [],
   "source": [
    "example0 = \"Golf tips magazine is one of the most aptly titled magazines available today. \\\n",
    "            It is chock full of heavily-illustrated exercises and other tips for serious golfers to improve their games.\\\n",
    "            \\nThere are a number of golf magazines on the newstand today. Most of them rely on a lifestyle format relying \\\n",
    "            more heavily on lifestyle-type stories about today's hot golfers and the courses they play. Most of them include \\\n",
    "            a brief game tip or two but seem aimed at the casual duffer.\\nGolf Tips, on the other hand, features almost nothing \\\n",
    "            but heavily illustrated tips on improving one's swing, eliminating mistakes and putting better. It also is heavily \\\n",
    "            loaded with features on the latest equipment technology. Each issue also seems to feature an article on the technical \\\n",
    "            aspects of a selected major golf course. The articles are written with terminology that serious golfers will understand \\\n",
    "            but that may confuse the weekend player. Judging by the amount of advertising in its early issues, this magazine also \\\n",
    "            appears to be financially healthy.\\nIf a reader wants to read about the PGA Tour's superstars, this magazine is not for \\\n",
    "            him/her. But if s/he plans to be one of those superstars, Golf Tips is a good match.\"\n",
    "\n",
    "example1 = \"The information is interesting and fun, the writing is superb, and the writers and editors have a great sense of humor. \\\n",
    "            I just wish it came out more often!\"\n",
    "\n",
    "example2 = \"this data science article is the best ever\"\n",
    "\n",
    "example3 = \"i really loved how the technician helped me with the issue that i had\"\n",
    "\n",
    "example4 = \"useless comment\"\n",
    "\n",
    "examples = [example0, example1, example2, example3, example4]"
   ]
  },
  {
   "cell_type": "code",
   "execution_count": 333,
   "id": "00172c2d",
   "metadata": {
    "colab": {
     "base_uri": "https://localhost:8080/"
    },
    "id": "jgzWpxYcIx0G",
    "outputId": "03b84656-188e-4750-97be-f21c35c5ad8e"
   },
   "outputs": [],
   "source": [
    "def test_examples(model, examples, num_len=512):\n",
    "    for idx, example in enumerate(examples):\n",
    "        sequence = tokenizer.texts_to_sequences([example])\n",
    "        test = pad_sequences(sequence, maxlen=num_len)\n",
    "        prediction = sentiment[np.around(model.predict(test), decimals=0).argmax(axis=1)[0]]\n",
    "        print(idx, \":\", prediction)"
   ]
  },
  {
   "cell_type": "code",
   "execution_count": 334,
   "id": "fb25d4bb",
   "metadata": {
    "colab": {
     "base_uri": "https://localhost:8080/"
    },
    "id": "fb25d4bb",
    "outputId": "efc46f4e-2752-47e8-db31-171fa16f244a"
   },
   "outputs": [
    {
     "name": "stdout",
     "output_type": "stream",
     "text": [
      "0 : Not Useful\n",
      "1 : Not Useful\n",
      "2 : Not Useful\n",
      "3 : Not Useful\n",
      "4 : Not Useful\n"
     ]
    }
   ],
   "source": [
    "test_examples(cnn_model, examples)"
   ]
  },
  {
   "cell_type": "markdown",
   "id": "SDpfcjw9WM0o",
   "metadata": {
    "id": "SDpfcjw9WM0o"
   },
   "source": [
    "### X.X BERT - Electronics\n",
    "\n",
    "[TF BERT Tutorial](https://www.tensorflow.org/text/tutorials/classify_text_with_bert)"
   ]
  },
  {
   "cell_type": "code",
   "execution_count": null,
   "id": "S8MuwEYFWcLm",
   "metadata": {
    "colab": {
     "base_uri": "https://localhost:8080/"
    },
    "id": "S8MuwEYFWcLm",
    "outputId": "1cd40bd4-7197-4dca-95f7-9385ee1c3938"
   },
   "outputs": [],
   "source": [
    "# A dependency of the preprocessing for BERT inputs\n",
    "!pip install -q -U \"tensorflow-text==2.8.*\""
   ]
  },
  {
   "cell_type": "code",
   "execution_count": null,
   "id": "ft7RxvllWpHl",
   "metadata": {
    "colab": {
     "base_uri": "https://localhost:8080/"
    },
    "id": "ft7RxvllWpHl",
    "outputId": "d1a88963-66cc-45d0-a658-4b8ad5074455"
   },
   "outputs": [],
   "source": [
    "!pip install -q tf-models-official==2.7.0"
   ]
  },
  {
   "cell_type": "code",
   "execution_count": null,
   "id": "RhdsKdekWpx0",
   "metadata": {
    "id": "RhdsKdekWpx0"
   },
   "outputs": [],
   "source": [
    "import os\n",
    "import shutil\n",
    "\n",
    "import tensorflow as tf\n",
    "import tensorflow_hub as hub\n",
    "import tensorflow_text as text\n",
    "from official.nlp import optimization  # to create AdamW optimizer\n",
    "\n",
    "tf.get_logger().setLevel('ERROR')"
   ]
  },
  {
   "cell_type": "code",
   "execution_count": null,
   "id": "a0cZlq4jXwL1",
   "metadata": {
    "colab": {
     "base_uri": "https://localhost:8080/"
    },
    "id": "a0cZlq4jXwL1",
    "outputId": "efe81902-5143-4da2-c3d8-6d8e5eab23d8"
   },
   "outputs": [],
   "source": [
    "bert_model_name = 'small_bert/bert_en_uncased_L-4_H-512_A-8' \n",
    "\n",
    "map_name_to_handle = {\n",
    "    'bert_en_uncased_L-12_H-768_A-12':\n",
    "        'https://tfhub.dev/tensorflow/bert_en_uncased_L-12_H-768_A-12/3',\n",
    "    'bert_en_cased_L-12_H-768_A-12':\n",
    "        'https://tfhub.dev/tensorflow/bert_en_cased_L-12_H-768_A-12/3',\n",
    "    'bert_multi_cased_L-12_H-768_A-12':\n",
    "        'https://tfhub.dev/tensorflow/bert_multi_cased_L-12_H-768_A-12/3',\n",
    "    'small_bert/bert_en_uncased_L-2_H-128_A-2':\n",
    "        'https://tfhub.dev/tensorflow/small_bert/bert_en_uncased_L-2_H-128_A-2/1',\n",
    "    'small_bert/bert_en_uncased_L-2_H-256_A-4':\n",
    "        'https://tfhub.dev/tensorflow/small_bert/bert_en_uncased_L-2_H-256_A-4/1',\n",
    "    'small_bert/bert_en_uncased_L-2_H-512_A-8':\n",
    "        'https://tfhub.dev/tensorflow/small_bert/bert_en_uncased_L-2_H-512_A-8/1',\n",
    "    'small_bert/bert_en_uncased_L-2_H-768_A-12':\n",
    "        'https://tfhub.dev/tensorflow/small_bert/bert_en_uncased_L-2_H-768_A-12/1',\n",
    "    'small_bert/bert_en_uncased_L-4_H-128_A-2':\n",
    "        'https://tfhub.dev/tensorflow/small_bert/bert_en_uncased_L-4_H-128_A-2/1',\n",
    "    'small_bert/bert_en_uncased_L-4_H-256_A-4':\n",
    "        'https://tfhub.dev/tensorflow/small_bert/bert_en_uncased_L-4_H-256_A-4/1',\n",
    "    'small_bert/bert_en_uncased_L-4_H-512_A-8':\n",
    "        'https://tfhub.dev/tensorflow/small_bert/bert_en_uncased_L-4_H-512_A-8/1',\n",
    "    'small_bert/bert_en_uncased_L-4_H-768_A-12':\n",
    "        'https://tfhub.dev/tensorflow/small_bert/bert_en_uncased_L-4_H-768_A-12/1',\n",
    "    'small_bert/bert_en_uncased_L-6_H-128_A-2':\n",
    "        'https://tfhub.dev/tensorflow/small_bert/bert_en_uncased_L-6_H-128_A-2/1',\n",
    "    'small_bert/bert_en_uncased_L-6_H-256_A-4':\n",
    "        'https://tfhub.dev/tensorflow/small_bert/bert_en_uncased_L-6_H-256_A-4/1',\n",
    "    'small_bert/bert_en_uncased_L-6_H-512_A-8':\n",
    "        'https://tfhub.dev/tensorflow/small_bert/bert_en_uncased_L-6_H-512_A-8/1',\n",
    "    'small_bert/bert_en_uncased_L-6_H-768_A-12':\n",
    "        'https://tfhub.dev/tensorflow/small_bert/bert_en_uncased_L-6_H-768_A-12/1',\n",
    "    'small_bert/bert_en_uncased_L-8_H-128_A-2':\n",
    "        'https://tfhub.dev/tensorflow/small_bert/bert_en_uncased_L-8_H-128_A-2/1',\n",
    "    'small_bert/bert_en_uncased_L-8_H-256_A-4':\n",
    "        'https://tfhub.dev/tensorflow/small_bert/bert_en_uncased_L-8_H-256_A-4/1',\n",
    "    'small_bert/bert_en_uncased_L-8_H-512_A-8':\n",
    "        'https://tfhub.dev/tensorflow/small_bert/bert_en_uncased_L-8_H-512_A-8/1',\n",
    "    'small_bert/bert_en_uncased_L-8_H-768_A-12':\n",
    "        'https://tfhub.dev/tensorflow/small_bert/bert_en_uncased_L-8_H-768_A-12/1',\n",
    "    'small_bert/bert_en_uncased_L-10_H-128_A-2':\n",
    "        'https://tfhub.dev/tensorflow/small_bert/bert_en_uncased_L-10_H-128_A-2/1',\n",
    "    'small_bert/bert_en_uncased_L-10_H-256_A-4':\n",
    "        'https://tfhub.dev/tensorflow/small_bert/bert_en_uncased_L-10_H-256_A-4/1',\n",
    "    'small_bert/bert_en_uncased_L-10_H-512_A-8':\n",
    "        'https://tfhub.dev/tensorflow/small_bert/bert_en_uncased_L-10_H-512_A-8/1',\n",
    "    'small_bert/bert_en_uncased_L-10_H-768_A-12':\n",
    "        'https://tfhub.dev/tensorflow/small_bert/bert_en_uncased_L-10_H-768_A-12/1',\n",
    "    'small_bert/bert_en_uncased_L-12_H-128_A-2':\n",
    "        'https://tfhub.dev/tensorflow/small_bert/bert_en_uncased_L-12_H-128_A-2/1',\n",
    "    'small_bert/bert_en_uncased_L-12_H-256_A-4':\n",
    "        'https://tfhub.dev/tensorflow/small_bert/bert_en_uncased_L-12_H-256_A-4/1',\n",
    "    'small_bert/bert_en_uncased_L-12_H-512_A-8':\n",
    "        'https://tfhub.dev/tensorflow/small_bert/bert_en_uncased_L-12_H-512_A-8/1',\n",
    "    'small_bert/bert_en_uncased_L-12_H-768_A-12':\n",
    "        'https://tfhub.dev/tensorflow/small_bert/bert_en_uncased_L-12_H-768_A-12/1',\n",
    "    'albert_en_base':\n",
    "        'https://tfhub.dev/tensorflow/albert_en_base/2',\n",
    "    'electra_small':\n",
    "        'https://tfhub.dev/google/electra_small/2',\n",
    "    'electra_base':\n",
    "        'https://tfhub.dev/google/electra_base/2',\n",
    "    'experts_pubmed':\n",
    "        'https://tfhub.dev/google/experts/bert/pubmed/2',\n",
    "    'experts_wiki_books':\n",
    "        'https://tfhub.dev/google/experts/bert/wiki_books/2',\n",
    "    'talking-heads_base':\n",
    "        'https://tfhub.dev/tensorflow/talkheads_ggelu_bert_en_base/1',\n",
    "}\n",
    "\n",
    "map_model_to_preprocess = {\n",
    "    'bert_en_uncased_L-12_H-768_A-12':\n",
    "        'https://tfhub.dev/tensorflow/bert_en_uncased_preprocess/3',\n",
    "    'bert_en_cased_L-12_H-768_A-12':\n",
    "        'https://tfhub.dev/tensorflow/bert_en_cased_preprocess/3',\n",
    "    'small_bert/bert_en_uncased_L-2_H-128_A-2':\n",
    "        'https://tfhub.dev/tensorflow/bert_en_uncased_preprocess/3',\n",
    "    'small_bert/bert_en_uncased_L-2_H-256_A-4':\n",
    "        'https://tfhub.dev/tensorflow/bert_en_uncased_preprocess/3',\n",
    "    'small_bert/bert_en_uncased_L-2_H-512_A-8':\n",
    "        'https://tfhub.dev/tensorflow/bert_en_uncased_preprocess/3',\n",
    "    'small_bert/bert_en_uncased_L-2_H-768_A-12':\n",
    "        'https://tfhub.dev/tensorflow/bert_en_uncased_preprocess/3',\n",
    "    'small_bert/bert_en_uncased_L-4_H-128_A-2':\n",
    "        'https://tfhub.dev/tensorflow/bert_en_uncased_preprocess/3',\n",
    "    'small_bert/bert_en_uncased_L-4_H-256_A-4':\n",
    "        'https://tfhub.dev/tensorflow/bert_en_uncased_preprocess/3',\n",
    "    'small_bert/bert_en_uncased_L-4_H-512_A-8':\n",
    "        'https://tfhub.dev/tensorflow/bert_en_uncased_preprocess/3',\n",
    "    'small_bert/bert_en_uncased_L-4_H-768_A-12':\n",
    "        'https://tfhub.dev/tensorflow/bert_en_uncased_preprocess/3',\n",
    "    'small_bert/bert_en_uncased_L-6_H-128_A-2':\n",
    "        'https://tfhub.dev/tensorflow/bert_en_uncased_preprocess/3',\n",
    "    'small_bert/bert_en_uncased_L-6_H-256_A-4':\n",
    "        'https://tfhub.dev/tensorflow/bert_en_uncased_preprocess/3',\n",
    "    'small_bert/bert_en_uncased_L-6_H-512_A-8':\n",
    "        'https://tfhub.dev/tensorflow/bert_en_uncased_preprocess/3',\n",
    "    'small_bert/bert_en_uncased_L-6_H-768_A-12':\n",
    "        'https://tfhub.dev/tensorflow/bert_en_uncased_preprocess/3',\n",
    "    'small_bert/bert_en_uncased_L-8_H-128_A-2':\n",
    "        'https://tfhub.dev/tensorflow/bert_en_uncased_preprocess/3',\n",
    "    'small_bert/bert_en_uncased_L-8_H-256_A-4':\n",
    "        'https://tfhub.dev/tensorflow/bert_en_uncased_preprocess/3',\n",
    "    'small_bert/bert_en_uncased_L-8_H-512_A-8':\n",
    "        'https://tfhub.dev/tensorflow/bert_en_uncased_preprocess/3',\n",
    "    'small_bert/bert_en_uncased_L-8_H-768_A-12':\n",
    "        'https://tfhub.dev/tensorflow/bert_en_uncased_preprocess/3',\n",
    "    'small_bert/bert_en_uncased_L-10_H-128_A-2':\n",
    "        'https://tfhub.dev/tensorflow/bert_en_uncased_preprocess/3',\n",
    "    'small_bert/bert_en_uncased_L-10_H-256_A-4':\n",
    "        'https://tfhub.dev/tensorflow/bert_en_uncased_preprocess/3',\n",
    "    'small_bert/bert_en_uncased_L-10_H-512_A-8':\n",
    "        'https://tfhub.dev/tensorflow/bert_en_uncased_preprocess/3',\n",
    "    'small_bert/bert_en_uncased_L-10_H-768_A-12':\n",
    "        'https://tfhub.dev/tensorflow/bert_en_uncased_preprocess/3',\n",
    "    'small_bert/bert_en_uncased_L-12_H-128_A-2':\n",
    "        'https://tfhub.dev/tensorflow/bert_en_uncased_preprocess/3',\n",
    "    'small_bert/bert_en_uncased_L-12_H-256_A-4':\n",
    "        'https://tfhub.dev/tensorflow/bert_en_uncased_preprocess/3',\n",
    "    'small_bert/bert_en_uncased_L-12_H-512_A-8':\n",
    "        'https://tfhub.dev/tensorflow/bert_en_uncased_preprocess/3',\n",
    "    'small_bert/bert_en_uncased_L-12_H-768_A-12':\n",
    "        'https://tfhub.dev/tensorflow/bert_en_uncased_preprocess/3',\n",
    "    'bert_multi_cased_L-12_H-768_A-12':\n",
    "        'https://tfhub.dev/tensorflow/bert_multi_cased_preprocess/3',\n",
    "    'albert_en_base':\n",
    "        'https://tfhub.dev/tensorflow/albert_en_preprocess/3',\n",
    "    'electra_small':\n",
    "        'https://tfhub.dev/tensorflow/bert_en_uncased_preprocess/3',\n",
    "    'electra_base':\n",
    "        'https://tfhub.dev/tensorflow/bert_en_uncased_preprocess/3',\n",
    "    'experts_pubmed':\n",
    "        'https://tfhub.dev/tensorflow/bert_en_uncased_preprocess/3',\n",
    "    'experts_wiki_books':\n",
    "        'https://tfhub.dev/tensorflow/bert_en_uncased_preprocess/3',\n",
    "    'talking-heads_base':\n",
    "        'https://tfhub.dev/tensorflow/bert_en_uncased_preprocess/3',\n",
    "}\n",
    "\n",
    "tfhub_handle_encoder = map_name_to_handle[bert_model_name]\n",
    "tfhub_handle_preprocess = map_model_to_preprocess[bert_model_name]\n",
    "\n",
    "print(f'BERT model selected           : {tfhub_handle_encoder}')\n",
    "print(f'Preprocess model auto-selected: {tfhub_handle_preprocess}')"
   ]
  },
  {
   "cell_type": "code",
   "execution_count": null,
   "id": "Dlv2ktK882aJ",
   "metadata": {
    "id": "Dlv2ktK882aJ"
   },
   "outputs": [],
   "source": [
    "reviews = electronics['review_text'].fillna('no review')\n",
    "\n",
    "X, y = reviews, labels\n",
    "X_train, X_test, y_train, y_test = train_test_split(X, y, test_size=0.2, random_state=0)\n",
    "X_train, X_dev, y_train, y_dev = train_test_split(X_train, y_train, test_size=0.25, random_state=0)"
   ]
  },
  {
   "cell_type": "code",
   "execution_count": null,
   "id": "h25h0E9kYQr9",
   "metadata": {
    "id": "h25h0E9kYQr9"
   },
   "outputs": [],
   "source": [
    "def build_classifier_model():\n",
    "    text_input = tf.keras.layers.Input(shape=(), dtype=tf.string, name='text')\n",
    "    preprocessing_layer = hub.KerasLayer(tfhub_handle_preprocess, name='preprocessing')\n",
    "    encoder_inputs = preprocessing_layer(text_input)\n",
    "    encoder = hub.KerasLayer(tfhub_handle_encoder, trainable=True, name='BERT_encoder')\n",
    "    outputs = encoder(encoder_inputs)\n",
    "    net = outputs['pooled_output']\n",
    "    net = tf.keras.layers.Dropout(0.1)(net)\n",
    "    net = tf.keras.layers.Dense(1, activation=None, name='classifier')(net)\n",
    "    return tf.keras.Model(text_input, net)"
   ]
  },
  {
   "cell_type": "code",
   "execution_count": null,
   "id": "s3k_FS8kYQ3A",
   "metadata": {
    "colab": {
     "base_uri": "https://localhost:8080/"
    },
    "id": "s3k_FS8kYQ3A",
    "outputId": "210770c9-70df-4cb0-8a5e-39959becae32"
   },
   "outputs": [],
   "source": [
    "text_test = ['this is such an amazing movie!']\n",
    "classifier_model = build_classifier_model()\n",
    "bert_raw_result = classifier_model(tf.constant(text_test))\n",
    "print(tf.sigmoid(bert_raw_result))"
   ]
  },
  {
   "cell_type": "code",
   "execution_count": null,
   "id": "d-bTYyERYQ9c",
   "metadata": {
    "colab": {
     "base_uri": "https://localhost:8080/",
     "height": 466
    },
    "id": "d-bTYyERYQ9c",
    "outputId": "599546f3-4cb6-4534-995f-91f2d263b7a4"
   },
   "outputs": [],
   "source": [
    "tf.keras.utils.plot_model(classifier_model)"
   ]
  },
  {
   "cell_type": "code",
   "execution_count": null,
   "id": "rhP5HN9BYRCZ",
   "metadata": {
    "id": "rhP5HN9BYRCZ"
   },
   "outputs": [],
   "source": [
    "loss_func = tf.keras.losses.BinaryCrossentropy(from_logits=True)\n",
    "metrics = tf.metrics.BinaryAccuracy()"
   ]
  },
  {
   "cell_type": "code",
   "execution_count": null,
   "id": "OK7WdVPEZKqC",
   "metadata": {
    "id": "OK7WdVPEZKqC"
   },
   "outputs": [],
   "source": [
    "epochs = 5\n",
    "steps_per_epoch = len(X_train)\n",
    "num_train_steps = steps_per_epoch * epochs\n",
    "num_warmup_steps = int(0.1*num_train_steps)\n",
    "\n",
    "init_lr = 3e-5\n",
    "optimizer = optimization.create_optimizer(init_lr=init_lr,\n",
    "                                          num_train_steps=num_train_steps,\n",
    "                                          num_warmup_steps=num_warmup_steps,\n",
    "                                          optimizer_type='adamw')"
   ]
  },
  {
   "cell_type": "code",
   "execution_count": null,
   "id": "Q0C9YxpeZK2d",
   "metadata": {
    "id": "Q0C9YxpeZK2d"
   },
   "outputs": [],
   "source": [
    "classifier_model.compile(optimizer=optimizer,\n",
    "                         loss=loss_func,\n",
    "                         metrics=metrics)"
   ]
  },
  {
   "cell_type": "code",
   "execution_count": null,
   "id": "x95zEKIIZK6i",
   "metadata": {
    "colab": {
     "base_uri": "https://localhost:8080/"
    },
    "id": "x95zEKIIZK6i",
    "outputId": "9ab5d0d7-05b5-42e5-f88a-8bcf108922e2"
   },
   "outputs": [],
   "source": [
    "print(f'Training model with {tfhub_handle_encoder}')\n",
    "history = classifier_model.fit(x=X_train,\n",
    "                               y=y_train,\n",
    "                               validation_data=(X_dev, y_dev),\n",
    "                               epochs=epochs)"
   ]
  },
  {
   "cell_type": "code",
   "execution_count": null,
   "id": "1WPisSo99xn_",
   "metadata": {
    "colab": {
     "base_uri": "https://localhost:8080/",
     "height": 295
    },
    "id": "1WPisSo99xn_",
    "outputId": "1afd8241-ceb6-4d31-da04-0d6429f7d32e"
   },
   "outputs": [],
   "source": [
    "# Plot confusion matrix\n",
    "y_true = y_test\n",
    "y_pred = (classifier_model.predict(X_test) >= 0.5).astype(\"int32\")\n",
    "\n",
    "ConfusionMatrixDisplay.from_predictions(y_true,\n",
    "                                        y_pred,\n",
    "                                        normalize='all',\n",
    "                                        display_labels=sentiment\n",
    "                                       )\n",
    "\n",
    "plt.title(\"Confusion Matrix of Review Usefulness\")\n",
    "plt.show()"
   ]
  },
  {
   "cell_type": "code",
   "execution_count": null,
   "id": "VGdrC5yvZK9-",
   "metadata": {
    "colab": {
     "base_uri": "https://localhost:8080/"
    },
    "id": "VGdrC5yvZK9-",
    "outputId": "e12baff3-a110-4e35-a153-e15c92a55656"
   },
   "outputs": [],
   "source": [
    "# Evaluate model\n",
    "loss, accuracy = classifier_model.evaluate(X_test, y_test)\n",
    "precision, recall, f1, support = precision_recall_fscore_support(y_true, y_pred, average='weighted')\n",
    "print(\"Model performance metrics on test data\")\n",
    "print(\"Accuracy: {:.4f}\\nLoss: {:.4f}\\nPrecision: {:.4f}\\nRecall: {:.4f}\\nF1-score: {:.4f}\".format(acc, loss, precision, recall, f1))"
   ]
  },
  {
   "cell_type": "markdown",
   "id": "57bd9a23",
   "metadata": {
    "id": "72ffdf0f"
   },
   "source": [
    "## X.X Furniture"
   ]
  },
  {
   "cell_type": "code",
   "execution_count": 335,
   "id": "e76ed068",
   "metadata": {},
   "outputs": [],
   "source": [
    "furniture = review_samples[review_samples['category'] == 'furniture']"
   ]
  },
  {
   "cell_type": "markdown",
   "id": "8775e329",
   "metadata": {
    "id": "1cc10c6c"
   },
   "source": [
    "### X.X Naive Bayes - Furniture"
   ]
  },
  {
   "cell_type": "code",
   "execution_count": 336,
   "id": "40166467",
   "metadata": {
    "id": "40kfYLJRty7a"
   },
   "outputs": [],
   "source": [
    "reviews = furniture['review_processed'].fillna('no review')\n",
    "labels = furniture['useful'].astype(int)"
   ]
  },
  {
   "cell_type": "code",
   "execution_count": 339,
   "id": "6eea82cc",
   "metadata": {
    "id": "e6197a23"
   },
   "outputs": [],
   "source": [
    "X_train, X_test, y_train, y_test = train_test_split(reviews, labels, test_size=0.2, random_state=0)\n",
    "X_train, X_dev, y_train, y_dev = train_test_split(X_train, y_train, test_size=0.25, random_state=0)\n",
    "\n",
    "tf_idf = TfidfVectorizer(ngram_range=(1, 3),\n",
    "                         binary=True,\n",
    "                         smooth_idf=False)\n",
    "\n",
    "X_train_tfidf = tf_idf.fit_transform(X_train)\n",
    "X_dev_tfidf = tf_idf.transform(X_dev)\n",
    "X_test_tfidf = tf_idf.transform(X_test)\n",
    "\n",
    "# Use SMOTE to resolve class imbalance\n",
    "sm = SMOTE(random_state=0)\n",
    "X_train_tfidf, y_train = sm.fit_resample(X_train_tfidf, y_train)"
   ]
  },
  {
   "cell_type": "code",
   "execution_count": 340,
   "id": "7169232c",
   "metadata": {
    "colab": {
     "base_uri": "https://localhost:8080/"
    },
    "id": "360bf0a0",
    "outputId": "813f8eda-e69f-4450-d13b-8b343480688d"
   },
   "outputs": [
    {
     "data": {
      "text/plain": [
       "MultinomialNB(alpha=1.8)"
      ]
     },
     "execution_count": 340,
     "metadata": {},
     "output_type": "execute_result"
    }
   ],
   "source": [
    "# Build model\n",
    "nb_model = MultinomialNB(alpha=1.8)\n",
    "\n",
    "# Fit model\n",
    "nb_model.fit(X_train_tfidf, y_train)"
   ]
  },
  {
   "cell_type": "code",
   "execution_count": 341,
   "id": "b73a41e1",
   "metadata": {
    "colab": {
     "base_uri": "https://localhost:8080/"
    },
    "id": "3fe5c18b",
    "outputId": "b6cff4dc-9a24-47b8-c4a4-f76016159a3b"
   },
   "outputs": [
    {
     "name": "stdout",
     "output_type": "stream",
     "text": [
      "0.9912280701754386 0.6307277628032345 0.6199460916442049\n"
     ]
    }
   ],
   "source": [
    "# Evaluate model on dev data\n",
    "train_acc = nb_model.score(X_train_tfidf, y_train)\n",
    "dev_acc = nb_model.score(X_dev_tfidf, y_dev)\n",
    "test_acc = nb_model.score(X_test_tfidf, y_test)\n",
    "\n",
    "print(train_acc, dev_acc, test_acc)"
   ]
  },
  {
   "cell_type": "code",
   "execution_count": 342,
   "id": "e4b85f0f",
   "metadata": {
    "colab": {
     "base_uri": "https://localhost:8080/",
     "height": 295
    },
    "id": "7add20ab",
    "outputId": "e78c477e-7f82-4261-bc3a-fa5994a0153d"
   },
   "outputs": [
    {
     "data": {
      "image/png": "[encoded data removed]",
      "text/plain": [
       "<Figure size 432x288 with 2 Axes>"
      ]
     },
     "metadata": {
      "needs_background": "light"
     },
     "output_type": "display_data"
    }
   ],
   "source": [
    "# Evaluate model on test data and plot confusion matrix\n",
    "y_true = y_train\n",
    "y_pred = nb_model.predict(X_train_tfidf)\n",
    "\n",
    "ConfusionMatrixDisplay.from_predictions(y_true,\n",
    "                                        y_pred,\n",
    "                                        normalize='all',\n",
    "                                        display_labels=sentiment\n",
    "                                       )\n",
    "\n",
    "plt.title(\"Confusion Matrix of Review Usefulness\")\n",
    "plt.show()"
   ]
  },
  {
   "cell_type": "code",
   "execution_count": 343,
   "id": "c59116cc",
   "metadata": {
    "colab": {
     "base_uri": "https://localhost:8080/",
     "height": 295
    },
    "id": "7add20ab",
    "outputId": "e78c477e-7f82-4261-bc3a-fa5994a0153d"
   },
   "outputs": [
    {
     "data": {
      "image/png": "[encoded data removed]",
      "text/plain": [
       "<Figure size 432x288 with 2 Axes>"
      ]
     },
     "metadata": {
      "needs_background": "light"
     },
     "output_type": "display_data"
    }
   ],
   "source": [
    "# Evaluate model on test data and plot confusion matrix\n",
    "y_true = y_test\n",
    "y_pred = nb_model.predict(X_test_tfidf)\n",
    "\n",
    "ConfusionMatrixDisplay.from_predictions(y_true,\n",
    "                                        y_pred,\n",
    "                                        normalize='all',\n",
    "                                        display_labels=sentiment\n",
    "                                       )\n",
    "\n",
    "plt.title(\"Confusion Matrix of Review Usefulness\")\n",
    "plt.show()"
   ]
  },
  {
   "cell_type": "code",
   "execution_count": 344,
   "id": "0a16ab77",
   "metadata": {
    "colab": {
     "base_uri": "https://localhost:8080/",
     "height": 313
    },
    "id": "d9b80b15",
    "outputId": "545bdf63-90f4-4b3f-c395-14a5f18fde02"
   },
   "outputs": [
    {
     "name": "stdout",
     "output_type": "stream",
     "text": [
      "AUC: 0.5251\n"
     ]
    },
    {
     "data": {
      "image/png": "[encoded data removed]",
      "text/plain": [
       "<Figure size 432x288 with 1 Axes>"
      ]
     },
     "metadata": {
      "needs_background": "light"
     },
     "output_type": "display_data"
    }
   ],
   "source": [
    "fpr, tpr, threshold = roc_curve(y_true, y_pred)\n",
    "roc_auc = auc(fpr, tpr)\n",
    "print(f'AUC: {roc_auc:.4f}')\n",
    "\n",
    "# Plot ROC AUC\n",
    "plt.title('Receiver Operating Characteristic')\n",
    "plt.plot(fpr, tpr, 'b', label = 'AUC = %0.2f' % roc_auc)\n",
    "plt.legend(loc = 'lower right')\n",
    "plt.plot([0, 1], [0, 1],'r--')\n",
    "plt.xlim([0, 1])\n",
    "plt.ylim([0, 1])\n",
    "plt.ylabel('True Positive Rate')\n",
    "plt.xlabel('False Positive Rate')\n",
    "plt.show()"
   ]
  },
  {
   "cell_type": "markdown",
   "id": "3fde8fe9",
   "metadata": {},
   "source": [
    "## X.X Tokenization and analytics"
   ]
  },
  {
   "cell_type": "code",
   "execution_count": 345,
   "id": "d0976f37",
   "metadata": {
    "id": "10c5748e"
   },
   "outputs": [],
   "source": [
    "# Set tokenization parameters\n",
    "num_words = 4000\n",
    "num_len = 512\n",
    "oov_token = '<UNK>'\n",
    "pad_type = 'post'\n",
    "trunc_type = 'post'\n",
    "\n",
    "# Tokenize review text\n",
    "tokenizer = Tokenizer(num_words=num_words, oov_token=oov_token)\n",
    "tokenizer.fit_on_texts(reviews)\n",
    "sequences = tokenizer.texts_to_sequences(reviews)\n",
    "\n",
    "# Additional tokenization parameters\n",
    "max_words = len(tokenizer.word_index)\n",
    "max_len = max([len(x) for x in sequences])\n",
    "\n",
    "# Pad review text tokens\n",
    "review_tokens = pad_sequences(sequences, padding=pad_type, truncating=trunc_type, maxlen=num_len)"
   ]
  },
  {
   "cell_type": "code",
   "execution_count": 346,
   "id": "28cbe459",
   "metadata": {},
   "outputs": [
    {
     "data": {
      "text/plain": [
       "5234"
      ]
     },
     "execution_count": 346,
     "metadata": {},
     "output_type": "execute_result"
    }
   ],
   "source": [
    "len(tokenizer.word_counts)"
   ]
  },
  {
   "cell_type": "code",
   "execution_count": 347,
   "id": "52f182ab",
   "metadata": {},
   "outputs": [
    {
     "data": {
      "text/html": [
       "<div>\n",
       "<style scoped>\n",
       "    .dataframe tbody tr th:only-of-type {\n",
       "        vertical-align: middle;\n",
       "    }\n",
       "\n",
       "    .dataframe tbody tr th {\n",
       "        vertical-align: top;\n",
       "    }\n",
       "\n",
       "    .dataframe thead th {\n",
       "        text-align: right;\n",
       "    }\n",
       "</style>\n",
       "<table border=\"1\" class=\"dataframe\">\n",
       "  <thead>\n",
       "    <tr style=\"text-align: right;\">\n",
       "      <th></th>\n",
       "      <th>word</th>\n",
       "      <th>frequency</th>\n",
       "    </tr>\n",
       "  </thead>\n",
       "  <tbody>\n",
       "    <tr>\n",
       "      <th>68</th>\n",
       "      <td>look</td>\n",
       "      <td>521</td>\n",
       "    </tr>\n",
       "    <tr>\n",
       "      <th>4</th>\n",
       "      <td>one</td>\n",
       "      <td>517</td>\n",
       "    </tr>\n",
       "    <tr>\n",
       "      <th>87</th>\n",
       "      <td>mattress</td>\n",
       "      <td>515</td>\n",
       "    </tr>\n",
       "    <tr>\n",
       "      <th>669</th>\n",
       "      <td>chair</td>\n",
       "      <td>488</td>\n",
       "    </tr>\n",
       "    <tr>\n",
       "      <th>93</th>\n",
       "      <td>get</td>\n",
       "      <td>480</td>\n",
       "    </tr>\n",
       "    <tr>\n",
       "      <th>94</th>\n",
       "      <td>bed</td>\n",
       "      <td>466</td>\n",
       "    </tr>\n",
       "    <tr>\n",
       "      <th>381</th>\n",
       "      <td>great</td>\n",
       "      <td>445</td>\n",
       "    </tr>\n",
       "    <tr>\n",
       "      <th>69</th>\n",
       "      <td>like</td>\n",
       "      <td>443</td>\n",
       "    </tr>\n",
       "    <tr>\n",
       "      <th>76</th>\n",
       "      <td>would</td>\n",
       "      <td>439</td>\n",
       "    </tr>\n",
       "    <tr>\n",
       "      <th>56</th>\n",
       "      <td>good</td>\n",
       "      <td>394</td>\n",
       "    </tr>\n",
       "  </tbody>\n",
       "</table>\n",
       "</div>"
      ],
      "text/plain": [
       "         word  frequency\n",
       "68       look        521\n",
       "4         one        517\n",
       "87   mattress        515\n",
       "669     chair        488\n",
       "93        get        480\n",
       "94        bed        466\n",
       "381     great        445\n",
       "69       like        443\n",
       "76      would        439\n",
       "56       good        394"
      ]
     },
     "execution_count": 347,
     "metadata": {},
     "output_type": "execute_result"
    }
   ],
   "source": [
    "vocab = pd.DataFrame(tokenizer.word_counts.items(), columns=['word', 'frequency'])\n",
    "vocab.sort_values('frequency', ascending=False).head(10)"
   ]
  },
  {
   "cell_type": "code",
   "execution_count": 348,
   "id": "47da368a",
   "metadata": {},
   "outputs": [
    {
     "data": {
      "image/png": "[encoded data removed]",
      "text/plain": [
       "<Figure size 432x288 with 1 Axes>"
      ]
     },
     "metadata": {
      "needs_background": "light"
     },
     "output_type": "display_data"
    }
   ],
   "source": [
    "filtered_vocab = vocab[vocab['frequency'] > 1]\n",
    "plt.hist(filtered_vocab['frequency'], bins=20)\n",
    "plt.show()"
   ]
  },
  {
   "cell_type": "code",
   "execution_count": 349,
   "id": "3a2bd636",
   "metadata": {},
   "outputs": [
    {
     "name": "stdout",
     "output_type": "stream",
     "text": [
      "Max words in vocabulary: 5235\n",
      "Max sequence length: 724\n",
      "\n",
      "\n",
      "Words allowed in vocabulary: 4000\n",
      "Allowed sequence length: 512\n",
      "\n",
      "\n",
      "Example processed review:\n",
      "works pissa\n",
      "\n",
      "\n",
      "Example tokenized review:\n",
      "[ 57  46 246  55   3 142  41 850   0   0   0   0   0   0   0   0   0   0\n",
      "   0   0   0   0   0   0   0   0   0   0   0   0   0   0   0   0   0   0\n",
      "   0   0   0   0   0   0   0   0   0   0   0   0   0   0   0   0   0   0\n",
      "   0   0   0   0   0   0   0   0   0   0   0   0   0   0   0   0   0   0\n",
      "   0   0   0   0   0   0   0   0   0   0   0   0   0   0   0   0   0   0\n",
      "   0   0   0   0   0   0   0   0   0   0   0   0   0   0   0   0   0   0\n",
      "   0   0   0   0   0   0   0   0   0   0   0   0   0   0   0   0   0   0\n",
      "   0   0   0   0   0   0   0   0   0   0   0   0   0   0   0   0   0   0\n",
      "   0   0   0   0   0   0   0   0   0   0   0   0   0   0   0   0   0   0\n",
      "   0   0   0   0   0   0   0   0   0   0   0   0   0   0   0   0   0   0\n",
      "   0   0   0   0   0   0   0   0   0   0   0   0   0   0   0   0   0   0\n",
      "   0   0   0   0   0   0   0   0   0   0   0   0   0   0   0   0   0   0\n",
      "   0   0   0   0   0   0   0   0   0   0   0   0   0   0   0   0   0   0\n",
      "   0   0   0   0   0   0   0   0   0   0   0   0   0   0   0   0   0   0\n",
      "   0   0   0   0   0   0   0   0   0   0   0   0   0   0   0   0   0   0\n",
      "   0   0   0   0   0   0   0   0   0   0   0   0   0   0   0   0   0   0\n",
      "   0   0   0   0   0   0   0   0   0   0   0   0   0   0   0   0   0   0\n",
      "   0   0   0   0   0   0   0   0   0   0   0   0   0   0   0   0   0   0\n",
      "   0   0   0   0   0   0   0   0   0   0   0   0   0   0   0   0   0   0\n",
      "   0   0   0   0   0   0   0   0   0   0   0   0   0   0   0   0   0   0\n",
      "   0   0   0   0   0   0   0   0   0   0   0   0   0   0   0   0   0   0\n",
      "   0   0   0   0   0   0   0   0   0   0   0   0   0   0   0   0   0   0\n",
      "   0   0   0   0   0   0   0   0   0   0   0   0   0   0   0   0   0   0\n",
      "   0   0   0   0   0   0   0   0   0   0   0   0   0   0   0   0   0   0\n",
      "   0   0   0   0   0   0   0   0   0   0   0   0   0   0   0   0   0   0\n",
      "   0   0   0   0   0   0   0   0   0   0   0   0   0   0   0   0   0   0\n",
      "   0   0   0   0   0   0   0   0   0   0   0   0   0   0   0   0   0   0\n",
      "   0   0   0   0   0   0   0   0   0   0   0   0   0   0   0   0   0   0\n",
      "   0   0   0   0   0   0   0   0]\n"
     ]
    }
   ],
   "source": [
    "print('Max words in vocabulary: {}'.format(max_words))\n",
    "print('Max sequence length: {}'.format(max_len))\n",
    "print('\\n')\n",
    "\n",
    "print('Words allowed in vocabulary: {}'.format(num_words))\n",
    "print('Allowed sequence length: {}'.format(num_len))\n",
    "print('\\n')\n",
    "\n",
    "print('Example processed review:')\n",
    "print(review_samples['review_processed'].iloc[0])\n",
    "print('\\n')\n",
    "\n",
    "print('Example tokenized review:')\n",
    "print(review_tokens[0])"
   ]
  },
  {
   "cell_type": "code",
   "execution_count": 350,
   "id": "e29fcd0e",
   "metadata": {},
   "outputs": [
    {
     "data": {
      "image/png": "[encoded data removed]",
      "text/plain": [
       "<Figure size 432x288 with 1 Axes>"
      ]
     },
     "metadata": {
      "needs_background": "light"
     },
     "output_type": "display_data"
    }
   ],
   "source": [
    "seq_len = [len(x) for x in sequences]\n",
    "d = {'sequence': sequences, 'length': seq_len}\n",
    "seqs = pd.DataFrame(data = d)\n",
    "\n",
    "plt.hist(seqs['length'])\n",
    "plt.show()"
   ]
  },
  {
   "cell_type": "code",
   "execution_count": 351,
   "id": "8d3a5db7",
   "metadata": {},
   "outputs": [
    {
     "data": {
      "text/html": [
       "<div>\n",
       "<style scoped>\n",
       "    .dataframe tbody tr th:only-of-type {\n",
       "        vertical-align: middle;\n",
       "    }\n",
       "\n",
       "    .dataframe tbody tr th {\n",
       "        vertical-align: top;\n",
       "    }\n",
       "\n",
       "    .dataframe thead th {\n",
       "        text-align: right;\n",
       "    }\n",
       "</style>\n",
       "<table border=\"1\" class=\"dataframe\">\n",
       "  <thead>\n",
       "    <tr style=\"text-align: right;\">\n",
       "      <th></th>\n",
       "      <th>sequence</th>\n",
       "      <th>length</th>\n",
       "    </tr>\n",
       "  </thead>\n",
       "  <tbody>\n",
       "    <tr>\n",
       "      <th>282</th>\n",
       "      <td>[3301, 2406, 910, 1387, 545, 58, 278, 99, 323,...</td>\n",
       "      <td>724</td>\n",
       "    </tr>\n",
       "  </tbody>\n",
       "</table>\n",
       "</div>"
      ],
      "text/plain": [
       "                                              sequence  length\n",
       "282  [3301, 2406, 910, 1387, 545, 58, 278, 99, 323,...     724"
      ]
     },
     "execution_count": 351,
     "metadata": {},
     "output_type": "execute_result"
    }
   ],
   "source": [
    "seqs[seqs['length'] > 512]"
   ]
  },
  {
   "cell_type": "markdown",
   "id": "5ca99b4e",
   "metadata": {
    "id": "8d132915"
   },
   "source": [
    "### X.X CNN - Furniture"
   ]
  },
  {
   "cell_type": "code",
   "execution_count": 352,
   "id": "6186d759",
   "metadata": {
    "id": "388769b8"
   },
   "outputs": [],
   "source": [
    "# Set model hyperparamters\n",
    "output_dim = 256\n",
    "epochs = 10\n",
    "batch_size = 512\n",
    "dropout_rate = 0.0\n",
    "num_classes = len(np.unique(labels, axis=0))\n",
    "opt = tf.keras.optimizers.Adam(learning_rate=0.001,\n",
    "                               epsilon=0.00000001,\n",
    "                               clipnorm=1.0\n",
    "                              )\n",
    "loss_func = 'binary_crossentropy'\n",
    "metrics = ['accuracy']"
   ]
  },
  {
   "cell_type": "code",
   "execution_count": 353,
   "id": "ad728e17",
   "metadata": {
    "id": "a1bb450b"
   },
   "outputs": [],
   "source": [
    "# # Split data into train, dev, and test sets\n",
    "X_train, X_test, y_train, y_test = train_test_split(review_tokens, labels, test_size=0.2, random_state=0)\n",
    "X_train, X_dev, y_train, y_dev = train_test_split(X_train, y_train, test_size=0.25, random_state=0)\n",
    "\n",
    "# Use SMOTE to balance the training set\n",
    "sm = SMOTE(random_state=0)\n",
    "X_train, y_train = sm.fit_resample(X_train, y_train)"
   ]
  },
  {
   "cell_type": "code",
   "execution_count": 354,
   "id": "f6676a50",
   "metadata": {
    "colab": {
     "base_uri": "https://localhost:8080/"
    },
    "id": "ba5c3da7",
    "outputId": "e8c64acb-ef2d-4f96-e4ac-e2a21c6ab30d"
   },
   "outputs": [
    {
     "data": {
      "text/plain": [
       "(371,)"
      ]
     },
     "execution_count": 354,
     "metadata": {},
     "output_type": "execute_result"
    }
   ],
   "source": [
    "y_test.shape"
   ]
  },
  {
   "cell_type": "code",
   "execution_count": 355,
   "id": "6e3f6ca2",
   "metadata": {
    "colab": {
     "base_uri": "https://localhost:8080/"
    },
    "id": "25ec148a",
    "outputId": "8505dbed-6651-479b-f67d-90e562c62e5a"
   },
   "outputs": [
    {
     "name": "stdout",
     "output_type": "stream",
     "text": [
      "Model: \"sequential_23\"\n",
      "_________________________________________________________________\n",
      " Layer (type)                Output Shape              Param #   \n",
      "=================================================================\n",
      " embedding_23 (Embedding)    (None, 512, 256)          1024000   \n",
      "                                                                 \n",
      " conv1d_20 (Conv1D)          (None, 512, 16)           12304     \n",
      "                                                                 \n",
      " flatten_19 (Flatten)        (None, 8192)              0         \n",
      "                                                                 \n",
      " dense_43 (Dense)            (None, 256)               2097408   \n",
      "                                                                 \n",
      " dense_44 (Dense)            (None, 1)                 257       \n",
      "                                                                 \n",
      "=================================================================\n",
      "Total params: 3,133,969\n",
      "Trainable params: 3,133,969\n",
      "Non-trainable params: 0\n",
      "_________________________________________________________________\n"
     ]
    }
   ],
   "source": [
    "# Build model\n",
    "cnn_model = Sequential()\n",
    "cnn_model.add(Embedding(input_dim=num_words, output_dim=output_dim, input_length=num_len))\n",
    "cnn_model.add(Conv1D(16, 3, padding='same', activation='relu'))\n",
    "# cnn_model.add(MaxPooling1D())\n",
    "cnn_model.add(Flatten())\n",
    "cnn_model.add(Dense(256, activation='relu'))\n",
    "cnn_model.add(Dense(1, activation='sigmoid'))\n",
    "cnn_model.compile(optimizer=opt, loss=loss_func, metrics=metrics)\n",
    "cnn_model.summary()\n"
   ]
  },
  {
   "cell_type": "code",
   "execution_count": 356,
   "id": "6f425656",
   "metadata": {
    "colab": {
     "base_uri": "https://localhost:8080/"
    },
    "id": "540787cc",
    "outputId": "319918ec-8dee-4caf-c87d-730e1ada5b47"
   },
   "outputs": [
    {
     "name": "stdout",
     "output_type": "stream",
     "text": [
      "Epoch 1/10\n",
      "4/4 - 3s - loss: 0.7242 - accuracy: 0.4887 - val_loss: 0.6992 - val_accuracy: 0.3127 - 3s/epoch - 848ms/step\n",
      "Epoch 2/10\n",
      "4/4 - 2s - loss: 0.6879 - accuracy: 0.6071 - val_loss: 0.6791 - val_accuracy: 0.6253 - 2s/epoch - 597ms/step\n",
      "Epoch 3/10\n",
      "4/4 - 2s - loss: 0.6766 - accuracy: 0.6241 - val_loss: 0.6555 - val_accuracy: 0.6819 - 2s/epoch - 588ms/step\n",
      "Epoch 4/10\n",
      "4/4 - 2s - loss: 0.6612 - accuracy: 0.6203 - val_loss: 0.6429 - val_accuracy: 0.6523 - 2s/epoch - 605ms/step\n",
      "Epoch 5/10\n",
      "4/4 - 2s - loss: 0.6323 - accuracy: 0.6579 - val_loss: 0.6458 - val_accuracy: 0.5930 - 2s/epoch - 555ms/step\n",
      "Epoch 6/10\n",
      "4/4 - 2s - loss: 0.5878 - accuracy: 0.7325 - val_loss: 0.6521 - val_accuracy: 0.5687 - 2s/epoch - 552ms/step\n",
      "Epoch 7/10\n",
      "4/4 - 2s - loss: 0.5264 - accuracy: 0.8145 - val_loss: 0.6713 - val_accuracy: 0.5391 - 2s/epoch - 562ms/step\n",
      "Epoch 8/10\n",
      "4/4 - 2s - loss: 0.4499 - accuracy: 0.8484 - val_loss: 0.6775 - val_accuracy: 0.5553 - 2s/epoch - 592ms/step\n",
      "Epoch 9/10\n",
      "4/4 - 2s - loss: 0.3655 - accuracy: 0.8678 - val_loss: 0.6747 - val_accuracy: 0.5795 - 2s/epoch - 563ms/step\n",
      "Epoch 10/10\n",
      "4/4 - 3s - loss: 0.2895 - accuracy: 0.8916 - val_loss: 0.7097 - val_accuracy: 0.5633 - 3s/epoch - 643ms/step\n"
     ]
    },
    {
     "data": {
      "text/plain": [
       "<keras.callbacks.History at 0x7f9ebaf8c040>"
      ]
     },
     "execution_count": 356,
     "metadata": {},
     "output_type": "execute_result"
    }
   ],
   "source": [
    "# Fit model\n",
    "cnn_model.fit(X_train,\n",
    "              y_train,\n",
    "              validation_data=(X_dev, y_dev),\n",
    "              epochs=epochs,\n",
    "              batch_size=batch_size,\n",
    "              verbose=2\n",
    "             )"
   ]
  },
  {
   "cell_type": "code",
   "execution_count": 357,
   "id": "1149f161",
   "metadata": {
    "colab": {
     "base_uri": "https://localhost:8080/",
     "height": 295
    },
    "id": "dbc0b465",
    "outputId": "015b19ff-cf70-430c-90ec-5b3222d32539"
   },
   "outputs": [
    {
     "data": {
      "image/png": "[encoded data removed]",
      "text/plain": [
       "<Figure size 432x288 with 2 Axes>"
      ]
     },
     "metadata": {
      "needs_background": "light"
     },
     "output_type": "display_data"
    }
   ],
   "source": [
    "# Plot confusion matrix on training data\n",
    "y_true = y_train\n",
    "y_pred = (cnn_model.predict(X_train) >= 0.5).astype(\"int32\")\n",
    "\n",
    "ConfusionMatrixDisplay.from_predictions(y_true,\n",
    "                                        y_pred,\n",
    "                                        normalize='all',\n",
    "                                        display_labels=sentiment\n",
    "                                       )\n",
    "\n",
    "plt.title(\"Confusion Matrix of Review Usefulness\")\n",
    "plt.show()"
   ]
  },
  {
   "cell_type": "code",
   "execution_count": 358,
   "id": "8d9b83cb",
   "metadata": {
    "colab": {
     "base_uri": "https://localhost:8080/",
     "height": 295
    },
    "id": "dbc0b465",
    "outputId": "015b19ff-cf70-430c-90ec-5b3222d32539"
   },
   "outputs": [
    {
     "data": {
      "image/png": "[encoded data removed]",
      "text/plain": [
       "<Figure size 432x288 with 2 Axes>"
      ]
     },
     "metadata": {
      "needs_background": "light"
     },
     "output_type": "display_data"
    }
   ],
   "source": [
    "# Plot confusion matrix\n",
    "y_true = y_test\n",
    "y_pred = (cnn_model.predict(X_test) >= 0.5).astype(\"int32\")\n",
    "\n",
    "ConfusionMatrixDisplay.from_predictions(y_true,\n",
    "                                        y_pred,\n",
    "                                        normalize='all',\n",
    "                                        display_labels=sentiment\n",
    "                                       )\n",
    "\n",
    "plt.title(\"Confusion Matrix of Review Usefulness\")\n",
    "plt.show()"
   ]
  },
  {
   "cell_type": "code",
   "execution_count": 359,
   "id": "c4fe2517",
   "metadata": {
    "colab": {
     "base_uri": "https://localhost:8080/"
    },
    "id": "68fb7767",
    "outputId": "eb683707-0c07-4232-9f88-014aba6a469a"
   },
   "outputs": [
    {
     "name": "stdout",
     "output_type": "stream",
     "text": [
      "              precision    recall  f1-score   support\n",
      "\n",
      "           0       0.31      0.45      0.37       112\n",
      "           1       0.70      0.57      0.63       259\n",
      "\n",
      "    accuracy                           0.53       371\n",
      "   macro avg       0.51      0.51      0.50       371\n",
      "weighted avg       0.59      0.53      0.55       371\n",
      "\n"
     ]
    }
   ],
   "source": [
    "print(classification_report(y_true, y_pred))"
   ]
  },
  {
   "cell_type": "code",
   "execution_count": 360,
   "id": "3f7113b8",
   "metadata": {
    "colab": {
     "base_uri": "https://localhost:8080/"
    },
    "id": "M07hJdegEhMo",
    "outputId": "1d91a98c-1cba-464a-be81-a4268c9e792c"
   },
   "outputs": [
    {
     "name": "stdout",
     "output_type": "stream",
     "text": [
      "12/12 [==============================] - 0s 11ms/step - loss: 0.7437 - accuracy: 0.5337\n",
      "Model performance metrics on test data\n",
      "Accuracy: 0.5337\n",
      "Loss: 0.7437\n",
      "Precision: 0.5858\n",
      "Recall: 0.5337\n",
      "F1-score: 0.5512\n"
     ]
    }
   ],
   "source": [
    "# Evaluate model\n",
    "loss, acc = cnn_model.evaluate(X_test, y_test, verbose=1)\n",
    "precision, recall, f1, support = precision_recall_fscore_support(y_true, y_pred, average='weighted')\n",
    "print(\"Model performance metrics on test data\")\n",
    "print(\"Accuracy: {:.4f}\\nLoss: {:.4f}\\nPrecision: {:.4f}\\nRecall: {:.4f}\\nF1-score: {:.4f}\".format(acc, loss, precision, recall, f1))"
   ]
  },
  {
   "cell_type": "code",
   "execution_count": 362,
   "id": "d3b27f90",
   "metadata": {
    "colab": {
     "base_uri": "https://localhost:8080/"
    },
    "id": "jgzWpxYcIx0G",
    "outputId": "03b84656-188e-4750-97be-f21c35c5ad8e"
   },
   "outputs": [],
   "source": [
    "def test_examples(model, examples, num_len=512):\n",
    "    for idx, example in enumerate(examples):\n",
    "        sequence = tokenizer.texts_to_sequences([example])\n",
    "        test = pad_sequences(sequence, maxlen=num_len)\n",
    "        prediction = sentiment[np.around(model.predict(test), decimals=0).argmax(axis=1)[0]]\n",
    "        print(idx, \":\", prediction)"
   ]
  },
  {
   "cell_type": "code",
   "execution_count": 363,
   "id": "0df7409f",
   "metadata": {
    "colab": {
     "base_uri": "https://localhost:8080/"
    },
    "id": "fb25d4bb",
    "outputId": "efc46f4e-2752-47e8-db31-171fa16f244a"
   },
   "outputs": [
    {
     "name": "stdout",
     "output_type": "stream",
     "text": [
      "0 : Not Useful\n",
      "1 : Not Useful\n",
      "2 : Not Useful\n",
      "3 : Not Useful\n",
      "4 : Not Useful\n"
     ]
    }
   ],
   "source": [
    "test_examples(cnn_model, examples)"
   ]
  },
  {
   "cell_type": "markdown",
   "id": "2c2c57b6",
   "metadata": {
    "id": "SDpfcjw9WM0o"
   },
   "source": [
    "### X.X BERT - Furniture"
   ]
  },
  {
   "cell_type": "code",
   "execution_count": null,
   "id": "31627ef4",
   "metadata": {
    "id": "Dlv2ktK882aJ"
   },
   "outputs": [],
   "source": [
    "reviews = furniture['review_text'].fillna('no review')\n",
    "\n",
    "X, y = reviews, labels\n",
    "X_train, X_test, y_train, y_test = train_test_split(X, y, test_size=0.2, random_state=0)\n",
    "X_train, X_dev, y_train, y_dev = train_test_split(X_train, y_train, test_size=0.25, random_state=0)"
   ]
  },
  {
   "cell_type": "code",
   "execution_count": null,
   "id": "3413b114",
   "metadata": {
    "colab": {
     "base_uri": "https://localhost:8080/"
    },
    "id": "s3k_FS8kYQ3A",
    "outputId": "210770c9-70df-4cb0-8a5e-39959becae32"
   },
   "outputs": [],
   "source": [
    "text_test = ['this is such an amazing movie!']\n",
    "classifier_model = build_classifier_model()\n",
    "bert_raw_result = classifier_model(tf.constant(text_test))\n",
    "print(tf.sigmoid(bert_raw_result))"
   ]
  },
  {
   "cell_type": "code",
   "execution_count": null,
   "id": "01cf1e82",
   "metadata": {
    "id": "OK7WdVPEZKqC"
   },
   "outputs": [],
   "source": [
    "epochs = 5\n",
    "steps_per_epoch = len(X_train)\n",
    "num_train_steps = steps_per_epoch * epochs\n",
    "num_warmup_steps = int(0.1*num_train_steps)\n",
    "\n",
    "init_lr = 3e-5\n",
    "optimizer = optimization.create_optimizer(init_lr=init_lr,\n",
    "                                          num_train_steps=num_train_steps,\n",
    "                                          num_warmup_steps=num_warmup_steps,\n",
    "                                          optimizer_type='adamw')"
   ]
  },
  {
   "cell_type": "code",
   "execution_count": null,
   "id": "626bafde",
   "metadata": {
    "id": "Q0C9YxpeZK2d"
   },
   "outputs": [],
   "source": [
    "classifier_model.compile(optimizer=optimizer,\n",
    "                         loss=loss_func,\n",
    "                         metrics=metrics)"
   ]
  },
  {
   "cell_type": "code",
   "execution_count": null,
   "id": "3e3bc459",
   "metadata": {
    "colab": {
     "base_uri": "https://localhost:8080/"
    },
    "id": "x95zEKIIZK6i",
    "outputId": "9ab5d0d7-05b5-42e5-f88a-8bcf108922e2"
   },
   "outputs": [],
   "source": [
    "print(f'Training model with {tfhub_handle_encoder}')\n",
    "history = classifier_model.fit(x=X_train,\n",
    "                               y=y_train,\n",
    "                               validation_data=(X_dev, y_dev),\n",
    "                               epochs=epochs)"
   ]
  },
  {
   "cell_type": "code",
   "execution_count": null,
   "id": "59bef064",
   "metadata": {
    "colab": {
     "base_uri": "https://localhost:8080/",
     "height": 295
    },
    "id": "1WPisSo99xn_",
    "outputId": "1afd8241-ceb6-4d31-da04-0d6429f7d32e"
   },
   "outputs": [],
   "source": [
    "# Plot confusion matrix\n",
    "y_true = y_test\n",
    "y_pred = (classifier_model.predict(X_test) >= 0.5).astype(\"int32\")\n",
    "\n",
    "ConfusionMatrixDisplay.from_predictions(y_true,\n",
    "                                        y_pred,\n",
    "                                        normalize='all',\n",
    "                                        display_labels=sentiment\n",
    "                                       )\n",
    "\n",
    "plt.title(\"Confusion Matrix of Review Usefulness\")\n",
    "plt.show()"
   ]
  },
  {
   "cell_type": "code",
   "execution_count": null,
   "id": "4e7d366d",
   "metadata": {
    "colab": {
     "base_uri": "https://localhost:8080/"
    },
    "id": "VGdrC5yvZK9-",
    "outputId": "e12baff3-a110-4e35-a153-e15c92a55656"
   },
   "outputs": [],
   "source": [
    "# Evaluate model\n",
    "loss, accuracy = classifier_model.evaluate(X_test, y_test)\n",
    "precision, recall, f1, support = precision_recall_fscore_support(y_true, y_pred, average='weighted')\n",
    "print(\"Model performance metrics on test data\")\n",
    "print(\"Accuracy: {:.4f}\\nLoss: {:.4f}\\nPrecision: {:.4f}\\nRecall: {:.4f}\\nF1-score: {:.4f}\".format(acc, loss, precision, recall, f1))"
   ]
  },
  {
   "cell_type": "markdown",
   "id": "5ab3fba1",
   "metadata": {
    "id": "72ffdf0f"
   },
   "source": [
    "## X.X Sports"
   ]
  },
  {
   "cell_type": "code",
   "execution_count": 364,
   "id": "f5b88680",
   "metadata": {},
   "outputs": [],
   "source": [
    "sports = review_samples[review_samples['category'] == 'sports']"
   ]
  },
  {
   "cell_type": "markdown",
   "id": "f6b2c867",
   "metadata": {
    "id": "1cc10c6c"
   },
   "source": [
    "### X.X Naive Bayes - Sports"
   ]
  },
  {
   "cell_type": "code",
   "execution_count": 365,
   "id": "7be4b2e8",
   "metadata": {
    "id": "40kfYLJRty7a"
   },
   "outputs": [],
   "source": [
    "reviews = sports['review_processed'].fillna('no review')\n",
    "labels = sports['useful'].astype(int)"
   ]
  },
  {
   "cell_type": "code",
   "execution_count": 366,
   "id": "708d418c",
   "metadata": {
    "id": "e6197a23"
   },
   "outputs": [],
   "source": [
    "X_train, X_test, y_train, y_test = train_test_split(reviews, labels, test_size=0.2, random_state=0)\n",
    "X_train, X_dev, y_train, y_dev = train_test_split(X_train, y_train, test_size=0.25, random_state=0)\n",
    "\n",
    "tf_idf = TfidfVectorizer(ngram_range=(1, 3),\n",
    "                         binary=True,\n",
    "                         smooth_idf=False)\n",
    "\n",
    "X_train_tfidf = tf_idf.fit_transform(X_train)\n",
    "X_dev_tfidf = tf_idf.transform(X_dev)\n",
    "X_test_tfidf = tf_idf.transform(X_test)\n",
    "\n",
    "# Use SMOTE to resolve class imbalance\n",
    "sm = SMOTE(random_state=0)\n",
    "X_train_tfidf, y_train = sm.fit_resample(X_train_tfidf, y_train)"
   ]
  },
  {
   "cell_type": "code",
   "execution_count": 367,
   "id": "6acf4eb1",
   "metadata": {
    "colab": {
     "base_uri": "https://localhost:8080/"
    },
    "id": "360bf0a0",
    "outputId": "813f8eda-e69f-4450-d13b-8b343480688d"
   },
   "outputs": [
    {
     "data": {
      "text/plain": [
       "MultinomialNB(alpha=1.8)"
      ]
     },
     "execution_count": 367,
     "metadata": {},
     "output_type": "execute_result"
    }
   ],
   "source": [
    "# Build model\n",
    "nb_model = MultinomialNB(alpha=1.8)\n",
    "\n",
    "# Fit model\n",
    "nb_model.fit(X_train_tfidf, y_train)"
   ]
  },
  {
   "cell_type": "code",
   "execution_count": 368,
   "id": "9f52ea24",
   "metadata": {
    "colab": {
     "base_uri": "https://localhost:8080/"
    },
    "id": "3fe5c18b",
    "outputId": "b6cff4dc-9a24-47b8-c4a4-f76016159a3b"
   },
   "outputs": [
    {
     "name": "stdout",
     "output_type": "stream",
     "text": [
      "0.989648033126294 0.5384615384615384 0.47985347985347987\n"
     ]
    }
   ],
   "source": [
    "# Evaluate model on dev data\n",
    "train_acc = nb_model.score(X_train_tfidf, y_train)\n",
    "dev_acc = nb_model.score(X_dev_tfidf, y_dev)\n",
    "test_acc = nb_model.score(X_test_tfidf, y_test)\n",
    "\n",
    "print(train_acc, dev_acc, test_acc)"
   ]
  },
  {
   "cell_type": "code",
   "execution_count": 369,
   "id": "7e0d1760",
   "metadata": {
    "colab": {
     "base_uri": "https://localhost:8080/",
     "height": 295
    },
    "id": "7add20ab",
    "outputId": "e78c477e-7f82-4261-bc3a-fa5994a0153d"
   },
   "outputs": [
    {
     "data": {
      "image/png": "[encoded data removed]",
      "text/plain": [
       "<Figure size 432x288 with 2 Axes>"
      ]
     },
     "metadata": {
      "needs_background": "light"
     },
     "output_type": "display_data"
    }
   ],
   "source": [
    "# Evaluate model on test data and plot confusion matrix\n",
    "y_true = y_train\n",
    "y_pred = nb_model.predict(X_train_tfidf)\n",
    "\n",
    "ConfusionMatrixDisplay.from_predictions(y_true,\n",
    "                                        y_pred,\n",
    "                                        normalize='all',\n",
    "                                        display_labels=sentiment\n",
    "                                       )\n",
    "\n",
    "plt.title(\"Confusion Matrix of Review Usefulness\")\n",
    "plt.show()"
   ]
  },
  {
   "cell_type": "code",
   "execution_count": 370,
   "id": "c4f91c29",
   "metadata": {
    "colab": {
     "base_uri": "https://localhost:8080/",
     "height": 295
    },
    "id": "7add20ab",
    "outputId": "e78c477e-7f82-4261-bc3a-fa5994a0153d"
   },
   "outputs": [
    {
     "data": {
      "image/png": "[encoded data removed]",
      "text/plain": [
       "<Figure size 432x288 with 2 Axes>"
      ]
     },
     "metadata": {
      "needs_background": "light"
     },
     "output_type": "display_data"
    }
   ],
   "source": [
    "# Evaluate model on test data and plot confusion matrix\n",
    "y_true = y_test\n",
    "y_pred = nb_model.predict(X_test_tfidf)\n",
    "\n",
    "ConfusionMatrixDisplay.from_predictions(y_true,\n",
    "                                        y_pred,\n",
    "                                        normalize='all',\n",
    "                                        display_labels=sentiment\n",
    "                                       )\n",
    "\n",
    "plt.title(\"Confusion Matrix of Review Usefulness\")\n",
    "plt.show()"
   ]
  },
  {
   "cell_type": "code",
   "execution_count": 371,
   "id": "329f3729",
   "metadata": {
    "colab": {
     "base_uri": "https://localhost:8080/",
     "height": 313
    },
    "id": "d9b80b15",
    "outputId": "545bdf63-90f4-4b3f-c395-14a5f18fde02"
   },
   "outputs": [
    {
     "name": "stdout",
     "output_type": "stream",
     "text": [
      "AUC: 0.4492\n"
     ]
    },
    {
     "data": {
      "image/png": "[encoded data removed]",
      "text/plain": [
       "<Figure size 432x288 with 1 Axes>"
      ]
     },
     "metadata": {
      "needs_background": "light"
     },
     "output_type": "display_data"
    }
   ],
   "source": [
    "fpr, tpr, threshold = roc_curve(y_true, y_pred)\n",
    "roc_auc = auc(fpr, tpr)\n",
    "print(f'AUC: {roc_auc:.4f}')\n",
    "\n",
    "# Plot ROC AUC\n",
    "plt.title('Receiver Operating Characteristic')\n",
    "plt.plot(fpr, tpr, 'b', label = 'AUC = %0.2f' % roc_auc)\n",
    "plt.legend(loc = 'lower right')\n",
    "plt.plot([0, 1], [0, 1],'r--')\n",
    "plt.xlim([0, 1])\n",
    "plt.ylim([0, 1])\n",
    "plt.ylabel('True Positive Rate')\n",
    "plt.xlabel('False Positive Rate')\n",
    "plt.show()"
   ]
  },
  {
   "cell_type": "markdown",
   "id": "fbc8a637",
   "metadata": {},
   "source": [
    "## X.X Tokenization and analytics"
   ]
  },
  {
   "cell_type": "code",
   "execution_count": 372,
   "id": "f73a3123",
   "metadata": {
    "id": "10c5748e"
   },
   "outputs": [],
   "source": [
    "# Set tokenization parameters\n",
    "num_words = 4000\n",
    "num_len = 512\n",
    "oov_token = '<UNK>'\n",
    "pad_type = 'post'\n",
    "trunc_type = 'post'\n",
    "\n",
    "# Tokenize review text\n",
    "tokenizer = Tokenizer(num_words=num_words, oov_token=oov_token)\n",
    "tokenizer.fit_on_texts(reviews)\n",
    "sequences = tokenizer.texts_to_sequences(reviews)\n",
    "\n",
    "# Additional tokenization parameters\n",
    "max_words = len(tokenizer.word_index)\n",
    "max_len = max([len(x) for x in sequences])\n",
    "\n",
    "# Pad review text tokens\n",
    "review_tokens = pad_sequences(sequences, padding=pad_type, truncating=trunc_type, maxlen=num_len)"
   ]
  },
  {
   "cell_type": "code",
   "execution_count": 373,
   "id": "e4b9e5a0",
   "metadata": {},
   "outputs": [
    {
     "data": {
      "text/plain": [
       "5583"
      ]
     },
     "execution_count": 373,
     "metadata": {},
     "output_type": "execute_result"
    }
   ],
   "source": [
    "len(tokenizer.word_counts)"
   ]
  },
  {
   "cell_type": "code",
   "execution_count": 374,
   "id": "9f7017ce",
   "metadata": {},
   "outputs": [
    {
     "data": {
      "text/html": [
       "<div>\n",
       "<style scoped>\n",
       "    .dataframe tbody tr th:only-of-type {\n",
       "        vertical-align: middle;\n",
       "    }\n",
       "\n",
       "    .dataframe tbody tr th {\n",
       "        vertical-align: top;\n",
       "    }\n",
       "\n",
       "    .dataframe thead th {\n",
       "        text-align: right;\n",
       "    }\n",
       "</style>\n",
       "<table border=\"1\" class=\"dataframe\">\n",
       "  <thead>\n",
       "    <tr style=\"text-align: right;\">\n",
       "      <th></th>\n",
       "      <th>word</th>\n",
       "      <th>frequency</th>\n",
       "    </tr>\n",
       "  </thead>\n",
       "  <tbody>\n",
       "    <tr>\n",
       "      <th>73</th>\n",
       "      <td>use</td>\n",
       "      <td>491</td>\n",
       "    </tr>\n",
       "    <tr>\n",
       "      <th>160</th>\n",
       "      <td>great</td>\n",
       "      <td>350</td>\n",
       "    </tr>\n",
       "    <tr>\n",
       "      <th>20</th>\n",
       "      <td>get</td>\n",
       "      <td>344</td>\n",
       "    </tr>\n",
       "    <tr>\n",
       "      <th>68</th>\n",
       "      <td>good</td>\n",
       "      <td>322</td>\n",
       "    </tr>\n",
       "    <tr>\n",
       "      <th>139</th>\n",
       "      <td>one</td>\n",
       "      <td>312</td>\n",
       "    </tr>\n",
       "    <tr>\n",
       "      <th>177</th>\n",
       "      <td>like</td>\n",
       "      <td>297</td>\n",
       "    </tr>\n",
       "    <tr>\n",
       "      <th>349</th>\n",
       "      <td>work</td>\n",
       "      <td>271</td>\n",
       "    </tr>\n",
       "    <tr>\n",
       "      <th>34</th>\n",
       "      <td>well</td>\n",
       "      <td>268</td>\n",
       "    </tr>\n",
       "    <tr>\n",
       "      <th>153</th>\n",
       "      <td>would</td>\n",
       "      <td>267</td>\n",
       "    </tr>\n",
       "    <tr>\n",
       "      <th>123</th>\n",
       "      <td>make</td>\n",
       "      <td>260</td>\n",
       "    </tr>\n",
       "  </tbody>\n",
       "</table>\n",
       "</div>"
      ],
      "text/plain": [
       "      word  frequency\n",
       "73     use        491\n",
       "160  great        350\n",
       "20     get        344\n",
       "68    good        322\n",
       "139    one        312\n",
       "177   like        297\n",
       "349   work        271\n",
       "34    well        268\n",
       "153  would        267\n",
       "123   make        260"
      ]
     },
     "execution_count": 374,
     "metadata": {},
     "output_type": "execute_result"
    }
   ],
   "source": [
    "vocab = pd.DataFrame(tokenizer.word_counts.items(), columns=['word', 'frequency'])\n",
    "vocab.sort_values('frequency', ascending=False).head(10)"
   ]
  },
  {
   "cell_type": "code",
   "execution_count": 375,
   "id": "e4e55420",
   "metadata": {},
   "outputs": [
    {
     "data": {
      "image/png": "[encoded data removed]",
      "text/plain": [
       "<Figure size 432x288 with 1 Axes>"
      ]
     },
     "metadata": {
      "needs_background": "light"
     },
     "output_type": "display_data"
    }
   ],
   "source": [
    "filtered_vocab = vocab[vocab['frequency'] > 1]\n",
    "plt.hist(filtered_vocab['frequency'], bins=20)\n",
    "plt.show()"
   ]
  },
  {
   "cell_type": "code",
   "execution_count": 376,
   "id": "adc28326",
   "metadata": {},
   "outputs": [
    {
     "name": "stdout",
     "output_type": "stream",
     "text": [
      "Max words in vocabulary: 5584\n",
      "Max sequence length: 375\n",
      "\n",
      "\n",
      "Words allowed in vocabulary: 4000\n",
      "Allowed sequence length: 512\n",
      "\n",
      "\n",
      "Example processed review:\n",
      "works pissa\n",
      "\n",
      "\n",
      "Example tokenized review:\n",
      "[  73  163 1172  421  172   36  104  163   74  485 2046 2941 2942   33\n",
      " 1173    0    0    0    0    0    0    0    0    0    0    0    0    0\n",
      "    0    0    0    0    0    0    0    0    0    0    0    0    0    0\n",
      "    0    0    0    0    0    0    0    0    0    0    0    0    0    0\n",
      "    0    0    0    0    0    0    0    0    0    0    0    0    0    0\n",
      "    0    0    0    0    0    0    0    0    0    0    0    0    0    0\n",
      "    0    0    0    0    0    0    0    0    0    0    0    0    0    0\n",
      "    0    0    0    0    0    0    0    0    0    0    0    0    0    0\n",
      "    0    0    0    0    0    0    0    0    0    0    0    0    0    0\n",
      "    0    0    0    0    0    0    0    0    0    0    0    0    0    0\n",
      "    0    0    0    0    0    0    0    0    0    0    0    0    0    0\n",
      "    0    0    0    0    0    0    0    0    0    0    0    0    0    0\n",
      "    0    0    0    0    0    0    0    0    0    0    0    0    0    0\n",
      "    0    0    0    0    0    0    0    0    0    0    0    0    0    0\n",
      "    0    0    0    0    0    0    0    0    0    0    0    0    0    0\n",
      "    0    0    0    0    0    0    0    0    0    0    0    0    0    0\n",
      "    0    0    0    0    0    0    0    0    0    0    0    0    0    0\n",
      "    0    0    0    0    0    0    0    0    0    0    0    0    0    0\n",
      "    0    0    0    0    0    0    0    0    0    0    0    0    0    0\n",
      "    0    0    0    0    0    0    0    0    0    0    0    0    0    0\n",
      "    0    0    0    0    0    0    0    0    0    0    0    0    0    0\n",
      "    0    0    0    0    0    0    0    0    0    0    0    0    0    0\n",
      "    0    0    0    0    0    0    0    0    0    0    0    0    0    0\n",
      "    0    0    0    0    0    0    0    0    0    0    0    0    0    0\n",
      "    0    0    0    0    0    0    0    0    0    0    0    0    0    0\n",
      "    0    0    0    0    0    0    0    0    0    0    0    0    0    0\n",
      "    0    0    0    0    0    0    0    0    0    0    0    0    0    0\n",
      "    0    0    0    0    0    0    0    0    0    0    0    0    0    0\n",
      "    0    0    0    0    0    0    0    0    0    0    0    0    0    0\n",
      "    0    0    0    0    0    0    0    0    0    0    0    0    0    0\n",
      "    0    0    0    0    0    0    0    0    0    0    0    0    0    0\n",
      "    0    0    0    0    0    0    0    0    0    0    0    0    0    0\n",
      "    0    0    0    0    0    0    0    0    0    0    0    0    0    0\n",
      "    0    0    0    0    0    0    0    0    0    0    0    0    0    0\n",
      "    0    0    0    0    0    0    0    0    0    0    0    0    0    0\n",
      "    0    0    0    0    0    0    0    0    0    0    0    0    0    0\n",
      "    0    0    0    0    0    0    0    0]\n"
     ]
    }
   ],
   "source": [
    "print('Max words in vocabulary: {}'.format(max_words))\n",
    "print('Max sequence length: {}'.format(max_len))\n",
    "print('\\n')\n",
    "\n",
    "print('Words allowed in vocabulary: {}'.format(num_words))\n",
    "print('Allowed sequence length: {}'.format(num_len))\n",
    "print('\\n')\n",
    "\n",
    "print('Example processed review:')\n",
    "print(review_samples['review_processed'].iloc[0])\n",
    "print('\\n')\n",
    "\n",
    "print('Example tokenized review:')\n",
    "print(review_tokens[0])"
   ]
  },
  {
   "cell_type": "code",
   "execution_count": 377,
   "id": "d242d304",
   "metadata": {},
   "outputs": [
    {
     "data": {
      "image/png": "[encoded data removed]",
      "text/plain": [
       "<Figure size 432x288 with 1 Axes>"
      ]
     },
     "metadata": {
      "needs_background": "light"
     },
     "output_type": "display_data"
    }
   ],
   "source": [
    "seq_len = [len(x) for x in sequences]\n",
    "d = {'sequence': sequences, 'length': seq_len}\n",
    "seqs = pd.DataFrame(data = d)\n",
    "\n",
    "plt.hist(seqs['length'])\n",
    "plt.show()"
   ]
  },
  {
   "cell_type": "code",
   "execution_count": 378,
   "id": "47776255",
   "metadata": {},
   "outputs": [
    {
     "data": {
      "text/html": [
       "<div>\n",
       "<style scoped>\n",
       "    .dataframe tbody tr th:only-of-type {\n",
       "        vertical-align: middle;\n",
       "    }\n",
       "\n",
       "    .dataframe tbody tr th {\n",
       "        vertical-align: top;\n",
       "    }\n",
       "\n",
       "    .dataframe thead th {\n",
       "        text-align: right;\n",
       "    }\n",
       "</style>\n",
       "<table border=\"1\" class=\"dataframe\">\n",
       "  <thead>\n",
       "    <tr style=\"text-align: right;\">\n",
       "      <th></th>\n",
       "      <th>sequence</th>\n",
       "      <th>length</th>\n",
       "    </tr>\n",
       "  </thead>\n",
       "  <tbody>\n",
       "  </tbody>\n",
       "</table>\n",
       "</div>"
      ],
      "text/plain": [
       "Empty DataFrame\n",
       "Columns: [sequence, length]\n",
       "Index: []"
      ]
     },
     "execution_count": 378,
     "metadata": {},
     "output_type": "execute_result"
    }
   ],
   "source": [
    "seqs[seqs['length'] > 512]"
   ]
  },
  {
   "cell_type": "markdown",
   "id": "a4c918c2",
   "metadata": {
    "id": "8d132915"
   },
   "source": [
    "### X.X CNN - Sports"
   ]
  },
  {
   "cell_type": "code",
   "execution_count": 379,
   "id": "4d8af39c",
   "metadata": {
    "id": "388769b8"
   },
   "outputs": [],
   "source": [
    "# Set model hyperparamters\n",
    "output_dim = 256\n",
    "epochs = 10\n",
    "batch_size = 512\n",
    "dropout_rate = 0.0\n",
    "num_classes = len(np.unique(labels, axis=0))\n",
    "opt = tf.keras.optimizers.Adam(learning_rate=0.001,\n",
    "                               epsilon=0.00000001,\n",
    "                               clipnorm=1.0\n",
    "                              )\n",
    "loss_func = 'binary_crossentropy'\n",
    "metrics = ['accuracy']"
   ]
  },
  {
   "cell_type": "code",
   "execution_count": 380,
   "id": "48500cda",
   "metadata": {
    "id": "a1bb450b"
   },
   "outputs": [],
   "source": [
    "# # Split data into train, dev, and test sets\n",
    "X_train, X_test, y_train, y_test = train_test_split(review_tokens, labels, test_size=0.2, random_state=0)\n",
    "X_train, X_dev, y_train, y_dev = train_test_split(X_train, y_train, test_size=0.25, random_state=0)\n",
    "\n",
    "# Use SMOTE to balance the training set\n",
    "sm = SMOTE(random_state=0)\n",
    "X_train, y_train = sm.fit_resample(X_train, y_train)"
   ]
  },
  {
   "cell_type": "code",
   "execution_count": 381,
   "id": "30d5934b",
   "metadata": {
    "colab": {
     "base_uri": "https://localhost:8080/"
    },
    "id": "ba5c3da7",
    "outputId": "e8c64acb-ef2d-4f96-e4ac-e2a21c6ab30d"
   },
   "outputs": [
    {
     "data": {
      "text/plain": [
       "(273,)"
      ]
     },
     "execution_count": 381,
     "metadata": {},
     "output_type": "execute_result"
    }
   ],
   "source": [
    "y_test.shape"
   ]
  },
  {
   "cell_type": "code",
   "execution_count": 382,
   "id": "83bf2ed9",
   "metadata": {
    "colab": {
     "base_uri": "https://localhost:8080/"
    },
    "id": "25ec148a",
    "outputId": "8505dbed-6651-479b-f67d-90e562c62e5a"
   },
   "outputs": [
    {
     "name": "stdout",
     "output_type": "stream",
     "text": [
      "Model: \"sequential_24\"\n",
      "_________________________________________________________________\n",
      " Layer (type)                Output Shape              Param #   \n",
      "=================================================================\n",
      " embedding_24 (Embedding)    (None, 512, 256)          1024000   \n",
      "                                                                 \n",
      " conv1d_21 (Conv1D)          (None, 512, 16)           12304     \n",
      "                                                                 \n",
      " flatten_20 (Flatten)        (None, 8192)              0         \n",
      "                                                                 \n",
      " dense_45 (Dense)            (None, 256)               2097408   \n",
      "                                                                 \n",
      " dense_46 (Dense)            (None, 1)                 257       \n",
      "                                                                 \n",
      "=================================================================\n",
      "Total params: 3,133,969\n",
      "Trainable params: 3,133,969\n",
      "Non-trainable params: 0\n",
      "_________________________________________________________________\n"
     ]
    }
   ],
   "source": [
    "# Build model\n",
    "cnn_model = Sequential()\n",
    "cnn_model.add(Embedding(input_dim=num_words, output_dim=output_dim, input_length=num_len))\n",
    "cnn_model.add(Conv1D(16, 3, padding='same', activation='relu'))\n",
    "# cnn_model.add(MaxPooling1D())\n",
    "cnn_model.add(Flatten())\n",
    "cnn_model.add(Dense(256, activation='relu'))\n",
    "cnn_model.add(Dense(1, activation='sigmoid'))\n",
    "cnn_model.compile(optimizer=opt, loss=loss_func, metrics=metrics)\n",
    "cnn_model.summary()\n"
   ]
  },
  {
   "cell_type": "code",
   "execution_count": 383,
   "id": "da262b84",
   "metadata": {
    "colab": {
     "base_uri": "https://localhost:8080/"
    },
    "id": "540787cc",
    "outputId": "319918ec-8dee-4caf-c87d-730e1ada5b47"
   },
   "outputs": [
    {
     "name": "stdout",
     "output_type": "stream",
     "text": [
      "Epoch 1/10\n",
      "2/2 - 3s - loss: 0.7108 - accuracy: 0.4896 - val_loss: 0.6570 - val_accuracy: 0.6374 - 3s/epoch - 1s/step\n",
      "Epoch 2/10\n",
      "2/2 - 1s - loss: 0.7002 - accuracy: 0.5000 - val_loss: 0.6746 - val_accuracy: 0.6374 - 1s/epoch - 670ms/step\n",
      "Epoch 3/10\n",
      "2/2 - 1s - loss: 0.6837 - accuracy: 0.5021 - val_loss: 0.6767 - val_accuracy: 0.6740 - 1s/epoch - 671ms/step\n",
      "Epoch 4/10\n",
      "2/2 - 1s - loss: 0.6719 - accuracy: 0.6325 - val_loss: 0.6690 - val_accuracy: 0.6850 - 1s/epoch - 658ms/step\n",
      "Epoch 5/10\n",
      "2/2 - 1s - loss: 0.6552 - accuracy: 0.6429 - val_loss: 0.6627 - val_accuracy: 0.6813 - 1s/epoch - 670ms/step\n",
      "Epoch 6/10\n",
      "2/2 - 1s - loss: 0.6316 - accuracy: 0.6760 - val_loss: 0.6608 - val_accuracy: 0.6886 - 1s/epoch - 667ms/step\n",
      "Epoch 7/10\n",
      "2/2 - 1s - loss: 0.6002 - accuracy: 0.7505 - val_loss: 0.6605 - val_accuracy: 0.6923 - 1s/epoch - 674ms/step\n",
      "Epoch 8/10\n",
      "2/2 - 1s - loss: 0.5633 - accuracy: 0.8416 - val_loss: 0.6604 - val_accuracy: 0.6996 - 1s/epoch - 660ms/step\n",
      "Epoch 9/10\n",
      "2/2 - 1s - loss: 0.5199 - accuracy: 0.8861 - val_loss: 0.6598 - val_accuracy: 0.6886 - 1s/epoch - 701ms/step\n",
      "Epoch 10/10\n",
      "2/2 - 1s - loss: 0.4697 - accuracy: 0.9151 - val_loss: 0.6611 - val_accuracy: 0.6777 - 1s/epoch - 676ms/step\n"
     ]
    },
    {
     "data": {
      "text/plain": [
       "<keras.callbacks.History at 0x7f9ec41c9670>"
      ]
     },
     "execution_count": 383,
     "metadata": {},
     "output_type": "execute_result"
    }
   ],
   "source": [
    "# Fit model\n",
    "cnn_model.fit(X_train,\n",
    "              y_train,\n",
    "              validation_data=(X_dev, y_dev),\n",
    "              epochs=epochs,\n",
    "              batch_size=batch_size,\n",
    "              verbose=2\n",
    "             )"
   ]
  },
  {
   "cell_type": "code",
   "execution_count": 384,
   "id": "31c58b34",
   "metadata": {
    "colab": {
     "base_uri": "https://localhost:8080/",
     "height": 295
    },
    "id": "dbc0b465",
    "outputId": "015b19ff-cf70-430c-90ec-5b3222d32539"
   },
   "outputs": [
    {
     "data": {
      "image/png": "[encoded data removed]",
      "text/plain": [
       "<Figure size 432x288 with 2 Axes>"
      ]
     },
     "metadata": {
      "needs_background": "light"
     },
     "output_type": "display_data"
    }
   ],
   "source": [
    "# Plot confusion matrix on training data\n",
    "y_true = y_train\n",
    "y_pred = (cnn_model.predict(X_train) >= 0.5).astype(\"int32\")\n",
    "\n",
    "ConfusionMatrixDisplay.from_predictions(y_true,\n",
    "                                        y_pred,\n",
    "                                        normalize='all',\n",
    "                                        display_labels=sentiment\n",
    "                                       )\n",
    "\n",
    "plt.title(\"Confusion Matrix of Review Usefulness\")\n",
    "plt.show()"
   ]
  },
  {
   "cell_type": "code",
   "execution_count": 385,
   "id": "20fe0e1e",
   "metadata": {
    "colab": {
     "base_uri": "https://localhost:8080/",
     "height": 295
    },
    "id": "dbc0b465",
    "outputId": "015b19ff-cf70-430c-90ec-5b3222d32539"
   },
   "outputs": [
    {
     "data": {
      "image/png": "[encoded data removed]",
      "text/plain": [
       "<Figure size 432x288 with 2 Axes>"
      ]
     },
     "metadata": {
      "needs_background": "light"
     },
     "output_type": "display_data"
    }
   ],
   "source": [
    "# Plot confusion matrix\n",
    "y_true = y_test\n",
    "y_pred = (cnn_model.predict(X_test) >= 0.5).astype(\"int32\")\n",
    "\n",
    "ConfusionMatrixDisplay.from_predictions(y_true,\n",
    "                                        y_pred,\n",
    "                                        normalize='all',\n",
    "                                        display_labels=sentiment\n",
    "                                       )\n",
    "\n",
    "plt.title(\"Confusion Matrix of Review Usefulness\")\n",
    "plt.show()"
   ]
  },
  {
   "cell_type": "code",
   "execution_count": 386,
   "id": "1be92b70",
   "metadata": {
    "colab": {
     "base_uri": "https://localhost:8080/"
    },
    "id": "68fb7767",
    "outputId": "eb683707-0c07-4232-9f88-014aba6a469a"
   },
   "outputs": [
    {
     "name": "stdout",
     "output_type": "stream",
     "text": [
      "              precision    recall  f1-score   support\n",
      "\n",
      "           0       0.51      0.31      0.38       114\n",
      "           1       0.61      0.79      0.69       159\n",
      "\n",
      "    accuracy                           0.59       273\n",
      "   macro avg       0.56      0.55      0.54       273\n",
      "weighted avg       0.57      0.59      0.56       273\n",
      "\n"
     ]
    }
   ],
   "source": [
    "print(classification_report(y_true, y_pred))"
   ]
  },
  {
   "cell_type": "code",
   "execution_count": 387,
   "id": "5e56d9b9",
   "metadata": {
    "colab": {
     "base_uri": "https://localhost:8080/"
    },
    "id": "M07hJdegEhMo",
    "outputId": "1d91a98c-1cba-464a-be81-a4268c9e792c"
   },
   "outputs": [
    {
     "name": "stdout",
     "output_type": "stream",
     "text": [
      "9/9 [==============================] - 0s 11ms/step - loss: 0.7124 - accuracy: 0.5861\n",
      "Model performance metrics on test data\n",
      "Accuracy: 0.5861\n",
      "Loss: 0.7124\n",
      "Precision: 0.5687\n",
      "Recall: 0.5861\n",
      "F1-score: 0.5608\n"
     ]
    }
   ],
   "source": [
    "# Evaluate model\n",
    "loss, acc = cnn_model.evaluate(X_test, y_test, verbose=1)\n",
    "precision, recall, f1, support = precision_recall_fscore_support(y_true, y_pred, average='weighted')\n",
    "print(\"Model performance metrics on test data\")\n",
    "print(\"Accuracy: {:.4f}\\nLoss: {:.4f}\\nPrecision: {:.4f}\\nRecall: {:.4f}\\nF1-score: {:.4f}\".format(acc, loss, precision, recall, f1))"
   ]
  },
  {
   "cell_type": "code",
   "execution_count": 388,
   "id": "379bd05c",
   "metadata": {
    "colab": {
     "base_uri": "https://localhost:8080/"
    },
    "id": "jgzWpxYcIx0G",
    "outputId": "03b84656-188e-4750-97be-f21c35c5ad8e"
   },
   "outputs": [],
   "source": [
    "def test_examples(model, examples, num_len=512):\n",
    "    for idx, example in enumerate(examples):\n",
    "        sequence = tokenizer.texts_to_sequences([example])\n",
    "        test = pad_sequences(sequence, maxlen=num_len)\n",
    "        prediction = sentiment[np.around(model.predict(test), decimals=0).argmax(axis=1)[0]]\n",
    "        print(idx, \":\", prediction)"
   ]
  },
  {
   "cell_type": "code",
   "execution_count": 389,
   "id": "43dbb0f8",
   "metadata": {
    "colab": {
     "base_uri": "https://localhost:8080/"
    },
    "id": "fb25d4bb",
    "outputId": "efc46f4e-2752-47e8-db31-171fa16f244a"
   },
   "outputs": [
    {
     "name": "stdout",
     "output_type": "stream",
     "text": [
      "0 : Not Useful\n",
      "1 : Not Useful\n",
      "2 : Not Useful\n",
      "3 : Not Useful\n",
      "4 : Not Useful\n"
     ]
    }
   ],
   "source": [
    "test_examples(cnn_model, examples)"
   ]
  },
  {
   "cell_type": "markdown",
   "id": "f308b99f",
   "metadata": {
    "id": "SDpfcjw9WM0o"
   },
   "source": [
    "### X.X BERT - Sports"
   ]
  },
  {
   "cell_type": "code",
   "execution_count": null,
   "id": "49e017bc",
   "metadata": {
    "id": "Dlv2ktK882aJ"
   },
   "outputs": [],
   "source": [
    "reviews = sports['review_text'].fillna('no review')\n",
    "\n",
    "X, y = reviews, labels\n",
    "X_train, X_test, y_train, y_test = train_test_split(X, y, test_size=0.2, random_state=0)\n",
    "X_train, X_dev, y_train, y_dev = train_test_split(X_train, y_train, test_size=0.25, random_state=0)"
   ]
  },
  {
   "cell_type": "code",
   "execution_count": null,
   "id": "847cf5d1",
   "metadata": {
    "colab": {
     "base_uri": "https://localhost:8080/"
    },
    "id": "s3k_FS8kYQ3A",
    "outputId": "210770c9-70df-4cb0-8a5e-39959becae32"
   },
   "outputs": [],
   "source": [
    "text_test = ['this is such an amazing movie!']\n",
    "classifier_model = build_classifier_model()\n",
    "bert_raw_result = classifier_model(tf.constant(text_test))\n",
    "print(tf.sigmoid(bert_raw_result))"
   ]
  },
  {
   "cell_type": "code",
   "execution_count": null,
   "id": "0e181565",
   "metadata": {
    "id": "OK7WdVPEZKqC"
   },
   "outputs": [],
   "source": [
    "epochs = 5\n",
    "steps_per_epoch = len(X_train)\n",
    "num_train_steps = steps_per_epoch * epochs\n",
    "num_warmup_steps = int(0.1*num_train_steps)\n",
    "\n",
    "init_lr = 3e-5\n",
    "optimizer = optimization.create_optimizer(init_lr=init_lr,\n",
    "                                          num_train_steps=num_train_steps,\n",
    "                                          num_warmup_steps=num_warmup_steps,\n",
    "                                          optimizer_type='adamw')"
   ]
  },
  {
   "cell_type": "code",
   "execution_count": null,
   "id": "c858bac3",
   "metadata": {
    "id": "Q0C9YxpeZK2d"
   },
   "outputs": [],
   "source": [
    "classifier_model.compile(optimizer=optimizer,\n",
    "                         loss=loss_func,\n",
    "                         metrics=metrics)"
   ]
  },
  {
   "cell_type": "code",
   "execution_count": null,
   "id": "c69186f5",
   "metadata": {
    "colab": {
     "base_uri": "https://localhost:8080/"
    },
    "id": "x95zEKIIZK6i",
    "outputId": "9ab5d0d7-05b5-42e5-f88a-8bcf108922e2"
   },
   "outputs": [],
   "source": [
    "print(f'Training model with {tfhub_handle_encoder}')\n",
    "history = classifier_model.fit(x=X_train,\n",
    "                               y=y_train,\n",
    "                               validation_data=(X_dev, y_dev),\n",
    "                               epochs=epochs)"
   ]
  },
  {
   "cell_type": "code",
   "execution_count": null,
   "id": "126e3c68",
   "metadata": {
    "colab": {
     "base_uri": "https://localhost:8080/",
     "height": 295
    },
    "id": "1WPisSo99xn_",
    "outputId": "1afd8241-ceb6-4d31-da04-0d6429f7d32e"
   },
   "outputs": [],
   "source": [
    "# Plot confusion matrix\n",
    "y_true = y_test\n",
    "y_pred = (classifier_model.predict(X_test) >= 0.5).astype(\"int32\")\n",
    "\n",
    "ConfusionMatrixDisplay.from_predictions(y_true,\n",
    "                                        y_pred,\n",
    "                                        normalize='all',\n",
    "                                        display_labels=sentiment\n",
    "                                       )\n",
    "\n",
    "plt.title(\"Confusion Matrix of Review Usefulness\")\n",
    "plt.show()"
   ]
  },
  {
   "cell_type": "code",
   "execution_count": null,
   "id": "de82b00e",
   "metadata": {
    "colab": {
     "base_uri": "https://localhost:8080/"
    },
    "id": "VGdrC5yvZK9-",
    "outputId": "e12baff3-a110-4e35-a153-e15c92a55656"
   },
   "outputs": [],
   "source": [
    "# Evaluate model\n",
    "loss, accuracy = classifier_model.evaluate(X_test, y_test)\n",
    "precision, recall, f1, support = precision_recall_fscore_support(y_true, y_pred, average='weighted')\n",
    "print(\"Model performance metrics on test data\")\n",
    "print(\"Accuracy: {:.4f}\\nLoss: {:.4f}\\nPrecision: {:.4f}\\nRecall: {:.4f}\\nF1-score: {:.4f}\".format(acc, loss, precision, recall, f1))"
   ]
  }
 ],
 "metadata": {
  "accelerator": "GPU",
  "colab": {
   "name": "model-selection.ipynb",
   "provenance": []
  },
  "kernelspec": {
   "display_name": "Python 3 (ipykernel)",
   "language": "python",
   "name": "python3"
  },
  "language_info": {
   "codemirror_mode": {
    "name": "ipython",
    "version": 3
   },
   "file_extension": ".py",
   "mimetype": "text/x-python",
   "name": "python",
   "nbconvert_exporter": "python",
   "pygments_lexer": "ipython3",
   "version": "3.8.8"
  }
 },
 "nbformat": 4,
 "nbformat_minor": 5
}
