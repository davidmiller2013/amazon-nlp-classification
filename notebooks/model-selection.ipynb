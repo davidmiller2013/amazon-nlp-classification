{
  "cells": [
    {
      "cell_type": "markdown",
      "id": "20bb2820",
      "metadata": {
        "id": "20bb2820"
      },
      "source": [
        "# Model selection and evaluation"
      ]
    },
    {
      "cell_type": "markdown",
      "id": "18ca5f9b",
      "metadata": {
        "id": "18ca5f9b"
      },
      "source": [
        "__Notes__\n",
        "\n",
        "1. Create set of rules for what reviews to accept or throw out\n",
        "    1. Min or max number of words\n",
        "    1. Include URLs or not\n",
        "    1. Emojis\n",
        "    1. Eliminate stop words\n",
        "    \n",
        "1. Model selection\n",
        "    1. CNN for usefulness\n",
        "    1. Sample from useful reviews only\n",
        "    1. Setup T5 transfering learning model to generate \"justification\" text\n",
        "\n",
        "- LSTM is good\n",
        "    - You can add in an attention layer because it can look backwards and learn what words were more important than others\n",
        "- CNN is good for sentence classification \n",
        "    - With a fully connected Dense layer it is not good at generalizing\n",
        "- BERT is good because of its self-attention mechanism where every word looks at every other layer\n",
        "    - Use the CLS token as the only thing you feed into the output layer that is going to make the prediction on the classification"
      ]
    },
    {
      "cell_type": "markdown",
      "id": "835c4870",
      "metadata": {
        "id": "835c4870"
      },
      "source": [
        "## 0.0 Notebook setup"
      ]
    },
    {
      "cell_type": "markdown",
      "id": "d6e531ea",
      "metadata": {
        "id": "d6e531ea"
      },
      "source": [
        "### X.X Colab Setup"
      ]
    },
    {
      "cell_type": "code",
      "execution_count": 2,
      "id": "aX0IHvqPrB9h",
      "metadata": {
        "colab": {
          "base_uri": "https://localhost:8080/"
        },
        "id": "aX0IHvqPrB9h",
        "outputId": "d4a8dc41-e363-4c07-afbc-de5671e991e1"
      },
      "outputs": [
        {
          "output_type": "stream",
          "name": "stdout",
          "text": [
            "Mounted at /content/gdrive/\n"
          ]
        }
      ],
      "source": [
        "from google.colab import drive\n",
        "drive.mount('/content/gdrive/', force_remount=True)"
      ]
    },
    {
      "cell_type": "code",
      "execution_count": 4,
      "id": "9vnzzqbdraH_",
      "metadata": {
        "id": "9vnzzqbdraH_"
      },
      "outputs": [],
      "source": [
        "! mkdir data"
      ]
    },
    {
      "cell_type": "code",
      "execution_count": 5,
      "id": "0A4JchtFtgsT",
      "metadata": {
        "id": "0A4JchtFtgsT"
      },
      "outputs": [],
      "source": [
        "! cp \"/content/gdrive/My Drive/nlp-book-reviews/data/review_samples.csv\" ./data/"
      ]
    },
    {
      "cell_type": "code",
      "execution_count": 6,
      "id": "ncWfMYNDwGnj",
      "metadata": {
        "colab": {
          "base_uri": "https://localhost:8080/",
          "height": 35
        },
        "id": "ncWfMYNDwGnj",
        "outputId": "111e093f-205e-4ac0-e620-d132b11a071b"
      },
      "outputs": [
        {
          "output_type": "execute_result",
          "data": {
            "text/plain": [
              "'/device:GPU:0'"
            ],
            "application/vnd.google.colaboratory.intrinsic+json": {
              "type": "string"
            }
          },
          "metadata": {},
          "execution_count": 6
        }
      ],
      "source": [
        "import tensorflow as tf\n",
        "tf.test.gpu_device_name()"
      ]
    },
    {
      "cell_type": "code",
      "execution_count": 7,
      "id": "VIpdJLpswGLc",
      "metadata": {
        "colab": {
          "base_uri": "https://localhost:8080/"
        },
        "id": "VIpdJLpswGLc",
        "outputId": "4672cbcc-af0f-4c5a-fca9-118cfbd1542e"
      },
      "outputs": [
        {
          "output_type": "execute_result",
          "data": {
            "text/plain": [
              "[name: \"/device:CPU:0\"\n",
              " device_type: \"CPU\"\n",
              " memory_limit: 268435456\n",
              " locality {\n",
              " }\n",
              " incarnation: 12556231459336234201\n",
              " xla_global_id: -1, name: \"/device:GPU:0\"\n",
              " device_type: \"GPU\"\n",
              " memory_limit: 11320098816\n",
              " locality {\n",
              "   bus_id: 1\n",
              "   links {\n",
              "   }\n",
              " }\n",
              " incarnation: 6052361959866108613\n",
              " physical_device_desc: \"device: 0, name: Tesla K80, pci bus id: 0000:00:04.0, compute capability: 3.7\"\n",
              " xla_global_id: 416903419]"
            ]
          },
          "metadata": {},
          "execution_count": 7
        }
      ],
      "source": [
        "from tensorflow.python.client import device_lib\n",
        "device_lib.list_local_devices()"
      ]
    },
    {
      "cell_type": "code",
      "execution_count": 8,
      "id": "IcYfIaElNZwb",
      "metadata": {
        "colab": {
          "base_uri": "https://localhost:8080/"
        },
        "id": "IcYfIaElNZwb",
        "outputId": "af738995-9e8d-4eb4-dc40-a9312b5bd6be"
      },
      "outputs": [
        {
          "output_type": "stream",
          "name": "stdout",
          "text": [
            "\u001b[K     |████████████████████████████████| 3.8 MB 3.9 MB/s \n",
            "\u001b[K     |████████████████████████████████| 6.5 MB 16.4 MB/s \n",
            "\u001b[K     |████████████████████████████████| 596 kB 32.7 MB/s \n",
            "\u001b[K     |████████████████████████████████| 67 kB 3.5 MB/s \n",
            "\u001b[K     |████████████████████████████████| 895 kB 35.7 MB/s \n",
            "\u001b[?25h"
          ]
        }
      ],
      "source": [
        "!pip install --quiet transformers"
      ]
    },
    {
      "cell_type": "markdown",
      "id": "7631b809",
      "metadata": {
        "id": "7631b809"
      },
      "source": [
        "### X.X Local setup"
      ]
    },
    {
      "cell_type": "code",
      "execution_count": 9,
      "id": "3f0320af",
      "metadata": {
        "id": "3f0320af"
      },
      "outputs": [],
      "source": [
        "import warnings\n",
        "\n",
        "warnings.simplefilter(\"ignore\", UserWarning)\n",
        "warnings.simplefilter(\"ignore\", FutureWarning)\n",
        "warnings.simplefilter(\"ignore\", DeprecationWarning)"
      ]
    },
    {
      "cell_type": "code",
      "execution_count": 10,
      "id": "3abac3ad",
      "metadata": {
        "id": "3abac3ad"
      },
      "outputs": [],
      "source": [
        "# Statistics\n",
        "import numpy as np\n",
        "import pandas as pd\n",
        "from scipy.stats import chi2_contingency, norm, skew, kurtosis\n",
        "\n",
        "# Visualization\n",
        "%matplotlib inline\n",
        "import matplotlib.pyplot as plt\n",
        "import seaborn as sns\n",
        "\n",
        "# Model selection and evaluation\n",
        "from sklearn.model_selection import train_test_split\n",
        "from sklearn.metrics import confusion_matrix, ConfusionMatrixDisplay\n",
        "from sklearn.metrics import classification_report, precision_recall_fscore_support, roc_curve, auc, accuracy_score\n",
        "\n",
        "# Model building\n",
        "from sklearn.naive_bayes import MultinomialNB\n",
        "from sklearn.feature_extraction.text import TfidfVectorizer\n",
        "\n",
        "import tensorflow as tf\n",
        "import keras\n",
        "from keras.preprocessing.text import Tokenizer\n",
        "from keras.preprocessing.sequence import pad_sequences\n",
        "from keras.models import Sequential\n",
        "from keras.layers import Embedding, Bidirectional, Dense, Flatten, LSTM\n",
        "from keras.layers.convolutional import Conv1D\n",
        "from keras.layers.convolutional import MaxPooling1D\n",
        "\n",
        "# BERT-specific\n",
        "from transformers import BertTokenizer, TFBertForSequenceClassification\n",
        "from transformers import InputExample, InputFeatures"
      ]
    },
    {
      "cell_type": "code",
      "execution_count": 11,
      "id": "768f4b5c",
      "metadata": {
        "id": "768f4b5c"
      },
      "outputs": [],
      "source": [
        "# Local\n",
        "# data = '../data/review_samples.csv'\n",
        "\n",
        "# Colab\n",
        "data = './data/review_samples.csv'\n",
        "\n",
        "review_samples = pd.read_csv(data)"
      ]
    },
    {
      "cell_type": "markdown",
      "id": "72ffdf0f",
      "metadata": {
        "id": "72ffdf0f"
      },
      "source": [
        "## X.X Usefulness language modeling"
      ]
    },
    {
      "cell_type": "code",
      "source": [
        "reviews = review_samples['reviewProcessed']\n",
        "labels = review_samples['useful'].astype(int)\n",
        "sentiment = ['Not Useful', 'Useful']"
      ],
      "metadata": {
        "id": "40kfYLJRty7a"
      },
      "id": "40kfYLJRty7a",
      "execution_count": 12,
      "outputs": []
    },
    {
      "cell_type": "markdown",
      "id": "1cc10c6c",
      "metadata": {
        "id": "1cc10c6c"
      },
      "source": [
        "### X.X Baseline - Naive Bayes"
      ]
    },
    {
      "cell_type": "code",
      "execution_count": 157,
      "id": "e6197a23",
      "metadata": {
        "id": "e6197a23"
      },
      "outputs": [],
      "source": [
        "X_train, X_test, y_train, y_test = train_test_split(reviews, labels, test_size=0.2, random_state=0)\n",
        "X_train, X_dev, y_train, y_dev = train_test_split(X_train, y_train, test_size=0.25, random_state=0)\n",
        "\n",
        "tf_idf = TfidfVectorizer(ngram_range=(1, 3),\n",
        "                         binary=True,\n",
        "                         smooth_idf=False)\n",
        "\n",
        "X_train_tfidf = tf_idf.fit_transform(X_train)\n",
        "X_dev_tfidf = tf_idf.transform(X_dev)\n",
        "X_test_tfidf = tf_idf.transform(X_test)"
      ]
    },
    {
      "cell_type": "code",
      "execution_count": 158,
      "id": "360bf0a0",
      "metadata": {
        "id": "360bf0a0",
        "outputId": "f6bea8ff-5654-46f4-de0d-75069540f572",
        "colab": {
          "base_uri": "https://localhost:8080/"
        }
      },
      "outputs": [
        {
          "output_type": "execute_result",
          "data": {
            "text/plain": [
              "MultinomialNB(alpha=1.8)"
            ]
          },
          "metadata": {},
          "execution_count": 158
        }
      ],
      "source": [
        "# Build model\n",
        "nb_model = MultinomialNB(alpha=1.8)\n",
        "\n",
        "# Fit model\n",
        "nb_model.fit(X_train_tfidf, y_train)"
      ]
    },
    {
      "cell_type": "code",
      "execution_count": 162,
      "id": "3fe5c18b",
      "metadata": {
        "id": "3fe5c18b",
        "outputId": "85b12263-11ec-4c7d-c7aa-fea572f0ec7e",
        "colab": {
          "base_uri": "https://localhost:8080/"
        }
      },
      "outputs": [
        {
          "output_type": "stream",
          "name": "stdout",
          "text": [
            "0.9967154374440131 0.5559534467323187 0.5514771709937332\n"
          ]
        }
      ],
      "source": [
        "# Evaluate model on dev data\n",
        "train_acc = nb_model.score(X_train_tfidf, y_train)\n",
        "dev_acc = nb_model.score(X_dev_tfidf, y_dev)\n",
        "test_acc = nb_model.score(X_test_tfidf, y_test)\n",
        "\n",
        "print(train_acc, dev_acc, test_acc)"
      ]
    },
    {
      "cell_type": "code",
      "execution_count": 163,
      "id": "7add20ab",
      "metadata": {
        "id": "7add20ab",
        "outputId": "27c1c06b-fd9a-4ba9-f5ba-14ae82dd9e88",
        "colab": {
          "base_uri": "https://localhost:8080/",
          "height": 295
        }
      },
      "outputs": [
        {
          "output_type": "display_data",
          "data": {
            "text/plain": [
              "<Figure size 432x288 with 2 Axes>"
            ],
            "image/png": "[encoded data removed]"
          },
          "metadata": {
            "needs_background": "light"
          }
        }
      ],
      "source": [
        "# Evaluate model on test data and plot confusion matrix\n",
        "y_true = y_test\n",
        "y_pred = nb_model.predict(X_test_tfidf)\n",
        "\n",
        "ConfusionMatrixDisplay.from_predictions(y_true,\n",
        "                                        y_pred,\n",
        "                                        normalize='all',\n",
        "                                        display_labels=sentiment\n",
        "                                       )\n",
        "\n",
        "plt.title(\"Confusion Matrix of Review Usefulness\")\n",
        "plt.show()"
      ]
    },
    {
      "cell_type": "code",
      "execution_count": null,
      "id": "d9b80b15",
      "metadata": {
        "id": "d9b80b15"
      },
      "outputs": [],
      "source": [
        "fpr, tpr, threshold = roc_curve(y_true, y_pred)\n",
        "roc_auc = auc(fpr, tpr)\n",
        "print(f'AUC: {roc_auc:.4f}')\n",
        "\n",
        "# Plot ROC AUC\n",
        "plt.title('Receiver Operating Characteristic')\n",
        "plt.plot(fpr, tpr, 'b', label = 'AUC = %0.2f' % roc_auc)\n",
        "plt.legend(loc = 'lower right')\n",
        "plt.plot([0, 1], [0, 1],'r--')\n",
        "plt.xlim([0, 1])\n",
        "plt.ylim([0, 1])\n",
        "plt.ylabel('True Positive Rate')\n",
        "plt.xlabel('False Positive Rate')\n",
        "plt.show()"
      ]
    },
    {
      "cell_type": "markdown",
      "id": "c4693fae",
      "metadata": {
        "id": "c4693fae"
      },
      "source": [
        "### X.X Bi-directional LSTM"
      ]
    },
    {
      "cell_type": "code",
      "execution_count": 169,
      "metadata": {
        "id": "10c5748e"
      },
      "outputs": [],
      "source": [
        "# Set tokenization parameters\n",
        "num_words = None\n",
        "oov_token = '<UNK>'\n",
        "pad_type = 'post'\n",
        "trunc_type = 'post'\n",
        "\n",
        "# Tokenize review text\n",
        "tokenizer = Tokenizer(num_words=num_words, oov_token=oov_token)\n",
        "tokenizer.fit_on_texts(reviews)\n",
        "sequences = tokenizer.texts_to_sequences(reviews)\n",
        "\n",
        "# Additional tokenization parameters\n",
        "# max_words = len(tokenizer.word_index)\n",
        "# max_len = max([len(x) for x in sequences])\n",
        "max_words = 5000\n",
        "max_len = 125\n",
        "\n",
        "# Pad review text tokens\n",
        "reviews_tokens = pad_sequences(sequences, padding=pad_type, truncating=trunc_type, maxlen=max_len)\n",
        "\n",
        "# Create usefulness target variable\n",
        "labels = review_samples['useful']\n",
        "labels = tf.keras.utils.to_categorical(labels, num_classes=2, dtype=\"float32\")\n"
      ],
      "id": "10c5748e"
    },
    {
      "cell_type": "code",
      "execution_count": 170,
      "metadata": {
        "colab": {
          "base_uri": "https://localhost:8080/"
        },
        "id": "80397fe8",
        "outputId": "46a7210a-cedb-4d60-de9e-4386faf1c844"
      },
      "outputs": [
        {
          "output_type": "execute_result",
          "data": {
            "text/plain": [
              "(5000, 125)"
            ]
          },
          "metadata": {},
          "execution_count": 170
        }
      ],
      "source": [
        "(max_words, max_len)"
      ],
      "id": "80397fe8"
    },
    {
      "cell_type": "code",
      "execution_count": 171,
      "metadata": {
        "id": "388769b8"
      },
      "outputs": [],
      "source": [
        "# Set model hyperparamters\n",
        "epochs = 10\n",
        "batch_size = 32\n",
        "dropout_rate = 0.7\n",
        "num_classes = len(np.unique(labels, axis=0))\n",
        "opt = tf.keras.optimizers.Adam(learning_rate=0.001,\n",
        "                               epsilon=0.00000001,\n",
        "                               clipnorm=1.0\n",
        "                              )\n",
        "loss = 'binary_crossentropy'\n",
        "metrics = ['accuracy']"
      ],
      "id": "388769b8"
    },
    {
      "cell_type": "code",
      "execution_count": 172,
      "metadata": {
        "id": "a1bb450b"
      },
      "outputs": [],
      "source": [
        "# Split data into train, dev, and test sets\n",
        "X_train, X_test, y_train, y_test = train_test_split(reviews_tokens, labels, test_size=0.2, random_state=0)\n",
        "X_train, X_dev, y_train, y_dev = train_test_split(X_train, y_train, test_size=0.25, random_state=0)"
      ],
      "id": "a1bb450b"
    },
    {
      "cell_type": "code",
      "execution_count": 122,
      "id": "3a332016",
      "metadata": {
        "colab": {
          "base_uri": "https://localhost:8080/"
        },
        "id": "3a332016",
        "outputId": "f4c4643c-f09f-44fc-9c65-bf1fecf196af"
      },
      "outputs": [
        {
          "output_type": "execute_result",
          "data": {
            "text/plain": [
              "(1117, 2)"
            ]
          },
          "metadata": {},
          "execution_count": 122
        }
      ],
      "source": [
        "y_test.shape"
      ]
    },
    {
      "cell_type": "code",
      "execution_count": 123,
      "id": "e6556cac",
      "metadata": {
        "colab": {
          "base_uri": "https://localhost:8080/"
        },
        "id": "e6556cac",
        "outputId": "7c87fe98-474c-440c-9953-d2b02fa9aa93"
      },
      "outputs": [
        {
          "output_type": "stream",
          "name": "stdout",
          "text": [
            "Model: \"sequential_11\"\n",
            "_________________________________________________________________\n",
            " Layer (type)                Output Shape              Param #   \n",
            "=================================================================\n",
            " embedding_11 (Embedding)    (None, 125, 40)           200000    \n",
            "                                                                 \n",
            " bidirectional_4 (Bidirectio  (None, 40)               9760      \n",
            " nal)                                                            \n",
            "                                                                 \n",
            " dense_18 (Dense)            (None, 2)                 82        \n",
            "                                                                 \n",
            "=================================================================\n",
            "Total params: 209,842\n",
            "Trainable params: 209,842\n",
            "Non-trainable params: 0\n",
            "_________________________________________________________________\n"
          ]
        }
      ],
      "source": [
        "# Build model\n",
        "lstm_model = Sequential()\n",
        "lstm_model.add(Embedding(max_words, 40, input_length=max_len))\n",
        "lstm_model.add(Bidirectional(LSTM(20, dropout=dropout_rate)))\n",
        "lstm_model.add(Dense(2, activation='softmax'))\n",
        "lstm_model.compile(optimizer=opt, loss=loss, metrics=metrics)\n",
        "lstm_model.summary()"
      ]
    },
    {
      "cell_type": "code",
      "execution_count": 124,
      "id": "_LMuy-3QVWqh",
      "metadata": {
        "colab": {
          "base_uri": "https://localhost:8080/"
        },
        "id": "_LMuy-3QVWqh",
        "outputId": "1dc5befc-9830-4ae1-d81c-cf2dd568ecdd"
      },
      "outputs": [
        {
          "output_type": "stream",
          "name": "stdout",
          "text": [
            "Epoch 1/10\n",
            "105/105 - 6s - loss: 0.6853 - accuracy: 0.5497 - val_loss: 0.6803 - val_accuracy: 0.5560 - 6s/epoch - 56ms/step\n",
            "Epoch 2/10\n",
            "105/105 - 1s - loss: 0.6613 - accuracy: 0.6067 - val_loss: 0.6731 - val_accuracy: 0.5855 - 1s/epoch - 14ms/step\n",
            "Epoch 3/10\n",
            "105/105 - 1s - loss: 0.5976 - accuracy: 0.6901 - val_loss: 0.6842 - val_accuracy: 0.5936 - 1s/epoch - 14ms/step\n",
            "Epoch 4/10\n",
            "105/105 - 1s - loss: 0.4939 - accuracy: 0.7758 - val_loss: 0.7233 - val_accuracy: 0.5855 - 1s/epoch - 14ms/step\n",
            "Epoch 5/10\n",
            "105/105 - 1s - loss: 0.4395 - accuracy: 0.8074 - val_loss: 0.7868 - val_accuracy: 0.5900 - 1s/epoch - 14ms/step\n",
            "Epoch 6/10\n",
            "105/105 - 1s - loss: 0.3791 - accuracy: 0.8414 - val_loss: 0.9031 - val_accuracy: 0.5765 - 1s/epoch - 14ms/step\n",
            "Epoch 7/10\n",
            "105/105 - 1s - loss: 0.3503 - accuracy: 0.8504 - val_loss: 1.0050 - val_accuracy: 0.5810 - 1s/epoch - 14ms/step\n",
            "Epoch 8/10\n",
            "105/105 - 1s - loss: 0.3074 - accuracy: 0.8737 - val_loss: 0.9457 - val_accuracy: 0.5900 - 1s/epoch - 14ms/step\n",
            "Epoch 9/10\n",
            "105/105 - 1s - loss: 0.2827 - accuracy: 0.8940 - val_loss: 0.9801 - val_accuracy: 0.5828 - 1s/epoch - 14ms/step\n",
            "Epoch 10/10\n",
            "105/105 - 1s - loss: 0.2640 - accuracy: 0.8970 - val_loss: 1.0697 - val_accuracy: 0.5810 - 1s/epoch - 14ms/step\n"
          ]
        },
        {
          "output_type": "execute_result",
          "data": {
            "text/plain": [
              "<keras.callbacks.History at 0x7f7e1edb0590>"
            ]
          },
          "metadata": {},
          "execution_count": 124
        }
      ],
      "source": [
        "# Fit model\n",
        "lstm_model.fit(X_train, y_train, validation_data=(X_dev, y_dev), epochs=epochs, batch_size=batch_size, verbose=2)"
      ]
    },
    {
      "cell_type": "code",
      "execution_count": 125,
      "id": "fb4bcaea",
      "metadata": {
        "colab": {
          "base_uri": "https://localhost:8080/"
        },
        "id": "fb4bcaea",
        "outputId": "efbd08e5-5818-4f4a-ba89-bf1e4967791d"
      },
      "outputs": [
        {
          "output_type": "stream",
          "name": "stdout",
          "text": [
            "35/35 [==============================] - 0s 8ms/step - loss: 1.0912 - accuracy: 0.5542\n"
          ]
        },
        {
          "output_type": "execute_result",
          "data": {
            "text/plain": [
              "[1.0912150144577026, 0.5541629195213318]"
            ]
          },
          "metadata": {},
          "execution_count": 125
        }
      ],
      "source": [
        "# Evaluate model\n",
        "lstm_model.evaluate(X_test, y_test, verbose=1)"
      ]
    },
    {
      "cell_type": "code",
      "execution_count": 126,
      "id": "e7d45011",
      "metadata": {
        "colab": {
          "base_uri": "https://localhost:8080/",
          "height": 295
        },
        "id": "e7d45011",
        "outputId": "ce7588e9-e034-4f8d-b22d-d3dde88094f4"
      },
      "outputs": [
        {
          "output_type": "display_data",
          "data": {
            "text/plain": [
              "<Figure size 432x288 with 2 Axes>"
            ],
            "image/png": "[encoded data removed]"
          },
          "metadata": {
            "needs_background": "light"
          }
        }
      ],
      "source": [
        "# Plot confusion matrix\n",
        "y_true = y_test.argmax(axis=1)\n",
        "y_pred = np.argmax(lstm_model.predict(X_test), axis=1)\n",
        "\n",
        "ConfusionMatrixDisplay.from_predictions(y_true,\n",
        "                                        y_pred,\n",
        "                                        normalize='all',\n",
        "                                        display_labels=sentiment\n",
        "                                       )\n",
        "\n",
        "plt.title(\"Confusion Matrix of Review Usefulness\")\n",
        "plt.show()"
      ]
    },
    {
      "cell_type": "code",
      "execution_count": 127,
      "id": "8d2af57c",
      "metadata": {
        "colab": {
          "base_uri": "https://localhost:8080/"
        },
        "id": "8d2af57c",
        "outputId": "f27b7984-c3a6-44cb-de3e-651dd5bb7c3a"
      },
      "outputs": [
        {
          "output_type": "stream",
          "name": "stdout",
          "text": [
            "              precision    recall  f1-score   support\n",
            "\n",
            "           0       0.58      0.58      0.58       590\n",
            "           1       0.53      0.53      0.53       527\n",
            "\n",
            "    accuracy                           0.55      1117\n",
            "   macro avg       0.55      0.55      0.55      1117\n",
            "weighted avg       0.55      0.55      0.55      1117\n",
            "\n"
          ]
        }
      ],
      "source": [
        "print(classification_report(y_true, y_pred))"
      ]
    },
    {
      "cell_type": "code",
      "source": [
        "example0 = \"Golf tips magazine is one of the most aptly titled magazines available today. \\\n",
        "            It is chock full of heavily-illustrated exercises and other tips for serious golfers to improve their games.\\\n",
        "            \\nThere are a number of golf magazines on the newstand today. Most of them rely on a lifestyle format relying \\\n",
        "            more heavily on lifestyle-type stories about today's hot golfers and the courses they play. Most of them include \\\n",
        "            a brief game tip or two but seem aimed at the casual duffer.\\nGolf Tips, on the other hand, features almost nothing \\\n",
        "            but heavily illustrated tips on improving one's swing, eliminating mistakes and putting better. It also is heavily \\\n",
        "            loaded with features on the latest equipment technology. Each issue also seems to feature an article on the technical \\\n",
        "            aspects of a selected major golf course. The articles are written with terminology that serious golfers will understand \\\n",
        "            but that may confuse the weekend player. Judging by the amount of advertising in its early issues, this magazine also \\\n",
        "            appears to be financially healthy.\\nIf a reader wants to read about the PGA Tour's superstars, this magazine is not for \\\n",
        "            him/her. But if s/he plans to be one of those superstars, Golf Tips is a good match.\"\n",
        "\n",
        "example1 = \"The information is interesting and fun, the writing is superb, and the writers and editors have a great sense of humor. \\\n",
        "            I just wish it came out more often!\"\n",
        "\n",
        "example2 = \"this data science article is the best ever\"\n",
        "\n",
        "example3 = \"i really loved how the technician helped me with the issue that i had\"\n",
        "\n",
        "example4 = \"useless comment\"\n",
        "\n",
        "examples = [example0, example1, example2, example3, example4]"
      ],
      "metadata": {
        "id": "c1vo5zLjjIFI"
      },
      "execution_count": 128,
      "outputs": [],
      "id": "c1vo5zLjjIFI"
    },
    {
      "cell_type": "code",
      "execution_count": 129,
      "id": "jgzWpxYcIx0G",
      "metadata": {
        "colab": {
          "base_uri": "https://localhost:8080/"
        },
        "id": "jgzWpxYcIx0G",
        "outputId": "e82b38d2-3a70-41a4-d67f-41a01f095bb8"
      },
      "outputs": [
        {
          "output_type": "stream",
          "name": "stdout",
          "text": [
            "0 : Useful\n",
            "1 : Not Useful\n",
            "2 : Not Useful\n",
            "3 : Not Useful\n",
            "4 : Not Useful\n"
          ]
        }
      ],
      "source": [
        "def test_examples(model, examples):\n",
        "  for idx, example in enumerate(examples):\n",
        "    sequence = tokenizer.texts_to_sequences([example])\n",
        "    test = pad_sequences(sequence, maxlen=max_len)\n",
        "    prediction = sentiment[np.around(model.predict(test), decimals=0).argmax(axis=1)[0]]\n",
        "    print(idx, \":\", prediction)\n",
        "    \n",
        "test_examples(lstm_model, examples)"
      ]
    },
    {
      "cell_type": "markdown",
      "id": "8d132915",
      "metadata": {
        "id": "8d132915"
      },
      "source": [
        "### X.X Convolutional neural network"
      ]
    },
    {
      "cell_type": "code",
      "execution_count": 173,
      "id": "ce97448e",
      "metadata": {
        "id": "ce97448e"
      },
      "outputs": [],
      "source": [
        "# # Change data type from float to int\n",
        "y_train = np.array([list(i).index(max(i)) for i in y_train])\n",
        "y_dev = np.array([list(i).index(max(i)) for i in y_dev])\n",
        "y_test = np.array([list(i).index(max(i)) for i in y_test])\n",
        "\n",
        "# labels = review_samples['useful'].astype(int)\n",
        "# X_train, X_test, y_train, y_test = train_test_split(reviews, labels, test_size=0.2, random_state=0)\n",
        "# X_train, X_dev, y_train, y_dev = train_test_split(X_train, y_train, test_size=0.25, random_state=0)"
      ]
    },
    {
      "cell_type": "code",
      "execution_count": 174,
      "id": "ba5c3da7",
      "metadata": {
        "colab": {
          "base_uri": "https://localhost:8080/"
        },
        "id": "ba5c3da7",
        "outputId": "a2c4cf9e-d94d-47d6-dbe9-066a1ad73411"
      },
      "outputs": [
        {
          "output_type": "execute_result",
          "data": {
            "text/plain": [
              "(1117,)"
            ]
          },
          "metadata": {},
          "execution_count": 174
        }
      ],
      "source": [
        "y_test.shape"
      ]
    },
    {
      "cell_type": "code",
      "execution_count": 175,
      "id": "25ec148a",
      "metadata": {
        "colab": {
          "base_uri": "https://localhost:8080/"
        },
        "id": "25ec148a",
        "outputId": "95b76900-d76d-40a5-e13e-c807a8578d18"
      },
      "outputs": [
        {
          "output_type": "stream",
          "name": "stdout",
          "text": [
            "Model: \"sequential_14\"\n",
            "_________________________________________________________________\n",
            " Layer (type)                Output Shape              Param #   \n",
            "=================================================================\n",
            " embedding_14 (Embedding)    (None, 125, 32)           160000    \n",
            "                                                                 \n",
            " conv1d_9 (Conv1D)           (None, 125, 32)           3104      \n",
            "                                                                 \n",
            " max_pooling1d_9 (MaxPooling  (None, 62, 32)           0         \n",
            " 1D)                                                             \n",
            "                                                                 \n",
            " flatten_9 (Flatten)         (None, 1984)              0         \n",
            "                                                                 \n",
            " dense_23 (Dense)            (None, 250)               496250    \n",
            "                                                                 \n",
            " dense_24 (Dense)            (None, 1)                 251       \n",
            "                                                                 \n",
            "=================================================================\n",
            "Total params: 659,605\n",
            "Trainable params: 659,605\n",
            "Non-trainable params: 0\n",
            "_________________________________________________________________\n"
          ]
        }
      ],
      "source": [
        "# Build model\n",
        "cnn_model = Sequential()\n",
        "cnn_model.add(Embedding(max_words, 32, input_length=max_len))\n",
        "cnn_model.add(Conv1D(32, 3, padding='same', activation='relu'))\n",
        "cnn_model.add(MaxPooling1D())\n",
        "cnn_model.add(Flatten())\n",
        "cnn_model.add(Dense(250, activation='relu'))\n",
        "cnn_model.add(Dense(1, activation='sigmoid'))\n",
        "cnn_model.compile(optimizer=opt, loss=loss, metrics=metrics)\n",
        "cnn_model.summary()\n"
      ]
    },
    {
      "cell_type": "code",
      "execution_count": 176,
      "id": "540787cc",
      "metadata": {
        "colab": {
          "base_uri": "https://localhost:8080/"
        },
        "id": "540787cc",
        "outputId": "cb910c8e-be41-4f89-9d17-d83f94052e9f"
      },
      "outputs": [
        {
          "output_type": "stream",
          "name": "stdout",
          "text": [
            "Epoch 1/10\n",
            "105/105 - 1s - loss: 0.6783 - accuracy: 0.5796 - val_loss: 0.6801 - val_accuracy: 0.5551 - 1s/epoch - 12ms/step\n",
            "Epoch 2/10\n",
            "105/105 - 0s - loss: 0.5947 - accuracy: 0.6924 - val_loss: 0.6912 - val_accuracy: 0.5828 - 497ms/epoch - 5ms/step\n",
            "Epoch 3/10\n",
            "105/105 - 0s - loss: 0.2266 - accuracy: 0.9251 - val_loss: 0.9001 - val_accuracy: 0.5703 - 485ms/epoch - 5ms/step\n",
            "Epoch 4/10\n",
            "105/105 - 0s - loss: 0.0489 - accuracy: 0.9890 - val_loss: 1.1037 - val_accuracy: 0.5685 - 495ms/epoch - 5ms/step\n",
            "Epoch 5/10\n",
            "105/105 - 0s - loss: 0.0146 - accuracy: 0.9985 - val_loss: 1.2625 - val_accuracy: 0.5551 - 490ms/epoch - 5ms/step\n",
            "Epoch 6/10\n",
            "105/105 - 1s - loss: 0.0136 - accuracy: 0.9988 - val_loss: 1.4422 - val_accuracy: 0.5882 - 562ms/epoch - 5ms/step\n",
            "Epoch 7/10\n",
            "105/105 - 1s - loss: 0.0107 - accuracy: 0.9988 - val_loss: 1.7276 - val_accuracy: 0.5828 - 575ms/epoch - 5ms/step\n",
            "Epoch 8/10\n",
            "105/105 - 1s - loss: 0.0084 - accuracy: 0.9991 - val_loss: 1.4347 - val_accuracy: 0.5712 - 517ms/epoch - 5ms/step\n",
            "Epoch 9/10\n",
            "105/105 - 1s - loss: 0.0041 - accuracy: 0.9994 - val_loss: 1.5424 - val_accuracy: 0.5506 - 557ms/epoch - 5ms/step\n",
            "Epoch 10/10\n",
            "105/105 - 0s - loss: 0.0072 - accuracy: 0.9988 - val_loss: 1.4031 - val_accuracy: 0.5595 - 497ms/epoch - 5ms/step\n"
          ]
        },
        {
          "output_type": "execute_result",
          "data": {
            "text/plain": [
              "<keras.callbacks.History at 0x7f7c8e40b390>"
            ]
          },
          "metadata": {},
          "execution_count": 176
        }
      ],
      "source": [
        "# Fit model\n",
        "cnn_model.fit(X_train, y_train, validation_data=(X_dev, y_dev), epochs=epochs, batch_size=batch_size, verbose=2)"
      ]
    },
    {
      "cell_type": "code",
      "execution_count": 134,
      "id": "2e651338",
      "metadata": {
        "colab": {
          "base_uri": "https://localhost:8080/"
        },
        "id": "2e651338",
        "outputId": "736b8e5f-c914-4bfd-9595-d689310499c4"
      },
      "outputs": [
        {
          "output_type": "stream",
          "name": "stdout",
          "text": [
            "35/35 [==============================] - 0s 3ms/step - loss: 1.3591 - accuracy: 0.5792\n"
          ]
        },
        {
          "output_type": "execute_result",
          "data": {
            "text/plain": [
              "[1.3591108322143555, 0.5792300701141357]"
            ]
          },
          "metadata": {},
          "execution_count": 134
        }
      ],
      "source": [
        "# Evaluate model\n",
        "cnn_model.evaluate(X_test, y_test, verbose=1)"
      ]
    },
    {
      "cell_type": "code",
      "execution_count": 135,
      "id": "dbc0b465",
      "metadata": {
        "colab": {
          "base_uri": "https://localhost:8080/",
          "height": 295
        },
        "id": "dbc0b465",
        "outputId": "77b2510b-d548-438d-86e9-75344ccae0ee"
      },
      "outputs": [
        {
          "output_type": "display_data",
          "data": {
            "text/plain": [
              "<Figure size 432x288 with 2 Axes>"
            ],
            "image/png": "[encoded data removed]"
          },
          "metadata": {
            "needs_background": "light"
          }
        }
      ],
      "source": [
        "# Plot confusion matrix\n",
        "y_true = y_test\n",
        "y_pred = (cnn_model.predict(X_test) >= 0.5).astype(\"int32\")\n",
        "\n",
        "ConfusionMatrixDisplay.from_predictions(y_true,\n",
        "                                        y_pred,\n",
        "                                        normalize='all',\n",
        "                                        display_labels=sentiment\n",
        "                                       )\n",
        "\n",
        "plt.title(\"Confusion Matrix of Review Usefulness\")\n",
        "plt.show()"
      ]
    },
    {
      "cell_type": "code",
      "execution_count": 136,
      "id": "68fb7767",
      "metadata": {
        "colab": {
          "base_uri": "https://localhost:8080/"
        },
        "id": "68fb7767",
        "outputId": "fe518fb5-e181-4507-9cf4-594bf0691baf"
      },
      "outputs": [
        {
          "output_type": "stream",
          "name": "stdout",
          "text": [
            "              precision    recall  f1-score   support\n",
            "\n",
            "           0       0.61      0.58      0.59       590\n",
            "           1       0.55      0.58      0.56       527\n",
            "\n",
            "    accuracy                           0.58      1117\n",
            "   macro avg       0.58      0.58      0.58      1117\n",
            "weighted avg       0.58      0.58      0.58      1117\n",
            "\n"
          ]
        }
      ],
      "source": [
        "print(classification_report(y_true, y_pred))"
      ]
    },
    {
      "cell_type": "code",
      "execution_count": 137,
      "id": "fb25d4bb",
      "metadata": {
        "colab": {
          "base_uri": "https://localhost:8080/"
        },
        "id": "fb25d4bb",
        "outputId": "a7a33607-eebc-41f9-c1ed-738c37bc6e90"
      },
      "outputs": [
        {
          "output_type": "stream",
          "name": "stdout",
          "text": [
            "0 : Not Useful\n",
            "1 : Not Useful\n",
            "2 : Not Useful\n",
            "3 : Not Useful\n",
            "4 : Not Useful\n"
          ]
        }
      ],
      "source": [
        "test_examples(cnn_model, examples)"
      ]
    },
    {
      "cell_type": "markdown",
      "id": "ae73365d",
      "metadata": {
        "id": "ae73365d"
      },
      "source": [
        "### X.X BERT"
      ]
    },
    {
      "cell_type": "code",
      "execution_count": 148,
      "id": "1lEMxrLgLeFq",
      "metadata": {
        "colab": {
          "base_uri": "https://localhost:8080/"
        },
        "id": "1lEMxrLgLeFq",
        "outputId": "8ce06533-aa43-4570-c676-b89625e33651"
      },
      "outputs": [
        {
          "output_type": "stream",
          "name": "stderr",
          "text": [
            "All model checkpoint layers were used when initializing TFBertForSequenceClassification.\n",
            "\n",
            "Some layers of TFBertForSequenceClassification were not initialized from the model checkpoint at bert-base-uncased and are newly initialized: ['classifier']\n",
            "You should probably TRAIN this model on a down-stream task to be able to use it for predictions and inference.\n"
          ]
        }
      ],
      "source": [
        "# Download pre-trained BERT model\n",
        "bert_tokenizer = BertTokenizer.from_pretrained(\"bert-base-uncased\", do_lower_case=True)\n",
        "bert_model = TFBertForSequenceClassification.from_pretrained(\"bert-base-uncased\")"
      ]
    },
    {
      "cell_type": "code",
      "execution_count": 139,
      "id": "1a4e8d32",
      "metadata": {
        "id": "1a4e8d32"
      },
      "outputs": [],
      "source": [
        "X, y = review_samples['reviewProcessed'], review_samples['useful']\n",
        "X_train, X_test, y_train, y_test = train_test_split(X, y, test_size=0.2, random_state=0)\n",
        "X_train, X_dev, y_train, y_dev = train_test_split(X_train, y_train, test_size=0.25, random_state=0)\n",
        "\n",
        "train = pd.DataFrame([X_train, y_train]).T\n",
        "dev = pd.DataFrame([X_dev, y_dev]).T\n",
        "test = pd.DataFrame([X_test, y_test]).T"
      ]
    },
    {
      "cell_type": "code",
      "execution_count": 140,
      "id": "f0ae84fa",
      "metadata": {
        "id": "f0ae84fa"
      },
      "outputs": [],
      "source": [
        "def convert_data_to_examples(data, DATA_COLUMN, LABEL_COLUMN): \n",
        "    examples = data.apply(lambda x: InputExample(guid=None, # Globally unique ID for bookkeeping, unused in this case\n",
        "                                                 text_a = x[DATA_COLUMN], \n",
        "                                                 text_b = None,\n",
        "                                                 label = x[LABEL_COLUMN]\n",
        "                                                ),\n",
        "                          axis = 1\n",
        "                         )\n",
        "  \n",
        "    return examples\n",
        "\n",
        "\n",
        "  \n",
        "def convert_examples_to_tf_dataset(examples, tokenizer, max_length=128):\n",
        "    features = [] # -> will hold InputFeatures to be converted later\n",
        "\n",
        "    for e in examples:\n",
        "        # Documentation is really strong for this method, so please take a look at it\n",
        "        input_dict = tokenizer.encode_plus(e.text_a,\n",
        "                                           add_special_tokens=True,\n",
        "                                           max_length=max_length, # truncates if len(s) > max_length\n",
        "                                           return_token_type_ids=True,\n",
        "                                           return_attention_mask=True,\n",
        "                                           pad_to_max_length=True, # pads to the right by default # CHECK THIS for pad_to_max_length\n",
        "                                           truncation=True\n",
        "                                          )\n",
        "\n",
        "        input_ids = input_dict[\"input_ids\"]\n",
        "        token_type_ids = input_dict[\"token_type_ids\"] \n",
        "        attention_mask = input_dict['attention_mask']\n",
        "\n",
        "        features.append(InputFeatures(input_ids=input_ids,\n",
        "                                      attention_mask=attention_mask,\n",
        "                                      token_type_ids=token_type_ids,\n",
        "                                      label=e.label\n",
        "                                     )\n",
        "                       )\n",
        "\n",
        "    def gen():\n",
        "        for f in features:\n",
        "            yield ({\"input_ids\": f.input_ids,\n",
        "                    \"attention_mask\": f.attention_mask,\n",
        "                    \"token_type_ids\": f.token_type_ids,\n",
        "                   },\n",
        "                   f.label,\n",
        "                  )\n",
        "\n",
        "    return tf.data.Dataset.from_generator(gen,\n",
        "                                          ({\"input_ids\": tf.int32,\n",
        "                                            \"attention_mask\": tf.int32,\n",
        "                                            \"token_type_ids\": tf.int32\n",
        "                                           },\n",
        "                                           tf.int64\n",
        "                                          ),\n",
        "                                          ({\"input_ids\": tf.TensorShape([None]),\n",
        "                                            \"attention_mask\": tf.TensorShape([None]),\n",
        "                                            \"token_type_ids\": tf.TensorShape([None]),\n",
        "                                           },\n",
        "                                           tf.TensorShape([]),\n",
        "                                          ),\n",
        "                                         )\n",
        "\n",
        "\n"
      ]
    },
    {
      "cell_type": "code",
      "execution_count": 142,
      "id": "dbcb02e2",
      "metadata": {
        "id": "dbcb02e2"
      },
      "outputs": [],
      "source": [
        "DATA_COLUMN = 'reviewProcessed'\n",
        "LABEL_COLUMN = 'useful'\n",
        "\n",
        "\n",
        "train_InputExamples = convert_data_to_examples(train, DATA_COLUMN, LABEL_COLUMN)\n",
        "dev_InputExamples = convert_data_to_examples(dev, DATA_COLUMN, LABEL_COLUMN)\n",
        "test_InputExamples = convert_data_to_examples(test, DATA_COLUMN, LABEL_COLUMN)\n",
        "\n",
        "train_data = convert_examples_to_tf_dataset(list(train_InputExamples), bert_tokenizer)\n",
        "train_data = train_data.shuffle(100).batch(32).repeat(2)\n",
        "\n",
        "dev_data = convert_examples_to_tf_dataset(list(dev_InputExamples), bert_tokenizer)\n",
        "dev_data = dev_data.batch(32)\n",
        "\n",
        "test_data = convert_examples_to_tf_dataset(list(test_InputExamples), bert_tokenizer)\n",
        "test_data = test_data.batch(32)"
      ]
    },
    {
      "cell_type": "code",
      "execution_count": 178,
      "id": "24fef016",
      "metadata": {
        "id": "24fef016"
      },
      "outputs": [],
      "source": [
        "# Reset certain hyperparameters\n",
        "bert_opt = tf.keras.optimizers.Adam(learning_rate=3e-5, epsilon=1e-08, clipnorm=1.0)\n",
        "bert_loss = tf.keras.losses.SparseCategoricalCrossentropy(from_logits=True)\n",
        "bert_metrics = [tf.keras.metrics.SparseCategoricalAccuracy('accuracy')]"
      ]
    },
    {
      "cell_type": "code",
      "execution_count": 179,
      "id": "3c6a678b",
      "metadata": {
        "colab": {
          "base_uri": "https://localhost:8080/"
        },
        "id": "3c6a678b",
        "outputId": "4ad801b4-b09f-4f15-b004-27c6de27cb4e"
      },
      "outputs": [
        {
          "output_type": "stream",
          "name": "stdout",
          "text": [
            "Model: \"tf_bert_for_sequence_classification_1\"\n",
            "_________________________________________________________________\n",
            " Layer (type)                Output Shape              Param #   \n",
            "=================================================================\n",
            " bert (TFBertMainLayer)      multiple                  109482240 \n",
            "                                                                 \n",
            " dropout_75 (Dropout)        multiple                  0         \n",
            "                                                                 \n",
            " classifier (Dense)          multiple                  1538      \n",
            "                                                                 \n",
            "=================================================================\n",
            "Total params: 109,483,778\n",
            "Trainable params: 109,483,778\n",
            "Non-trainable params: 0\n",
            "_________________________________________________________________\n"
          ]
        }
      ],
      "source": [
        "# Build model\n",
        "bert_model.compile(optimizer=bert_opt, \n",
        "                   loss=bert_loss, \n",
        "                   metrics=bert_metrics\n",
        "                  )\n",
        "bert_model.summary()"
      ]
    },
    {
      "cell_type": "code",
      "execution_count": 180,
      "id": "NNv0TS7YzwRr",
      "metadata": {
        "colab": {
          "base_uri": "https://localhost:8080/"
        },
        "id": "NNv0TS7YzwRr",
        "outputId": "b1f03101-6e4c-4365-a5e6-2c1c336ae8aa"
      },
      "outputs": [
        {
          "output_type": "stream",
          "name": "stdout",
          "text": [
            "Epoch 1/2\n",
            "210/210 [==============================] - 197s 848ms/step - loss: 0.7058 - accuracy: 0.5121 - val_loss: 0.6916 - val_accuracy: 0.5282\n",
            "Epoch 2/2\n",
            "210/210 [==============================] - 176s 836ms/step - loss: 0.7028 - accuracy: 0.5179 - val_loss: 0.6919 - val_accuracy: 0.5282\n",
            "CPU times: user 3min 19s, sys: 1min 18s, total: 4min 37s\n",
            "Wall time: 6min 38s\n"
          ]
        },
        {
          "output_type": "execute_result",
          "data": {
            "text/plain": [
              "<keras.callbacks.History at 0x7f7e14eb8490>"
            ]
          },
          "metadata": {},
          "execution_count": 180
        }
      ],
      "source": [
        "%%time\n",
        "# Fit model\n",
        "bert_model.fit(train_data, validation_data=dev_data, epochs=2)\n",
        "# bert_model.fit(X_train, y_train, epochs=2)"
      ]
    },
    {
      "cell_type": "code",
      "execution_count": null,
      "id": "Ayf9rrWgiBMX",
      "metadata": {
        "id": "Ayf9rrWgiBMX"
      },
      "outputs": [],
      "source": [
        "# Evaluate model\n",
        "bert_model.evaluate(test_data)"
      ]
    },
    {
      "cell_type": "code",
      "execution_count": null,
      "id": "317d80f2",
      "metadata": {
        "id": "317d80f2"
      },
      "outputs": [],
      "source": [
        "test_data"
      ]
    },
    {
      "cell_type": "code",
      "execution_count": null,
      "id": "bXj_iR6Aibtl",
      "metadata": {
        "id": "bXj_iR6Aibtl"
      },
      "outputs": [],
      "source": [
        "# Plot confusion matrix\n",
        "y_true = test_data\n",
        "y_pred = (bert_model.predict(X_test) >= 0.5).astype(\"int32\")\n",
        "\n",
        "ConfusionMatrixDisplay.from_predictions(y_true,\n",
        "                                        y_pred,\n",
        "                                        normalize='all',\n",
        "                                        display_labels=sentiment\n",
        "                                       )\n",
        "\n",
        "plt.title(\"Confusion Matrix of Review Usefulness\")\n",
        "plt.show()"
      ]
    },
    {
      "cell_type": "code",
      "execution_count": null,
      "id": "bfkqUe4VilvP",
      "metadata": {
        "id": "bfkqUe4VilvP"
      },
      "outputs": [],
      "source": [
        "print(classification_report(y_true, y_pred))"
      ]
    },
    {
      "cell_type": "code",
      "execution_count": null,
      "id": "x1E-9yN20BRY",
      "metadata": {
        "id": "x1E-9yN20BRY"
      },
      "outputs": [],
      "source": [
        "# test_sentence = \"Golf tips magazine is one of the most aptly titled magazines available today. \\\n",
        "#                  It is chock full of heavily-illustrated exercises and other tips for serious golfers to improve their games.\\\n",
        "#                  \\nThere are a number of golf magazines on the newstand today. Most of them rely on a lifestyle format relying \\\n",
        "#                  more heavily on lifestyle-type stories about today's hot golfers and the courses they play. Most of them include \\\n",
        "#                  a brief game tip or two but seem aimed at the casual duffer.\\nGolf Tips, on the other hand, features almost nothing \\\n",
        "#                  but heavily illustrated tips on improving one's swing, eliminating mistakes and putting better. It also is heavily \\\n",
        "#                  loaded with features on the latest equipment technology. Each issue also seems to feature an article on the technical \\\n",
        "#                  aspects of a selected major golf course. The articles are written with terminology that serious golfers will understand \\\n",
        "#                  but that may confuse the weekend player. Judging by the amount of advertising in its early issues, this magazine also \\\n",
        "#                  appears to be financially healthy.\\nIf a reader wants to read about the PGA Tour's superstars, this magazine is not for \\\n",
        "#                  him/her. But if s/he plans to be one of those superstars, Golf Tips is a good match.\"\n",
        "\n",
        "test_sentence = \"The information is interesting and fun, the writing is superb, and the writers and editors have a great sense of humor. \\\n",
        "                 I just wish it came out more often!\"\n",
        "\n",
        "predict_input = bert_tokenizer.encode(test_sentence,\n",
        "                                      truncation=True,\n",
        "                                      padding=True,\n",
        "                                      return_tensors=\"tf\"\n",
        "                                     )\n",
        "tf_output = bert_model.predict(predict_input)[0]\n",
        "tf_prediction = tf.nn.softmax(tf_output, axis=1)\n",
        "label = tf.argmax(tf_prediction, axis=1)\n",
        "label = label.numpy()\n",
        "print(sentiment[label[0]])"
      ]
    },
    {
      "cell_type": "markdown",
      "source": [
        "### X.X Tensorflow BERT demo\n",
        "[BERT expert wiki_books/sst2](https://tfhub.dev/google/experts/bert/wiki_books/sst2/2)"
      ],
      "metadata": {
        "id": "sPJ5kEGtWFXf"
      },
      "id": "sPJ5kEGtWFXf"
    },
    {
      "cell_type": "code",
      "source": [
        "!pip install --quiet tensorflow_text"
      ],
      "metadata": {
        "id": "ctjMFc0Q1Opq"
      },
      "id": "ctjMFc0Q1Opq",
      "execution_count": 183,
      "outputs": []
    },
    {
      "cell_type": "code",
      "source": [
        "import tensorflow as tf\n",
        "import tensorflow_hub as hub\n",
        "import tensorflow_text as text  # Imports TF ops for preprocessing.\n",
        "\n",
        "# Define some sentences to feed into the model\n",
        "sentences = [\n",
        "  \"Here We Go Then, You And I is a 1999 album by Norwegian pop artist Morten Abel. It was Abel's second CD as a solo artist.\",\n",
        "  \"The album went straight to number one on the Norwegian album chart, and sold to double platinum.\",\n",
        "  \"Ceylon spinach is a common name for several plants and may refer to: Basella alba Talinum fruticosum\",\n",
        "  \"A solar eclipse occurs when the Moon passes between Earth and the Sun, thereby totally or partly obscuring the image of the Sun for a viewer on Earth.\",\n",
        "  \"A partial solar eclipse occurs in the polar regions of the Earth when the center of the Moon's shadow misses the Earth.\",\n",
        "]\n",
        "\n",
        "# Load the BERT encoder and preprocessing models\n",
        "preprocess = hub.load('https://tfhub.dev/tensorflow/bert_en_uncased_preprocess/3')\n",
        "bert = hub.load('https://tfhub.dev/google/experts/bert/wiki_books/sst2/2')\n",
        "\n",
        "# Convert the sentences to bert inputs\n",
        "bert_inputs = preprocess(sentences)\n",
        "\n",
        "# Feed the inputs to the model to get the pooled and sequence outputs\n",
        "bert_outputs = bert(bert_inputs, training=False)\n",
        "pooled_output = bert_outputs['pooled_output']\n",
        "sequence_output = bert_outputs['sequence_output']\n",
        "\n",
        "print('\\nSentences:')\n",
        "print(sentences)\n",
        "print('\\nPooled output:')\n",
        "print(pooled_output)\n",
        "print('\\nSequence output:')\n",
        "print(sequence_output)"
      ],
      "metadata": {
        "id": "ydDS5up81Jvj"
      },
      "id": "ydDS5up81Jvj",
      "execution_count": 13,
      "outputs": []
    },
    {
      "cell_type": "markdown",
      "source": [
        "## X.X Tensflow BERT Demo II\n",
        "\n",
        "[TF BERT Tutorial](https://www.tensorflow.org/text/tutorials/classify_text_with_bert)"
      ],
      "metadata": {
        "id": "SDpfcjw9WM0o"
      },
      "id": "SDpfcjw9WM0o"
    },
    {
      "cell_type": "code",
      "source": [
        "# A dependency of the preprocessing for BERT inputs\n",
        "!pip install -q -U \"tensorflow-text==2.8.*\""
      ],
      "metadata": {
        "id": "S8MuwEYFWcLm",
        "outputId": "763f7012-3fd9-463b-b5a6-41ad0290c3e2",
        "colab": {
          "base_uri": "https://localhost:8080/"
        }
      },
      "id": "S8MuwEYFWcLm",
      "execution_count": 15,
      "outputs": [
        {
          "output_type": "stream",
          "name": "stdout",
          "text": [
            "\u001b[K     |████████████████████████████████| 4.9 MB 5.7 MB/s \n",
            "\u001b[K     |████████████████████████████████| 462 kB 46.4 MB/s \n",
            "\u001b[?25h"
          ]
        }
      ]
    },
    {
      "cell_type": "code",
      "source": [
        "!pip install -q tf-models-official==2.7.0"
      ],
      "metadata": {
        "id": "ft7RxvllWpHl",
        "outputId": "451d5260-2b86-4d0d-aeec-c2fb4497f628",
        "colab": {
          "base_uri": "https://localhost:8080/"
        }
      },
      "id": "ft7RxvllWpHl",
      "execution_count": 16,
      "outputs": [
        {
          "output_type": "stream",
          "name": "stdout",
          "text": [
            "\u001b[K     |████████████████████████████████| 1.8 MB 4.8 MB/s \n",
            "\u001b[K     |████████████████████████████████| 99 kB 5.5 MB/s \n",
            "\u001b[K     |████████████████████████████████| 43 kB 1.4 MB/s \n",
            "\u001b[K     |████████████████████████████████| 237 kB 31.4 MB/s \n",
            "\u001b[K     |████████████████████████████████| 90 kB 5.5 MB/s \n",
            "\u001b[K     |████████████████████████████████| 352 kB 33.4 MB/s \n",
            "\u001b[K     |████████████████████████████████| 1.2 MB 22.9 MB/s \n",
            "\u001b[K     |████████████████████████████████| 1.1 MB 34.0 MB/s \n",
            "\u001b[K     |████████████████████████████████| 47.8 MB 74 kB/s \n",
            "\u001b[?25h  Building wheel for py-cpuinfo (setup.py) ... \u001b[?25l\u001b[?25hdone\n",
            "  Building wheel for seqeval (setup.py) ... \u001b[?25l\u001b[?25hdone\n"
          ]
        }
      ]
    },
    {
      "cell_type": "code",
      "source": [
        "import os\n",
        "import shutil\n",
        "\n",
        "import tensorflow as tf\n",
        "import tensorflow_hub as hub\n",
        "import tensorflow_text as text\n",
        "from official.nlp import optimization  # to create AdamW optimizer\n",
        "\n",
        "import matplotlib.pyplot as plt\n",
        "\n",
        "tf.get_logger().setLevel('ERROR')"
      ],
      "metadata": {
        "id": "RhdsKdekWpx0"
      },
      "id": "RhdsKdekWpx0",
      "execution_count": 17,
      "outputs": []
    },
    {
      "cell_type": "code",
      "source": [
        "url = 'https://ai.stanford.edu/~amaas/data/sentiment/aclImdb_v1.tar.gz'\n",
        "\n",
        "dataset = tf.keras.utils.get_file('aclImdb_v1.tar.gz', url,\n",
        "                                  untar=True, cache_dir='.',\n",
        "                                  cache_subdir='')\n",
        "\n",
        "dataset_dir = os.path.join(os.path.dirname(dataset), 'aclImdb')\n",
        "\n",
        "train_dir = os.path.join(dataset_dir, 'train')\n",
        "\n",
        "# remove unused folders to make it easier to load the data\n",
        "remove_dir = os.path.join(train_dir, 'unsup')\n",
        "shutil.rmtree(remove_dir)"
      ],
      "metadata": {
        "id": "pqlZbGlgXF4G",
        "outputId": "1f585ea7-c0e4-4371-dc3a-9b1b15e593fe",
        "colab": {
          "base_uri": "https://localhost:8080/"
        }
      },
      "id": "pqlZbGlgXF4G",
      "execution_count": 19,
      "outputs": [
        {
          "output_type": "stream",
          "name": "stdout",
          "text": [
            "Downloading data from https://ai.stanford.edu/~amaas/data/sentiment/aclImdb_v1.tar.gz\n",
            "84131840/84125825 [==============================] - 4s 0us/step\n",
            "84140032/84125825 [==============================] - 4s 0us/step\n"
          ]
        }
      ]
    },
    {
      "cell_type": "code",
      "source": [
        "AUTOTUNE = tf.data.AUTOTUNE\n",
        "batch_size = 32\n",
        "seed = 42\n",
        "\n",
        "raw_train_ds = tf.keras.utils.text_dataset_from_directory(\n",
        "    'aclImdb/train',\n",
        "    batch_size=batch_size,\n",
        "    validation_split=0.2,\n",
        "    subset='training',\n",
        "    seed=seed)\n",
        "\n",
        "class_names = raw_train_ds.class_names\n",
        "train_ds = raw_train_ds.cache().prefetch(buffer_size=AUTOTUNE)\n",
        "\n",
        "val_ds = tf.keras.utils.text_dataset_from_directory(\n",
        "    'aclImdb/train',\n",
        "    batch_size=batch_size,\n",
        "    validation_split=0.2,\n",
        "    subset='validation',\n",
        "    seed=seed)\n",
        "\n",
        "val_ds = val_ds.cache().prefetch(buffer_size=AUTOTUNE)\n",
        "\n",
        "test_ds = tf.keras.utils.text_dataset_from_directory(\n",
        "    'aclImdb/test',\n",
        "    batch_size=batch_size)\n",
        "\n",
        "test_ds = test_ds.cache().prefetch(buffer_size=AUTOTUNE)"
      ],
      "metadata": {
        "id": "3_a2ZM1sWqBb",
        "outputId": "65444acd-8a58-4f83-ca25-2dd8fb9a2f25",
        "colab": {
          "base_uri": "https://localhost:8080/"
        }
      },
      "id": "3_a2ZM1sWqBb",
      "execution_count": 20,
      "outputs": [
        {
          "output_type": "stream",
          "name": "stdout",
          "text": [
            "Found 25000 files belonging to 2 classes.\n",
            "Using 20000 files for training.\n",
            "Found 25000 files belonging to 2 classes.\n",
            "Using 5000 files for validation.\n",
            "Found 25000 files belonging to 2 classes.\n"
          ]
        }
      ]
    },
    {
      "cell_type": "code",
      "source": [
        "for text_batch, label_batch in train_ds.take(1):\n",
        "  for i in range(3):\n",
        "    print(f'Review: {text_batch.numpy()[i]}')\n",
        "    label = label_batch.numpy()[i]\n",
        "    print(f'Label : {label} ({class_names[label]})')"
      ],
      "metadata": {
        "id": "zaOv8eqZWqTM",
        "outputId": "62a673d7-ffc6-422f-d345-7ef7161ed60b",
        "colab": {
          "base_uri": "https://localhost:8080/"
        }
      },
      "id": "zaOv8eqZWqTM",
      "execution_count": 21,
      "outputs": [
        {
          "output_type": "stream",
          "name": "stdout",
          "text": [
            "Review: b'\"Pandemonium\" is a horror movie spoof that comes off more stupid than funny. Believe me when I tell you, I love comedies. Especially comedy spoofs. \"Airplane\", \"The Naked Gun\" trilogy, \"Blazing Saddles\", \"High Anxiety\", and \"Spaceballs\" are some of my favorite comedies that spoof a particular genre. \"Pandemonium\" is not up there with those films. Most of the scenes in this movie had me sitting there in stunned silence because the movie wasn\\'t all that funny. There are a few laughs in the film, but when you watch a comedy, you expect to laugh a lot more than a few times and that\\'s all this film has going for it. Geez, \"Scream\" had more laughs than this film and that was more of a horror film. How bizarre is that?<br /><br />*1/2 (out of four)'\n",
            "Label : 0 (neg)\n",
            "Review: b\"David Mamet is a very interesting and a very un-equal director. His first movie 'House of Games' was the one I liked best, and it set a series of films with characters whose perspective of life changes as they get into complicated situations, and so does the perspective of the viewer.<br /><br />So is 'Homicide' which from the title tries to set the mind of the viewer to the usual crime drama. The principal characters are two cops, one Jewish and one Irish who deal with a racially charged area. The murder of an old Jewish shop owner who proves to be an ancient veteran of the Israeli Independence war triggers the Jewish identity in the mind and heart of the Jewish detective.<br /><br />This is were the flaws of the film are the more obvious. The process of awakening is theatrical and hard to believe, the group of Jewish militants is operatic, and the way the detective eventually walks to the final violent confrontation is pathetic. The end of the film itself is Mamet-like smart, but disappoints from a human emotional perspective.<br /><br />Joe Mantegna and William Macy give strong performances, but the flaws of the story are too evident to be easily compensated.\"\n",
            "Label : 0 (neg)\n",
            "Review: b'Great documentary about the lives of NY firefighters during the worst terrorist attack of all time.. That reason alone is why this should be a must see collectors item.. What shocked me was not only the attacks, but the\"High Fat Diet\" and physical appearance of some of these firefighters. I think a lot of Doctors would agree with me that,in the physical shape they were in, some of these firefighters would NOT of made it to the 79th floor carrying over 60 lbs of gear. Having said that i now have a greater respect for firefighters and i realize becoming a firefighter is a life altering job. The French have a history of making great documentary\\'s and that is what this is, a Great Documentary.....'\n",
            "Label : 1 (pos)\n"
          ]
        }
      ]
    },
    {
      "cell_type": "code",
      "source": [
        "bert_model_name = 'small_bert/bert_en_uncased_L-4_H-512_A-8' \n",
        "\n",
        "map_name_to_handle = {\n",
        "    'bert_en_uncased_L-12_H-768_A-12':\n",
        "        'https://tfhub.dev/tensorflow/bert_en_uncased_L-12_H-768_A-12/3',\n",
        "    'bert_en_cased_L-12_H-768_A-12':\n",
        "        'https://tfhub.dev/tensorflow/bert_en_cased_L-12_H-768_A-12/3',\n",
        "    'bert_multi_cased_L-12_H-768_A-12':\n",
        "        'https://tfhub.dev/tensorflow/bert_multi_cased_L-12_H-768_A-12/3',\n",
        "    'small_bert/bert_en_uncased_L-2_H-128_A-2':\n",
        "        'https://tfhub.dev/tensorflow/small_bert/bert_en_uncased_L-2_H-128_A-2/1',\n",
        "    'small_bert/bert_en_uncased_L-2_H-256_A-4':\n",
        "        'https://tfhub.dev/tensorflow/small_bert/bert_en_uncased_L-2_H-256_A-4/1',\n",
        "    'small_bert/bert_en_uncased_L-2_H-512_A-8':\n",
        "        'https://tfhub.dev/tensorflow/small_bert/bert_en_uncased_L-2_H-512_A-8/1',\n",
        "    'small_bert/bert_en_uncased_L-2_H-768_A-12':\n",
        "        'https://tfhub.dev/tensorflow/small_bert/bert_en_uncased_L-2_H-768_A-12/1',\n",
        "    'small_bert/bert_en_uncased_L-4_H-128_A-2':\n",
        "        'https://tfhub.dev/tensorflow/small_bert/bert_en_uncased_L-4_H-128_A-2/1',\n",
        "    'small_bert/bert_en_uncased_L-4_H-256_A-4':\n",
        "        'https://tfhub.dev/tensorflow/small_bert/bert_en_uncased_L-4_H-256_A-4/1',\n",
        "    'small_bert/bert_en_uncased_L-4_H-512_A-8':\n",
        "        'https://tfhub.dev/tensorflow/small_bert/bert_en_uncased_L-4_H-512_A-8/1',\n",
        "    'small_bert/bert_en_uncased_L-4_H-768_A-12':\n",
        "        'https://tfhub.dev/tensorflow/small_bert/bert_en_uncased_L-4_H-768_A-12/1',\n",
        "    'small_bert/bert_en_uncased_L-6_H-128_A-2':\n",
        "        'https://tfhub.dev/tensorflow/small_bert/bert_en_uncased_L-6_H-128_A-2/1',\n",
        "    'small_bert/bert_en_uncased_L-6_H-256_A-4':\n",
        "        'https://tfhub.dev/tensorflow/small_bert/bert_en_uncased_L-6_H-256_A-4/1',\n",
        "    'small_bert/bert_en_uncased_L-6_H-512_A-8':\n",
        "        'https://tfhub.dev/tensorflow/small_bert/bert_en_uncased_L-6_H-512_A-8/1',\n",
        "    'small_bert/bert_en_uncased_L-6_H-768_A-12':\n",
        "        'https://tfhub.dev/tensorflow/small_bert/bert_en_uncased_L-6_H-768_A-12/1',\n",
        "    'small_bert/bert_en_uncased_L-8_H-128_A-2':\n",
        "        'https://tfhub.dev/tensorflow/small_bert/bert_en_uncased_L-8_H-128_A-2/1',\n",
        "    'small_bert/bert_en_uncased_L-8_H-256_A-4':\n",
        "        'https://tfhub.dev/tensorflow/small_bert/bert_en_uncased_L-8_H-256_A-4/1',\n",
        "    'small_bert/bert_en_uncased_L-8_H-512_A-8':\n",
        "        'https://tfhub.dev/tensorflow/small_bert/bert_en_uncased_L-8_H-512_A-8/1',\n",
        "    'small_bert/bert_en_uncased_L-8_H-768_A-12':\n",
        "        'https://tfhub.dev/tensorflow/small_bert/bert_en_uncased_L-8_H-768_A-12/1',\n",
        "    'small_bert/bert_en_uncased_L-10_H-128_A-2':\n",
        "        'https://tfhub.dev/tensorflow/small_bert/bert_en_uncased_L-10_H-128_A-2/1',\n",
        "    'small_bert/bert_en_uncased_L-10_H-256_A-4':\n",
        "        'https://tfhub.dev/tensorflow/small_bert/bert_en_uncased_L-10_H-256_A-4/1',\n",
        "    'small_bert/bert_en_uncased_L-10_H-512_A-8':\n",
        "        'https://tfhub.dev/tensorflow/small_bert/bert_en_uncased_L-10_H-512_A-8/1',\n",
        "    'small_bert/bert_en_uncased_L-10_H-768_A-12':\n",
        "        'https://tfhub.dev/tensorflow/small_bert/bert_en_uncased_L-10_H-768_A-12/1',\n",
        "    'small_bert/bert_en_uncased_L-12_H-128_A-2':\n",
        "        'https://tfhub.dev/tensorflow/small_bert/bert_en_uncased_L-12_H-128_A-2/1',\n",
        "    'small_bert/bert_en_uncased_L-12_H-256_A-4':\n",
        "        'https://tfhub.dev/tensorflow/small_bert/bert_en_uncased_L-12_H-256_A-4/1',\n",
        "    'small_bert/bert_en_uncased_L-12_H-512_A-8':\n",
        "        'https://tfhub.dev/tensorflow/small_bert/bert_en_uncased_L-12_H-512_A-8/1',\n",
        "    'small_bert/bert_en_uncased_L-12_H-768_A-12':\n",
        "        'https://tfhub.dev/tensorflow/small_bert/bert_en_uncased_L-12_H-768_A-12/1',\n",
        "    'albert_en_base':\n",
        "        'https://tfhub.dev/tensorflow/albert_en_base/2',\n",
        "    'electra_small':\n",
        "        'https://tfhub.dev/google/electra_small/2',\n",
        "    'electra_base':\n",
        "        'https://tfhub.dev/google/electra_base/2',\n",
        "    'experts_pubmed':\n",
        "        'https://tfhub.dev/google/experts/bert/pubmed/2',\n",
        "    'experts_wiki_books':\n",
        "        'https://tfhub.dev/google/experts/bert/wiki_books/2',\n",
        "    'talking-heads_base':\n",
        "        'https://tfhub.dev/tensorflow/talkheads_ggelu_bert_en_base/1',\n",
        "}\n",
        "\n",
        "map_model_to_preprocess = {\n",
        "    'bert_en_uncased_L-12_H-768_A-12':\n",
        "        'https://tfhub.dev/tensorflow/bert_en_uncased_preprocess/3',\n",
        "    'bert_en_cased_L-12_H-768_A-12':\n",
        "        'https://tfhub.dev/tensorflow/bert_en_cased_preprocess/3',\n",
        "    'small_bert/bert_en_uncased_L-2_H-128_A-2':\n",
        "        'https://tfhub.dev/tensorflow/bert_en_uncased_preprocess/3',\n",
        "    'small_bert/bert_en_uncased_L-2_H-256_A-4':\n",
        "        'https://tfhub.dev/tensorflow/bert_en_uncased_preprocess/3',\n",
        "    'small_bert/bert_en_uncased_L-2_H-512_A-8':\n",
        "        'https://tfhub.dev/tensorflow/bert_en_uncased_preprocess/3',\n",
        "    'small_bert/bert_en_uncased_L-2_H-768_A-12':\n",
        "        'https://tfhub.dev/tensorflow/bert_en_uncased_preprocess/3',\n",
        "    'small_bert/bert_en_uncased_L-4_H-128_A-2':\n",
        "        'https://tfhub.dev/tensorflow/bert_en_uncased_preprocess/3',\n",
        "    'small_bert/bert_en_uncased_L-4_H-256_A-4':\n",
        "        'https://tfhub.dev/tensorflow/bert_en_uncased_preprocess/3',\n",
        "    'small_bert/bert_en_uncased_L-4_H-512_A-8':\n",
        "        'https://tfhub.dev/tensorflow/bert_en_uncased_preprocess/3',\n",
        "    'small_bert/bert_en_uncased_L-4_H-768_A-12':\n",
        "        'https://tfhub.dev/tensorflow/bert_en_uncased_preprocess/3',\n",
        "    'small_bert/bert_en_uncased_L-6_H-128_A-2':\n",
        "        'https://tfhub.dev/tensorflow/bert_en_uncased_preprocess/3',\n",
        "    'small_bert/bert_en_uncased_L-6_H-256_A-4':\n",
        "        'https://tfhub.dev/tensorflow/bert_en_uncased_preprocess/3',\n",
        "    'small_bert/bert_en_uncased_L-6_H-512_A-8':\n",
        "        'https://tfhub.dev/tensorflow/bert_en_uncased_preprocess/3',\n",
        "    'small_bert/bert_en_uncased_L-6_H-768_A-12':\n",
        "        'https://tfhub.dev/tensorflow/bert_en_uncased_preprocess/3',\n",
        "    'small_bert/bert_en_uncased_L-8_H-128_A-2':\n",
        "        'https://tfhub.dev/tensorflow/bert_en_uncased_preprocess/3',\n",
        "    'small_bert/bert_en_uncased_L-8_H-256_A-4':\n",
        "        'https://tfhub.dev/tensorflow/bert_en_uncased_preprocess/3',\n",
        "    'small_bert/bert_en_uncased_L-8_H-512_A-8':\n",
        "        'https://tfhub.dev/tensorflow/bert_en_uncased_preprocess/3',\n",
        "    'small_bert/bert_en_uncased_L-8_H-768_A-12':\n",
        "        'https://tfhub.dev/tensorflow/bert_en_uncased_preprocess/3',\n",
        "    'small_bert/bert_en_uncased_L-10_H-128_A-2':\n",
        "        'https://tfhub.dev/tensorflow/bert_en_uncased_preprocess/3',\n",
        "    'small_bert/bert_en_uncased_L-10_H-256_A-4':\n",
        "        'https://tfhub.dev/tensorflow/bert_en_uncased_preprocess/3',\n",
        "    'small_bert/bert_en_uncased_L-10_H-512_A-8':\n",
        "        'https://tfhub.dev/tensorflow/bert_en_uncased_preprocess/3',\n",
        "    'small_bert/bert_en_uncased_L-10_H-768_A-12':\n",
        "        'https://tfhub.dev/tensorflow/bert_en_uncased_preprocess/3',\n",
        "    'small_bert/bert_en_uncased_L-12_H-128_A-2':\n",
        "        'https://tfhub.dev/tensorflow/bert_en_uncased_preprocess/3',\n",
        "    'small_bert/bert_en_uncased_L-12_H-256_A-4':\n",
        "        'https://tfhub.dev/tensorflow/bert_en_uncased_preprocess/3',\n",
        "    'small_bert/bert_en_uncased_L-12_H-512_A-8':\n",
        "        'https://tfhub.dev/tensorflow/bert_en_uncased_preprocess/3',\n",
        "    'small_bert/bert_en_uncased_L-12_H-768_A-12':\n",
        "        'https://tfhub.dev/tensorflow/bert_en_uncased_preprocess/3',\n",
        "    'bert_multi_cased_L-12_H-768_A-12':\n",
        "        'https://tfhub.dev/tensorflow/bert_multi_cased_preprocess/3',\n",
        "    'albert_en_base':\n",
        "        'https://tfhub.dev/tensorflow/albert_en_preprocess/3',\n",
        "    'electra_small':\n",
        "        'https://tfhub.dev/tensorflow/bert_en_uncased_preprocess/3',\n",
        "    'electra_base':\n",
        "        'https://tfhub.dev/tensorflow/bert_en_uncased_preprocess/3',\n",
        "    'experts_pubmed':\n",
        "        'https://tfhub.dev/tensorflow/bert_en_uncased_preprocess/3',\n",
        "    'experts_wiki_books':\n",
        "        'https://tfhub.dev/tensorflow/bert_en_uncased_preprocess/3',\n",
        "    'talking-heads_base':\n",
        "        'https://tfhub.dev/tensorflow/bert_en_uncased_preprocess/3',\n",
        "}\n",
        "\n",
        "tfhub_handle_encoder = map_name_to_handle[bert_model_name]\n",
        "tfhub_handle_preprocess = map_model_to_preprocess[bert_model_name]\n",
        "\n",
        "print(f'BERT model selected           : {tfhub_handle_encoder}')\n",
        "print(f'Preprocess model auto-selected: {tfhub_handle_preprocess}')"
      ],
      "metadata": {
        "id": "a0cZlq4jXwL1",
        "outputId": "e59f1272-5464-40d4-beef-cf5f5b8a846a",
        "colab": {
          "base_uri": "https://localhost:8080/"
        }
      },
      "id": "a0cZlq4jXwL1",
      "execution_count": 23,
      "outputs": [
        {
          "output_type": "stream",
          "name": "stdout",
          "text": [
            "BERT model selected           : https://tfhub.dev/tensorflow/small_bert/bert_en_uncased_L-4_H-512_A-8/1\n",
            "Preprocess model auto-selected: https://tfhub.dev/tensorflow/bert_en_uncased_preprocess/3\n"
          ]
        }
      ]
    },
    {
      "cell_type": "code",
      "source": [
        "bert_preprocess_model = hub.KerasLayer(tfhub_handle_preprocess)"
      ],
      "metadata": {
        "id": "bhObgkLSWqhc"
      },
      "id": "bhObgkLSWqhc",
      "execution_count": 24,
      "outputs": []
    },
    {
      "cell_type": "code",
      "source": [
        "text_test = ['this is such an amazing movie!']\n",
        "text_preprocessed = bert_preprocess_model(text_test)\n",
        "\n",
        "print(f'Keys       : {list(text_preprocessed.keys())}')\n",
        "print(f'Shape      : {text_preprocessed[\"input_word_ids\"].shape}')\n",
        "print(f'Word Ids   : {text_preprocessed[\"input_word_ids\"][0, :12]}')\n",
        "print(f'Input Mask : {text_preprocessed[\"input_mask\"][0, :12]}')\n",
        "print(f'Type Ids   : {text_preprocessed[\"input_type_ids\"][0, :12]}')"
      ],
      "metadata": {
        "id": "LL-DLHQ2WquO",
        "outputId": "ff058618-4950-427c-d559-997eee86d7dd",
        "colab": {
          "base_uri": "https://localhost:8080/"
        }
      },
      "id": "LL-DLHQ2WquO",
      "execution_count": 25,
      "outputs": [
        {
          "output_type": "stream",
          "name": "stdout",
          "text": [
            "Keys       : ['input_type_ids', 'input_mask', 'input_word_ids']\n",
            "Shape      : (1, 128)\n",
            "Word Ids   : [ 101 2023 2003 2107 2019 6429 3185  999  102    0    0    0]\n",
            "Input Mask : [1 1 1 1 1 1 1 1 1 0 0 0]\n",
            "Type Ids   : [0 0 0 0 0 0 0 0 0 0 0 0]\n"
          ]
        }
      ]
    },
    {
      "cell_type": "code",
      "source": [
        "bert_model = hub.KerasLayer(tfhub_handle_encoder)"
      ],
      "metadata": {
        "id": "9s-XxHsUYP48"
      },
      "id": "9s-XxHsUYP48",
      "execution_count": 26,
      "outputs": []
    },
    {
      "cell_type": "code",
      "source": [
        "bert_results = bert_model(text_preprocessed)\n",
        "\n",
        "print(f'Loaded BERT: {tfhub_handle_encoder}')\n",
        "print(f'Pooled Outputs Shape:{bert_results[\"pooled_output\"].shape}')\n",
        "print(f'Pooled Outputs Values:{bert_results[\"pooled_output\"][0, :12]}')\n",
        "print(f'Sequence Outputs Shape:{bert_results[\"sequence_output\"].shape}')\n",
        "print(f'Sequence Outputs Values:{bert_results[\"sequence_output\"][0, :12]}')"
      ],
      "metadata": {
        "id": "QdI7STNyYQdI",
        "outputId": "6c541c4b-4b67-4b7e-9164-73eb35f73755",
        "colab": {
          "base_uri": "https://localhost:8080/"
        }
      },
      "id": "QdI7STNyYQdI",
      "execution_count": 27,
      "outputs": [
        {
          "output_type": "stream",
          "name": "stdout",
          "text": [
            "Loaded BERT: https://tfhub.dev/tensorflow/small_bert/bert_en_uncased_L-4_H-512_A-8/1\n",
            "Pooled Outputs Shape:(1, 512)\n",
            "Pooled Outputs Values:[ 0.7626282   0.9928099  -0.18611862  0.3667383   0.15233758  0.655044\n",
            "  0.9681154  -0.94862705  0.0021616  -0.9877732   0.06842764 -0.97630596]\n",
            "Sequence Outputs Shape:(1, 128, 512)\n",
            "Sequence Outputs Values:[[-0.28946292  0.34321183  0.33231512 ...  0.21300802  0.7102092\n",
            "  -0.05771042]\n",
            " [-0.28741995  0.31980985 -0.23018652 ...  0.5845511  -0.21329862\n",
            "   0.72692007]\n",
            " [-0.6615692   0.68876815 -0.8743301  ...  0.1087728  -0.26173076\n",
            "   0.47855455]\n",
            " ...\n",
            " [-0.22561137 -0.2892573  -0.07064426 ...  0.47566032  0.8327724\n",
            "   0.40025347]\n",
            " [-0.2982421  -0.27473164 -0.05450544 ...  0.4884972   1.0955367\n",
            "   0.18163365]\n",
            " [-0.4437818   0.00930662  0.07223704 ...  0.17290089  1.1833239\n",
            "   0.07897975]]\n"
          ]
        }
      ]
    },
    {
      "cell_type": "code",
      "source": [
        "def build_classifier_model():\n",
        "  text_input = tf.keras.layers.Input(shape=(), dtype=tf.string, name='text')\n",
        "  preprocessing_layer = hub.KerasLayer(tfhub_handle_preprocess, name='preprocessing')\n",
        "  encoder_inputs = preprocessing_layer(text_input)\n",
        "  encoder = hub.KerasLayer(tfhub_handle_encoder, trainable=True, name='BERT_encoder')\n",
        "  outputs = encoder(encoder_inputs)\n",
        "  net = outputs['pooled_output']\n",
        "  net = tf.keras.layers.Dropout(0.1)(net)\n",
        "  net = tf.keras.layers.Dense(1, activation=None, name='classifier')(net)\n",
        "  return tf.keras.Model(text_input, net)"
      ],
      "metadata": {
        "id": "h25h0E9kYQr9"
      },
      "id": "h25h0E9kYQr9",
      "execution_count": 28,
      "outputs": []
    },
    {
      "cell_type": "code",
      "source": [
        "classifier_model = build_classifier_model()\n",
        "bert_raw_result = classifier_model(tf.constant(text_test))\n",
        "print(tf.sigmoid(bert_raw_result))"
      ],
      "metadata": {
        "id": "s3k_FS8kYQ3A",
        "outputId": "6aa51376-1c11-4c88-b87c-38a1fdf753f9",
        "colab": {
          "base_uri": "https://localhost:8080/"
        }
      },
      "id": "s3k_FS8kYQ3A",
      "execution_count": 29,
      "outputs": [
        {
          "output_type": "stream",
          "name": "stdout",
          "text": [
            "tf.Tensor([[0.8382415]], shape=(1, 1), dtype=float32)\n"
          ]
        }
      ]
    },
    {
      "cell_type": "code",
      "source": [
        "tf.keras.utils.plot_model(classifier_model)"
      ],
      "metadata": {
        "id": "d-bTYyERYQ9c",
        "outputId": "422bb57a-605b-4715-ba96-8becfabce158",
        "colab": {
          "base_uri": "https://localhost:8080/",
          "height": 466
        }
      },
      "id": "d-bTYyERYQ9c",
      "execution_count": 30,
      "outputs": [
        {
          "output_type": "execute_result",
          "data": {
            "text/plain": [
              "<IPython.core.display.Image object>"
            ],
            "image/png": "[encoded data removed]"
          },
          "metadata": {},
          "execution_count": 30
        }
      ]
    },
    {
      "cell_type": "code",
      "source": [
        "loss = tf.keras.losses.BinaryCrossentropy(from_logits=True)\n",
        "metrics = tf.metrics.BinaryAccuracy()"
      ],
      "metadata": {
        "id": "rhP5HN9BYRCZ"
      },
      "id": "rhP5HN9BYRCZ",
      "execution_count": 31,
      "outputs": []
    },
    {
      "cell_type": "code",
      "source": [
        "epochs = 5\n",
        "steps_per_epoch = tf.data.experimental.cardinality(train_ds).numpy()\n",
        "num_train_steps = steps_per_epoch * epochs\n",
        "num_warmup_steps = int(0.1*num_train_steps)\n",
        "\n",
        "init_lr = 3e-5\n",
        "optimizer = optimization.create_optimizer(init_lr=init_lr,\n",
        "                                          num_train_steps=num_train_steps,\n",
        "                                          num_warmup_steps=num_warmup_steps,\n",
        "                                          optimizer_type='adamw')"
      ],
      "metadata": {
        "id": "OK7WdVPEZKqC"
      },
      "id": "OK7WdVPEZKqC",
      "execution_count": 32,
      "outputs": []
    },
    {
      "cell_type": "code",
      "source": [
        "classifier_model.compile(optimizer=optimizer,\n",
        "                         loss=loss,\n",
        "                         metrics=metrics)"
      ],
      "metadata": {
        "id": "Q0C9YxpeZK2d"
      },
      "id": "Q0C9YxpeZK2d",
      "execution_count": 33,
      "outputs": []
    },
    {
      "cell_type": "code",
      "source": [
        "print(f'Training model with {tfhub_handle_encoder}')\n",
        "history = classifier_model.fit(x=train_ds,\n",
        "                               validation_data=val_ds,\n",
        "                               epochs=epochs)"
      ],
      "metadata": {
        "id": "x95zEKIIZK6i"
      },
      "id": "x95zEKIIZK6i",
      "execution_count": 35,
      "outputs": []
    },
    {
      "cell_type": "code",
      "source": [
        ""
      ],
      "metadata": {
        "id": "VGdrC5yvZK9-"
      },
      "id": "VGdrC5yvZK9-",
      "execution_count": null,
      "outputs": []
    },
    {
      "cell_type": "code",
      "source": [
        ""
      ],
      "metadata": {
        "id": "w-hck23fZLBU"
      },
      "id": "w-hck23fZLBU",
      "execution_count": null,
      "outputs": []
    },
    {
      "cell_type": "code",
      "source": [
        ""
      ],
      "metadata": {
        "id": "N-rH4OEgZLEc"
      },
      "id": "N-rH4OEgZLEc",
      "execution_count": null,
      "outputs": []
    },
    {
      "cell_type": "code",
      "source": [
        ""
      ],
      "metadata": {
        "id": "nUwvUrKIZLHq"
      },
      "id": "nUwvUrKIZLHq",
      "execution_count": null,
      "outputs": []
    },
    {
      "cell_type": "code",
      "source": [
        ""
      ],
      "metadata": {
        "id": "eXND3-TvZLK-"
      },
      "id": "eXND3-TvZLK-",
      "execution_count": null,
      "outputs": []
    },
    {
      "cell_type": "markdown",
      "id": "23a65fd8",
      "metadata": {
        "id": "23a65fd8"
      },
      "source": [
        "### CNN setup from assignment 4"
      ]
    },
    {
      "cell_type": "code",
      "execution_count": null,
      "id": "1bcf288c",
      "metadata": {
        "id": "1bcf288c"
      },
      "outputs": [],
      "source": [
        "# Specify model hyperparameters\n",
        "epochs = 5\n",
        "embed_dim = 5\n",
        "num_filters = [2, 2, 2]\n",
        "kernel_sizes = [2, 3, 4]\n",
        "dense_layer_dims = [10, 4]\n",
        "dropout_rate = 0.7\n",
        "num_classes = len(np.unique(labels, axis=0))\n",
        "\n",
        "# Construct the convolutional neural network.\n",
        "# The form of each keras layer function is as follows:\n",
        "#    result = keras.layers.LayerType(arguments for the layer)(layer(s) it should use as input)\n",
        "# concretely,\n",
        "#    this_layer_output = keras.layers.Dense(100, activation='relu')(prev_layer_vector)\n",
        "# performs this_layer_output = relu(prev_layer_vector x W + b) where W has 100 columns.\n",
        "\n",
        "# Input is a special \"layer\".  It defines a placeholder that will be overwritten by the training data.\n",
        "# In our case, we are accepting a list of wordids (padded out to max_len).\n",
        "wordids = keras.layers.Input(shape=(max_len,))\n",
        "\n",
        "# Embed the wordids.\n",
        "# Recall, this is just a mathematically equivalent operation to a linear layer and a one-hot\n",
        "h = keras.layers.Embedding(max_words, embed_dim, input_length=max_len)(wordids)\n",
        "\n",
        "# Construct \"filters\" randomly initialized filters with dimension \"kernel_size\" for each size of filter we want.\n",
        "# With the default hyperparameters, we construct 2 filters each of size 2, 3, 4.  As in the image above, each filter\n",
        "# is wide enough to span the whole word embedding (this is why the convolution is \"1d\" as seen in the\n",
        "# function name below).\n",
        "conv_layers_for_all_kernel_sizes = []\n",
        "for kernel_size, filters in zip(kernel_sizes, num_filters):\n",
        "    conv_layer = Conv1D(filters=filters, kernel_size=kernel_size, activation='relu')(h)\n",
        "    conv_layer = GlobalMaxPooling1D()(conv_layer)\n",
        "    conv_layers_for_all_kernel_sizes.append(conv_layer)\n",
        "\n",
        "# Concat the feature maps from each different size.\n",
        "h = keras.layers.concatenate(conv_layers_for_all_kernel_sizes, axis=1)\n",
        "\n",
        "# Dropout can help with overfitting (improve generalization) by randomly 0-ing different subsets of values\n",
        "# in the vector.\n",
        "# See https://www.cs.toronto.edu/~hinton/absps/JMLRdropout.pdf for details.\n",
        "h = keras.layers.Dropout(rate=dropout_rate)(h)\n",
        "\n",
        "prediction = keras.layers.Dense(num_classes, activation='softmax')(h)\n",
        "\n",
        "model = keras.Model(inputs=wordids, outputs=prediction)\n",
        "model.compile(optimizer='adam',\n",
        "              loss='sparse_categorical_crossentropy',  # From information theory notebooks.\n",
        "              metrics=['accuracy'])        # What metric to output as we train."
      ]
    },
    {
      "cell_type": "code",
      "execution_count": null,
      "id": "6e0a135a",
      "metadata": {
        "id": "6e0a135a"
      },
      "outputs": [],
      "source": [
        "model.fit(X_train, y_train, epochs=epochs)"
      ]
    },
    {
      "cell_type": "markdown",
      "id": "6b9a5f5b",
      "metadata": {
        "id": "6b9a5f5b"
      },
      "source": [
        "## X.X Explanation transfer learning"
      ]
    },
    {
      "cell_type": "code",
      "execution_count": null,
      "id": "5b3cba98",
      "metadata": {
        "id": "5b3cba98"
      },
      "outputs": [],
      "source": [
        "# from transformers.models.t5 import T5Model\n",
        "from transformers import TFT5Model"
      ]
    },
    {
      "cell_type": "code",
      "execution_count": null,
      "id": "6f147ebe",
      "metadata": {
        "id": "6f147ebe"
      },
      "outputs": [],
      "source": [
        "model_args = {\n",
        "    \"reprocess_input_data\": True,\n",
        "    \"overwrite_output_dir\": True,\n",
        "    \"max_seq_length\": 128,\n",
        "    \"train_batch_size\": 8,\n",
        "    \"num_train_epochs\": 1,\n",
        "    \"save_eval_checkpoints\": True,\n",
        "    \"save_steps\": -1,\n",
        "    \"use_multiprocessing\": False,\n",
        "    \"evaluate_during_training\": True,\n",
        "    \"evaluate_during_training_steps\": 15000,\n",
        "    \"evaluate_during_training_verbose\": True,\n",
        "    \"fp16\": False,\n",
        "\n",
        "    \"wandb_project\": \"Question Generation with T5\",\n",
        "}\n",
        "\n",
        "model = TFT5Model.from_pretrained(\"t5-small\")"
      ]
    },
    {
      "cell_type": "markdown",
      "id": "b5b66424",
      "metadata": {
        "id": "b5b66424"
      },
      "source": [
        "### X.X Pre-trained sentiment span extraction model\n",
        "\n",
        "https://huggingface.co/mrm8488/t5-base-finetuned-span-sentiment-extraction"
      ]
    },
    {
      "cell_type": "code",
      "execution_count": null,
      "id": "4a18c4d1",
      "metadata": {
        "id": "4a18c4d1"
      },
      "outputs": [],
      "source": [
        "example = review_samples.iloc[2]['reviewText']"
      ]
    },
    {
      "cell_type": "code",
      "execution_count": null,
      "id": "084b4b25",
      "metadata": {
        "id": "084b4b25"
      },
      "outputs": [],
      "source": [
        "from transformers import AutoModelWithLMHead, AutoTokenizer\n",
        "\n",
        "tokenizer = AutoTokenizer.from_pretrained(\"mrm8488/t5-base-finetuned-span-sentiment-extraction\")\n",
        "model = AutoModelWithLMHead.from_pretrained(\"mrm8488/t5-base-finetuned-span-sentiment-extraction\")\n",
        "\n",
        "def get_sentiment_span(text):\n",
        "    input_ids = tokenizer.encode(text, return_tensors=\"pt\", add_special_tokens=True)  # Batch size 1\n",
        "\n",
        "    generated_ids = model.generate(input_ids=input_ids, num_beams=1, max_length=80).squeeze()\n",
        "\n",
        "    predicted_span = tokenizer.decode(generated_ids, skip_special_tokens=True, clean_up_tokenization_spaces=True)\n",
        "\n",
        "    return predicted_span\n",
        "  \n",
        "get_sentiment_span(\"question: negative context: My bike was put on hold...should have known that.... argh total bummer\")\n",
        "\n",
        "# output: 'argh total bummer'\n",
        "\n",
        "get_sentiment_span(\"question: positive context: On the monday, so i wont be able to be with you! i love you\")\n",
        "\n",
        "# output: 'i love you'"
      ]
    },
    {
      "cell_type": "code",
      "execution_count": null,
      "id": "9386f8ca",
      "metadata": {
        "id": "9386f8ca"
      },
      "outputs": [],
      "source": [
        "get_sentiment_span(\"question: negative context: {}\".format(example))"
      ]
    },
    {
      "cell_type": "code",
      "execution_count": null,
      "id": "19797147",
      "metadata": {
        "id": "19797147"
      },
      "outputs": [],
      "source": [
        "review_samples.iloc[2]['reviewText']"
      ]
    },
    {
      "cell_type": "code",
      "execution_count": null,
      "id": "c8c98f0d",
      "metadata": {
        "id": "c8c98f0d"
      },
      "outputs": [],
      "source": [
        ""
      ]
    }
  ],
  "metadata": {
    "accelerator": "GPU",
    "colab": {
      "name": "model-selection.ipynb",
      "provenance": []
    },
    "kernelspec": {
      "display_name": "Python 3 (ipykernel)",
      "language": "python",
      "name": "python3"
    },
    "language_info": {
      "codemirror_mode": {
        "name": "ipython",
        "version": 3
      },
      "file_extension": ".py",
      "mimetype": "text/x-python",
      "name": "python",
      "nbconvert_exporter": "python",
      "pygments_lexer": "ipython3",
      "version": "3.8.8"
    }
  },
  "nbformat": 4,
  "nbformat_minor": 5
}