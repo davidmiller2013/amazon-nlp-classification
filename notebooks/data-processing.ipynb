{
 "cells": [
  {
   "cell_type": "markdown",
   "id": "5bbf5cfd",
   "metadata": {
    "id": "5bbf5cfd"
   },
   "source": [
    "# Initial Data ETL and EDA"
   ]
  },
  {
   "cell_type": "markdown",
   "id": "148e4541",
   "metadata": {
    "id": "148e4541"
   },
   "source": [
    "## 2. Data Exploration"
   ]
  },
  {
   "cell_type": "code",
   "execution_count": null,
   "id": "3f0320af",
   "metadata": {
    "id": "3f0320af"
   },
   "outputs": [],
   "source": [
    "import warnings\n",
    "\n",
    "warnings.simplefilter(\"ignore\", UserWarning)\n",
    "warnings.simplefilter(\"ignore\", FutureWarning)\n",
    "warnings.simplefilter(\"ignore\", DeprecationWarning)"
   ]
  },
  {
   "cell_type": "code",
   "execution_count": null,
   "id": "3abac3ad",
   "metadata": {
    "id": "3abac3ad"
   },
   "outputs": [],
   "source": [
    "import json\n",
    "# import pyspark\n",
    "# from pyspark.sql import SparkSession\n",
    "\n",
    "import numpy as np\n",
    "import pandas as pd\n",
    "from scipy.stats import chi2_contingency, norm, skew, kurtosis\n",
    "\n",
    "%matplotlib inline\n",
    "import matplotlib.pyplot as plt\n",
    "import seaborn as sns\n",
    "\n",
    "# from common import vocabulary\n",
    "\n",
    "import html\n",
    "import re\n",
    "import string\n",
    "# import spacy\n",
    "import pickle\n",
    "\n",
    "import nltk\n",
    "from nltk import word_tokenize, pos_tag\n",
    "from nltk.stem import WordNetLemmatizer\n",
    "from nltk.corpus import wordnet, stopwords\n",
    "from nltk.tokenize import sent_tokenize\n",
    "from nltk.tokenize.treebank import TreebankWordDetokenizer\n",
    "\n",
    "from collections import Counter\n",
    "# from wordcloud import WordCloud\n",
    "from unicodedata import normalize\n",
    "\n",
    "import gensim\n",
    "from gensim.utils import simple_preprocess\n",
    "from gensim.models import Phrases\n",
    "from gensim.models.phrases import Phraser\n",
    "\n",
    "from sklearn.model_selection import train_test_split\n",
    "from sklearn.metrics import confusion_matrix, ConfusionMatrixDisplay\n",
    "\n",
    "import tensorflow as tf\n",
    "\n",
    "import keras\n",
    "from keras.preprocessing.text import Tokenizer\n",
    "from keras.preprocessing.sequence import pad_sequences\n",
    "from keras.models import Sequential\n",
    "from keras.layers import Embedding, Bidirectional, Dense, LSTM\n"
   ]
  },
  {
   "cell_type": "markdown",
   "id": "730ed2db",
   "metadata": {
    "id": "730ed2db"
   },
   "source": [
    "### 2.1 Load data using PySpark"
   ]
  },
  {
   "cell_type": "code",
   "execution_count": null,
   "id": "ef0c6401",
   "metadata": {
    "id": "ef0c6401"
   },
   "outputs": [],
   "source": [
    "spark = SparkSession.builder.appName('Test').getOrCreate()"
   ]
  },
  {
   "cell_type": "code",
   "execution_count": null,
   "id": "5ef72912",
   "metadata": {
    "id": "5ef72912"
   },
   "outputs": [],
   "source": [
    "mags_meta = spark.read.json('data/magazine_subscriptions_meta.json')\n",
    "mags = spark.read.json('data/magazine_subscriptions.json')"
   ]
  },
  {
   "cell_type": "code",
   "execution_count": null,
   "id": "0e7975d3",
   "metadata": {
    "id": "0e7975d3"
   },
   "outputs": [],
   "source": [
    "books = spark.read.json('data/books.json')\n",
    "books_meta = spark.read.json('data/books_meta.json')"
   ]
  },
  {
   "cell_type": "code",
   "execution_count": null,
   "id": "3c3c7e07",
   "metadata": {
    "id": "3c3c7e07"
   },
   "outputs": [],
   "source": [
    "mags.printSchema()"
   ]
  },
  {
   "cell_type": "code",
   "execution_count": null,
   "id": "099b6e4c",
   "metadata": {
    "id": "099b6e4c"
   },
   "outputs": [],
   "source": [
    "mags_meta.printSchema()"
   ]
  },
  {
   "cell_type": "code",
   "execution_count": null,
   "id": "819ee427",
   "metadata": {
    "id": "819ee427"
   },
   "outputs": [],
   "source": [
    "books_meta.printSchema()"
   ]
  },
  {
   "cell_type": "code",
   "execution_count": null,
   "id": "0be9d2a6",
   "metadata": {
    "id": "0be9d2a6"
   },
   "outputs": [],
   "source": [
    "book_reviews.printSchema()"
   ]
  },
  {
   "cell_type": "code",
   "execution_count": null,
   "id": "65b68c63",
   "metadata": {
    "id": "65b68c63"
   },
   "outputs": [],
   "source": [
    "books_meta.count()"
   ]
  },
  {
   "cell_type": "code",
   "execution_count": null,
   "id": "4e1f5e4b",
   "metadata": {
    "id": "4e1f5e4b"
   },
   "outputs": [],
   "source": [
    "books.count()"
   ]
  },
  {
   "cell_type": "code",
   "execution_count": null,
   "id": "7dde70be",
   "metadata": {
    "id": "7dde70be"
   },
   "outputs": [],
   "source": [
    "mag_categories = mags_meta.groupBy('category')\n",
    "mag_categories.count().show()"
   ]
  },
  {
   "cell_type": "code",
   "execution_count": null,
   "id": "710cb66a",
   "metadata": {
    "id": "710cb66a"
   },
   "outputs": [],
   "source": [
    "mags_pd = mags.toPandas()\n",
    "mags_meta_pd = mags_meta.toPandas()"
   ]
  },
  {
   "cell_type": "markdown",
   "id": "bb6468f6",
   "metadata": {
    "id": "bb6468f6"
   },
   "source": [
    "### 2.2 Load data using pandas"
   ]
  },
  {
   "cell_type": "code",
   "execution_count": null,
   "id": "a1555e02",
   "metadata": {
    "id": "a1555e02"
   },
   "outputs": [],
   "source": [
    "# Note - runtime is untenable on the books data in local jupyter notebook\n",
    "\n",
    "# books_meta = pd.read_json('data/books_meta.json', lines=True)\n",
    "# books = pd.read_json('data/books.json', lines=True)\n",
    "meta = pd.read_json('data/magazine_subscriptions_meta.json', lines=True)\n",
    "reviews = pd.read_json('data/magazine_subscriptions.json', lines=True)"
   ]
  },
  {
   "cell_type": "code",
   "execution_count": null,
   "id": "6b0625c6",
   "metadata": {
    "id": "6b0625c6"
   },
   "outputs": [],
   "source": [
    "# Drop duplicate records of a unique ASIN\n",
    "meta.drop_duplicates(subset='asin', inplace=True)\n",
    "\n",
    "# Drop reviews with no reviewText\n",
    "reviews = reviews[reviews['reviewText'].isna() == False]\n",
    "\n",
    "# Convert vote column to numeric\n",
    "reviews['vote'] = reviews['vote'].str.replace(',', '').fillna(0).astype(int)"
   ]
  },
  {
   "cell_type": "code",
   "execution_count": null,
   "id": "c3b2d9c5",
   "metadata": {
    "id": "c3b2d9c5"
   },
   "outputs": [],
   "source": [
    "print(\"\\033[1m\" + \"Dataframe Shape\" + \"\\033[0m\")\n",
    "print(reviews.shape)\n",
    "print(\"\\n\")\n",
    "\n",
    "print(\"\\033[1m\" + \"Column Information\" + \"\\033[0m\")\n",
    "reviews.info()\n",
    "print(\"\\n\")"
   ]
  },
  {
   "cell_type": "code",
   "execution_count": null,
   "id": "9411b9be",
   "metadata": {
    "id": "9411b9be"
   },
   "outputs": [],
   "source": [
    "reviews['reviewText'][1]"
   ]
  },
  {
   "cell_type": "code",
   "execution_count": null,
   "id": "16f81714",
   "metadata": {
    "id": "16f81714"
   },
   "outputs": [],
   "source": [
    "reviews.iloc[0]"
   ]
  },
  {
   "cell_type": "code",
   "execution_count": null,
   "id": "061b17a2",
   "metadata": {
    "id": "061b17a2"
   },
   "outputs": [],
   "source": [
    "print(\"\\033[1m\" + \"Dataframe Shape\" + \"\\033[0m\")\n",
    "print(meta.shape)\n",
    "print(\"\\n\")\n",
    "\n",
    "print(\"\\033[1m\" + \"Column Information\" + \"\\033[0m\")\n",
    "meta.info()\n",
    "print(\"\\n\")"
   ]
  },
  {
   "cell_type": "code",
   "execution_count": null,
   "id": "135802f0",
   "metadata": {
    "id": "135802f0"
   },
   "outputs": [],
   "source": [
    "meta.iloc[0].category"
   ]
  },
  {
   "cell_type": "markdown",
   "id": "674096a0",
   "metadata": {
    "id": "674096a0"
   },
   "source": [
    "### 2.3 Meta data transformation"
   ]
  },
  {
   "cell_type": "code",
   "execution_count": null,
   "id": "f988b491",
   "metadata": {
    "id": "f988b491"
   },
   "outputs": [],
   "source": [
    "categories = ['category', 'subcat1', 'subcat2', 'subcat3', 'subcat4']\n",
    "meta[categories] = pd.DataFrame(meta['category'].to_list())\n",
    "meta.replace('amp;', '', regex=True, inplace=True)"
   ]
  },
  {
   "cell_type": "code",
   "execution_count": null,
   "id": "348e5fc5",
   "metadata": {
    "id": "348e5fc5"
   },
   "outputs": [],
   "source": [
    "meta['category'].value_counts(dropna=False)"
   ]
  },
  {
   "cell_type": "code",
   "execution_count": null,
   "id": "dd3c2982",
   "metadata": {
    "id": "dd3c2982"
   },
   "outputs": [],
   "source": [
    "subcat = 'subcat1'\n",
    "meta[subcat].value_counts(dropna=False)"
   ]
  },
  {
   "cell_type": "code",
   "execution_count": null,
   "id": "99c5dbb6",
   "metadata": {
    "id": "99c5dbb6"
   },
   "outputs": [],
   "source": [
    "meta['brand'].value_counts(dropna=False)"
   ]
  },
  {
   "cell_type": "code",
   "execution_count": null,
   "id": "f101fdbd",
   "metadata": {
    "id": "f101fdbd"
   },
   "outputs": [],
   "source": [
    "def count_if(group):\n",
    "    '''Count the values of a boolean column that are True'''\n",
    "    return np.sum(group==True)\n",
    "\n",
    "# Use groupby and agg to summarize relevant statistics from review data by each ASIN\n",
    "asin_stats = reviews.groupby('asin').agg({'asin': 'count',\n",
    "                                          'overall': 'mean',\n",
    "                                          'verified': count_if                                         \n",
    "                                         })\n",
    "\n",
    "# Rename columns and reset index\n",
    "asin_stats.rename(columns={'asin':'reviews',\n",
    "                           'overall':'avgRating',\n",
    "                           'verified': 'reviewsVerified'\n",
    "                          },\n",
    "                  inplace=True\n",
    "                 )\n",
    "asin_stats.reset_index(inplace=True)\n",
    "\n",
    "# Merge ASIN statistics df with original metadata, drop irrelevant columns\n",
    "asins = pd.merge(meta,\n",
    "                asin_stats,\n",
    "                on='asin',\n",
    "                how='left'\n",
    "               )\n",
    "\n",
    "asins = asins[['asin', 'subcat1', 'brand', 'reviews', 'reviewsVerified', 'avgRating']]\n",
    "asins['pctVerified'] = asins['reviewsVerified'] / asins['reviews']\n",
    "asins.head()"
   ]
  },
  {
   "cell_type": "code",
   "execution_count": null,
   "id": "9c96eb50",
   "metadata": {
    "id": "9c96eb50"
   },
   "outputs": [],
   "source": [
    "print(\"\\033[1m\" + \"Column Information\" + \"\\033[0m\")\n",
    "print(asins.describe())"
   ]
  },
  {
   "cell_type": "markdown",
   "id": "6d71eb6f",
   "metadata": {
    "id": "6d71eb6f"
   },
   "source": [
    "### 2.4 Meta data visualization"
   ]
  },
  {
   "cell_type": "code",
   "execution_count": null,
   "id": "b299285d",
   "metadata": {
    "id": "b299285d"
   },
   "outputs": [],
   "source": [
    "sns.lmplot(x='reviews', y='reviewsVerified', data=asins, hue='subcat1', fit_reg=False)\\\n",
    "   .set(title='Reviews vs. Verified Reviews by SubCategory')\n",
    "\n",
    "plt.show()"
   ]
  },
  {
   "cell_type": "code",
   "execution_count": null,
   "id": "f5e67e34",
   "metadata": {
    "id": "f5e67e34"
   },
   "outputs": [],
   "source": [
    "fig, ax = plt.subplots(figsize=(10,12))\n",
    "sns.boxplot(x='avgRating', y='subcat1', orient='h', data=asins)\n",
    "# sns.swarmplot(x='avgRating', y='subcat1', orient='h', data=asins, color='.1')\n",
    "plt.show()"
   ]
  },
  {
   "cell_type": "markdown",
   "id": "fdd7eb31",
   "metadata": {
    "id": "fdd7eb31"
   },
   "source": [
    "### 2.5 Filter and random sampling"
   ]
  },
  {
   "cell_type": "code",
   "execution_count": null,
   "id": "af38188b",
   "metadata": {
    "id": "af38188b"
   },
   "outputs": [],
   "source": [
    "# Filter ASINs to reviews >= 10\n",
    "asin_samples = asins[asins['reviews'] >= 10]\n",
    "\n",
    "# Filter ASINs to subcat1 >= 10\n",
    "# Need to consider whether I want to do this or not\n",
    "# cat_counts = asin_samples['subcat1'].value_counts(dropna=False)\n",
    "# asin_samples = asin_samples.loc[asin_samples['subcat1'].isin(cat_counts[cat_counts >= 30].index), :]\n",
    "\n",
    "asin_samples.shape"
   ]
  },
  {
   "cell_type": "code",
   "execution_count": null,
   "id": "c1c06277",
   "metadata": {
    "id": "c1c06277"
   },
   "outputs": [],
   "source": [
    "sns.lmplot(x='reviews', y='reviewsVerified', data=asin_samples, hue='subcat1', fit_reg=True)\\\n",
    "   .set(title='Reviews vs. Verified Reviews by SubCategory')\n",
    "\n",
    "plt.show()"
   ]
  },
  {
   "cell_type": "code",
   "execution_count": null,
   "id": "b43c8ab5",
   "metadata": {
    "id": "b43c8ab5"
   },
   "outputs": [],
   "source": [
    "# Filter reviews based on asin_samples\n",
    "review_samples = pd.merge(reviews,\n",
    "                          asin_samples,\n",
    "                          on='asin',\n",
    "                          how='inner'\n",
    "                         )"
   ]
  },
  {
   "cell_type": "code",
   "execution_count": null,
   "id": "84a65227",
   "metadata": {
    "id": "84a65227"
   },
   "outputs": [],
   "source": [
    "# Random sample 5 reviews from each ASIN\n",
    "# This is likely over-sampling - DON'T USE \n",
    "# review_samples = review_samples.groupby('asin').sample(n=5, random_state=1)"
   ]
  },
  {
   "cell_type": "code",
   "execution_count": null,
   "id": "893b39f4",
   "metadata": {
    "id": "893b39f4"
   },
   "outputs": [],
   "source": [
    "print(reviews.shape)\n",
    "print(review_samples.shape)"
   ]
  },
  {
   "cell_type": "code",
   "execution_count": null,
   "id": "86f99f99",
   "metadata": {
    "id": "86f99f99"
   },
   "outputs": [],
   "source": [
    "# Remove outliers greater than 3 std-dev above mean votes for usefulness\n",
    "# This makes visualization more interpretable, but likely not a good idea for modeling\n",
    "# Because we want the outliers to be considered the \"most useful\"\n",
    "\n",
    "# outlier_threshold = review_samples.describe()['vote']['mean'] +\\\n",
    "#                     (review_samples.describe()['vote']['std'] * 3)\n",
    "\n",
    "# review_samples = review_samples[review_samples['vote'] <= outlier_threshold]"
   ]
  },
  {
   "cell_type": "code",
   "execution_count": null,
   "id": "94a88d7c",
   "metadata": {
    "id": "94a88d7c"
   },
   "outputs": [],
   "source": [
    "# Remove reviews with X votes\n",
    "\n",
    "min_votes = 10\n",
    "review_samples = review_samples[review_samples['vote'] >= min_votes]"
   ]
  },
  {
   "cell_type": "code",
   "execution_count": null,
   "id": "13a6991b",
   "metadata": {
    "id": "13a6991b"
   },
   "outputs": [],
   "source": [
    "print(reviews.shape)\n",
    "print(review_samples.shape)"
   ]
  },
  {
   "cell_type": "code",
   "execution_count": null,
   "id": "877b08e2",
   "metadata": {
    "id": "877b08e2"
   },
   "outputs": [],
   "source": [
    "sns.lmplot(x='avgRating', y='vote', data=review_samples, hue='subcat1', fit_reg=True)\\\n",
    "   .set(title='Reviews vs. Verified Reviews by SubCategory')\n",
    "\n",
    "plt.show()"
   ]
  },
  {
   "cell_type": "code",
   "execution_count": null,
   "id": "185662a4",
   "metadata": {
    "id": "185662a4"
   },
   "outputs": [],
   "source": [
    "fig, ax = plt.subplots(figsize=(10,12))\n",
    "sns.boxplot(x='vote', y='subcat1', hue='verified', orient='h', data=review_samples)\n",
    "# sns.swarmplot(x='vote', y='subcat1', hue='verified', orient='h', data=review_samples)\n",
    "plt.show()"
   ]
  },
  {
   "cell_type": "code",
   "execution_count": null,
   "id": "65faf890",
   "metadata": {
    "id": "65faf890"
   },
   "outputs": [],
   "source": [
    "sns.histplot(x='vote',\n",
    "             hue='verified',\n",
    "             data=review_samples[review_samples['vote'] < 10])\n",
    "plt.show()"
   ]
  },
  {
   "cell_type": "code",
   "execution_count": null,
   "id": "4f8890a4",
   "metadata": {
    "id": "4f8890a4"
   },
   "outputs": [],
   "source": [
    "sns.histplot(x='vote',\n",
    "             hue='verified',\n",
    "             data=review_samples[(review_samples['vote'] >= 10) & (review_samples['vote'] < 100)])\n",
    "plt.show()"
   ]
  },
  {
   "cell_type": "code",
   "execution_count": null,
   "id": "da59af26",
   "metadata": {
    "id": "da59af26"
   },
   "outputs": [],
   "source": [
    "sns.histplot(x='vote',\n",
    "             hue='verified',\n",
    "             data=review_samples[review_samples['vote'] >= 100])\n",
    "plt.show()"
   ]
  },
  {
   "cell_type": "code",
   "execution_count": null,
   "id": "1c52daa2",
   "metadata": {
    "id": "1c52daa2"
   },
   "outputs": [],
   "source": [
    "# Explore skew and kurtosis functions in pandas and scipy\n",
    "pd_skew    = review_samples['vote'].skew()\n",
    "pd_kurt    = review_samples['vote'].kurt()\n",
    "sci_skew   = skew(review_samples['vote'], bias=False)\n",
    "sci_kurt   = kurtosis(review_samples['vote'], bias=False)\n",
    "sci_skew_b = skew(review_samples['vote'], bias=True)\n",
    "sci_kurt_b = kurtosis(review_samples['vote'], bias=True)\n",
    "\n",
    "pd.DataFrame({'skew': [pd_skew, sci_skew, sci_skew_b],\n",
    "              'kurtosis': [pd_kurt, sci_kurt, sci_kurt_b]},\n",
    "             index=['pandas', 'scipy-unbiased', 'scipy-biased']\n",
    "            )"
   ]
  },
  {
   "cell_type": "code",
   "execution_count": null,
   "id": "17f725b0",
   "metadata": {
    "id": "17f725b0"
   },
   "outputs": [],
   "source": [
    "# Normalize vote variable\n",
    "from scipy.stats import boxcox\n",
    "from sklearn.preprocessing import PowerTransformer\n",
    "\n",
    "# Take the log10 of votes\n",
    "review_samples['vote_norm'] = boxcox(review_samples['vote'], lmbda=0)\n",
    "\n",
    "# Apply power transformation\n",
    "pt = PowerTransformer()\n",
    "review_samples['vote_power'] = pt.fit_transform(pd.DataFrame(review_samples['vote']))"
   ]
  },
  {
   "cell_type": "code",
   "execution_count": null,
   "id": "787498bf",
   "metadata": {
    "id": "787498bf"
   },
   "outputs": [],
   "source": [
    "fig, ax = plt.subplots(2,2, figsize=(20,10))\n",
    "\n",
    "sns.histplot(x='vote',\n",
    "             data=review_samples,\n",
    "             bins=20,\n",
    "             ax=ax[0][0]\n",
    "            )\n",
    "\n",
    "sns.histplot(x='vote_norm',\n",
    "             data=review_samples,\n",
    "             bins=20,\n",
    "             ax=ax[0][1]\n",
    "            )\n",
    "\n",
    "sns.histplot(x='vote_power',\n",
    "             data=review_samples,\n",
    "             bins=20,\n",
    "             ax=ax[1][0]\n",
    "            )\n",
    "\n",
    "plt.show()"
   ]
  },
  {
   "cell_type": "code",
   "execution_count": null,
   "id": "da0f7463",
   "metadata": {
    "id": "da0f7463"
   },
   "outputs": [],
   "source": [
    "# Define the usefulness classification based on vote_power variable\n",
    "\n",
    "review_samples['useful'] = review_samples['vote_power'].apply(lambda x: 1 if x > 0 else 0)\n",
    "review_samples['useful'].value_counts()"
   ]
  },
  {
   "cell_type": "markdown",
   "id": "a7524a67",
   "metadata": {
    "id": "a7524a67"
   },
   "source": [
    "## 3. Text pre-processing"
   ]
  },
  {
   "cell_type": "code",
   "execution_count": null,
   "id": "XQolHPiNua1E",
   "metadata": {
    "id": "XQolHPiNua1E"
   },
   "outputs": [],
   "source": [
    "review_samples = pd.read_csv('data/review_samples.csv')"
   ]
  },
  {
   "cell_type": "code",
   "execution_count": null,
   "id": "ae24c5a7",
   "metadata": {
    "id": "ae24c5a7"
   },
   "outputs": [],
   "source": [
    "# Use html library to decode special characters\n",
    "html_reviews = review_samples[review_samples['reviewText'].str.contains('&#', na=False)]\n",
    "\n",
    "if html_reviews.empty:\n",
    "    # Doesn't appear to be an issue in this data, but will use the else statement to check\n",
    "    pass\n",
    "else:\n",
    "    # Show an example of the unescape function\n",
    "    sample_review = html_reviews['reviewText'].iloc[0]\n",
    "    print(sample_review)\n",
    "    print(\"\")\n",
    "    decoded_review = html.unescape(sample_review)\n",
    "    print(decoded_review)"
   ]
  },
  {
   "cell_type": "code",
   "execution_count": null,
   "id": "f6e109df",
   "metadata": {
    "id": "f6e109df"
   },
   "outputs": [],
   "source": [
    "# Remove special characters\n",
    "pattern = r\"\\&\\#[0-9]+\\;\"\n",
    "\n",
    "review_samples[\"reviewText\"] = review_samples[\"reviewText\"].str.replace(pat=pattern, repl=\"\", regex=True)"
   ]
  },
  {
   "cell_type": "markdown",
   "id": "9a9304e9",
   "metadata": {
    "id": "9a9304e9"
   },
   "source": [
    "### 3.1 Lemmatization"
   ]
  },
  {
   "cell_type": "code",
   "execution_count": null,
   "id": "53b78a60",
   "metadata": {
    "id": "53b78a60"
   },
   "outputs": [],
   "source": [
    "# Use lemmatization to reduce words to their root form\n",
    "\n",
    "# import nltk resources\n",
    "resources = [\"wordnet\", \"stopwords\", \"punkt\", \\\n",
    "             \"averaged_perceptron_tagger\", \"maxent_treebank_pos_tagger\"]\n",
    "\n",
    "for resource in resources:\n",
    "    try:\n",
    "        nltk.data.find(\"tokenizers/\" + resource)\n",
    "    except LookupError:\n",
    "        nltk.download(resource, quiet=True)"
   ]
  },
  {
   "cell_type": "code",
   "execution_count": null,
   "id": "3c16514e",
   "metadata": {
    "colab": {
     "base_uri": "https://localhost:8080/"
    },
    "id": "3c16514e",
    "outputId": "bb0b7bce-7746-424b-a337-5ad4449791df"
   },
   "outputs": [],
   "source": [
    "%%time\n",
    "# create Lemmatizer object\n",
    "lemma = WordNetLemmatizer()\n",
    "\n",
    "def lemmatize_word(tagged_token):\n",
    "    \"\"\" Returns lemmatized word given its tag\"\"\"\n",
    "    root = []\n",
    "    for token in tagged_token:\n",
    "        tag = token[1][0]\n",
    "        word = token[0]\n",
    "        if tag.startswith('J'):\n",
    "            root.append(lemma.lemmatize(word, wordnet.ADJ))\n",
    "        elif tag.startswith('V'):\n",
    "            root.append(lemma.lemmatize(word, wordnet.VERB))\n",
    "        elif tag.startswith('N'):\n",
    "            root.append(lemma.lemmatize(word, wordnet.NOUN))\n",
    "        elif tag.startswith('R'):\n",
    "            root.append(lemma.lemmatize(word, wordnet.ADV))\n",
    "        else:          \n",
    "            root.append(word)\n",
    "    return root\n",
    "\n",
    "def lemmatize_doc(document):\n",
    "    \"\"\" Tags words then returns sentence with lemmatized words\"\"\"\n",
    "    lemmatized_list = []\n",
    "    tokenized_sent = sent_tokenize(document)\n",
    "    for sentence in tokenized_sent:\n",
    "        no_punctuation = re.sub(r\"[`'\\\",.!?()]\", \" \", sentence)\n",
    "        tokenized_word = word_tokenize(no_punctuation)\n",
    "        tagged_token = pos_tag(tokenized_word)\n",
    "        lemmatized = lemmatize_word(tagged_token)\n",
    "        lemmatized_list.extend(lemmatized)\n",
    "    return \" \".join(lemmatized_list)\n",
    "\n",
    "# apply functions to review text\n",
    "review_samples[\"reviewProcessed\"] = review_samples[\"reviewText\"].apply(lambda row: lemmatize_doc(row))\n",
    "\n",
    "# Example review\n",
    "print(review_samples[\"reviewText\"].iloc[1])\n",
    "print(\"\")\n",
    "print(review_samples[\"reviewProcessed\"].iloc[1])\n",
    "print(\"\")"
   ]
  },
  {
   "cell_type": "markdown",
   "id": "5554ce4d",
   "metadata": {
    "id": "5554ce4d"
   },
   "source": [
    "### 3.2 General normalization"
   ]
  },
  {
   "cell_type": "code",
   "execution_count": null,
   "id": "2eeb3903",
   "metadata": {
    "colab": {
     "base_uri": "https://localhost:8080/"
    },
    "id": "2eeb3903",
    "outputId": "825b7834-7dba-4460-a3ad-d393776c65f5"
   },
   "outputs": [],
   "source": [
    "# Remove accents\n",
    "\n",
    "remove_accent = lambda text: normalize(\"NFKD\", text).encode(\"ascii\", \"ignore\").decode(\"utf-8\", \"ignore\")\n",
    "review_samples[\"reviewProcessed\"] = review_samples[\"reviewProcessed\"].apply(remove_accent)\n",
    "\n",
    "# Remove punctuation\n",
    "pattern = r\"[^\\w\\s]\"\n",
    "review_samples[\"reviewProcessed\"] = review_samples[\"reviewProcessed\"].str.replace(pat=pattern, repl=\" \", regex=True)\n",
    "\n",
    "# Convert to lowercase\n",
    "review_samples[\"reviewProcessed\"] = review_samples[\"reviewProcessed\"].str.lower()\n",
    "\n",
    "# Remove stopwords\n",
    "from nltk.corpus import stopwords\n",
    "\n",
    "stop_words = stopwords.words(\"english\")\n",
    "stop_words = [word.replace(\"\\'\", \"\") for word in stop_words]\n",
    "# print(f\"sample stop words: {stop_words[:15]} \\n\")\n",
    "\n",
    "remove_stop_words = lambda row: \" \".join([token for token in row.split(\" \") if token not in stop_words])\n",
    "review_samples[\"reviewProcessed\"] = review_samples[\"reviewProcessed\"].apply(remove_stop_words)\n",
    "\n",
    "# Remove extra spaces\n",
    "pattern = r\"[\\s]+\"\n",
    "review_samples[\"reviewProcessed\"] = review_samples[\"reviewProcessed\"].str.replace(pat=pattern, repl=\" \", regex=True)\n",
    "\n",
    "# Example review\n",
    "print(review_samples[\"reviewText\"].iloc[1])\n",
    "print(\"\")\n",
    "print(review_samples[\"reviewProcessed\"].iloc[1])"
   ]
  },
  {
   "cell_type": "markdown",
   "id": "526ae8ee",
   "metadata": {
    "id": "526ae8ee"
   },
   "source": [
    "### 3.3 Tokenization and vocabulary"
   ]
  },
  {
   "cell_type": "code",
   "execution_count": null,
   "id": "6da0a921",
   "metadata": {
    "id": "6da0a921"
   },
   "outputs": [],
   "source": [
    "# Create corpora\n",
    "corpora = review_samples['reviewText'].values\n",
    "tokenized = [corpus.split(\" \") for corpus in corpora]"
   ]
  },
  {
   "cell_type": "code",
   "execution_count": null,
   "id": "1b223732",
   "metadata": {
    "id": "1b223732"
   },
   "outputs": [],
   "source": [
    "# Setup phrase modeling\n",
    "bi_gram = Phrases(tokenized, min_count=300, threshold=50)\n",
    "\n",
    "tri_gram = Phrases(bi_gram[tokenized], min_count=50, threshold=50)"
   ]
  },
  {
   "cell_type": "code",
   "execution_count": null,
   "id": "d7727ec0",
   "metadata": {
    "colab": {
     "base_uri": "https://localhost:8080/"
    },
    "id": "d7727ec0",
    "outputId": "18a003fd-89b2-4f60-e38f-7733fd832d58"
   },
   "outputs": [],
   "source": [
    "# Unigrams\n",
    "uni_gram_tokens = set([token for text in tokenized for token in text])\n",
    "uni_gram_tokens = set(filter(lambda x: x != \"\", uni_gram_tokens))\n",
    "\n",
    "print(list(uni_gram_tokens)[:200])"
   ]
  },
  {
   "cell_type": "code",
   "execution_count": null,
   "id": "e7611a57",
   "metadata": {
    "colab": {
     "base_uri": "https://localhost:8080/"
    },
    "id": "e7611a57",
    "outputId": "d589d70f-f979-48bf-f5bf-8e72b8f7ea4d"
   },
   "outputs": [],
   "source": [
    "# Bigrams\n",
    "bigram_min = bi_gram.min_count\n",
    "bi_condition = lambda x: x[1] >= bigram_min\n",
    "\n",
    "bi_gram_tokens = dict(filter(bi_condition, bi_gram.vocab.items()))\n",
    "bi_gram_tokens = set(bi_gram_tokens)\n",
    "\n",
    "bi_grams_only = bi_gram_tokens.difference(uni_gram_tokens)\n",
    "print(list(bi_grams_only))"
   ]
  },
  {
   "cell_type": "code",
   "execution_count": null,
   "id": "cdf6d7fb",
   "metadata": {
    "colab": {
     "base_uri": "https://localhost:8080/"
    },
    "id": "cdf6d7fb",
    "outputId": "e1e3cbd0-1551-4736-9b87-798e6cc0c62c"
   },
   "outputs": [],
   "source": [
    "# Trigrams \n",
    "trigram_min = tri_gram.min_count\n",
    "\n",
    "tri_condition = lambda x: x[1] >= trigram_min\n",
    "\n",
    "tri_gram_tokens = dict(filter(tri_condition, tri_gram.vocab.items()))\n",
    "tri_gram_tokens = set(tri_gram_tokens)\n",
    "\n",
    "tri_grams_only = tri_gram_tokens.difference(bi_gram_tokens)\n",
    "print(list(tri_grams_only)[:50])"
   ]
  },
  {
   "cell_type": "markdown",
   "id": "04d4ffd7",
   "metadata": {},
   "source": [
    "### X.X Output sampled and processed data to CSV"
   ]
  },
  {
   "cell_type": "code",
   "execution_count": null,
   "id": "5de9fa06",
   "metadata": {
    "id": "9739ddff"
   },
   "outputs": [],
   "source": [
    "review_samples.to_csv('data/review_samples.csv')"
   ]
  },
  {
   "cell_type": "markdown",
   "id": "0e88e573",
   "metadata": {},
   "source": [
    "## X.X New data source "
   ]
  },
  {
   "cell_type": "markdown",
   "id": "d5024090",
   "metadata": {},
   "source": [
    "Data description: https://s3.amazonaws.com/amazon-reviews-pds/readme.html  \n",
    "Data dictionary and download: https://s3.amazonaws.com/amazon-reviews-pds/tsv/index.txt\n",
    "\n",
    "__Note:__ The potential advantage of this data is that usefulness can be calculated as a proportion rather than an absolute. Whereas the original data only provides the total # of votes for usefulness, this data provides the total votes for usefulness and the total overall votes."
   ]
  },
  {
   "cell_type": "code",
   "execution_count": null,
   "id": "81621552",
   "metadata": {},
   "outputs": [],
   "source": [
    "sample = pd.read_csv(\"data/sample_us.tsv\", sep='\\t')\n",
    "sample.info()"
   ]
  },
  {
   "cell_type": "markdown",
   "id": "d7312639",
   "metadata": {},
   "source": [
    "__DATA COLUMNS:__  \n",
    "__marketplace__       - 2 letter country code of the marketplace where the review was written.  \n",
    "__customer_id__       - Random identifier that can be used to aggregate reviews written by a single author.  \n",
    "__review_id__         - The unique ID of the review.  \n",
    "__product_id__        - The unique Product ID the review pertains to. In the multilingual dataset the reviews for the same product in different countries can be grouped by the same product_id.  \n",
    "__product_parent__    - Random identifier that can be used to aggregate reviews for the same product.  \n",
    "__product_title__     - Title of the product.  \n",
    "__product_category__  - Broad product category that can be used to group reviews (also used to group the dataset into coherent parts).  \n",
    "__star_rating__       - The 1-5 star rating of the review.  \n",
    "__helpful_votes__     - Number of helpful votes.  \n",
    "__total_votes__       - Number of total votes the review received.  \n",
    "__vine__              - Review was written as part of the Vine program.  \n",
    "__verified_purchase__ - The review is on a verified purchase.  \n",
    "__review_headline__   - The title of the review.  \n",
    "__review_body__       - The review text.  \n",
    "__review_date__       - The date the review was written.  "
   ]
  },
  {
   "cell_type": "code",
   "execution_count": null,
   "id": "b718988a",
   "metadata": {},
   "outputs": [],
   "source": [
    "sample['useful'] = sample['helpful_votes'] / sample['total_votes']\n",
    "sample['useful'] = sample['useful'].fillna(0)"
   ]
  },
  {
   "cell_type": "code",
   "execution_count": null,
   "id": "cc5bd315",
   "metadata": {},
   "outputs": [],
   "source": [
    "sns.lmplot(x='total_votes', y='useful', data=sample, hue='product_category', fit_reg=False)\\\n",
    "   .set(title='')\n",
    "\n",
    "plt.show()"
   ]
  }
 ],
 "metadata": {
  "accelerator": "GPU",
  "colab": {
   "name": "data-processing.ipynb",
   "provenance": []
  },
  "kernelspec": {
   "display_name": "Python 3 (ipykernel)",
   "language": "python",
   "name": "python3"
  },
  "language_info": {
   "codemirror_mode": {
    "name": "ipython",
    "version": 3
   },
   "file_extension": ".py",
   "mimetype": "text/x-python",
   "name": "python",
   "nbconvert_exporter": "python",
   "pygments_lexer": "ipython3",
   "version": "3.8.8"
  },
  "widgets": {
   "application/vnd.jupyter.widget-state+json": {
    "020f62f332c042e79754e5f8ed44bff5": {
     "model_module": "@jupyter-widgets/base",
     "model_module_version": "1.2.0",
     "model_name": "LayoutModel",
     "state": {
      "_model_module": "@jupyter-widgets/base",
      "_model_module_version": "1.2.0",
      "_model_name": "LayoutModel",
      "_view_count": null,
      "_view_module": "@jupyter-widgets/base",
      "_view_module_version": "1.2.0",
      "_view_name": "LayoutView",
      "align_content": null,
      "align_items": null,
      "align_self": null,
      "border": null,
      "bottom": null,
      "display": null,
      "flex": null,
      "flex_flow": null,
      "grid_area": null,
      "grid_auto_columns": null,
      "grid_auto_flow": null,
      "grid_auto_rows": null,
      "grid_column": null,
      "grid_gap": null,
      "grid_row": null,
      "grid_template_areas": null,
      "grid_template_columns": null,
      "grid_template_rows": null,
      "height": null,
      "justify_content": null,
      "justify_items": null,
      "left": null,
      "margin": null,
      "max_height": null,
      "max_width": null,
      "min_height": null,
      "min_width": null,
      "object_fit": null,
      "object_position": null,
      "order": null,
      "overflow": null,
      "overflow_x": null,
      "overflow_y": null,
      "padding": null,
      "right": null,
      "top": null,
      "visibility": null,
      "width": null
     }
    },
    "02603486a9ae4386a9e231110b1245de": {
     "model_module": "@jupyter-widgets/controls",
     "model_module_version": "1.5.0",
     "model_name": "DescriptionStyleModel",
     "state": {
      "_model_module": "@jupyter-widgets/controls",
      "_model_module_version": "1.5.0",
      "_model_name": "DescriptionStyleModel",
      "_view_count": null,
      "_view_module": "@jupyter-widgets/base",
      "_view_module_version": "1.2.0",
      "_view_name": "StyleView",
      "description_width": ""
     }
    },
    "0860a168404f4f1d96b8ef6fe1acc061": {
     "model_module": "@jupyter-widgets/base",
     "model_module_version": "1.2.0",
     "model_name": "LayoutModel",
     "state": {
      "_model_module": "@jupyter-widgets/base",
      "_model_module_version": "1.2.0",
      "_model_name": "LayoutModel",
      "_view_count": null,
      "_view_module": "@jupyter-widgets/base",
      "_view_module_version": "1.2.0",
      "_view_name": "LayoutView",
      "align_content": null,
      "align_items": null,
      "align_self": null,
      "border": null,
      "bottom": null,
      "display": null,
      "flex": null,
      "flex_flow": null,
      "grid_area": null,
      "grid_auto_columns": null,
      "grid_auto_flow": null,
      "grid_auto_rows": null,
      "grid_column": null,
      "grid_gap": null,
      "grid_row": null,
      "grid_template_areas": null,
      "grid_template_columns": null,
      "grid_template_rows": null,
      "height": null,
      "justify_content": null,
      "justify_items": null,
      "left": null,
      "margin": null,
      "max_height": null,
      "max_width": null,
      "min_height": null,
      "min_width": null,
      "object_fit": null,
      "object_position": null,
      "order": null,
      "overflow": null,
      "overflow_x": null,
      "overflow_y": null,
      "padding": null,
      "right": null,
      "top": null,
      "visibility": null,
      "width": null
     }
    },
    "0d77126e84d3477daaf9cb466e274f55": {
     "model_module": "@jupyter-widgets/controls",
     "model_module_version": "1.5.0",
     "model_name": "FloatProgressModel",
     "state": {
      "_dom_classes": [],
      "_model_module": "@jupyter-widgets/controls",
      "_model_module_version": "1.5.0",
      "_model_name": "FloatProgressModel",
      "_view_count": null,
      "_view_module": "@jupyter-widgets/controls",
      "_view_module_version": "1.5.0",
      "_view_name": "ProgressView",
      "bar_style": "success",
      "description": "",
      "description_tooltip": null,
      "layout": "IPY_MODEL_48ec534e41df4b6cb8ab76ad6ee7911d",
      "max": 231508,
      "min": 0,
      "orientation": "horizontal",
      "style": "IPY_MODEL_a01f66f7cc90408892437f2ed1d616f8",
      "value": 231508
     }
    },
    "1119511508184c45b3441c84e44942cd": {
     "model_module": "@jupyter-widgets/controls",
     "model_module_version": "1.5.0",
     "model_name": "FloatProgressModel",
     "state": {
      "_dom_classes": [],
      "_model_module": "@jupyter-widgets/controls",
      "_model_module_version": "1.5.0",
      "_model_name": "FloatProgressModel",
      "_view_count": null,
      "_view_module": "@jupyter-widgets/controls",
      "_view_module_version": "1.5.0",
      "_view_name": "ProgressView",
      "bar_style": "success",
      "description": "",
      "description_tooltip": null,
      "layout": "IPY_MODEL_13ee2169a03e444d91689b505649cbed",
      "max": 570,
      "min": 0,
      "orientation": "horizontal",
      "style": "IPY_MODEL_b5ef1a6d67c0431cb30ebacd296e526a",
      "value": 570
     }
    },
    "11fbb752d78c40f98b730776631b5693": {
     "model_module": "@jupyter-widgets/controls",
     "model_module_version": "1.5.0",
     "model_name": "DescriptionStyleModel",
     "state": {
      "_model_module": "@jupyter-widgets/controls",
      "_model_module_version": "1.5.0",
      "_model_name": "DescriptionStyleModel",
      "_view_count": null,
      "_view_module": "@jupyter-widgets/base",
      "_view_module_version": "1.2.0",
      "_view_name": "StyleView",
      "description_width": ""
     }
    },
    "13ee2169a03e444d91689b505649cbed": {
     "model_module": "@jupyter-widgets/base",
     "model_module_version": "1.2.0",
     "model_name": "LayoutModel",
     "state": {
      "_model_module": "@jupyter-widgets/base",
      "_model_module_version": "1.2.0",
      "_model_name": "LayoutModel",
      "_view_count": null,
      "_view_module": "@jupyter-widgets/base",
      "_view_module_version": "1.2.0",
      "_view_name": "LayoutView",
      "align_content": null,
      "align_items": null,
      "align_self": null,
      "border": null,
      "bottom": null,
      "display": null,
      "flex": null,
      "flex_flow": null,
      "grid_area": null,
      "grid_auto_columns": null,
      "grid_auto_flow": null,
      "grid_auto_rows": null,
      "grid_column": null,
      "grid_gap": null,
      "grid_row": null,
      "grid_template_areas": null,
      "grid_template_columns": null,
      "grid_template_rows": null,
      "height": null,
      "justify_content": null,
      "justify_items": null,
      "left": null,
      "margin": null,
      "max_height": null,
      "max_width": null,
      "min_height": null,
      "min_width": null,
      "object_fit": null,
      "object_position": null,
      "order": null,
      "overflow": null,
      "overflow_x": null,
      "overflow_y": null,
      "padding": null,
      "right": null,
      "top": null,
      "visibility": null,
      "width": null
     }
    },
    "17a01879195744809f0f4bf86af8c8e9": {
     "model_module": "@jupyter-widgets/base",
     "model_module_version": "1.2.0",
     "model_name": "LayoutModel",
     "state": {
      "_model_module": "@jupyter-widgets/base",
      "_model_module_version": "1.2.0",
      "_model_name": "LayoutModel",
      "_view_count": null,
      "_view_module": "@jupyter-widgets/base",
      "_view_module_version": "1.2.0",
      "_view_name": "LayoutView",
      "align_content": null,
      "align_items": null,
      "align_self": null,
      "border": null,
      "bottom": null,
      "display": null,
      "flex": null,
      "flex_flow": null,
      "grid_area": null,
      "grid_auto_columns": null,
      "grid_auto_flow": null,
      "grid_auto_rows": null,
      "grid_column": null,
      "grid_gap": null,
      "grid_row": null,
      "grid_template_areas": null,
      "grid_template_columns": null,
      "grid_template_rows": null,
      "height": null,
      "justify_content": null,
      "justify_items": null,
      "left": null,
      "margin": null,
      "max_height": null,
      "max_width": null,
      "min_height": null,
      "min_width": null,
      "object_fit": null,
      "object_position": null,
      "order": null,
      "overflow": null,
      "overflow_x": null,
      "overflow_y": null,
      "padding": null,
      "right": null,
      "top": null,
      "visibility": null,
      "width": null
     }
    },
    "17d32e41a19447f0a17789d142904586": {
     "model_module": "@jupyter-widgets/controls",
     "model_module_version": "1.5.0",
     "model_name": "HTMLModel",
     "state": {
      "_dom_classes": [],
      "_model_module": "@jupyter-widgets/controls",
      "_model_module_version": "1.5.0",
      "_model_name": "HTMLModel",
      "_view_count": null,
      "_view_module": "@jupyter-widgets/controls",
      "_view_module_version": "1.5.0",
      "_view_name": "HTMLView",
      "description": "",
      "description_tooltip": null,
      "layout": "IPY_MODEL_8f5e6ca0bb8343bf8ea4d9a2e656166c",
      "placeholder": "​",
      "style": "IPY_MODEL_f5824d140287416c808bcbc7a24ac124",
      "value": "Downloading: 100%"
     }
    },
    "1a08d61e88e047c488b396bbd45049a2": {
     "model_module": "@jupyter-widgets/controls",
     "model_module_version": "1.5.0",
     "model_name": "ProgressStyleModel",
     "state": {
      "_model_module": "@jupyter-widgets/controls",
      "_model_module_version": "1.5.0",
      "_model_name": "ProgressStyleModel",
      "_view_count": null,
      "_view_module": "@jupyter-widgets/base",
      "_view_module_version": "1.2.0",
      "_view_name": "StyleView",
      "bar_color": null,
      "description_width": ""
     }
    },
    "1c5d31b8ad664bf187f96b516c4024ee": {
     "model_module": "@jupyter-widgets/base",
     "model_module_version": "1.2.0",
     "model_name": "LayoutModel",
     "state": {
      "_model_module": "@jupyter-widgets/base",
      "_model_module_version": "1.2.0",
      "_model_name": "LayoutModel",
      "_view_count": null,
      "_view_module": "@jupyter-widgets/base",
      "_view_module_version": "1.2.0",
      "_view_name": "LayoutView",
      "align_content": null,
      "align_items": null,
      "align_self": null,
      "border": null,
      "bottom": null,
      "display": null,
      "flex": null,
      "flex_flow": null,
      "grid_area": null,
      "grid_auto_columns": null,
      "grid_auto_flow": null,
      "grid_auto_rows": null,
      "grid_column": null,
      "grid_gap": null,
      "grid_row": null,
      "grid_template_areas": null,
      "grid_template_columns": null,
      "grid_template_rows": null,
      "height": null,
      "justify_content": null,
      "justify_items": null,
      "left": null,
      "margin": null,
      "max_height": null,
      "max_width": null,
      "min_height": null,
      "min_width": null,
      "object_fit": null,
      "object_position": null,
      "order": null,
      "overflow": null,
      "overflow_x": null,
      "overflow_y": null,
      "padding": null,
      "right": null,
      "top": null,
      "visibility": null,
      "width": null
     }
    },
    "2d4ab0bd0aa54ce89f8a43d83384ee48": {
     "model_module": "@jupyter-widgets/controls",
     "model_module_version": "1.5.0",
     "model_name": "ProgressStyleModel",
     "state": {
      "_model_module": "@jupyter-widgets/controls",
      "_model_module_version": "1.5.0",
      "_model_name": "ProgressStyleModel",
      "_view_count": null,
      "_view_module": "@jupyter-widgets/base",
      "_view_module_version": "1.2.0",
      "_view_name": "StyleView",
      "bar_color": null,
      "description_width": ""
     }
    },
    "36ce42e417af40bea840a7df83fcaf31": {
     "model_module": "@jupyter-widgets/controls",
     "model_module_version": "1.5.0",
     "model_name": "FloatProgressModel",
     "state": {
      "_dom_classes": [],
      "_model_module": "@jupyter-widgets/controls",
      "_model_module_version": "1.5.0",
      "_model_name": "FloatProgressModel",
      "_view_count": null,
      "_view_module": "@jupyter-widgets/controls",
      "_view_module_version": "1.5.0",
      "_view_name": "ProgressView",
      "bar_style": "success",
      "description": "",
      "description_tooltip": null,
      "layout": "IPY_MODEL_c89b492faca7411a83482f65df06c45d",
      "max": 536063208,
      "min": 0,
      "orientation": "horizontal",
      "style": "IPY_MODEL_2d4ab0bd0aa54ce89f8a43d83384ee48",
      "value": 536063208
     }
    },
    "3d1196f554bd4a28a1aff86ea032d3c3": {
     "model_module": "@jupyter-widgets/base",
     "model_module_version": "1.2.0",
     "model_name": "LayoutModel",
     "state": {
      "_model_module": "@jupyter-widgets/base",
      "_model_module_version": "1.2.0",
      "_model_name": "LayoutModel",
      "_view_count": null,
      "_view_module": "@jupyter-widgets/base",
      "_view_module_version": "1.2.0",
      "_view_name": "LayoutView",
      "align_content": null,
      "align_items": null,
      "align_self": null,
      "border": null,
      "bottom": null,
      "display": null,
      "flex": null,
      "flex_flow": null,
      "grid_area": null,
      "grid_auto_columns": null,
      "grid_auto_flow": null,
      "grid_auto_rows": null,
      "grid_column": null,
      "grid_gap": null,
      "grid_row": null,
      "grid_template_areas": null,
      "grid_template_columns": null,
      "grid_template_rows": null,
      "height": null,
      "justify_content": null,
      "justify_items": null,
      "left": null,
      "margin": null,
      "max_height": null,
      "max_width": null,
      "min_height": null,
      "min_width": null,
      "object_fit": null,
      "object_position": null,
      "order": null,
      "overflow": null,
      "overflow_x": null,
      "overflow_y": null,
      "padding": null,
      "right": null,
      "top": null,
      "visibility": null,
      "width": null
     }
    },
    "43cf49055dbc4842a1a46fc9df8ee932": {
     "model_module": "@jupyter-widgets/controls",
     "model_module_version": "1.5.0",
     "model_name": "HTMLModel",
     "state": {
      "_dom_classes": [],
      "_model_module": "@jupyter-widgets/controls",
      "_model_module_version": "1.5.0",
      "_model_name": "HTMLModel",
      "_view_count": null,
      "_view_module": "@jupyter-widgets/controls",
      "_view_module_version": "1.5.0",
      "_view_name": "HTMLView",
      "description": "",
      "description_tooltip": null,
      "layout": "IPY_MODEL_90b0e5e62e244172a59225587f5d084d",
      "placeholder": "​",
      "style": "IPY_MODEL_8730c717632a468ea50e5255f8946e82",
      "value": "Downloading: 100%"
     }
    },
    "48ec534e41df4b6cb8ab76ad6ee7911d": {
     "model_module": "@jupyter-widgets/base",
     "model_module_version": "1.2.0",
     "model_name": "LayoutModel",
     "state": {
      "_model_module": "@jupyter-widgets/base",
      "_model_module_version": "1.2.0",
      "_model_name": "LayoutModel",
      "_view_count": null,
      "_view_module": "@jupyter-widgets/base",
      "_view_module_version": "1.2.0",
      "_view_name": "LayoutView",
      "align_content": null,
      "align_items": null,
      "align_self": null,
      "border": null,
      "bottom": null,
      "display": null,
      "flex": null,
      "flex_flow": null,
      "grid_area": null,
      "grid_auto_columns": null,
      "grid_auto_flow": null,
      "grid_auto_rows": null,
      "grid_column": null,
      "grid_gap": null,
      "grid_row": null,
      "grid_template_areas": null,
      "grid_template_columns": null,
      "grid_template_rows": null,
      "height": null,
      "justify_content": null,
      "justify_items": null,
      "left": null,
      "margin": null,
      "max_height": null,
      "max_width": null,
      "min_height": null,
      "min_width": null,
      "object_fit": null,
      "object_position": null,
      "order": null,
      "overflow": null,
      "overflow_x": null,
      "overflow_y": null,
      "padding": null,
      "right": null,
      "top": null,
      "visibility": null,
      "width": null
     }
    },
    "4f5cab468d1d41999f10657f7b79b50a": {
     "model_module": "@jupyter-widgets/controls",
     "model_module_version": "1.5.0",
     "model_name": "HTMLModel",
     "state": {
      "_dom_classes": [],
      "_model_module": "@jupyter-widgets/controls",
      "_model_module_version": "1.5.0",
      "_model_name": "HTMLModel",
      "_view_count": null,
      "_view_module": "@jupyter-widgets/controls",
      "_view_module_version": "1.5.0",
      "_view_name": "HTMLView",
      "description": "",
      "description_tooltip": null,
      "layout": "IPY_MODEL_1c5d31b8ad664bf187f96b516c4024ee",
      "placeholder": "​",
      "style": "IPY_MODEL_11fbb752d78c40f98b730776631b5693",
      "value": "Downloading: 100%"
     }
    },
    "5031e91548e64613a736ee45e1b41b9d": {
     "model_module": "@jupyter-widgets/base",
     "model_module_version": "1.2.0",
     "model_name": "LayoutModel",
     "state": {
      "_model_module": "@jupyter-widgets/base",
      "_model_module_version": "1.2.0",
      "_model_name": "LayoutModel",
      "_view_count": null,
      "_view_module": "@jupyter-widgets/base",
      "_view_module_version": "1.2.0",
      "_view_name": "LayoutView",
      "align_content": null,
      "align_items": null,
      "align_self": null,
      "border": null,
      "bottom": null,
      "display": null,
      "flex": null,
      "flex_flow": null,
      "grid_area": null,
      "grid_auto_columns": null,
      "grid_auto_flow": null,
      "grid_auto_rows": null,
      "grid_column": null,
      "grid_gap": null,
      "grid_row": null,
      "grid_template_areas": null,
      "grid_template_columns": null,
      "grid_template_rows": null,
      "height": null,
      "justify_content": null,
      "justify_items": null,
      "left": null,
      "margin": null,
      "max_height": null,
      "max_width": null,
      "min_height": null,
      "min_width": null,
      "object_fit": null,
      "object_position": null,
      "order": null,
      "overflow": null,
      "overflow_x": null,
      "overflow_y": null,
      "padding": null,
      "right": null,
      "top": null,
      "visibility": null,
      "width": null
     }
    },
    "62f2609230e44f86a4a48d96a2460215": {
     "model_module": "@jupyter-widgets/controls",
     "model_module_version": "1.5.0",
     "model_name": "HBoxModel",
     "state": {
      "_dom_classes": [],
      "_model_module": "@jupyter-widgets/controls",
      "_model_module_version": "1.5.0",
      "_model_name": "HBoxModel",
      "_view_count": null,
      "_view_module": "@jupyter-widgets/controls",
      "_view_module_version": "1.5.0",
      "_view_name": "HBoxView",
      "box_style": "",
      "children": [
       "IPY_MODEL_4f5cab468d1d41999f10657f7b79b50a",
       "IPY_MODEL_0d77126e84d3477daaf9cb466e274f55",
       "IPY_MODEL_d98db63696bb4737b89ef6e440b957f3"
      ],
      "layout": "IPY_MODEL_a83f5aa55c4a433283a0190692243bb4"
     }
    },
    "633a6bc9034b4b52a4f5ceb0e213349c": {
     "model_module": "@jupyter-widgets/controls",
     "model_module_version": "1.5.0",
     "model_name": "HTMLModel",
     "state": {
      "_dom_classes": [],
      "_model_module": "@jupyter-widgets/controls",
      "_model_module_version": "1.5.0",
      "_model_name": "HTMLModel",
      "_view_count": null,
      "_view_module": "@jupyter-widgets/controls",
      "_view_module_version": "1.5.0",
      "_view_name": "HTMLView",
      "description": "",
      "description_tooltip": null,
      "layout": "IPY_MODEL_3d1196f554bd4a28a1aff86ea032d3c3",
      "placeholder": "​",
      "style": "IPY_MODEL_02603486a9ae4386a9e231110b1245de",
      "value": " 570/570 [00:00&lt;00:00, 3.17kB/s]"
     }
    },
    "64799d9b7ea74fb2b23f1b811ff7c4e6": {
     "model_module": "@jupyter-widgets/controls",
     "model_module_version": "1.5.0",
     "model_name": "HTMLModel",
     "state": {
      "_dom_classes": [],
      "_model_module": "@jupyter-widgets/controls",
      "_model_module_version": "1.5.0",
      "_model_name": "HTMLModel",
      "_view_count": null,
      "_view_module": "@jupyter-widgets/controls",
      "_view_module_version": "1.5.0",
      "_view_name": "HTMLView",
      "description": "",
      "description_tooltip": null,
      "layout": "IPY_MODEL_bc3dd61b8c5d4cfca12cb315bb8378f7",
      "placeholder": "​",
      "style": "IPY_MODEL_82dd2fae32844f77a1c7299eb2a8fdae",
      "value": "Downloading: 100%"
     }
    },
    "6619148b460b45aba80f6171b73d61df": {
     "model_module": "@jupyter-widgets/controls",
     "model_module_version": "1.5.0",
     "model_name": "DescriptionStyleModel",
     "state": {
      "_model_module": "@jupyter-widgets/controls",
      "_model_module_version": "1.5.0",
      "_model_name": "DescriptionStyleModel",
      "_view_count": null,
      "_view_module": "@jupyter-widgets/base",
      "_view_module_version": "1.2.0",
      "_view_name": "StyleView",
      "description_width": ""
     }
    },
    "6f685d96196f4e3abb0c6e08fe5aee92": {
     "model_module": "@jupyter-widgets/controls",
     "model_module_version": "1.5.0",
     "model_name": "HBoxModel",
     "state": {
      "_dom_classes": [],
      "_model_module": "@jupyter-widgets/controls",
      "_model_module_version": "1.5.0",
      "_model_name": "HBoxModel",
      "_view_count": null,
      "_view_module": "@jupyter-widgets/controls",
      "_view_module_version": "1.5.0",
      "_view_name": "HBoxView",
      "box_style": "",
      "children": [
       "IPY_MODEL_43cf49055dbc4842a1a46fc9df8ee932",
       "IPY_MODEL_1119511508184c45b3441c84e44942cd",
       "IPY_MODEL_633a6bc9034b4b52a4f5ceb0e213349c"
      ],
      "layout": "IPY_MODEL_0860a168404f4f1d96b8ef6fe1acc061"
     }
    },
    "7c7d53c256a4431d987de57f0287e0a1": {
     "model_module": "@jupyter-widgets/controls",
     "model_module_version": "1.5.0",
     "model_name": "HBoxModel",
     "state": {
      "_dom_classes": [],
      "_model_module": "@jupyter-widgets/controls",
      "_model_module_version": "1.5.0",
      "_model_name": "HBoxModel",
      "_view_count": null,
      "_view_module": "@jupyter-widgets/controls",
      "_view_module_version": "1.5.0",
      "_view_name": "HBoxView",
      "box_style": "",
      "children": [
       "IPY_MODEL_17d32e41a19447f0a17789d142904586",
       "IPY_MODEL_36ce42e417af40bea840a7df83fcaf31",
       "IPY_MODEL_ef8bbf83b5224efcaf46b479cd6d93e6"
      ],
      "layout": "IPY_MODEL_d959e779476a4f79b5d8f06703621c85"
     }
    },
    "82dd2fae32844f77a1c7299eb2a8fdae": {
     "model_module": "@jupyter-widgets/controls",
     "model_module_version": "1.5.0",
     "model_name": "DescriptionStyleModel",
     "state": {
      "_model_module": "@jupyter-widgets/controls",
      "_model_module_version": "1.5.0",
      "_model_name": "DescriptionStyleModel",
      "_view_count": null,
      "_view_module": "@jupyter-widgets/base",
      "_view_module_version": "1.2.0",
      "_view_name": "StyleView",
      "description_width": ""
     }
    },
    "8730c717632a468ea50e5255f8946e82": {
     "model_module": "@jupyter-widgets/controls",
     "model_module_version": "1.5.0",
     "model_name": "DescriptionStyleModel",
     "state": {
      "_model_module": "@jupyter-widgets/controls",
      "_model_module_version": "1.5.0",
      "_model_name": "DescriptionStyleModel",
      "_view_count": null,
      "_view_module": "@jupyter-widgets/base",
      "_view_module_version": "1.2.0",
      "_view_name": "StyleView",
      "description_width": ""
     }
    },
    "880b22c5d3f94d878d0b457a4119bdb9": {
     "model_module": "@jupyter-widgets/controls",
     "model_module_version": "1.5.0",
     "model_name": "DescriptionStyleModel",
     "state": {
      "_model_module": "@jupyter-widgets/controls",
      "_model_module_version": "1.5.0",
      "_model_name": "DescriptionStyleModel",
      "_view_count": null,
      "_view_module": "@jupyter-widgets/base",
      "_view_module_version": "1.2.0",
      "_view_name": "StyleView",
      "description_width": ""
     }
    },
    "8f5e6ca0bb8343bf8ea4d9a2e656166c": {
     "model_module": "@jupyter-widgets/base",
     "model_module_version": "1.2.0",
     "model_name": "LayoutModel",
     "state": {
      "_model_module": "@jupyter-widgets/base",
      "_model_module_version": "1.2.0",
      "_model_name": "LayoutModel",
      "_view_count": null,
      "_view_module": "@jupyter-widgets/base",
      "_view_module_version": "1.2.0",
      "_view_name": "LayoutView",
      "align_content": null,
      "align_items": null,
      "align_self": null,
      "border": null,
      "bottom": null,
      "display": null,
      "flex": null,
      "flex_flow": null,
      "grid_area": null,
      "grid_auto_columns": null,
      "grid_auto_flow": null,
      "grid_auto_rows": null,
      "grid_column": null,
      "grid_gap": null,
      "grid_row": null,
      "grid_template_areas": null,
      "grid_template_columns": null,
      "grid_template_rows": null,
      "height": null,
      "justify_content": null,
      "justify_items": null,
      "left": null,
      "margin": null,
      "max_height": null,
      "max_width": null,
      "min_height": null,
      "min_width": null,
      "object_fit": null,
      "object_position": null,
      "order": null,
      "overflow": null,
      "overflow_x": null,
      "overflow_y": null,
      "padding": null,
      "right": null,
      "top": null,
      "visibility": null,
      "width": null
     }
    },
    "90b0e5e62e244172a59225587f5d084d": {
     "model_module": "@jupyter-widgets/base",
     "model_module_version": "1.2.0",
     "model_name": "LayoutModel",
     "state": {
      "_model_module": "@jupyter-widgets/base",
      "_model_module_version": "1.2.0",
      "_model_name": "LayoutModel",
      "_view_count": null,
      "_view_module": "@jupyter-widgets/base",
      "_view_module_version": "1.2.0",
      "_view_name": "LayoutView",
      "align_content": null,
      "align_items": null,
      "align_self": null,
      "border": null,
      "bottom": null,
      "display": null,
      "flex": null,
      "flex_flow": null,
      "grid_area": null,
      "grid_auto_columns": null,
      "grid_auto_flow": null,
      "grid_auto_rows": null,
      "grid_column": null,
      "grid_gap": null,
      "grid_row": null,
      "grid_template_areas": null,
      "grid_template_columns": null,
      "grid_template_rows": null,
      "height": null,
      "justify_content": null,
      "justify_items": null,
      "left": null,
      "margin": null,
      "max_height": null,
      "max_width": null,
      "min_height": null,
      "min_width": null,
      "object_fit": null,
      "object_position": null,
      "order": null,
      "overflow": null,
      "overflow_x": null,
      "overflow_y": null,
      "padding": null,
      "right": null,
      "top": null,
      "visibility": null,
      "width": null
     }
    },
    "949eb92a430649d18999712c04a90a02": {
     "model_module": "@jupyter-widgets/controls",
     "model_module_version": "1.5.0",
     "model_name": "DescriptionStyleModel",
     "state": {
      "_model_module": "@jupyter-widgets/controls",
      "_model_module_version": "1.5.0",
      "_model_name": "DescriptionStyleModel",
      "_view_count": null,
      "_view_module": "@jupyter-widgets/base",
      "_view_module_version": "1.2.0",
      "_view_name": "StyleView",
      "description_width": ""
     }
    },
    "96720bada37044a18dd9b657820174cd": {
     "model_module": "@jupyter-widgets/base",
     "model_module_version": "1.2.0",
     "model_name": "LayoutModel",
     "state": {
      "_model_module": "@jupyter-widgets/base",
      "_model_module_version": "1.2.0",
      "_model_name": "LayoutModel",
      "_view_count": null,
      "_view_module": "@jupyter-widgets/base",
      "_view_module_version": "1.2.0",
      "_view_name": "LayoutView",
      "align_content": null,
      "align_items": null,
      "align_self": null,
      "border": null,
      "bottom": null,
      "display": null,
      "flex": null,
      "flex_flow": null,
      "grid_area": null,
      "grid_auto_columns": null,
      "grid_auto_flow": null,
      "grid_auto_rows": null,
      "grid_column": null,
      "grid_gap": null,
      "grid_row": null,
      "grid_template_areas": null,
      "grid_template_columns": null,
      "grid_template_rows": null,
      "height": null,
      "justify_content": null,
      "justify_items": null,
      "left": null,
      "margin": null,
      "max_height": null,
      "max_width": null,
      "min_height": null,
      "min_width": null,
      "object_fit": null,
      "object_position": null,
      "order": null,
      "overflow": null,
      "overflow_x": null,
      "overflow_y": null,
      "padding": null,
      "right": null,
      "top": null,
      "visibility": null,
      "width": null
     }
    },
    "9d778e4100294381ab56dd894c5f1472": {
     "model_module": "@jupyter-widgets/base",
     "model_module_version": "1.2.0",
     "model_name": "LayoutModel",
     "state": {
      "_model_module": "@jupyter-widgets/base",
      "_model_module_version": "1.2.0",
      "_model_name": "LayoutModel",
      "_view_count": null,
      "_view_module": "@jupyter-widgets/base",
      "_view_module_version": "1.2.0",
      "_view_name": "LayoutView",
      "align_content": null,
      "align_items": null,
      "align_self": null,
      "border": null,
      "bottom": null,
      "display": null,
      "flex": null,
      "flex_flow": null,
      "grid_area": null,
      "grid_auto_columns": null,
      "grid_auto_flow": null,
      "grid_auto_rows": null,
      "grid_column": null,
      "grid_gap": null,
      "grid_row": null,
      "grid_template_areas": null,
      "grid_template_columns": null,
      "grid_template_rows": null,
      "height": null,
      "justify_content": null,
      "justify_items": null,
      "left": null,
      "margin": null,
      "max_height": null,
      "max_width": null,
      "min_height": null,
      "min_width": null,
      "object_fit": null,
      "object_position": null,
      "order": null,
      "overflow": null,
      "overflow_x": null,
      "overflow_y": null,
      "padding": null,
      "right": null,
      "top": null,
      "visibility": null,
      "width": null
     }
    },
    "a01f66f7cc90408892437f2ed1d616f8": {
     "model_module": "@jupyter-widgets/controls",
     "model_module_version": "1.5.0",
     "model_name": "ProgressStyleModel",
     "state": {
      "_model_module": "@jupyter-widgets/controls",
      "_model_module_version": "1.5.0",
      "_model_name": "ProgressStyleModel",
      "_view_count": null,
      "_view_module": "@jupyter-widgets/base",
      "_view_module_version": "1.2.0",
      "_view_name": "StyleView",
      "bar_color": null,
      "description_width": ""
     }
    },
    "a83f5aa55c4a433283a0190692243bb4": {
     "model_module": "@jupyter-widgets/base",
     "model_module_version": "1.2.0",
     "model_name": "LayoutModel",
     "state": {
      "_model_module": "@jupyter-widgets/base",
      "_model_module_version": "1.2.0",
      "_model_name": "LayoutModel",
      "_view_count": null,
      "_view_module": "@jupyter-widgets/base",
      "_view_module_version": "1.2.0",
      "_view_name": "LayoutView",
      "align_content": null,
      "align_items": null,
      "align_self": null,
      "border": null,
      "bottom": null,
      "display": null,
      "flex": null,
      "flex_flow": null,
      "grid_area": null,
      "grid_auto_columns": null,
      "grid_auto_flow": null,
      "grid_auto_rows": null,
      "grid_column": null,
      "grid_gap": null,
      "grid_row": null,
      "grid_template_areas": null,
      "grid_template_columns": null,
      "grid_template_rows": null,
      "height": null,
      "justify_content": null,
      "justify_items": null,
      "left": null,
      "margin": null,
      "max_height": null,
      "max_width": null,
      "min_height": null,
      "min_width": null,
      "object_fit": null,
      "object_position": null,
      "order": null,
      "overflow": null,
      "overflow_x": null,
      "overflow_y": null,
      "padding": null,
      "right": null,
      "top": null,
      "visibility": null,
      "width": null
     }
    },
    "af19196510b74527a5bf5d8f98850246": {
     "model_module": "@jupyter-widgets/controls",
     "model_module_version": "1.5.0",
     "model_name": "HTMLModel",
     "state": {
      "_dom_classes": [],
      "_model_module": "@jupyter-widgets/controls",
      "_model_module_version": "1.5.0",
      "_model_name": "HTMLModel",
      "_view_count": null,
      "_view_module": "@jupyter-widgets/controls",
      "_view_module_version": "1.5.0",
      "_view_name": "HTMLView",
      "description": "",
      "description_tooltip": null,
      "layout": "IPY_MODEL_5031e91548e64613a736ee45e1b41b9d",
      "placeholder": "​",
      "style": "IPY_MODEL_880b22c5d3f94d878d0b457a4119bdb9",
      "value": " 28.0/28.0 [00:00&lt;00:00, 758B/s]"
     }
    },
    "b5ef1a6d67c0431cb30ebacd296e526a": {
     "model_module": "@jupyter-widgets/controls",
     "model_module_version": "1.5.0",
     "model_name": "ProgressStyleModel",
     "state": {
      "_model_module": "@jupyter-widgets/controls",
      "_model_module_version": "1.5.0",
      "_model_name": "ProgressStyleModel",
      "_view_count": null,
      "_view_module": "@jupyter-widgets/base",
      "_view_module_version": "1.2.0",
      "_view_name": "StyleView",
      "bar_color": null,
      "description_width": ""
     }
    },
    "bc3dd61b8c5d4cfca12cb315bb8378f7": {
     "model_module": "@jupyter-widgets/base",
     "model_module_version": "1.2.0",
     "model_name": "LayoutModel",
     "state": {
      "_model_module": "@jupyter-widgets/base",
      "_model_module_version": "1.2.0",
      "_model_name": "LayoutModel",
      "_view_count": null,
      "_view_module": "@jupyter-widgets/base",
      "_view_module_version": "1.2.0",
      "_view_name": "LayoutView",
      "align_content": null,
      "align_items": null,
      "align_self": null,
      "border": null,
      "bottom": null,
      "display": null,
      "flex": null,
      "flex_flow": null,
      "grid_area": null,
      "grid_auto_columns": null,
      "grid_auto_flow": null,
      "grid_auto_rows": null,
      "grid_column": null,
      "grid_gap": null,
      "grid_row": null,
      "grid_template_areas": null,
      "grid_template_columns": null,
      "grid_template_rows": null,
      "height": null,
      "justify_content": null,
      "justify_items": null,
      "left": null,
      "margin": null,
      "max_height": null,
      "max_width": null,
      "min_height": null,
      "min_width": null,
      "object_fit": null,
      "object_position": null,
      "order": null,
      "overflow": null,
      "overflow_x": null,
      "overflow_y": null,
      "padding": null,
      "right": null,
      "top": null,
      "visibility": null,
      "width": null
     }
    },
    "c351d8ef2d754bb7b2cab3ec781e108c": {
     "model_module": "@jupyter-widgets/controls",
     "model_module_version": "1.5.0",
     "model_name": "HBoxModel",
     "state": {
      "_dom_classes": [],
      "_model_module": "@jupyter-widgets/controls",
      "_model_module_version": "1.5.0",
      "_model_name": "HBoxModel",
      "_view_count": null,
      "_view_module": "@jupyter-widgets/controls",
      "_view_module_version": "1.5.0",
      "_view_name": "HBoxView",
      "box_style": "",
      "children": [
       "IPY_MODEL_64799d9b7ea74fb2b23f1b811ff7c4e6",
       "IPY_MODEL_c995702a012742428f0ff4359d32a6c2",
       "IPY_MODEL_af19196510b74527a5bf5d8f98850246"
      ],
      "layout": "IPY_MODEL_020f62f332c042e79754e5f8ed44bff5"
     }
    },
    "c89b492faca7411a83482f65df06c45d": {
     "model_module": "@jupyter-widgets/base",
     "model_module_version": "1.2.0",
     "model_name": "LayoutModel",
     "state": {
      "_model_module": "@jupyter-widgets/base",
      "_model_module_version": "1.2.0",
      "_model_name": "LayoutModel",
      "_view_count": null,
      "_view_module": "@jupyter-widgets/base",
      "_view_module_version": "1.2.0",
      "_view_name": "LayoutView",
      "align_content": null,
      "align_items": null,
      "align_self": null,
      "border": null,
      "bottom": null,
      "display": null,
      "flex": null,
      "flex_flow": null,
      "grid_area": null,
      "grid_auto_columns": null,
      "grid_auto_flow": null,
      "grid_auto_rows": null,
      "grid_column": null,
      "grid_gap": null,
      "grid_row": null,
      "grid_template_areas": null,
      "grid_template_columns": null,
      "grid_template_rows": null,
      "height": null,
      "justify_content": null,
      "justify_items": null,
      "left": null,
      "margin": null,
      "max_height": null,
      "max_width": null,
      "min_height": null,
      "min_width": null,
      "object_fit": null,
      "object_position": null,
      "order": null,
      "overflow": null,
      "overflow_x": null,
      "overflow_y": null,
      "padding": null,
      "right": null,
      "top": null,
      "visibility": null,
      "width": null
     }
    },
    "c995702a012742428f0ff4359d32a6c2": {
     "model_module": "@jupyter-widgets/controls",
     "model_module_version": "1.5.0",
     "model_name": "FloatProgressModel",
     "state": {
      "_dom_classes": [],
      "_model_module": "@jupyter-widgets/controls",
      "_model_module_version": "1.5.0",
      "_model_name": "FloatProgressModel",
      "_view_count": null,
      "_view_module": "@jupyter-widgets/controls",
      "_view_module_version": "1.5.0",
      "_view_name": "ProgressView",
      "bar_style": "success",
      "description": "",
      "description_tooltip": null,
      "layout": "IPY_MODEL_17a01879195744809f0f4bf86af8c8e9",
      "max": 28,
      "min": 0,
      "orientation": "horizontal",
      "style": "IPY_MODEL_1a08d61e88e047c488b396bbd45049a2",
      "value": 28
     }
    },
    "d959e779476a4f79b5d8f06703621c85": {
     "model_module": "@jupyter-widgets/base",
     "model_module_version": "1.2.0",
     "model_name": "LayoutModel",
     "state": {
      "_model_module": "@jupyter-widgets/base",
      "_model_module_version": "1.2.0",
      "_model_name": "LayoutModel",
      "_view_count": null,
      "_view_module": "@jupyter-widgets/base",
      "_view_module_version": "1.2.0",
      "_view_name": "LayoutView",
      "align_content": null,
      "align_items": null,
      "align_self": null,
      "border": null,
      "bottom": null,
      "display": null,
      "flex": null,
      "flex_flow": null,
      "grid_area": null,
      "grid_auto_columns": null,
      "grid_auto_flow": null,
      "grid_auto_rows": null,
      "grid_column": null,
      "grid_gap": null,
      "grid_row": null,
      "grid_template_areas": null,
      "grid_template_columns": null,
      "grid_template_rows": null,
      "height": null,
      "justify_content": null,
      "justify_items": null,
      "left": null,
      "margin": null,
      "max_height": null,
      "max_width": null,
      "min_height": null,
      "min_width": null,
      "object_fit": null,
      "object_position": null,
      "order": null,
      "overflow": null,
      "overflow_x": null,
      "overflow_y": null,
      "padding": null,
      "right": null,
      "top": null,
      "visibility": null,
      "width": null
     }
    },
    "d98db63696bb4737b89ef6e440b957f3": {
     "model_module": "@jupyter-widgets/controls",
     "model_module_version": "1.5.0",
     "model_name": "HTMLModel",
     "state": {
      "_dom_classes": [],
      "_model_module": "@jupyter-widgets/controls",
      "_model_module_version": "1.5.0",
      "_model_name": "HTMLModel",
      "_view_count": null,
      "_view_module": "@jupyter-widgets/controls",
      "_view_module_version": "1.5.0",
      "_view_name": "HTMLView",
      "description": "",
      "description_tooltip": null,
      "layout": "IPY_MODEL_96720bada37044a18dd9b657820174cd",
      "placeholder": "​",
      "style": "IPY_MODEL_949eb92a430649d18999712c04a90a02",
      "value": " 226k/226k [00:00&lt;00:00, 591kB/s]"
     }
    },
    "ef8bbf83b5224efcaf46b479cd6d93e6": {
     "model_module": "@jupyter-widgets/controls",
     "model_module_version": "1.5.0",
     "model_name": "HTMLModel",
     "state": {
      "_dom_classes": [],
      "_model_module": "@jupyter-widgets/controls",
      "_model_module_version": "1.5.0",
      "_model_name": "HTMLModel",
      "_view_count": null,
      "_view_module": "@jupyter-widgets/controls",
      "_view_module_version": "1.5.0",
      "_view_name": "HTMLView",
      "description": "",
      "description_tooltip": null,
      "layout": "IPY_MODEL_9d778e4100294381ab56dd894c5f1472",
      "placeholder": "​",
      "style": "IPY_MODEL_6619148b460b45aba80f6171b73d61df",
      "value": " 511M/511M [00:45&lt;00:00, 9.14MB/s]"
     }
    },
    "f5824d140287416c808bcbc7a24ac124": {
     "model_module": "@jupyter-widgets/controls",
     "model_module_version": "1.5.0",
     "model_name": "DescriptionStyleModel",
     "state": {
      "_model_module": "@jupyter-widgets/controls",
      "_model_module_version": "1.5.0",
      "_model_name": "DescriptionStyleModel",
      "_view_count": null,
      "_view_module": "@jupyter-widgets/base",
      "_view_module_version": "1.2.0",
      "_view_name": "StyleView",
      "description_width": ""
     }
    }
   }
  }
 },
 "nbformat": 4,
 "nbformat_minor": 5
}
