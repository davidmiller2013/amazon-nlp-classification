{
 "cells": [
  {
   "cell_type": "markdown",
   "id": "5bbf5cfd",
   "metadata": {
    "id": "5bbf5cfd"
   },
   "source": [
    "# Initial Data ETL and EDA"
   ]
  },
  {
   "cell_type": "markdown",
   "id": "2b36393e",
   "metadata": {},
   "source": [
    "### 0.0 Import libraries and data"
   ]
  },
  {
   "cell_type": "code",
   "execution_count": 1,
   "id": "3f0320af",
   "metadata": {
    "id": "3f0320af"
   },
   "outputs": [],
   "source": [
    "import warnings\n",
    "\n",
    "warnings.simplefilter(\"ignore\", UserWarning)\n",
    "warnings.simplefilter(\"ignore\", FutureWarning)\n",
    "warnings.simplefilter(\"ignore\", DeprecationWarning)"
   ]
  },
  {
   "cell_type": "code",
   "execution_count": 2,
   "id": "3abac3ad",
   "metadata": {
    "id": "3abac3ad"
   },
   "outputs": [],
   "source": [
    "# Loading\n",
    "import json\n",
    "# import pyspark\n",
    "# from pyspark.sql import SparkSession\n",
    "\n",
    "# Statistics\n",
    "import numpy as np\n",
    "import pandas as pd\n",
    "from scipy.stats import chi2_contingency, norm, skew, kurtosis\n",
    "\n",
    "# Visualization\n",
    "%matplotlib inline\n",
    "import matplotlib.pyplot as plt\n",
    "import seaborn as sns\n",
    "\n",
    "# Basic text processing\n",
    "import html\n",
    "import re\n",
    "import string\n",
    "import pickle\n",
    "# import spacy\n",
    "# from common import vocabulary\n",
    "\n",
    "# NLTK processing\n",
    "import nltk\n",
    "from nltk import word_tokenize, pos_tag\n",
    "from nltk.stem import WordNetLemmatizer\n",
    "from nltk.corpus import wordnet, stopwords\n",
    "from nltk.tokenize import sent_tokenize\n",
    "from nltk.tokenize.treebank import TreebankWordDetokenizer\n",
    "\n",
    "# Additional processing\n",
    "import gensim\n",
    "from gensim.utils import simple_preprocess\n",
    "from gensim.models import Phrases\n",
    "from gensim.models.phrases import Phraser\n",
    "\n",
    "from collections import Counter\n",
    "from unicodedata import normalize\n",
    "# from wordcloud import WordCloud"
   ]
  },
  {
   "cell_type": "markdown",
   "id": "d5024090",
   "metadata": {},
   "source": [
    "Data description: https://s3.amazonaws.com/amazon-reviews-pds/readme.html  \n",
    "Data dictionary and download: https://s3.amazonaws.com/amazon-reviews-pds/tsv/index.txt\n",
    "\n",
    "__Note:__ The potential advantage of this data is that usefulness can be calculated as a proportion rather than an absolute. Whereas the original data only provides the total # of votes for usefulness, this data provides the total votes for usefulness and the total overall votes."
   ]
  },
  {
   "cell_type": "markdown",
   "id": "d7312639",
   "metadata": {},
   "source": [
    "__DATA COLUMNS:__  \n",
    "__marketplace__       - 2 letter country code of the marketplace where the review was written.  \n",
    "__customer_id__       - Random identifier that can be used to aggregate reviews written by a single author.  \n",
    "__review_id__         - The unique ID of the review.  \n",
    "__product_id__        - The unique Product ID the review pertains to. In the multilingual dataset the reviews for the same product in different countries can be grouped by the same product_id.  \n",
    "__product_parent__    - Random identifier that can be used to aggregate reviews for the same product.  \n",
    "__product_title__     - Title of the product.  \n",
    "__product_category__  - Broad product category that can be used to group reviews (also used to group the dataset into coherent parts).  \n",
    "__star_rating__       - The 1-5 star rating of the review.  \n",
    "__helpful_votes__     - Number of helpful votes.  \n",
    "__total_votes__       - Number of total votes the review received.  \n",
    "__vine__              - Review was written as part of the Vine program.  \n",
    "__verified_purchase__ - The review is on a verified purchase.  \n",
    "__review_headline__   - The title of the review.  \n",
    "__review_body__       - The review text.  \n",
    "__review_date__       - The date the review was written.  "
   ]
  },
  {
   "cell_type": "code",
   "execution_count": 4,
   "id": "67467a89",
   "metadata": {},
   "outputs": [],
   "source": [
    "e_path = \"../data/amazon_reviews_us_Electronics_v1_00.tsv\"\n",
    "f_path = \"../data/amazon_reviews_us_Furniture_v1_00.tsv\"\n",
    "s_path = \"../data/amazon_reviews_us_Sports_v1_00.tsv\""
   ]
  },
  {
   "cell_type": "code",
   "execution_count": 81,
   "id": "d3875de0",
   "metadata": {},
   "outputs": [],
   "source": [
    "nrows = 10000\n",
    "\n",
    "electronics = pd.read_csv(e_path,\n",
    "                          sep='\\t',\n",
    "                          nrows=nrows,\n",
    "                          on_bad_lines='skip'\n",
    "                         )\n",
    "\n",
    "furniture = pd.read_csv(f_path,\n",
    "                        sep='\\t',\n",
    "                        nrows=nrows,\n",
    "                        on_bad_lines='skip'\n",
    "                       )\n",
    "\n",
    "sports = pd.read_csv(s_path,\n",
    "                     sep='\\t',\n",
    "                     nrows=nrows,\n",
    "                     on_bad_lines='skip'\n",
    "                    )\n",
    "\n",
    "\n",
    "combined = pd.concat([electronics, furniture, sports])\n",
    "combined.reset_index(drop=True, inplace=True)"
   ]
  },
  {
   "cell_type": "markdown",
   "id": "dd191c2f",
   "metadata": {},
   "source": [
    "### 1.0 Initial data investigation"
   ]
  },
  {
   "cell_type": "code",
   "execution_count": 82,
   "id": "195005f2",
   "metadata": {},
   "outputs": [
    {
     "name": "stdout",
     "output_type": "stream",
     "text": [
      "<class 'pandas.core.frame.DataFrame'>\n",
      "RangeIndex: 30000 entries, 0 to 29999\n",
      "Data columns (total 15 columns):\n",
      " #   Column             Non-Null Count  Dtype \n",
      "---  ------             --------------  ----- \n",
      " 0   marketplace        30000 non-null  object\n",
      " 1   customer_id        30000 non-null  int64 \n",
      " 2   review_id          30000 non-null  object\n",
      " 3   product_id         30000 non-null  object\n",
      " 4   product_parent     30000 non-null  int64 \n",
      " 5   product_title      30000 non-null  object\n",
      " 6   product_category   30000 non-null  object\n",
      " 7   star_rating        30000 non-null  int64 \n",
      " 8   helpful_votes      30000 non-null  int64 \n",
      " 9   total_votes        30000 non-null  int64 \n",
      " 10  vine               30000 non-null  object\n",
      " 11  verified_purchase  30000 non-null  object\n",
      " 12  review_headline    30000 non-null  object\n",
      " 13  review_body        29991 non-null  object\n",
      " 14  review_date        30000 non-null  object\n",
      "dtypes: int64(5), object(10)\n",
      "memory usage: 3.4+ MB\n"
     ]
    }
   ],
   "source": [
    "combined.info()"
   ]
  },
  {
   "cell_type": "code",
   "execution_count": 83,
   "id": "31e4b8a1",
   "metadata": {},
   "outputs": [
    {
     "name": "stdout",
     "output_type": "stream",
     "text": [
      "Of the 30000 reviews in the data, there are 20938 reviews with no votes and 9 with no review text.\n"
     ]
    }
   ],
   "source": [
    "total_reviews = len(combined)\n",
    "no_votes = len(combined[combined['total_votes'] == 0])\n",
    "no_review = len(combined[combined['review_body'].isna()])\n",
    "\n",
    "print(\"Of the {} reviews in the data, there are {} reviews with no votes and {} with no review text.\".format(total_reviews,\n",
    "                                                                                                             no_votes,\n",
    "                                                                                                             no_review\n",
    "                                                                                                            ))"
   ]
  },
  {
   "cell_type": "code",
   "execution_count": 85,
   "id": "87bc147e",
   "metadata": {},
   "outputs": [
    {
     "data": {
      "text/plain": [
       "Y    27975\n",
       "N     2025\n",
       "Name: verified_purchase, dtype: int64"
      ]
     },
     "execution_count": 85,
     "metadata": {},
     "output_type": "execute_result"
    }
   ],
   "source": [
    "combined['verified_purchase'].value_counts()"
   ]
  },
  {
   "cell_type": "markdown",
   "id": "8392bca0",
   "metadata": {},
   "source": [
    "### 2.0 Data processing and additional investigation"
   ]
  },
  {
   "cell_type": "code",
   "execution_count": 86,
   "id": "6079a00f",
   "metadata": {},
   "outputs": [],
   "source": [
    "def data_processing(df, cols):\n",
    "\n",
    "    '''\n",
    "    df: set of review data to be processed\n",
    "    cols: list of columns to keep in processed df\n",
    "    \n",
    "    Takes a dataframe and set of columns\n",
    "    Filters out rows with no review body\n",
    "    Classifies a review as helpful or not helpful based on having helpful votes greater than or less than\n",
    "    80% of total votes.\n",
    "    '''\n",
    "    \n",
    "    df = df[cols]\n",
    "#     df = df[df['total_votes'] > 0]\n",
    "    df = df[df['review_body'].notna()]\n",
    "\n",
    "    df['helpful_ratio'] = df['helpful_votes'] / df['total_votes']\n",
    "    df['helpful_ratio'] = df['helpful_ratio'].fillna(0)\n",
    "    df['helpful'] = df['helpful_ratio'].apply(lambda x: 1 if x >= 0.8 else 0)\n",
    "    return df    "
   ]
  },
  {
   "cell_type": "code",
   "execution_count": 87,
   "id": "aeb6b5a5",
   "metadata": {},
   "outputs": [],
   "source": [
    "cols = [\n",
    "        'product_id',\n",
    "        'product_parent',\n",
    "        'product_category',\n",
    "        'star_rating',\n",
    "        'helpful_votes',\n",
    "        'total_votes',\n",
    "        'verified_purchase',\n",
    "        'review_body'\n",
    "       ]\n",
    "\n",
    "processed_df = data_processing(combined, cols)"
   ]
  },
  {
   "cell_type": "code",
   "execution_count": 88,
   "id": "19095e51",
   "metadata": {},
   "outputs": [
    {
     "data": {
      "text/plain": [
       "0    24294\n",
       "1     5697\n",
       "Name: helpful, dtype: int64"
      ]
     },
     "execution_count": 88,
     "metadata": {},
     "output_type": "execute_result"
    }
   ],
   "source": [
    "processed_df['helpful'].value_counts()"
   ]
  },
  {
   "cell_type": "code",
   "execution_count": 100,
   "id": "0f942929",
   "metadata": {},
   "outputs": [],
   "source": [
    "best_review = processed_df[processed_df['total_votes'] == processed_df['total_votes'].max()]\n",
    "best_index = best_review.index.values[0]"
   ]
  },
  {
   "cell_type": "code",
   "execution_count": 90,
   "id": "758b0539",
   "metadata": {},
   "outputs": [
    {
     "data": {
      "image/png": "[encoded data removed]",
      "text/plain": [
       "<Figure size 455.25x360 with 1 Axes>"
      ]
     },
     "metadata": {
      "needs_background": "light"
     },
     "output_type": "display_data"
    }
   ],
   "source": [
    "sns.lmplot(x='total_votes',\n",
    "           y='helpful_ratio',\n",
    "           hue='product_category',\n",
    "           data=processed_df,\n",
    "           fit_reg=False).set(title='')\n",
    "plt.title('Total Votes vs. Helpful Ratio by Product Category')\n",
    "plt.show()"
   ]
  },
  {
   "cell_type": "code",
   "execution_count": 91,
   "id": "59bdcd3a",
   "metadata": {},
   "outputs": [],
   "source": [
    "def calculate_skew(df, groupby, cols):\n",
    "    '''\n",
    "    df: pandas dataframe\n",
    "    groupby: column on which to group skew statistics\n",
    "    cols: list of columns on which to calculate skew\n",
    "    '''\n",
    "    skews = []\n",
    "    for col in cols:\n",
    "        skews.append(list(df.groupby(groupby)[col].skew().values))\n",
    "    \n",
    "    skews = np.array(skews).T\n",
    "    out_df = pd.DataFrame(data=skews,\n",
    "                          index=df[groupby].unique(),\n",
    "                          columns=cols\n",
    "                         )\n",
    "    return out_df"
   ]
  },
  {
   "cell_type": "code",
   "execution_count": 92,
   "id": "7efc9be9",
   "metadata": {},
   "outputs": [
    {
     "data": {
      "text/html": [
       "<div>\n",
       "<style scoped>\n",
       "    .dataframe tbody tr th:only-of-type {\n",
       "        vertical-align: middle;\n",
       "    }\n",
       "\n",
       "    .dataframe tbody tr th {\n",
       "        vertical-align: top;\n",
       "    }\n",
       "\n",
       "    .dataframe thead th {\n",
       "        text-align: right;\n",
       "    }\n",
       "</style>\n",
       "<table border=\"1\" class=\"dataframe\">\n",
       "  <thead>\n",
       "    <tr style=\"text-align: right;\">\n",
       "      <th></th>\n",
       "      <th>total_votes</th>\n",
       "      <th>helpful_votes</th>\n",
       "      <th>helpful_ratio</th>\n",
       "    </tr>\n",
       "  </thead>\n",
       "  <tbody>\n",
       "    <tr>\n",
       "      <th>Electronics</th>\n",
       "      <td>39.264729</td>\n",
       "      <td>41.739289</td>\n",
       "      <td>1.792668</td>\n",
       "    </tr>\n",
       "    <tr>\n",
       "      <th>Furniture</th>\n",
       "      <td>21.570025</td>\n",
       "      <td>20.970827</td>\n",
       "      <td>0.871770</td>\n",
       "    </tr>\n",
       "    <tr>\n",
       "      <th>Sports</th>\n",
       "      <td>41.183413</td>\n",
       "      <td>46.261031</td>\n",
       "      <td>1.591591</td>\n",
       "    </tr>\n",
       "  </tbody>\n",
       "</table>\n",
       "</div>"
      ],
      "text/plain": [
       "             total_votes  helpful_votes  helpful_ratio\n",
       "Electronics    39.264729      41.739289       1.792668\n",
       "Furniture      21.570025      20.970827       0.871770\n",
       "Sports         41.183413      46.261031       1.591591"
      ]
     },
     "execution_count": 92,
     "metadata": {},
     "output_type": "execute_result"
    }
   ],
   "source": [
    "skew_cols = ['total_votes', 'helpful_votes', 'helpful_ratio']\n",
    "groupby = 'product_category'\n",
    "\n",
    "skew_df = calculate_skew(processed_df, groupby, skew_cols)\n",
    "skew_df"
   ]
  },
  {
   "cell_type": "markdown",
   "id": "ae2af226",
   "metadata": {},
   "source": [
    "### 3.0 Text processing"
   ]
  },
  {
   "cell_type": "code",
   "execution_count": 102,
   "id": "ed625b26",
   "metadata": {},
   "outputs": [
    {
     "data": {
      "text/html": [
       "<div>\n",
       "<style scoped>\n",
       "    .dataframe tbody tr th:only-of-type {\n",
       "        vertical-align: middle;\n",
       "    }\n",
       "\n",
       "    .dataframe tbody tr th {\n",
       "        vertical-align: top;\n",
       "    }\n",
       "\n",
       "    .dataframe thead th {\n",
       "        text-align: right;\n",
       "    }\n",
       "</style>\n",
       "<table border=\"1\" class=\"dataframe\">\n",
       "  <thead>\n",
       "    <tr style=\"text-align: right;\">\n",
       "      <th></th>\n",
       "      <th>product_id</th>\n",
       "      <th>product_parent</th>\n",
       "      <th>product_category</th>\n",
       "      <th>star_rating</th>\n",
       "      <th>helpful_votes</th>\n",
       "      <th>total_votes</th>\n",
       "      <th>verified_purchase</th>\n",
       "      <th>review_body</th>\n",
       "      <th>helpful_ratio</th>\n",
       "      <th>helpful</th>\n",
       "    </tr>\n",
       "  </thead>\n",
       "  <tbody>\n",
       "    <tr>\n",
       "      <th>9267</th>\n",
       "      <td>B00NBEWB4U</td>\n",
       "      <td>920494172</td>\n",
       "      <td>Electronics</td>\n",
       "      <td>5</td>\n",
       "      <td>576</td>\n",
       "      <td>617</td>\n",
       "      <td>Y</td>\n",
       "      <td>**Quick Review***&lt;br /&gt;Overall: 3 out of 5&lt;br ...</td>\n",
       "      <td>0.933549</td>\n",
       "      <td>1</td>\n",
       "    </tr>\n",
       "  </tbody>\n",
       "</table>\n",
       "</div>"
      ],
      "text/plain": [
       "      product_id  product_parent product_category  star_rating  helpful_votes  \\\n",
       "9267  B00NBEWB4U       920494172      Electronics            5            576   \n",
       "\n",
       "      total_votes verified_purchase  \\\n",
       "9267          617                 Y   \n",
       "\n",
       "                                            review_body  helpful_ratio  \\\n",
       "9267  **Quick Review***<br />Overall: 3 out of 5<br ...       0.933549   \n",
       "\n",
       "      helpful  \n",
       "9267        1  "
      ]
     },
     "execution_count": 102,
     "metadata": {},
     "output_type": "execute_result"
    }
   ],
   "source": [
    "best_review"
   ]
  },
  {
   "cell_type": "code",
   "execution_count": 101,
   "id": "12f99d18",
   "metadata": {},
   "outputs": [
    {
     "name": "stdout",
     "output_type": "stream",
     "text": [
      "**Quick Review***<br />Overall: 3 out of 5<br />Sound Quality: 3.5 out of 5<br />Sound Trueness: 2 out of 5<br />Build Quality: 1 out of 5<br />Comfort: 2 out of 5<br />Noise Cancellation: 2 out of 5<br />Style & Appearance: 4 out of 5<br />Value: 5 out of 5<br />***The above are based on comparing these headphones to headphones priced as high as $350. I rated these headphones “5 Stars” on Amazon because they are easily a perfect score in every category when compared to products within a $50-$80 price range.***<br /><br />Full Review:<br />I purchased these headphones after seeing the insane amount of positive reviews over a $15 pair of headphones. My headphones of choice are the studio staple Sony MDR-7506. My pair is, however, wearing out quite a bit. And before investing another $100 on a new pair, I figured I’d give this set a try. Being someone who uses headphones for audio engineering and sound mastering, my preferences are typically geared towards a “clean” or “true” sound rather than a “good” sound. In other words, I’d rather my headphones leave bad recording quality sounding bad rather than making a poor recording sound great. Because of that, I have rated these headphones on both sound “quality” and “trueness” as separate categories. I will be grading these headphones in comparison to headphones of any price range, so the below ratings will not be a reflection of comparing these headphones with comparable models at similar price.<br /><br />Sound Quality: 3 out of 5<br />For casual listening, it does not get too much better than this. The bass hits hard and these headphones can get loud without the slightest distortion. In my experience, sound quality is typically not this high until you are at least in the $60 or higher range of headphones. I won’t go so far as some other reviews have gone in comparing these to Beats Audio or Bose, but such comparisons are not completely misguided. The biggest miss for sound quality overall comes in that the headphones have a very “roomy” or “small” sound to them. Nothing ever feels live or vivid due to a limited EQ range. Where the headphones hit, they hit hard. Unfortunately, you don’t ever hear the full depth of a song with these headphones. Something is missing. Despite this, these are far superior to the sounds of most standard or high end ear buds and on par with upper-mid range ($60-$100) headsets.<br /><br />Sound Trueness: 2 out of 5<br />Without boring anyone not looking to use these for music editing I’ll simply say this: I’ve gotten far less quality with far more money. Yet, these are in no way replacing my Sony MDR-7506 for studio editing anytime soon. The sound is too bass heavy and flat. High ends are a struggle and replaced often with dull mid-tones. Mixes done exclusively with these headphones would likely have weak bass and extreme high ends through other speakers if made to sound neutral through these headphones.<br /><br />Build Quality: 2 out of 5<br />These headphones look and feel like $15 headphones. The plastic feels flimsy and cheap. They are very light, in a bad way, as well. Handling these headphones makes me very worried I will break them quite easily. Time will tell if that plays out to be true. Regardless, for $15, it is not really going to make me very upset if these do break within a year.<br /><br />Comfort: 2 out of 5<br />These headphones are a bit too small to be very comfortable on the ears long. They grip tight and stay put, which is a plus, but the cushions press against the ear causing that “warm” feeling. These headphones are not for marathon uses. I did like that they have a nice cushion on the arch on top of the head and the fact that the buds themselves are capable of pivoting is another nice feature.<br /><br />Noise Cancellation: 2 out of 5<br />This comes down to the size again. Because the headphones do not fully envelope the ear, and rather rest upon the ear, they are not capable of fully muting external noise. These headphones do a pretty decent job at tuning out the world around you however, but it is usually due more to their loudness than their actual noise elimination.<br /><br />Style & Appearance: 4 out of 5<br />Sleek, simple, matte, compact. You can’t go wrong with simple and sweet. They also come with a very nice felt case to carry in, an unexpected bonus for such an inexpensive pair of headphones. Only complaint is, oddly, the lack of branding. A little Amazon logo or something would actually tie this piece together nicely. Without any branding, you feel more like you have a pair of headphones picked up at a convenience store. This will be a positive to some, but for me the absence of branding added to the “cheap” overall feel of the headphones.<br /><br />Value: 5 out of 5<br />This is a no brainer. You won’t get within galaxies of this quality for $15 with any other pair of headphones. Bottom line, if you aren’t going to invest more than $100 in headphones, there is no sense investing in any other than Amazon’s offering here. Period.<br /><br />Overall: 3 out of 5<br />All things considered, these are $15 headphones performing at the level of $100 headphones. You can’t go wrong. Don’t expect to throw away your Bose, Sony, or Beats headphones anytime soon as some reviewers have suggested, but these headphones will give the “average Joe” a pretty compelling reason to not invest in any of the prior-mentioned if you have not already done so.pretty decent job at tuning out the world around you however, but it is usually due more to their loudness than their actual noise elimination.<br /><br />Style & Appearance: 4 out of 5<br />Sleek, simple, matte, compact. You can’t go wrong with simple and sweet. They also come with a very nice felt case to carry in, an unexpected bonus for such an inexpensive pair of headphones. Only complaint is, oddly, the lack of branding. A little Amazon logo or something would actually tie this piece together nicely. Without any branding, you feel more like you have a pair of headphones picked up at a convenience store. This will be a positive to some, but for me the absence of branding added to the “cheap” overall feel of the headphones.<br /><br />Value: 5 out of 5<br />This is a no brainer. You won’t get within galaxies of this quality for $15 with any other pair of headphones. Bottom line, if you aren’t going to invest more than $100 in headphones, there is no sense investing in any other than Amazon’s offering here. Period.<br /><br />Overall: 3 out of 5<br />All things considered, these are $15 headphones performing at the level of $100 headphones. You can’t go wrong. Don’t expect to throw away your Bose, Sony, or Beats headphones anytime soon as some reviewers have suggested, but these headphones will give the “average Joe” a pretty compelling reason to not invest in any of the prior-mentioned if you have not already done so.\n"
     ]
    }
   ],
   "source": [
    "# Example review\n",
    "print(processed_df[\"review_body\"].iloc[best_index])"
   ]
  },
  {
   "cell_type": "markdown",
   "id": "0e2ed9b2",
   "metadata": {},
   "source": [
    "__Clean up text with basic standard procedures - will apply to baseline models and BERT__"
   ]
  },
  {
   "cell_type": "code",
   "execution_count": 103,
   "id": "a275f75a",
   "metadata": {},
   "outputs": [],
   "source": [
    "def text_processing(df):\n",
    "    '''\n",
    "    Take in a dataframe and apply standard text cleaning\n",
    "    '''\n",
    "    \n",
    "    # Remove special characters\n",
    "    pattern = r\"\\&\\#[0-9]+\\;\"\n",
    "\n",
    "    df[\"review_body\"] = df[\"review_body\"].str.replace(pat=pattern, repl=\"\", regex=True)\n",
    "\n",
    "    # Replace linebreak symbol with space\n",
    "    pattern = \"<br />\"\n",
    "    df[\"review_body\"] = df[\"review_body\"].str.replace(pat=pattern, repl=\" \", regex=True)\n",
    "\n",
    "    # Remove extra spaces\n",
    "    pattern = r\"[\\s]+\"\n",
    "    df[\"review_body\"] = df[\"review_body\"].str.replace(pat=pattern, repl=\" \", regex=True)\n",
    "    \n",
    "    return df"
   ]
  },
  {
   "cell_type": "code",
   "execution_count": 105,
   "id": "8b69ee1a",
   "metadata": {},
   "outputs": [
    {
     "name": "stdout",
     "output_type": "stream",
     "text": [
      "**Quick Review*** Overall: 3 out of 5 Sound Quality: 3.5 out of 5 Sound Trueness: 2 out of 5 Build Quality: 1 out of 5 Comfort: 2 out of 5 Noise Cancellation: 2 out of 5 Style & Appearance: 4 out of 5 Value: 5 out of 5 ***The above are based on comparing these headphones to headphones priced as high as $350. I rated these headphones “5 Stars” on Amazon because they are easily a perfect score in every category when compared to products within a $50-$80 price range.*** Full Review: I purchased these headphones after seeing the insane amount of positive reviews over a $15 pair of headphones. My headphones of choice are the studio staple Sony MDR-7506. My pair is, however, wearing out quite a bit. And before investing another $100 on a new pair, I figured I’d give this set a try. Being someone who uses headphones for audio engineering and sound mastering, my preferences are typically geared towards a “clean” or “true” sound rather than a “good” sound. In other words, I’d rather my headphones leave bad recording quality sounding bad rather than making a poor recording sound great. Because of that, I have rated these headphones on both sound “quality” and “trueness” as separate categories. I will be grading these headphones in comparison to headphones of any price range, so the below ratings will not be a reflection of comparing these headphones with comparable models at similar price. Sound Quality: 3 out of 5 For casual listening, it does not get too much better than this. The bass hits hard and these headphones can get loud without the slightest distortion. In my experience, sound quality is typically not this high until you are at least in the $60 or higher range of headphones. I won’t go so far as some other reviews have gone in comparing these to Beats Audio or Bose, but such comparisons are not completely misguided. The biggest miss for sound quality overall comes in that the headphones have a very “roomy” or “small” sound to them. Nothing ever feels live or vivid due to a limited EQ range. Where the headphones hit, they hit hard. Unfortunately, you don’t ever hear the full depth of a song with these headphones. Something is missing. Despite this, these are far superior to the sounds of most standard or high end ear buds and on par with upper-mid range ($60-$100) headsets. Sound Trueness: 2 out of 5 Without boring anyone not looking to use these for music editing I’ll simply say this: I’ve gotten far less quality with far more money. Yet, these are in no way replacing my Sony MDR-7506 for studio editing anytime soon. The sound is too bass heavy and flat. High ends are a struggle and replaced often with dull mid-tones. Mixes done exclusively with these headphones would likely have weak bass and extreme high ends through other speakers if made to sound neutral through these headphones. Build Quality: 2 out of 5 These headphones look and feel like $15 headphones. The plastic feels flimsy and cheap. They are very light, in a bad way, as well. Handling these headphones makes me very worried I will break them quite easily. Time will tell if that plays out to be true. Regardless, for $15, it is not really going to make me very upset if these do break within a year. Comfort: 2 out of 5 These headphones are a bit too small to be very comfortable on the ears long. They grip tight and stay put, which is a plus, but the cushions press against the ear causing that “warm” feeling. These headphones are not for marathon uses. I did like that they have a nice cushion on the arch on top of the head and the fact that the buds themselves are capable of pivoting is another nice feature. Noise Cancellation: 2 out of 5 This comes down to the size again. Because the headphones do not fully envelope the ear, and rather rest upon the ear, they are not capable of fully muting external noise. These headphones do a pretty decent job at tuning out the world around you however, but it is usually due more to their loudness than their actual noise elimination. Style & Appearance: 4 out of 5 Sleek, simple, matte, compact. You can’t go wrong with simple and sweet. They also come with a very nice felt case to carry in, an unexpected bonus for such an inexpensive pair of headphones. Only complaint is, oddly, the lack of branding. A little Amazon logo or something would actually tie this piece together nicely. Without any branding, you feel more like you have a pair of headphones picked up at a convenience store. This will be a positive to some, but for me the absence of branding added to the “cheap” overall feel of the headphones. Value: 5 out of 5 This is a no brainer. You won’t get within galaxies of this quality for $15 with any other pair of headphones. Bottom line, if you aren’t going to invest more than $100 in headphones, there is no sense investing in any other than Amazon’s offering here. Period. Overall: 3 out of 5 All things considered, these are $15 headphones performing at the level of $100 headphones. You can’t go wrong. Don’t expect to throw away your Bose, Sony, or Beats headphones anytime soon as some reviewers have suggested, but these headphones will give the “average Joe” a pretty compelling reason to not invest in any of the prior-mentioned if you have not already done so.pretty decent job at tuning out the world around you however, but it is usually due more to their loudness than their actual noise elimination. Style & Appearance: 4 out of 5 Sleek, simple, matte, compact. You can’t go wrong with simple and sweet. They also come with a very nice felt case to carry in, an unexpected bonus for such an inexpensive pair of headphones. Only complaint is, oddly, the lack of branding. A little Amazon logo or something would actually tie this piece together nicely. Without any branding, you feel more like you have a pair of headphones picked up at a convenience store. This will be a positive to some, but for me the absence of branding added to the “cheap” overall feel of the headphones. Value: 5 out of 5 This is a no brainer. You won’t get within galaxies of this quality for $15 with any other pair of headphones. Bottom line, if you aren’t going to invest more than $100 in headphones, there is no sense investing in any other than Amazon’s offering here. Period. Overall: 3 out of 5 All things considered, these are $15 headphones performing at the level of $100 headphones. You can’t go wrong. Don’t expect to throw away your Bose, Sony, or Beats headphones anytime soon as some reviewers have suggested, but these headphones will give the “average Joe” a pretty compelling reason to not invest in any of the prior-mentioned if you have not already done so.\n"
     ]
    }
   ],
   "source": [
    "clean_df = text_processing(processed_df)\n",
    "\n",
    "# Example review\n",
    "print(processed_df[\"review_body\"].iloc[best_index])"
   ]
  },
  {
   "cell_type": "markdown",
   "id": "3c844d69",
   "metadata": {},
   "source": [
    "__Lemmatization - create a new field called 'review_procesed' to separate what will be used for baselines and BERT__"
   ]
  },
  {
   "cell_type": "code",
   "execution_count": 106,
   "id": "e24ad05c",
   "metadata": {
    "id": "53b78a60"
   },
   "outputs": [],
   "source": [
    "# Use lemmatization to reduce words to their root form\n",
    "\n",
    "# import nltk resources\n",
    "resources = [\"wordnet\", \"stopwords\", \"punkt\", \\\n",
    "             \"averaged_perceptron_tagger\", \"maxent_treebank_pos_tagger\"]\n",
    "\n",
    "for resource in resources:\n",
    "    try:\n",
    "        nltk.data.find(\"tokenizers/\" + resource)\n",
    "    except LookupError:\n",
    "        nltk.download(resource, quiet=True)"
   ]
  },
  {
   "cell_type": "code",
   "execution_count": 109,
   "id": "efafd4ed",
   "metadata": {
    "colab": {
     "base_uri": "https://localhost:8080/"
    },
    "id": "3c16514e",
    "outputId": "bb0b7bce-7746-424b-a337-5ad4449791df"
   },
   "outputs": [
    {
     "name": "stdout",
     "output_type": "stream",
     "text": [
      "CPU times: user 60 s, sys: 1.33 s, total: 1min 1s\n",
      "Wall time: 1min 1s\n"
     ]
    }
   ],
   "source": [
    "%%time\n",
    "# create Lemmatizer object\n",
    "lemma = WordNetLemmatizer()\n",
    "\n",
    "def lemmatize_word(tagged_token):\n",
    "    \"\"\" Returns lemmatized word given its tag\"\"\"\n",
    "    root = []\n",
    "    for token in tagged_token:\n",
    "        tag = token[1][0]\n",
    "        word = token[0]\n",
    "        if tag.startswith('J'):\n",
    "            root.append(lemma.lemmatize(word, wordnet.ADJ))\n",
    "        elif tag.startswith('V'):\n",
    "            root.append(lemma.lemmatize(word, wordnet.VERB))\n",
    "        elif tag.startswith('N'):\n",
    "            root.append(lemma.lemmatize(word, wordnet.NOUN))\n",
    "        elif tag.startswith('R'):\n",
    "            root.append(lemma.lemmatize(word, wordnet.ADV))\n",
    "        else:          \n",
    "            root.append(word)\n",
    "    return root\n",
    "\n",
    "def lemmatize_doc(document):\n",
    "    \"\"\" Tags words then returns sentence with lemmatized words\"\"\"\n",
    "    lemmatized_list = []\n",
    "    tokenized_sent = sent_tokenize(document)\n",
    "    for sentence in tokenized_sent:\n",
    "        no_punctuation = re.sub(r\"[`'\\\",.!?()]\", \" \", sentence)\n",
    "        tokenized_word = word_tokenize(no_punctuation)\n",
    "        tagged_token = pos_tag(tokenized_word)\n",
    "        lemmatized = lemmatize_word(tagged_token)\n",
    "        lemmatized_list.extend(lemmatized)\n",
    "    return \" \".join(lemmatized_list)\n",
    "\n",
    "# apply functions to review text\n",
    "clean_df[\"review_processed\"] = clean_df[\"review_body\"].apply(lambda row: lemmatize_doc(row))"
   ]
  },
  {
   "cell_type": "code",
   "execution_count": 110,
   "id": "7dbc3ebe",
   "metadata": {},
   "outputs": [
    {
     "name": "stdout",
     "output_type": "stream",
     "text": [
      "* * Quick Review * * * Overall : 3 out of 5 Sound Quality : 3 5 out of 5 Sound Trueness : 2 out of 5 Build Quality : 1 out of 5 Comfort : 2 out of 5 Noise Cancellation : 2 out of 5 Style & Appearance : 4 out of 5 Value : 5 out of 5 * * * The above be base on compare these headphone to headphone price as high as $ 350 I rat these headphone “ 5 Stars ” on Amazon because they be easily a perfect score in every category when compare to product within a $ 50- $ 80 price range * * * Full Review : I purchase these headphone after see the insane amount of positive review over a $ 15 pair of headphone My headphone of choice be the studio staple Sony MDR-7506 My pair be however wear out quite a bit And before invest another $ 100 on a new pair I figure I ’ d give this set a try Being someone who use headphone for audio engineering and sound master my preference be typically gear towards a “ clean ” or “ true ” sound rather than a “ good ” sound In other word I ’ d rather my headphone leave bad record quality sound bad rather than make a poor record sound great Because of that I have rat these headphone on both sound “ quality ” and “ trueness ” as separate category I will be grade these headphone in comparison to headphone of any price range so the below rating will not be a reflection of compare these headphone with comparable model at similar price Sound Quality : 3 out of 5 For casual listen it do not get too much good than this The bass hit hard and these headphone can get loud without the slight distortion In my experience sound quality be typically not this high until you be at least in the $ 60 or high range of headphone I win ’ t go so far as some other review have go in compare these to Beats Audio or Bose but such comparison be not completely misguide The big miss for sound quality overall come in that the headphone have a very “ roomy ” or “ small ” sound to them Nothing ever feel live or vivid due to a limited EQ range Where the headphone hit they hit hard Unfortunately you don ’ t ever hear the full depth of a song with these headphone Something be miss Despite this these be far superior to the sound of most standard or high end ear bud and on par with upper-mid range $ 60- $ 100 headset Sound Trueness : 2 out of 5 Without bore anyone not look to use these for music editing I ’ ll simply say this : I ’ ve gotten far less quality with far more money Yet these be in no way replace my Sony MDR-7506 for studio editing anytime soon The sound be too bass heavy and flat High end be a struggle and replace often with dull mid-tones Mixes do exclusively with these headphone would likely have weak bass and extreme high end through other speaker if make to sound neutral through these headphone Build Quality : 2 out of 5 These headphone look and feel like $ 15 headphone The plastic feel flimsy and cheap They be very light in a bad way as well Handling these headphone make me very worry I will break them quite easily Time will tell if that play out to be true Regardless for $ 15 it be not really go to make me very upset if these do break within a year Comfort : 2 out of 5 These headphone be a bit too small to be very comfortable on the ear long They grip tight and stay put which be a plus but the cushion press against the ear causing that “ warm ” feeling These headphone be not for marathon us I do like that they have a nice cushion on the arch on top of the head and the fact that the bud themselves be capable of pivoting be another nice feature Noise Cancellation : 2 out of 5 This come down to the size again Because the headphone do not fully envelope the ear and rather rest upon the ear they be not capable of fully mute external noise These headphone do a pretty decent job at tune out the world around you however but it be usually due more to their loudness than their actual noise elimination Style & Appearance : 4 out of 5 Sleek simple matte compact You can ’ t go wrong with simple and sweet They also come with a very nice felt case to carry in an unexpected bonus for such an inexpensive pair of headphone Only complaint be oddly the lack of branding A little Amazon logo or something would actually tie this piece together nicely Without any branding you feel more like you have a pair of headphone pick up at a convenience store This will be a positive to some but for me the absence of brand add to the “ cheap ” overall feel of the headphone Value : 5 out of 5 This be a no brainer You win ’ t get within galaxy of this quality for $ 15 with any other pair of headphone Bottom line if you aren ’ t go to invest more than $ 100 in headphone there be no sense invest in any other than Amazon ’ s offering here Period Overall : 3 out of 5 All thing consider these be $ 15 headphone perform at the level of $ 100 headphone You can ’ t go wrong Don ’ t expect to throw away your Bose Sony or Beats headphone anytime soon as some reviewer have suggest but these headphone will give the “ average Joe ” a pretty compelling reason to not invest in any of the prior-mentioned if you have not already do so pretty decent job at tune out the world around you however but it be usually due more to their loudness than their actual noise elimination Style & Appearance : 4 out of 5 Sleek simple matte compact You can ’ t go wrong with simple and sweet They also come with a very nice felt case to carry in an unexpected bonus for such an inexpensive pair of headphone Only complaint be oddly the lack of branding A little Amazon logo or something would actually tie this piece together nicely Without any branding you feel more like you have a pair of headphone pick up at a convenience store This will be a positive to some but for me the absence of brand add to the “ cheap ” overall feel of the headphone Value : 5 out of 5 This be a no brainer You win ’ t get within galaxy of this quality for $ 15 with any other pair of headphone Bottom line if you aren ’ t go to invest more than $ 100 in headphone there be no sense invest in any other than Amazon ’ s offering here Period Overall : 3 out of 5 All thing consider these be $ 15 headphone perform at the level of $ 100 headphone You can ’ t go wrong Don ’ t expect to throw away your Bose Sony or Beats headphone anytime soon as some reviewer have suggest but these headphone will give the “ average Joe ” a pretty compelling reason to not invest in any of the prior-mentioned if you have not already do so\n",
      "\n"
     ]
    }
   ],
   "source": [
    "# Example review\n",
    "print(clean_df[\"review_processed\"].iloc[best_index])\n",
    "print(\"\")"
   ]
  },
  {
   "cell_type": "markdown",
   "id": "4ad2609a",
   "metadata": {},
   "source": [
    "__Non-standard text processing decisions - again for baselines, but not BERT__"
   ]
  },
  {
   "cell_type": "code",
   "execution_count": 111,
   "id": "26d0ec64",
   "metadata": {},
   "outputs": [],
   "source": [
    "def text_processing_two(df):\n",
    "\n",
    "    # Remove accents\n",
    "    remove_accent = lambda text: normalize(\"NFKD\", text).encode(\"ascii\", \"ignore\").decode(\"utf-8\", \"ignore\")\n",
    "    df[\"review_processed\"] = df[\"review_processed\"].apply(remove_accent)\n",
    "\n",
    "    # Remove punctuation\n",
    "    pattern = r\"[^\\w\\s]\"\n",
    "    df[\"review_processed\"] = df[\"review_processed\"].str.replace(pat=pattern, repl=\" \", regex=True)\n",
    "\n",
    "    # Convert to lowercase\n",
    "    df[\"review_processed\"] = df[\"review_processed\"].str.lower()\n",
    "\n",
    "    # Remove stopwords\n",
    "    stop_words = stopwords.words(\"english\")\n",
    "    stop_words = [word.replace(\"\\'\", \"\") for word in stop_words]\n",
    "\n",
    "    remove_stop_words = lambda row: \" \".join([token for token in row.split(\" \") if token not in stop_words])\n",
    "    df[\"review_processed\"] = df[\"review_processed\"].apply(remove_stop_words)\n",
    "    \n",
    "    return df\n",
    "\n",
    "clean_df = text_processing_two(clean_df)"
   ]
  },
  {
   "cell_type": "code",
   "execution_count": 112,
   "id": "72561909",
   "metadata": {
    "colab": {
     "base_uri": "https://localhost:8080/"
    },
    "id": "2eeb3903",
    "outputId": "825b7834-7dba-4460-a3ad-d393776c65f5"
   },
   "outputs": [
    {
     "name": "stdout",
     "output_type": "stream",
     "text": [
      "    quick review       overall   3 5 sound quality   3 5 5 sound trueness   2 5 build quality   1 5 comfort   2 5 noise cancellation   2 5 style   appearance   4 5 value   5 5       base compare headphone headphone price high   350 rat headphone  5 stars  amazon easily perfect score every category compare product within   50    80 price range       full review   purchase headphone see insane amount positive review   15 pair headphone headphone choice studio staple sony mdr 7506 pair however wear quite bit invest another   100 new pair figure  give set try someone use headphone audio engineering sound master preference typically gear towards  clean   true  sound rather  good  sound word  rather headphone leave bad record quality sound bad rather make poor record sound great rat headphone sound  quality   trueness  separate category grade headphone comparison headphone price range rating reflection compare headphone comparable model similar price sound quality   3 5 casual listen get much good bass hit hard headphone get loud without slight distortion experience sound quality typically high least   60 high range headphone win  go far review go compare beats audio bose comparison completely misguide big miss sound quality overall come headphone  roomy   small  sound nothing ever feel live vivid due limited eq range headphone hit hit hard unfortunately  ever hear full depth song headphone something miss despite far superior sound standard high end ear bud par upper mid range   60    100 headset sound trueness   2 5 without bore anyone look use music editing  simply say    gotten far less quality far money yet way replace sony mdr 7506 studio editing anytime soon sound bass heavy flat high end struggle replace often dull mid tones mixes exclusively headphone would likely weak bass extreme high end speaker make sound neutral headphone build quality   2 5 headphone look feel like   15 headphone plastic feel flimsy cheap light bad way well handling headphone make worry break quite easily time tell play true regardless   15 really go make upset break within year comfort   2 5 headphone bit small comfortable ear long grip tight stay put plus cushion press ear causing  warm  feeling headphone marathon us like nice cushion arch top head fact bud capable pivoting another nice feature noise cancellation   2 5 come size headphone fully envelope ear rather rest upon ear capable fully mute external noise headphone pretty decent job tune world around however usually due loudness actual noise elimination style   appearance   4 5 sleek simple matte compact  go wrong simple sweet also come nice felt case carry unexpected bonus inexpensive pair headphone complaint oddly lack branding little amazon logo something would actually tie piece together nicely without branding feel like pair headphone pick convenience store positive absence brand add  cheap  overall feel headphone value   5 5 brainer win  get within galaxy quality   15 pair headphone bottom line  go invest   100 headphone sense invest amazon  offering period overall   3 5 thing consider   15 headphone perform level   100 headphone  go wrong  expect throw away bose sony beats headphone anytime soon reviewer suggest headphone give  average joe  pretty compelling reason invest prior mentioned already pretty decent job tune world around however usually due loudness actual noise elimination style   appearance   4 5 sleek simple matte compact  go wrong simple sweet also come nice felt case carry unexpected bonus inexpensive pair headphone complaint oddly lack branding little amazon logo something would actually tie piece together nicely without branding feel like pair headphone pick convenience store positive absence brand add  cheap  overall feel headphone value   5 5 brainer win  get within galaxy quality   15 pair headphone bottom line  go invest   100 headphone sense invest amazon  offering period overall   3 5 thing consider   15 headphone perform level   100 headphone  go wrong  expect throw away bose sony beats headphone anytime soon reviewer suggest headphone give  average joe  pretty compelling reason invest prior mentioned already\n",
      "\n"
     ]
    }
   ],
   "source": [
    "# Example review\n",
    "print(clean_df[\"review_processed\"].iloc[best_index])\n",
    "print(\"\")"
   ]
  },
  {
   "cell_type": "markdown",
   "id": "b125dcee",
   "metadata": {},
   "source": [
    "### 4.0 Output data for modeling"
   ]
  },
  {
   "cell_type": "code",
   "execution_count": 113,
   "id": "17e420de",
   "metadata": {},
   "outputs": [],
   "source": [
    "clean_df.to_csv('../data/combined.csv')"
   ]
  },
  {
   "cell_type": "code",
   "execution_count": null,
   "id": "aee2f260",
   "metadata": {},
   "outputs": [],
   "source": []
  }
 ],
 "metadata": {
  "accelerator": "GPU",
  "colab": {
   "name": "data-processing.ipynb",
   "provenance": []
  },
  "kernelspec": {
   "display_name": "Python 3 (ipykernel)",
   "language": "python",
   "name": "python3"
  },
  "language_info": {
   "codemirror_mode": {
    "name": "ipython",
    "version": 3
   },
   "file_extension": ".py",
   "mimetype": "text/x-python",
   "name": "python",
   "nbconvert_exporter": "python",
   "pygments_lexer": "ipython3",
   "version": "3.8.8"
  },
  "widgets": {
   "application/vnd.jupyter.widget-state+json": {
    "020f62f332c042e79754e5f8ed44bff5": {
     "model_module": "@jupyter-widgets/base",
     "model_module_version": "1.2.0",
     "model_name": "LayoutModel",
     "state": {
      "_model_module": "@jupyter-widgets/base",
      "_model_module_version": "1.2.0",
      "_model_name": "LayoutModel",
      "_view_count": null,
      "_view_module": "@jupyter-widgets/base",
      "_view_module_version": "1.2.0",
      "_view_name": "LayoutView",
      "align_content": null,
      "align_items": null,
      "align_self": null,
      "border": null,
      "bottom": null,
      "display": null,
      "flex": null,
      "flex_flow": null,
      "grid_area": null,
      "grid_auto_columns": null,
      "grid_auto_flow": null,
      "grid_auto_rows": null,
      "grid_column": null,
      "grid_gap": null,
      "grid_row": null,
      "grid_template_areas": null,
      "grid_template_columns": null,
      "grid_template_rows": null,
      "height": null,
      "justify_content": null,
      "justify_items": null,
      "left": null,
      "margin": null,
      "max_height": null,
      "max_width": null,
      "min_height": null,
      "min_width": null,
      "object_fit": null,
      "object_position": null,
      "order": null,
      "overflow": null,
      "overflow_x": null,
      "overflow_y": null,
      "padding": null,
      "right": null,
      "top": null,
      "visibility": null,
      "width": null
     }
    },
    "02603486a9ae4386a9e231110b1245de": {
     "model_module": "@jupyter-widgets/controls",
     "model_module_version": "1.5.0",
     "model_name": "DescriptionStyleModel",
     "state": {
      "_model_module": "@jupyter-widgets/controls",
      "_model_module_version": "1.5.0",
      "_model_name": "DescriptionStyleModel",
      "_view_count": null,
      "_view_module": "@jupyter-widgets/base",
      "_view_module_version": "1.2.0",
      "_view_name": "StyleView",
      "description_width": ""
     }
    },
    "0860a168404f4f1d96b8ef6fe1acc061": {
     "model_module": "@jupyter-widgets/base",
     "model_module_version": "1.2.0",
     "model_name": "LayoutModel",
     "state": {
      "_model_module": "@jupyter-widgets/base",
      "_model_module_version": "1.2.0",
      "_model_name": "LayoutModel",
      "_view_count": null,
      "_view_module": "@jupyter-widgets/base",
      "_view_module_version": "1.2.0",
      "_view_name": "LayoutView",
      "align_content": null,
      "align_items": null,
      "align_self": null,
      "border": null,
      "bottom": null,
      "display": null,
      "flex": null,
      "flex_flow": null,
      "grid_area": null,
      "grid_auto_columns": null,
      "grid_auto_flow": null,
      "grid_auto_rows": null,
      "grid_column": null,
      "grid_gap": null,
      "grid_row": null,
      "grid_template_areas": null,
      "grid_template_columns": null,
      "grid_template_rows": null,
      "height": null,
      "justify_content": null,
      "justify_items": null,
      "left": null,
      "margin": null,
      "max_height": null,
      "max_width": null,
      "min_height": null,
      "min_width": null,
      "object_fit": null,
      "object_position": null,
      "order": null,
      "overflow": null,
      "overflow_x": null,
      "overflow_y": null,
      "padding": null,
      "right": null,
      "top": null,
      "visibility": null,
      "width": null
     }
    },
    "0d77126e84d3477daaf9cb466e274f55": {
     "model_module": "@jupyter-widgets/controls",
     "model_module_version": "1.5.0",
     "model_name": "FloatProgressModel",
     "state": {
      "_dom_classes": [],
      "_model_module": "@jupyter-widgets/controls",
      "_model_module_version": "1.5.0",
      "_model_name": "FloatProgressModel",
      "_view_count": null,
      "_view_module": "@jupyter-widgets/controls",
      "_view_module_version": "1.5.0",
      "_view_name": "ProgressView",
      "bar_style": "success",
      "description": "",
      "description_tooltip": null,
      "layout": "IPY_MODEL_48ec534e41df4b6cb8ab76ad6ee7911d",
      "max": 231508,
      "min": 0,
      "orientation": "horizontal",
      "style": "IPY_MODEL_a01f66f7cc90408892437f2ed1d616f8",
      "value": 231508
     }
    },
    "1119511508184c45b3441c84e44942cd": {
     "model_module": "@jupyter-widgets/controls",
     "model_module_version": "1.5.0",
     "model_name": "FloatProgressModel",
     "state": {
      "_dom_classes": [],
      "_model_module": "@jupyter-widgets/controls",
      "_model_module_version": "1.5.0",
      "_model_name": "FloatProgressModel",
      "_view_count": null,
      "_view_module": "@jupyter-widgets/controls",
      "_view_module_version": "1.5.0",
      "_view_name": "ProgressView",
      "bar_style": "success",
      "description": "",
      "description_tooltip": null,
      "layout": "IPY_MODEL_13ee2169a03e444d91689b505649cbed",
      "max": 570,
      "min": 0,
      "orientation": "horizontal",
      "style": "IPY_MODEL_b5ef1a6d67c0431cb30ebacd296e526a",
      "value": 570
     }
    },
    "11fbb752d78c40f98b730776631b5693": {
     "model_module": "@jupyter-widgets/controls",
     "model_module_version": "1.5.0",
     "model_name": "DescriptionStyleModel",
     "state": {
      "_model_module": "@jupyter-widgets/controls",
      "_model_module_version": "1.5.0",
      "_model_name": "DescriptionStyleModel",
      "_view_count": null,
      "_view_module": "@jupyter-widgets/base",
      "_view_module_version": "1.2.0",
      "_view_name": "StyleView",
      "description_width": ""
     }
    },
    "13ee2169a03e444d91689b505649cbed": {
     "model_module": "@jupyter-widgets/base",
     "model_module_version": "1.2.0",
     "model_name": "LayoutModel",
     "state": {
      "_model_module": "@jupyter-widgets/base",
      "_model_module_version": "1.2.0",
      "_model_name": "LayoutModel",
      "_view_count": null,
      "_view_module": "@jupyter-widgets/base",
      "_view_module_version": "1.2.0",
      "_view_name": "LayoutView",
      "align_content": null,
      "align_items": null,
      "align_self": null,
      "border": null,
      "bottom": null,
      "display": null,
      "flex": null,
      "flex_flow": null,
      "grid_area": null,
      "grid_auto_columns": null,
      "grid_auto_flow": null,
      "grid_auto_rows": null,
      "grid_column": null,
      "grid_gap": null,
      "grid_row": null,
      "grid_template_areas": null,
      "grid_template_columns": null,
      "grid_template_rows": null,
      "height": null,
      "justify_content": null,
      "justify_items": null,
      "left": null,
      "margin": null,
      "max_height": null,
      "max_width": null,
      "min_height": null,
      "min_width": null,
      "object_fit": null,
      "object_position": null,
      "order": null,
      "overflow": null,
      "overflow_x": null,
      "overflow_y": null,
      "padding": null,
      "right": null,
      "top": null,
      "visibility": null,
      "width": null
     }
    },
    "17a01879195744809f0f4bf86af8c8e9": {
     "model_module": "@jupyter-widgets/base",
     "model_module_version": "1.2.0",
     "model_name": "LayoutModel",
     "state": {
      "_model_module": "@jupyter-widgets/base",
      "_model_module_version": "1.2.0",
      "_model_name": "LayoutModel",
      "_view_count": null,
      "_view_module": "@jupyter-widgets/base",
      "_view_module_version": "1.2.0",
      "_view_name": "LayoutView",
      "align_content": null,
      "align_items": null,
      "align_self": null,
      "border": null,
      "bottom": null,
      "display": null,
      "flex": null,
      "flex_flow": null,
      "grid_area": null,
      "grid_auto_columns": null,
      "grid_auto_flow": null,
      "grid_auto_rows": null,
      "grid_column": null,
      "grid_gap": null,
      "grid_row": null,
      "grid_template_areas": null,
      "grid_template_columns": null,
      "grid_template_rows": null,
      "height": null,
      "justify_content": null,
      "justify_items": null,
      "left": null,
      "margin": null,
      "max_height": null,
      "max_width": null,
      "min_height": null,
      "min_width": null,
      "object_fit": null,
      "object_position": null,
      "order": null,
      "overflow": null,
      "overflow_x": null,
      "overflow_y": null,
      "padding": null,
      "right": null,
      "top": null,
      "visibility": null,
      "width": null
     }
    },
    "17d32e41a19447f0a17789d142904586": {
     "model_module": "@jupyter-widgets/controls",
     "model_module_version": "1.5.0",
     "model_name": "HTMLModel",
     "state": {
      "_dom_classes": [],
      "_model_module": "@jupyter-widgets/controls",
      "_model_module_version": "1.5.0",
      "_model_name": "HTMLModel",
      "_view_count": null,
      "_view_module": "@jupyter-widgets/controls",
      "_view_module_version": "1.5.0",
      "_view_name": "HTMLView",
      "description": "",
      "description_tooltip": null,
      "layout": "IPY_MODEL_8f5e6ca0bb8343bf8ea4d9a2e656166c",
      "placeholder": "​",
      "style": "IPY_MODEL_f5824d140287416c808bcbc7a24ac124",
      "value": "Downloading: 100%"
     }
    },
    "1a08d61e88e047c488b396bbd45049a2": {
     "model_module": "@jupyter-widgets/controls",
     "model_module_version": "1.5.0",
     "model_name": "ProgressStyleModel",
     "state": {
      "_model_module": "@jupyter-widgets/controls",
      "_model_module_version": "1.5.0",
      "_model_name": "ProgressStyleModel",
      "_view_count": null,
      "_view_module": "@jupyter-widgets/base",
      "_view_module_version": "1.2.0",
      "_view_name": "StyleView",
      "bar_color": null,
      "description_width": ""
     }
    },
    "1c5d31b8ad664bf187f96b516c4024ee": {
     "model_module": "@jupyter-widgets/base",
     "model_module_version": "1.2.0",
     "model_name": "LayoutModel",
     "state": {
      "_model_module": "@jupyter-widgets/base",
      "_model_module_version": "1.2.0",
      "_model_name": "LayoutModel",
      "_view_count": null,
      "_view_module": "@jupyter-widgets/base",
      "_view_module_version": "1.2.0",
      "_view_name": "LayoutView",
      "align_content": null,
      "align_items": null,
      "align_self": null,
      "border": null,
      "bottom": null,
      "display": null,
      "flex": null,
      "flex_flow": null,
      "grid_area": null,
      "grid_auto_columns": null,
      "grid_auto_flow": null,
      "grid_auto_rows": null,
      "grid_column": null,
      "grid_gap": null,
      "grid_row": null,
      "grid_template_areas": null,
      "grid_template_columns": null,
      "grid_template_rows": null,
      "height": null,
      "justify_content": null,
      "justify_items": null,
      "left": null,
      "margin": null,
      "max_height": null,
      "max_width": null,
      "min_height": null,
      "min_width": null,
      "object_fit": null,
      "object_position": null,
      "order": null,
      "overflow": null,
      "overflow_x": null,
      "overflow_y": null,
      "padding": null,
      "right": null,
      "top": null,
      "visibility": null,
      "width": null
     }
    },
    "2d4ab0bd0aa54ce89f8a43d83384ee48": {
     "model_module": "@jupyter-widgets/controls",
     "model_module_version": "1.5.0",
     "model_name": "ProgressStyleModel",
     "state": {
      "_model_module": "@jupyter-widgets/controls",
      "_model_module_version": "1.5.0",
      "_model_name": "ProgressStyleModel",
      "_view_count": null,
      "_view_module": "@jupyter-widgets/base",
      "_view_module_version": "1.2.0",
      "_view_name": "StyleView",
      "bar_color": null,
      "description_width": ""
     }
    },
    "36ce42e417af40bea840a7df83fcaf31": {
     "model_module": "@jupyter-widgets/controls",
     "model_module_version": "1.5.0",
     "model_name": "FloatProgressModel",
     "state": {
      "_dom_classes": [],
      "_model_module": "@jupyter-widgets/controls",
      "_model_module_version": "1.5.0",
      "_model_name": "FloatProgressModel",
      "_view_count": null,
      "_view_module": "@jupyter-widgets/controls",
      "_view_module_version": "1.5.0",
      "_view_name": "ProgressView",
      "bar_style": "success",
      "description": "",
      "description_tooltip": null,
      "layout": "IPY_MODEL_c89b492faca7411a83482f65df06c45d",
      "max": 536063208,
      "min": 0,
      "orientation": "horizontal",
      "style": "IPY_MODEL_2d4ab0bd0aa54ce89f8a43d83384ee48",
      "value": 536063208
     }
    },
    "3d1196f554bd4a28a1aff86ea032d3c3": {
     "model_module": "@jupyter-widgets/base",
     "model_module_version": "1.2.0",
     "model_name": "LayoutModel",
     "state": {
      "_model_module": "@jupyter-widgets/base",
      "_model_module_version": "1.2.0",
      "_model_name": "LayoutModel",
      "_view_count": null,
      "_view_module": "@jupyter-widgets/base",
      "_view_module_version": "1.2.0",
      "_view_name": "LayoutView",
      "align_content": null,
      "align_items": null,
      "align_self": null,
      "border": null,
      "bottom": null,
      "display": null,
      "flex": null,
      "flex_flow": null,
      "grid_area": null,
      "grid_auto_columns": null,
      "grid_auto_flow": null,
      "grid_auto_rows": null,
      "grid_column": null,
      "grid_gap": null,
      "grid_row": null,
      "grid_template_areas": null,
      "grid_template_columns": null,
      "grid_template_rows": null,
      "height": null,
      "justify_content": null,
      "justify_items": null,
      "left": null,
      "margin": null,
      "max_height": null,
      "max_width": null,
      "min_height": null,
      "min_width": null,
      "object_fit": null,
      "object_position": null,
      "order": null,
      "overflow": null,
      "overflow_x": null,
      "overflow_y": null,
      "padding": null,
      "right": null,
      "top": null,
      "visibility": null,
      "width": null
     }
    },
    "43cf49055dbc4842a1a46fc9df8ee932": {
     "model_module": "@jupyter-widgets/controls",
     "model_module_version": "1.5.0",
     "model_name": "HTMLModel",
     "state": {
      "_dom_classes": [],
      "_model_module": "@jupyter-widgets/controls",
      "_model_module_version": "1.5.0",
      "_model_name": "HTMLModel",
      "_view_count": null,
      "_view_module": "@jupyter-widgets/controls",
      "_view_module_version": "1.5.0",
      "_view_name": "HTMLView",
      "description": "",
      "description_tooltip": null,
      "layout": "IPY_MODEL_90b0e5e62e244172a59225587f5d084d",
      "placeholder": "​",
      "style": "IPY_MODEL_8730c717632a468ea50e5255f8946e82",
      "value": "Downloading: 100%"
     }
    },
    "48ec534e41df4b6cb8ab76ad6ee7911d": {
     "model_module": "@jupyter-widgets/base",
     "model_module_version": "1.2.0",
     "model_name": "LayoutModel",
     "state": {
      "_model_module": "@jupyter-widgets/base",
      "_model_module_version": "1.2.0",
      "_model_name": "LayoutModel",
      "_view_count": null,
      "_view_module": "@jupyter-widgets/base",
      "_view_module_version": "1.2.0",
      "_view_name": "LayoutView",
      "align_content": null,
      "align_items": null,
      "align_self": null,
      "border": null,
      "bottom": null,
      "display": null,
      "flex": null,
      "flex_flow": null,
      "grid_area": null,
      "grid_auto_columns": null,
      "grid_auto_flow": null,
      "grid_auto_rows": null,
      "grid_column": null,
      "grid_gap": null,
      "grid_row": null,
      "grid_template_areas": null,
      "grid_template_columns": null,
      "grid_template_rows": null,
      "height": null,
      "justify_content": null,
      "justify_items": null,
      "left": null,
      "margin": null,
      "max_height": null,
      "max_width": null,
      "min_height": null,
      "min_width": null,
      "object_fit": null,
      "object_position": null,
      "order": null,
      "overflow": null,
      "overflow_x": null,
      "overflow_y": null,
      "padding": null,
      "right": null,
      "top": null,
      "visibility": null,
      "width": null
     }
    },
    "4f5cab468d1d41999f10657f7b79b50a": {
     "model_module": "@jupyter-widgets/controls",
     "model_module_version": "1.5.0",
     "model_name": "HTMLModel",
     "state": {
      "_dom_classes": [],
      "_model_module": "@jupyter-widgets/controls",
      "_model_module_version": "1.5.0",
      "_model_name": "HTMLModel",
      "_view_count": null,
      "_view_module": "@jupyter-widgets/controls",
      "_view_module_version": "1.5.0",
      "_view_name": "HTMLView",
      "description": "",
      "description_tooltip": null,
      "layout": "IPY_MODEL_1c5d31b8ad664bf187f96b516c4024ee",
      "placeholder": "​",
      "style": "IPY_MODEL_11fbb752d78c40f98b730776631b5693",
      "value": "Downloading: 100%"
     }
    },
    "5031e91548e64613a736ee45e1b41b9d": {
     "model_module": "@jupyter-widgets/base",
     "model_module_version": "1.2.0",
     "model_name": "LayoutModel",
     "state": {
      "_model_module": "@jupyter-widgets/base",
      "_model_module_version": "1.2.0",
      "_model_name": "LayoutModel",
      "_view_count": null,
      "_view_module": "@jupyter-widgets/base",
      "_view_module_version": "1.2.0",
      "_view_name": "LayoutView",
      "align_content": null,
      "align_items": null,
      "align_self": null,
      "border": null,
      "bottom": null,
      "display": null,
      "flex": null,
      "flex_flow": null,
      "grid_area": null,
      "grid_auto_columns": null,
      "grid_auto_flow": null,
      "grid_auto_rows": null,
      "grid_column": null,
      "grid_gap": null,
      "grid_row": null,
      "grid_template_areas": null,
      "grid_template_columns": null,
      "grid_template_rows": null,
      "height": null,
      "justify_content": null,
      "justify_items": null,
      "left": null,
      "margin": null,
      "max_height": null,
      "max_width": null,
      "min_height": null,
      "min_width": null,
      "object_fit": null,
      "object_position": null,
      "order": null,
      "overflow": null,
      "overflow_x": null,
      "overflow_y": null,
      "padding": null,
      "right": null,
      "top": null,
      "visibility": null,
      "width": null
     }
    },
    "62f2609230e44f86a4a48d96a2460215": {
     "model_module": "@jupyter-widgets/controls",
     "model_module_version": "1.5.0",
     "model_name": "HBoxModel",
     "state": {
      "_dom_classes": [],
      "_model_module": "@jupyter-widgets/controls",
      "_model_module_version": "1.5.0",
      "_model_name": "HBoxModel",
      "_view_count": null,
      "_view_module": "@jupyter-widgets/controls",
      "_view_module_version": "1.5.0",
      "_view_name": "HBoxView",
      "box_style": "",
      "children": [
       "IPY_MODEL_4f5cab468d1d41999f10657f7b79b50a",
       "IPY_MODEL_0d77126e84d3477daaf9cb466e274f55",
       "IPY_MODEL_d98db63696bb4737b89ef6e440b957f3"
      ],
      "layout": "IPY_MODEL_a83f5aa55c4a433283a0190692243bb4"
     }
    },
    "633a6bc9034b4b52a4f5ceb0e213349c": {
     "model_module": "@jupyter-widgets/controls",
     "model_module_version": "1.5.0",
     "model_name": "HTMLModel",
     "state": {
      "_dom_classes": [],
      "_model_module": "@jupyter-widgets/controls",
      "_model_module_version": "1.5.0",
      "_model_name": "HTMLModel",
      "_view_count": null,
      "_view_module": "@jupyter-widgets/controls",
      "_view_module_version": "1.5.0",
      "_view_name": "HTMLView",
      "description": "",
      "description_tooltip": null,
      "layout": "IPY_MODEL_3d1196f554bd4a28a1aff86ea032d3c3",
      "placeholder": "​",
      "style": "IPY_MODEL_02603486a9ae4386a9e231110b1245de",
      "value": " 570/570 [00:00&lt;00:00, 3.17kB/s]"
     }
    },
    "64799d9b7ea74fb2b23f1b811ff7c4e6": {
     "model_module": "@jupyter-widgets/controls",
     "model_module_version": "1.5.0",
     "model_name": "HTMLModel",
     "state": {
      "_dom_classes": [],
      "_model_module": "@jupyter-widgets/controls",
      "_model_module_version": "1.5.0",
      "_model_name": "HTMLModel",
      "_view_count": null,
      "_view_module": "@jupyter-widgets/controls",
      "_view_module_version": "1.5.0",
      "_view_name": "HTMLView",
      "description": "",
      "description_tooltip": null,
      "layout": "IPY_MODEL_bc3dd61b8c5d4cfca12cb315bb8378f7",
      "placeholder": "​",
      "style": "IPY_MODEL_82dd2fae32844f77a1c7299eb2a8fdae",
      "value": "Downloading: 100%"
     }
    },
    "6619148b460b45aba80f6171b73d61df": {
     "model_module": "@jupyter-widgets/controls",
     "model_module_version": "1.5.0",
     "model_name": "DescriptionStyleModel",
     "state": {
      "_model_module": "@jupyter-widgets/controls",
      "_model_module_version": "1.5.0",
      "_model_name": "DescriptionStyleModel",
      "_view_count": null,
      "_view_module": "@jupyter-widgets/base",
      "_view_module_version": "1.2.0",
      "_view_name": "StyleView",
      "description_width": ""
     }
    },
    "6f685d96196f4e3abb0c6e08fe5aee92": {
     "model_module": "@jupyter-widgets/controls",
     "model_module_version": "1.5.0",
     "model_name": "HBoxModel",
     "state": {
      "_dom_classes": [],
      "_model_module": "@jupyter-widgets/controls",
      "_model_module_version": "1.5.0",
      "_model_name": "HBoxModel",
      "_view_count": null,
      "_view_module": "@jupyter-widgets/controls",
      "_view_module_version": "1.5.0",
      "_view_name": "HBoxView",
      "box_style": "",
      "children": [
       "IPY_MODEL_43cf49055dbc4842a1a46fc9df8ee932",
       "IPY_MODEL_1119511508184c45b3441c84e44942cd",
       "IPY_MODEL_633a6bc9034b4b52a4f5ceb0e213349c"
      ],
      "layout": "IPY_MODEL_0860a168404f4f1d96b8ef6fe1acc061"
     }
    },
    "7c7d53c256a4431d987de57f0287e0a1": {
     "model_module": "@jupyter-widgets/controls",
     "model_module_version": "1.5.0",
     "model_name": "HBoxModel",
     "state": {
      "_dom_classes": [],
      "_model_module": "@jupyter-widgets/controls",
      "_model_module_version": "1.5.0",
      "_model_name": "HBoxModel",
      "_view_count": null,
      "_view_module": "@jupyter-widgets/controls",
      "_view_module_version": "1.5.0",
      "_view_name": "HBoxView",
      "box_style": "",
      "children": [
       "IPY_MODEL_17d32e41a19447f0a17789d142904586",
       "IPY_MODEL_36ce42e417af40bea840a7df83fcaf31",
       "IPY_MODEL_ef8bbf83b5224efcaf46b479cd6d93e6"
      ],
      "layout": "IPY_MODEL_d959e779476a4f79b5d8f06703621c85"
     }
    },
    "82dd2fae32844f77a1c7299eb2a8fdae": {
     "model_module": "@jupyter-widgets/controls",
     "model_module_version": "1.5.0",
     "model_name": "DescriptionStyleModel",
     "state": {
      "_model_module": "@jupyter-widgets/controls",
      "_model_module_version": "1.5.0",
      "_model_name": "DescriptionStyleModel",
      "_view_count": null,
      "_view_module": "@jupyter-widgets/base",
      "_view_module_version": "1.2.0",
      "_view_name": "StyleView",
      "description_width": ""
     }
    },
    "8730c717632a468ea50e5255f8946e82": {
     "model_module": "@jupyter-widgets/controls",
     "model_module_version": "1.5.0",
     "model_name": "DescriptionStyleModel",
     "state": {
      "_model_module": "@jupyter-widgets/controls",
      "_model_module_version": "1.5.0",
      "_model_name": "DescriptionStyleModel",
      "_view_count": null,
      "_view_module": "@jupyter-widgets/base",
      "_view_module_version": "1.2.0",
      "_view_name": "StyleView",
      "description_width": ""
     }
    },
    "880b22c5d3f94d878d0b457a4119bdb9": {
     "model_module": "@jupyter-widgets/controls",
     "model_module_version": "1.5.0",
     "model_name": "DescriptionStyleModel",
     "state": {
      "_model_module": "@jupyter-widgets/controls",
      "_model_module_version": "1.5.0",
      "_model_name": "DescriptionStyleModel",
      "_view_count": null,
      "_view_module": "@jupyter-widgets/base",
      "_view_module_version": "1.2.0",
      "_view_name": "StyleView",
      "description_width": ""
     }
    },
    "8f5e6ca0bb8343bf8ea4d9a2e656166c": {
     "model_module": "@jupyter-widgets/base",
     "model_module_version": "1.2.0",
     "model_name": "LayoutModel",
     "state": {
      "_model_module": "@jupyter-widgets/base",
      "_model_module_version": "1.2.0",
      "_model_name": "LayoutModel",
      "_view_count": null,
      "_view_module": "@jupyter-widgets/base",
      "_view_module_version": "1.2.0",
      "_view_name": "LayoutView",
      "align_content": null,
      "align_items": null,
      "align_self": null,
      "border": null,
      "bottom": null,
      "display": null,
      "flex": null,
      "flex_flow": null,
      "grid_area": null,
      "grid_auto_columns": null,
      "grid_auto_flow": null,
      "grid_auto_rows": null,
      "grid_column": null,
      "grid_gap": null,
      "grid_row": null,
      "grid_template_areas": null,
      "grid_template_columns": null,
      "grid_template_rows": null,
      "height": null,
      "justify_content": null,
      "justify_items": null,
      "left": null,
      "margin": null,
      "max_height": null,
      "max_width": null,
      "min_height": null,
      "min_width": null,
      "object_fit": null,
      "object_position": null,
      "order": null,
      "overflow": null,
      "overflow_x": null,
      "overflow_y": null,
      "padding": null,
      "right": null,
      "top": null,
      "visibility": null,
      "width": null
     }
    },
    "90b0e5e62e244172a59225587f5d084d": {
     "model_module": "@jupyter-widgets/base",
     "model_module_version": "1.2.0",
     "model_name": "LayoutModel",
     "state": {
      "_model_module": "@jupyter-widgets/base",
      "_model_module_version": "1.2.0",
      "_model_name": "LayoutModel",
      "_view_count": null,
      "_view_module": "@jupyter-widgets/base",
      "_view_module_version": "1.2.0",
      "_view_name": "LayoutView",
      "align_content": null,
      "align_items": null,
      "align_self": null,
      "border": null,
      "bottom": null,
      "display": null,
      "flex": null,
      "flex_flow": null,
      "grid_area": null,
      "grid_auto_columns": null,
      "grid_auto_flow": null,
      "grid_auto_rows": null,
      "grid_column": null,
      "grid_gap": null,
      "grid_row": null,
      "grid_template_areas": null,
      "grid_template_columns": null,
      "grid_template_rows": null,
      "height": null,
      "justify_content": null,
      "justify_items": null,
      "left": null,
      "margin": null,
      "max_height": null,
      "max_width": null,
      "min_height": null,
      "min_width": null,
      "object_fit": null,
      "object_position": null,
      "order": null,
      "overflow": null,
      "overflow_x": null,
      "overflow_y": null,
      "padding": null,
      "right": null,
      "top": null,
      "visibility": null,
      "width": null
     }
    },
    "949eb92a430649d18999712c04a90a02": {
     "model_module": "@jupyter-widgets/controls",
     "model_module_version": "1.5.0",
     "model_name": "DescriptionStyleModel",
     "state": {
      "_model_module": "@jupyter-widgets/controls",
      "_model_module_version": "1.5.0",
      "_model_name": "DescriptionStyleModel",
      "_view_count": null,
      "_view_module": "@jupyter-widgets/base",
      "_view_module_version": "1.2.0",
      "_view_name": "StyleView",
      "description_width": ""
     }
    },
    "96720bada37044a18dd9b657820174cd": {
     "model_module": "@jupyter-widgets/base",
     "model_module_version": "1.2.0",
     "model_name": "LayoutModel",
     "state": {
      "_model_module": "@jupyter-widgets/base",
      "_model_module_version": "1.2.0",
      "_model_name": "LayoutModel",
      "_view_count": null,
      "_view_module": "@jupyter-widgets/base",
      "_view_module_version": "1.2.0",
      "_view_name": "LayoutView",
      "align_content": null,
      "align_items": null,
      "align_self": null,
      "border": null,
      "bottom": null,
      "display": null,
      "flex": null,
      "flex_flow": null,
      "grid_area": null,
      "grid_auto_columns": null,
      "grid_auto_flow": null,
      "grid_auto_rows": null,
      "grid_column": null,
      "grid_gap": null,
      "grid_row": null,
      "grid_template_areas": null,
      "grid_template_columns": null,
      "grid_template_rows": null,
      "height": null,
      "justify_content": null,
      "justify_items": null,
      "left": null,
      "margin": null,
      "max_height": null,
      "max_width": null,
      "min_height": null,
      "min_width": null,
      "object_fit": null,
      "object_position": null,
      "order": null,
      "overflow": null,
      "overflow_x": null,
      "overflow_y": null,
      "padding": null,
      "right": null,
      "top": null,
      "visibility": null,
      "width": null
     }
    },
    "9d778e4100294381ab56dd894c5f1472": {
     "model_module": "@jupyter-widgets/base",
     "model_module_version": "1.2.0",
     "model_name": "LayoutModel",
     "state": {
      "_model_module": "@jupyter-widgets/base",
      "_model_module_version": "1.2.0",
      "_model_name": "LayoutModel",
      "_view_count": null,
      "_view_module": "@jupyter-widgets/base",
      "_view_module_version": "1.2.0",
      "_view_name": "LayoutView",
      "align_content": null,
      "align_items": null,
      "align_self": null,
      "border": null,
      "bottom": null,
      "display": null,
      "flex": null,
      "flex_flow": null,
      "grid_area": null,
      "grid_auto_columns": null,
      "grid_auto_flow": null,
      "grid_auto_rows": null,
      "grid_column": null,
      "grid_gap": null,
      "grid_row": null,
      "grid_template_areas": null,
      "grid_template_columns": null,
      "grid_template_rows": null,
      "height": null,
      "justify_content": null,
      "justify_items": null,
      "left": null,
      "margin": null,
      "max_height": null,
      "max_width": null,
      "min_height": null,
      "min_width": null,
      "object_fit": null,
      "object_position": null,
      "order": null,
      "overflow": null,
      "overflow_x": null,
      "overflow_y": null,
      "padding": null,
      "right": null,
      "top": null,
      "visibility": null,
      "width": null
     }
    },
    "a01f66f7cc90408892437f2ed1d616f8": {
     "model_module": "@jupyter-widgets/controls",
     "model_module_version": "1.5.0",
     "model_name": "ProgressStyleModel",
     "state": {
      "_model_module": "@jupyter-widgets/controls",
      "_model_module_version": "1.5.0",
      "_model_name": "ProgressStyleModel",
      "_view_count": null,
      "_view_module": "@jupyter-widgets/base",
      "_view_module_version": "1.2.0",
      "_view_name": "StyleView",
      "bar_color": null,
      "description_width": ""
     }
    },
    "a83f5aa55c4a433283a0190692243bb4": {
     "model_module": "@jupyter-widgets/base",
     "model_module_version": "1.2.0",
     "model_name": "LayoutModel",
     "state": {
      "_model_module": "@jupyter-widgets/base",
      "_model_module_version": "1.2.0",
      "_model_name": "LayoutModel",
      "_view_count": null,
      "_view_module": "@jupyter-widgets/base",
      "_view_module_version": "1.2.0",
      "_view_name": "LayoutView",
      "align_content": null,
      "align_items": null,
      "align_self": null,
      "border": null,
      "bottom": null,
      "display": null,
      "flex": null,
      "flex_flow": null,
      "grid_area": null,
      "grid_auto_columns": null,
      "grid_auto_flow": null,
      "grid_auto_rows": null,
      "grid_column": null,
      "grid_gap": null,
      "grid_row": null,
      "grid_template_areas": null,
      "grid_template_columns": null,
      "grid_template_rows": null,
      "height": null,
      "justify_content": null,
      "justify_items": null,
      "left": null,
      "margin": null,
      "max_height": null,
      "max_width": null,
      "min_height": null,
      "min_width": null,
      "object_fit": null,
      "object_position": null,
      "order": null,
      "overflow": null,
      "overflow_x": null,
      "overflow_y": null,
      "padding": null,
      "right": null,
      "top": null,
      "visibility": null,
      "width": null
     }
    },
    "af19196510b74527a5bf5d8f98850246": {
     "model_module": "@jupyter-widgets/controls",
     "model_module_version": "1.5.0",
     "model_name": "HTMLModel",
     "state": {
      "_dom_classes": [],
      "_model_module": "@jupyter-widgets/controls",
      "_model_module_version": "1.5.0",
      "_model_name": "HTMLModel",
      "_view_count": null,
      "_view_module": "@jupyter-widgets/controls",
      "_view_module_version": "1.5.0",
      "_view_name": "HTMLView",
      "description": "",
      "description_tooltip": null,
      "layout": "IPY_MODEL_5031e91548e64613a736ee45e1b41b9d",
      "placeholder": "​",
      "style": "IPY_MODEL_880b22c5d3f94d878d0b457a4119bdb9",
      "value": " 28.0/28.0 [00:00&lt;00:00, 758B/s]"
     }
    },
    "b5ef1a6d67c0431cb30ebacd296e526a": {
     "model_module": "@jupyter-widgets/controls",
     "model_module_version": "1.5.0",
     "model_name": "ProgressStyleModel",
     "state": {
      "_model_module": "@jupyter-widgets/controls",
      "_model_module_version": "1.5.0",
      "_model_name": "ProgressStyleModel",
      "_view_count": null,
      "_view_module": "@jupyter-widgets/base",
      "_view_module_version": "1.2.0",
      "_view_name": "StyleView",
      "bar_color": null,
      "description_width": ""
     }
    },
    "bc3dd61b8c5d4cfca12cb315bb8378f7": {
     "model_module": "@jupyter-widgets/base",
     "model_module_version": "1.2.0",
     "model_name": "LayoutModel",
     "state": {
      "_model_module": "@jupyter-widgets/base",
      "_model_module_version": "1.2.0",
      "_model_name": "LayoutModel",
      "_view_count": null,
      "_view_module": "@jupyter-widgets/base",
      "_view_module_version": "1.2.0",
      "_view_name": "LayoutView",
      "align_content": null,
      "align_items": null,
      "align_self": null,
      "border": null,
      "bottom": null,
      "display": null,
      "flex": null,
      "flex_flow": null,
      "grid_area": null,
      "grid_auto_columns": null,
      "grid_auto_flow": null,
      "grid_auto_rows": null,
      "grid_column": null,
      "grid_gap": null,
      "grid_row": null,
      "grid_template_areas": null,
      "grid_template_columns": null,
      "grid_template_rows": null,
      "height": null,
      "justify_content": null,
      "justify_items": null,
      "left": null,
      "margin": null,
      "max_height": null,
      "max_width": null,
      "min_height": null,
      "min_width": null,
      "object_fit": null,
      "object_position": null,
      "order": null,
      "overflow": null,
      "overflow_x": null,
      "overflow_y": null,
      "padding": null,
      "right": null,
      "top": null,
      "visibility": null,
      "width": null
     }
    },
    "c351d8ef2d754bb7b2cab3ec781e108c": {
     "model_module": "@jupyter-widgets/controls",
     "model_module_version": "1.5.0",
     "model_name": "HBoxModel",
     "state": {
      "_dom_classes": [],
      "_model_module": "@jupyter-widgets/controls",
      "_model_module_version": "1.5.0",
      "_model_name": "HBoxModel",
      "_view_count": null,
      "_view_module": "@jupyter-widgets/controls",
      "_view_module_version": "1.5.0",
      "_view_name": "HBoxView",
      "box_style": "",
      "children": [
       "IPY_MODEL_64799d9b7ea74fb2b23f1b811ff7c4e6",
       "IPY_MODEL_c995702a012742428f0ff4359d32a6c2",
       "IPY_MODEL_af19196510b74527a5bf5d8f98850246"
      ],
      "layout": "IPY_MODEL_020f62f332c042e79754e5f8ed44bff5"
     }
    },
    "c89b492faca7411a83482f65df06c45d": {
     "model_module": "@jupyter-widgets/base",
     "model_module_version": "1.2.0",
     "model_name": "LayoutModel",
     "state": {
      "_model_module": "@jupyter-widgets/base",
      "_model_module_version": "1.2.0",
      "_model_name": "LayoutModel",
      "_view_count": null,
      "_view_module": "@jupyter-widgets/base",
      "_view_module_version": "1.2.0",
      "_view_name": "LayoutView",
      "align_content": null,
      "align_items": null,
      "align_self": null,
      "border": null,
      "bottom": null,
      "display": null,
      "flex": null,
      "flex_flow": null,
      "grid_area": null,
      "grid_auto_columns": null,
      "grid_auto_flow": null,
      "grid_auto_rows": null,
      "grid_column": null,
      "grid_gap": null,
      "grid_row": null,
      "grid_template_areas": null,
      "grid_template_columns": null,
      "grid_template_rows": null,
      "height": null,
      "justify_content": null,
      "justify_items": null,
      "left": null,
      "margin": null,
      "max_height": null,
      "max_width": null,
      "min_height": null,
      "min_width": null,
      "object_fit": null,
      "object_position": null,
      "order": null,
      "overflow": null,
      "overflow_x": null,
      "overflow_y": null,
      "padding": null,
      "right": null,
      "top": null,
      "visibility": null,
      "width": null
     }
    },
    "c995702a012742428f0ff4359d32a6c2": {
     "model_module": "@jupyter-widgets/controls",
     "model_module_version": "1.5.0",
     "model_name": "FloatProgressModel",
     "state": {
      "_dom_classes": [],
      "_model_module": "@jupyter-widgets/controls",
      "_model_module_version": "1.5.0",
      "_model_name": "FloatProgressModel",
      "_view_count": null,
      "_view_module": "@jupyter-widgets/controls",
      "_view_module_version": "1.5.0",
      "_view_name": "ProgressView",
      "bar_style": "success",
      "description": "",
      "description_tooltip": null,
      "layout": "IPY_MODEL_17a01879195744809f0f4bf86af8c8e9",
      "max": 28,
      "min": 0,
      "orientation": "horizontal",
      "style": "IPY_MODEL_1a08d61e88e047c488b396bbd45049a2",
      "value": 28
     }
    },
    "d959e779476a4f79b5d8f06703621c85": {
     "model_module": "@jupyter-widgets/base",
     "model_module_version": "1.2.0",
     "model_name": "LayoutModel",
     "state": {
      "_model_module": "@jupyter-widgets/base",
      "_model_module_version": "1.2.0",
      "_model_name": "LayoutModel",
      "_view_count": null,
      "_view_module": "@jupyter-widgets/base",
      "_view_module_version": "1.2.0",
      "_view_name": "LayoutView",
      "align_content": null,
      "align_items": null,
      "align_self": null,
      "border": null,
      "bottom": null,
      "display": null,
      "flex": null,
      "flex_flow": null,
      "grid_area": null,
      "grid_auto_columns": null,
      "grid_auto_flow": null,
      "grid_auto_rows": null,
      "grid_column": null,
      "grid_gap": null,
      "grid_row": null,
      "grid_template_areas": null,
      "grid_template_columns": null,
      "grid_template_rows": null,
      "height": null,
      "justify_content": null,
      "justify_items": null,
      "left": null,
      "margin": null,
      "max_height": null,
      "max_width": null,
      "min_height": null,
      "min_width": null,
      "object_fit": null,
      "object_position": null,
      "order": null,
      "overflow": null,
      "overflow_x": null,
      "overflow_y": null,
      "padding": null,
      "right": null,
      "top": null,
      "visibility": null,
      "width": null
     }
    },
    "d98db63696bb4737b89ef6e440b957f3": {
     "model_module": "@jupyter-widgets/controls",
     "model_module_version": "1.5.0",
     "model_name": "HTMLModel",
     "state": {
      "_dom_classes": [],
      "_model_module": "@jupyter-widgets/controls",
      "_model_module_version": "1.5.0",
      "_model_name": "HTMLModel",
      "_view_count": null,
      "_view_module": "@jupyter-widgets/controls",
      "_view_module_version": "1.5.0",
      "_view_name": "HTMLView",
      "description": "",
      "description_tooltip": null,
      "layout": "IPY_MODEL_96720bada37044a18dd9b657820174cd",
      "placeholder": "​",
      "style": "IPY_MODEL_949eb92a430649d18999712c04a90a02",
      "value": " 226k/226k [00:00&lt;00:00, 591kB/s]"
     }
    },
    "ef8bbf83b5224efcaf46b479cd6d93e6": {
     "model_module": "@jupyter-widgets/controls",
     "model_module_version": "1.5.0",
     "model_name": "HTMLModel",
     "state": {
      "_dom_classes": [],
      "_model_module": "@jupyter-widgets/controls",
      "_model_module_version": "1.5.0",
      "_model_name": "HTMLModel",
      "_view_count": null,
      "_view_module": "@jupyter-widgets/controls",
      "_view_module_version": "1.5.0",
      "_view_name": "HTMLView",
      "description": "",
      "description_tooltip": null,
      "layout": "IPY_MODEL_9d778e4100294381ab56dd894c5f1472",
      "placeholder": "​",
      "style": "IPY_MODEL_6619148b460b45aba80f6171b73d61df",
      "value": " 511M/511M [00:45&lt;00:00, 9.14MB/s]"
     }
    },
    "f5824d140287416c808bcbc7a24ac124": {
     "model_module": "@jupyter-widgets/controls",
     "model_module_version": "1.5.0",
     "model_name": "DescriptionStyleModel",
     "state": {
      "_model_module": "@jupyter-widgets/controls",
      "_model_module_version": "1.5.0",
      "_model_name": "DescriptionStyleModel",
      "_view_count": null,
      "_view_module": "@jupyter-widgets/base",
      "_view_module_version": "1.2.0",
      "_view_name": "StyleView",
      "description_width": ""
     }
    }
   }
  }
 },
 "nbformat": 4,
 "nbformat_minor": 5
}
