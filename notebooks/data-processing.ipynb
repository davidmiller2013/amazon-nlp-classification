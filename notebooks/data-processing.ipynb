{
 "cells": [
  {
   "cell_type": "markdown",
   "id": "5bbf5cfd",
   "metadata": {
    "id": "5bbf5cfd"
   },
   "source": [
    "# Initial Data ETL and EDA"
   ]
  },
  {
   "cell_type": "markdown",
   "id": "148e4541",
   "metadata": {
    "id": "148e4541"
   },
   "source": [
    "## 2. Data Exploration"
   ]
  },
  {
   "cell_type": "code",
   "execution_count": 1,
   "id": "3f0320af",
   "metadata": {
    "id": "3f0320af"
   },
   "outputs": [],
   "source": [
    "import warnings\n",
    "\n",
    "warnings.simplefilter(\"ignore\", UserWarning)\n",
    "warnings.simplefilter(\"ignore\", FutureWarning)\n",
    "warnings.simplefilter(\"ignore\", DeprecationWarning)"
   ]
  },
  {
   "cell_type": "code",
   "execution_count": 2,
   "id": "3abac3ad",
   "metadata": {
    "id": "3abac3ad"
   },
   "outputs": [],
   "source": [
    "# Loading\n",
    "import json\n",
    "# import pyspark\n",
    "# from pyspark.sql import SparkSession\n",
    "\n",
    "# Statistics\n",
    "import numpy as np\n",
    "import pandas as pd\n",
    "from scipy.stats import chi2_contingency, norm, skew, kurtosis\n",
    "\n",
    "# Visualization\n",
    "%matplotlib inline\n",
    "import matplotlib.pyplot as plt\n",
    "import seaborn as sns\n",
    "\n",
    "# Basic text processing\n",
    "import html\n",
    "import re\n",
    "import string\n",
    "import pickle\n",
    "# import spacy\n",
    "# from common import vocabulary\n",
    "\n",
    "# NLTK processing\n",
    "import nltk\n",
    "from nltk import word_tokenize, pos_tag\n",
    "from nltk.stem import WordNetLemmatizer\n",
    "from nltk.corpus import wordnet, stopwords\n",
    "from nltk.tokenize import sent_tokenize\n",
    "from nltk.tokenize.treebank import TreebankWordDetokenizer\n",
    "\n",
    "# Additional processing\n",
    "import gensim\n",
    "from gensim.utils import simple_preprocess\n",
    "from gensim.models import Phrases\n",
    "from gensim.models.phrases import Phraser\n",
    "\n",
    "from collections import Counter\n",
    "from unicodedata import normalize\n",
    "# from wordcloud import WordCloud"
   ]
  },
  {
   "cell_type": "markdown",
   "id": "730ed2db",
   "metadata": {
    "id": "730ed2db"
   },
   "source": [
    "### 2.1 Load data using PySpark"
   ]
  },
  {
   "cell_type": "code",
   "execution_count": null,
   "id": "ef0c6401",
   "metadata": {
    "id": "ef0c6401"
   },
   "outputs": [],
   "source": [
    "spark = SparkSession.builder.appName('Test').getOrCreate()"
   ]
  },
  {
   "cell_type": "code",
   "execution_count": null,
   "id": "5ef72912",
   "metadata": {
    "id": "5ef72912"
   },
   "outputs": [],
   "source": [
    "mags_meta = spark.read.json('data/magazine_subscriptions_meta.json')\n",
    "mags = spark.read.json('data/magazine_subscriptions.json')"
   ]
  },
  {
   "cell_type": "code",
   "execution_count": null,
   "id": "0e7975d3",
   "metadata": {
    "id": "0e7975d3"
   },
   "outputs": [],
   "source": [
    "books = spark.read.json('data/books.json')\n",
    "books_meta = spark.read.json('data/books_meta.json')"
   ]
  },
  {
   "cell_type": "code",
   "execution_count": null,
   "id": "3c3c7e07",
   "metadata": {
    "id": "3c3c7e07"
   },
   "outputs": [],
   "source": [
    "mags.printSchema()"
   ]
  },
  {
   "cell_type": "code",
   "execution_count": null,
   "id": "099b6e4c",
   "metadata": {
    "id": "099b6e4c"
   },
   "outputs": [],
   "source": [
    "mags_meta.printSchema()"
   ]
  },
  {
   "cell_type": "code",
   "execution_count": null,
   "id": "819ee427",
   "metadata": {
    "id": "819ee427"
   },
   "outputs": [],
   "source": [
    "books_meta.printSchema()"
   ]
  },
  {
   "cell_type": "code",
   "execution_count": null,
   "id": "0be9d2a6",
   "metadata": {
    "id": "0be9d2a6"
   },
   "outputs": [],
   "source": [
    "book_reviews.printSchema()"
   ]
  },
  {
   "cell_type": "code",
   "execution_count": null,
   "id": "65b68c63",
   "metadata": {
    "id": "65b68c63"
   },
   "outputs": [],
   "source": [
    "books_meta.count()"
   ]
  },
  {
   "cell_type": "code",
   "execution_count": null,
   "id": "4e1f5e4b",
   "metadata": {
    "id": "4e1f5e4b"
   },
   "outputs": [],
   "source": [
    "books.count()"
   ]
  },
  {
   "cell_type": "code",
   "execution_count": null,
   "id": "7dde70be",
   "metadata": {
    "id": "7dde70be"
   },
   "outputs": [],
   "source": [
    "mag_categories = mags_meta.groupBy('category')\n",
    "mag_categories.count().show()"
   ]
  },
  {
   "cell_type": "code",
   "execution_count": null,
   "id": "710cb66a",
   "metadata": {
    "id": "710cb66a"
   },
   "outputs": [],
   "source": [
    "mags_pd = mags.toPandas()\n",
    "mags_meta_pd = mags_meta.toPandas()"
   ]
  },
  {
   "cell_type": "markdown",
   "id": "bb6468f6",
   "metadata": {
    "id": "bb6468f6"
   },
   "source": [
    "### 2.2 Load data using pandas"
   ]
  },
  {
   "cell_type": "code",
   "execution_count": 3,
   "id": "a1555e02",
   "metadata": {
    "id": "a1555e02"
   },
   "outputs": [],
   "source": [
    "# Note - runtime is untenable on the books data in local jupyter notebook\n",
    "\n",
    "# books_meta = pd.read_json('../data/books_meta.json', lines=True)\n",
    "# books = pd.read_json('../data/books.json', lines=True)\n",
    "meta = pd.read_json('../data/magazine_subscriptions_meta.json', lines=True)\n",
    "reviews = pd.read_json('../data/magazine_subscriptions.json', lines=True)"
   ]
  },
  {
   "cell_type": "code",
   "execution_count": 4,
   "id": "6b0625c6",
   "metadata": {
    "id": "6b0625c6"
   },
   "outputs": [],
   "source": [
    "# Drop duplicate records of a unique ASIN\n",
    "meta.drop_duplicates(subset='asin', inplace=True)\n",
    "\n",
    "# Drop reviews with no reviewText\n",
    "reviews = reviews[reviews['reviewText'].isna() == False]\n",
    "\n",
    "# Convert vote column to numeric\n",
    "reviews['vote'] = reviews['vote'].str.replace(',', '').fillna(0).astype(int)"
   ]
  },
  {
   "cell_type": "code",
   "execution_count": 5,
   "id": "c3b2d9c5",
   "metadata": {
    "id": "c3b2d9c5"
   },
   "outputs": [
    {
     "name": "stdout",
     "output_type": "stream",
     "text": [
      "\u001b[1mDataframe Shape\u001b[0m\n",
      "(89656, 12)\n",
      "\n",
      "\n",
      "\u001b[1mColumn Information\u001b[0m\n",
      "<class 'pandas.core.frame.DataFrame'>\n",
      "Int64Index: 89656 entries, 0 to 89688\n",
      "Data columns (total 12 columns):\n",
      " #   Column          Non-Null Count  Dtype \n",
      "---  ------          --------------  ----- \n",
      " 0   overall         89656 non-null  int64 \n",
      " 1   vote            89656 non-null  int64 \n",
      " 2   verified        89656 non-null  bool  \n",
      " 3   reviewTime      89656 non-null  object\n",
      " 4   reviewerID      89656 non-null  object\n",
      " 5   asin            89656 non-null  object\n",
      " 6   reviewerName    89654 non-null  object\n",
      " 7   reviewText      89656 non-null  object\n",
      " 8   summary         89640 non-null  object\n",
      " 9   unixReviewTime  89656 non-null  int64 \n",
      " 10  style           51378 non-null  object\n",
      " 11  image           133 non-null    object\n",
      "dtypes: bool(1), int64(3), object(8)\n",
      "memory usage: 8.3+ MB\n",
      "\n",
      "\n"
     ]
    }
   ],
   "source": [
    "print(\"\\033[1m\" + \"Dataframe Shape\" + \"\\033[0m\")\n",
    "print(reviews.shape)\n",
    "print(\"\\n\")\n",
    "\n",
    "print(\"\\033[1m\" + \"Column Information\" + \"\\033[0m\")\n",
    "reviews.info()\n",
    "print(\"\\n\")"
   ]
  },
  {
   "cell_type": "code",
   "execution_count": 6,
   "id": "9411b9be",
   "metadata": {
    "id": "9411b9be"
   },
   "outputs": [
    {
     "data": {
      "text/plain": [
       "'Thank god this is not a Ziff Davis publication.  MaxPC will actually tell you if a product is bad. They will print just what they think about something; no sugar coating. I would compare their style to Car and Driver. Technical, but they know how to have a good time.'"
      ]
     },
     "execution_count": 6,
     "metadata": {},
     "output_type": "execute_result"
    }
   ],
   "source": [
    "reviews['reviewText'][1]"
   ]
  },
  {
   "cell_type": "code",
   "execution_count": 7,
   "id": "16f81714",
   "metadata": {
    "id": "16f81714"
   },
   "outputs": [
    {
     "data": {
      "text/plain": [
       "overall                                                           5\n",
       "vote                                                              9\n",
       "verified                                                      False\n",
       "reviewTime                                               11 8, 2001\n",
       "reviewerID                                            AH2IFH762VY5U\n",
       "asin                                                     B00005N7P0\n",
       "reviewerName                                           ted sedlmayr\n",
       "reviewText        for computer enthusiast, MaxPC is a welcome si...\n",
       "summary                      AVID READER SINCE \"boot\"  WAS THE NAME\n",
       "unixReviewTime                                           1005177600\n",
       "style                                                           NaN\n",
       "image                                                           NaN\n",
       "Name: 0, dtype: object"
      ]
     },
     "execution_count": 7,
     "metadata": {},
     "output_type": "execute_result"
    }
   ],
   "source": [
    "reviews.iloc[0]"
   ]
  },
  {
   "cell_type": "code",
   "execution_count": 8,
   "id": "061b17a2",
   "metadata": {
    "id": "061b17a2"
   },
   "outputs": [
    {
     "name": "stdout",
     "output_type": "stream",
     "text": [
      "\u001b[1mDataframe Shape\u001b[0m\n",
      "(2320, 19)\n",
      "\n",
      "\n",
      "\u001b[1mColumn Information\u001b[0m\n",
      "<class 'pandas.core.frame.DataFrame'>\n",
      "Int64Index: 2320 entries, 0 to 3384\n",
      "Data columns (total 19 columns):\n",
      " #   Column           Non-Null Count  Dtype         \n",
      "---  ------           --------------  -----         \n",
      " 0   category         2320 non-null   object        \n",
      " 1   tech1            2320 non-null   object        \n",
      " 2   description      2320 non-null   object        \n",
      " 3   fit              2320 non-null   object        \n",
      " 4   title            2320 non-null   object        \n",
      " 5   also_buy         2320 non-null   object        \n",
      " 6   tech2            2320 non-null   object        \n",
      " 7   brand            2320 non-null   object        \n",
      " 8   feature          2320 non-null   object        \n",
      " 9   rank             2320 non-null   object        \n",
      " 10  also_view        2320 non-null   object        \n",
      " 11  details          2320 non-null   object        \n",
      " 12  main_cat         2320 non-null   object        \n",
      " 13  similar_item     2320 non-null   object        \n",
      " 14  date             0 non-null      datetime64[ns]\n",
      " 15  price            2320 non-null   object        \n",
      " 16  asin             2320 non-null   object        \n",
      " 17  imageURL         2320 non-null   object        \n",
      " 18  imageURLHighRes  2320 non-null   object        \n",
      "dtypes: datetime64[ns](1), object(18)\n",
      "memory usage: 362.5+ KB\n",
      "\n",
      "\n"
     ]
    }
   ],
   "source": [
    "print(\"\\033[1m\" + \"Dataframe Shape\" + \"\\033[0m\")\n",
    "print(meta.shape)\n",
    "print(\"\\n\")\n",
    "\n",
    "print(\"\\033[1m\" + \"Column Information\" + \"\\033[0m\")\n",
    "meta.info()\n",
    "print(\"\\n\")"
   ]
  },
  {
   "cell_type": "code",
   "execution_count": 9,
   "id": "135802f0",
   "metadata": {
    "id": "135802f0"
   },
   "outputs": [
    {
     "data": {
      "text/plain": [
       "['Magazine Subscriptions',\n",
       " 'Professional & Educational Journals',\n",
       " 'Professional & Trade',\n",
       " 'Humanities & Social Sciences',\n",
       " 'Economics & Economic Theory']"
      ]
     },
     "execution_count": 9,
     "metadata": {},
     "output_type": "execute_result"
    }
   ],
   "source": [
    "meta.iloc[0].category"
   ]
  },
  {
   "cell_type": "markdown",
   "id": "674096a0",
   "metadata": {
    "id": "674096a0"
   },
   "source": [
    "### 2.3 Meta data transformation"
   ]
  },
  {
   "cell_type": "code",
   "execution_count": 10,
   "id": "f988b491",
   "metadata": {
    "id": "f988b491"
   },
   "outputs": [],
   "source": [
    "categories = ['category', 'subcat1', 'subcat2', 'subcat3', 'subcat4']\n",
    "meta[categories] = pd.DataFrame(meta['category'].to_list())\n",
    "meta.replace('amp;', '', regex=True, inplace=True)"
   ]
  },
  {
   "cell_type": "code",
   "execution_count": 11,
   "id": "348e5fc5",
   "metadata": {
    "id": "348e5fc5"
   },
   "outputs": [
    {
     "data": {
      "text/plain": [
       "NaN                       1201\n",
       "Magazine Subscriptions    1119\n",
       "Name: category, dtype: int64"
      ]
     },
     "execution_count": 11,
     "metadata": {},
     "output_type": "execute_result"
    }
   ],
   "source": [
    "meta['category'].value_counts(dropna=False)"
   ]
  },
  {
   "cell_type": "code",
   "execution_count": 12,
   "id": "dd3c2982",
   "metadata": {
    "id": "dd3c2982"
   },
   "outputs": [
    {
     "data": {
      "text/plain": [
       "NaN                                    1201\n",
       "Professional & Educational Journals     370\n",
       "Sports, Recreation & Outdoors           137\n",
       "Travel, City & Regional                 117\n",
       "Fashion & Style                          61\n",
       "Home & Garden                            44\n",
       "Entertainment & Pop Culture              41\n",
       "Arts, Music & Photography                40\n",
       "Children & Teen                          39\n",
       "Business & Investing                     32\n",
       "Cooking, Food & Wine                     31\n",
       "Lifestyle & Cultures                     26\n",
       "Literary, Sci-Fi & Mystery               25\n",
       "Crafts & Hobbies                         23\n",
       "Automotive & Motorcycles                 21\n",
       "Science, History & Nature                17\n",
       "Religion & Spirituality                  16\n",
       "Health, Fitness & Wellness               14\n",
       "News & Political Commentary              14\n",
       "Technology                               14\n",
       "Women's Interest                         10\n",
       "Pets & Animals                            8\n",
       "Parenting & Families                      7\n",
       "Men's Interest                            5\n",
       "Newspapers                                4\n",
       "Newsletters                               3\n",
       "Name: subcat1, dtype: int64"
      ]
     },
     "execution_count": 12,
     "metadata": {},
     "output_type": "execute_result"
    }
   ],
   "source": [
    "subcat = 'subcat1'\n",
    "meta[subcat].value_counts(dropna=False)"
   ]
  },
  {
   "cell_type": "code",
   "execution_count": 13,
   "id": "99c5dbb6",
   "metadata": {
    "id": "99c5dbb6"
   },
   "outputs": [
    {
     "data": {
      "text/plain": [
       "Hearst Magazines              255\n",
       "Conde Nast                    184\n",
       "                              147\n",
       "Meredith                       48\n",
       "Bonnier Corporation            43\n",
       "                             ... \n",
       "Supertrax                       1\n",
       "National Assn of Rocketry       1\n",
       "Columbia Journalism Review      1\n",
       "Woodenboat Publications         1\n",
       "TI Golf Holdings                1\n",
       "Name: brand, Length: 943, dtype: int64"
      ]
     },
     "execution_count": 13,
     "metadata": {},
     "output_type": "execute_result"
    }
   ],
   "source": [
    "meta['brand'].value_counts(dropna=False)"
   ]
  },
  {
   "cell_type": "code",
   "execution_count": 14,
   "id": "f101fdbd",
   "metadata": {
    "id": "f101fdbd"
   },
   "outputs": [
    {
     "data": {
      "text/html": [
       "<div>\n",
       "<style scoped>\n",
       "    .dataframe tbody tr th:only-of-type {\n",
       "        vertical-align: middle;\n",
       "    }\n",
       "\n",
       "    .dataframe tbody tr th {\n",
       "        vertical-align: top;\n",
       "    }\n",
       "\n",
       "    .dataframe thead th {\n",
       "        text-align: right;\n",
       "    }\n",
       "</style>\n",
       "<table border=\"1\" class=\"dataframe\">\n",
       "  <thead>\n",
       "    <tr style=\"text-align: right;\">\n",
       "      <th></th>\n",
       "      <th>asin</th>\n",
       "      <th>subcat1</th>\n",
       "      <th>brand</th>\n",
       "      <th>reviews</th>\n",
       "      <th>reviewsVerified</th>\n",
       "      <th>avgRating</th>\n",
       "      <th>pctVerified</th>\n",
       "    </tr>\n",
       "  </thead>\n",
       "  <tbody>\n",
       "    <tr>\n",
       "      <th>0</th>\n",
       "      <td>B00005N7NQ</td>\n",
       "      <td>Professional &amp; Educational Journals</td>\n",
       "      <td>Reason Magazine</td>\n",
       "      <td>117.0</td>\n",
       "      <td>56.0</td>\n",
       "      <td>3.803419</td>\n",
       "      <td>0.478632</td>\n",
       "    </tr>\n",
       "    <tr>\n",
       "      <th>1</th>\n",
       "      <td>B00005N7OC</td>\n",
       "      <td>Arts, Music &amp; Photography</td>\n",
       "      <td>String Letter Publishers</td>\n",
       "      <td>31.0</td>\n",
       "      <td>6.0</td>\n",
       "      <td>2.645161</td>\n",
       "      <td>0.193548</td>\n",
       "    </tr>\n",
       "    <tr>\n",
       "      <th>2</th>\n",
       "      <td>B00005N7OD</td>\n",
       "      <td>Fashion &amp; Style</td>\n",
       "      <td>Conde Nast Publications</td>\n",
       "      <td>193.0</td>\n",
       "      <td>64.0</td>\n",
       "      <td>3.725389</td>\n",
       "      <td>0.331606</td>\n",
       "    </tr>\n",
       "    <tr>\n",
       "      <th>3</th>\n",
       "      <td>B00005N7O9</td>\n",
       "      <td>Sports, Recreation &amp; Outdoors</td>\n",
       "      <td>AirAge Publishing</td>\n",
       "      <td>23.0</td>\n",
       "      <td>16.0</td>\n",
       "      <td>4.434783</td>\n",
       "      <td>0.695652</td>\n",
       "    </tr>\n",
       "    <tr>\n",
       "      <th>4</th>\n",
       "      <td>B00005N7O6</td>\n",
       "      <td>Professional &amp; Educational Journals</td>\n",
       "      <td>EPG Media &amp; Specialty Information</td>\n",
       "      <td>64.0</td>\n",
       "      <td>50.0</td>\n",
       "      <td>4.531250</td>\n",
       "      <td>0.781250</td>\n",
       "    </tr>\n",
       "  </tbody>\n",
       "</table>\n",
       "</div>"
      ],
      "text/plain": [
       "         asin                              subcat1  \\\n",
       "0  B00005N7NQ  Professional & Educational Journals   \n",
       "1  B00005N7OC            Arts, Music & Photography   \n",
       "2  B00005N7OD                      Fashion & Style   \n",
       "3  B00005N7O9        Sports, Recreation & Outdoors   \n",
       "4  B00005N7O6  Professional & Educational Journals   \n",
       "\n",
       "                               brand  reviews  reviewsVerified  avgRating  \\\n",
       "0                    Reason Magazine    117.0             56.0   3.803419   \n",
       "1           String Letter Publishers     31.0              6.0   2.645161   \n",
       "2            Conde Nast Publications    193.0             64.0   3.725389   \n",
       "3                  AirAge Publishing     23.0             16.0   4.434783   \n",
       "4  EPG Media & Specialty Information     64.0             50.0   4.531250   \n",
       "\n",
       "   pctVerified  \n",
       "0     0.478632  \n",
       "1     0.193548  \n",
       "2     0.331606  \n",
       "3     0.695652  \n",
       "4     0.781250  "
      ]
     },
     "execution_count": 14,
     "metadata": {},
     "output_type": "execute_result"
    }
   ],
   "source": [
    "def count_if(group):\n",
    "    '''Count the values of a boolean column that are True'''\n",
    "    return np.sum(group==True)\n",
    "\n",
    "# Use groupby and agg to summarize relevant statistics from review data by each ASIN\n",
    "asin_stats = reviews.groupby('asin').agg({'asin': 'count',\n",
    "                                          'overall': 'mean',\n",
    "                                          'verified': count_if                                         \n",
    "                                         })\n",
    "\n",
    "# Rename columns and reset index\n",
    "asin_stats.rename(columns={'asin':'reviews',\n",
    "                           'overall':'avgRating',\n",
    "                           'verified': 'reviewsVerified'\n",
    "                          },\n",
    "                  inplace=True\n",
    "                 )\n",
    "asin_stats.reset_index(inplace=True)\n",
    "\n",
    "# Merge ASIN statistics df with original metadata, drop irrelevant columns\n",
    "asins = pd.merge(meta,\n",
    "                asin_stats,\n",
    "                on='asin',\n",
    "                how='left'\n",
    "               )\n",
    "\n",
    "asins = asins[['asin', 'subcat1', 'brand', 'reviews', 'reviewsVerified', 'avgRating']]\n",
    "asins['pctVerified'] = asins['reviewsVerified'] / asins['reviews']\n",
    "asins.head()"
   ]
  },
  {
   "cell_type": "code",
   "execution_count": 15,
   "id": "9c96eb50",
   "metadata": {
    "id": "9c96eb50"
   },
   "outputs": [
    {
     "name": "stdout",
     "output_type": "stream",
     "text": [
      "\u001b[1mColumn Information\u001b[0m\n",
      "           reviews  reviewsVerified    avgRating  pctVerified\n",
      "count  2319.000000      2319.000000  2319.000000  2319.000000\n",
      "mean     36.733937        24.641225     4.116051     0.684337\n",
      "std     118.689026        84.413756     0.881121     0.325099\n",
      "min       1.000000         0.000000     1.000000     0.000000\n",
      "25%       2.000000         1.000000     3.750000     0.500000\n",
      "50%       6.000000         4.000000     4.266667     0.753906\n",
      "75%      20.000000        14.000000     4.800000     1.000000\n",
      "max    1718.000000      1315.000000     5.000000     1.000000\n"
     ]
    }
   ],
   "source": [
    "print(\"\\033[1m\" + \"Column Information\" + \"\\033[0m\")\n",
    "print(asins.describe())"
   ]
  },
  {
   "cell_type": "markdown",
   "id": "6d71eb6f",
   "metadata": {
    "id": "6d71eb6f"
   },
   "source": [
    "### 2.4 Meta data visualization"
   ]
  },
  {
   "cell_type": "code",
   "execution_count": 16,
   "id": "b299285d",
   "metadata": {
    "id": "b299285d"
   },
   "outputs": [
    {
     "data": {
      "image/png": "[encoded data removed]",
      "text/plain": [
       "<Figure size 572.125x360 with 1 Axes>"
      ]
     },
     "metadata": {
      "needs_background": "light"
     },
     "output_type": "display_data"
    }
   ],
   "source": [
    "sns.lmplot(x='reviews', y='reviewsVerified', data=asins, hue='subcat1', fit_reg=False)\\\n",
    "   .set(title='Reviews vs. Verified Reviews by SubCategory')\n",
    "\n",
    "plt.show()"
   ]
  },
  {
   "cell_type": "code",
   "execution_count": 17,
   "id": "f5e67e34",
   "metadata": {
    "id": "f5e67e34"
   },
   "outputs": [
    {
     "data": {
      "image/png": "[encoded data removed]",
      "text/plain": [
       "<Figure size 720x864 with 1 Axes>"
      ]
     },
     "metadata": {
      "needs_background": "light"
     },
     "output_type": "display_data"
    }
   ],
   "source": [
    "fig, ax = plt.subplots(figsize=(10,12))\n",
    "sns.boxplot(x='avgRating', y='subcat1', orient='h', data=asins)\n",
    "# sns.swarmplot(x='avgRating', y='subcat1', orient='h', data=asins, color='.1')\n",
    "plt.show()"
   ]
  },
  {
   "cell_type": "code",
   "execution_count": 19,
   "id": "8356b761",
   "metadata": {},
   "outputs": [
    {
     "data": {
      "image/png": "[encoded data removed]",
      "text/plain": [
       "<Figure size 432x288 with 1 Axes>"
      ]
     },
     "metadata": {
      "needs_background": "light"
     },
     "output_type": "display_data"
    }
   ],
   "source": [
    "# defining the libraries\n",
    "import numpy as np\n",
    "import matplotlib.pyplot as plt\n",
    "import pandas as pd\n",
    "%matplotlib inline\n",
    "  \n",
    "# No of Data points\n",
    "N = 500\n",
    "  \n",
    "# initializing random values\n",
    "data = np.random.randn(N)\n",
    "  \n",
    "# getting data of the histogram\n",
    "count, bins_count = np.histogram(data, bins=10)\n",
    "  \n",
    "# finding the PDF of the histogram using count values\n",
    "pdf = count / sum(count)\n",
    "  \n",
    "# using numpy np.cumsum to calculate the CDF\n",
    "# We can also find using the PDF values by looping and adding\n",
    "cdf = np.cumsum(pdf)\n",
    "  \n",
    "# plotting PDF and CDF\n",
    "plt.plot(bins_count[1:], pdf, color=\"red\", label=\"PDF\")\n",
    "plt.plot(bins_count[1:], cdf, label=\"CDF\")\n",
    "plt.legend()\n",
    "plt.show()"
   ]
  },
  {
   "cell_type": "markdown",
   "id": "fdd7eb31",
   "metadata": {
    "id": "fdd7eb31"
   },
   "source": [
    "### 2.5 Filter and random sampling"
   ]
  },
  {
   "cell_type": "code",
   "execution_count": 26,
   "id": "af38188b",
   "metadata": {
    "id": "af38188b"
   },
   "outputs": [
    {
     "data": {
      "text/plain": [
       "(1365, 7)"
      ]
     },
     "execution_count": 26,
     "metadata": {},
     "output_type": "execute_result"
    }
   ],
   "source": [
    "# Filter ASINs to reviews >= 10\n",
    "asin_samples = asins[asins['reviews'] >= 5]\n",
    "\n",
    "# Filter ASINs to subcat1 >= 10\n",
    "# Need to consider whether I want to do this or not\n",
    "# cat_counts = asin_samples['subcat1'].value_counts(dropna=False)\n",
    "# asin_samples = asin_samples.loc[asin_samples['subcat1'].isin(cat_counts[cat_counts >= 30].index), :]\n",
    "\n",
    "asin_samples.shape"
   ]
  },
  {
   "cell_type": "code",
   "execution_count": 27,
   "id": "c1c06277",
   "metadata": {
    "id": "c1c06277"
   },
   "outputs": [
    {
     "data": {
      "image/png": "[encoded data removed]",
      "text/plain": [
       "<Figure size 572.125x360 with 1 Axes>"
      ]
     },
     "metadata": {
      "needs_background": "light"
     },
     "output_type": "display_data"
    }
   ],
   "source": [
    "sns.lmplot(x='reviews', y='reviewsVerified', data=asin_samples, hue='subcat1', fit_reg=True)\\\n",
    "   .set(title='Reviews vs. Verified Reviews by SubCategory')\n",
    "\n",
    "plt.show()"
   ]
  },
  {
   "cell_type": "code",
   "execution_count": 28,
   "id": "b43c8ab5",
   "metadata": {
    "id": "b43c8ab5"
   },
   "outputs": [],
   "source": [
    "# Filter reviews based on asin_samples\n",
    "review_samples = pd.merge(reviews,\n",
    "                          asin_samples,\n",
    "                          on='asin',\n",
    "                          how='inner'\n",
    "                         )"
   ]
  },
  {
   "cell_type": "code",
   "execution_count": 29,
   "id": "84a65227",
   "metadata": {
    "id": "84a65227"
   },
   "outputs": [],
   "source": [
    "# Random sample 5 reviews from each ASIN\n",
    "# This is likely over-sampling - DON'T USE \n",
    "# review_samples = review_samples.groupby('asin').sample(n=5, random_state=1)"
   ]
  },
  {
   "cell_type": "code",
   "execution_count": 30,
   "id": "893b39f4",
   "metadata": {
    "id": "893b39f4"
   },
   "outputs": [
    {
     "name": "stdout",
     "output_type": "stream",
     "text": [
      "(89656, 12)\n",
      "(83228, 18)\n"
     ]
    }
   ],
   "source": [
    "print(reviews.shape)\n",
    "print(review_samples.shape)"
   ]
  },
  {
   "cell_type": "code",
   "execution_count": 43,
   "id": "b0945c66",
   "metadata": {},
   "outputs": [
    {
     "data": {
      "image/png": "[encoded data removed]",
      "text/plain": [
       "<Figure size 432x288 with 1 Axes>"
      ]
     },
     "metadata": {
      "needs_background": "light"
     },
     "output_type": "display_data"
    }
   ],
   "source": [
    "  \n",
    "data = review_samples['vote']\n",
    "  \n",
    "# getting data of the histogram\n",
    "count, bins_count = np.histogram(data, bins=100)\n",
    "  \n",
    "# finding the PDF of the histogram using count values\n",
    "pdf = count / sum(count)\n",
    "  \n",
    "# using numpy np.cumsum to calculate the CDF\n",
    "# We can also find using the PDF values by looping and adding\n",
    "cdf = np.cumsum(pdf)\n",
    "  \n",
    "# plotting PDF and CDF\n",
    "plt.plot(bins_count[1:], pdf, color=\"red\", label=\"PDF\")\n",
    "plt.plot(bins_count[1:], cdf, label=\"CDF\")\n",
    "plt.legend()\n",
    "plt.show()"
   ]
  },
  {
   "cell_type": "code",
   "execution_count": null,
   "id": "86f99f99",
   "metadata": {
    "id": "86f99f99"
   },
   "outputs": [],
   "source": [
    "# Remove outliers greater than 3 std-dev above mean votes for usefulness\n",
    "# This makes visualization more interpretable, but likely not a good idea for modeling\n",
    "# Because we want the outliers to be considered the \"most useful\"\n",
    "\n",
    "# outlier_threshold = review_samples.describe()['vote']['mean'] +\\\n",
    "#                     (review_samples.describe()['vote']['std'] * 3)\n",
    "\n",
    "# review_samples = review_samples[review_samples['vote'] <= outlier_threshold]"
   ]
  },
  {
   "cell_type": "code",
   "execution_count": 41,
   "id": "94a88d7c",
   "metadata": {
    "id": "94a88d7c"
   },
   "outputs": [],
   "source": [
    "# Remove reviews with X votes\n",
    "\n",
    "min_votes = 10\n",
    "review_samples = review_samples[review_samples['vote'] >= min_votes]"
   ]
  },
  {
   "cell_type": "code",
   "execution_count": 42,
   "id": "13a6991b",
   "metadata": {
    "id": "13a6991b"
   },
   "outputs": [
    {
     "name": "stdout",
     "output_type": "stream",
     "text": [
      "(89656, 12)\n",
      "(5583, 18)\n"
     ]
    }
   ],
   "source": [
    "print(reviews.shape)\n",
    "print(review_samples.shape)"
   ]
  },
  {
   "cell_type": "code",
   "execution_count": 33,
   "id": "877b08e2",
   "metadata": {
    "id": "877b08e2"
   },
   "outputs": [
    {
     "data": {
      "image/png": "[encoded data removed]",
      "text/plain": [
       "<Figure size 572.125x360 with 1 Axes>"
      ]
     },
     "metadata": {
      "needs_background": "light"
     },
     "output_type": "display_data"
    }
   ],
   "source": [
    "sns.lmplot(x='avgRating', y='vote', data=review_samples, hue='subcat1', fit_reg=True)\\\n",
    "   .set(title='Reviews vs. Verified Reviews by SubCategory')\n",
    "\n",
    "plt.show()"
   ]
  },
  {
   "cell_type": "code",
   "execution_count": 34,
   "id": "185662a4",
   "metadata": {
    "id": "185662a4"
   },
   "outputs": [
    {
     "data": {
      "image/png": "[encoded data removed]",
      "text/plain": [
       "<Figure size 720x864 with 1 Axes>"
      ]
     },
     "metadata": {
      "needs_background": "light"
     },
     "output_type": "display_data"
    }
   ],
   "source": [
    "fig, ax = plt.subplots(figsize=(10,12))\n",
    "sns.boxplot(x='vote', y='subcat1', hue='verified', orient='h', data=review_samples)\n",
    "# sns.swarmplot(x='vote', y='subcat1', hue='verified', orient='h', data=review_samples)\n",
    "plt.show()"
   ]
  },
  {
   "cell_type": "code",
   "execution_count": 35,
   "id": "65faf890",
   "metadata": {
    "id": "65faf890"
   },
   "outputs": [
    {
     "data": {
      "image/png": "[encoded data removed]",
      "text/plain": [
       "<Figure size 432x288 with 1 Axes>"
      ]
     },
     "metadata": {
      "needs_background": "light"
     },
     "output_type": "display_data"
    }
   ],
   "source": [
    "sns.histplot(x='vote',\n",
    "             hue='verified',\n",
    "             data=review_samples[review_samples['vote'] < 10])\n",
    "plt.show()"
   ]
  },
  {
   "cell_type": "code",
   "execution_count": 36,
   "id": "4f8890a4",
   "metadata": {
    "id": "4f8890a4"
   },
   "outputs": [
    {
     "data": {
      "image/png": "[encoded data removed]",
      "text/plain": [
       "<Figure size 432x288 with 1 Axes>"
      ]
     },
     "metadata": {
      "needs_background": "light"
     },
     "output_type": "display_data"
    }
   ],
   "source": [
    "sns.histplot(x='vote',\n",
    "             hue='verified',\n",
    "             data=review_samples[(review_samples['vote'] >= 10) & (review_samples['vote'] < 100)])\n",
    "plt.show()"
   ]
  },
  {
   "cell_type": "code",
   "execution_count": 37,
   "id": "da59af26",
   "metadata": {
    "id": "da59af26"
   },
   "outputs": [
    {
     "data": {
      "image/png": "[encoded data removed]",
      "text/plain": [
       "<Figure size 432x288 with 1 Axes>"
      ]
     },
     "metadata": {
      "needs_background": "light"
     },
     "output_type": "display_data"
    }
   ],
   "source": [
    "sns.histplot(x='vote',\n",
    "             hue='verified',\n",
    "             data=review_samples[review_samples['vote'] >= 100])\n",
    "plt.show()"
   ]
  },
  {
   "cell_type": "code",
   "execution_count": 44,
   "id": "1c52daa2",
   "metadata": {
    "id": "1c52daa2"
   },
   "outputs": [
    {
     "data": {
      "text/html": [
       "<div>\n",
       "<style scoped>\n",
       "    .dataframe tbody tr th:only-of-type {\n",
       "        vertical-align: middle;\n",
       "    }\n",
       "\n",
       "    .dataframe tbody tr th {\n",
       "        vertical-align: top;\n",
       "    }\n",
       "\n",
       "    .dataframe thead th {\n",
       "        text-align: right;\n",
       "    }\n",
       "</style>\n",
       "<table border=\"1\" class=\"dataframe\">\n",
       "  <thead>\n",
       "    <tr style=\"text-align: right;\">\n",
       "      <th></th>\n",
       "      <th>skew</th>\n",
       "      <th>kurtosis</th>\n",
       "    </tr>\n",
       "  </thead>\n",
       "  <tbody>\n",
       "    <tr>\n",
       "      <th>pandas</th>\n",
       "      <td>13.803361</td>\n",
       "      <td>347.782625</td>\n",
       "    </tr>\n",
       "    <tr>\n",
       "      <th>scipy-unbiased</th>\n",
       "      <td>13.803361</td>\n",
       "      <td>347.782625</td>\n",
       "    </tr>\n",
       "    <tr>\n",
       "      <th>scipy-biased</th>\n",
       "      <td>13.799652</td>\n",
       "      <td>347.470163</td>\n",
       "    </tr>\n",
       "  </tbody>\n",
       "</table>\n",
       "</div>"
      ],
      "text/plain": [
       "                     skew    kurtosis\n",
       "pandas          13.803361  347.782625\n",
       "scipy-unbiased  13.803361  347.782625\n",
       "scipy-biased    13.799652  347.470163"
      ]
     },
     "execution_count": 44,
     "metadata": {},
     "output_type": "execute_result"
    }
   ],
   "source": [
    "# Explore skew and kurtosis functions in pandas and scipy\n",
    "pd_skew    = review_samples['vote'].skew()\n",
    "pd_kurt    = review_samples['vote'].kurt()\n",
    "sci_skew   = skew(review_samples['vote'], bias=False)\n",
    "sci_kurt   = kurtosis(review_samples['vote'], bias=False)\n",
    "sci_skew_b = skew(review_samples['vote'], bias=True)\n",
    "sci_kurt_b = kurtosis(review_samples['vote'], bias=True)\n",
    "\n",
    "pd.DataFrame({'skew': [pd_skew, sci_skew, sci_skew_b],\n",
    "              'kurtosis': [pd_kurt, sci_kurt, sci_kurt_b]},\n",
    "             index=['pandas', 'scipy-unbiased', 'scipy-biased']\n",
    "            )"
   ]
  },
  {
   "cell_type": "code",
   "execution_count": 45,
   "id": "17f725b0",
   "metadata": {
    "id": "17f725b0"
   },
   "outputs": [
    {
     "name": "stderr",
     "output_type": "stream",
     "text": [
      "/var/folders/y7/dvfckgnx3z38k75w9h5_1tdw0000gn/T/ipykernel_57793/441206571.py:6: SettingWithCopyWarning: \n",
      "A value is trying to be set on a copy of a slice from a DataFrame.\n",
      "Try using .loc[row_indexer,col_indexer] = value instead\n",
      "\n",
      "See the caveats in the documentation: https://pandas.pydata.org/pandas-docs/stable/user_guide/indexing.html#returning-a-view-versus-a-copy\n",
      "  review_samples['vote_norm'] = boxcox(review_samples['vote'], lmbda=0)\n",
      "/var/folders/y7/dvfckgnx3z38k75w9h5_1tdw0000gn/T/ipykernel_57793/441206571.py:10: SettingWithCopyWarning: \n",
      "A value is trying to be set on a copy of a slice from a DataFrame.\n",
      "Try using .loc[row_indexer,col_indexer] = value instead\n",
      "\n",
      "See the caveats in the documentation: https://pandas.pydata.org/pandas-docs/stable/user_guide/indexing.html#returning-a-view-versus-a-copy\n",
      "  review_samples['vote_power'] = pt.fit_transform(pd.DataFrame(review_samples['vote']))\n"
     ]
    }
   ],
   "source": [
    "# Normalize vote variable\n",
    "from scipy.stats import boxcox\n",
    "from sklearn.preprocessing import PowerTransformer\n",
    "\n",
    "# Take the log10 of votes\n",
    "review_samples['vote_norm'] = boxcox(review_samples['vote'], lmbda=0)\n",
    "\n",
    "# Apply power transformation\n",
    "pt = PowerTransformer()\n",
    "review_samples['vote_power'] = pt.fit_transform(pd.DataFrame(review_samples['vote']))"
   ]
  },
  {
   "cell_type": "code",
   "execution_count": 46,
   "id": "787498bf",
   "metadata": {
    "id": "787498bf"
   },
   "outputs": [
    {
     "data": {
      "image/png": "[encoded data removed]",
      "text/plain": [
       "<Figure size 1440x720 with 4 Axes>"
      ]
     },
     "metadata": {
      "needs_background": "light"
     },
     "output_type": "display_data"
    }
   ],
   "source": [
    "fig, ax = plt.subplots(2,2, figsize=(20,10))\n",
    "\n",
    "sns.histplot(x='vote',\n",
    "             data=review_samples,\n",
    "             bins=20,\n",
    "             ax=ax[0][0]\n",
    "            )\n",
    "\n",
    "sns.histplot(x='vote_norm',\n",
    "             data=review_samples,\n",
    "             bins=20,\n",
    "             ax=ax[0][1]\n",
    "            )\n",
    "\n",
    "sns.histplot(x='vote_power',\n",
    "             data=review_samples,\n",
    "             bins=20,\n",
    "             ax=ax[1][0]\n",
    "            )\n",
    "\n",
    "plt.show()"
   ]
  },
  {
   "cell_type": "code",
   "execution_count": 47,
   "id": "da0f7463",
   "metadata": {
    "id": "da0f7463"
   },
   "outputs": [
    {
     "data": {
      "text/plain": [
       "0    2982\n",
       "1    2601\n",
       "Name: useful, dtype: int64"
      ]
     },
     "execution_count": 47,
     "metadata": {},
     "output_type": "execute_result"
    }
   ],
   "source": [
    "# Define the usefulness classification based on vote_power variable\n",
    "\n",
    "review_samples['useful'] = review_samples['vote_power'].apply(lambda x: 1 if x > 0 else 0)\n",
    "review_samples['useful'].value_counts()"
   ]
  },
  {
   "cell_type": "markdown",
   "id": "a7524a67",
   "metadata": {
    "id": "a7524a67"
   },
   "source": [
    "## 3. Text pre-processing"
   ]
  },
  {
   "cell_type": "code",
   "execution_count": 50,
   "id": "ae24c5a7",
   "metadata": {
    "id": "ae24c5a7"
   },
   "outputs": [],
   "source": [
    "# Use html library to decode special characters\n",
    "html_reviews = review_samples[review_samples['reviewText'].str.contains('&#', na=False)]\n",
    "\n",
    "if html_reviews.empty:\n",
    "    # Doesn't appear to be an issue in this data, but will use the else statement to check\n",
    "    pass\n",
    "else:\n",
    "    # Show an example of the unescape function\n",
    "    sample_review = html_reviews['reviewText'].iloc[0]\n",
    "    print(sample_review)\n",
    "    print(\"\")\n",
    "    decoded_review = html.unescape(sample_review)\n",
    "    print(decoded_review)"
   ]
  },
  {
   "cell_type": "code",
   "execution_count": 51,
   "id": "f6e109df",
   "metadata": {
    "id": "f6e109df"
   },
   "outputs": [],
   "source": [
    "# Remove special characters\n",
    "pattern = r\"\\&\\#[0-9]+\\;\"\n",
    "\n",
    "review_samples[\"reviewText\"] = review_samples[\"reviewText\"].str.replace(pat=pattern, repl=\"\", regex=True)"
   ]
  },
  {
   "cell_type": "markdown",
   "id": "9a9304e9",
   "metadata": {
    "id": "9a9304e9"
   },
   "source": [
    "### 3.1 Lemmatization"
   ]
  },
  {
   "cell_type": "code",
   "execution_count": 52,
   "id": "53b78a60",
   "metadata": {
    "id": "53b78a60"
   },
   "outputs": [],
   "source": [
    "# Use lemmatization to reduce words to their root form\n",
    "\n",
    "# import nltk resources\n",
    "resources = [\"wordnet\", \"stopwords\", \"punkt\", \\\n",
    "             \"averaged_perceptron_tagger\", \"maxent_treebank_pos_tagger\"]\n",
    "\n",
    "for resource in resources:\n",
    "    try:\n",
    "        nltk.data.find(\"tokenizers/\" + resource)\n",
    "    except LookupError:\n",
    "        nltk.download(resource, quiet=True)"
   ]
  },
  {
   "cell_type": "code",
   "execution_count": 53,
   "id": "3c16514e",
   "metadata": {
    "colab": {
     "base_uri": "https://localhost:8080/"
    },
    "id": "3c16514e",
    "outputId": "bb0b7bce-7746-424b-a337-5ad4449791df"
   },
   "outputs": [
    {
     "name": "stdout",
     "output_type": "stream",
     "text": [
      "Confirming as of April 2010 - The magazines do NOT come packaged with the software CD's as pictured on the product page, nor does the description disclaim that this is some kind no-CD subscription of the magazine.\n",
      "\n",
      "The reviews on the ridiculous time frames in which you receive your first issue are, unfortunately, true as well. The description claims 6-10 weeks, but it could take several months longer.\n",
      "\n",
      "Falsely advertised; buy directly through Maximum PC or a more reliable source where you'll actually get all 12 months with all 12 software discs, rather than 6-10 issues with no discs.\n",
      "\n",
      "This product is NOT the product described. It's as simple as that.\n",
      "\n",
      "Confirming as of April 2010 - The magazine do NOT come package with the software CD s as picture on the product page nor do the description disclaim that this be some kind no-CD subscription of the magazine The review on the ridiculous time frame in which you receive your first issue be unfortunately true as well The description claim 6-10 week but it could take several month longer Falsely advertise ; buy directly through Maximum PC or a more reliable source where you ll actually get all 12 month with all 12 software disc rather than 6-10 issue with no disc This product be NOT the product describe It s as simple as that\n",
      "\n",
      "CPU times: user 1min 10s, sys: 2.81 s, total: 1min 13s\n",
      "Wall time: 1min 34s\n"
     ]
    }
   ],
   "source": [
    "%%time\n",
    "# create Lemmatizer object\n",
    "lemma = WordNetLemmatizer()\n",
    "\n",
    "def lemmatize_word(tagged_token):\n",
    "    \"\"\" Returns lemmatized word given its tag\"\"\"\n",
    "    root = []\n",
    "    for token in tagged_token:\n",
    "        tag = token[1][0]\n",
    "        word = token[0]\n",
    "        if tag.startswith('J'):\n",
    "            root.append(lemma.lemmatize(word, wordnet.ADJ))\n",
    "        elif tag.startswith('V'):\n",
    "            root.append(lemma.lemmatize(word, wordnet.VERB))\n",
    "        elif tag.startswith('N'):\n",
    "            root.append(lemma.lemmatize(word, wordnet.NOUN))\n",
    "        elif tag.startswith('R'):\n",
    "            root.append(lemma.lemmatize(word, wordnet.ADV))\n",
    "        else:          \n",
    "            root.append(word)\n",
    "    return root\n",
    "\n",
    "def lemmatize_doc(document):\n",
    "    \"\"\" Tags words then returns sentence with lemmatized words\"\"\"\n",
    "    lemmatized_list = []\n",
    "    tokenized_sent = sent_tokenize(document)\n",
    "    for sentence in tokenized_sent:\n",
    "        no_punctuation = re.sub(r\"[`'\\\",.!?()]\", \" \", sentence)\n",
    "        tokenized_word = word_tokenize(no_punctuation)\n",
    "        tagged_token = pos_tag(tokenized_word)\n",
    "        lemmatized = lemmatize_word(tagged_token)\n",
    "        lemmatized_list.extend(lemmatized)\n",
    "    return \" \".join(lemmatized_list)\n",
    "\n",
    "# apply functions to review text\n",
    "review_samples[\"reviewProcessed\"] = review_samples[\"reviewText\"].apply(lambda row: lemmatize_doc(row))\n",
    "\n",
    "# Example review\n",
    "print(review_samples[\"reviewText\"].iloc[1])\n",
    "print(\"\")\n",
    "print(review_samples[\"reviewProcessed\"].iloc[1])\n",
    "print(\"\")"
   ]
  },
  {
   "cell_type": "markdown",
   "id": "5554ce4d",
   "metadata": {
    "id": "5554ce4d"
   },
   "source": [
    "### 3.2 General normalization"
   ]
  },
  {
   "cell_type": "code",
   "execution_count": 54,
   "id": "2eeb3903",
   "metadata": {
    "colab": {
     "base_uri": "https://localhost:8080/"
    },
    "id": "2eeb3903",
    "outputId": "825b7834-7dba-4460-a3ad-d393776c65f5"
   },
   "outputs": [
    {
     "name": "stdout",
     "output_type": "stream",
     "text": [
      "Confirming as of April 2010 - The magazines do NOT come packaged with the software CD's as pictured on the product page, nor does the description disclaim that this is some kind no-CD subscription of the magazine.\n",
      "\n",
      "The reviews on the ridiculous time frames in which you receive your first issue are, unfortunately, true as well. The description claims 6-10 weeks, but it could take several months longer.\n",
      "\n",
      "Falsely advertised; buy directly through Maximum PC or a more reliable source where you'll actually get all 12 months with all 12 software discs, rather than 6-10 issues with no discs.\n",
      "\n",
      "This product is NOT the product described. It's as simple as that.\n",
      "\n",
      "confirming april 2010 magazine come package software cd picture product page description disclaim kind cd subscription magazine review ridiculous time frame receive first issue unfortunately true well description claim 6 10 week could take several month longer falsely advertise buy directly maximum pc reliable source actually get 12 month 12 software disc rather 6 10 issue disc product product describe simple\n"
     ]
    }
   ],
   "source": [
    "# Remove accents\n",
    "\n",
    "remove_accent = lambda text: normalize(\"NFKD\", text).encode(\"ascii\", \"ignore\").decode(\"utf-8\", \"ignore\")\n",
    "review_samples[\"reviewProcessed\"] = review_samples[\"reviewProcessed\"].apply(remove_accent)\n",
    "\n",
    "# Remove punctuation\n",
    "pattern = r\"[^\\w\\s]\"\n",
    "review_samples[\"reviewProcessed\"] = review_samples[\"reviewProcessed\"].str.replace(pat=pattern, repl=\" \", regex=True)\n",
    "\n",
    "# Convert to lowercase\n",
    "review_samples[\"reviewProcessed\"] = review_samples[\"reviewProcessed\"].str.lower()\n",
    "\n",
    "# Remove stopwords\n",
    "stop_words = stopwords.words(\"english\")\n",
    "stop_words = [word.replace(\"\\'\", \"\") for word in stop_words]\n",
    "# print(f\"sample stop words: {stop_words[:15]} \\n\")\n",
    "\n",
    "remove_stop_words = lambda row: \" \".join([token for token in row.split(\" \") if token not in stop_words])\n",
    "review_samples[\"reviewProcessed\"] = review_samples[\"reviewProcessed\"].apply(remove_stop_words)\n",
    "\n",
    "# Remove extra spaces\n",
    "pattern = r\"[\\s]+\"\n",
    "review_samples[\"reviewProcessed\"] = review_samples[\"reviewProcessed\"].str.replace(pat=pattern, repl=\" \", regex=True)\n",
    "\n",
    "# Example review\n",
    "print(review_samples[\"reviewText\"].iloc[1])\n",
    "print(\"\")\n",
    "print(review_samples[\"reviewProcessed\"].iloc[1])"
   ]
  },
  {
   "cell_type": "markdown",
   "id": "526ae8ee",
   "metadata": {
    "id": "526ae8ee"
   },
   "source": [
    "### 3.3 Tokenization and vocabulary"
   ]
  },
  {
   "cell_type": "code",
   "execution_count": null,
   "id": "6da0a921",
   "metadata": {
    "id": "6da0a921"
   },
   "outputs": [],
   "source": [
    "# Create corpora\n",
    "corpora = review_samples['reviewText'].values\n",
    "tokenized = [corpus.split(\" \") for corpus in corpora]"
   ]
  },
  {
   "cell_type": "code",
   "execution_count": null,
   "id": "1b223732",
   "metadata": {
    "id": "1b223732"
   },
   "outputs": [],
   "source": [
    "# Setup phrase modeling\n",
    "bi_gram = Phrases(tokenized, min_count=300, threshold=50)\n",
    "\n",
    "tri_gram = Phrases(bi_gram[tokenized], min_count=50, threshold=50)"
   ]
  },
  {
   "cell_type": "code",
   "execution_count": null,
   "id": "d7727ec0",
   "metadata": {
    "colab": {
     "base_uri": "https://localhost:8080/"
    },
    "id": "d7727ec0",
    "outputId": "18a003fd-89b2-4f60-e38f-7733fd832d58"
   },
   "outputs": [],
   "source": [
    "# Unigrams\n",
    "uni_gram_tokens = set([token for text in tokenized for token in text])\n",
    "uni_gram_tokens = set(filter(lambda x: x != \"\", uni_gram_tokens))\n",
    "\n",
    "print(list(uni_gram_tokens)[:200])"
   ]
  },
  {
   "cell_type": "code",
   "execution_count": null,
   "id": "e7611a57",
   "metadata": {
    "colab": {
     "base_uri": "https://localhost:8080/"
    },
    "id": "e7611a57",
    "outputId": "d589d70f-f979-48bf-f5bf-8e72b8f7ea4d"
   },
   "outputs": [],
   "source": [
    "# Bigrams\n",
    "bigram_min = bi_gram.min_count\n",
    "bi_condition = lambda x: x[1] >= bigram_min\n",
    "\n",
    "bi_gram_tokens = dict(filter(bi_condition, bi_gram.vocab.items()))\n",
    "bi_gram_tokens = set(bi_gram_tokens)\n",
    "\n",
    "bi_grams_only = bi_gram_tokens.difference(uni_gram_tokens)\n",
    "print(list(bi_grams_only))"
   ]
  },
  {
   "cell_type": "code",
   "execution_count": null,
   "id": "cdf6d7fb",
   "metadata": {
    "colab": {
     "base_uri": "https://localhost:8080/"
    },
    "id": "cdf6d7fb",
    "outputId": "e1e3cbd0-1551-4736-9b87-798e6cc0c62c"
   },
   "outputs": [],
   "source": [
    "# Trigrams \n",
    "trigram_min = tri_gram.min_count\n",
    "\n",
    "tri_condition = lambda x: x[1] >= trigram_min\n",
    "\n",
    "tri_gram_tokens = dict(filter(tri_condition, tri_gram.vocab.items()))\n",
    "tri_gram_tokens = set(tri_gram_tokens)\n",
    "\n",
    "tri_grams_only = tri_gram_tokens.difference(bi_gram_tokens)\n",
    "print(list(tri_grams_only)[:50])"
   ]
  },
  {
   "cell_type": "markdown",
   "id": "e973a009",
   "metadata": {},
   "source": [
    "### X.X Output sampled and processed data to CSV"
   ]
  },
  {
   "cell_type": "code",
   "execution_count": null,
   "id": "54068b5c",
   "metadata": {
    "id": "9739ddff"
   },
   "outputs": [],
   "source": [
    "review_samples.to_csv('data/review_samples.csv')"
   ]
  },
  {
   "cell_type": "markdown",
   "id": "0e88e573",
   "metadata": {},
   "source": [
    "## X.X New data source "
   ]
  },
  {
   "cell_type": "markdown",
   "id": "d5024090",
   "metadata": {},
   "source": [
    "Data description: https://s3.amazonaws.com/amazon-reviews-pds/readme.html  \n",
    "Data dictionary and download: https://s3.amazonaws.com/amazon-reviews-pds/tsv/index.txt\n",
    "\n",
    "__Note:__ The potential advantage of this data is that usefulness can be calculated as a proportion rather than an absolute. Whereas the original data only provides the total # of votes for usefulness, this data provides the total votes for usefulness and the total overall votes."
   ]
  },
  {
   "cell_type": "code",
   "execution_count": 9,
   "id": "81621552",
   "metadata": {},
   "outputs": [
    {
     "name": "stdout",
     "output_type": "stream",
     "text": [
      "<class 'pandas.core.frame.DataFrame'>\n",
      "RangeIndex: 49 entries, 0 to 48\n",
      "Data columns (total 15 columns):\n",
      " #   Column             Non-Null Count  Dtype \n",
      "---  ------             --------------  ----- \n",
      " 0   marketplace        49 non-null     object\n",
      " 1   customer_id        49 non-null     int64 \n",
      " 2   review_id          49 non-null     object\n",
      " 3   product_id         49 non-null     object\n",
      " 4   product_parent     49 non-null     int64 \n",
      " 5   product_title      49 non-null     object\n",
      " 6   product_category   49 non-null     object\n",
      " 7   star_rating        49 non-null     int64 \n",
      " 8   helpful_votes      49 non-null     int64 \n",
      " 9   total_votes        49 non-null     int64 \n",
      " 10  vine               49 non-null     object\n",
      " 11  verified_purchase  49 non-null     object\n",
      " 12  review_headline    49 non-null     object\n",
      " 13  review_body        49 non-null     object\n",
      " 14  review_date        49 non-null     object\n",
      "dtypes: int64(5), object(10)\n",
      "memory usage: 5.9+ KB\n"
     ]
    }
   ],
   "source": [
    "sample = pd.read_csv(\"../data/sample_us.tsv\", sep='\\t')\n",
    "sample.info()"
   ]
  },
  {
   "cell_type": "code",
   "execution_count": 12,
   "id": "7317e9b3",
   "metadata": {},
   "outputs": [
    {
     "data": {
      "text/html": [
       "<div>\n",
       "<style scoped>\n",
       "    .dataframe tbody tr th:only-of-type {\n",
       "        vertical-align: middle;\n",
       "    }\n",
       "\n",
       "    .dataframe tbody tr th {\n",
       "        vertical-align: top;\n",
       "    }\n",
       "\n",
       "    .dataframe thead th {\n",
       "        text-align: right;\n",
       "    }\n",
       "</style>\n",
       "<table border=\"1\" class=\"dataframe\">\n",
       "  <thead>\n",
       "    <tr style=\"text-align: right;\">\n",
       "      <th></th>\n",
       "      <th>star_rating</th>\n",
       "      <th>review_headline</th>\n",
       "      <th>review_body</th>\n",
       "    </tr>\n",
       "  </thead>\n",
       "  <tbody>\n",
       "    <tr>\n",
       "      <th>0</th>\n",
       "      <td>5</td>\n",
       "      <td>Five Stars</td>\n",
       "      <td>Excellent!!!</td>\n",
       "    </tr>\n",
       "    <tr>\n",
       "      <th>1</th>\n",
       "      <td>5</td>\n",
       "      <td>Good quality track at excellent price</td>\n",
       "      <td>Great quality wooden track (better than some o...</td>\n",
       "    </tr>\n",
       "    <tr>\n",
       "      <th>2</th>\n",
       "      <td>2</td>\n",
       "      <td>Two Stars</td>\n",
       "      <td>Cards are not as big as pictured.</td>\n",
       "    </tr>\n",
       "    <tr>\n",
       "      <th>3</th>\n",
       "      <td>5</td>\n",
       "      <td>my daughter loved it and i liked the price and...</td>\n",
       "      <td>my daughter loved it and i liked the price and...</td>\n",
       "    </tr>\n",
       "    <tr>\n",
       "      <th>4</th>\n",
       "      <td>1</td>\n",
       "      <td>DONT BUY THESE!</td>\n",
       "      <td>Do not buy these! They break very fast I spun ...</td>\n",
       "    </tr>\n",
       "  </tbody>\n",
       "</table>\n",
       "</div>"
      ],
      "text/plain": [
       "   star_rating                                    review_headline  \\\n",
       "0            5                                         Five Stars   \n",
       "1            5              Good quality track at excellent price   \n",
       "2            2                                          Two Stars   \n",
       "3            5  my daughter loved it and i liked the price and...   \n",
       "4            1                                    DONT BUY THESE!   \n",
       "\n",
       "                                         review_body  \n",
       "0                                       Excellent!!!  \n",
       "1  Great quality wooden track (better than some o...  \n",
       "2                  Cards are not as big as pictured.  \n",
       "3  my daughter loved it and i liked the price and...  \n",
       "4  Do not buy these! They break very fast I spun ...  "
      ]
     },
     "execution_count": 12,
     "metadata": {},
     "output_type": "execute_result"
    }
   ],
   "source": [
    "sample[['star_rating', 'review_headline', 'review_body']].head()"
   ]
  },
  {
   "cell_type": "markdown",
   "id": "d7312639",
   "metadata": {},
   "source": [
    "__DATA COLUMNS:__  \n",
    "__marketplace__       - 2 letter country code of the marketplace where the review was written.  \n",
    "__customer_id__       - Random identifier that can be used to aggregate reviews written by a single author.  \n",
    "__review_id__         - The unique ID of the review.  \n",
    "__product_id__        - The unique Product ID the review pertains to. In the multilingual dataset the reviews for the same product in different countries can be grouped by the same product_id.  \n",
    "__product_parent__    - Random identifier that can be used to aggregate reviews for the same product.  \n",
    "__product_title__     - Title of the product.  \n",
    "__product_category__  - Broad product category that can be used to group reviews (also used to group the dataset into coherent parts).  \n",
    "__star_rating__       - The 1-5 star rating of the review.  \n",
    "__helpful_votes__     - Number of helpful votes.  \n",
    "__total_votes__       - Number of total votes the review received.  \n",
    "__vine__              - Review was written as part of the Vine program.  \n",
    "__verified_purchase__ - The review is on a verified purchase.  \n",
    "__review_headline__   - The title of the review.  \n",
    "__review_body__       - The review text.  \n",
    "__review_date__       - The date the review was written.  "
   ]
  },
  {
   "cell_type": "code",
   "execution_count": null,
   "id": "b718988a",
   "metadata": {},
   "outputs": [],
   "source": [
    "sample['useful'] = sample['helpful_votes'] / sample['total_votes']\n",
    "sample['useful'] = sample['useful'].fillna(0)"
   ]
  },
  {
   "cell_type": "code",
   "execution_count": null,
   "id": "cc5bd315",
   "metadata": {},
   "outputs": [],
   "source": [
    "sns.lmplot(x='total_votes', y='useful', data=sample, hue='product_category', fit_reg=False)\\\n",
    "   .set(title='')\n",
    "\n",
    "plt.show()"
   ]
  }
 ],
 "metadata": {
  "accelerator": "GPU",
  "colab": {
   "name": "data-processing.ipynb",
   "provenance": []
  },
  "kernelspec": {
   "display_name": "Python 3 (ipykernel)",
   "language": "python",
   "name": "python3"
  },
  "language_info": {
   "codemirror_mode": {
    "name": "ipython",
    "version": 3
   },
   "file_extension": ".py",
   "mimetype": "text/x-python",
   "name": "python",
   "nbconvert_exporter": "python",
   "pygments_lexer": "ipython3",
   "version": "3.8.8"
  },
  "widgets": {
   "application/vnd.jupyter.widget-state+json": {
    "020f62f332c042e79754e5f8ed44bff5": {
     "model_module": "@jupyter-widgets/base",
     "model_module_version": "1.2.0",
     "model_name": "LayoutModel",
     "state": {
      "_model_module": "@jupyter-widgets/base",
      "_model_module_version": "1.2.0",
      "_model_name": "LayoutModel",
      "_view_count": null,
      "_view_module": "@jupyter-widgets/base",
      "_view_module_version": "1.2.0",
      "_view_name": "LayoutView",
      "align_content": null,
      "align_items": null,
      "align_self": null,
      "border": null,
      "bottom": null,
      "display": null,
      "flex": null,
      "flex_flow": null,
      "grid_area": null,
      "grid_auto_columns": null,
      "grid_auto_flow": null,
      "grid_auto_rows": null,
      "grid_column": null,
      "grid_gap": null,
      "grid_row": null,
      "grid_template_areas": null,
      "grid_template_columns": null,
      "grid_template_rows": null,
      "height": null,
      "justify_content": null,
      "justify_items": null,
      "left": null,
      "margin": null,
      "max_height": null,
      "max_width": null,
      "min_height": null,
      "min_width": null,
      "object_fit": null,
      "object_position": null,
      "order": null,
      "overflow": null,
      "overflow_x": null,
      "overflow_y": null,
      "padding": null,
      "right": null,
      "top": null,
      "visibility": null,
      "width": null
     }
    },
    "02603486a9ae4386a9e231110b1245de": {
     "model_module": "@jupyter-widgets/controls",
     "model_module_version": "1.5.0",
     "model_name": "DescriptionStyleModel",
     "state": {
      "_model_module": "@jupyter-widgets/controls",
      "_model_module_version": "1.5.0",
      "_model_name": "DescriptionStyleModel",
      "_view_count": null,
      "_view_module": "@jupyter-widgets/base",
      "_view_module_version": "1.2.0",
      "_view_name": "StyleView",
      "description_width": ""
     }
    },
    "0860a168404f4f1d96b8ef6fe1acc061": {
     "model_module": "@jupyter-widgets/base",
     "model_module_version": "1.2.0",
     "model_name": "LayoutModel",
     "state": {
      "_model_module": "@jupyter-widgets/base",
      "_model_module_version": "1.2.0",
      "_model_name": "LayoutModel",
      "_view_count": null,
      "_view_module": "@jupyter-widgets/base",
      "_view_module_version": "1.2.0",
      "_view_name": "LayoutView",
      "align_content": null,
      "align_items": null,
      "align_self": null,
      "border": null,
      "bottom": null,
      "display": null,
      "flex": null,
      "flex_flow": null,
      "grid_area": null,
      "grid_auto_columns": null,
      "grid_auto_flow": null,
      "grid_auto_rows": null,
      "grid_column": null,
      "grid_gap": null,
      "grid_row": null,
      "grid_template_areas": null,
      "grid_template_columns": null,
      "grid_template_rows": null,
      "height": null,
      "justify_content": null,
      "justify_items": null,
      "left": null,
      "margin": null,
      "max_height": null,
      "max_width": null,
      "min_height": null,
      "min_width": null,
      "object_fit": null,
      "object_position": null,
      "order": null,
      "overflow": null,
      "overflow_x": null,
      "overflow_y": null,
      "padding": null,
      "right": null,
      "top": null,
      "visibility": null,
      "width": null
     }
    },
    "0d77126e84d3477daaf9cb466e274f55": {
     "model_module": "@jupyter-widgets/controls",
     "model_module_version": "1.5.0",
     "model_name": "FloatProgressModel",
     "state": {
      "_dom_classes": [],
      "_model_module": "@jupyter-widgets/controls",
      "_model_module_version": "1.5.0",
      "_model_name": "FloatProgressModel",
      "_view_count": null,
      "_view_module": "@jupyter-widgets/controls",
      "_view_module_version": "1.5.0",
      "_view_name": "ProgressView",
      "bar_style": "success",
      "description": "",
      "description_tooltip": null,
      "layout": "IPY_MODEL_48ec534e41df4b6cb8ab76ad6ee7911d",
      "max": 231508,
      "min": 0,
      "orientation": "horizontal",
      "style": "IPY_MODEL_a01f66f7cc90408892437f2ed1d616f8",
      "value": 231508
     }
    },
    "1119511508184c45b3441c84e44942cd": {
     "model_module": "@jupyter-widgets/controls",
     "model_module_version": "1.5.0",
     "model_name": "FloatProgressModel",
     "state": {
      "_dom_classes": [],
      "_model_module": "@jupyter-widgets/controls",
      "_model_module_version": "1.5.0",
      "_model_name": "FloatProgressModel",
      "_view_count": null,
      "_view_module": "@jupyter-widgets/controls",
      "_view_module_version": "1.5.0",
      "_view_name": "ProgressView",
      "bar_style": "success",
      "description": "",
      "description_tooltip": null,
      "layout": "IPY_MODEL_13ee2169a03e444d91689b505649cbed",
      "max": 570,
      "min": 0,
      "orientation": "horizontal",
      "style": "IPY_MODEL_b5ef1a6d67c0431cb30ebacd296e526a",
      "value": 570
     }
    },
    "11fbb752d78c40f98b730776631b5693": {
     "model_module": "@jupyter-widgets/controls",
     "model_module_version": "1.5.0",
     "model_name": "DescriptionStyleModel",
     "state": {
      "_model_module": "@jupyter-widgets/controls",
      "_model_module_version": "1.5.0",
      "_model_name": "DescriptionStyleModel",
      "_view_count": null,
      "_view_module": "@jupyter-widgets/base",
      "_view_module_version": "1.2.0",
      "_view_name": "StyleView",
      "description_width": ""
     }
    },
    "13ee2169a03e444d91689b505649cbed": {
     "model_module": "@jupyter-widgets/base",
     "model_module_version": "1.2.0",
     "model_name": "LayoutModel",
     "state": {
      "_model_module": "@jupyter-widgets/base",
      "_model_module_version": "1.2.0",
      "_model_name": "LayoutModel",
      "_view_count": null,
      "_view_module": "@jupyter-widgets/base",
      "_view_module_version": "1.2.0",
      "_view_name": "LayoutView",
      "align_content": null,
      "align_items": null,
      "align_self": null,
      "border": null,
      "bottom": null,
      "display": null,
      "flex": null,
      "flex_flow": null,
      "grid_area": null,
      "grid_auto_columns": null,
      "grid_auto_flow": null,
      "grid_auto_rows": null,
      "grid_column": null,
      "grid_gap": null,
      "grid_row": null,
      "grid_template_areas": null,
      "grid_template_columns": null,
      "grid_template_rows": null,
      "height": null,
      "justify_content": null,
      "justify_items": null,
      "left": null,
      "margin": null,
      "max_height": null,
      "max_width": null,
      "min_height": null,
      "min_width": null,
      "object_fit": null,
      "object_position": null,
      "order": null,
      "overflow": null,
      "overflow_x": null,
      "overflow_y": null,
      "padding": null,
      "right": null,
      "top": null,
      "visibility": null,
      "width": null
     }
    },
    "17a01879195744809f0f4bf86af8c8e9": {
     "model_module": "@jupyter-widgets/base",
     "model_module_version": "1.2.0",
     "model_name": "LayoutModel",
     "state": {
      "_model_module": "@jupyter-widgets/base",
      "_model_module_version": "1.2.0",
      "_model_name": "LayoutModel",
      "_view_count": null,
      "_view_module": "@jupyter-widgets/base",
      "_view_module_version": "1.2.0",
      "_view_name": "LayoutView",
      "align_content": null,
      "align_items": null,
      "align_self": null,
      "border": null,
      "bottom": null,
      "display": null,
      "flex": null,
      "flex_flow": null,
      "grid_area": null,
      "grid_auto_columns": null,
      "grid_auto_flow": null,
      "grid_auto_rows": null,
      "grid_column": null,
      "grid_gap": null,
      "grid_row": null,
      "grid_template_areas": null,
      "grid_template_columns": null,
      "grid_template_rows": null,
      "height": null,
      "justify_content": null,
      "justify_items": null,
      "left": null,
      "margin": null,
      "max_height": null,
      "max_width": null,
      "min_height": null,
      "min_width": null,
      "object_fit": null,
      "object_position": null,
      "order": null,
      "overflow": null,
      "overflow_x": null,
      "overflow_y": null,
      "padding": null,
      "right": null,
      "top": null,
      "visibility": null,
      "width": null
     }
    },
    "17d32e41a19447f0a17789d142904586": {
     "model_module": "@jupyter-widgets/controls",
     "model_module_version": "1.5.0",
     "model_name": "HTMLModel",
     "state": {
      "_dom_classes": [],
      "_model_module": "@jupyter-widgets/controls",
      "_model_module_version": "1.5.0",
      "_model_name": "HTMLModel",
      "_view_count": null,
      "_view_module": "@jupyter-widgets/controls",
      "_view_module_version": "1.5.0",
      "_view_name": "HTMLView",
      "description": "",
      "description_tooltip": null,
      "layout": "IPY_MODEL_8f5e6ca0bb8343bf8ea4d9a2e656166c",
      "placeholder": "​",
      "style": "IPY_MODEL_f5824d140287416c808bcbc7a24ac124",
      "value": "Downloading: 100%"
     }
    },
    "1a08d61e88e047c488b396bbd45049a2": {
     "model_module": "@jupyter-widgets/controls",
     "model_module_version": "1.5.0",
     "model_name": "ProgressStyleModel",
     "state": {
      "_model_module": "@jupyter-widgets/controls",
      "_model_module_version": "1.5.0",
      "_model_name": "ProgressStyleModel",
      "_view_count": null,
      "_view_module": "@jupyter-widgets/base",
      "_view_module_version": "1.2.0",
      "_view_name": "StyleView",
      "bar_color": null,
      "description_width": ""
     }
    },
    "1c5d31b8ad664bf187f96b516c4024ee": {
     "model_module": "@jupyter-widgets/base",
     "model_module_version": "1.2.0",
     "model_name": "LayoutModel",
     "state": {
      "_model_module": "@jupyter-widgets/base",
      "_model_module_version": "1.2.0",
      "_model_name": "LayoutModel",
      "_view_count": null,
      "_view_module": "@jupyter-widgets/base",
      "_view_module_version": "1.2.0",
      "_view_name": "LayoutView",
      "align_content": null,
      "align_items": null,
      "align_self": null,
      "border": null,
      "bottom": null,
      "display": null,
      "flex": null,
      "flex_flow": null,
      "grid_area": null,
      "grid_auto_columns": null,
      "grid_auto_flow": null,
      "grid_auto_rows": null,
      "grid_column": null,
      "grid_gap": null,
      "grid_row": null,
      "grid_template_areas": null,
      "grid_template_columns": null,
      "grid_template_rows": null,
      "height": null,
      "justify_content": null,
      "justify_items": null,
      "left": null,
      "margin": null,
      "max_height": null,
      "max_width": null,
      "min_height": null,
      "min_width": null,
      "object_fit": null,
      "object_position": null,
      "order": null,
      "overflow": null,
      "overflow_x": null,
      "overflow_y": null,
      "padding": null,
      "right": null,
      "top": null,
      "visibility": null,
      "width": null
     }
    },
    "2d4ab0bd0aa54ce89f8a43d83384ee48": {
     "model_module": "@jupyter-widgets/controls",
     "model_module_version": "1.5.0",
     "model_name": "ProgressStyleModel",
     "state": {
      "_model_module": "@jupyter-widgets/controls",
      "_model_module_version": "1.5.0",
      "_model_name": "ProgressStyleModel",
      "_view_count": null,
      "_view_module": "@jupyter-widgets/base",
      "_view_module_version": "1.2.0",
      "_view_name": "StyleView",
      "bar_color": null,
      "description_width": ""
     }
    },
    "36ce42e417af40bea840a7df83fcaf31": {
     "model_module": "@jupyter-widgets/controls",
     "model_module_version": "1.5.0",
     "model_name": "FloatProgressModel",
     "state": {
      "_dom_classes": [],
      "_model_module": "@jupyter-widgets/controls",
      "_model_module_version": "1.5.0",
      "_model_name": "FloatProgressModel",
      "_view_count": null,
      "_view_module": "@jupyter-widgets/controls",
      "_view_module_version": "1.5.0",
      "_view_name": "ProgressView",
      "bar_style": "success",
      "description": "",
      "description_tooltip": null,
      "layout": "IPY_MODEL_c89b492faca7411a83482f65df06c45d",
      "max": 536063208,
      "min": 0,
      "orientation": "horizontal",
      "style": "IPY_MODEL_2d4ab0bd0aa54ce89f8a43d83384ee48",
      "value": 536063208
     }
    },
    "3d1196f554bd4a28a1aff86ea032d3c3": {
     "model_module": "@jupyter-widgets/base",
     "model_module_version": "1.2.0",
     "model_name": "LayoutModel",
     "state": {
      "_model_module": "@jupyter-widgets/base",
      "_model_module_version": "1.2.0",
      "_model_name": "LayoutModel",
      "_view_count": null,
      "_view_module": "@jupyter-widgets/base",
      "_view_module_version": "1.2.0",
      "_view_name": "LayoutView",
      "align_content": null,
      "align_items": null,
      "align_self": null,
      "border": null,
      "bottom": null,
      "display": null,
      "flex": null,
      "flex_flow": null,
      "grid_area": null,
      "grid_auto_columns": null,
      "grid_auto_flow": null,
      "grid_auto_rows": null,
      "grid_column": null,
      "grid_gap": null,
      "grid_row": null,
      "grid_template_areas": null,
      "grid_template_columns": null,
      "grid_template_rows": null,
      "height": null,
      "justify_content": null,
      "justify_items": null,
      "left": null,
      "margin": null,
      "max_height": null,
      "max_width": null,
      "min_height": null,
      "min_width": null,
      "object_fit": null,
      "object_position": null,
      "order": null,
      "overflow": null,
      "overflow_x": null,
      "overflow_y": null,
      "padding": null,
      "right": null,
      "top": null,
      "visibility": null,
      "width": null
     }
    },
    "43cf49055dbc4842a1a46fc9df8ee932": {
     "model_module": "@jupyter-widgets/controls",
     "model_module_version": "1.5.0",
     "model_name": "HTMLModel",
     "state": {
      "_dom_classes": [],
      "_model_module": "@jupyter-widgets/controls",
      "_model_module_version": "1.5.0",
      "_model_name": "HTMLModel",
      "_view_count": null,
      "_view_module": "@jupyter-widgets/controls",
      "_view_module_version": "1.5.0",
      "_view_name": "HTMLView",
      "description": "",
      "description_tooltip": null,
      "layout": "IPY_MODEL_90b0e5e62e244172a59225587f5d084d",
      "placeholder": "​",
      "style": "IPY_MODEL_8730c717632a468ea50e5255f8946e82",
      "value": "Downloading: 100%"
     }
    },
    "48ec534e41df4b6cb8ab76ad6ee7911d": {
     "model_module": "@jupyter-widgets/base",
     "model_module_version": "1.2.0",
     "model_name": "LayoutModel",
     "state": {
      "_model_module": "@jupyter-widgets/base",
      "_model_module_version": "1.2.0",
      "_model_name": "LayoutModel",
      "_view_count": null,
      "_view_module": "@jupyter-widgets/base",
      "_view_module_version": "1.2.0",
      "_view_name": "LayoutView",
      "align_content": null,
      "align_items": null,
      "align_self": null,
      "border": null,
      "bottom": null,
      "display": null,
      "flex": null,
      "flex_flow": null,
      "grid_area": null,
      "grid_auto_columns": null,
      "grid_auto_flow": null,
      "grid_auto_rows": null,
      "grid_column": null,
      "grid_gap": null,
      "grid_row": null,
      "grid_template_areas": null,
      "grid_template_columns": null,
      "grid_template_rows": null,
      "height": null,
      "justify_content": null,
      "justify_items": null,
      "left": null,
      "margin": null,
      "max_height": null,
      "max_width": null,
      "min_height": null,
      "min_width": null,
      "object_fit": null,
      "object_position": null,
      "order": null,
      "overflow": null,
      "overflow_x": null,
      "overflow_y": null,
      "padding": null,
      "right": null,
      "top": null,
      "visibility": null,
      "width": null
     }
    },
    "4f5cab468d1d41999f10657f7b79b50a": {
     "model_module": "@jupyter-widgets/controls",
     "model_module_version": "1.5.0",
     "model_name": "HTMLModel",
     "state": {
      "_dom_classes": [],
      "_model_module": "@jupyter-widgets/controls",
      "_model_module_version": "1.5.0",
      "_model_name": "HTMLModel",
      "_view_count": null,
      "_view_module": "@jupyter-widgets/controls",
      "_view_module_version": "1.5.0",
      "_view_name": "HTMLView",
      "description": "",
      "description_tooltip": null,
      "layout": "IPY_MODEL_1c5d31b8ad664bf187f96b516c4024ee",
      "placeholder": "​",
      "style": "IPY_MODEL_11fbb752d78c40f98b730776631b5693",
      "value": "Downloading: 100%"
     }
    },
    "5031e91548e64613a736ee45e1b41b9d": {
     "model_module": "@jupyter-widgets/base",
     "model_module_version": "1.2.0",
     "model_name": "LayoutModel",
     "state": {
      "_model_module": "@jupyter-widgets/base",
      "_model_module_version": "1.2.0",
      "_model_name": "LayoutModel",
      "_view_count": null,
      "_view_module": "@jupyter-widgets/base",
      "_view_module_version": "1.2.0",
      "_view_name": "LayoutView",
      "align_content": null,
      "align_items": null,
      "align_self": null,
      "border": null,
      "bottom": null,
      "display": null,
      "flex": null,
      "flex_flow": null,
      "grid_area": null,
      "grid_auto_columns": null,
      "grid_auto_flow": null,
      "grid_auto_rows": null,
      "grid_column": null,
      "grid_gap": null,
      "grid_row": null,
      "grid_template_areas": null,
      "grid_template_columns": null,
      "grid_template_rows": null,
      "height": null,
      "justify_content": null,
      "justify_items": null,
      "left": null,
      "margin": null,
      "max_height": null,
      "max_width": null,
      "min_height": null,
      "min_width": null,
      "object_fit": null,
      "object_position": null,
      "order": null,
      "overflow": null,
      "overflow_x": null,
      "overflow_y": null,
      "padding": null,
      "right": null,
      "top": null,
      "visibility": null,
      "width": null
     }
    },
    "62f2609230e44f86a4a48d96a2460215": {
     "model_module": "@jupyter-widgets/controls",
     "model_module_version": "1.5.0",
     "model_name": "HBoxModel",
     "state": {
      "_dom_classes": [],
      "_model_module": "@jupyter-widgets/controls",
      "_model_module_version": "1.5.0",
      "_model_name": "HBoxModel",
      "_view_count": null,
      "_view_module": "@jupyter-widgets/controls",
      "_view_module_version": "1.5.0",
      "_view_name": "HBoxView",
      "box_style": "",
      "children": [
       "IPY_MODEL_4f5cab468d1d41999f10657f7b79b50a",
       "IPY_MODEL_0d77126e84d3477daaf9cb466e274f55",
       "IPY_MODEL_d98db63696bb4737b89ef6e440b957f3"
      ],
      "layout": "IPY_MODEL_a83f5aa55c4a433283a0190692243bb4"
     }
    },
    "633a6bc9034b4b52a4f5ceb0e213349c": {
     "model_module": "@jupyter-widgets/controls",
     "model_module_version": "1.5.0",
     "model_name": "HTMLModel",
     "state": {
      "_dom_classes": [],
      "_model_module": "@jupyter-widgets/controls",
      "_model_module_version": "1.5.0",
      "_model_name": "HTMLModel",
      "_view_count": null,
      "_view_module": "@jupyter-widgets/controls",
      "_view_module_version": "1.5.0",
      "_view_name": "HTMLView",
      "description": "",
      "description_tooltip": null,
      "layout": "IPY_MODEL_3d1196f554bd4a28a1aff86ea032d3c3",
      "placeholder": "​",
      "style": "IPY_MODEL_02603486a9ae4386a9e231110b1245de",
      "value": " 570/570 [00:00&lt;00:00, 3.17kB/s]"
     }
    },
    "64799d9b7ea74fb2b23f1b811ff7c4e6": {
     "model_module": "@jupyter-widgets/controls",
     "model_module_version": "1.5.0",
     "model_name": "HTMLModel",
     "state": {
      "_dom_classes": [],
      "_model_module": "@jupyter-widgets/controls",
      "_model_module_version": "1.5.0",
      "_model_name": "HTMLModel",
      "_view_count": null,
      "_view_module": "@jupyter-widgets/controls",
      "_view_module_version": "1.5.0",
      "_view_name": "HTMLView",
      "description": "",
      "description_tooltip": null,
      "layout": "IPY_MODEL_bc3dd61b8c5d4cfca12cb315bb8378f7",
      "placeholder": "​",
      "style": "IPY_MODEL_82dd2fae32844f77a1c7299eb2a8fdae",
      "value": "Downloading: 100%"
     }
    },
    "6619148b460b45aba80f6171b73d61df": {
     "model_module": "@jupyter-widgets/controls",
     "model_module_version": "1.5.0",
     "model_name": "DescriptionStyleModel",
     "state": {
      "_model_module": "@jupyter-widgets/controls",
      "_model_module_version": "1.5.0",
      "_model_name": "DescriptionStyleModel",
      "_view_count": null,
      "_view_module": "@jupyter-widgets/base",
      "_view_module_version": "1.2.0",
      "_view_name": "StyleView",
      "description_width": ""
     }
    },
    "6f685d96196f4e3abb0c6e08fe5aee92": {
     "model_module": "@jupyter-widgets/controls",
     "model_module_version": "1.5.0",
     "model_name": "HBoxModel",
     "state": {
      "_dom_classes": [],
      "_model_module": "@jupyter-widgets/controls",
      "_model_module_version": "1.5.0",
      "_model_name": "HBoxModel",
      "_view_count": null,
      "_view_module": "@jupyter-widgets/controls",
      "_view_module_version": "1.5.0",
      "_view_name": "HBoxView",
      "box_style": "",
      "children": [
       "IPY_MODEL_43cf49055dbc4842a1a46fc9df8ee932",
       "IPY_MODEL_1119511508184c45b3441c84e44942cd",
       "IPY_MODEL_633a6bc9034b4b52a4f5ceb0e213349c"
      ],
      "layout": "IPY_MODEL_0860a168404f4f1d96b8ef6fe1acc061"
     }
    },
    "7c7d53c256a4431d987de57f0287e0a1": {
     "model_module": "@jupyter-widgets/controls",
     "model_module_version": "1.5.0",
     "model_name": "HBoxModel",
     "state": {
      "_dom_classes": [],
      "_model_module": "@jupyter-widgets/controls",
      "_model_module_version": "1.5.0",
      "_model_name": "HBoxModel",
      "_view_count": null,
      "_view_module": "@jupyter-widgets/controls",
      "_view_module_version": "1.5.0",
      "_view_name": "HBoxView",
      "box_style": "",
      "children": [
       "IPY_MODEL_17d32e41a19447f0a17789d142904586",
       "IPY_MODEL_36ce42e417af40bea840a7df83fcaf31",
       "IPY_MODEL_ef8bbf83b5224efcaf46b479cd6d93e6"
      ],
      "layout": "IPY_MODEL_d959e779476a4f79b5d8f06703621c85"
     }
    },
    "82dd2fae32844f77a1c7299eb2a8fdae": {
     "model_module": "@jupyter-widgets/controls",
     "model_module_version": "1.5.0",
     "model_name": "DescriptionStyleModel",
     "state": {
      "_model_module": "@jupyter-widgets/controls",
      "_model_module_version": "1.5.0",
      "_model_name": "DescriptionStyleModel",
      "_view_count": null,
      "_view_module": "@jupyter-widgets/base",
      "_view_module_version": "1.2.0",
      "_view_name": "StyleView",
      "description_width": ""
     }
    },
    "8730c717632a468ea50e5255f8946e82": {
     "model_module": "@jupyter-widgets/controls",
     "model_module_version": "1.5.0",
     "model_name": "DescriptionStyleModel",
     "state": {
      "_model_module": "@jupyter-widgets/controls",
      "_model_module_version": "1.5.0",
      "_model_name": "DescriptionStyleModel",
      "_view_count": null,
      "_view_module": "@jupyter-widgets/base",
      "_view_module_version": "1.2.0",
      "_view_name": "StyleView",
      "description_width": ""
     }
    },
    "880b22c5d3f94d878d0b457a4119bdb9": {
     "model_module": "@jupyter-widgets/controls",
     "model_module_version": "1.5.0",
     "model_name": "DescriptionStyleModel",
     "state": {
      "_model_module": "@jupyter-widgets/controls",
      "_model_module_version": "1.5.0",
      "_model_name": "DescriptionStyleModel",
      "_view_count": null,
      "_view_module": "@jupyter-widgets/base",
      "_view_module_version": "1.2.0",
      "_view_name": "StyleView",
      "description_width": ""
     }
    },
    "8f5e6ca0bb8343bf8ea4d9a2e656166c": {
     "model_module": "@jupyter-widgets/base",
     "model_module_version": "1.2.0",
     "model_name": "LayoutModel",
     "state": {
      "_model_module": "@jupyter-widgets/base",
      "_model_module_version": "1.2.0",
      "_model_name": "LayoutModel",
      "_view_count": null,
      "_view_module": "@jupyter-widgets/base",
      "_view_module_version": "1.2.0",
      "_view_name": "LayoutView",
      "align_content": null,
      "align_items": null,
      "align_self": null,
      "border": null,
      "bottom": null,
      "display": null,
      "flex": null,
      "flex_flow": null,
      "grid_area": null,
      "grid_auto_columns": null,
      "grid_auto_flow": null,
      "grid_auto_rows": null,
      "grid_column": null,
      "grid_gap": null,
      "grid_row": null,
      "grid_template_areas": null,
      "grid_template_columns": null,
      "grid_template_rows": null,
      "height": null,
      "justify_content": null,
      "justify_items": null,
      "left": null,
      "margin": null,
      "max_height": null,
      "max_width": null,
      "min_height": null,
      "min_width": null,
      "object_fit": null,
      "object_position": null,
      "order": null,
      "overflow": null,
      "overflow_x": null,
      "overflow_y": null,
      "padding": null,
      "right": null,
      "top": null,
      "visibility": null,
      "width": null
     }
    },
    "90b0e5e62e244172a59225587f5d084d": {
     "model_module": "@jupyter-widgets/base",
     "model_module_version": "1.2.0",
     "model_name": "LayoutModel",
     "state": {
      "_model_module": "@jupyter-widgets/base",
      "_model_module_version": "1.2.0",
      "_model_name": "LayoutModel",
      "_view_count": null,
      "_view_module": "@jupyter-widgets/base",
      "_view_module_version": "1.2.0",
      "_view_name": "LayoutView",
      "align_content": null,
      "align_items": null,
      "align_self": null,
      "border": null,
      "bottom": null,
      "display": null,
      "flex": null,
      "flex_flow": null,
      "grid_area": null,
      "grid_auto_columns": null,
      "grid_auto_flow": null,
      "grid_auto_rows": null,
      "grid_column": null,
      "grid_gap": null,
      "grid_row": null,
      "grid_template_areas": null,
      "grid_template_columns": null,
      "grid_template_rows": null,
      "height": null,
      "justify_content": null,
      "justify_items": null,
      "left": null,
      "margin": null,
      "max_height": null,
      "max_width": null,
      "min_height": null,
      "min_width": null,
      "object_fit": null,
      "object_position": null,
      "order": null,
      "overflow": null,
      "overflow_x": null,
      "overflow_y": null,
      "padding": null,
      "right": null,
      "top": null,
      "visibility": null,
      "width": null
     }
    },
    "949eb92a430649d18999712c04a90a02": {
     "model_module": "@jupyter-widgets/controls",
     "model_module_version": "1.5.0",
     "model_name": "DescriptionStyleModel",
     "state": {
      "_model_module": "@jupyter-widgets/controls",
      "_model_module_version": "1.5.0",
      "_model_name": "DescriptionStyleModel",
      "_view_count": null,
      "_view_module": "@jupyter-widgets/base",
      "_view_module_version": "1.2.0",
      "_view_name": "StyleView",
      "description_width": ""
     }
    },
    "96720bada37044a18dd9b657820174cd": {
     "model_module": "@jupyter-widgets/base",
     "model_module_version": "1.2.0",
     "model_name": "LayoutModel",
     "state": {
      "_model_module": "@jupyter-widgets/base",
      "_model_module_version": "1.2.0",
      "_model_name": "LayoutModel",
      "_view_count": null,
      "_view_module": "@jupyter-widgets/base",
      "_view_module_version": "1.2.0",
      "_view_name": "LayoutView",
      "align_content": null,
      "align_items": null,
      "align_self": null,
      "border": null,
      "bottom": null,
      "display": null,
      "flex": null,
      "flex_flow": null,
      "grid_area": null,
      "grid_auto_columns": null,
      "grid_auto_flow": null,
      "grid_auto_rows": null,
      "grid_column": null,
      "grid_gap": null,
      "grid_row": null,
      "grid_template_areas": null,
      "grid_template_columns": null,
      "grid_template_rows": null,
      "height": null,
      "justify_content": null,
      "justify_items": null,
      "left": null,
      "margin": null,
      "max_height": null,
      "max_width": null,
      "min_height": null,
      "min_width": null,
      "object_fit": null,
      "object_position": null,
      "order": null,
      "overflow": null,
      "overflow_x": null,
      "overflow_y": null,
      "padding": null,
      "right": null,
      "top": null,
      "visibility": null,
      "width": null
     }
    },
    "9d778e4100294381ab56dd894c5f1472": {
     "model_module": "@jupyter-widgets/base",
     "model_module_version": "1.2.0",
     "model_name": "LayoutModel",
     "state": {
      "_model_module": "@jupyter-widgets/base",
      "_model_module_version": "1.2.0",
      "_model_name": "LayoutModel",
      "_view_count": null,
      "_view_module": "@jupyter-widgets/base",
      "_view_module_version": "1.2.0",
      "_view_name": "LayoutView",
      "align_content": null,
      "align_items": null,
      "align_self": null,
      "border": null,
      "bottom": null,
      "display": null,
      "flex": null,
      "flex_flow": null,
      "grid_area": null,
      "grid_auto_columns": null,
      "grid_auto_flow": null,
      "grid_auto_rows": null,
      "grid_column": null,
      "grid_gap": null,
      "grid_row": null,
      "grid_template_areas": null,
      "grid_template_columns": null,
      "grid_template_rows": null,
      "height": null,
      "justify_content": null,
      "justify_items": null,
      "left": null,
      "margin": null,
      "max_height": null,
      "max_width": null,
      "min_height": null,
      "min_width": null,
      "object_fit": null,
      "object_position": null,
      "order": null,
      "overflow": null,
      "overflow_x": null,
      "overflow_y": null,
      "padding": null,
      "right": null,
      "top": null,
      "visibility": null,
      "width": null
     }
    },
    "a01f66f7cc90408892437f2ed1d616f8": {
     "model_module": "@jupyter-widgets/controls",
     "model_module_version": "1.5.0",
     "model_name": "ProgressStyleModel",
     "state": {
      "_model_module": "@jupyter-widgets/controls",
      "_model_module_version": "1.5.0",
      "_model_name": "ProgressStyleModel",
      "_view_count": null,
      "_view_module": "@jupyter-widgets/base",
      "_view_module_version": "1.2.0",
      "_view_name": "StyleView",
      "bar_color": null,
      "description_width": ""
     }
    },
    "a83f5aa55c4a433283a0190692243bb4": {
     "model_module": "@jupyter-widgets/base",
     "model_module_version": "1.2.0",
     "model_name": "LayoutModel",
     "state": {
      "_model_module": "@jupyter-widgets/base",
      "_model_module_version": "1.2.0",
      "_model_name": "LayoutModel",
      "_view_count": null,
      "_view_module": "@jupyter-widgets/base",
      "_view_module_version": "1.2.0",
      "_view_name": "LayoutView",
      "align_content": null,
      "align_items": null,
      "align_self": null,
      "border": null,
      "bottom": null,
      "display": null,
      "flex": null,
      "flex_flow": null,
      "grid_area": null,
      "grid_auto_columns": null,
      "grid_auto_flow": null,
      "grid_auto_rows": null,
      "grid_column": null,
      "grid_gap": null,
      "grid_row": null,
      "grid_template_areas": null,
      "grid_template_columns": null,
      "grid_template_rows": null,
      "height": null,
      "justify_content": null,
      "justify_items": null,
      "left": null,
      "margin": null,
      "max_height": null,
      "max_width": null,
      "min_height": null,
      "min_width": null,
      "object_fit": null,
      "object_position": null,
      "order": null,
      "overflow": null,
      "overflow_x": null,
      "overflow_y": null,
      "padding": null,
      "right": null,
      "top": null,
      "visibility": null,
      "width": null
     }
    },
    "af19196510b74527a5bf5d8f98850246": {
     "model_module": "@jupyter-widgets/controls",
     "model_module_version": "1.5.0",
     "model_name": "HTMLModel",
     "state": {
      "_dom_classes": [],
      "_model_module": "@jupyter-widgets/controls",
      "_model_module_version": "1.5.0",
      "_model_name": "HTMLModel",
      "_view_count": null,
      "_view_module": "@jupyter-widgets/controls",
      "_view_module_version": "1.5.0",
      "_view_name": "HTMLView",
      "description": "",
      "description_tooltip": null,
      "layout": "IPY_MODEL_5031e91548e64613a736ee45e1b41b9d",
      "placeholder": "​",
      "style": "IPY_MODEL_880b22c5d3f94d878d0b457a4119bdb9",
      "value": " 28.0/28.0 [00:00&lt;00:00, 758B/s]"
     }
    },
    "b5ef1a6d67c0431cb30ebacd296e526a": {
     "model_module": "@jupyter-widgets/controls",
     "model_module_version": "1.5.0",
     "model_name": "ProgressStyleModel",
     "state": {
      "_model_module": "@jupyter-widgets/controls",
      "_model_module_version": "1.5.0",
      "_model_name": "ProgressStyleModel",
      "_view_count": null,
      "_view_module": "@jupyter-widgets/base",
      "_view_module_version": "1.2.0",
      "_view_name": "StyleView",
      "bar_color": null,
      "description_width": ""
     }
    },
    "bc3dd61b8c5d4cfca12cb315bb8378f7": {
     "model_module": "@jupyter-widgets/base",
     "model_module_version": "1.2.0",
     "model_name": "LayoutModel",
     "state": {
      "_model_module": "@jupyter-widgets/base",
      "_model_module_version": "1.2.0",
      "_model_name": "LayoutModel",
      "_view_count": null,
      "_view_module": "@jupyter-widgets/base",
      "_view_module_version": "1.2.0",
      "_view_name": "LayoutView",
      "align_content": null,
      "align_items": null,
      "align_self": null,
      "border": null,
      "bottom": null,
      "display": null,
      "flex": null,
      "flex_flow": null,
      "grid_area": null,
      "grid_auto_columns": null,
      "grid_auto_flow": null,
      "grid_auto_rows": null,
      "grid_column": null,
      "grid_gap": null,
      "grid_row": null,
      "grid_template_areas": null,
      "grid_template_columns": null,
      "grid_template_rows": null,
      "height": null,
      "justify_content": null,
      "justify_items": null,
      "left": null,
      "margin": null,
      "max_height": null,
      "max_width": null,
      "min_height": null,
      "min_width": null,
      "object_fit": null,
      "object_position": null,
      "order": null,
      "overflow": null,
      "overflow_x": null,
      "overflow_y": null,
      "padding": null,
      "right": null,
      "top": null,
      "visibility": null,
      "width": null
     }
    },
    "c351d8ef2d754bb7b2cab3ec781e108c": {
     "model_module": "@jupyter-widgets/controls",
     "model_module_version": "1.5.0",
     "model_name": "HBoxModel",
     "state": {
      "_dom_classes": [],
      "_model_module": "@jupyter-widgets/controls",
      "_model_module_version": "1.5.0",
      "_model_name": "HBoxModel",
      "_view_count": null,
      "_view_module": "@jupyter-widgets/controls",
      "_view_module_version": "1.5.0",
      "_view_name": "HBoxView",
      "box_style": "",
      "children": [
       "IPY_MODEL_64799d9b7ea74fb2b23f1b811ff7c4e6",
       "IPY_MODEL_c995702a012742428f0ff4359d32a6c2",
       "IPY_MODEL_af19196510b74527a5bf5d8f98850246"
      ],
      "layout": "IPY_MODEL_020f62f332c042e79754e5f8ed44bff5"
     }
    },
    "c89b492faca7411a83482f65df06c45d": {
     "model_module": "@jupyter-widgets/base",
     "model_module_version": "1.2.0",
     "model_name": "LayoutModel",
     "state": {
      "_model_module": "@jupyter-widgets/base",
      "_model_module_version": "1.2.0",
      "_model_name": "LayoutModel",
      "_view_count": null,
      "_view_module": "@jupyter-widgets/base",
      "_view_module_version": "1.2.0",
      "_view_name": "LayoutView",
      "align_content": null,
      "align_items": null,
      "align_self": null,
      "border": null,
      "bottom": null,
      "display": null,
      "flex": null,
      "flex_flow": null,
      "grid_area": null,
      "grid_auto_columns": null,
      "grid_auto_flow": null,
      "grid_auto_rows": null,
      "grid_column": null,
      "grid_gap": null,
      "grid_row": null,
      "grid_template_areas": null,
      "grid_template_columns": null,
      "grid_template_rows": null,
      "height": null,
      "justify_content": null,
      "justify_items": null,
      "left": null,
      "margin": null,
      "max_height": null,
      "max_width": null,
      "min_height": null,
      "min_width": null,
      "object_fit": null,
      "object_position": null,
      "order": null,
      "overflow": null,
      "overflow_x": null,
      "overflow_y": null,
      "padding": null,
      "right": null,
      "top": null,
      "visibility": null,
      "width": null
     }
    },
    "c995702a012742428f0ff4359d32a6c2": {
     "model_module": "@jupyter-widgets/controls",
     "model_module_version": "1.5.0",
     "model_name": "FloatProgressModel",
     "state": {
      "_dom_classes": [],
      "_model_module": "@jupyter-widgets/controls",
      "_model_module_version": "1.5.0",
      "_model_name": "FloatProgressModel",
      "_view_count": null,
      "_view_module": "@jupyter-widgets/controls",
      "_view_module_version": "1.5.0",
      "_view_name": "ProgressView",
      "bar_style": "success",
      "description": "",
      "description_tooltip": null,
      "layout": "IPY_MODEL_17a01879195744809f0f4bf86af8c8e9",
      "max": 28,
      "min": 0,
      "orientation": "horizontal",
      "style": "IPY_MODEL_1a08d61e88e047c488b396bbd45049a2",
      "value": 28
     }
    },
    "d959e779476a4f79b5d8f06703621c85": {
     "model_module": "@jupyter-widgets/base",
     "model_module_version": "1.2.0",
     "model_name": "LayoutModel",
     "state": {
      "_model_module": "@jupyter-widgets/base",
      "_model_module_version": "1.2.0",
      "_model_name": "LayoutModel",
      "_view_count": null,
      "_view_module": "@jupyter-widgets/base",
      "_view_module_version": "1.2.0",
      "_view_name": "LayoutView",
      "align_content": null,
      "align_items": null,
      "align_self": null,
      "border": null,
      "bottom": null,
      "display": null,
      "flex": null,
      "flex_flow": null,
      "grid_area": null,
      "grid_auto_columns": null,
      "grid_auto_flow": null,
      "grid_auto_rows": null,
      "grid_column": null,
      "grid_gap": null,
      "grid_row": null,
      "grid_template_areas": null,
      "grid_template_columns": null,
      "grid_template_rows": null,
      "height": null,
      "justify_content": null,
      "justify_items": null,
      "left": null,
      "margin": null,
      "max_height": null,
      "max_width": null,
      "min_height": null,
      "min_width": null,
      "object_fit": null,
      "object_position": null,
      "order": null,
      "overflow": null,
      "overflow_x": null,
      "overflow_y": null,
      "padding": null,
      "right": null,
      "top": null,
      "visibility": null,
      "width": null
     }
    },
    "d98db63696bb4737b89ef6e440b957f3": {
     "model_module": "@jupyter-widgets/controls",
     "model_module_version": "1.5.0",
     "model_name": "HTMLModel",
     "state": {
      "_dom_classes": [],
      "_model_module": "@jupyter-widgets/controls",
      "_model_module_version": "1.5.0",
      "_model_name": "HTMLModel",
      "_view_count": null,
      "_view_module": "@jupyter-widgets/controls",
      "_view_module_version": "1.5.0",
      "_view_name": "HTMLView",
      "description": "",
      "description_tooltip": null,
      "layout": "IPY_MODEL_96720bada37044a18dd9b657820174cd",
      "placeholder": "​",
      "style": "IPY_MODEL_949eb92a430649d18999712c04a90a02",
      "value": " 226k/226k [00:00&lt;00:00, 591kB/s]"
     }
    },
    "ef8bbf83b5224efcaf46b479cd6d93e6": {
     "model_module": "@jupyter-widgets/controls",
     "model_module_version": "1.5.0",
     "model_name": "HTMLModel",
     "state": {
      "_dom_classes": [],
      "_model_module": "@jupyter-widgets/controls",
      "_model_module_version": "1.5.0",
      "_model_name": "HTMLModel",
      "_view_count": null,
      "_view_module": "@jupyter-widgets/controls",
      "_view_module_version": "1.5.0",
      "_view_name": "HTMLView",
      "description": "",
      "description_tooltip": null,
      "layout": "IPY_MODEL_9d778e4100294381ab56dd894c5f1472",
      "placeholder": "​",
      "style": "IPY_MODEL_6619148b460b45aba80f6171b73d61df",
      "value": " 511M/511M [00:45&lt;00:00, 9.14MB/s]"
     }
    },
    "f5824d140287416c808bcbc7a24ac124": {
     "model_module": "@jupyter-widgets/controls",
     "model_module_version": "1.5.0",
     "model_name": "DescriptionStyleModel",
     "state": {
      "_model_module": "@jupyter-widgets/controls",
      "_model_module_version": "1.5.0",
      "_model_name": "DescriptionStyleModel",
      "_view_count": null,
      "_view_module": "@jupyter-widgets/base",
      "_view_module_version": "1.2.0",
      "_view_name": "StyleView",
      "description_width": ""
     }
    }
   }
  }
 },
 "nbformat": 4,
 "nbformat_minor": 5
}
