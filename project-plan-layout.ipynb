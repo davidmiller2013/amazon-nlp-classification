{
 "cells": [
  {
   "cell_type": "markdown",
   "id": "704a6080",
   "metadata": {},
   "source": [
    "# Project Plan Skeleton"
   ]
  },
  {
   "cell_type": "markdown",
   "id": "27fec75e",
   "metadata": {},
   "source": [
    "## Data ingestion and preparation"
   ]
  },
  {
   "cell_type": "markdown",
   "id": "b552f6c7",
   "metadata": {},
   "source": [
    "~1. Import libraries~"
   ]
  },
  {
   "cell_type": "markdown",
   "id": "7cffc36b",
   "metadata": {},
   "source": [
    "~2. Use PySpark to ingest full dataset~"
   ]
  },
  {
   "cell_type": "markdown",
   "id": "aebbbd6a",
   "metadata": {},
   "source": [
    "~3. Use Magazines data to lay out framework for exploration, data processing~"
   ]
  },
  {
   "cell_type": "markdown",
   "id": "f5ed6023",
   "metadata": {},
   "source": [
    "~4. Design random sampling approach to filter for a proportional number of books across each sub-category.~"
   ]
  },
  {
   "cell_type": "markdown",
   "id": "e6678f80",
   "metadata": {},
   "source": [
    "~5. Filter Books review data to only include those in the sample~"
   ]
  },
  {
   "cell_type": "markdown",
   "id": "8363fc7c",
   "metadata": {},
   "source": [
    "~6. Write sampled data population to a csv to be stored for future use~"
   ]
  },
  {
   "cell_type": "markdown",
   "id": "54bebb12",
   "metadata": {},
   "source": [
    "## Exploratory analysis and text pre-processing"
   ]
  },
  {
   "cell_type": "markdown",
   "id": "a55c3a78",
   "metadata": {},
   "source": [
    "1. Create set of rules for what reviews to accept or throw out\n",
    "    1. Min or max number of words\n",
    "    1. Include URLs or not\n",
    "    1. Emojis\n",
    "    1. Eliminate stop words"
   ]
  },
  {
   "cell_type": "markdown",
   "id": "7d83a669",
   "metadata": {},
   "source": [
    "~2. What is considered a document - a review, a set of reviews, or part of a review?~"
   ]
  },
  {
   "cell_type": "markdown",
   "id": "7fc00333",
   "metadata": {},
   "source": [
    "3. Define target variable for usefulness and how to calculate"
   ]
  },
  {
   "cell_type": "markdown",
   "id": "3fb0ecdc",
   "metadata": {},
   "source": [
    "4. ~Determine whether non-text features should be used in initial prediction model~\n",
    "    1. ~Number of reviews~\n",
    "    1. ~Average rating~\n",
    "    1. ~Number verified reviews~\n",
    "    1. ~Genre / Category~\n",
    "    1. ~Author~\n",
    "    1. ~Year of publish~\n",
    "    1. ~Price~"
   ]
  },
  {
   "cell_type": "markdown",
   "id": "eeb1811f",
   "metadata": {},
   "source": [
    "5. Review assignment notebooks from 207 and 266 for data processing ideas. Do all text preprocessing"
   ]
  },
  {
   "cell_type": "markdown",
   "id": "ccc98bf6",
   "metadata": {},
   "source": [
    "## Develop model prototypes"
   ]
  },
  {
   "cell_type": "markdown",
   "id": "69db1556",
   "metadata": {},
   "source": [
    "1. Split reviews into train, test, dev sets"
   ]
  },
  {
   "cell_type": "markdown",
   "id": "7f6d51f6",
   "metadata": {},
   "source": [
    "2. Setup convolutional neural network to predict usefulness"
   ]
  },
  {
   "cell_type": "markdown",
   "id": "48d14546",
   "metadata": {},
   "source": [
    "3. From population of predicted useful reviews, split data into train, test, and dev sets"
   ]
  },
  {
   "cell_type": "markdown",
   "id": "5afeb304",
   "metadata": {},
   "source": [
    "4. Setup T5 transfering learning model to generate \"justification\" text"
   ]
  },
  {
   "cell_type": "code",
   "execution_count": null,
   "id": "3c5fffd3",
   "metadata": {},
   "outputs": [],
   "source": []
  }
 ],
 "metadata": {
  "kernelspec": {
   "display_name": "Python 3 (ipykernel)",
   "language": "python",
   "name": "python3"
  },
  "language_info": {
   "codemirror_mode": {
    "name": "ipython",
    "version": 3
   },
   "file_extension": ".py",
   "mimetype": "text/x-python",
   "name": "python",
   "nbconvert_exporter": "python",
   "pygments_lexer": "ipython3",
   "version": "3.8.8"
  }
 },
 "nbformat": 4,
 "nbformat_minor": 5
}
